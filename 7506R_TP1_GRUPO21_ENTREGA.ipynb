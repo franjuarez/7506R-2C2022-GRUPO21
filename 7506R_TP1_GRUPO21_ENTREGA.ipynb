{
 "cells": [
  {
   "cell_type": "markdown",
   "metadata": {},
   "source": [
    "# <center>Organizaci&oacute;n de Datos</center>\n",
    "## <center>Trabajo Práctico 1 </center>\n",
    "\n",
    "## <center>Grupo 21</center>\n",
    "\n",
    "#### Integrantes: Francisco Juárez, Marcos Bat, Lucas Aldazabal, Valentin Schneider, Gonzalo Rizzo Ehrenbock"
   ]
  },
  {
   "cell_type": "markdown",
   "metadata": {},
   "source": [
    "<b> <strong> <h2>a) Exploración Inicial </h2>"
   ]
  },
  {
   "cell_type": "code",
   "execution_count": 497,
   "metadata": {},
   "outputs": [],
   "source": [
    "import pandas as pd\n",
    "import numpy as np\n",
    "import matplotlib.pyplot as plt\n",
    "import seaborn as sns\n",
    "\n",
    "import warnings\n",
    "warnings.simplefilter(action='ignore', category=FutureWarning)\n",
    "#IR PONIENDO IMPORTS DE LO Q SE VA NECESITANDO"
   ]
  },
  {
   "cell_type": "markdown",
   "metadata": {},
   "source": [
    "Cargamos el archivo y hacemos un mini análisis exploratorio "
   ]
  },
  {
   "cell_type": "code",
   "execution_count": 498,
   "metadata": {},
   "outputs": [
    {
     "data": {
      "text/plain": [
       "(460154, 20)"
      ]
     },
     "execution_count": 498,
     "metadata": {},
     "output_type": "execute_result"
    }
   ],
   "source": [
    " #Importamos el dataset del drive de la materia\n",
    "url='https://drive.google.com/uc?id=1wScqb_M8lq3yL3ZfSZvnLyZbh4ImI7dI'\n",
    "#ds_propiedades_csv = pd.read_csv(url)\n",
    "ds_propiedades_csv.shape"
   ]
  },
  {
   "cell_type": "code",
   "execution_count": 499,
   "metadata": {},
   "outputs": [],
   "source": [
    "ds_propiedades = ds_propiedades_csv.copy()"
   ]
  },
  {
   "cell_type": "markdown",
   "metadata": {},
   "source": [
    "Listamos las columnas para ver que tenemos"
   ]
  },
  {
   "cell_type": "code",
   "execution_count": 500,
   "metadata": {},
   "outputs": [
    {
     "data": {
      "text/plain": [
       "['id',\n",
       " 'start_date',\n",
       " 'end_date',\n",
       " 'created_on',\n",
       " 'latitud',\n",
       " 'longitud',\n",
       " 'place_l2',\n",
       " 'place_l3',\n",
       " 'place_l4',\n",
       " 'place_l5',\n",
       " 'place_l6',\n",
       " 'operation',\n",
       " 'property_type',\n",
       " 'property_rooms',\n",
       " 'property_bedrooms',\n",
       " 'property_surface_total',\n",
       " 'property_surface_covered',\n",
       " 'property_price',\n",
       " 'property_currency',\n",
       " 'property_title']"
      ]
     },
     "execution_count": 500,
     "metadata": {},
     "output_type": "execute_result"
    }
   ],
   "source": [
    "ds_propiedades.columns.tolist()"
   ]
  },
  {
   "cell_type": "markdown",
   "metadata": {},
   "source": [
    "Vemos los tipos de datos asociados a cada una:"
   ]
  },
  {
   "cell_type": "code",
   "execution_count": 501,
   "metadata": {},
   "outputs": [
    {
     "data": {
      "text/plain": [
       "id                           object\n",
       "start_date                   object\n",
       "end_date                     object\n",
       "created_on                   object\n",
       "latitud                     float64\n",
       "longitud                    float64\n",
       "place_l2                     object\n",
       "place_l3                     object\n",
       "place_l4                     object\n",
       "place_l5                     object\n",
       "place_l6                    float64\n",
       "operation                    object\n",
       "property_type                object\n",
       "property_rooms              float64\n",
       "property_bedrooms           float64\n",
       "property_surface_total      float64\n",
       "property_surface_covered    float64\n",
       "property_price              float64\n",
       "property_currency            object\n",
       "property_title               object\n",
       "dtype: object"
      ]
     },
     "execution_count": 501,
     "metadata": {},
     "output_type": "execute_result"
    }
   ],
   "source": [
    "ds_propiedades.dtypes"
   ]
  },
  {
   "cell_type": "markdown",
   "metadata": {},
   "source": [
    "Ahora chequeamos las primeras 5 celdas:"
   ]
  },
  {
   "cell_type": "code",
   "execution_count": 502,
   "metadata": {},
   "outputs": [
    {
     "data": {
      "text/html": [
       "<div>\n",
       "<style scoped>\n",
       "    .dataframe tbody tr th:only-of-type {\n",
       "        vertical-align: middle;\n",
       "    }\n",
       "\n",
       "    .dataframe tbody tr th {\n",
       "        vertical-align: top;\n",
       "    }\n",
       "\n",
       "    .dataframe thead th {\n",
       "        text-align: right;\n",
       "    }\n",
       "</style>\n",
       "<table border=\"1\" class=\"dataframe\">\n",
       "  <thead>\n",
       "    <tr style=\"text-align: right;\">\n",
       "      <th></th>\n",
       "      <th>id</th>\n",
       "      <th>start_date</th>\n",
       "      <th>end_date</th>\n",
       "      <th>created_on</th>\n",
       "      <th>latitud</th>\n",
       "      <th>longitud</th>\n",
       "      <th>place_l2</th>\n",
       "      <th>place_l3</th>\n",
       "      <th>place_l4</th>\n",
       "      <th>place_l5</th>\n",
       "      <th>place_l6</th>\n",
       "      <th>operation</th>\n",
       "      <th>property_type</th>\n",
       "      <th>property_rooms</th>\n",
       "      <th>property_bedrooms</th>\n",
       "      <th>property_surface_total</th>\n",
       "      <th>property_surface_covered</th>\n",
       "      <th>property_price</th>\n",
       "      <th>property_currency</th>\n",
       "      <th>property_title</th>\n",
       "    </tr>\n",
       "  </thead>\n",
       "  <tbody>\n",
       "    <tr>\n",
       "      <th>0</th>\n",
       "      <td>XZq2dFGxBiboHY3Bo/tqlw==</td>\n",
       "      <td>2021-09-09</td>\n",
       "      <td>2022-01-27</td>\n",
       "      <td>2021-09-09</td>\n",
       "      <td>-38.957632</td>\n",
       "      <td>-68.105443</td>\n",
       "      <td>Neuquén</td>\n",
       "      <td>NaN</td>\n",
       "      <td>NaN</td>\n",
       "      <td>NaN</td>\n",
       "      <td>NaN</td>\n",
       "      <td>Venta</td>\n",
       "      <td>Casa</td>\n",
       "      <td>6.0</td>\n",
       "      <td>NaN</td>\n",
       "      <td>NaN</td>\n",
       "      <td>206.0</td>\n",
       "      <td>NaN</td>\n",
       "      <td>NaN</td>\n",
       "      <td>Casa - Capital</td>\n",
       "    </tr>\n",
       "    <tr>\n",
       "      <th>1</th>\n",
       "      <td>8afoK+yMH/rnnlYiktwgNA==</td>\n",
       "      <td>2021-09-09</td>\n",
       "      <td>2021-10-23</td>\n",
       "      <td>2021-09-09</td>\n",
       "      <td>-34.888878</td>\n",
       "      <td>-56.092368</td>\n",
       "      <td>Montevideo</td>\n",
       "      <td>NaN</td>\n",
       "      <td>NaN</td>\n",
       "      <td>NaN</td>\n",
       "      <td>NaN</td>\n",
       "      <td>Venta</td>\n",
       "      <td>Casa</td>\n",
       "      <td>4.0</td>\n",
       "      <td>3.0</td>\n",
       "      <td>193.0</td>\n",
       "      <td>193.0</td>\n",
       "      <td>390000.0</td>\n",
       "      <td>USD</td>\n",
       "      <td>Casa - Malvín</td>\n",
       "    </tr>\n",
       "    <tr>\n",
       "      <th>2</th>\n",
       "      <td>iVaG5rBB47dd1Ya4BMXREA==</td>\n",
       "      <td>2021-09-09</td>\n",
       "      <td>2022-03-09</td>\n",
       "      <td>2021-09-09</td>\n",
       "      <td>-32.488717</td>\n",
       "      <td>-58.257499</td>\n",
       "      <td>Entre Ríos</td>\n",
       "      <td>NaN</td>\n",
       "      <td>NaN</td>\n",
       "      <td>NaN</td>\n",
       "      <td>NaN</td>\n",
       "      <td>Venta</td>\n",
       "      <td>Casa</td>\n",
       "      <td>NaN</td>\n",
       "      <td>NaN</td>\n",
       "      <td>110.0</td>\n",
       "      <td>45.0</td>\n",
       "      <td>47000.0</td>\n",
       "      <td>USD</td>\n",
       "      <td>Casa - Uruguay</td>\n",
       "    </tr>\n",
       "    <tr>\n",
       "      <th>3</th>\n",
       "      <td>QE1QVMWKAHWkd0qT0FtPWA==</td>\n",
       "      <td>2021-09-09</td>\n",
       "      <td>2022-01-27</td>\n",
       "      <td>2021-09-09</td>\n",
       "      <td>-34.900165</td>\n",
       "      <td>-54.808453</td>\n",
       "      <td>Maldonado</td>\n",
       "      <td>NaN</td>\n",
       "      <td>NaN</td>\n",
       "      <td>NaN</td>\n",
       "      <td>NaN</td>\n",
       "      <td>Venta</td>\n",
       "      <td>Casa</td>\n",
       "      <td>NaN</td>\n",
       "      <td>3.0</td>\n",
       "      <td>NaN</td>\n",
       "      <td>180.0</td>\n",
       "      <td>400000.0</td>\n",
       "      <td>USD</td>\n",
       "      <td>Casa - El Chorro</td>\n",
       "    </tr>\n",
       "    <tr>\n",
       "      <th>4</th>\n",
       "      <td>tJ5lSk7IysG/71OGhacNZA==</td>\n",
       "      <td>2021-09-09</td>\n",
       "      <td>2022-01-27</td>\n",
       "      <td>2021-09-09</td>\n",
       "      <td>-38.954528</td>\n",
       "      <td>-68.041862</td>\n",
       "      <td>Neuquén</td>\n",
       "      <td>NaN</td>\n",
       "      <td>NaN</td>\n",
       "      <td>NaN</td>\n",
       "      <td>NaN</td>\n",
       "      <td>Venta</td>\n",
       "      <td>PH</td>\n",
       "      <td>3.0</td>\n",
       "      <td>2.0</td>\n",
       "      <td>NaN</td>\n",
       "      <td>98.0</td>\n",
       "      <td>102000.0</td>\n",
       "      <td>USD</td>\n",
       "      <td>PH - Villa Farrell</td>\n",
       "    </tr>\n",
       "  </tbody>\n",
       "</table>\n",
       "</div>"
      ],
      "text/plain": [
       "                         id  start_date    end_date  created_on    latitud  \\\n",
       "0  XZq2dFGxBiboHY3Bo/tqlw==  2021-09-09  2022-01-27  2021-09-09 -38.957632   \n",
       "1  8afoK+yMH/rnnlYiktwgNA==  2021-09-09  2021-10-23  2021-09-09 -34.888878   \n",
       "2  iVaG5rBB47dd1Ya4BMXREA==  2021-09-09  2022-03-09  2021-09-09 -32.488717   \n",
       "3  QE1QVMWKAHWkd0qT0FtPWA==  2021-09-09  2022-01-27  2021-09-09 -34.900165   \n",
       "4  tJ5lSk7IysG/71OGhacNZA==  2021-09-09  2022-01-27  2021-09-09 -38.954528   \n",
       "\n",
       "    longitud    place_l2 place_l3 place_l4 place_l5  place_l6 operation  \\\n",
       "0 -68.105443     Neuquén      NaN      NaN      NaN       NaN     Venta   \n",
       "1 -56.092368  Montevideo      NaN      NaN      NaN       NaN     Venta   \n",
       "2 -58.257499  Entre Ríos      NaN      NaN      NaN       NaN     Venta   \n",
       "3 -54.808453   Maldonado      NaN      NaN      NaN       NaN     Venta   \n",
       "4 -68.041862     Neuquén      NaN      NaN      NaN       NaN     Venta   \n",
       "\n",
       "  property_type  property_rooms  property_bedrooms  property_surface_total  \\\n",
       "0          Casa             6.0                NaN                     NaN   \n",
       "1          Casa             4.0                3.0                   193.0   \n",
       "2          Casa             NaN                NaN                   110.0   \n",
       "3          Casa             NaN                3.0                     NaN   \n",
       "4            PH             3.0                2.0                     NaN   \n",
       "\n",
       "   property_surface_covered  property_price property_currency  \\\n",
       "0                     206.0             NaN               NaN   \n",
       "1                     193.0        390000.0               USD   \n",
       "2                      45.0         47000.0               USD   \n",
       "3                     180.0        400000.0               USD   \n",
       "4                      98.0        102000.0               USD   \n",
       "\n",
       "       property_title  \n",
       "0      Casa - Capital  \n",
       "1       Casa - Malvín  \n",
       "2      Casa - Uruguay  \n",
       "3    Casa - El Chorro  \n",
       "4  PH - Villa Farrell  "
      ]
     },
     "execution_count": 502,
     "metadata": {},
     "output_type": "execute_result"
    }
   ],
   "source": [
    "ds_propiedades.head()"
   ]
  },
  {
   "cell_type": "markdown",
   "metadata": {},
   "source": [
    "Filtramos el dataframe por lo pedido en la consigna"
   ]
  },
  {
   "cell_type": "code",
   "execution_count": 503,
   "metadata": {},
   "outputs": [],
   "source": [
    "tipos_viviendas = ['Casa', 'PH', 'Departamento']\n",
    "ds_propiedades = ds_propiedades[(ds_propiedades['operation'] == 'Venta') & \n",
    "                        (ds_propiedades['property_type'].isin(tipos_viviendas)) & \n",
    "                        (ds_propiedades['place_l2'] == 'Capital Federal') & \n",
    "                        (ds_propiedades['property_currency'] == 'USD')]\n",
    "\n",
    "#reseteamos index por que el dataframe quedo mal indexado luego de filtrar segun los datos que nos interesan\n",
    "ds_propiedades.reset_index(drop=True, inplace=True)\n",
    "\n",
    "ds_propiedades.drop(columns=['id', 'start_date', 'end_date', 'created_on', 'place_l2', 'operation', 'property_currency'], inplace=True)"
   ]
  },
  {
   "cell_type": "markdown",
   "metadata": {},
   "source": [
    "Variables Cuantitativas: calculamos r medidas de resumen: media, mediana, q1,\n",
    "q3,moda. <br>"
   ]
  },
  {
   "cell_type": "code",
   "execution_count": 504,
   "metadata": {},
   "outputs": [
    {
     "data": {
      "text/html": [
       "<div>\n",
       "<style scoped>\n",
       "    .dataframe tbody tr th:only-of-type {\n",
       "        vertical-align: middle;\n",
       "    }\n",
       "\n",
       "    .dataframe tbody tr th {\n",
       "        vertical-align: top;\n",
       "    }\n",
       "\n",
       "    .dataframe thead th {\n",
       "        text-align: right;\n",
       "    }\n",
       "</style>\n",
       "<table border=\"1\" class=\"dataframe\">\n",
       "  <thead>\n",
       "    <tr style=\"text-align: right;\">\n",
       "      <th></th>\n",
       "      <th>property_rooms</th>\n",
       "      <th>property_bedrooms</th>\n",
       "      <th>property_surface_total</th>\n",
       "      <th>property_surface_covered</th>\n",
       "      <th>property_price</th>\n",
       "      <th>latitud</th>\n",
       "      <th>longitud</th>\n",
       "    </tr>\n",
       "  </thead>\n",
       "  <tbody>\n",
       "    <tr>\n",
       "      <th>media</th>\n",
       "      <td>2.822799</td>\n",
       "      <td>2.014629</td>\n",
       "      <td>109.09297</td>\n",
       "      <td>87.931932</td>\n",
       "      <td>226238.207185</td>\n",
       "      <td>-34.591481</td>\n",
       "      <td>-58.449795</td>\n",
       "    </tr>\n",
       "    <tr>\n",
       "      <th>q1</th>\n",
       "      <td>2.000000</td>\n",
       "      <td>1.000000</td>\n",
       "      <td>45.00000</td>\n",
       "      <td>40.000000</td>\n",
       "      <td>95000.000000</td>\n",
       "      <td>-34.615975</td>\n",
       "      <td>-58.466522</td>\n",
       "    </tr>\n",
       "    <tr>\n",
       "      <th>mediana</th>\n",
       "      <td>3.000000</td>\n",
       "      <td>2.000000</td>\n",
       "      <td>65.00000</td>\n",
       "      <td>58.000000</td>\n",
       "      <td>143900.000000</td>\n",
       "      <td>-34.595790</td>\n",
       "      <td>-58.439000</td>\n",
       "    </tr>\n",
       "    <tr>\n",
       "      <th>q3</th>\n",
       "      <td>4.000000</td>\n",
       "      <td>3.000000</td>\n",
       "      <td>105.00000</td>\n",
       "      <td>88.000000</td>\n",
       "      <td>237000.000000</td>\n",
       "      <td>-34.577413</td>\n",
       "      <td>-58.408862</td>\n",
       "    </tr>\n",
       "    <tr>\n",
       "      <th>moda</th>\n",
       "      <td>3.000000</td>\n",
       "      <td>1.000000</td>\n",
       "      <td>50.00000</td>\n",
       "      <td>40.000000</td>\n",
       "      <td>110000.000000</td>\n",
       "      <td>-34.541250</td>\n",
       "      <td>-58.472966</td>\n",
       "    </tr>\n",
       "  </tbody>\n",
       "</table>\n",
       "</div>"
      ],
      "text/plain": [
       "         property_rooms  property_bedrooms  property_surface_total  \\\n",
       "media          2.822799           2.014629               109.09297   \n",
       "q1             2.000000           1.000000                45.00000   \n",
       "mediana        3.000000           2.000000                65.00000   \n",
       "q3             4.000000           3.000000               105.00000   \n",
       "moda           3.000000           1.000000                50.00000   \n",
       "\n",
       "         property_surface_covered  property_price    latitud   longitud  \n",
       "media                   87.931932   226238.207185 -34.591481 -58.449795  \n",
       "q1                      40.000000    95000.000000 -34.615975 -58.466522  \n",
       "mediana                 58.000000   143900.000000 -34.595790 -58.439000  \n",
       "q3                      88.000000   237000.000000 -34.577413 -58.408862  \n",
       "moda                    40.000000   110000.000000 -34.541250 -58.472966  "
      ]
     },
     "execution_count": 504,
     "metadata": {},
     "output_type": "execute_result"
    }
   ],
   "source": [
    "variables_cuantitativas = [\"property_rooms\", \"property_bedrooms\", \"property_surface_total\", \"property_surface_covered\", \"property_price\", \"latitud\", \"longitud\"]\n",
    "ds_variables_cuantitativas = ds_propiedades[variables_cuantitativas]\n",
    "ds_variables_cuantitativas_resumen = ds_variables_cuantitativas.describe()\n",
    "ds_variables_cuantitativas_resumen.drop(['count', 'min', 'max', 'std'], inplace=True) #Sacamos las variables que no nos importan\n",
    "\n",
    "\n",
    "#calcualamos la moda\n",
    "mode = ds_propiedades[variables_cuantitativas].mode()\n",
    "ds_variables_cuantitativas_resumen = ds_variables_cuantitativas_resumen.append(mode) #La agregamos al dataframe\n",
    "\n",
    "ds_variables_cuantitativas_resumen.rename(index={'50%': 'mediana', '25%': 'q1', '75%': 'q3', 0:'moda', 'mean':'media'}, inplace=True) #renombramos labels\n",
    "ds_variables_cuantitativas_resumen\n"
   ]
  },
  {
   "cell_type": "markdown",
   "metadata": {},
   "source": [
    "Variables Cualitativas: mostramos cantidad de valores posibles, y frecuencias de cada uno.\n",
    "Elegimos como variables cualitativas a \"place_l3\" y \"property type\". Decidimos no incluir las siguientes por estos motivos:\n",
    "\"place_l2\" y \"property_currency\": Al ya estar filtrados, todos los valores seran el mismo.\n",
    "\"property_title\": Ya que seran todos distintos.\n",
    "\"place_l4\", \"place_l5\", \"place_l6\" : Ya que son todos nulos para el filtro seleccionado."
   ]
  },
  {
   "cell_type": "code",
   "execution_count": 505,
   "metadata": {},
   "outputs": [
    {
     "data": {
      "text/plain": [
       "Palermo                 14308\n",
       "Belgrano                 8898\n",
       "Caballito                7168\n",
       "Recoleta                 6282\n",
       "Villa Urquiza            4673\n",
       "Almagro                  4081\n",
       "Nuñez                    3546\n",
       "Villa Crespo             3189\n",
       "Flores                   3110\n",
       "Barrio Norte             2975\n",
       "Balvanera                2553\n",
       "Colegiales               1951\n",
       "Villa Devoto             1921\n",
       "Villa del Parque         1829\n",
       "Saavedra                 1829\n",
       "Puerto Madero            1493\n",
       "San Telmo                1380\n",
       "San Cristobal            1300\n",
       "San Nicolás              1295\n",
       "Retiro                   1250\n",
       "Barracas                 1246\n",
       "Boedo                    1237\n",
       "Floresta                 1195\n",
       "Monserrat                1115\n",
       "Parque Chacabuco         1073\n",
       "Villa Pueyrredón         1011\n",
       "Coghlan                   984\n",
       "Villa Luro                727\n",
       "Mataderos                 719\n",
       "Chacarita                 697\n",
       "Liniers                   668\n",
       "Villa Ortuzar             662\n",
       "Parque Patricios          639\n",
       "Villa Lugano              612\n",
       "Paternal                  566\n",
       "Congreso                  535\n",
       "Monte Castro              499\n",
       "Constitución              453\n",
       "Villa Santa Rita          438\n",
       "Villa General Mitre       435\n",
       "Once                      407\n",
       "Parque Avellaneda         380\n",
       "Parque Chas               373\n",
       "Boca                      365\n",
       "Versalles                 315\n",
       "Velez Sarsfield           242\n",
       "Agronomía                 235\n",
       "Abasto                    231\n",
       "Pompeya                   216\n",
       "Villa Real                142\n",
       "Tribunales                116\n",
       "Parque Centenario          93\n",
       "Centro / Microcentro       76\n",
       "Villa Soldati              45\n",
       "Villa Riachuelo            35\n",
       "Las Cañitas                12\n",
       "Catalinas                   7\n",
       "Name: place_l3, dtype: int64"
      ]
     },
     "execution_count": 505,
     "metadata": {},
     "output_type": "execute_result"
    }
   ],
   "source": [
    "variables_cualitativas = ['place_l3', 'property_type']\n",
    "ds_propiedades.place_l3.value_counts()"
   ]
  },
  {
   "cell_type": "markdown",
   "metadata": {},
   "source": [
    "Una medida muy utilizada en la venta de propiedades es el precio por metro cuadrado según el barrio. Por lo tanto, agregamos una columna con este valor."
   ]
  },
  {
   "cell_type": "code",
   "execution_count": 506,
   "metadata": {},
   "outputs": [],
   "source": [
    "\n",
    "# ds_propiedades['price_per_m2'] = ds_propiedades['property_price'] / ds_propiedades['property_surface_total']\n",
    "# #average price per m2 by place_l3\n",
    "# ds_propiedades.groupby('place_l3')['price_per_m2'].mean().sort_values(ascending=False)\n",
    "# # precio_mx2_barrio\n",
    "\n",
    "\n",
    "# TO DO!!!!!!!!!!!!!!!!!!!!!!!!!!!!!!!!!!!!!!!!!!!!!!!11\n",
    "\n",
    "\n"
   ]
  },
  {
   "cell_type": "code",
   "execution_count": 507,
   "metadata": {},
   "outputs": [
    {
     "data": {
      "image/png": "[encoded data removed]",
      "text/plain": [
       "<Figure size 1800x936 with 1 Axes>"
      ]
     },
     "metadata": {
      "needs_background": "light"
     },
     "output_type": "display_data"
    }
   ],
   "source": [
    "#graficamos barplot de place_l3\n",
    "plt.figure(figsize=(25, 13))\n",
    "sns.countplot(x='place_l3', data=ds_propiedades, order=ds_propiedades.place_l3.value_counts().index)\n",
    "plt.xticks(rotation=90)\n",
    "plt.show()"
   ]
  },
  {
   "cell_type": "code",
   "execution_count": 508,
   "metadata": {},
   "outputs": [
    {
     "data": {
      "text/plain": [
       "Departamento    80829\n",
       "PH               9266\n",
       "Casa             4154\n",
       "Name: property_type, dtype: int64"
      ]
     },
     "execution_count": 508,
     "metadata": {},
     "output_type": "execute_result"
    }
   ],
   "source": [
    "ds_propiedades.property_type.value_counts()"
   ]
  },
  {
   "cell_type": "code",
   "execution_count": 509,
   "metadata": {},
   "outputs": [
    {
     "data": {
      "image/png": "[encoded data removed]",
      "text/plain": [
       "<Figure size 1080x720 with 1 Axes>"
      ]
     },
     "metadata": {
      "needs_background": "light"
     },
     "output_type": "display_data"
    }
   ],
   "source": [
    "#graficamos barplot de property_types\n",
    "plt.figure(figsize=(15, 10))\n",
    "sns.countplot(x='property_type', data=ds_propiedades, order=ds_propiedades.property_type.value_counts().index)\n",
    "\n",
    "plt.show()"
   ]
  },
  {
   "cell_type": "markdown",
   "metadata": {},
   "source": [
    "Las variables que percibimos irrelevantes para el análisis fueron: Los Ids ya que no aportan valor al analizarlos y las mencionadas arriba, que decidimos no analizarlas en el caso cualitativo y cuantitativo."
   ]
  },
  {
   "cell_type": "markdown",
   "metadata": {},
   "source": [
    "Siguiendo con el análisis gráfico de las distribuciones de las variables, hacemos un pairplot:\n"
   ]
  },
  {
   "cell_type": "code",
   "execution_count": 510,
   "metadata": {},
   "outputs": [],
   "source": [
    "#DESCOMENTAR\n",
    "#sns.pairplot(ds_propiedades[variables_cuantitativas], diag_kind='kde', height=3)\n",
    "#plt.show()"
   ]
  },
  {
   "cell_type": "markdown",
   "metadata": {},
   "source": [
    "Análisis de las correlaciones:"
   ]
  },
  {
   "cell_type": "code",
   "execution_count": 511,
   "metadata": {},
   "outputs": [
    {
     "data": {
      "text/html": [
       "<div>\n",
       "<style scoped>\n",
       "    .dataframe tbody tr th:only-of-type {\n",
       "        vertical-align: middle;\n",
       "    }\n",
       "\n",
       "    .dataframe tbody tr th {\n",
       "        vertical-align: top;\n",
       "    }\n",
       "\n",
       "    .dataframe thead th {\n",
       "        text-align: right;\n",
       "    }\n",
       "</style>\n",
       "<table border=\"1\" class=\"dataframe\">\n",
       "  <thead>\n",
       "    <tr style=\"text-align: right;\">\n",
       "      <th></th>\n",
       "      <th>property_rooms</th>\n",
       "      <th>property_bedrooms</th>\n",
       "      <th>property_surface_total</th>\n",
       "      <th>property_surface_covered</th>\n",
       "      <th>property_price</th>\n",
       "      <th>latitud</th>\n",
       "      <th>longitud</th>\n",
       "    </tr>\n",
       "  </thead>\n",
       "  <tbody>\n",
       "    <tr>\n",
       "      <th>property_rooms</th>\n",
       "      <td>1.000000</td>\n",
       "      <td>0.871940</td>\n",
       "      <td>0.067211</td>\n",
       "      <td>0.076097</td>\n",
       "      <td>0.488934</td>\n",
       "      <td>0.005521</td>\n",
       "      <td>-0.008324</td>\n",
       "    </tr>\n",
       "    <tr>\n",
       "      <th>property_bedrooms</th>\n",
       "      <td>0.871940</td>\n",
       "      <td>1.000000</td>\n",
       "      <td>0.067702</td>\n",
       "      <td>0.075075</td>\n",
       "      <td>0.425386</td>\n",
       "      <td>0.003162</td>\n",
       "      <td>-0.008556</td>\n",
       "    </tr>\n",
       "    <tr>\n",
       "      <th>property_surface_total</th>\n",
       "      <td>0.067211</td>\n",
       "      <td>0.067702</td>\n",
       "      <td>1.000000</td>\n",
       "      <td>0.604311</td>\n",
       "      <td>0.085235</td>\n",
       "      <td>0.025348</td>\n",
       "      <td>-0.015056</td>\n",
       "    </tr>\n",
       "    <tr>\n",
       "      <th>property_surface_covered</th>\n",
       "      <td>0.076097</td>\n",
       "      <td>0.075075</td>\n",
       "      <td>0.604311</td>\n",
       "      <td>1.000000</td>\n",
       "      <td>0.056238</td>\n",
       "      <td>0.002352</td>\n",
       "      <td>-0.001155</td>\n",
       "    </tr>\n",
       "    <tr>\n",
       "      <th>property_price</th>\n",
       "      <td>0.488934</td>\n",
       "      <td>0.425386</td>\n",
       "      <td>0.085235</td>\n",
       "      <td>0.056238</td>\n",
       "      <td>1.000000</td>\n",
       "      <td>0.016635</td>\n",
       "      <td>0.023314</td>\n",
       "    </tr>\n",
       "    <tr>\n",
       "      <th>latitud</th>\n",
       "      <td>0.005521</td>\n",
       "      <td>0.003162</td>\n",
       "      <td>0.025348</td>\n",
       "      <td>0.002352</td>\n",
       "      <td>0.016635</td>\n",
       "      <td>1.000000</td>\n",
       "      <td>-0.239235</td>\n",
       "    </tr>\n",
       "    <tr>\n",
       "      <th>longitud</th>\n",
       "      <td>-0.008324</td>\n",
       "      <td>-0.008556</td>\n",
       "      <td>-0.015056</td>\n",
       "      <td>-0.001155</td>\n",
       "      <td>0.023314</td>\n",
       "      <td>-0.239235</td>\n",
       "      <td>1.000000</td>\n",
       "    </tr>\n",
       "  </tbody>\n",
       "</table>\n",
       "</div>"
      ],
      "text/plain": [
       "                          property_rooms  property_bedrooms  \\\n",
       "property_rooms                  1.000000           0.871940   \n",
       "property_bedrooms               0.871940           1.000000   \n",
       "property_surface_total          0.067211           0.067702   \n",
       "property_surface_covered        0.076097           0.075075   \n",
       "property_price                  0.488934           0.425386   \n",
       "latitud                         0.005521           0.003162   \n",
       "longitud                       -0.008324          -0.008556   \n",
       "\n",
       "                          property_surface_total  property_surface_covered  \\\n",
       "property_rooms                          0.067211                  0.076097   \n",
       "property_bedrooms                       0.067702                  0.075075   \n",
       "property_surface_total                  1.000000                  0.604311   \n",
       "property_surface_covered                0.604311                  1.000000   \n",
       "property_price                          0.085235                  0.056238   \n",
       "latitud                                 0.025348                  0.002352   \n",
       "longitud                               -0.015056                 -0.001155   \n",
       "\n",
       "                          property_price   latitud  longitud  \n",
       "property_rooms                  0.488934  0.005521 -0.008324  \n",
       "property_bedrooms               0.425386  0.003162 -0.008556  \n",
       "property_surface_total          0.085235  0.025348 -0.015056  \n",
       "property_surface_covered        0.056238  0.002352 -0.001155  \n",
       "property_price                  1.000000  0.016635  0.023314  \n",
       "latitud                         0.016635  1.000000 -0.239235  \n",
       "longitud                        0.023314 -0.239235  1.000000  "
      ]
     },
     "execution_count": 511,
     "metadata": {},
     "output_type": "execute_result"
    }
   ],
   "source": [
    "ds_propiedades[variables_cuantitativas].corr()"
   ]
  },
  {
   "cell_type": "code",
   "execution_count": 512,
   "metadata": {},
   "outputs": [
    {
     "data": {
      "image/png": "[encoded data removed]",
      "text/plain": [
       "<Figure size 1080x720 with 2 Axes>"
      ]
     },
     "metadata": {
      "needs_background": "light"
     },
     "output_type": "display_data"
    }
   ],
   "source": [
    "plt.figure(figsize=(15, 10))\n",
    "sns.heatmap(ds_propiedades[variables_cuantitativas].corr(),annot=True,cmap=\"YlGnBu\")\n",
    "plt.show()"
   ]
  },
  {
   "cell_type": "markdown",
   "metadata": {},
   "source": [
    "<h2>Conclusiones sobre los datos </h2>\n",
    "Correlaciones: Podemos ver que las que más estan relacionadas son:\n",
    "    <br>* La cantidad de habitaciones con la cantidad de dormitorios, esto nos parece bien porque las viviendas más grandes, suelen tener más dormitorios\n",
    "    <br>* La superficie total con la superficie cubierta, lo que tiene sentido ya que la superficie total incluye a la superficie cubierta. \n",
    "    <br>* La cantidad de habitaciones y el precio, esto no nos sorprende debido a que normalmente a mayor cantidad de habitaciones, más grande es la vivienda y más cara se vuelve (lo mismo con la cantidad de dormitorios y el precio)\n",
    "\n",
    "Por otro lado, nos sorprende que no haya correlacion entre la superficie y el precio. Esto puede deberse a que hay viviendas grandes que son baratas al no estar en un barrio muy cotizado y otras pequeñas que son muy caras. <br>\n",
    "\n",
    "En la distribución de tipo de vivienda notamos gran cantidad de departamentos frente a la cantidad de casa y PHs. Esto puede deberse a que la mayoría de las viviendas en Capital Federal son departamentos. <br>  <br>\n",
    "En la distribución de localidades, notamos una gran disparidad entre estas. Los lugares con mayor cantidad de viviendas en venta son Palermo, Belgrano, Caballito y Recoleta. Esto puede deberse a que son las zonas mas céntricas de la ciudad. <br>  <br>\n",
    "Notamos que la media de la logitud y la longitud, no es el centro geografico de la ciudad (Caballito) si no que esta más cerca de Palermo, esto se debe a que la mayoría de los anuncios de venta publicados son de viviendas en este barrio. <br>  <br>\n",
    "\n",
    "\n",
    "Notamos que las variables \"place_l6\", \"place_l5\" y \"place_l4\" tienen todos sus valores nulos, por lo que no aportan información. <br>\n",
    "\n"
   ]
  },
  {
   "cell_type": "markdown",
   "metadata": {},
   "source": [
    "<b> <strong> <h2>b) Datos Faltantes </h2>"
   ]
  },
  {
   "cell_type": "markdown",
   "metadata": {},
   "source": [
    "Vemos los porcentajes de datos nulos por columna"
   ]
  },
  {
   "cell_type": "code",
   "execution_count": 513,
   "metadata": {},
   "outputs": [
    {
     "name": "stdout",
     "output_type": "stream",
     "text": [
      "latitud                       3.957602\n",
      "longitud                      3.957602\n",
      "place_l3                      0.442445\n",
      "place_l4                     96.134707\n",
      "place_l5                    100.000000\n",
      "place_l6                    100.000000\n",
      "property_type                 0.000000\n",
      "property_rooms                1.107704\n",
      "property_bedrooms            11.657418\n",
      "property_surface_total        5.139577\n",
      "property_surface_covered      3.558658\n",
      "property_price                0.000000\n",
      "property_title                0.000000\n",
      "dtype: float64\n"
     ]
    }
   ],
   "source": [
    "filas_totales=ds_propiedades.shape[0]\n",
    "df_nulos = ds_propiedades.isna().sum()/filas_totales*100\n",
    "print(df_nulos)"
   ]
  },
  {
   "cell_type": "markdown",
   "metadata": {},
   "source": [
    "Graficamos:"
   ]
  },
  {
   "cell_type": "code",
   "execution_count": 514,
   "metadata": {},
   "outputs": [
    {
     "data": {
      "image/png": "[encoded data removed]",
      "text/plain": [
       "<Figure size 1080x720 with 1 Axes>"
      ]
     },
     "metadata": {
      "needs_background": "light"
     },
     "output_type": "display_data"
    }
   ],
   "source": [
    "from matplotlib.pyplot import xlabel\n",
    "\n",
    "plt.figure(figsize=(15, 10))\n",
    "#plot de valores nulos por columna\n",
    "df_nulos.sort_values(ascending=False, inplace=True)\n",
    "df_nulos.plot.bar(xlabel='Columnas', ylabel='Porcentaje de valores nulos', title='Porcentaje de valores nulos por columna')\n",
    "plt.show()"
   ]
  },
  {
   "cell_type": "markdown",
   "metadata": {},
   "source": [
    "Calculamos los datos faltantes por fila"
   ]
  },
  {
   "cell_type": "code",
   "execution_count": 515,
   "metadata": {},
   "outputs": [
    {
     "name": "stdout",
     "output_type": "stream",
     "text": [
      "0        46.153846\n",
      "1        23.076923\n",
      "2        23.076923\n",
      "3        30.769231\n",
      "4        30.769231\n",
      "           ...    \n",
      "94244    23.076923\n",
      "94245    23.076923\n",
      "94246    23.076923\n",
      "94247    23.076923\n",
      "94248    23.076923\n",
      "Length: 94249, dtype: float64\n"
     ]
    }
   ],
   "source": [
    "df_nulos_filas = ds_propiedades.isnull().sum(axis=1)/ds_propiedades.shape[1]*100\n",
    "print(df_nulos_filas)"
   ]
  },
  {
   "cell_type": "markdown",
   "metadata": {},
   "source": [
    "Graficamos:"
   ]
  },
  {
   "cell_type": "code",
   "execution_count": 516,
   "metadata": {},
   "outputs": [
    {
     "data": {
      "image/png": "[encoded data removed]",
      "text/plain": [
       "<Figure size 1080x720 with 1 Axes>"
      ]
     },
     "metadata": {
      "needs_background": "light"
     },
     "output_type": "display_data"
    }
   ],
   "source": [
    "plt.figure(figsize=(15, 10))\n",
    "\n",
    "df_nulos_filas.sort_values(inplace=True)\n",
    "df_nulos_filas.plot.hist(bins=20, xlabel='Porcentaje de valores nulos', ylabel='Cantidad de filas', title='Porcentaje de valores nulos por fila')\n",
    "\n",
    "plt.show()"
   ]
  },
  {
   "cell_type": "markdown",
   "metadata": {},
   "source": [
    "Acá podemos ver que las variables \"place_l6\", \"place_l5\" y \"place_l4\" tienen una grandísima cantidad de valores nulos. Por esto decidimos eliminarlas.\n"
   ]
  },
  {
   "cell_type": "code",
   "execution_count": 517,
   "metadata": {},
   "outputs": [
    {
     "name": "stdout",
     "output_type": "stream",
     "text": [
      "Columnas restantes: ['latitud', 'longitud', 'place_l3', 'property_type', 'property_rooms', 'property_bedrooms', 'property_surface_total', 'property_surface_covered', 'property_price', 'property_title']\n"
     ]
    }
   ],
   "source": [
    "columnas_eliminar_NANs=[\"place_l6\", \"place_l5\", \"place_l4\"]\n",
    "ds_propiedades.drop(columnas_eliminar_NANs, axis='columns', inplace=True)\n",
    "print(f'Columnas restantes: {ds_propiedades.columns.tolist()}')"
   ]
  },
  {
   "cell_type": "markdown",
   "metadata": {},
   "source": [
    "Primero que nada vamos a chequear si hay filas duplicadas en el dataset:"
   ]
  },
  {
   "cell_type": "code",
   "execution_count": 518,
   "metadata": {},
   "outputs": [
    {
     "name": "stdout",
     "output_type": "stream",
     "text": [
      "Cantidad de duplicadas: 11315\n",
      "Cantidad de casas duplicadas: 377\n",
      "Cantidad de ph duplicadas: 843\n",
      "Cantidad de departamentos duplicadas: 10095\n"
     ]
    }
   ],
   "source": [
    "duplicados = ds_propiedades[ds_propiedades.duplicated()]\n",
    "\n",
    "duplicados_casa = duplicados[duplicados['property_type'] == 'Casa']\n",
    "duplicados_ph = duplicados[duplicados['property_type'] == 'PH']\n",
    "duplicados_departamentos = duplicados[duplicados['property_type'] == 'Departamento']\n",
    "\n",
    "print(f\"Cantidad de duplicadas: {duplicados.shape[0]}\")\n",
    "print(f\"Cantidad de casas duplicadas: {duplicados_casa.shape[0]}\")\n",
    "print(f'Cantidad de ph duplicadas: {duplicados_ph.shape[0]}')\n",
    "print(f'Cantidad de departamentos duplicadas: {duplicados_departamentos.shape[0]}')"
   ]
  },
  {
   "cell_type": "markdown",
   "metadata": {},
   "source": [
    "Como puede haber varios departamentos y PHs en la mismas coordenadas de Latitud y Longitud, ya que esto mide en el plano XY nomás, no podemos asumir que dos propiedades que compartan la Latitud y Longitud sean la misma. En cambio, para el caso de las Casas, es imposible que hayan dos casas en exactamente el mismo lugar, así que decidimos droppear estas filas del dataset como ya que inferimos que son duplicadas. Tampoco podemos utilizar el titulo de la publicación ya que en varios casos donde hay publicaciones de departamentos y/o PHs de la misma propiedad horizontal, el titulo es el mismo debido a que es la constructora vendiendo las propiedades a estrenar. "
   ]
  },
  {
   "cell_type": "code",
   "execution_count": 519,
   "metadata": {},
   "outputs": [],
   "source": [
    "ds_propiedades.drop(duplicados_casa.index, inplace=True)"
   ]
  },
  {
   "cell_type": "markdown",
   "metadata": {},
   "source": [
    "Para bedrooms vimos que existe una gran correlacion con las rooms, no solo por informacion del dataframe, sino tambien por el dominio del problema donde sabemos que en rooms estan incluidas las bedrooms. Por esto decidimos hacer una regresion lineal para completar los datos faltantes"
   ]
  },
  {
   "cell_type": "code",
   "execution_count": 520,
   "metadata": {},
   "outputs": [],
   "source": [
    "from matplotlib.pyplot import plot\n",
    "from sklearn.linear_model import LinearRegression\n",
    "\n",
    "from sklearn.model_selection import train_test_split\n",
    "from sklearn.metrics import mean_squared_error, r2_score\n",
    "from sklearn.experimental import enable_iterative_imputer\n",
    "from sklearn.impute import IterativeImputer\n",
    "\n",
    "#Hacemos una regresion lineal para predecir los valores nulos de property_bedrooms\n",
    "bedrooms_y_rooms_por_depto = ds_propiedades[['property_bedrooms', 'property_rooms', 'property_price']].copy()\n",
    "\n",
    "lr = LinearRegression()\n",
    "imp = IterativeImputer(estimator=lr, missing_values=np.nan, max_iter=20, verbose=0, random_state=0)\n",
    "\n",
    "bedrooms_y_rooms_por_depto_completo = imp.fit_transform(bedrooms_y_rooms_por_depto)\n",
    "\n",
    "bedrooms_y_rooms_por_depto_completo = pd.DataFrame(bedrooms_y_rooms_por_depto_completo, columns=['property_bedrooms', 'property_rooms', 'property_price'])\n",
    "\n",
    "bedrooms_y_rooms_por_depto_completo['property_rooms'] = bedrooms_y_rooms_por_depto_completo['property_rooms'].astype(int)\n",
    "bedrooms_y_rooms_por_depto_completo['property_bedrooms'] = bedrooms_y_rooms_por_depto_completo['property_bedrooms'].astype(int)"
   ]
  },
  {
   "cell_type": "markdown",
   "metadata": {},
   "source": [
    "Para demostrar que al eliminar las filas con valores nulos, no se pierde ni altera información graficamos  un scatterplot de la distribucionentre rooms y bedrooms previa y posterior a la eliminación de los valores nulos, se ve sque los que eran nulos antes, ahora se predicen."
   ]
  },
  {
   "cell_type": "code",
   "execution_count": 521,
   "metadata": {},
   "outputs": [
    {
     "data": {
      "image/png": "[encoded data removed]",
      "text/plain": [
       "<Figure size 1080x720 with 1 Axes>"
      ]
     },
     "metadata": {
      "needs_background": "light"
     },
     "output_type": "display_data"
    }
   ],
   "source": [
    "plt.figure(figsize=(15, 10))\n",
    "plt.scatter(x=bedrooms_y_rooms_por_depto_completo['property_rooms'], y=bedrooms_y_rooms_por_depto_completo['property_bedrooms'], color='blue')\n",
    "# t.scatter(x=bedrooms_y_rooms_por_depto['property_rooms'], y=bedrooms_y_rooms_por_depto['property_bedrooms'], color=\"blue\", s=5.0)\n",
    "\n",
    "#PONER LEYENDASSSSSSSS\n",
    "\n",
    "filas_datos_faltantes = bedrooms_y_rooms_por_depto[bedrooms_y_rooms_por_depto.isnull().any(axis=1)]\n",
    "datos_agregados = filas_datos_faltantes.merge(bedrooms_y_rooms_por_depto_completo, how='inner', left_index=True, right_index=True)[['property_bedrooms_y', 'property_rooms_y']]\n",
    "\n",
    "plt.scatter(x=datos_agregados['property_bedrooms_y'], y=datos_agregados['property_rooms_y'], color='red', s=15)\n",
    "\n",
    "plt.show()"
   ]
  },
  {
   "cell_type": "code",
   "execution_count": 522,
   "metadata": {},
   "outputs": [
    {
     "name": "stdout",
     "output_type": "stream",
     "text": [
      "Cantidad de filas con latitud NaN: 3719\n",
      "Cantidad de filas con longitud NaN: 3719,\n",
      "Cantidad de filas con Latitud y Longitud NaN: 3719.\n",
      "Entonces las filas que que tienen Latitud como Nan y no a longitud son: 0\n"
     ]
    }
   ],
   "source": [
    "filas_latitud_NaN = ds_propiedades[ds_propiedades['latitud'].isnull()].shape[0]\n",
    "filas_longitud_NaN = ds_propiedades[ds_propiedades['longitud'].isnull()].shape[0]\n",
    "filas_latitud_y_longitud_Nan = ds_propiedades[ds_propiedades['latitud'].isnull() & ds_propiedades['longitud'].isnull()].shape[0] #Estos los droppeamos, y para predecir longitud y latitud usamos las filas que si tengan place_l3\n",
    "\n",
    "print(f\"Cantidad de filas con latitud NaN: {filas_latitud_NaN}\")\n",
    "print(f'Cantidad de filas con longitud NaN: {filas_longitud_NaN},')\n",
    "print(f'Cantidad de filas con Latitud y Longitud NaN: {filas_latitud_y_longitud_Nan}.')\n",
    "print(f'Entonces las filas que que tienen Latitud como Nan y no a longitud son: {filas_latitud_NaN-filas_latitud_y_longitud_Nan}')"
   ]
  },
  {
   "cell_type": "markdown",
   "metadata": {},
   "source": [
    "Para predecir la Latitud y Longitud de las viviendas faltantes, al ver que todas las filas en las que falta la Latitud, también falta la Longitud. Podemos usar el barrio (place_l3) de esta para tener una certeza de donde se puede encontrar. Así que calculamos la mediana de Latitud y Longitud para cada barrio (place_l3) y ponemos estas en su lugar. "
   ]
  },
  {
   "cell_type": "markdown",
   "metadata": {},
   "source": [
    "Primero droppeamos las filas que tienen como valores faltantes al barrio (place_l3) y a la latitud y longitud"
   ]
  },
  {
   "cell_type": "code",
   "execution_count": 523,
   "metadata": {},
   "outputs": [],
   "source": [
    "ds_propiedades.drop(ds_propiedades[ds_propiedades['place_l3'].isnull() & \n",
    "                    ds_propiedades['latitud'].isnull()].index,\n",
    "                    inplace=True)"
   ]
  },
  {
   "cell_type": "markdown",
   "metadata": {},
   "source": [
    "Completamos los valores faltantes de longitud y latitud con las medianas del barrio en el que se ubiquen "
   ]
  },
  {
   "cell_type": "code",
   "execution_count": 524,
   "metadata": {},
   "outputs": [
    {
     "data": {
      "text/html": [
       "<div>\n",
       "<style scoped>\n",
       "    .dataframe tbody tr th:only-of-type {\n",
       "        vertical-align: middle;\n",
       "    }\n",
       "\n",
       "    .dataframe tbody tr th {\n",
       "        vertical-align: top;\n",
       "    }\n",
       "\n",
       "    .dataframe thead th {\n",
       "        text-align: right;\n",
       "    }\n",
       "</style>\n",
       "<table border=\"1\" class=\"dataframe\">\n",
       "  <thead>\n",
       "    <tr style=\"text-align: right;\">\n",
       "      <th></th>\n",
       "      <th>latitud</th>\n",
       "      <th>longitud</th>\n",
       "      <th>place_l3</th>\n",
       "      <th>property_type</th>\n",
       "      <th>property_rooms</th>\n",
       "      <th>property_bedrooms</th>\n",
       "      <th>property_surface_total</th>\n",
       "      <th>property_surface_covered</th>\n",
       "      <th>property_price</th>\n",
       "      <th>property_title</th>\n",
       "    </tr>\n",
       "  </thead>\n",
       "  <tbody>\n",
       "  </tbody>\n",
       "</table>\n",
       "</div>"
      ],
      "text/plain": [
       "Empty DataFrame\n",
       "Columns: [latitud, longitud, place_l3, property_type, property_rooms, property_bedrooms, property_surface_total, property_surface_covered, property_price, property_title]\n",
       "Index: []"
      ]
     },
     "execution_count": 524,
     "metadata": {},
     "output_type": "execute_result"
    }
   ],
   "source": [
    "median_coord_place_l3 = ds_propiedades.groupby('place_l3')[['latitud', 'longitud']].median()\n",
    "\n",
    "\n",
    "ds_propiedades['latitud'] = ds_propiedades.apply(lambda x: median_coord_place_l3.loc[x['place_l3']]['latitud'] if np.isnan(x['latitud']) else x['latitud'], axis=1)\n",
    "ds_propiedades['longitud'] = ds_propiedades.apply(lambda x: median_coord_place_l3.loc[x['place_l3']]['longitud'] if np.isnan(x['longitud']) else x['longitud'], axis=1)\n",
    "\n",
    "ds_propiedades[ds_propiedades['latitud'].isnull()]"
   ]
  },
  {
   "cell_type": "markdown",
   "metadata": {},
   "source": [
    "Completamos los valores faltantes de barrio (place_l3) a partir de la latitud y longitud que tiene cada publicacion\n"
   ]
  },
  {
   "cell_type": "code",
   "execution_count": 525,
   "metadata": {},
   "outputs": [
    {
     "name": "stdout",
     "output_type": "stream",
     "text": [
      "-31.6789 -63.87964\n",
      "Villa Real\n",
      "-34.581285 -58.4697029\n",
      "Villa Ortuzar\n",
      "-34.6065771 -58.4490717\n",
      "Parque Centenario\n",
      "-33.08103 -68.46814\n",
      "Villa Real\n",
      "-31.3904308 -64.1790041\n",
      "Villa Real\n",
      "-34.6325981 -58.4809536\n",
      "Floresta\n",
      "-41.1638257 -71.4389226\n",
      "Liniers\n",
      "-33.528049 -64.168459\n",
      "Villa Real\n",
      "-27.4692131 -58.8306349\n",
      "Nuñez\n",
      "-34.6132735 -58.391893\n",
      "Congreso\n",
      "-34.6216374 -58.3915663\n",
      "Constitución\n",
      "-31.4737053 -64.1931419\n",
      "Villa Real\n",
      "-31.3629401217 -64.569103957\n",
      "Villa Real\n",
      "-34.620966 -58.4738312\n",
      "Villa Santa Rita\n",
      "-33.08103 -68.46814\n",
      "Villa Real\n",
      "-33.1099548 -60.7951508\n",
      "Saavedra\n",
      "-33.1224585674 -60.7127696003\n",
      "Saavedra\n",
      "-33.0246609 -60.6166104\n",
      "Saavedra\n",
      "-31.6106578 -60.697294\n",
      "Saavedra\n",
      "-32.5560547 -60.8508448\n",
      "Saavedra\n",
      "-24.770804 -65.400812\n",
      "Saavedra\n",
      "-33.023382 -60.6312218\n",
      "Saavedra\n",
      "-33.1819750162 -60.724335609\n",
      "Saavedra\n",
      "-24.770804 -65.400812\n",
      "Saavedra\n",
      "-31.680757 -63.880112\n",
      "Villa Real\n",
      "-32.5746765 -60.8499985\n",
      "Saavedra\n",
      "-33.060356 -68.479394\n",
      "Villa Real\n",
      "-31.6789 -63.87964\n",
      "Villa Real\n",
      "-33.081035 -68.468102\n",
      "Villa Real\n",
      "-31.6789 -63.87964\n",
      "Villa Real\n",
      "-32.9677559 -60.6710916\n",
      "Saavedra\n",
      "-29.4134538 -66.8564579\n",
      "Saavedra\n",
      "-31.3622550422 -64.52245088\n",
      "Villa Real\n",
      "-31.3690837 -64.5844221\n",
      "Villa Real\n",
      "-31.4641811 -64.4260882\n",
      "Villa Real\n",
      "-31.4746094 -64.538326\n",
      "Villa Real\n",
      "-31.3614122 -64.5829186\n",
      "Villa Real\n",
      "-32.0659258 -64.5278384\n",
      "Villa Real\n",
      "-31.5859786 -64.4586808\n",
      "Villa Real\n",
      "-31.3650053 -64.5857741\n",
      "Villa Real\n",
      "-31.3964558 -64.518202\n",
      "Villa Real\n",
      "-31.363757 -64.5190032\n",
      "Villa Real\n",
      "-31.4609319 -64.3517688\n",
      "Villa Real\n",
      "-34.6097547 -58.4195908\n",
      "Almagro\n",
      "-34.6097547 -58.4195908\n",
      "Almagro\n",
      "-34.5954871 -58.4097801\n",
      "Barrio Norte\n",
      "-34.5645309 -58.4854351\n",
      "Villa Urquiza\n",
      "-31.66434 -63.885916\n",
      "Villa Real\n",
      "-34.128668 -63.376624\n",
      "Villa Real\n",
      "-34.00916 -63.924113\n",
      "Villa Real\n",
      "-34.128668 -63.376624\n",
      "Villa Real\n",
      "-31.670423 -60.764403\n",
      "Saavedra\n",
      "-34.5962332 -58.4242969\n",
      "Almagro\n",
      "-31.4641811 -64.4260882\n",
      "Villa Real\n",
      "-31.4544802 -64.5144377\n",
      "Villa Real\n",
      "-34.6074678 -58.3834621\n",
      "San Nicolás\n",
      "-34.6080981 -58.4205236\n",
      "Almagro\n",
      "-34.6120527 -58.5218922\n",
      "Villa Real\n",
      "-33.08103 -68.46814\n",
      "Villa Real\n",
      "-34.6095922 -58.4162752\n",
      "Almagro\n",
      "-41.1689471 -71.4395104\n",
      "Liniers\n",
      "-31.2128014583 -69.7961425781\n",
      "Villa Real\n",
      "-34.58468 -58.4217718\n",
      "Palermo\n",
      "-34.58468 -58.4217718\n",
      "Palermo\n",
      "-34.58468 -58.4217718\n",
      "Palermo\n",
      "-34.58468 -58.4217718\n",
      "Palermo\n",
      "-34.58468 -58.4217718\n",
      "Palermo\n",
      "-34.58468 -58.4217718\n",
      "Palermo\n",
      "-31.571354 -60.5321479\n",
      "Saavedra\n",
      "-31.2393694 -60.5301864\n",
      "Saavedra\n",
      "-33.1564137 -60.5129906\n",
      "Saavedra\n",
      "-33.1230713 -60.8065461\n",
      "Saavedra\n",
      "-32.9710453 -60.6311072\n",
      "Saavedra\n",
      "-33.0316516 -60.6284135\n",
      "Saavedra\n",
      "-31.0477289 -64.4881664\n",
      "Villa Real\n",
      "-33.111225 -60.7940282\n",
      "Saavedra\n",
      "-32.9496901 -60.6563211\n",
      "Saavedra\n",
      "-33.6592848 -61.457823\n",
      "Villa Real\n",
      "-33.6652287 -61.4642786\n",
      "Villa Real\n",
      "-32.5746765 -60.8499985\n",
      "Saavedra\n",
      "-32.9773997 -60.6356742\n",
      "Saavedra\n",
      "-34.5876686 -58.3999073\n",
      "Recoleta\n",
      "-32.9618508 -60.628828\n",
      "Saavedra\n",
      "-32.966356 -60.671536\n",
      "Saavedra\n",
      "-31.9776652 -64.5594102\n",
      "Villa Real\n",
      "-32.9621506 -60.6465848\n",
      "Saavedra\n",
      "-32.966425 -60.6299751\n",
      "Saavedra\n",
      "-32.9664651 -60.636101\n",
      "Saavedra\n",
      "-32.9683526 -60.6230471\n",
      "Saavedra\n",
      "-32.9679013 -60.6289643\n",
      "Saavedra\n",
      "-33.0307732 -60.6272774\n",
      "Saavedra\n",
      "-32.9607161 -60.6285347\n",
      "Saavedra\n",
      "-32.9601968 -60.6313548\n",
      "Saavedra\n",
      "-32.9669914 -60.6341738\n",
      "Saavedra\n",
      "-41.0848996445 -71.1871585921\n",
      "Liniers\n",
      "-40.1317230398 -71.2994364775\n",
      "Liniers\n",
      "-41.0863522 -71.1857196\n",
      "Liniers\n",
      "-33.762758 -61.966286\n",
      "Villa Real\n",
      "-33.08103 -68.46814\n",
      "Villa Real\n",
      "-34.5582056 -58.4429231\n",
      "Belgrano\n",
      "-31.4216013 -60.3335545\n",
      "Saavedra\n",
      "-31.7321836999 -60.8137227731\n",
      "Saavedra\n",
      "-31.4931853045 -60.4267370857\n",
      "Saavedra\n",
      "-31.4588422 -60.9254634\n",
      "Saavedra\n",
      "-31.4480354 -60.930103\n",
      "Saavedra\n",
      "-31.7337714441 -60.8094419675\n",
      "Saavedra\n",
      "-31.6228648748 -60.6099334022\n",
      "Saavedra\n",
      "-31.456853 -60.9235843\n",
      "Saavedra\n",
      "-31.7721975 -60.8362426\n",
      "Saavedra\n",
      "-31.4216013 -60.3335545\n",
      "Saavedra\n",
      "-31.796438211 -60.8425940709\n",
      "Saavedra\n",
      "-31.968959 -60.9227622\n",
      "Saavedra\n",
      "-33.1317879 -60.8038707\n",
      "Saavedra\n",
      "-31.2989780018 -60.6565202956\n",
      "Saavedra\n",
      "-31.5787885977 -60.5514367348\n",
      "Saavedra\n",
      "-31.6332242889 -60.6163063308\n",
      "Saavedra\n",
      "-31.6166706 -60.5999985\n",
      "Saavedra\n",
      "-31.6216165774 -60.6095391292\n",
      "Saavedra\n",
      "-41.1380527365 -71.4711916762\n",
      "Liniers\n",
      "-31.4180306 -64.5063357\n",
      "Villa Real\n",
      "-41.083002 -71.182747\n",
      "Liniers\n",
      "-31.4587972136 -60.9194658026\n",
      "Saavedra\n",
      "-31.5958395326 -60.9402299463\n",
      "Saavedra\n",
      "-31.4489859 -60.9303663\n",
      "Saavedra\n",
      "-31.4390096 -60.9466884\n",
      "Saavedra\n",
      "-27.58162 -56.68231\n",
      "Nuñez\n",
      "-31.7328732 -60.8118886\n",
      "Saavedra\n",
      "-31.4659239957 -64.4180354559\n",
      "Villa Real\n",
      "-31.2372054 -64.3099749\n",
      "Villa Real\n",
      "-28.8805562 -63.9786595\n",
      "Saavedra\n",
      "-41.1641233498 -71.4154203934\n",
      "Liniers\n",
      "-34.58468 -58.4217718\n",
      "Palermo\n",
      "-34.6338186 -58.5045676\n",
      "Villa Luro\n",
      "-33.08103 -68.46814\n",
      "Villa Real\n",
      "-32.87335587 -60.7549324\n",
      "Saavedra\n",
      "-33.19824982 -60.45933914\n",
      "Saavedra\n",
      "-31.357612115 -64.5826983577\n",
      "Villa Real\n",
      "-31.4230332 -64.4559574\n",
      "Villa Real\n",
      "-34.6303438 -58.451088\n",
      "Flores\n",
      "-32.84036255 -60.80786896\n",
      "Saavedra\n",
      "-33.09832764 -60.53892899\n",
      "Saavedra\n",
      "-27.63119 -55.496357\n",
      "Nuñez\n",
      "-34.6084246809 -58.3650022745\n",
      "Puerto Madero\n",
      "-31.3540019 -64.3282617\n",
      "Villa Real\n",
      "-33.081035 -68.468102\n",
      "Villa Real\n",
      "-29.68992 -57.55666\n",
      "Nuñez\n",
      "-34.6301491 -58.408166\n",
      "Parque Patricios\n",
      "-31.4595625 -64.4071875\n",
      "Villa Real\n",
      "-31.4595625 -64.4071875\n",
      "Villa Real\n",
      "-34.6151355 -58.4296575\n",
      "Parque Centenario\n",
      "-32.1807687 -64.4821335\n",
      "Villa Real\n",
      "-31.3556875413 -64.3129289902\n",
      "Villa Real\n",
      "-31.3513402768 -64.3176087495\n",
      "Villa Real\n",
      "-31.3333438 -64.3105059\n",
      "Villa Real\n",
      "-31.3619796 -64.3400892\n",
      "Villa Real\n",
      "-31.2915864 -64.2922971\n",
      "Villa Real\n",
      "-31.3631748 -64.341195\n",
      "Villa Real\n",
      "-31.4636057 -64.4260715\n",
      "Villa Real\n",
      "-31.3609669255 -64.3438235648\n",
      "Villa Real\n",
      "-31.6688116739 -63.8813420399\n",
      "Villa Real\n",
      "-31.4636057 -64.4260715\n",
      "Villa Real\n",
      "-31.3438067 -64.3366479\n",
      "Villa Real\n",
      "-31.3631748 -64.341195\n",
      "Villa Real\n",
      "-31.2831153 -64.3026704\n",
      "Villa Real\n",
      "-34.6025359 -58.4302191\n",
      "Parque Centenario\n",
      "-32.64257447 -60.8206102534\n",
      "Saavedra\n",
      "-41.0853734673 -71.1857656425\n",
      "Liniers\n",
      "-33.08103 -68.46814\n",
      "Villa Real\n",
      "-34.5764329 -58.4581005\n",
      "Colegiales\n",
      "-27.58162 -56.68231\n",
      "Nuñez\n",
      "-31.744955 -60.494223\n",
      "Saavedra\n",
      "-29.140755 -59.638836\n",
      "Saavedra\n",
      "-33.08103 -68.46814\n",
      "Villa Real\n",
      "-33.08103 -68.46814\n",
      "Villa Real\n",
      "-33.08103 -68.46814\n",
      "Villa Real\n",
      "-34.61049 -58.4863579\n",
      "Villa del Parque\n",
      "-34.6145363 -58.4808397\n",
      "Villa Santa Rita\n",
      "-38.9582068737 -67.9235650746\n",
      "Liniers\n",
      "-33.08103 -68.46814\n",
      "Villa Real\n",
      "-33.08103 -68.46814\n",
      "Villa Real\n",
      "-34.580789 -58.407284\n",
      "Barrio Norte\n",
      "-31.6325176676 -65.0553669534\n",
      "Villa Real\n",
      "-34.5809329 -58.407411\n",
      "Barrio Norte\n",
      "-31.3021066 -64.254654\n",
      "Villa Real\n",
      "-27.63119 -55.496357\n",
      "Nuñez\n",
      "-33.0816894784 -68.4688281978\n",
      "Villa Real\n",
      "-34.5973381 -58.3976667\n",
      "Recoleta\n",
      "-26.61667 -54.13333\n",
      "Nuñez\n",
      "-34.6036844 -58.3815591\n",
      "San Nicolás\n",
      "-33.08103 -68.46814\n",
      "Villa Real\n",
      "-32.8880036 -60.7105399\n",
      "Saavedra\n",
      "-27.4692131 -58.8306349\n",
      "Nuñez\n",
      "-33.08103 -68.46814\n",
      "Villa Real\n",
      "-32.9664651 -60.636101\n",
      "Saavedra\n",
      "-33.08103 -68.46814\n",
      "Villa Real\n",
      "-34.6265206 -58.422732\n",
      "Boedo\n",
      "-34.6224753 -58.5140137\n",
      "Versalles\n",
      "-34.6231506 -58.5133757\n",
      "Monte Castro\n",
      "-34.6231506 -58.5133757\n",
      "Monte Castro\n",
      "-34.6231506 -58.5133757\n",
      "Monte Castro\n",
      "-33.08103 -68.46814\n",
      "Villa Real\n",
      "-33.08103 -68.46814\n",
      "Villa Real\n",
      "-33.08103 -68.46814\n",
      "Villa Real\n",
      "-32.8605259142 -60.7710804425\n",
      "Saavedra\n",
      "-34.6132735 -58.391893\n",
      "Congreso\n",
      "-33.08103 -68.46814\n",
      "Villa Real\n",
      "-30.9886320631 -64.4923266138\n",
      "Villa Real\n",
      "-31.3536369415 -63.3801269531\n",
      "Saavedra\n",
      "-34.5960029 -58.3917916\n",
      "Recoleta\n",
      "-27.4692131 -58.8306349\n",
      "Nuñez\n",
      "-38.940227 -68.0738655\n",
      "Liniers\n",
      "-24.37296 -65.02711\n",
      "Saavedra\n",
      "-32.4745206475 -60.8578463497\n",
      "Saavedra\n",
      "-31.4313352 -64.5093553\n",
      "Villa Real\n",
      "-32.4741586 -60.8587904873\n",
      "Saavedra\n",
      "-33.08103 -68.46814\n",
      "Villa Real\n",
      "-31.1989074 -60.1597187\n",
      "Saavedra\n",
      "-32.9791628 -60.6737234\n",
      "Saavedra\n",
      "-33.08103 -68.46814\n",
      "Villa Real\n",
      "-34.6008069 -58.3783295\n",
      "Centro / Microcentro\n",
      "-34.6074678 -58.3834621\n",
      "San Nicolás\n",
      "-34.5562276 -58.4715772\n",
      "Coghlan\n",
      "-31.308109864 -64.2838191085\n",
      "Villa Real\n",
      "-33.08103 -68.46814\n",
      "Villa Real\n",
      "-24.219827 -64.859137\n",
      "Saavedra\n",
      "-24.219827 -64.859137\n",
      "Saavedra\n",
      "-33.08103 -68.46814\n",
      "Villa Real\n",
      "-26.61667 -54.13333\n",
      "Nuñez\n",
      "-34.5562276 -58.4715772\n",
      "Coghlan\n",
      "-34.5918929 -58.4998946\n",
      "Villa Pueyrredón\n",
      "-31.8802612316 -64.9894849704\n",
      "Villa Real\n",
      "-38.9644933 -68.07583\n",
      "Liniers\n",
      "-33.038274 -60.61942\n",
      "Saavedra\n",
      "-32.9307201461 -60.8839096369\n",
      "Saavedra\n",
      "-32.993972894 -60.6269406896\n",
      "Saavedra\n",
      "-32.9640939 -60.6290526\n",
      "Saavedra\n",
      "-34.5915005 -58.3961713\n",
      "Recoleta\n",
      "-30.4367600432 -64.3170547485\n",
      "Saavedra\n",
      "-31.6789 -63.87964\n",
      "Villa Real\n",
      "-32.1385859074 -64.5011161316\n",
      "Villa Real\n",
      "-34.5772799 -58.4959461\n",
      "Villa Pueyrredón\n",
      "-34.5740178 -58.4320238\n",
      "Las Cañitas\n",
      "-33.08103 -68.46814\n",
      "Villa Real\n",
      "-53.788624 -67.718089\n",
      "Villa Riachuelo\n"
     ]
    }
   ],
   "source": [
    "median_coord_place_l3 = median_coord_place_l3.reset_index()\n",
    "\n",
    "def get_barrio(lat, lon):\n",
    "    median_coord_place_l3['distancia'] = median_coord_place_l3.apply(lambda x: np.sqrt((x['latitud'] - lat)**2 + (x['longitud'] - lon)**2), axis=1)\n",
    "    return median_coord_place_l3.sort_values(by=['distancia']).iloc[0]['place_l3']\n",
    "\n",
    "propiedades_sin_barrio = ds_propiedades[ds_propiedades['place_l3'].isna()]\n",
    "\n",
    "for i in range(propiedades_sin_barrio.shape[0]):\n",
    "    lat = propiedades_sin_barrio.iloc[i]['latitud']\n",
    "    lon = propiedades_sin_barrio.iloc[i]['longitud']\n",
    "    barrio = get_barrio(lat, lon)\n",
    "    ds_propiedades.loc[ds_propiedades['latitud'] == lat, 'place_l3'] = barrio"
   ]
  },
  {
   "cell_type": "code",
   "execution_count": 527,
   "metadata": {},
   "outputs": [
    {
     "data": {
      "text/plain": [
       "'x_train, x_test, y_train, y_test = train_test_split(dataset[features].values, \\n                                                    dataset[target].values, \\n                                                    test_size=0.2,    #20% al conjunto de test\\n                                                    random_state=13,  #para poder reproducir el experimento\\n                                                    stratify=dataset[target].values) #estratificado para mantener proporcion'"
      ]
     },
     "execution_count": 527,
     "metadata": {},
     "output_type": "execute_result"
    }
   ],
   "source": [
    "# #Hacemos una regresion lineal para predecir los valores nulos de property_surface_total\n",
    "surface_y_rooms_por_depto = ds_propiedades[['property_surface_total', 'property_rooms', 'property_price']]\n",
    "surface_y_rooms_por_depto_completo = imp.fit_transform(surface_y_rooms_por_depto)\n",
    "\n",
    "\n",
    "\n",
    "'''x_train, x_test, y_train, y_test = train_test_split(dataset[features].values, \n",
    "                                                    dataset[target].values, \n",
    "                                                    test_size=0.2,    #20% al conjunto de test\n",
    "                                                    random_state=13,  #para poder reproducir el experimento\n",
    "                                                    stratify=dataset[target].values) #estratificado para mantener proporcion'''\n"
   ]
  }
 ],
 "metadata": {
  "kernelspec": {
   "display_name": "Python 3.9.4 64-bit",
   "language": "python",
   "name": "python3"
  },
  "language_info": {
   "codemirror_mode": {
    "name": "ipython",
    "version": 3
   },
   "file_extension": ".py",
   "mimetype": "text/x-python",
   "name": "python",
   "nbconvert_exporter": "python",
   "pygments_lexer": "ipython3",
   "version": "3.9.4"
  },
  "orig_nbformat": 4,
  "vscode": {
   "interpreter": {
    "hash": "7f4a15ff2f44984e13dece915706825d939d43b72acdbdb51dc478f779138d1d"
   }
  }
 },
 "nbformat": 4,
 "nbformat_minor": 2
}
