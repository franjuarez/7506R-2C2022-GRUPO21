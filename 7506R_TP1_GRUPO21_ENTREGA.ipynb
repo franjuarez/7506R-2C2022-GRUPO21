{
 "cells": [
  {
   "cell_type": "markdown",
   "metadata": {},
   "source": [
    "# <center>Organizaci&oacute;n de Datos</center>\n",
    "## <center>Trabajo Práctico 1 </center>\n",
    "\n",
    "## <center>Grupo 21</center>\n",
    "\n",
    "#### Integrantes: Francisco Juárez, Marcos Bat, Lucas Aldazabal, Valentin Schneider, Gonzalo Rizzo Ehrenbock"
   ]
  },
  {
   "cell_type": "code",
   "execution_count": 80,
   "metadata": {},
   "outputs": [],
   "source": [
    "import pandas as pd\n",
    "import numpy as np\n",
    "import matplotlib.pyplot as plt\n",
    "import seaborn as sns\n",
    "\n",
    "import warnings\n",
    "warnings.simplefilter(action='ignore', category=FutureWarning)\n",
    "#IR PONIENDO IMPORTS DE LO Q SE VA NECESITANDO"
   ]
  },
  {
   "cell_type": "markdown",
   "metadata": {},
   "source": [
    "Cargamos el archivo y hacemos un mini análisis exploratorio "
   ]
  },
  {
   "cell_type": "code",
   "execution_count": 18,
   "metadata": {},
   "outputs": [
    {
     "data": {
      "text/plain": [
       "(460154, 20)"
      ]
     },
     "execution_count": 18,
     "metadata": {},
     "output_type": "execute_result"
    }
   ],
   "source": [
    "ds_propiedades = pd.read_csv('./Datasets/properati_argentina_2021.csv')\n",
    "ds_propiedades.shape"
   ]
  },
  {
   "cell_type": "markdown",
   "metadata": {},
   "source": [
    "Listamos las columnas para ver que tenemos"
   ]
  },
  {
   "cell_type": "code",
   "execution_count": 19,
   "metadata": {},
   "outputs": [
    {
     "data": {
      "text/plain": [
       "['id',\n",
       " 'start_date',\n",
       " 'end_date',\n",
       " 'created_on',\n",
       " 'latitud',\n",
       " 'longitud',\n",
       " 'place_l2',\n",
       " 'place_l3',\n",
       " 'place_l4',\n",
       " 'place_l5',\n",
       " 'place_l6',\n",
       " 'operation',\n",
       " 'property_type',\n",
       " 'property_rooms',\n",
       " 'property_bedrooms',\n",
       " 'property_surface_total',\n",
       " 'property_surface_covered',\n",
       " 'property_price',\n",
       " 'property_currency',\n",
       " 'property_title']"
      ]
     },
     "execution_count": 19,
     "metadata": {},
     "output_type": "execute_result"
    }
   ],
   "source": [
    "ds_propiedades.columns.tolist()"
   ]
  },
  {
   "cell_type": "markdown",
   "metadata": {},
   "source": [
    "Vemos los tipos de datos asociados a cada una:"
   ]
  },
  {
   "cell_type": "code",
   "execution_count": 16,
   "metadata": {},
   "outputs": [
    {
     "data": {
      "text/plain": [
       "id                           object\n",
       "start_date                   object\n",
       "end_date                     object\n",
       "created_on                   object\n",
       "latitud                     float64\n",
       "longitud                    float64\n",
       "place_l2                     object\n",
       "place_l3                     object\n",
       "place_l4                     object\n",
       "place_l5                     object\n",
       "place_l6                    float64\n",
       "operation                    object\n",
       "property_type                object\n",
       "property_rooms              float64\n",
       "property_bedrooms           float64\n",
       "property_surface_total      float64\n",
       "property_surface_covered    float64\n",
       "property_price              float64\n",
       "property_currency            object\n",
       "property_title               object\n",
       "dtype: object"
      ]
     },
     "execution_count": 16,
     "metadata": {},
     "output_type": "execute_result"
    }
   ],
   "source": [
    "ds_propiedades.dtypes"
   ]
  },
  {
   "cell_type": "markdown",
   "metadata": {},
   "source": [
    "Ahora chequeamos las primeras 5 celdas:"
   ]
  },
  {
   "cell_type": "code",
   "execution_count": 85,
   "metadata": {},
   "outputs": [
    {
     "data": {
      "text/html": [
       "<div>\n",
       "<style scoped>\n",
       "    .dataframe tbody tr th:only-of-type {\n",
       "        vertical-align: middle;\n",
       "    }\n",
       "\n",
       "    .dataframe tbody tr th {\n",
       "        vertical-align: top;\n",
       "    }\n",
       "\n",
       "    .dataframe thead th {\n",
       "        text-align: right;\n",
       "    }\n",
       "</style>\n",
       "<table border=\"1\" class=\"dataframe\">\n",
       "  <thead>\n",
       "    <tr style=\"text-align: right;\">\n",
       "      <th></th>\n",
       "      <th>id</th>\n",
       "      <th>start_date</th>\n",
       "      <th>end_date</th>\n",
       "      <th>created_on</th>\n",
       "      <th>latitud</th>\n",
       "      <th>longitud</th>\n",
       "      <th>place_l2</th>\n",
       "      <th>place_l3</th>\n",
       "      <th>place_l4</th>\n",
       "      <th>place_l5</th>\n",
       "      <th>place_l6</th>\n",
       "      <th>operation</th>\n",
       "      <th>property_type</th>\n",
       "      <th>property_rooms</th>\n",
       "      <th>property_bedrooms</th>\n",
       "      <th>property_surface_total</th>\n",
       "      <th>property_surface_covered</th>\n",
       "      <th>property_price</th>\n",
       "      <th>property_currency</th>\n",
       "      <th>property_title</th>\n",
       "    </tr>\n",
       "  </thead>\n",
       "  <tbody>\n",
       "    <tr>\n",
       "      <th>25</th>\n",
       "      <td>CyZu6IaZgmQYGk8jmPajCg==</td>\n",
       "      <td>2021-09-09</td>\n",
       "      <td>2021-09-26</td>\n",
       "      <td>2021-09-09</td>\n",
       "      <td>NaN</td>\n",
       "      <td>NaN</td>\n",
       "      <td>Capital Federal</td>\n",
       "      <td>NaN</td>\n",
       "      <td>NaN</td>\n",
       "      <td>NaN</td>\n",
       "      <td>NaN</td>\n",
       "      <td>Venta</td>\n",
       "      <td>Casa</td>\n",
       "      <td>4.0</td>\n",
       "      <td>3.0</td>\n",
       "      <td>171.0</td>\n",
       "      <td>133.0</td>\n",
       "      <td>210000.0</td>\n",
       "      <td>USD</td>\n",
       "      <td>VENTA CASA LLAVE EN MANO - COSTA ESMERALDA</td>\n",
       "    </tr>\n",
       "    <tr>\n",
       "      <th>42</th>\n",
       "      <td>d3Z0MblSb2IMBoOBMGJEEQ==</td>\n",
       "      <td>2021-09-09</td>\n",
       "      <td>2021-09-26</td>\n",
       "      <td>2021-09-09</td>\n",
       "      <td>-34.637319</td>\n",
       "      <td>-58.361124</td>\n",
       "      <td>Capital Federal</td>\n",
       "      <td>Boca</td>\n",
       "      <td>NaN</td>\n",
       "      <td>NaN</td>\n",
       "      <td>NaN</td>\n",
       "      <td>Venta</td>\n",
       "      <td>Departamento</td>\n",
       "      <td>3.0</td>\n",
       "      <td>2.0</td>\n",
       "      <td>58.0</td>\n",
       "      <td>55.0</td>\n",
       "      <td>82900.0</td>\n",
       "      <td>USD</td>\n",
       "      <td>VENTA TRES AMBIENTES LA BOCA PISO ALTO</td>\n",
       "    </tr>\n",
       "    <tr>\n",
       "      <th>43</th>\n",
       "      <td>rL7qPkQnomsMGu2ViS3sBw==</td>\n",
       "      <td>2021-09-09</td>\n",
       "      <td>2021-09-28</td>\n",
       "      <td>2021-09-09</td>\n",
       "      <td>-34.628647</td>\n",
       "      <td>-58.361871</td>\n",
       "      <td>Capital Federal</td>\n",
       "      <td>Boca</td>\n",
       "      <td>NaN</td>\n",
       "      <td>NaN</td>\n",
       "      <td>NaN</td>\n",
       "      <td>Venta</td>\n",
       "      <td>Departamento</td>\n",
       "      <td>4.0</td>\n",
       "      <td>3.0</td>\n",
       "      <td>70.0</td>\n",
       "      <td>70.0</td>\n",
       "      <td>99000.0</td>\n",
       "      <td>USD</td>\n",
       "      <td>Departamento - 4 Ambientes - Catalinas Sur</td>\n",
       "    </tr>\n",
       "    <tr>\n",
       "      <th>49</th>\n",
       "      <td>vuX/ccLAMVml4qWRFcOJUA==</td>\n",
       "      <td>2021-09-09</td>\n",
       "      <td>2022-01-05</td>\n",
       "      <td>2021-09-09</td>\n",
       "      <td>-34.610027</td>\n",
       "      <td>-58.401934</td>\n",
       "      <td>Capital Federal</td>\n",
       "      <td>Once</td>\n",
       "      <td>NaN</td>\n",
       "      <td>NaN</td>\n",
       "      <td>NaN</td>\n",
       "      <td>Venta</td>\n",
       "      <td>Departamento</td>\n",
       "      <td>4.0</td>\n",
       "      <td>2.0</td>\n",
       "      <td>NaN</td>\n",
       "      <td>104.0</td>\n",
       "      <td>146000.0</td>\n",
       "      <td>USD</td>\n",
       "      <td>Venta departamento 4 ambientes Once</td>\n",
       "    </tr>\n",
       "    <tr>\n",
       "      <th>51</th>\n",
       "      <td>ZTtSCeqZ3HUgf5jjwEzRcw==</td>\n",
       "      <td>2021-09-09</td>\n",
       "      <td>2022-03-09</td>\n",
       "      <td>2021-09-09</td>\n",
       "      <td>-34.631621</td>\n",
       "      <td>-58.416825</td>\n",
       "      <td>Capital Federal</td>\n",
       "      <td>Boedo</td>\n",
       "      <td>NaN</td>\n",
       "      <td>NaN</td>\n",
       "      <td>NaN</td>\n",
       "      <td>Venta</td>\n",
       "      <td>PH</td>\n",
       "      <td>4.0</td>\n",
       "      <td>2.0</td>\n",
       "      <td>NaN</td>\n",
       "      <td>73.0</td>\n",
       "      <td>250000.0</td>\n",
       "      <td>USD</td>\n",
       "      <td>PH - Boedo</td>\n",
       "    </tr>\n",
       "  </tbody>\n",
       "</table>\n",
       "</div>"
      ],
      "text/plain": [
       "                          id  start_date    end_date  created_on    latitud  \\\n",
       "25  CyZu6IaZgmQYGk8jmPajCg==  2021-09-09  2021-09-26  2021-09-09        NaN   \n",
       "42  d3Z0MblSb2IMBoOBMGJEEQ==  2021-09-09  2021-09-26  2021-09-09 -34.637319   \n",
       "43  rL7qPkQnomsMGu2ViS3sBw==  2021-09-09  2021-09-28  2021-09-09 -34.628647   \n",
       "49  vuX/ccLAMVml4qWRFcOJUA==  2021-09-09  2022-01-05  2021-09-09 -34.610027   \n",
       "51  ZTtSCeqZ3HUgf5jjwEzRcw==  2021-09-09  2022-03-09  2021-09-09 -34.631621   \n",
       "\n",
       "     longitud         place_l2 place_l3 place_l4 place_l5  place_l6 operation  \\\n",
       "25        NaN  Capital Federal      NaN      NaN      NaN       NaN     Venta   \n",
       "42 -58.361124  Capital Federal     Boca      NaN      NaN       NaN     Venta   \n",
       "43 -58.361871  Capital Federal     Boca      NaN      NaN       NaN     Venta   \n",
       "49 -58.401934  Capital Federal     Once      NaN      NaN       NaN     Venta   \n",
       "51 -58.416825  Capital Federal    Boedo      NaN      NaN       NaN     Venta   \n",
       "\n",
       "   property_type  property_rooms  property_bedrooms  property_surface_total  \\\n",
       "25          Casa             4.0                3.0                   171.0   \n",
       "42  Departamento             3.0                2.0                    58.0   \n",
       "43  Departamento             4.0                3.0                    70.0   \n",
       "49  Departamento             4.0                2.0                     NaN   \n",
       "51            PH             4.0                2.0                     NaN   \n",
       "\n",
       "    property_surface_covered  property_price property_currency  \\\n",
       "25                     133.0        210000.0               USD   \n",
       "42                      55.0         82900.0               USD   \n",
       "43                      70.0         99000.0               USD   \n",
       "49                     104.0        146000.0               USD   \n",
       "51                      73.0        250000.0               USD   \n",
       "\n",
       "                                 property_title  \n",
       "25  VENTA CASA LLAVE EN MANO - COSTA ESMERALDA   \n",
       "42       VENTA TRES AMBIENTES LA BOCA PISO ALTO  \n",
       "43   Departamento - 4 Ambientes - Catalinas Sur  \n",
       "49          Venta departamento 4 ambientes Once  \n",
       "51                                   PH - Boedo  "
      ]
     },
     "execution_count": 85,
     "metadata": {},
     "output_type": "execute_result"
    }
   ],
   "source": [
    "ds_propiedades.head()"
   ]
  },
  {
   "cell_type": "markdown",
   "metadata": {},
   "source": [
    "Filtramos el dataframe por lo pedido en la consigna"
   ]
  },
  {
   "cell_type": "code",
   "execution_count": 33,
   "metadata": {},
   "outputs": [
    {
     "data": {
      "text/html": [
       "<div>\n",
       "<style scoped>\n",
       "    .dataframe tbody tr th:only-of-type {\n",
       "        vertical-align: middle;\n",
       "    }\n",
       "\n",
       "    .dataframe tbody tr th {\n",
       "        vertical-align: top;\n",
       "    }\n",
       "\n",
       "    .dataframe thead th {\n",
       "        text-align: right;\n",
       "    }\n",
       "</style>\n",
       "<table border=\"1\" class=\"dataframe\">\n",
       "  <thead>\n",
       "    <tr style=\"text-align: right;\">\n",
       "      <th></th>\n",
       "      <th>id</th>\n",
       "      <th>start_date</th>\n",
       "      <th>end_date</th>\n",
       "      <th>created_on</th>\n",
       "      <th>latitud</th>\n",
       "      <th>longitud</th>\n",
       "      <th>place_l2</th>\n",
       "      <th>place_l3</th>\n",
       "      <th>place_l4</th>\n",
       "      <th>place_l5</th>\n",
       "      <th>place_l6</th>\n",
       "      <th>operation</th>\n",
       "      <th>property_type</th>\n",
       "      <th>property_rooms</th>\n",
       "      <th>property_bedrooms</th>\n",
       "      <th>property_surface_total</th>\n",
       "      <th>property_surface_covered</th>\n",
       "      <th>property_price</th>\n",
       "      <th>property_currency</th>\n",
       "      <th>property_title</th>\n",
       "    </tr>\n",
       "  </thead>\n",
       "  <tbody>\n",
       "    <tr>\n",
       "      <th>25</th>\n",
       "      <td>CyZu6IaZgmQYGk8jmPajCg==</td>\n",
       "      <td>2021-09-09</td>\n",
       "      <td>2021-09-26</td>\n",
       "      <td>2021-09-09</td>\n",
       "      <td>NaN</td>\n",
       "      <td>NaN</td>\n",
       "      <td>Capital Federal</td>\n",
       "      <td>NaN</td>\n",
       "      <td>NaN</td>\n",
       "      <td>NaN</td>\n",
       "      <td>NaN</td>\n",
       "      <td>Venta</td>\n",
       "      <td>Casa</td>\n",
       "      <td>4.0</td>\n",
       "      <td>3.0</td>\n",
       "      <td>171.0</td>\n",
       "      <td>133.0</td>\n",
       "      <td>210000.0</td>\n",
       "      <td>USD</td>\n",
       "      <td>VENTA CASA LLAVE EN MANO - COSTA ESMERALDA</td>\n",
       "    </tr>\n",
       "    <tr>\n",
       "      <th>42</th>\n",
       "      <td>d3Z0MblSb2IMBoOBMGJEEQ==</td>\n",
       "      <td>2021-09-09</td>\n",
       "      <td>2021-09-26</td>\n",
       "      <td>2021-09-09</td>\n",
       "      <td>-34.637319</td>\n",
       "      <td>-58.361124</td>\n",
       "      <td>Capital Federal</td>\n",
       "      <td>Boca</td>\n",
       "      <td>NaN</td>\n",
       "      <td>NaN</td>\n",
       "      <td>NaN</td>\n",
       "      <td>Venta</td>\n",
       "      <td>Departamento</td>\n",
       "      <td>3.0</td>\n",
       "      <td>2.0</td>\n",
       "      <td>58.0</td>\n",
       "      <td>55.0</td>\n",
       "      <td>82900.0</td>\n",
       "      <td>USD</td>\n",
       "      <td>VENTA TRES AMBIENTES LA BOCA PISO ALTO</td>\n",
       "    </tr>\n",
       "    <tr>\n",
       "      <th>43</th>\n",
       "      <td>rL7qPkQnomsMGu2ViS3sBw==</td>\n",
       "      <td>2021-09-09</td>\n",
       "      <td>2021-09-28</td>\n",
       "      <td>2021-09-09</td>\n",
       "      <td>-34.628647</td>\n",
       "      <td>-58.361871</td>\n",
       "      <td>Capital Federal</td>\n",
       "      <td>Boca</td>\n",
       "      <td>NaN</td>\n",
       "      <td>NaN</td>\n",
       "      <td>NaN</td>\n",
       "      <td>Venta</td>\n",
       "      <td>Departamento</td>\n",
       "      <td>4.0</td>\n",
       "      <td>3.0</td>\n",
       "      <td>70.0</td>\n",
       "      <td>70.0</td>\n",
       "      <td>99000.0</td>\n",
       "      <td>USD</td>\n",
       "      <td>Departamento - 4 Ambientes - Catalinas Sur</td>\n",
       "    </tr>\n",
       "    <tr>\n",
       "      <th>49</th>\n",
       "      <td>vuX/ccLAMVml4qWRFcOJUA==</td>\n",
       "      <td>2021-09-09</td>\n",
       "      <td>2022-01-05</td>\n",
       "      <td>2021-09-09</td>\n",
       "      <td>-34.610027</td>\n",
       "      <td>-58.401934</td>\n",
       "      <td>Capital Federal</td>\n",
       "      <td>Once</td>\n",
       "      <td>NaN</td>\n",
       "      <td>NaN</td>\n",
       "      <td>NaN</td>\n",
       "      <td>Venta</td>\n",
       "      <td>Departamento</td>\n",
       "      <td>4.0</td>\n",
       "      <td>2.0</td>\n",
       "      <td>NaN</td>\n",
       "      <td>104.0</td>\n",
       "      <td>146000.0</td>\n",
       "      <td>USD</td>\n",
       "      <td>Venta departamento 4 ambientes Once</td>\n",
       "    </tr>\n",
       "    <tr>\n",
       "      <th>51</th>\n",
       "      <td>ZTtSCeqZ3HUgf5jjwEzRcw==</td>\n",
       "      <td>2021-09-09</td>\n",
       "      <td>2022-03-09</td>\n",
       "      <td>2021-09-09</td>\n",
       "      <td>-34.631621</td>\n",
       "      <td>-58.416825</td>\n",
       "      <td>Capital Federal</td>\n",
       "      <td>Boedo</td>\n",
       "      <td>NaN</td>\n",
       "      <td>NaN</td>\n",
       "      <td>NaN</td>\n",
       "      <td>Venta</td>\n",
       "      <td>PH</td>\n",
       "      <td>4.0</td>\n",
       "      <td>2.0</td>\n",
       "      <td>NaN</td>\n",
       "      <td>73.0</td>\n",
       "      <td>250000.0</td>\n",
       "      <td>USD</td>\n",
       "      <td>PH - Boedo</td>\n",
       "    </tr>\n",
       "  </tbody>\n",
       "</table>\n",
       "</div>"
      ],
      "text/plain": [
       "                          id  start_date    end_date  created_on    latitud  \\\n",
       "25  CyZu6IaZgmQYGk8jmPajCg==  2021-09-09  2021-09-26  2021-09-09        NaN   \n",
       "42  d3Z0MblSb2IMBoOBMGJEEQ==  2021-09-09  2021-09-26  2021-09-09 -34.637319   \n",
       "43  rL7qPkQnomsMGu2ViS3sBw==  2021-09-09  2021-09-28  2021-09-09 -34.628647   \n",
       "49  vuX/ccLAMVml4qWRFcOJUA==  2021-09-09  2022-01-05  2021-09-09 -34.610027   \n",
       "51  ZTtSCeqZ3HUgf5jjwEzRcw==  2021-09-09  2022-03-09  2021-09-09 -34.631621   \n",
       "\n",
       "     longitud         place_l2 place_l3 place_l4 place_l5  place_l6 operation  \\\n",
       "25        NaN  Capital Federal      NaN      NaN      NaN       NaN     Venta   \n",
       "42 -58.361124  Capital Federal     Boca      NaN      NaN       NaN     Venta   \n",
       "43 -58.361871  Capital Federal     Boca      NaN      NaN       NaN     Venta   \n",
       "49 -58.401934  Capital Federal     Once      NaN      NaN       NaN     Venta   \n",
       "51 -58.416825  Capital Federal    Boedo      NaN      NaN       NaN     Venta   \n",
       "\n",
       "   property_type  property_rooms  property_bedrooms  property_surface_total  \\\n",
       "25          Casa             4.0                3.0                   171.0   \n",
       "42  Departamento             3.0                2.0                    58.0   \n",
       "43  Departamento             4.0                3.0                    70.0   \n",
       "49  Departamento             4.0                2.0                     NaN   \n",
       "51            PH             4.0                2.0                     NaN   \n",
       "\n",
       "    property_surface_covered  property_price property_currency  \\\n",
       "25                     133.0        210000.0               USD   \n",
       "42                      55.0         82900.0               USD   \n",
       "43                      70.0         99000.0               USD   \n",
       "49                     104.0        146000.0               USD   \n",
       "51                      73.0        250000.0               USD   \n",
       "\n",
       "                                 property_title  \n",
       "25  VENTA CASA LLAVE EN MANO - COSTA ESMERALDA   \n",
       "42       VENTA TRES AMBIENTES LA BOCA PISO ALTO  \n",
       "43   Departamento - 4 Ambientes - Catalinas Sur  \n",
       "49          Venta departamento 4 ambientes Once  \n",
       "51                                   PH - Boedo  "
      ]
     },
     "execution_count": 33,
     "metadata": {},
     "output_type": "execute_result"
    }
   ],
   "source": [
    "tipos_viviendas = ['Casa', 'PH', 'Departamento']\n",
    "ds_propiedades = ds_propiedades[(ds_propiedades['operation'] == 'Venta') & \n",
    "                        (ds_propiedades['property_type'].isin(tipos_viviendas)) & \n",
    "                        (ds_propiedades['place_l2'] == 'Capital Federal') & \n",
    "                        (ds_propiedades['property_currency'] == 'USD')]\n",
    "ds_propiedades.head()"
   ]
  },
  {
   "cell_type": "markdown",
   "metadata": {},
   "source": [
    "Variables Cuantitativas: calculamos r medidas de resumen: media, mediana, q1,\n",
    "q3,moda"
   ]
  },
  {
   "cell_type": "code",
   "execution_count": 84,
   "metadata": {},
   "outputs": [
    {
     "data": {
      "text/html": [
       "<div>\n",
       "<style scoped>\n",
       "    .dataframe tbody tr th:only-of-type {\n",
       "        vertical-align: middle;\n",
       "    }\n",
       "\n",
       "    .dataframe tbody tr th {\n",
       "        vertical-align: top;\n",
       "    }\n",
       "\n",
       "    .dataframe thead th {\n",
       "        text-align: right;\n",
       "    }\n",
       "</style>\n",
       "<table border=\"1\" class=\"dataframe\">\n",
       "  <thead>\n",
       "    <tr style=\"text-align: right;\">\n",
       "      <th></th>\n",
       "      <th>property_rooms</th>\n",
       "      <th>property_bedrooms</th>\n",
       "      <th>property_surface_total</th>\n",
       "      <th>property_surface_covered</th>\n",
       "      <th>property_price</th>\n",
       "    </tr>\n",
       "  </thead>\n",
       "  <tbody>\n",
       "    <tr>\n",
       "      <th>media</th>\n",
       "      <td>2.822799</td>\n",
       "      <td>2.014629</td>\n",
       "      <td>109.09297</td>\n",
       "      <td>87.931932</td>\n",
       "      <td>226238.207185</td>\n",
       "    </tr>\n",
       "    <tr>\n",
       "      <th>q1</th>\n",
       "      <td>2.000000</td>\n",
       "      <td>1.000000</td>\n",
       "      <td>45.00000</td>\n",
       "      <td>40.000000</td>\n",
       "      <td>95000.000000</td>\n",
       "    </tr>\n",
       "    <tr>\n",
       "      <th>mediana</th>\n",
       "      <td>3.000000</td>\n",
       "      <td>2.000000</td>\n",
       "      <td>65.00000</td>\n",
       "      <td>58.000000</td>\n",
       "      <td>143900.000000</td>\n",
       "    </tr>\n",
       "    <tr>\n",
       "      <th>q3</th>\n",
       "      <td>4.000000</td>\n",
       "      <td>3.000000</td>\n",
       "      <td>105.00000</td>\n",
       "      <td>88.000000</td>\n",
       "      <td>237000.000000</td>\n",
       "    </tr>\n",
       "    <tr>\n",
       "      <th>moda</th>\n",
       "      <td>3.000000</td>\n",
       "      <td>1.000000</td>\n",
       "      <td>50.00000</td>\n",
       "      <td>40.000000</td>\n",
       "      <td>110000.000000</td>\n",
       "    </tr>\n",
       "  </tbody>\n",
       "</table>\n",
       "</div>"
      ],
      "text/plain": [
       "         property_rooms  property_bedrooms  property_surface_total  \\\n",
       "media          2.822799           2.014629               109.09297   \n",
       "q1             2.000000           1.000000                45.00000   \n",
       "mediana        3.000000           2.000000                65.00000   \n",
       "q3             4.000000           3.000000               105.00000   \n",
       "moda           3.000000           1.000000                50.00000   \n",
       "\n",
       "         property_surface_covered  property_price  \n",
       "media                   87.931932   226238.207185  \n",
       "q1                      40.000000    95000.000000  \n",
       "mediana                 58.000000   143900.000000  \n",
       "q3                      88.000000   237000.000000  \n",
       "moda                    40.000000   110000.000000  "
      ]
     },
     "execution_count": 84,
     "metadata": {},
     "output_type": "execute_result"
    }
   ],
   "source": [
    "variables_cuantitativas = [\"property_rooms\", \"property_bedrooms\", \"property_surface_total\", \"property_surface_covered\", \"property_price\"]\n",
    "ds_variables_cuantitativas = ds_propiedades[variables_cuantitativas]\n",
    "ds_variables_cuantitativas_resumen = ds_variables_cuantitativas.describe()\n",
    "ds_variables_cuantitativas_resumen.drop(['count', 'min', 'max', 'std'], inplace=True) #Sacamos las variables que no nos importan\n",
    "\n",
    "#calcualamos la moda\n",
    "mode = ds_propiedades[variables_cuantitativas].mode()\n",
    "ds_variables_cuantitativas_resumen = ds_variables_cuantitativas_resumen.append(mode) #La agregamos al dataframe\n",
    "\n",
    "ds_variables_cuantitativas_resumen.rename(index={'50%': 'mediana', '25%': 'q1', '75%': 'q3', 0:'moda', 'mean':'media'}, inplace=True) #renombramos labels\n",
    "ds_variables_cuantitativas_resumen\n"
   ]
  },
  {
   "cell_type": "markdown",
   "metadata": {},
   "source": [
    "Variables Cualitativas: mostramos cantidad de valores posibles, y frecuencias de cada uno.\n",
    "Elegimos como variables cualitativas a \"place_l3\" y \"property type\". Decidimos no incluir las siguientes por estos motivos:\n",
    "\"place_l2\" y \"property_currency\": Al ya estar filtrados, todos los valores seran el mismo.\n",
    "\"property_title\": Ya que seran todos distintos.\n",
    "\"place_l4\", \"place_l5\", \"place_l6\" : Ya que son todos nulos para el filtro seleccionado."
   ]
  },
  {
   "cell_type": "code",
   "execution_count": 97,
   "metadata": {},
   "outputs": [
    {
     "data": {
      "text/plain": [
       "Palermo                 14308\n",
       "Belgrano                 8898\n",
       "Caballito                7168\n",
       "Recoleta                 6282\n",
       "Villa Urquiza            4673\n",
       "Almagro                  4081\n",
       "Nuñez                    3546\n",
       "Villa Crespo             3189\n",
       "Flores                   3110\n",
       "Barrio Norte             2975\n",
       "Balvanera                2553\n",
       "Colegiales               1951\n",
       "Villa Devoto             1921\n",
       "Villa del Parque         1829\n",
       "Saavedra                 1829\n",
       "Puerto Madero            1493\n",
       "San Telmo                1380\n",
       "San Cristobal            1300\n",
       "San Nicolás              1295\n",
       "Retiro                   1250\n",
       "Barracas                 1246\n",
       "Boedo                    1237\n",
       "Floresta                 1195\n",
       "Monserrat                1115\n",
       "Parque Chacabuco         1073\n",
       "Villa Pueyrredón         1011\n",
       "Coghlan                   984\n",
       "Villa Luro                727\n",
       "Mataderos                 719\n",
       "Chacarita                 697\n",
       "Liniers                   668\n",
       "Villa Ortuzar             662\n",
       "Parque Patricios          639\n",
       "Villa Lugano              612\n",
       "Paternal                  566\n",
       "Congreso                  535\n",
       "Monte Castro              499\n",
       "Constitución              453\n",
       "Villa Santa Rita          438\n",
       "Villa General Mitre       435\n",
       "Once                      407\n",
       "Parque Avellaneda         380\n",
       "Parque Chas               373\n",
       "Boca                      365\n",
       "Versalles                 315\n",
       "Velez Sarsfield           242\n",
       "Agronomía                 235\n",
       "Abasto                    231\n",
       "Pompeya                   216\n",
       "Villa Real                142\n",
       "Tribunales                116\n",
       "Parque Centenario          93\n",
       "Centro / Microcentro       76\n",
       "Villa Soldati              45\n",
       "Villa Riachuelo            35\n",
       "Las Cañitas                12\n",
       "Catalinas                   7\n",
       "Name: place_l3, dtype: int64"
      ]
     },
     "execution_count": 97,
     "metadata": {},
     "output_type": "execute_result"
    }
   ],
   "source": [
    "variables_cualitativas = ['place_l3', 'property_type']\n",
    "ds_propiedades.place_l3.value_counts()"
   ]
  },
  {
   "cell_type": "code",
   "execution_count": 98,
   "metadata": {},
   "outputs": [
    {
     "data": {
      "image/png": "[encoded data removed]",
      "text/plain": [
       "<Figure size 1800x936 with 1 Axes>"
      ]
     },
     "metadata": {
      "needs_background": "light"
     },
     "output_type": "display_data"
    }
   ],
   "source": [
    "#graficamos barplot de place_l3\n",
    "plt.figure(figsize=(25, 13))\n",
    "sns.countplot(x='place_l3', data=ds_propiedades, order=ds_propiedades.place_l3.value_counts().index)\n",
    "plt.xticks(rotation=90)\n",
    "plt.show()"
   ]
  },
  {
   "cell_type": "code",
   "execution_count": 99,
   "metadata": {},
   "outputs": [
    {
     "data": {
      "text/plain": [
       "Departamento    80829\n",
       "PH               9266\n",
       "Casa             4154\n",
       "Name: property_type, dtype: int64"
      ]
     },
     "execution_count": 99,
     "metadata": {},
     "output_type": "execute_result"
    }
   ],
   "source": [
    "ds_propiedades.property_type.value_counts()"
   ]
  },
  {
   "cell_type": "code",
   "execution_count": 105,
   "metadata": {},
   "outputs": [
    {
     "data": {
      "image/png": "[encoded data removed]",
      "text/plain": [
       "<Figure size 1080x720 with 1 Axes>"
      ]
     },
     "metadata": {
      "needs_background": "light"
     },
     "output_type": "display_data"
    }
   ],
   "source": [
    "#graficamos barplot de property_types\n",
    "plt.figure(figsize=(15, 10))\n",
    "sns.countplot(x='property_type', data=ds_propiedades, order=ds_propiedades.property_type.value_counts().index)\n",
    "\n",
    "plt.show()"
   ]
  },
  {
   "cell_type": "markdown",
   "metadata": {},
   "source": [
    "Las variables que percibimos irrelevantes para el análisis fueron: Los Ids ya que no aportan valor al analizarlos y las mencionadas arriba, que decidimos no analizarlas en el caso cualitativo."
   ]
  },
  {
   "cell_type": "code",
   "execution_count": 113,
   "metadata": {},
   "outputs": [
    {
     "data": {
      "text/html": [
       "<div>\n",
       "<style scoped>\n",
       "    .dataframe tbody tr th:only-of-type {\n",
       "        vertical-align: middle;\n",
       "    }\n",
       "\n",
       "    .dataframe tbody tr th {\n",
       "        vertical-align: top;\n",
       "    }\n",
       "\n",
       "    .dataframe thead th {\n",
       "        text-align: right;\n",
       "    }\n",
       "</style>\n",
       "<table border=\"1\" class=\"dataframe\">\n",
       "  <thead>\n",
       "    <tr style=\"text-align: right;\">\n",
       "      <th></th>\n",
       "      <th>property_rooms</th>\n",
       "      <th>property_bedrooms</th>\n",
       "      <th>property_surface_total</th>\n",
       "      <th>property_surface_covered</th>\n",
       "      <th>property_price</th>\n",
       "    </tr>\n",
       "  </thead>\n",
       "  <tbody>\n",
       "    <tr>\n",
       "      <th>property_rooms</th>\n",
       "      <td>1.000000</td>\n",
       "      <td>0.871940</td>\n",
       "      <td>0.067211</td>\n",
       "      <td>0.076097</td>\n",
       "      <td>0.488934</td>\n",
       "    </tr>\n",
       "    <tr>\n",
       "      <th>property_bedrooms</th>\n",
       "      <td>0.871940</td>\n",
       "      <td>1.000000</td>\n",
       "      <td>0.067702</td>\n",
       "      <td>0.075075</td>\n",
       "      <td>0.425386</td>\n",
       "    </tr>\n",
       "    <tr>\n",
       "      <th>property_surface_total</th>\n",
       "      <td>0.067211</td>\n",
       "      <td>0.067702</td>\n",
       "      <td>1.000000</td>\n",
       "      <td>0.604311</td>\n",
       "      <td>0.085235</td>\n",
       "    </tr>\n",
       "    <tr>\n",
       "      <th>property_surface_covered</th>\n",
       "      <td>0.076097</td>\n",
       "      <td>0.075075</td>\n",
       "      <td>0.604311</td>\n",
       "      <td>1.000000</td>\n",
       "      <td>0.056238</td>\n",
       "    </tr>\n",
       "    <tr>\n",
       "      <th>property_price</th>\n",
       "      <td>0.488934</td>\n",
       "      <td>0.425386</td>\n",
       "      <td>0.085235</td>\n",
       "      <td>0.056238</td>\n",
       "      <td>1.000000</td>\n",
       "    </tr>\n",
       "  </tbody>\n",
       "</table>\n",
       "</div>"
      ],
      "text/plain": [
       "                          property_rooms  property_bedrooms  \\\n",
       "property_rooms                  1.000000           0.871940   \n",
       "property_bedrooms               0.871940           1.000000   \n",
       "property_surface_total          0.067211           0.067702   \n",
       "property_surface_covered        0.076097           0.075075   \n",
       "property_price                  0.488934           0.425386   \n",
       "\n",
       "                          property_surface_total  property_surface_covered  \\\n",
       "property_rooms                          0.067211                  0.076097   \n",
       "property_bedrooms                       0.067702                  0.075075   \n",
       "property_surface_total                  1.000000                  0.604311   \n",
       "property_surface_covered                0.604311                  1.000000   \n",
       "property_price                          0.085235                  0.056238   \n",
       "\n",
       "                          property_price  \n",
       "property_rooms                  0.488934  \n",
       "property_bedrooms               0.425386  \n",
       "property_surface_total          0.085235  \n",
       "property_surface_covered        0.056238  \n",
       "property_price                  1.000000  "
      ]
     },
     "execution_count": 113,
     "metadata": {},
     "output_type": "execute_result"
    }
   ],
   "source": [
    "ds_propiedades[variables_cuantitativas].corr()"
   ]
  },
  {
   "cell_type": "markdown",
   "metadata": {},
   "source": []
  },
  {
   "cell_type": "markdown",
   "metadata": {},
   "source": [
    "Vemos los porcentajes de datos nulos por columna"
   ]
  },
  {
   "cell_type": "code",
   "execution_count": 112,
   "metadata": {},
   "outputs": [
    {
     "name": "stdout",
     "output_type": "stream",
     "text": [
      "id                            0.000000\n",
      "start_date                    0.000000\n",
      "end_date                      0.000000\n",
      "created_on                    0.000000\n",
      "latitud                       3.957602\n",
      "longitud                      3.957602\n",
      "place_l2                      0.000000\n",
      "place_l3                      0.442445\n",
      "place_l4                     96.134707\n",
      "place_l5                    100.000000\n",
      "place_l6                    100.000000\n",
      "operation                     0.000000\n",
      "property_type                 0.000000\n",
      "property_rooms                1.107704\n",
      "property_bedrooms            11.657418\n",
      "property_surface_total        5.139577\n",
      "property_surface_covered      3.558658\n",
      "property_price                0.000000\n",
      "property_currency             0.000000\n",
      "property_title                0.000000\n",
      "dtype: float64\n"
     ]
    }
   ],
   "source": [
    "filas_totales=ds_propiedades.shape[0]\n",
    "print(ds_propiedades.isna().sum()/filas_totales*100)"
   ]
  },
  {
   "cell_type": "markdown",
   "metadata": {},
   "source": [
    "Acá podemos ver que las variables \"place_l6\", \"place_l5\" y \"place_l4\" tienen una grandísima cantidad de valores nulos. Por esto decidimos eliminarlas.\n"
   ]
  },
  {
   "cell_type": "code",
   "execution_count": 14,
   "metadata": {},
   "outputs": [
    {
     "name": "stdout",
     "output_type": "stream",
     "text": [
      "Columnas restantes: ['id', 'start_date', 'end_date', 'created_on', 'latitud', 'longitud', 'place_l2', 'place_l3', 'operation', 'property_type', 'property_rooms', 'property_bedrooms', 'property_surface_total', 'property_surface_covered', 'property_price', 'property_currency', 'property_title']\n"
     ]
    }
   ],
   "source": [
    "# columnas_eliminar_NANs=[\"place_l6\", \"place_l5\", \"place_l4\"]\n",
    "# ds_propiedades.drop(columnas_eliminar_NANs, axis='columns', inplace=True)\n",
    "# print(f'Columnas restantes: {ds_propiedades.columns.tolist()}')"
   ]
  }
 ],
 "metadata": {
  "kernelspec": {
   "display_name": "Python 3.9.4 64-bit",
   "language": "python",
   "name": "python3"
  },
  "language_info": {
   "codemirror_mode": {
    "name": "ipython",
    "version": 3
   },
   "file_extension": ".py",
   "mimetype": "text/x-python",
   "name": "python",
   "nbconvert_exporter": "python",
   "pygments_lexer": "ipython3",
   "version": "3.9.4"
  },
  "orig_nbformat": 4,
  "vscode": {
   "interpreter": {
    "hash": "7f4a15ff2f44984e13dece915706825d939d43b72acdbdb51dc478f779138d1d"
   }
  }
 },
 "nbformat": 4,
 "nbformat_minor": 2
}
