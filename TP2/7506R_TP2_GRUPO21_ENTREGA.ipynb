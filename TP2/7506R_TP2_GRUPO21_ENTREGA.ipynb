{
 "cells": [
  {
   "cell_type": "markdown",
   "metadata": {},
   "source": [
    "# <center>Organizaci&oacute;n de Datos</center>\n",
    "## <center>Trabajo Práctico 2 </center>\n",
    "\n",
    "## <center>Grupo 21</center>\n",
    "\n",
    "#### Integrantes: Francisco Juárez, Lucas Aldazabal, Valentin Schneider, Gonzalo Rizzo Ehrenbock"
   ]
  },
  {
   "cell_type": "markdown",
   "metadata": {},
   "source": [
    "# <center> Procesamiento del Lenguaje Natural <center/> "
   ]
  },
  {
   "cell_type": "markdown",
   "metadata": {},
   "source": [
    "Para realizar la ampliación del dataset, el método que elegimos utilizar es el Ecmes, utilizando el repositorio provisto por la cátedra (https://github.com/juanma1982/ECMes).\n",
    "<br>\n",
    "El mismo analizara la descripcion de las propiedades y en base a su salida recopilaremos los aspectos más relevantes para agregarlos como nuevas columnas.\n",
    "<br>\n",
    "La salida del mismo se encuentra en el archivo salida_ecmes_descripciones.txt"
   ]
  },
  {
   "cell_type": "code",
   "execution_count": 1,
   "metadata": {},
   "outputs": [],
   "source": [
    "import pandas as pd\n",
    "import numpy as np\n",
    "import matplotlib.pyplot as plt\n",
    "import seaborn as sns\n",
    "import warnings\n",
    "\n",
    "import warnings\n",
    "warnings.filterwarnings('ignore')\n",
    "\n",
    "sns.set_theme(style=\"whitegrid\")"
   ]
  },
  {
   "cell_type": "code",
   "execution_count": 2,
   "metadata": {},
   "outputs": [
    {
     "data": {
      "text/html": [
       "<div>\n",
       "<style scoped>\n",
       "    .dataframe tbody tr th:only-of-type {\n",
       "        vertical-align: middle;\n",
       "    }\n",
       "\n",
       "    .dataframe tbody tr th {\n",
       "        vertical-align: top;\n",
       "    }\n",
       "\n",
       "    .dataframe thead th {\n",
       "        text-align: right;\n",
       "    }\n",
       "</style>\n",
       "<table border=\"1\" class=\"dataframe\">\n",
       "  <thead>\n",
       "    <tr style=\"text-align: right;\">\n",
       "      <th></th>\n",
       "      <th>id</th>\n",
       "      <th>latitud</th>\n",
       "      <th>longitud</th>\n",
       "      <th>place_l3</th>\n",
       "      <th>property_type</th>\n",
       "      <th>property_rooms</th>\n",
       "      <th>property_bedrooms</th>\n",
       "      <th>property_surface_total</th>\n",
       "      <th>property_surface_covered</th>\n",
       "      <th>property_price</th>\n",
       "      <th>property_title</th>\n",
       "      <th>pxm2</th>\n",
       "      <th>tipo_precio</th>\n",
       "    </tr>\n",
       "  </thead>\n",
       "  <tbody>\n",
       "    <tr>\n",
       "      <th>0</th>\n",
       "      <td>F5IvmD1uzzdIR7b96ozt4g==</td>\n",
       "      <td>-34.558855</td>\n",
       "      <td>-58.452458</td>\n",
       "      <td>Nuñez</td>\n",
       "      <td>Departamento</td>\n",
       "      <td>4.0</td>\n",
       "      <td>3.0</td>\n",
       "      <td>160.0</td>\n",
       "      <td>146.0</td>\n",
       "      <td>460000.0</td>\n",
       "      <td>Venta: Hermoso piso de categoría en excelente ...</td>\n",
       "      <td>2875.000000</td>\n",
       "      <td>alto</td>\n",
       "    </tr>\n",
       "    <tr>\n",
       "      <th>1</th>\n",
       "      <td>IiT/P7WfYDcqbhu7tf5V4Q==</td>\n",
       "      <td>-34.582403</td>\n",
       "      <td>-58.443841</td>\n",
       "      <td>Colegiales</td>\n",
       "      <td>Departamento</td>\n",
       "      <td>2.0</td>\n",
       "      <td>1.0</td>\n",
       "      <td>50.0</td>\n",
       "      <td>46.0</td>\n",
       "      <td>148000.0</td>\n",
       "      <td>Departamento - Colegiales</td>\n",
       "      <td>2960.000000</td>\n",
       "      <td>alto</td>\n",
       "    </tr>\n",
       "    <tr>\n",
       "      <th>2</th>\n",
       "      <td>6XXcElx/4OwCcH4NI06Oiw==</td>\n",
       "      <td>-34.605825</td>\n",
       "      <td>-58.422214</td>\n",
       "      <td>Almagro</td>\n",
       "      <td>Departamento</td>\n",
       "      <td>3.0</td>\n",
       "      <td>2.0</td>\n",
       "      <td>47.0</td>\n",
       "      <td>47.0</td>\n",
       "      <td>89000.0</td>\n",
       "      <td>Departamento en venta tres ambientes- Almagro</td>\n",
       "      <td>1893.617021</td>\n",
       "      <td>medio</td>\n",
       "    </tr>\n",
       "    <tr>\n",
       "      <th>3</th>\n",
       "      <td>8R7hSzqWFk9rX4wBXxfORA==</td>\n",
       "      <td>-34.561971</td>\n",
       "      <td>-58.455670</td>\n",
       "      <td>Belgrano</td>\n",
       "      <td>Departamento</td>\n",
       "      <td>2.0</td>\n",
       "      <td>1.0</td>\n",
       "      <td>52.0</td>\n",
       "      <td>48.0</td>\n",
       "      <td>127000.0</td>\n",
       "      <td>Departamento - Belgrano</td>\n",
       "      <td>2442.307692</td>\n",
       "      <td>medio</td>\n",
       "    </tr>\n",
       "    <tr>\n",
       "      <th>4</th>\n",
       "      <td>UAKYqQx9s0MfIdLzrJv8Ig==</td>\n",
       "      <td>-34.606738</td>\n",
       "      <td>-58.389426</td>\n",
       "      <td>Tribunales</td>\n",
       "      <td>Departamento</td>\n",
       "      <td>3.0</td>\n",
       "      <td>2.0</td>\n",
       "      <td>76.0</td>\n",
       "      <td>75.0</td>\n",
       "      <td>129900.0</td>\n",
       "      <td>Lindísimo departamento antiguo en excelente es...</td>\n",
       "      <td>1709.210526</td>\n",
       "      <td>bajo</td>\n",
       "    </tr>\n",
       "  </tbody>\n",
       "</table>\n",
       "</div>"
      ],
      "text/plain": [
       "                         id    latitud   longitud    place_l3 property_type  \\\n",
       "0  F5IvmD1uzzdIR7b96ozt4g== -34.558855 -58.452458       Nuñez  Departamento   \n",
       "1  IiT/P7WfYDcqbhu7tf5V4Q== -34.582403 -58.443841  Colegiales  Departamento   \n",
       "2  6XXcElx/4OwCcH4NI06Oiw== -34.605825 -58.422214     Almagro  Departamento   \n",
       "3  8R7hSzqWFk9rX4wBXxfORA== -34.561971 -58.455670    Belgrano  Departamento   \n",
       "4  UAKYqQx9s0MfIdLzrJv8Ig== -34.606738 -58.389426  Tribunales  Departamento   \n",
       "\n",
       "   property_rooms  property_bedrooms  property_surface_total  \\\n",
       "0             4.0                3.0                   160.0   \n",
       "1             2.0                1.0                    50.0   \n",
       "2             3.0                2.0                    47.0   \n",
       "3             2.0                1.0                    52.0   \n",
       "4             3.0                2.0                    76.0   \n",
       "\n",
       "   property_surface_covered  property_price  \\\n",
       "0                     146.0        460000.0   \n",
       "1                      46.0        148000.0   \n",
       "2                      47.0         89000.0   \n",
       "3                      48.0        127000.0   \n",
       "4                      75.0        129900.0   \n",
       "\n",
       "                                      property_title         pxm2 tipo_precio  \n",
       "0  Venta: Hermoso piso de categoría en excelente ...  2875.000000        alto  \n",
       "1                          Departamento - Colegiales  2960.000000        alto  \n",
       "2      Departamento en venta tres ambientes- Almagro  1893.617021       medio  \n",
       "3                            Departamento - Belgrano  2442.307692       medio  \n",
       "4  Lindísimo departamento antiguo en excelente es...  1709.210526        bajo  "
      ]
     },
     "execution_count": 2,
     "metadata": {},
     "output_type": "execute_result"
    }
   ],
   "source": [
    "ds_propiedades = pd.read_csv('./ds_propiedades_total_clasificado.csv')\n",
    "ds_descripciones = pd.read_csv('./properati_argentina_2021_decrip.csv')\n",
    "ds_propiedades.head()"
   ]
  },
  {
   "cell_type": "code",
   "execution_count": 3,
   "metadata": {},
   "outputs": [
    {
     "data": {
      "text/html": [
       "<div>\n",
       "<style scoped>\n",
       "    .dataframe tbody tr th:only-of-type {\n",
       "        vertical-align: middle;\n",
       "    }\n",
       "\n",
       "    .dataframe tbody tr th {\n",
       "        vertical-align: top;\n",
       "    }\n",
       "\n",
       "    .dataframe thead th {\n",
       "        text-align: right;\n",
       "    }\n",
       "</style>\n",
       "<table border=\"1\" class=\"dataframe\">\n",
       "  <thead>\n",
       "    <tr style=\"text-align: right;\">\n",
       "      <th></th>\n",
       "      <th>id</th>\n",
       "      <th>property_description</th>\n",
       "    </tr>\n",
       "  </thead>\n",
       "  <tbody>\n",
       "    <tr>\n",
       "      <th>0</th>\n",
       "      <td>BZCeiGkJr1WBUi6pKJQwJQ==</td>\n",
       "      <td>Corredor Responsable: MARIA ALEJANDRA GENOVEVA...</td>\n",
       "    </tr>\n",
       "    <tr>\n",
       "      <th>2</th>\n",
       "      <td>TUL813tXchVBlHUsfaA6DA==</td>\n",
       "      <td>Excelente PH en Núñez 4 amb!!!! Oportunidad !!...</td>\n",
       "    </tr>\n",
       "    <tr>\n",
       "      <th>3</th>\n",
       "      <td>gn55JPmcjftBV/at1a7fPg==</td>\n",
       "      <td>UNICO PH DE 4 DORMITORIOS EN IMPECABLE ESTADO,...</td>\n",
       "    </tr>\n",
       "    <tr>\n",
       "      <th>10</th>\n",
       "      <td>+9uGr8tPEUkKnpjOef+gUw==</td>\n",
       "      <td>SE VENDE EXCELENTE PH de 2 CÓMODOS AMBIENTES M...</td>\n",
       "    </tr>\n",
       "    <tr>\n",
       "      <th>11</th>\n",
       "      <td>uH5H+RfQM87Qtrb13+T4hA==</td>\n",
       "      <td>Venta PH 4 ambientes Paternal&lt;br&gt;&lt;br&gt;Cálido,  ...</td>\n",
       "    </tr>\n",
       "  </tbody>\n",
       "</table>\n",
       "</div>"
      ],
      "text/plain": [
       "                          id  \\\n",
       "0   BZCeiGkJr1WBUi6pKJQwJQ==   \n",
       "2   TUL813tXchVBlHUsfaA6DA==   \n",
       "3   gn55JPmcjftBV/at1a7fPg==   \n",
       "10  +9uGr8tPEUkKnpjOef+gUw==   \n",
       "11  uH5H+RfQM87Qtrb13+T4hA==   \n",
       "\n",
       "                                 property_description  \n",
       "0   Corredor Responsable: MARIA ALEJANDRA GENOVEVA...  \n",
       "2   Excelente PH en Núñez 4 amb!!!! Oportunidad !!...  \n",
       "3   UNICO PH DE 4 DORMITORIOS EN IMPECABLE ESTADO,...  \n",
       "10  SE VENDE EXCELENTE PH de 2 CÓMODOS AMBIENTES M...  \n",
       "11  Venta PH 4 ambientes Paternal<br><br>Cálido,  ...  "
      ]
     },
     "execution_count": 3,
     "metadata": {},
     "output_type": "execute_result"
    }
   ],
   "source": [
    "ds_descripciones = ds_descripciones[ds_descripciones['id'].isin(ds_propiedades['id'])]\n",
    "ds_descripciones.head()"
   ]
  },
  {
   "cell_type": "markdown",
   "metadata": {},
   "source": [
    "## Exportamos el dataframe a un archivo de texto para poder pasarlo por ECmes"
   ]
  },
  {
   "cell_type": "code",
   "execution_count": 4,
   "metadata": {},
   "outputs": [],
   "source": [
    "ds_descripciones_sin_id = ds_descripciones.drop(['id'], axis=1)\n",
    "ds_descripciones_sin_id.to_csv('ds_descripciones.txt', index=False)"
   ]
  },
  {
   "cell_type": "markdown",
   "metadata": {},
   "source": [
    "## Limpiamos el archivo de descripciones para que lo pueda leer Ecmes correctamente."
   ]
  },
  {
   "cell_type": "markdown",
   "metadata": {},
   "source": [
    "Las dos celdas siguientes quedan comentadas pero las utilizamos para limpiar el archivo de descripciones para que lo pueda leer Ecmes correctamente."
   ]
  },
  {
   "cell_type": "code",
   "execution_count": 5,
   "metadata": {},
   "outputs": [],
   "source": [
    "# dic_replace = {\n",
    "#     'á': 'a',\n",
    "#     'é': 'e',\n",
    "#     'í': 'i',\n",
    "#     'ó': 'o',\n",
    "#     'ú': 'u',\n",
    "#     'Á': 'A',\n",
    "#     'É': 'E',\n",
    "#     'Í': 'I',\n",
    "#     'Ó': 'O',\n",
    "#     'Ú': 'U',\n",
    "#     'ñ': 'ni',\n",
    "#     'Ñ': 'NI',\n",
    "#     'ü': 'u',\n",
    "#     'Ü': 'U',\n",
    "#     '<br>': ' ',\n",
    "#     '<br />': ' ',\n",
    "#     '<br/>': ' ',\n",
    "#     '<p>': ' ',\n",
    "#     '</p>': ' ',\n",
    "#     '<b>': ' ',\n",
    "#     '</b>': ' ',\n",
    "# }"
   ]
  },
  {
   "cell_type": "code",
   "execution_count": 6,
   "metadata": {},
   "outputs": [],
   "source": [
    "# with open('ds_descripciones.txt', 'r', encoding = 'utf8') as f_in, open('ds_descripciones_out.txt', 'w', encoding = 'utf8') as f_out:\n",
    "#     for line in f_in:\n",
    "#         for src, target in dic_replace.items():\n",
    "#             line = line.replace(src, target)\n",
    "        \n",
    "#         # dejamos caracteres alfanumericos, espacios y saltos de linea\n",
    "#         line = ''.join([c for c in line if c.isalpha() or c == ' ' or c == '\\n' or c == '.' or c == ','])\n",
    " \n",
    "        \n",
    "#         for src, target in dic_replace.items():\n",
    "#              line = line.replace(src, target)\n",
    "#         f_out.writelines(line)"
   ]
  },
  {
   "cell_type": "markdown",
   "metadata": {},
   "source": [
    "Finalmente, la linea que utilizamos para correr Ecmes es:"
   ]
  },
  {
   "cell_type": "code",
   "execution_count": 7,
   "metadata": {},
   "outputs": [
    {
     "data": {
      "text/plain": [
       "\"\\njava -jar -Xmx4056m  -Xms1024m -ea ECMes.jar -f 'C:/Users/name/Desktop/organizacion_de_datos/7506R-2C2022-GRUPO21 TP1/TP2/ds_descripciones_out.txt' -full -o salida_ecmes_descripciones.txt\\n\""
      ]
     },
     "execution_count": 7,
     "metadata": {},
     "output_type": "execute_result"
    }
   ],
   "source": [
    "\"\"\"\n",
    "java -jar -Xmx4056m  -Xms1024m -ea ECMes.jar -f 'C:/Users/name/Desktop/organizacion_de_datos/7506R-2C2022-GRUPO21 TP1/TP2/ds_descripciones_out.txt' -full -o salida_ecmes_descripciones.txt\n",
    "\"\"\""
   ]
  },
  {
   "cell_type": "markdown",
   "metadata": {},
   "source": [
    "Unimos los dataset de la parte 1 con sus respectivas descripciones, provistas por el nuevo dataset"
   ]
  },
  {
   "cell_type": "code",
   "execution_count": 8,
   "metadata": {},
   "outputs": [
    {
     "data": {
      "text/html": [
       "<div>\n",
       "<style scoped>\n",
       "    .dataframe tbody tr th:only-of-type {\n",
       "        vertical-align: middle;\n",
       "    }\n",
       "\n",
       "    .dataframe tbody tr th {\n",
       "        vertical-align: top;\n",
       "    }\n",
       "\n",
       "    .dataframe thead th {\n",
       "        text-align: right;\n",
       "    }\n",
       "</style>\n",
       "<table border=\"1\" class=\"dataframe\">\n",
       "  <thead>\n",
       "    <tr style=\"text-align: right;\">\n",
       "      <th></th>\n",
       "      <th>id</th>\n",
       "      <th>latitud</th>\n",
       "      <th>longitud</th>\n",
       "      <th>place_l3</th>\n",
       "      <th>property_type</th>\n",
       "      <th>property_rooms</th>\n",
       "      <th>property_bedrooms</th>\n",
       "      <th>property_surface_total</th>\n",
       "      <th>property_surface_covered</th>\n",
       "      <th>property_price</th>\n",
       "      <th>property_title</th>\n",
       "      <th>pxm2</th>\n",
       "      <th>tipo_precio</th>\n",
       "      <th>property_description</th>\n",
       "    </tr>\n",
       "  </thead>\n",
       "  <tbody>\n",
       "    <tr>\n",
       "      <th>0</th>\n",
       "      <td>F5IvmD1uzzdIR7b96ozt4g==</td>\n",
       "      <td>-34.558855</td>\n",
       "      <td>-58.452458</td>\n",
       "      <td>Nuñez</td>\n",
       "      <td>Departamento</td>\n",
       "      <td>4.0</td>\n",
       "      <td>3.0</td>\n",
       "      <td>160.0</td>\n",
       "      <td>146.0</td>\n",
       "      <td>460000.0</td>\n",
       "      <td>Venta: Hermoso piso de categoría en excelente ...</td>\n",
       "      <td>2875.000000</td>\n",
       "      <td>alto</td>\n",
       "      <td>Hermoso piso de 4 ambientes con dependencia y ...</td>\n",
       "    </tr>\n",
       "    <tr>\n",
       "      <th>1</th>\n",
       "      <td>IiT/P7WfYDcqbhu7tf5V4Q==</td>\n",
       "      <td>-34.582403</td>\n",
       "      <td>-58.443841</td>\n",
       "      <td>Colegiales</td>\n",
       "      <td>Departamento</td>\n",
       "      <td>2.0</td>\n",
       "      <td>1.0</td>\n",
       "      <td>50.0</td>\n",
       "      <td>46.0</td>\n",
       "      <td>148000.0</td>\n",
       "      <td>Departamento - Colegiales</td>\n",
       "      <td>2960.000000</td>\n",
       "      <td>alto</td>\n",
       "      <td>2 ambientes con balcón y vista totalmente abie...</td>\n",
       "    </tr>\n",
       "    <tr>\n",
       "      <th>2</th>\n",
       "      <td>6XXcElx/4OwCcH4NI06Oiw==</td>\n",
       "      <td>-34.605825</td>\n",
       "      <td>-58.422214</td>\n",
       "      <td>Almagro</td>\n",
       "      <td>Departamento</td>\n",
       "      <td>3.0</td>\n",
       "      <td>2.0</td>\n",
       "      <td>47.0</td>\n",
       "      <td>47.0</td>\n",
       "      <td>89000.0</td>\n",
       "      <td>Departamento en venta tres ambientes- Almagro</td>\n",
       "      <td>1893.617021</td>\n",
       "      <td>medio</td>\n",
       "      <td>**DIAZ VELEZ 4291 Y PRINGLES** Almagro.&lt;br&gt;&lt;br...</td>\n",
       "    </tr>\n",
       "    <tr>\n",
       "      <th>3</th>\n",
       "      <td>8R7hSzqWFk9rX4wBXxfORA==</td>\n",
       "      <td>-34.561971</td>\n",
       "      <td>-58.455670</td>\n",
       "      <td>Belgrano</td>\n",
       "      <td>Departamento</td>\n",
       "      <td>2.0</td>\n",
       "      <td>1.0</td>\n",
       "      <td>52.0</td>\n",
       "      <td>48.0</td>\n",
       "      <td>127000.0</td>\n",
       "      <td>Departamento - Belgrano</td>\n",
       "      <td>2442.307692</td>\n",
       "      <td>medio</td>\n",
       "      <td>IMPECABLE 2 AMBIENTES A ESTRENAR!&lt;...</td>\n",
       "    </tr>\n",
       "    <tr>\n",
       "      <th>4</th>\n",
       "      <td>UAKYqQx9s0MfIdLzrJv8Ig==</td>\n",
       "      <td>-34.606738</td>\n",
       "      <td>-58.389426</td>\n",
       "      <td>Tribunales</td>\n",
       "      <td>Departamento</td>\n",
       "      <td>3.0</td>\n",
       "      <td>2.0</td>\n",
       "      <td>76.0</td>\n",
       "      <td>75.0</td>\n",
       "      <td>129900.0</td>\n",
       "      <td>Lindísimo departamento antiguo en excelente es...</td>\n",
       "      <td>1709.210526</td>\n",
       "      <td>bajo</td>\n",
       "      <td>Excelente piso antiguo, lindísimo por sus tech...</td>\n",
       "    </tr>\n",
       "  </tbody>\n",
       "</table>\n",
       "</div>"
      ],
      "text/plain": [
       "                         id    latitud   longitud    place_l3 property_type  \\\n",
       "0  F5IvmD1uzzdIR7b96ozt4g== -34.558855 -58.452458       Nuñez  Departamento   \n",
       "1  IiT/P7WfYDcqbhu7tf5V4Q== -34.582403 -58.443841  Colegiales  Departamento   \n",
       "2  6XXcElx/4OwCcH4NI06Oiw== -34.605825 -58.422214     Almagro  Departamento   \n",
       "3  8R7hSzqWFk9rX4wBXxfORA== -34.561971 -58.455670    Belgrano  Departamento   \n",
       "4  UAKYqQx9s0MfIdLzrJv8Ig== -34.606738 -58.389426  Tribunales  Departamento   \n",
       "\n",
       "   property_rooms  property_bedrooms  property_surface_total  \\\n",
       "0             4.0                3.0                   160.0   \n",
       "1             2.0                1.0                    50.0   \n",
       "2             3.0                2.0                    47.0   \n",
       "3             2.0                1.0                    52.0   \n",
       "4             3.0                2.0                    76.0   \n",
       "\n",
       "   property_surface_covered  property_price  \\\n",
       "0                     146.0        460000.0   \n",
       "1                      46.0        148000.0   \n",
       "2                      47.0         89000.0   \n",
       "3                      48.0        127000.0   \n",
       "4                      75.0        129900.0   \n",
       "\n",
       "                                      property_title         pxm2 tipo_precio  \\\n",
       "0  Venta: Hermoso piso de categoría en excelente ...  2875.000000        alto   \n",
       "1                          Departamento - Colegiales  2960.000000        alto   \n",
       "2      Departamento en venta tres ambientes- Almagro  1893.617021       medio   \n",
       "3                            Departamento - Belgrano  2442.307692       medio   \n",
       "4  Lindísimo departamento antiguo en excelente es...  1709.210526        bajo   \n",
       "\n",
       "                                property_description  \n",
       "0  Hermoso piso de 4 ambientes con dependencia y ...  \n",
       "1  2 ambientes con balcón y vista totalmente abie...  \n",
       "2  **DIAZ VELEZ 4291 Y PRINGLES** Almagro.<br><br...  \n",
       "3              IMPECABLE 2 AMBIENTES A ESTRENAR!<...  \n",
       "4  Excelente piso antiguo, lindísimo por sus tech...  "
      ]
     },
     "execution_count": 8,
     "metadata": {},
     "output_type": "execute_result"
    }
   ],
   "source": [
    "ds_propiedades = ds_propiedades.join(ds_descripciones.set_index('id'), on='id')\n",
    "ds_propiedades.head()"
   ]
  },
  {
   "cell_type": "markdown",
   "metadata": {},
   "source": [
    "## Imputacion de nuevos parametros basados en los datos de Ecmes"
   ]
  },
  {
   "cell_type": "markdown",
   "metadata": {},
   "source": [
    "#### Basandonos en la frecuencia de aparición de palabras dada por Ecmes y nuestro dominio del problema, sabemos que estos son aspectos muy influyentes.<br>\n",
    "#### Procedemos a añadirlos al dataset para ampliarlo"
   ]
  },
  {
   "cell_type": "markdown",
   "metadata": {},
   "source": [
    "#### Pileta"
   ]
  },
  {
   "cell_type": "code",
   "execution_count": 9,
   "metadata": {},
   "outputs": [],
   "source": [
    "import re\n",
    "regexp = re.compile(r'piscina|pileta/gi', re.IGNORECASE)\n",
    "\n",
    "ds_propiedades['piscina'] = ds_propiedades['property_description'].apply(lambda x: 1 if regexp.search(x) else 0)"
   ]
  },
  {
   "cell_type": "code",
   "execution_count": 10,
   "metadata": {},
   "outputs": [
    {
     "name": "stdout",
     "output_type": "stream",
     "text": [
      "Vemos que la cantidad de propiedades con pileta es de 9729\n"
     ]
    }
   ],
   "source": [
    "cantidad_pileta = ds_propiedades[ds_propiedades['piscina'] == 1].shape[0]\n",
    "print(f\"Vemos que la cantidad de propiedades con pileta es de {cantidad_pileta}\")"
   ]
  },
  {
   "cell_type": "markdown",
   "metadata": {},
   "source": [
    "#### Garaje/Cochera"
   ]
  },
  {
   "cell_type": "code",
   "execution_count": 11,
   "metadata": {},
   "outputs": [],
   "source": [
    "regexp  = re.compile(r'cochera|garage/gi', re.IGNORECASE)\n",
    "\n",
    "ds_propiedades['cochera'] = ds_propiedades['property_description'].apply(lambda x: 1 if regexp.search(x) else 0)"
   ]
  },
  {
   "cell_type": "code",
   "execution_count": 12,
   "metadata": {},
   "outputs": [
    {
     "name": "stdout",
     "output_type": "stream",
     "text": [
      "Vemos que la cantidad de propiedades con Garaje es de 27031\n"
     ]
    }
   ],
   "source": [
    "cantidad_garaje = ds_propiedades[ds_propiedades['cochera'] == 1].shape[0]\n",
    "print(f\"Vemos que la cantidad de propiedades con Garaje es de {cantidad_garaje}\")"
   ]
  },
  {
   "cell_type": "markdown",
   "metadata": {},
   "source": [
    "#### Balcon"
   ]
  },
  {
   "cell_type": "code",
   "execution_count": 13,
   "metadata": {},
   "outputs": [],
   "source": [
    "regexp  = re.compile(r'balc[oó]n|/gi', re.IGNORECASE)\n",
    "\n",
    "ds_propiedades['balcon'] = ds_propiedades['property_description'].apply(lambda x: 1 if regexp.search(x) else 0)"
   ]
  },
  {
   "cell_type": "code",
   "execution_count": 14,
   "metadata": {},
   "outputs": [
    {
     "name": "stdout",
     "output_type": "stream",
     "text": [
      "Vemos que la cantidad de propiedades con Balcon es de 52839\n"
     ]
    }
   ],
   "source": [
    "cantidad_balcon = ds_propiedades[ds_propiedades['balcon'] == 1].shape[0]\n",
    "print(f\"Vemos que la cantidad de propiedades con Balcon es de {cantidad_balcon}\")"
   ]
  },
  {
   "cell_type": "markdown",
   "metadata": {},
   "source": [
    "#### Hidromasaje"
   ]
  },
  {
   "cell_type": "code",
   "execution_count": 15,
   "metadata": {},
   "outputs": [],
   "source": [
    "regexp  = re.compile(r'hidromasaje|jacuzzi|spa/gi', re.IGNORECASE)\n",
    "\n",
    "ds_propiedades['hidromasaje'] = ds_propiedades['property_description'].apply(lambda x: 1 if regexp.search(x) else 0)"
   ]
  },
  {
   "cell_type": "code",
   "execution_count": 16,
   "metadata": {},
   "outputs": [
    {
     "name": "stdout",
     "output_type": "stream",
     "text": [
      "Vemos que la cantidad de propiedades con Hidromasaje es de 4047\n"
     ]
    }
   ],
   "source": [
    "cantidad_hidromasaje = ds_propiedades[ds_propiedades['hidromasaje'] == 1].shape[0]\n",
    "print(f\"Vemos que la cantidad de propiedades con Hidromasaje es de {cantidad_hidromasaje}\")"
   ]
  },
  {
   "cell_type": "markdown",
   "metadata": {},
   "source": [
    "#### Jardín"
   ]
  },
  {
   "cell_type": "code",
   "execution_count": 17,
   "metadata": {},
   "outputs": [],
   "source": [
    "regexp = re.compile(r'jardin|jardín/gi', re.IGNORECASE)\n",
    "\n",
    "ds_propiedades['jardin'] = ds_propiedades['property_description'].apply(lambda x: 1 if regexp.search(x) else 0)"
   ]
  },
  {
   "cell_type": "code",
   "execution_count": 18,
   "metadata": {},
   "outputs": [
    {
     "name": "stdout",
     "output_type": "stream",
     "text": [
      "Vemos que la cantidad de propiedades con Jardin es de 2688\n"
     ]
    }
   ],
   "source": [
    "cantidad_jardin = ds_propiedades[ds_propiedades['jardin'] == 1].shape[0]\n",
    "print(f\"Vemos que la cantidad de propiedades con Jardin es de {cantidad_jardin}\")"
   ]
  },
  {
   "cell_type": "markdown",
   "metadata": {},
   "source": [
    "#### Gimnasio"
   ]
  },
  {
   "cell_type": "code",
   "execution_count": 19,
   "metadata": {},
   "outputs": [],
   "source": [
    "regexp = re.compile(r'gimnasio|gym/gi', re.IGNORECASE)\n",
    "\n",
    "ds_propiedades['gimnasio'] = ds_propiedades['property_description'].apply(lambda x: 1 if regexp.search(x) else 0)"
   ]
  },
  {
   "cell_type": "code",
   "execution_count": 20,
   "metadata": {},
   "outputs": [
    {
     "name": "stdout",
     "output_type": "stream",
     "text": [
      "Vemos que la cantidad de propiedades con Gimnasio es de 6601\n"
     ]
    }
   ],
   "source": [
    "cantidad_gimnasio = ds_propiedades[ds_propiedades['gimnasio'] == 1].shape[0]\n",
    "print(f\"Vemos que la cantidad de propiedades con Gimnasio es de {cantidad_gimnasio}\")"
   ]
  },
  {
   "cell_type": "markdown",
   "metadata": {},
   "source": [
    "#### A estrenar"
   ]
  },
  {
   "cell_type": "code",
   "execution_count": 21,
   "metadata": {},
   "outputs": [],
   "source": [
    "regexp = re.compile(r'estrenar|/gi', re.IGNORECASE)\n",
    "\n",
    "ds_propiedades['a_estrenar'] = ds_propiedades['property_description'].apply(lambda x: 1 if regexp.search(x) else 0)"
   ]
  },
  {
   "cell_type": "code",
   "execution_count": 22,
   "metadata": {},
   "outputs": [
    {
     "name": "stdout",
     "output_type": "stream",
     "text": [
      "Vemos que la cantidad de propiedades a estrenar es de 8311\n"
     ]
    }
   ],
   "source": [
    "cantidad_a_estrenar = ds_propiedades[ds_propiedades['a_estrenar'] == 1].shape[0]\n",
    "print(f\"Vemos que la cantidad de propiedades a estrenar es de {cantidad_a_estrenar}\")"
   ]
  },
  {
   "cell_type": "markdown",
   "metadata": {},
   "source": [
    "#### Sótano"
   ]
  },
  {
   "cell_type": "code",
   "execution_count": 23,
   "metadata": {},
   "outputs": [],
   "source": [
    "regexp = re.compile(r'sotano|sótano/gi', re.IGNORECASE)\n",
    "\n",
    "ds_propiedades['sotano'] = ds_propiedades['property_description'].apply(lambda x: 1 if regexp.search(x) else 0)"
   ]
  },
  {
   "cell_type": "code",
   "execution_count": 24,
   "metadata": {},
   "outputs": [
    {
     "name": "stdout",
     "output_type": "stream",
     "text": [
      "Vemos que la cantidad de propiedades con Sotano es de 83\n"
     ]
    }
   ],
   "source": [
    "cantidad_sotano = ds_propiedades[ds_propiedades['sotano'] == 1].shape[0]\n",
    "print(f\"Vemos que la cantidad de propiedades con Sotano es de {cantidad_sotano}\")"
   ]
  },
  {
   "cell_type": "markdown",
   "metadata": {},
   "source": [
    "#### Quincho"
   ]
  },
  {
   "cell_type": "code",
   "execution_count": 25,
   "metadata": {},
   "outputs": [],
   "source": [
    "regexp = re.compile(r'quincho|/gi', re.IGNORECASE)\n",
    "\n",
    "ds_propiedades['quincho'] = ds_propiedades['property_description'].apply(lambda x: 1 if regexp.search(x) else 0)"
   ]
  },
  {
   "cell_type": "code",
   "execution_count": 26,
   "metadata": {},
   "outputs": [
    {
     "name": "stdout",
     "output_type": "stream",
     "text": [
      "Vemos que la cantidad de propiedades con Quincho es de 3173\n"
     ]
    }
   ],
   "source": [
    "cantidad_quincho = ds_propiedades[ds_propiedades['quincho'] == 1].shape[0]\n",
    "print(f\"Vemos que la cantidad de propiedades con Quincho es de {cantidad_quincho}\")"
   ]
  },
  {
   "cell_type": "markdown",
   "metadata": {},
   "source": [
    "#### Sum"
   ]
  },
  {
   "cell_type": "code",
   "execution_count": 27,
   "metadata": {},
   "outputs": [],
   "source": [
    "regexp = re.compile(r'(\\bsum\\b)|(s\\.u\\.m)|(salon de usos multiples)/gi', re.IGNORECASE)\n",
    "\n",
    "ds_propiedades['sum'] = ds_propiedades['property_description'].apply(lambda x: 1 if regexp.search(x) else 0)"
   ]
  },
  {
   "cell_type": "code",
   "execution_count": 28,
   "metadata": {},
   "outputs": [
    {
     "name": "stdout",
     "output_type": "stream",
     "text": [
      "Vemos que la cantidad de propiedades con SUM es de 14847\n"
     ]
    }
   ],
   "source": [
    "cantidad_sum = ds_propiedades[ds_propiedades['sum'] == 1].shape[0]\n",
    "print(f\"Vemos que la cantidad de propiedades con SUM es de {cantidad_sum}\")"
   ]
  },
  {
   "cell_type": "markdown",
   "metadata": {},
   "source": [
    "#### Expensas"
   ]
  },
  {
   "cell_type": "markdown",
   "metadata": {},
   "source": [
    "Vamos a buscar generar un parametro expensas_tipo que sea baja, mediana, alta o no aplica dependiendo del caso, para esto primero vamos a buscar los precios que se encuentran en el dataset y con eso hacer un rango de precios para cada tipo de expensas. Luego esto lo combinamos con otra busqueda en las descripciones para encontrar palabras que nos indiquen si es un precio alto, medio o bajo."
   ]
  },
  {
   "cell_type": "code",
   "execution_count": 29,
   "metadata": {},
   "outputs": [],
   "source": [
    "regexp = re.compile(r'expensas[\\$0-9 \\.,:]+|/gi', re.IGNORECASE)\n",
    "\n",
    "ds_propiedades['expensas_price'] = ds_propiedades['property_description'].apply(lambda x: regexp.search(x).group() if regexp.search(x) else -1)\n",
    "\n",
    "ds_propiedades['expensas_price'] = ds_propiedades['expensas_price'].apply(lambda x: x.lower().replace('expensas:','').replace('$','').replace(' ','').replace('.','').replace(',','.') if x != -1 else -1)\n",
    "\n",
    "ds_propiedades['expensas_price'] =   ds_propiedades['expensas_price'].apply(lambda x: float(x) if str(x).isnumeric() else -1)"
   ]
  },
  {
   "cell_type": "code",
   "execution_count": 30,
   "metadata": {},
   "outputs": [
    {
     "name": "stdout",
     "output_type": "stream",
     "text": [
      "Vemos que la cantidad de propiedades con expensas es de 4484\n"
     ]
    }
   ],
   "source": [
    "propiedades_con_precio_expensas = ds_propiedades[ds_propiedades['expensas_price'] > -1].shape[0]\n",
    "\n",
    "print(f\"Vemos que la cantidad de propiedades con expensas es de {propiedades_con_precio_expensas}\")"
   ]
  },
  {
   "cell_type": "markdown",
   "metadata": {},
   "source": [
    "Ahora vemos Expensas_tipo"
   ]
  },
  {
   "cell_type": "code",
   "execution_count": 31,
   "metadata": {},
   "outputs": [
    {
     "data": {
      "text/plain": [
       "no aplica    47149\n",
       "medias       15184\n",
       "bajas        11582\n",
       "altas         9088\n",
       "sin           2690\n",
       "Name: expensas_tipo, dtype: int64"
      ]
     },
     "execution_count": 31,
     "metadata": {},
     "output_type": "execute_result"
    }
   ],
   "source": [
    "regexp_sin = re.compile(r'sin expensas', re.IGNORECASE)\n",
    "regexp_tipo = re.compile(r'expensas baja|media|alta|accesible|barata', re.IGNORECASE)\n",
    "\n",
    "ds_propiedades['expensas_tipo'] = ds_propiedades['property_description'].apply(lambda x: \n",
    "  regexp_sin.search(x.lower()).group() if regexp_sin.search(x) else (regexp_tipo.search(x.lower()).group() if regexp_tipo.search(x) else 'no aplica')\n",
    ")\n",
    "\n",
    "ds_propiedades['expensas_tipo'] = ds_propiedades['expensas_tipo'].apply(lambda x: 'sin' if 'sin' in str(x) else x)\n",
    "ds_propiedades['expensas_tipo'] = ds_propiedades['expensas_tipo'].apply(lambda x: 'bajas' if 'baja' in str(x) else x)\n",
    "ds_propiedades['expensas_tipo'] = ds_propiedades['expensas_tipo'].apply(lambda x: 'bajas' if 'accesible' in str(x) else x)\n",
    "ds_propiedades['expensas_tipo'] = ds_propiedades['expensas_tipo'].apply(lambda x: 'bajas' if 'barata' in str(x) else x)\n",
    "ds_propiedades['expensas_tipo'] = ds_propiedades['expensas_tipo'].apply(lambda x: 'medias' if 'media' in str(x) else x)\n",
    "ds_propiedades['expensas_tipo'] = ds_propiedades['expensas_tipo'].apply(lambda x: 'altas' if 'alta' in str(x) else x)\n",
    "\n",
    "ds_propiedades['expensas_tipo'].value_counts()"
   ]
  },
  {
   "cell_type": "markdown",
   "metadata": {},
   "source": [
    "Vemos cuantas expensas categorizadas como 'no aplica' tienen un precio y las categorizamos acordemente. Después droppeamos la columna Expensas_price ya que era un ayuda"
   ]
  },
  {
   "cell_type": "code",
   "execution_count": 32,
   "metadata": {},
   "outputs": [
    {
     "data": {
      "text/plain": [
       "no aplica    44344\n",
       "medias       16106\n",
       "bajas        12542\n",
       "altas        10011\n",
       "sin           2690\n",
       "Name: expensas_tipo, dtype: int64"
      ]
     },
     "execution_count": 32,
     "metadata": {},
     "output_type": "execute_result"
    }
   ],
   "source": [
    "ds_propiedades_completar_tipo = ds_propiedades[(ds_propiedades['expensas_tipo'] == 'no aplica') & (ds_propiedades['expensas_price'] > 0)].copy()\n",
    "\n",
    "if len(ds_propiedades_completar_tipo) > 0: ds_propiedades_completar_tipo['expensas_tipo'] = pd.qcut(ds_propiedades_completar_tipo['expensas_price'], q=3, labels=['bajas', 'medias', 'altas'])\n",
    "\n",
    "ds_propiedades.loc[(ds_propiedades['expensas_tipo'] == 'no aplica') & (ds_propiedades['expensas_price'] > 0), 'expensas_tipo'] = ds_propiedades_completar_tipo['expensas_tipo']\n",
    "ds_propiedades.drop(columns=['expensas_price'], inplace=True)\n",
    "\n",
    "ds_propiedades['expensas_tipo'].value_counts()"
   ]
  },
  {
   "cell_type": "markdown",
   "metadata": {},
   "source": [
    "## Filtramos las columnas generadas"
   ]
  },
  {
   "cell_type": "code",
   "execution_count": 33,
   "metadata": {},
   "outputs": [
    {
     "data": {
      "text/html": [
       "<div>\n",
       "<style scoped>\n",
       "    .dataframe tbody tr th:only-of-type {\n",
       "        vertical-align: middle;\n",
       "    }\n",
       "\n",
       "    .dataframe tbody tr th {\n",
       "        vertical-align: top;\n",
       "    }\n",
       "\n",
       "    .dataframe thead th {\n",
       "        text-align: right;\n",
       "    }\n",
       "</style>\n",
       "<table border=\"1\" class=\"dataframe\">\n",
       "  <thead>\n",
       "    <tr style=\"text-align: right;\">\n",
       "      <th></th>\n",
       "      <th>id</th>\n",
       "      <th>latitud</th>\n",
       "      <th>longitud</th>\n",
       "      <th>place_l3</th>\n",
       "      <th>property_type</th>\n",
       "      <th>property_rooms</th>\n",
       "      <th>property_bedrooms</th>\n",
       "      <th>property_surface_total</th>\n",
       "      <th>property_surface_covered</th>\n",
       "      <th>property_price</th>\n",
       "      <th>...</th>\n",
       "      <th>cochera</th>\n",
       "      <th>balcon</th>\n",
       "      <th>hidromasaje</th>\n",
       "      <th>jardin</th>\n",
       "      <th>gimnasio</th>\n",
       "      <th>a_estrenar</th>\n",
       "      <th>sotano</th>\n",
       "      <th>quincho</th>\n",
       "      <th>sum</th>\n",
       "      <th>expensas_tipo</th>\n",
       "    </tr>\n",
       "  </thead>\n",
       "  <tbody>\n",
       "    <tr>\n",
       "      <th>0</th>\n",
       "      <td>F5IvmD1uzzdIR7b96ozt4g==</td>\n",
       "      <td>-34.558855</td>\n",
       "      <td>-58.452458</td>\n",
       "      <td>Nuñez</td>\n",
       "      <td>Departamento</td>\n",
       "      <td>4.0</td>\n",
       "      <td>3.0</td>\n",
       "      <td>160.0</td>\n",
       "      <td>146.0</td>\n",
       "      <td>460000.0</td>\n",
       "      <td>...</td>\n",
       "      <td>1</td>\n",
       "      <td>1</td>\n",
       "      <td>0</td>\n",
       "      <td>0</td>\n",
       "      <td>0</td>\n",
       "      <td>0</td>\n",
       "      <td>0</td>\n",
       "      <td>0</td>\n",
       "      <td>0</td>\n",
       "      <td>no aplica</td>\n",
       "    </tr>\n",
       "    <tr>\n",
       "      <th>1</th>\n",
       "      <td>IiT/P7WfYDcqbhu7tf5V4Q==</td>\n",
       "      <td>-34.582403</td>\n",
       "      <td>-58.443841</td>\n",
       "      <td>Colegiales</td>\n",
       "      <td>Departamento</td>\n",
       "      <td>2.0</td>\n",
       "      <td>1.0</td>\n",
       "      <td>50.0</td>\n",
       "      <td>46.0</td>\n",
       "      <td>148000.0</td>\n",
       "      <td>...</td>\n",
       "      <td>1</td>\n",
       "      <td>1</td>\n",
       "      <td>0</td>\n",
       "      <td>0</td>\n",
       "      <td>0</td>\n",
       "      <td>0</td>\n",
       "      <td>0</td>\n",
       "      <td>0</td>\n",
       "      <td>0</td>\n",
       "      <td>no aplica</td>\n",
       "    </tr>\n",
       "    <tr>\n",
       "      <th>2</th>\n",
       "      <td>6XXcElx/4OwCcH4NI06Oiw==</td>\n",
       "      <td>-34.605825</td>\n",
       "      <td>-58.422214</td>\n",
       "      <td>Almagro</td>\n",
       "      <td>Departamento</td>\n",
       "      <td>3.0</td>\n",
       "      <td>2.0</td>\n",
       "      <td>47.0</td>\n",
       "      <td>47.0</td>\n",
       "      <td>89000.0</td>\n",
       "      <td>...</td>\n",
       "      <td>0</td>\n",
       "      <td>0</td>\n",
       "      <td>0</td>\n",
       "      <td>0</td>\n",
       "      <td>0</td>\n",
       "      <td>0</td>\n",
       "      <td>0</td>\n",
       "      <td>0</td>\n",
       "      <td>0</td>\n",
       "      <td>no aplica</td>\n",
       "    </tr>\n",
       "    <tr>\n",
       "      <th>3</th>\n",
       "      <td>8R7hSzqWFk9rX4wBXxfORA==</td>\n",
       "      <td>-34.561971</td>\n",
       "      <td>-58.455670</td>\n",
       "      <td>Belgrano</td>\n",
       "      <td>Departamento</td>\n",
       "      <td>2.0</td>\n",
       "      <td>1.0</td>\n",
       "      <td>52.0</td>\n",
       "      <td>48.0</td>\n",
       "      <td>127000.0</td>\n",
       "      <td>...</td>\n",
       "      <td>0</td>\n",
       "      <td>1</td>\n",
       "      <td>0</td>\n",
       "      <td>0</td>\n",
       "      <td>0</td>\n",
       "      <td>1</td>\n",
       "      <td>0</td>\n",
       "      <td>0</td>\n",
       "      <td>0</td>\n",
       "      <td>medias</td>\n",
       "    </tr>\n",
       "    <tr>\n",
       "      <th>4</th>\n",
       "      <td>UAKYqQx9s0MfIdLzrJv8Ig==</td>\n",
       "      <td>-34.606738</td>\n",
       "      <td>-58.389426</td>\n",
       "      <td>Tribunales</td>\n",
       "      <td>Departamento</td>\n",
       "      <td>3.0</td>\n",
       "      <td>2.0</td>\n",
       "      <td>76.0</td>\n",
       "      <td>75.0</td>\n",
       "      <td>129900.0</td>\n",
       "      <td>...</td>\n",
       "      <td>0</td>\n",
       "      <td>1</td>\n",
       "      <td>0</td>\n",
       "      <td>0</td>\n",
       "      <td>0</td>\n",
       "      <td>0</td>\n",
       "      <td>0</td>\n",
       "      <td>0</td>\n",
       "      <td>0</td>\n",
       "      <td>no aplica</td>\n",
       "    </tr>\n",
       "  </tbody>\n",
       "</table>\n",
       "<p>5 rows × 25 columns</p>\n",
       "</div>"
      ],
      "text/plain": [
       "                         id    latitud   longitud    place_l3 property_type  \\\n",
       "0  F5IvmD1uzzdIR7b96ozt4g== -34.558855 -58.452458       Nuñez  Departamento   \n",
       "1  IiT/P7WfYDcqbhu7tf5V4Q== -34.582403 -58.443841  Colegiales  Departamento   \n",
       "2  6XXcElx/4OwCcH4NI06Oiw== -34.605825 -58.422214     Almagro  Departamento   \n",
       "3  8R7hSzqWFk9rX4wBXxfORA== -34.561971 -58.455670    Belgrano  Departamento   \n",
       "4  UAKYqQx9s0MfIdLzrJv8Ig== -34.606738 -58.389426  Tribunales  Departamento   \n",
       "\n",
       "   property_rooms  property_bedrooms  property_surface_total  \\\n",
       "0             4.0                3.0                   160.0   \n",
       "1             2.0                1.0                    50.0   \n",
       "2             3.0                2.0                    47.0   \n",
       "3             2.0                1.0                    52.0   \n",
       "4             3.0                2.0                    76.0   \n",
       "\n",
       "   property_surface_covered  property_price  ... cochera  balcon hidromasaje  \\\n",
       "0                     146.0        460000.0  ...       1       1           0   \n",
       "1                      46.0        148000.0  ...       1       1           0   \n",
       "2                      47.0         89000.0  ...       0       0           0   \n",
       "3                      48.0        127000.0  ...       0       1           0   \n",
       "4                      75.0        129900.0  ...       0       1           0   \n",
       "\n",
       "  jardin  gimnasio  a_estrenar  sotano  quincho  sum  expensas_tipo  \n",
       "0      0         0           0       0        0    0      no aplica  \n",
       "1      0         0           0       0        0    0      no aplica  \n",
       "2      0         0           0       0        0    0      no aplica  \n",
       "3      0         0           1       0        0    0         medias  \n",
       "4      0         0           0       0        0    0      no aplica  \n",
       "\n",
       "[5 rows x 25 columns]"
      ]
     },
     "execution_count": 33,
     "metadata": {},
     "output_type": "execute_result"
    }
   ],
   "source": [
    "ds_propiedades.head()"
   ]
  },
  {
   "cell_type": "markdown",
   "metadata": {},
   "source": [
    "Ahora ya tenemos creadas las nuevas columnas, vamos a ver si podemos sacar algo de informacion de ellas"
   ]
  },
  {
   "cell_type": "code",
   "execution_count": 34,
   "metadata": {},
   "outputs": [
    {
     "data": {
      "text/plain": [
       "piscina                                                       9729\n",
       "cochera                                                      27031\n",
       "balcon                                                       52839\n",
       "hidromasaje                                                   4047\n",
       "jardin                                                        2688\n",
       "gimnasio                                                      6601\n",
       "a_estrenar                                                    8311\n",
       "sotano                                                          83\n",
       "quincho                                                       3173\n",
       "sum                                                          14847\n",
       "expensas_tipo    no aplicano aplicano aplicamediasno aplicamedi...\n",
       "dtype: object"
      ]
     },
     "execution_count": 34,
     "metadata": {},
     "output_type": "execute_result"
    }
   ],
   "source": [
    "columnas_agregadas = ['piscina', 'cochera', 'balcon', 'hidromasaje', 'jardin', 'gimnasio', 'a_estrenar', 'sotano', 'quincho', 'sum', 'expensas_tipo']\n",
    "\n",
    "ds_propiedades[columnas_agregadas].sum()"
   ]
  },
  {
   "cell_type": "markdown",
   "metadata": {},
   "source": [
    "Podemos ver que Piscina, Cochera, sum y Balcon tienen una gran cantidad de datos por lo que dejarlos realmente puede aportar valor, ahora vamos a analizar los otros uno por uno"
   ]
  },
  {
   "cell_type": "markdown",
   "metadata": {},
   "source": [
    "#### Jardin"
   ]
  },
  {
   "cell_type": "markdown",
   "metadata": {},
   "source": [
    "Siendo que tenemos tan pocos datos no podemos sacar conclusiones acertadas de esto. El jardín representa la superficie descubierta de nuestra propiedad, que ya está en el dataset, por lo tanto sería información redundante, entonces lo sacamos"
   ]
  },
  {
   "cell_type": "markdown",
   "metadata": {},
   "source": [
    "#### Hidromasaje, Gimnasio y Quincho"
   ]
  },
  {
   "cell_type": "markdown",
   "metadata": {},
   "source": [
    "En estos casos tambien vemos que hay pocos, pero con el dominio del problema podemos asumir que son un valor agregado poco frecuente y que aunque tengamos pocos, es muy probable que esten bien y tengan una relacion directa con lo 'premium' que es la propiedad"
   ]
  },
  {
   "cell_type": "markdown",
   "metadata": {},
   "source": [
    "#### A estrenar"
   ]
  },
  {
   "cell_type": "markdown",
   "metadata": {},
   "source": [
    "Este dato tambien es poco frecuente, pero es un gran valor agregado a la propiedad y una de las cosas que mas se tienen en cuenta a la hora de comprar propiedades. Por esto lo dejamos sin lugar a dudas"
   ]
  },
  {
   "cell_type": "markdown",
   "metadata": {},
   "source": [
    "#### Sotano "
   ]
  },
  {
   "cell_type": "markdown",
   "metadata": {},
   "source": [
    "El sotano es un dato que aparece en muy pocas propiedades, e incluso es un poco ambigüo ya que no tiene una descripcion detallada del mismo (puede ser una baulera o una planta completa). Por lo que tambien lo vamos a sacar"
   ]
  },
  {
   "cell_type": "markdown",
   "metadata": {},
   "source": [
    "#### Sacamos las columnas que no mantenemos"
   ]
  },
  {
   "cell_type": "code",
   "execution_count": 35,
   "metadata": {},
   "outputs": [],
   "source": [
    "ds_propiedades.drop(columns=['jardin', 'sotano'], inplace=True)"
   ]
  },
  {
   "cell_type": "markdown",
   "metadata": {},
   "source": [
    "## Dataset final"
   ]
  },
  {
   "cell_type": "code",
   "execution_count": 36,
   "metadata": {},
   "outputs": [],
   "source": [
    "ds_propiedades_xgboost = ds_propiedades.copy()"
   ]
  },
  {
   "cell_type": "code",
   "execution_count": 37,
   "metadata": {},
   "outputs": [
    {
     "name": "stdout",
     "output_type": "stream",
     "text": [
      "<class 'pandas.core.frame.DataFrame'>\n",
      "RangeIndex: 85693 entries, 0 to 85692\n",
      "Data columns (total 23 columns):\n",
      " #   Column                    Non-Null Count  Dtype  \n",
      "---  ------                    --------------  -----  \n",
      " 0   id                        85693 non-null  object \n",
      " 1   latitud                   85693 non-null  float64\n",
      " 2   longitud                  85693 non-null  float64\n",
      " 3   place_l3                  85693 non-null  object \n",
      " 4   property_type             85693 non-null  object \n",
      " 5   property_rooms            85693 non-null  float64\n",
      " 6   property_bedrooms         85693 non-null  float64\n",
      " 7   property_surface_total    85693 non-null  float64\n",
      " 8   property_surface_covered  85693 non-null  float64\n",
      " 9   property_price            85693 non-null  float64\n",
      " 10  property_title            85693 non-null  object \n",
      " 11  pxm2                      85693 non-null  float64\n",
      " 12  tipo_precio               85693 non-null  object \n",
      " 13  property_description      85693 non-null  object \n",
      " 14  piscina                   85693 non-null  int64  \n",
      " 15  cochera                   85693 non-null  int64  \n",
      " 16  balcon                    85693 non-null  int64  \n",
      " 17  hidromasaje               85693 non-null  int64  \n",
      " 18  gimnasio                  85693 non-null  int64  \n",
      " 19  a_estrenar                85693 non-null  int64  \n",
      " 20  quincho                   85693 non-null  int64  \n",
      " 21  sum                       85693 non-null  int64  \n",
      " 22  expensas_tipo             85693 non-null  object \n",
      "dtypes: float64(8), int64(8), object(7)\n",
      "memory usage: 15.0+ MB\n"
     ]
    }
   ],
   "source": [
    "ds_propiedades_xgboost.info()"
   ]
  },
  {
   "cell_type": "markdown",
   "metadata": {},
   "source": [
    "## 1b) Entrenamiento XGBoost"
   ]
  },
  {
   "cell_type": "code",
   "execution_count": 38,
   "metadata": {},
   "outputs": [],
   "source": [
    "from sklearn.model_selection import train_test_split\n",
    "from sklearn import metrics\n",
    "import xgboost as xgb"
   ]
  },
  {
   "cell_type": "code",
   "execution_count": 39,
   "metadata": {},
   "outputs": [
    {
     "data": {
      "text/html": [
       "<div>\n",
       "<style scoped>\n",
       "    .dataframe tbody tr th:only-of-type {\n",
       "        vertical-align: middle;\n",
       "    }\n",
       "\n",
       "    .dataframe tbody tr th {\n",
       "        vertical-align: top;\n",
       "    }\n",
       "\n",
       "    .dataframe thead th {\n",
       "        text-align: right;\n",
       "    }\n",
       "</style>\n",
       "<table border=\"1\" class=\"dataframe\">\n",
       "  <thead>\n",
       "    <tr style=\"text-align: right;\">\n",
       "      <th></th>\n",
       "      <th>id</th>\n",
       "      <th>latitud</th>\n",
       "      <th>longitud</th>\n",
       "      <th>place_l3</th>\n",
       "      <th>property_type</th>\n",
       "      <th>property_rooms</th>\n",
       "      <th>property_bedrooms</th>\n",
       "      <th>property_surface_total</th>\n",
       "      <th>property_surface_covered</th>\n",
       "      <th>property_price</th>\n",
       "      <th>...</th>\n",
       "      <th>property_description</th>\n",
       "      <th>piscina</th>\n",
       "      <th>cochera</th>\n",
       "      <th>balcon</th>\n",
       "      <th>hidromasaje</th>\n",
       "      <th>gimnasio</th>\n",
       "      <th>a_estrenar</th>\n",
       "      <th>quincho</th>\n",
       "      <th>sum</th>\n",
       "      <th>expensas_tipo</th>\n",
       "    </tr>\n",
       "  </thead>\n",
       "  <tbody>\n",
       "    <tr>\n",
       "      <th>0</th>\n",
       "      <td>F5IvmD1uzzdIR7b96ozt4g==</td>\n",
       "      <td>-34.558855</td>\n",
       "      <td>-58.452458</td>\n",
       "      <td>Nuñez</td>\n",
       "      <td>Departamento</td>\n",
       "      <td>4.0</td>\n",
       "      <td>3.0</td>\n",
       "      <td>160.0</td>\n",
       "      <td>146.0</td>\n",
       "      <td>460000.0</td>\n",
       "      <td>...</td>\n",
       "      <td>Hermoso piso de 4 ambientes con dependencia y ...</td>\n",
       "      <td>0</td>\n",
       "      <td>1</td>\n",
       "      <td>1</td>\n",
       "      <td>0</td>\n",
       "      <td>0</td>\n",
       "      <td>0</td>\n",
       "      <td>0</td>\n",
       "      <td>0</td>\n",
       "      <td>no aplica</td>\n",
       "    </tr>\n",
       "    <tr>\n",
       "      <th>1</th>\n",
       "      <td>IiT/P7WfYDcqbhu7tf5V4Q==</td>\n",
       "      <td>-34.582403</td>\n",
       "      <td>-58.443841</td>\n",
       "      <td>Colegiales</td>\n",
       "      <td>Departamento</td>\n",
       "      <td>2.0</td>\n",
       "      <td>1.0</td>\n",
       "      <td>50.0</td>\n",
       "      <td>46.0</td>\n",
       "      <td>148000.0</td>\n",
       "      <td>...</td>\n",
       "      <td>2 ambientes con balcón y vista totalmente abie...</td>\n",
       "      <td>0</td>\n",
       "      <td>1</td>\n",
       "      <td>1</td>\n",
       "      <td>0</td>\n",
       "      <td>0</td>\n",
       "      <td>0</td>\n",
       "      <td>0</td>\n",
       "      <td>0</td>\n",
       "      <td>no aplica</td>\n",
       "    </tr>\n",
       "    <tr>\n",
       "      <th>2</th>\n",
       "      <td>6XXcElx/4OwCcH4NI06Oiw==</td>\n",
       "      <td>-34.605825</td>\n",
       "      <td>-58.422214</td>\n",
       "      <td>Almagro</td>\n",
       "      <td>Departamento</td>\n",
       "      <td>3.0</td>\n",
       "      <td>2.0</td>\n",
       "      <td>47.0</td>\n",
       "      <td>47.0</td>\n",
       "      <td>89000.0</td>\n",
       "      <td>...</td>\n",
       "      <td>**DIAZ VELEZ 4291 Y PRINGLES** Almagro.&lt;br&gt;&lt;br...</td>\n",
       "      <td>0</td>\n",
       "      <td>0</td>\n",
       "      <td>0</td>\n",
       "      <td>0</td>\n",
       "      <td>0</td>\n",
       "      <td>0</td>\n",
       "      <td>0</td>\n",
       "      <td>0</td>\n",
       "      <td>no aplica</td>\n",
       "    </tr>\n",
       "    <tr>\n",
       "      <th>3</th>\n",
       "      <td>8R7hSzqWFk9rX4wBXxfORA==</td>\n",
       "      <td>-34.561971</td>\n",
       "      <td>-58.455670</td>\n",
       "      <td>Belgrano</td>\n",
       "      <td>Departamento</td>\n",
       "      <td>2.0</td>\n",
       "      <td>1.0</td>\n",
       "      <td>52.0</td>\n",
       "      <td>48.0</td>\n",
       "      <td>127000.0</td>\n",
       "      <td>...</td>\n",
       "      <td>IMPECABLE 2 AMBIENTES A ESTRENAR!&lt;...</td>\n",
       "      <td>0</td>\n",
       "      <td>0</td>\n",
       "      <td>1</td>\n",
       "      <td>0</td>\n",
       "      <td>0</td>\n",
       "      <td>1</td>\n",
       "      <td>0</td>\n",
       "      <td>0</td>\n",
       "      <td>medias</td>\n",
       "    </tr>\n",
       "    <tr>\n",
       "      <th>4</th>\n",
       "      <td>UAKYqQx9s0MfIdLzrJv8Ig==</td>\n",
       "      <td>-34.606738</td>\n",
       "      <td>-58.389426</td>\n",
       "      <td>Tribunales</td>\n",
       "      <td>Departamento</td>\n",
       "      <td>3.0</td>\n",
       "      <td>2.0</td>\n",
       "      <td>76.0</td>\n",
       "      <td>75.0</td>\n",
       "      <td>129900.0</td>\n",
       "      <td>...</td>\n",
       "      <td>Excelente piso antiguo, lindísimo por sus tech...</td>\n",
       "      <td>0</td>\n",
       "      <td>0</td>\n",
       "      <td>1</td>\n",
       "      <td>0</td>\n",
       "      <td>0</td>\n",
       "      <td>0</td>\n",
       "      <td>0</td>\n",
       "      <td>0</td>\n",
       "      <td>no aplica</td>\n",
       "    </tr>\n",
       "  </tbody>\n",
       "</table>\n",
       "<p>5 rows × 23 columns</p>\n",
       "</div>"
      ],
      "text/plain": [
       "                         id    latitud   longitud    place_l3 property_type  \\\n",
       "0  F5IvmD1uzzdIR7b96ozt4g== -34.558855 -58.452458       Nuñez  Departamento   \n",
       "1  IiT/P7WfYDcqbhu7tf5V4Q== -34.582403 -58.443841  Colegiales  Departamento   \n",
       "2  6XXcElx/4OwCcH4NI06Oiw== -34.605825 -58.422214     Almagro  Departamento   \n",
       "3  8R7hSzqWFk9rX4wBXxfORA== -34.561971 -58.455670    Belgrano  Departamento   \n",
       "4  UAKYqQx9s0MfIdLzrJv8Ig== -34.606738 -58.389426  Tribunales  Departamento   \n",
       "\n",
       "   property_rooms  property_bedrooms  property_surface_total  \\\n",
       "0             4.0                3.0                   160.0   \n",
       "1             2.0                1.0                    50.0   \n",
       "2             3.0                2.0                    47.0   \n",
       "3             2.0                1.0                    52.0   \n",
       "4             3.0                2.0                    76.0   \n",
       "\n",
       "   property_surface_covered  property_price  ...  \\\n",
       "0                     146.0        460000.0  ...   \n",
       "1                      46.0        148000.0  ...   \n",
       "2                      47.0         89000.0  ...   \n",
       "3                      48.0        127000.0  ...   \n",
       "4                      75.0        129900.0  ...   \n",
       "\n",
       "                                property_description  piscina cochera balcon  \\\n",
       "0  Hermoso piso de 4 ambientes con dependencia y ...        0       1      1   \n",
       "1  2 ambientes con balcón y vista totalmente abie...        0       1      1   \n",
       "2  **DIAZ VELEZ 4291 Y PRINGLES** Almagro.<br><br...        0       0      0   \n",
       "3              IMPECABLE 2 AMBIENTES A ESTRENAR!<...        0       0      1   \n",
       "4  Excelente piso antiguo, lindísimo por sus tech...        0       0      1   \n",
       "\n",
       "   hidromasaje  gimnasio  a_estrenar  quincho  sum  expensas_tipo  \n",
       "0            0         0           0        0    0      no aplica  \n",
       "1            0         0           0        0    0      no aplica  \n",
       "2            0         0           0        0    0      no aplica  \n",
       "3            0         0           1        0    0         medias  \n",
       "4            0         0           0        0    0      no aplica  \n",
       "\n",
       "[5 rows x 23 columns]"
      ]
     },
     "execution_count": 39,
     "metadata": {},
     "output_type": "execute_result"
    }
   ],
   "source": [
    "ds_propiedades_xgboost.head()"
   ]
  },
  {
   "cell_type": "markdown",
   "metadata": {},
   "source": [
    "Preparamos el dataset para usar XGBoost.\n",
    "Separamos en columnas dummies para property_type, place_l3 y expensas_tipo y droppeamos las columnas que no aportan información"
   ]
  },
  {
   "cell_type": "code",
   "execution_count": 40,
   "metadata": {},
   "outputs": [],
   "source": [
    "ds_propiedades_xgboost = pd.get_dummies(ds_propiedades_xgboost, columns=['property_type', 'place_l3', 'expensas_tipo'])\n",
    "ds_propiedades_xgboost.drop(columns=['property_description', 'property_title', 'id', 'tipo_precio', 'pxm2'], inplace=True)"
   ]
  },
  {
   "cell_type": "code",
   "execution_count": 42,
   "metadata": {},
   "outputs": [
    {
     "data": {
      "text/html": [
       "<div>\n",
       "<style scoped>\n",
       "    .dataframe tbody tr th:only-of-type {\n",
       "        vertical-align: middle;\n",
       "    }\n",
       "\n",
       "    .dataframe tbody tr th {\n",
       "        vertical-align: top;\n",
       "    }\n",
       "\n",
       "    .dataframe thead th {\n",
       "        text-align: right;\n",
       "    }\n",
       "</style>\n",
       "<table border=\"1\" class=\"dataframe\">\n",
       "  <thead>\n",
       "    <tr style=\"text-align: right;\">\n",
       "      <th></th>\n",
       "      <th>latitud</th>\n",
       "      <th>longitud</th>\n",
       "      <th>property_rooms</th>\n",
       "      <th>property_bedrooms</th>\n",
       "      <th>property_surface_total</th>\n",
       "      <th>property_surface_covered</th>\n",
       "      <th>property_price</th>\n",
       "      <th>piscina</th>\n",
       "      <th>cochera</th>\n",
       "      <th>balcon</th>\n",
       "      <th>...</th>\n",
       "      <th>place_l3_Villa Riachuelo</th>\n",
       "      <th>place_l3_Villa Santa Rita</th>\n",
       "      <th>place_l3_Villa Soldati</th>\n",
       "      <th>place_l3_Villa Urquiza</th>\n",
       "      <th>place_l3_Villa del Parque</th>\n",
       "      <th>expensas_tipo_altas</th>\n",
       "      <th>expensas_tipo_bajas</th>\n",
       "      <th>expensas_tipo_medias</th>\n",
       "      <th>expensas_tipo_no aplica</th>\n",
       "      <th>expensas_tipo_sin</th>\n",
       "    </tr>\n",
       "  </thead>\n",
       "  <tbody>\n",
       "    <tr>\n",
       "      <th>0</th>\n",
       "      <td>-34.558855</td>\n",
       "      <td>-58.452458</td>\n",
       "      <td>4.0</td>\n",
       "      <td>3.0</td>\n",
       "      <td>160.0</td>\n",
       "      <td>146.0</td>\n",
       "      <td>460000.0</td>\n",
       "      <td>0</td>\n",
       "      <td>1</td>\n",
       "      <td>1</td>\n",
       "      <td>...</td>\n",
       "      <td>0</td>\n",
       "      <td>0</td>\n",
       "      <td>0</td>\n",
       "      <td>0</td>\n",
       "      <td>0</td>\n",
       "      <td>0</td>\n",
       "      <td>0</td>\n",
       "      <td>0</td>\n",
       "      <td>1</td>\n",
       "      <td>0</td>\n",
       "    </tr>\n",
       "    <tr>\n",
       "      <th>1</th>\n",
       "      <td>-34.582403</td>\n",
       "      <td>-58.443841</td>\n",
       "      <td>2.0</td>\n",
       "      <td>1.0</td>\n",
       "      <td>50.0</td>\n",
       "      <td>46.0</td>\n",
       "      <td>148000.0</td>\n",
       "      <td>0</td>\n",
       "      <td>1</td>\n",
       "      <td>1</td>\n",
       "      <td>...</td>\n",
       "      <td>0</td>\n",
       "      <td>0</td>\n",
       "      <td>0</td>\n",
       "      <td>0</td>\n",
       "      <td>0</td>\n",
       "      <td>0</td>\n",
       "      <td>0</td>\n",
       "      <td>0</td>\n",
       "      <td>1</td>\n",
       "      <td>0</td>\n",
       "    </tr>\n",
       "    <tr>\n",
       "      <th>2</th>\n",
       "      <td>-34.605825</td>\n",
       "      <td>-58.422214</td>\n",
       "      <td>3.0</td>\n",
       "      <td>2.0</td>\n",
       "      <td>47.0</td>\n",
       "      <td>47.0</td>\n",
       "      <td>89000.0</td>\n",
       "      <td>0</td>\n",
       "      <td>0</td>\n",
       "      <td>0</td>\n",
       "      <td>...</td>\n",
       "      <td>0</td>\n",
       "      <td>0</td>\n",
       "      <td>0</td>\n",
       "      <td>0</td>\n",
       "      <td>0</td>\n",
       "      <td>0</td>\n",
       "      <td>0</td>\n",
       "      <td>0</td>\n",
       "      <td>1</td>\n",
       "      <td>0</td>\n",
       "    </tr>\n",
       "    <tr>\n",
       "      <th>3</th>\n",
       "      <td>-34.561971</td>\n",
       "      <td>-58.455670</td>\n",
       "      <td>2.0</td>\n",
       "      <td>1.0</td>\n",
       "      <td>52.0</td>\n",
       "      <td>48.0</td>\n",
       "      <td>127000.0</td>\n",
       "      <td>0</td>\n",
       "      <td>0</td>\n",
       "      <td>1</td>\n",
       "      <td>...</td>\n",
       "      <td>0</td>\n",
       "      <td>0</td>\n",
       "      <td>0</td>\n",
       "      <td>0</td>\n",
       "      <td>0</td>\n",
       "      <td>0</td>\n",
       "      <td>0</td>\n",
       "      <td>1</td>\n",
       "      <td>0</td>\n",
       "      <td>0</td>\n",
       "    </tr>\n",
       "    <tr>\n",
       "      <th>4</th>\n",
       "      <td>-34.606738</td>\n",
       "      <td>-58.389426</td>\n",
       "      <td>3.0</td>\n",
       "      <td>2.0</td>\n",
       "      <td>76.0</td>\n",
       "      <td>75.0</td>\n",
       "      <td>129900.0</td>\n",
       "      <td>0</td>\n",
       "      <td>0</td>\n",
       "      <td>1</td>\n",
       "      <td>...</td>\n",
       "      <td>0</td>\n",
       "      <td>0</td>\n",
       "      <td>0</td>\n",
       "      <td>0</td>\n",
       "      <td>0</td>\n",
       "      <td>0</td>\n",
       "      <td>0</td>\n",
       "      <td>0</td>\n",
       "      <td>1</td>\n",
       "      <td>0</td>\n",
       "    </tr>\n",
       "  </tbody>\n",
       "</table>\n",
       "<p>5 rows × 80 columns</p>\n",
       "</div>"
      ],
      "text/plain": [
       "     latitud   longitud  property_rooms  property_bedrooms  \\\n",
       "0 -34.558855 -58.452458             4.0                3.0   \n",
       "1 -34.582403 -58.443841             2.0                1.0   \n",
       "2 -34.605825 -58.422214             3.0                2.0   \n",
       "3 -34.561971 -58.455670             2.0                1.0   \n",
       "4 -34.606738 -58.389426             3.0                2.0   \n",
       "\n",
       "   property_surface_total  property_surface_covered  property_price  piscina  \\\n",
       "0                   160.0                     146.0        460000.0        0   \n",
       "1                    50.0                      46.0        148000.0        0   \n",
       "2                    47.0                      47.0         89000.0        0   \n",
       "3                    52.0                      48.0        127000.0        0   \n",
       "4                    76.0                      75.0        129900.0        0   \n",
       "\n",
       "   cochera  balcon  ...  place_l3_Villa Riachuelo  place_l3_Villa Santa Rita  \\\n",
       "0        1       1  ...                         0                          0   \n",
       "1        1       1  ...                         0                          0   \n",
       "2        0       0  ...                         0                          0   \n",
       "3        0       1  ...                         0                          0   \n",
       "4        0       1  ...                         0                          0   \n",
       "\n",
       "   place_l3_Villa Soldati  place_l3_Villa Urquiza  place_l3_Villa del Parque  \\\n",
       "0                       0                       0                          0   \n",
       "1                       0                       0                          0   \n",
       "2                       0                       0                          0   \n",
       "3                       0                       0                          0   \n",
       "4                       0                       0                          0   \n",
       "\n",
       "   expensas_tipo_altas  expensas_tipo_bajas  expensas_tipo_medias  \\\n",
       "0                    0                    0                     0   \n",
       "1                    0                    0                     0   \n",
       "2                    0                    0                     0   \n",
       "3                    0                    0                     1   \n",
       "4                    0                    0                     0   \n",
       "\n",
       "   expensas_tipo_no aplica  expensas_tipo_sin  \n",
       "0                        1                  0  \n",
       "1                        1                  0  \n",
       "2                        1                  0  \n",
       "3                        0                  0  \n",
       "4                        1                  0  \n",
       "\n",
       "[5 rows x 80 columns]"
      ]
     },
     "execution_count": 42,
     "metadata": {},
     "output_type": "execute_result"
    }
   ],
   "source": [
    "ds_propiedades_xgboost.head()"
   ]
  },
  {
   "cell_type": "markdown",
   "metadata": {},
   "source": [
    "Separamos en Train y Test y droppeamos property_price ya que es lo que queremos predecir"
   ]
  },
  {
   "cell_type": "code",
   "execution_count": 43,
   "metadata": {},
   "outputs": [],
   "source": [
    "x_train, x_test, y_train, y_test = train_test_split(ds_propiedades_xgboost, ds_propiedades_xgboost['property_price'], test_size=0.20, random_state=1)\n",
    "x_train.drop(columns=['property_price'], inplace=True)\n",
    "x_test.drop(columns=['property_price'], inplace=True)"
   ]
  },
  {
   "cell_type": "markdown",
   "metadata": {},
   "source": [
    "### Modelo inicial sin optimizar (con los hiperparametros del TP1)"
   ]
  },
  {
   "cell_type": "markdown",
   "metadata": {},
   "source": [
    "En el tp1 hicimos una optimizacion de hiperparametros con StratifiedKFold pero no logramos mejoria, por lo que los hiperparametros son los default del modelo"
   ]
  },
  {
   "cell_type": "code",
   "execution_count": 44,
   "metadata": {},
   "outputs": [],
   "source": [
    "xgb_model = xgb.XGBRegressor(objective = 'reg:squarederror', random_state=1)"
   ]
  },
  {
   "cell_type": "code",
   "execution_count": 45,
   "metadata": {},
   "outputs": [],
   "source": [
    "xgb_model.fit(x_train, y_train)\n",
    "\n",
    "y_pred = xgb_model.predict(x_test)"
   ]
  },
  {
   "cell_type": "code",
   "execution_count": 46,
   "metadata": {},
   "outputs": [
    {
     "data": {
      "text/html": [
       "<div>\n",
       "<style scoped>\n",
       "    .dataframe tbody tr th:only-of-type {\n",
       "        vertical-align: middle;\n",
       "    }\n",
       "\n",
       "    .dataframe tbody tr th {\n",
       "        vertical-align: top;\n",
       "    }\n",
       "\n",
       "    .dataframe thead th {\n",
       "        text-align: right;\n",
       "    }\n",
       "</style>\n",
       "<table border=\"1\" class=\"dataframe\">\n",
       "  <thead>\n",
       "    <tr style=\"text-align: right;\">\n",
       "      <th></th>\n",
       "      <th>Valor Real</th>\n",
       "      <th>Prediccion</th>\n",
       "      <th>Error</th>\n",
       "    </tr>\n",
       "  </thead>\n",
       "  <tbody>\n",
       "    <tr>\n",
       "      <th>11387</th>\n",
       "      <td>170000.0</td>\n",
       "      <td>183790.640625</td>\n",
       "      <td>-13790.640625</td>\n",
       "    </tr>\n",
       "    <tr>\n",
       "      <th>78283</th>\n",
       "      <td>360000.0</td>\n",
       "      <td>301092.062500</td>\n",
       "      <td>58907.937500</td>\n",
       "    </tr>\n",
       "    <tr>\n",
       "      <th>15574</th>\n",
       "      <td>280000.0</td>\n",
       "      <td>282107.937500</td>\n",
       "      <td>-2107.937500</td>\n",
       "    </tr>\n",
       "    <tr>\n",
       "      <th>17122</th>\n",
       "      <td>129000.0</td>\n",
       "      <td>146419.031250</td>\n",
       "      <td>-17419.031250</td>\n",
       "    </tr>\n",
       "    <tr>\n",
       "      <th>8069</th>\n",
       "      <td>260000.0</td>\n",
       "      <td>266423.500000</td>\n",
       "      <td>-6423.500000</td>\n",
       "    </tr>\n",
       "  </tbody>\n",
       "</table>\n",
       "</div>"
      ],
      "text/plain": [
       "       Valor Real     Prediccion         Error\n",
       "11387    170000.0  183790.640625 -13790.640625\n",
       "78283    360000.0  301092.062500  58907.937500\n",
       "15574    280000.0  282107.937500  -2107.937500\n",
       "17122    129000.0  146419.031250 -17419.031250\n",
       "8069     260000.0  266423.500000  -6423.500000"
      ]
     },
     "execution_count": 46,
     "metadata": {},
     "output_type": "execute_result"
    }
   ],
   "source": [
    "performance = pd.DataFrame({'Valor Real': y_test,\n",
    "                            'Prediccion': y_pred,\n",
    "                            'Error': y_test - y_pred})\n",
    "\n",
    "performance.head()"
   ]
  },
  {
   "cell_type": "code",
   "execution_count": 47,
   "metadata": {},
   "outputs": [
    {
     "name": "stdout",
     "output_type": "stream",
     "text": [
      "El error (mse) de test es: 1473587857.3848019\n",
      "El error (rmse) de test es: 38387.33980604546\n",
      "El error (rmse) de test relativo es: 22.62140499622676%\n"
     ]
    }
   ],
   "source": [
    "mse = metrics.mean_squared_error(\n",
    "        y_true  = y_test,\n",
    "        y_pred  = y_pred,\n",
    "        squared = True\n",
    "         )\n",
    "\n",
    "print(f\"El error (mse) de test es: {mse}\")\n",
    "\n",
    "rmse = metrics.mean_squared_error(\n",
    "        y_true  = y_test,\n",
    "        y_pred  = y_pred,\n",
    "        squared = False\n",
    "         )\n",
    "\n",
    "print(f\"El error (rmse) de test es: {rmse}\")  \n",
    "print(f\"El error (rmse) de test relativo es: {rmse / y_test.mean() * 100}%\")"
   ]
  },
  {
   "cell_type": "code",
   "execution_count": 48,
   "metadata": {},
   "outputs": [
    {
     "name": "stdout",
     "output_type": "stream",
     "text": [
      "El coeficiente de Determinación R2 en train es: 0.9232276232123919\n",
      "El coeficiente de Determinación R2 en test es: 0.89301154705351\n"
     ]
    }
   ],
   "source": [
    "score_xgb_train = xgb_model.score(x_train, y_train)\n",
    "score_xgb_test = xgb_model.score(x_test, y_test)\n",
    "print(f\"El coeficiente de Determinación R2 en train es: {score_xgb_train}\")\n",
    "print(f\"El coeficiente de Determinación R2 en test es: {score_xgb_test}\")"
   ]
  },
  {
   "cell_type": "markdown",
   "metadata": {},
   "source": [
    "Viendo la comparacion directa contra el mismo modelo en el TP1, podemos ver que el modelo mejoro bastante con los nuevos datos que generamos.\n",
    "\n",
    "El error (mse) de test pasa de 1907948928.924305 -> 1473587857.3848019 (22,77%  mejor)\n",
    "\n",
    "El error (rmse) de test pasa de 43680.074735791204 -> 38387.33980604546  (22,62% mejor)\n",
    "\n",
    "El R2 en train pasa de 0.8918109411819658 -> 0.9232276232123919 (3,52% mejor)\n",
    "\n",
    "El R2 en test pasa de 0.860060265420469 -> 0.89301154705351 (3,82% mejor)\n",
    "\n",
    "\n",
    "Esto demuestra que las variables que generamos a partir de las descripciones son muy utiles para el modelo, y que el modelo mejora bastante con ellas."
   ]
  },
  {
   "cell_type": "markdown",
   "metadata": {},
   "source": [
    "### Probamos optimizar los hiperparametros"
   ]
  },
  {
   "cell_type": "code",
   "execution_count": 49,
   "metadata": {},
   "outputs": [],
   "source": [
    "from sklearn.model_selection import StratifiedKFold\n",
    "from sklearn.model_selection import RandomizedSearchCV\n",
    "from sklearn.metrics import make_scorer, r2_score\n",
    "\n",
    "\n",
    "xgb_cv = xgb.XGBRegressor(objective = 'reg:squarederror', random_state=2)\n",
    "\n",
    "n=10\n",
    "\n",
    "xgb_param_grid = {\n",
    "    'n_estimators': [50, 100],\n",
    "    'learning_rate': [0.1, 0.3],\n",
    "    'max_depth': [3, 7],\n",
    "    'gamma': [0.3, 0.4],\n",
    "}\n",
    "\n",
    "folds=5\n",
    "kfoldcv = StratifiedKFold(n_splits=folds, random_state=10,shuffle=True)\n",
    "\n",
    "scorer_fn = make_scorer(r2_score)\n",
    "\n",
    "random_search_cv = RandomizedSearchCV(estimator=xgb_cv,\n",
    "                              param_distributions = xgb_param_grid,\n",
    "                              scoring='neg_mean_squared_error',\n",
    "                              cv=kfoldcv,\n",
    "                              n_iter=n,\n",
    "                              random_state=10) \n",
    "\n",
    "random_fit = random_search_cv.fit(x_train[['property_rooms']], y_train)"
   ]
  },
  {
   "cell_type": "code",
   "execution_count": 50,
   "metadata": {},
   "outputs": [
    {
     "name": "stdout",
     "output_type": "stream",
     "text": [
      "{'n_estimators': 100, 'max_depth': 7, 'learning_rate': 0.1, 'gamma': 0.3}\n"
     ]
    }
   ],
   "source": [
    "print(random_fit.best_params_)"
   ]
  },
  {
   "cell_type": "code",
   "execution_count": 51,
   "metadata": {},
   "outputs": [],
   "source": [
    "parametros = random_fit.best_params_\n",
    "\n",
    "xgb_model = xgb.XGBRegressor(learning_rate=parametros['learning_rate'], n_estimators=parametros['n_estimators'], gamma=parametros['gamma'], max_depth = parametros['max_depth'], random_state=1)\n",
    "\n",
    "model = xgb_model.fit(X = x_train, y = y_train) \n",
    "\n",
    "y_pred = model.predict(x_test)"
   ]
  },
  {
   "cell_type": "code",
   "execution_count": 52,
   "metadata": {},
   "outputs": [
    {
     "data": {
      "text/html": [
       "<div>\n",
       "<style scoped>\n",
       "    .dataframe tbody tr th:only-of-type {\n",
       "        vertical-align: middle;\n",
       "    }\n",
       "\n",
       "    .dataframe tbody tr th {\n",
       "        vertical-align: top;\n",
       "    }\n",
       "\n",
       "    .dataframe thead th {\n",
       "        text-align: right;\n",
       "    }\n",
       "</style>\n",
       "<table border=\"1\" class=\"dataframe\">\n",
       "  <thead>\n",
       "    <tr style=\"text-align: right;\">\n",
       "      <th></th>\n",
       "      <th>Valor Real</th>\n",
       "      <th>Prediccion</th>\n",
       "      <th>Error</th>\n",
       "    </tr>\n",
       "  </thead>\n",
       "  <tbody>\n",
       "    <tr>\n",
       "      <th>11387</th>\n",
       "      <td>170000.0</td>\n",
       "      <td>170586.296875</td>\n",
       "      <td>-586.296875</td>\n",
       "    </tr>\n",
       "    <tr>\n",
       "      <th>78283</th>\n",
       "      <td>360000.0</td>\n",
       "      <td>284469.843750</td>\n",
       "      <td>75530.156250</td>\n",
       "    </tr>\n",
       "    <tr>\n",
       "      <th>15574</th>\n",
       "      <td>280000.0</td>\n",
       "      <td>264595.593750</td>\n",
       "      <td>15404.406250</td>\n",
       "    </tr>\n",
       "    <tr>\n",
       "      <th>17122</th>\n",
       "      <td>129000.0</td>\n",
       "      <td>145836.109375</td>\n",
       "      <td>-16836.109375</td>\n",
       "    </tr>\n",
       "    <tr>\n",
       "      <th>8069</th>\n",
       "      <td>260000.0</td>\n",
       "      <td>258944.703125</td>\n",
       "      <td>1055.296875</td>\n",
       "    </tr>\n",
       "  </tbody>\n",
       "</table>\n",
       "</div>"
      ],
      "text/plain": [
       "       Valor Real     Prediccion         Error\n",
       "11387    170000.0  170586.296875   -586.296875\n",
       "78283    360000.0  284469.843750  75530.156250\n",
       "15574    280000.0  264595.593750  15404.406250\n",
       "17122    129000.0  145836.109375 -16836.109375\n",
       "8069     260000.0  258944.703125   1055.296875"
      ]
     },
     "execution_count": 52,
     "metadata": {},
     "output_type": "execute_result"
    }
   ],
   "source": [
    "performance = pd.DataFrame({'Valor Real': y_test,\n",
    "                            'Prediccion': y_pred,\n",
    "                            'Error': y_test - y_pred})\n",
    "\n",
    "\n",
    "performance.head()"
   ]
  },
  {
   "cell_type": "markdown",
   "metadata": {},
   "source": [
    "Vemos las metricas obtenidas con los hiperparametros optimizados"
   ]
  },
  {
   "cell_type": "code",
   "execution_count": 53,
   "metadata": {},
   "outputs": [
    {
     "name": "stdout",
     "output_type": "stream",
     "text": [
      "El error (mse) de test es: 1515631827.2171123\n",
      "El error (rmse) de test es: 38931.11643938705\n",
      "El error (rmse) de test relativo es: 22.941848963234023%\n"
     ]
    }
   ],
   "source": [
    "mse = metrics.mean_squared_error(\n",
    "        y_true  = y_test,\n",
    "        y_pred  = y_pred,\n",
    "        squared = True\n",
    "         )\n",
    "\n",
    "print(f\"El error (mse) de test es: {mse}\")\n",
    "\n",
    "rmse = metrics.mean_squared_error(\n",
    "        y_true  = y_test,\n",
    "        y_pred  = y_pred,\n",
    "        squared = False\n",
    "         )\n",
    "\n",
    "print(f\"El error (rmse) de test es: {rmse}\")  \n",
    "print(f\"El error (rmse) de test relativo es: {rmse / y_test.mean() * 100}%\")"
   ]
  },
  {
   "cell_type": "code",
   "execution_count": 54,
   "metadata": {},
   "outputs": [
    {
     "name": "stdout",
     "output_type": "stream",
     "text": [
      "El coeficiente de Determinación R2 en train es: 0.9123206582983798\n",
      "El coeficiente de Determinación R2 en test es: 0.8899589843810198\n"
     ]
    }
   ],
   "source": [
    "score_xgb_train = xgb_model.score(x_train, y_train)\n",
    "score_xgb_test = xgb_model.score(x_test, y_test)\n",
    "print(f\"El coeficiente de Determinación R2 en train es: {score_xgb_train}\")\n",
    "print(f\"El coeficiente de Determinación R2 en test es: {score_xgb_test}\")"
   ]
  },
  {
   "cell_type": "markdown",
   "metadata": {},
   "source": [
    "La busqueda de hiperparametros encuentra una configuracion con un resultado similar al modelo inicial, pero con un tiempo de entrenamiento mucho mayor. Por esto mantenemos el modelo inicial."
   ]
  },
  {
   "cell_type": "markdown",
   "metadata": {},
   "source": [
    "# <center> Redes Neuronales <center/> "
   ]
  },
  {
   "cell_type": "markdown",
   "metadata": {},
   "source": [
    "## Clasificacion"
   ]
  },
  {
   "cell_type": "code",
   "execution_count": 55,
   "metadata": {},
   "outputs": [],
   "source": [
    "from sklearn.preprocessing import MinMaxScaler\n",
    "from sklearn.metrics import f1_score,  recall_score, precision_score, accuracy_score\n",
    "from sklearn.preprocessing import StandardScaler\n",
    "\n",
    "from tensorflow import keras\n",
    "\n",
    "import warnings\n",
    "warnings.simplefilter(action='ignore', category=FutureWarning)"
   ]
  },
  {
   "cell_type": "code",
   "execution_count": 56,
   "metadata": {},
   "outputs": [
    {
     "data": {
      "text/html": [
       "<div>\n",
       "<style scoped>\n",
       "    .dataframe tbody tr th:only-of-type {\n",
       "        vertical-align: middle;\n",
       "    }\n",
       "\n",
       "    .dataframe tbody tr th {\n",
       "        vertical-align: top;\n",
       "    }\n",
       "\n",
       "    .dataframe thead th {\n",
       "        text-align: right;\n",
       "    }\n",
       "</style>\n",
       "<table border=\"1\" class=\"dataframe\">\n",
       "  <thead>\n",
       "    <tr style=\"text-align: right;\">\n",
       "      <th></th>\n",
       "      <th>id</th>\n",
       "      <th>latitud</th>\n",
       "      <th>longitud</th>\n",
       "      <th>place_l3</th>\n",
       "      <th>property_type</th>\n",
       "      <th>property_rooms</th>\n",
       "      <th>property_bedrooms</th>\n",
       "      <th>property_surface_total</th>\n",
       "      <th>property_surface_covered</th>\n",
       "      <th>property_price</th>\n",
       "      <th>...</th>\n",
       "      <th>property_description</th>\n",
       "      <th>piscina</th>\n",
       "      <th>cochera</th>\n",
       "      <th>balcon</th>\n",
       "      <th>hidromasaje</th>\n",
       "      <th>gimnasio</th>\n",
       "      <th>a_estrenar</th>\n",
       "      <th>quincho</th>\n",
       "      <th>sum</th>\n",
       "      <th>expensas_tipo</th>\n",
       "    </tr>\n",
       "  </thead>\n",
       "  <tbody>\n",
       "    <tr>\n",
       "      <th>0</th>\n",
       "      <td>F5IvmD1uzzdIR7b96ozt4g==</td>\n",
       "      <td>-34.558855</td>\n",
       "      <td>-58.452458</td>\n",
       "      <td>Nuñez</td>\n",
       "      <td>Departamento</td>\n",
       "      <td>4.0</td>\n",
       "      <td>3.0</td>\n",
       "      <td>160.0</td>\n",
       "      <td>146.0</td>\n",
       "      <td>460000.0</td>\n",
       "      <td>...</td>\n",
       "      <td>Hermoso piso de 4 ambientes con dependencia y ...</td>\n",
       "      <td>0</td>\n",
       "      <td>1</td>\n",
       "      <td>1</td>\n",
       "      <td>0</td>\n",
       "      <td>0</td>\n",
       "      <td>0</td>\n",
       "      <td>0</td>\n",
       "      <td>0</td>\n",
       "      <td>no aplica</td>\n",
       "    </tr>\n",
       "    <tr>\n",
       "      <th>1</th>\n",
       "      <td>IiT/P7WfYDcqbhu7tf5V4Q==</td>\n",
       "      <td>-34.582403</td>\n",
       "      <td>-58.443841</td>\n",
       "      <td>Colegiales</td>\n",
       "      <td>Departamento</td>\n",
       "      <td>2.0</td>\n",
       "      <td>1.0</td>\n",
       "      <td>50.0</td>\n",
       "      <td>46.0</td>\n",
       "      <td>148000.0</td>\n",
       "      <td>...</td>\n",
       "      <td>2 ambientes con balcón y vista totalmente abie...</td>\n",
       "      <td>0</td>\n",
       "      <td>1</td>\n",
       "      <td>1</td>\n",
       "      <td>0</td>\n",
       "      <td>0</td>\n",
       "      <td>0</td>\n",
       "      <td>0</td>\n",
       "      <td>0</td>\n",
       "      <td>no aplica</td>\n",
       "    </tr>\n",
       "    <tr>\n",
       "      <th>2</th>\n",
       "      <td>6XXcElx/4OwCcH4NI06Oiw==</td>\n",
       "      <td>-34.605825</td>\n",
       "      <td>-58.422214</td>\n",
       "      <td>Almagro</td>\n",
       "      <td>Departamento</td>\n",
       "      <td>3.0</td>\n",
       "      <td>2.0</td>\n",
       "      <td>47.0</td>\n",
       "      <td>47.0</td>\n",
       "      <td>89000.0</td>\n",
       "      <td>...</td>\n",
       "      <td>**DIAZ VELEZ 4291 Y PRINGLES** Almagro.&lt;br&gt;&lt;br...</td>\n",
       "      <td>0</td>\n",
       "      <td>0</td>\n",
       "      <td>0</td>\n",
       "      <td>0</td>\n",
       "      <td>0</td>\n",
       "      <td>0</td>\n",
       "      <td>0</td>\n",
       "      <td>0</td>\n",
       "      <td>no aplica</td>\n",
       "    </tr>\n",
       "    <tr>\n",
       "      <th>3</th>\n",
       "      <td>8R7hSzqWFk9rX4wBXxfORA==</td>\n",
       "      <td>-34.561971</td>\n",
       "      <td>-58.455670</td>\n",
       "      <td>Belgrano</td>\n",
       "      <td>Departamento</td>\n",
       "      <td>2.0</td>\n",
       "      <td>1.0</td>\n",
       "      <td>52.0</td>\n",
       "      <td>48.0</td>\n",
       "      <td>127000.0</td>\n",
       "      <td>...</td>\n",
       "      <td>IMPECABLE 2 AMBIENTES A ESTRENAR!&lt;...</td>\n",
       "      <td>0</td>\n",
       "      <td>0</td>\n",
       "      <td>1</td>\n",
       "      <td>0</td>\n",
       "      <td>0</td>\n",
       "      <td>1</td>\n",
       "      <td>0</td>\n",
       "      <td>0</td>\n",
       "      <td>medias</td>\n",
       "    </tr>\n",
       "    <tr>\n",
       "      <th>4</th>\n",
       "      <td>UAKYqQx9s0MfIdLzrJv8Ig==</td>\n",
       "      <td>-34.606738</td>\n",
       "      <td>-58.389426</td>\n",
       "      <td>Tribunales</td>\n",
       "      <td>Departamento</td>\n",
       "      <td>3.0</td>\n",
       "      <td>2.0</td>\n",
       "      <td>76.0</td>\n",
       "      <td>75.0</td>\n",
       "      <td>129900.0</td>\n",
       "      <td>...</td>\n",
       "      <td>Excelente piso antiguo, lindísimo por sus tech...</td>\n",
       "      <td>0</td>\n",
       "      <td>0</td>\n",
       "      <td>1</td>\n",
       "      <td>0</td>\n",
       "      <td>0</td>\n",
       "      <td>0</td>\n",
       "      <td>0</td>\n",
       "      <td>0</td>\n",
       "      <td>no aplica</td>\n",
       "    </tr>\n",
       "  </tbody>\n",
       "</table>\n",
       "<p>5 rows × 23 columns</p>\n",
       "</div>"
      ],
      "text/plain": [
       "                         id    latitud   longitud    place_l3 property_type  \\\n",
       "0  F5IvmD1uzzdIR7b96ozt4g== -34.558855 -58.452458       Nuñez  Departamento   \n",
       "1  IiT/P7WfYDcqbhu7tf5V4Q== -34.582403 -58.443841  Colegiales  Departamento   \n",
       "2  6XXcElx/4OwCcH4NI06Oiw== -34.605825 -58.422214     Almagro  Departamento   \n",
       "3  8R7hSzqWFk9rX4wBXxfORA== -34.561971 -58.455670    Belgrano  Departamento   \n",
       "4  UAKYqQx9s0MfIdLzrJv8Ig== -34.606738 -58.389426  Tribunales  Departamento   \n",
       "\n",
       "   property_rooms  property_bedrooms  property_surface_total  \\\n",
       "0             4.0                3.0                   160.0   \n",
       "1             2.0                1.0                    50.0   \n",
       "2             3.0                2.0                    47.0   \n",
       "3             2.0                1.0                    52.0   \n",
       "4             3.0                2.0                    76.0   \n",
       "\n",
       "   property_surface_covered  property_price  ...  \\\n",
       "0                     146.0        460000.0  ...   \n",
       "1                      46.0        148000.0  ...   \n",
       "2                      47.0         89000.0  ...   \n",
       "3                      48.0        127000.0  ...   \n",
       "4                      75.0        129900.0  ...   \n",
       "\n",
       "                                property_description  piscina cochera balcon  \\\n",
       "0  Hermoso piso de 4 ambientes con dependencia y ...        0       1      1   \n",
       "1  2 ambientes con balcón y vista totalmente abie...        0       1      1   \n",
       "2  **DIAZ VELEZ 4291 Y PRINGLES** Almagro.<br><br...        0       0      0   \n",
       "3              IMPECABLE 2 AMBIENTES A ESTRENAR!<...        0       0      1   \n",
       "4  Excelente piso antiguo, lindísimo por sus tech...        0       0      1   \n",
       "\n",
       "   hidromasaje  gimnasio  a_estrenar  quincho  sum  expensas_tipo  \n",
       "0            0         0           0        0    0      no aplica  \n",
       "1            0         0           0        0    0      no aplica  \n",
       "2            0         0           0        0    0      no aplica  \n",
       "3            0         0           1        0    0         medias  \n",
       "4            0         0           0        0    0      no aplica  \n",
       "\n",
       "[5 rows x 23 columns]"
      ]
     },
     "execution_count": 56,
     "metadata": {},
     "output_type": "execute_result"
    }
   ],
   "source": [
    "ds_propiedades_para_clasificacion = ds_propiedades.copy()\n",
    "\n",
    "ds_propiedades_para_clasificacion.head()"
   ]
  },
  {
   "cell_type": "markdown",
   "metadata": {},
   "source": [
    "Modificamos el dataframe para poder usarlo en la red neuronal. Nos quedamos con las columnas necesarias, normalizamos y modificamos los tipos de datos "
   ]
  },
  {
   "cell_type": "code",
   "execution_count": 57,
   "metadata": {},
   "outputs": [],
   "source": [
    "# Eliminamos estas columnas porque no las necesitamos para el modelo\n",
    "ds_propiedades_para_clasificacion.drop(['property_title', 'id','property_description'], axis=1, inplace=True)\n",
    "\n",
    "#Eliminamos las columnas que tienen info del precio\n",
    "ds_propiedades_para_clasificacion.drop(['property_price', 'pxm2'], axis=1, inplace=True)\n",
    "\n",
    "# One hot encoding de las columnas categóricas\n",
    "ds_propiedades_para_clasificacion = pd.get_dummies(ds_propiedades_para_clasificacion, columns=[\"place_l3\", \"property_type\"], dtype=np.int8)"
   ]
  },
  {
   "cell_type": "code",
   "execution_count": 58,
   "metadata": {},
   "outputs": [],
   "source": [
    "# Convertimos tipo_precio y expensas_tipo a una columna numerica\n",
    "ds_propiedades_para_clasificacion.tipo_precio.replace({'bajo':0,'medio':1,'alto':2}, inplace=True)\n",
    "ds_propiedades_para_clasificacion.expensas_tipo.replace({'sin': -2, 'no aplica':-1,'bajas':0,'medias':1,'altas':2}, inplace=True)"
   ]
  },
  {
   "cell_type": "code",
   "execution_count": 59,
   "metadata": {},
   "outputs": [],
   "source": [
    "# Seleccionamos las columnas que vamos a usar para el modelo\n",
    "columnas_predictoras = ds_propiedades_para_clasificacion.columns.to_list()\n",
    "columnas_predictoras.remove('tipo_precio')\n",
    "d_in=len(columnas_predictoras)"
   ]
  },
  {
   "cell_type": "code",
   "execution_count": 60,
   "metadata": {},
   "outputs": [
    {
     "data": {
      "text/html": [
       "<div>\n",
       "<style scoped>\n",
       "    .dataframe tbody tr th:only-of-type {\n",
       "        vertical-align: middle;\n",
       "    }\n",
       "\n",
       "    .dataframe tbody tr th {\n",
       "        vertical-align: top;\n",
       "    }\n",
       "\n",
       "    .dataframe thead th {\n",
       "        text-align: right;\n",
       "    }\n",
       "</style>\n",
       "<table border=\"1\" class=\"dataframe\">\n",
       "  <thead>\n",
       "    <tr style=\"text-align: right;\">\n",
       "      <th></th>\n",
       "      <th>latitud</th>\n",
       "      <th>longitud</th>\n",
       "      <th>property_rooms</th>\n",
       "      <th>property_bedrooms</th>\n",
       "      <th>property_surface_total</th>\n",
       "      <th>property_surface_covered</th>\n",
       "      <th>tipo_precio</th>\n",
       "      <th>piscina</th>\n",
       "      <th>cochera</th>\n",
       "      <th>balcon</th>\n",
       "      <th>...</th>\n",
       "      <th>place_l3_Villa Pueyrredón</th>\n",
       "      <th>place_l3_Villa Real</th>\n",
       "      <th>place_l3_Villa Riachuelo</th>\n",
       "      <th>place_l3_Villa Santa Rita</th>\n",
       "      <th>place_l3_Villa Soldati</th>\n",
       "      <th>place_l3_Villa Urquiza</th>\n",
       "      <th>place_l3_Villa del Parque</th>\n",
       "      <th>property_type_Casa</th>\n",
       "      <th>property_type_Departamento</th>\n",
       "      <th>property_type_PH</th>\n",
       "    </tr>\n",
       "  </thead>\n",
       "  <tbody>\n",
       "    <tr>\n",
       "      <th>0</th>\n",
       "      <td>0.859587</td>\n",
       "      <td>0.416415</td>\n",
       "      <td>0.500000</td>\n",
       "      <td>0.6</td>\n",
       "      <td>0.477477</td>\n",
       "      <td>0.472313</td>\n",
       "      <td>2</td>\n",
       "      <td>0.0</td>\n",
       "      <td>1.0</td>\n",
       "      <td>1.0</td>\n",
       "      <td>...</td>\n",
       "      <td>0.0</td>\n",
       "      <td>0.0</td>\n",
       "      <td>0.0</td>\n",
       "      <td>0.0</td>\n",
       "      <td>0.0</td>\n",
       "      <td>0.0</td>\n",
       "      <td>0.0</td>\n",
       "      <td>0.0</td>\n",
       "      <td>1.0</td>\n",
       "      <td>0.0</td>\n",
       "    </tr>\n",
       "    <tr>\n",
       "      <th>1</th>\n",
       "      <td>0.715143</td>\n",
       "      <td>0.462460</td>\n",
       "      <td>0.166667</td>\n",
       "      <td>0.2</td>\n",
       "      <td>0.147147</td>\n",
       "      <td>0.146580</td>\n",
       "      <td>2</td>\n",
       "      <td>0.0</td>\n",
       "      <td>1.0</td>\n",
       "      <td>1.0</td>\n",
       "      <td>...</td>\n",
       "      <td>0.0</td>\n",
       "      <td>0.0</td>\n",
       "      <td>0.0</td>\n",
       "      <td>0.0</td>\n",
       "      <td>0.0</td>\n",
       "      <td>0.0</td>\n",
       "      <td>0.0</td>\n",
       "      <td>0.0</td>\n",
       "      <td>1.0</td>\n",
       "      <td>0.0</td>\n",
       "    </tr>\n",
       "    <tr>\n",
       "      <th>2</th>\n",
       "      <td>0.571472</td>\n",
       "      <td>0.578015</td>\n",
       "      <td>0.333333</td>\n",
       "      <td>0.4</td>\n",
       "      <td>0.138138</td>\n",
       "      <td>0.149837</td>\n",
       "      <td>1</td>\n",
       "      <td>0.0</td>\n",
       "      <td>0.0</td>\n",
       "      <td>0.0</td>\n",
       "      <td>...</td>\n",
       "      <td>0.0</td>\n",
       "      <td>0.0</td>\n",
       "      <td>0.0</td>\n",
       "      <td>0.0</td>\n",
       "      <td>0.0</td>\n",
       "      <td>0.0</td>\n",
       "      <td>0.0</td>\n",
       "      <td>0.0</td>\n",
       "      <td>1.0</td>\n",
       "      <td>0.0</td>\n",
       "    </tr>\n",
       "    <tr>\n",
       "      <th>3</th>\n",
       "      <td>0.840478</td>\n",
       "      <td>0.399254</td>\n",
       "      <td>0.166667</td>\n",
       "      <td>0.2</td>\n",
       "      <td>0.153153</td>\n",
       "      <td>0.153094</td>\n",
       "      <td>1</td>\n",
       "      <td>0.0</td>\n",
       "      <td>0.0</td>\n",
       "      <td>1.0</td>\n",
       "      <td>...</td>\n",
       "      <td>0.0</td>\n",
       "      <td>0.0</td>\n",
       "      <td>0.0</td>\n",
       "      <td>0.0</td>\n",
       "      <td>0.0</td>\n",
       "      <td>0.0</td>\n",
       "      <td>0.0</td>\n",
       "      <td>0.0</td>\n",
       "      <td>1.0</td>\n",
       "      <td>0.0</td>\n",
       "    </tr>\n",
       "    <tr>\n",
       "      <th>4</th>\n",
       "      <td>0.565870</td>\n",
       "      <td>0.753212</td>\n",
       "      <td>0.333333</td>\n",
       "      <td>0.4</td>\n",
       "      <td>0.225225</td>\n",
       "      <td>0.241042</td>\n",
       "      <td>0</td>\n",
       "      <td>0.0</td>\n",
       "      <td>0.0</td>\n",
       "      <td>1.0</td>\n",
       "      <td>...</td>\n",
       "      <td>0.0</td>\n",
       "      <td>0.0</td>\n",
       "      <td>0.0</td>\n",
       "      <td>0.0</td>\n",
       "      <td>0.0</td>\n",
       "      <td>0.0</td>\n",
       "      <td>0.0</td>\n",
       "      <td>0.0</td>\n",
       "      <td>1.0</td>\n",
       "      <td>0.0</td>\n",
       "    </tr>\n",
       "  </tbody>\n",
       "</table>\n",
       "<p>5 rows × 76 columns</p>\n",
       "</div>"
      ],
      "text/plain": [
       "    latitud  longitud  property_rooms  property_bedrooms  \\\n",
       "0  0.859587  0.416415        0.500000                0.6   \n",
       "1  0.715143  0.462460        0.166667                0.2   \n",
       "2  0.571472  0.578015        0.333333                0.4   \n",
       "3  0.840478  0.399254        0.166667                0.2   \n",
       "4  0.565870  0.753212        0.333333                0.4   \n",
       "\n",
       "   property_surface_total  property_surface_covered  tipo_precio  piscina  \\\n",
       "0                0.477477                  0.472313            2      0.0   \n",
       "1                0.147147                  0.146580            2      0.0   \n",
       "2                0.138138                  0.149837            1      0.0   \n",
       "3                0.153153                  0.153094            1      0.0   \n",
       "4                0.225225                  0.241042            0      0.0   \n",
       "\n",
       "   cochera  balcon  ...  place_l3_Villa Pueyrredón  place_l3_Villa Real  \\\n",
       "0      1.0     1.0  ...                        0.0                  0.0   \n",
       "1      1.0     1.0  ...                        0.0                  0.0   \n",
       "2      0.0     0.0  ...                        0.0                  0.0   \n",
       "3      0.0     1.0  ...                        0.0                  0.0   \n",
       "4      0.0     1.0  ...                        0.0                  0.0   \n",
       "\n",
       "   place_l3_Villa Riachuelo  place_l3_Villa Santa Rita  \\\n",
       "0                       0.0                        0.0   \n",
       "1                       0.0                        0.0   \n",
       "2                       0.0                        0.0   \n",
       "3                       0.0                        0.0   \n",
       "4                       0.0                        0.0   \n",
       "\n",
       "   place_l3_Villa Soldati  place_l3_Villa Urquiza  place_l3_Villa del Parque  \\\n",
       "0                     0.0                     0.0                        0.0   \n",
       "1                     0.0                     0.0                        0.0   \n",
       "2                     0.0                     0.0                        0.0   \n",
       "3                     0.0                     0.0                        0.0   \n",
       "4                     0.0                     0.0                        0.0   \n",
       "\n",
       "   property_type_Casa  property_type_Departamento  property_type_PH  \n",
       "0                 0.0                         1.0               0.0  \n",
       "1                 0.0                         1.0               0.0  \n",
       "2                 0.0                         1.0               0.0  \n",
       "3                 0.0                         1.0               0.0  \n",
       "4                 0.0                         1.0               0.0  \n",
       "\n",
       "[5 rows x 76 columns]"
      ]
     },
     "execution_count": 60,
     "metadata": {},
     "output_type": "execute_result"
    }
   ],
   "source": [
    "# Normalizamos las variables de entrada\n",
    "scaler = MinMaxScaler()\n",
    "ds_propiedades_para_clasificacion[columnas_predictoras] = scaler.fit_transform(ds_propiedades_para_clasificacion[columnas_predictoras])\n",
    "ds_propiedades_para_clasificacion\n",
    "\n",
    "ds_propiedades_para_clasificacion.astype('float32', copy=False)\n",
    "\n",
    "ds_propiedades_para_clasificacion.head()"
   ]
  },
  {
   "cell_type": "markdown",
   "metadata": {},
   "source": [
    "Separamos en train y test"
   ]
  },
  {
   "cell_type": "code",
   "execution_count": 61,
   "metadata": {},
   "outputs": [],
   "source": [
    "x_train, x_test, y_train, y_test = train_test_split(ds_propiedades_para_clasificacion.loc[:,columnas_predictoras],ds_propiedades_para_clasificacion.loc[:,'tipo_precio'], test_size=0.20, random_state=1)"
   ]
  },
  {
   "cell_type": "markdown",
   "metadata": {},
   "source": [
    "Creamos la red neuronal"
   ]
  },
  {
   "cell_type": "code",
   "execution_count": 62,
   "metadata": {},
   "outputs": [
    {
     "name": "stdout",
     "output_type": "stream",
     "text": [
      "Model: \"sequential\"\n",
      "_________________________________________________________________\n",
      " Layer (type)                Output Shape              Param #   \n",
      "=================================================================\n",
      " dense (Dense)               (None, 5)                 380       \n",
      "                                                                 \n",
      " dense_1 (Dense)             (None, 5)                 30        \n",
      "                                                                 \n",
      " dense_2 (Dense)             (None, 3)                 18        \n",
      "                                                                 \n",
      "=================================================================\n",
      "Total params: 428\n",
      "Trainable params: 428\n",
      "Non-trainable params: 0\n",
      "_________________________________________________________________\n"
     ]
    }
   ],
   "source": [
    "# calcula la cantidad de clases posibles para clasificar\n",
    "classes = int(ds_propiedades_para_clasificacion.loc[:,'tipo_precio'].max()+1)\n",
    "\n",
    "\n",
    "modelo = keras.Sequential([\n",
    "    # input_shape solo en la primer capa\n",
    "    keras.layers.Dense(5,input_shape=(d_in,), activation='relu'),\n",
    "\n",
    "    keras.layers.Dense(5, activation='sigmoid'),\n",
    "\n",
    "    #la ultima capa si o si tiene que tener tantas salidas como clases, y softmax\n",
    "    keras.layers.Dense(classes, activation='softmax')])\n",
    "\n",
    "modelo.summary()"
   ]
  },
  {
   "cell_type": "markdown",
   "metadata": {},
   "source": [
    "Compliamos y entrenamos el modelo"
   ]
  },
  {
   "cell_type": "code",
   "execution_count": 63,
   "metadata": {},
   "outputs": [],
   "source": [
    "modelo.compile(\n",
    "  optimizer=keras.optimizers.SGD(learning_rate=0.1), \n",
    "  loss='sparse_categorical_crossentropy', \n",
    "  metrics=['accuracy'], \n",
    ")\n",
    "\n",
    "# Entrenamiento del modelo\n",
    "history = modelo.fit(x_train,y_train,epochs=150,batch_size=200,verbose=False)"
   ]
  },
  {
   "cell_type": "markdown",
   "metadata": {},
   "source": [
    "Vemos las metricas obtenidas"
   ]
  },
  {
   "cell_type": "code",
   "execution_count": 64,
   "metadata": {},
   "outputs": [
    {
     "name": "stdout",
     "output_type": "stream",
     "text": [
      "536/536 [==============================] - 1s 1ms/step\n",
      "  Precision: 0.701\n",
      "     Recall: 0.647\n",
      "  f-measure: 0.666\n"
     ]
    }
   ],
   "source": [
    "y_pred = modelo.predict(x_test)\n",
    "\n",
    "y_pred = np.argmax(y_pred,axis = 1) \n",
    "\n",
    "print(\"  Precision: %.3f\" % precision_score(y_test, y_pred, average='macro'))\n",
    "print(\"  Recall: %.3f\" % recall_score(y_test, y_pred, average='macro'))\n",
    "print(\"  f-measure: %.3f\" % f1_score(y_test, y_pred, average='macro'))"
   ]
  },
  {
   "cell_type": "markdown",
   "metadata": {},
   "source": [
    "Las metricas no son malas, pero vamos a ver si podemos optimizar aun mas.\n",
    "Para buscar otras metricas, vamos a hacerlo iterando por distintas posibilades para los hiperparametros y quedarnos con la que nos de las mejores."
   ]
  },
  {
   "cell_type": "code",
   "execution_count": 65,
   "metadata": {},
   "outputs": [
    {
     "name": "stdout",
     "output_type": "stream",
     "text": [
      "Probando con: 1 salidas, relu, sigmoid, relu, 150 epochs, 103 batch_size\n",
      "536/536 [==============================] - 1s 2ms/step\n",
      "Metricas obtenidas:\n",
      "precision:0.16603458000272284\n",
      "recall:0.3333333333333333\n",
      "f1:0.2216596562289038\n",
      "\n",
      "Probando con: 0 salidas, softmax, relu, softmax, 107 epochs, 118 batch_size\n",
      "536/536 [==============================] - 2s 3ms/step\n",
      "Metricas obtenidas:\n",
      "precision:0.08434953420075071\n",
      "recall:0.3333333333333333\n",
      "f1:0.13463090581734646\n",
      "\n",
      "Probando con: 1 salidas, relu, sigmoid, relu, 98 epochs, 105 batch_size\n",
      "536/536 [==============================] - 1s 2ms/step\n",
      "Metricas obtenidas:\n",
      "precision:0.16603458000272284\n",
      "recall:0.3333333333333333\n",
      "f1:0.2216596562289038\n",
      "\n",
      "Probando con: 3 salidas, relu, tanh, softmax, 78 epochs, 167 batch_size\n",
      "536/536 [==============================] - 1s 2ms/step\n",
      "Metricas obtenidas:\n",
      "precision:0.6942217515152818\n",
      "recall:0.6406146816204114\n",
      "f1:0.659696646231579\n",
      "\n",
      "Probando con: 2 salidas, relu, softmax, relu, 145 epochs, 135 batch_size\n",
      "536/536 [==============================] - 2s 3ms/step\n",
      "Metricas obtenidas:\n",
      "precision:0.7011549912046954\n",
      "recall:0.6229183353082103\n",
      "f1:0.6396729793540232\n",
      "\n",
      "{'prom': 0.6648443597890907, 'precision': 0.6942217515152818, 'recall': 0.6406146816204114, 'f-measure': 0.659696646231579}\n",
      "{'func_activacion_1': 'relu', 'func_activacion_2': 'tanh', 'func_activacion_3': 'softmax', 'epochs': 78, 'batch_size': 167, 'cant_salidas': 3}\n"
     ]
    }
   ],
   "source": [
    "import random\n",
    "\n",
    "random.seed(1)\n",
    "\n",
    "activations = ['relu', 'tanh', 'sigmoid', 'softmax']\n",
    "\n",
    "\n",
    "mejores_hyperparametros = {\n",
    "    'func_activacion_1': '',\n",
    "    'func_activacion_2': '',\n",
    "    'func_activacion_3': '',\n",
    "    'epochs': 0,\n",
    "    'batch_size': 0,\n",
    "}\n",
    "\n",
    "mejores_metricas = {\n",
    "  'prom' : 0,\n",
    "  'precision' : 0,\n",
    "  'recall' : 0,\n",
    "  'f-measure' : 0\n",
    "}\n",
    "\n",
    "for _ in range(0,5):\n",
    "\n",
    "  cant_salidas = random.randint(0,4)\n",
    "  func_activacion_1 = activations[random.randint(0,3)]\n",
    "  func_activacion_2 = activations[random.randint(0,3)]\n",
    "  func_activacion_3 = activations[random.randint(0,3)]\n",
    "  modelo = keras.Sequential([\n",
    "      keras.layers.Dense(3,input_shape=(d_in,), activation=activations[random.randint(0,3)]),\n",
    "\n",
    "      keras.layers.Dense(cant_salidas, activation=func_activacion_1),\n",
    "      keras.layers.Dense(cant_salidas, activation=func_activacion_2),\n",
    "      keras.layers.Dense(cant_salidas, activation=func_activacion_3),\n",
    "      \n",
    "      keras.layers.Dense(classes, activation='softmax')])\n",
    "\n",
    "  # Compilamos el modelo\n",
    "  modelo.compile(\n",
    "    optimizer=keras.optimizers.SGD(learning_rate=0.1), \n",
    "    loss='sparse_categorical_crossentropy', \n",
    "    metrics=['accuracy'], \n",
    "  )\n",
    "  \n",
    "  # Entrenamiento del modelo\n",
    "  epochs = random.randint(50,150)\n",
    "  batch_size = random.randint(50,200)\n",
    "\n",
    "\n",
    "  print(f\"Probando con: {cant_salidas} salidas, {func_activacion_1}, {func_activacion_2}, {func_activacion_3}, {epochs} epochs, {batch_size} batch_size\")\n",
    "  history = modelo.fit(x_train,y_train,epochs=epochs,batch_size=batch_size,verbose=False)\n",
    "\n",
    "  y_pred = modelo.predict(x_test)\n",
    "  y_pred = np.argmax(y_pred,axis = 1) \n",
    "\n",
    "  # Utilizamos las metricas que pide la consigna\n",
    "  pres = precision_score(y_test, y_pred, average='macro')\n",
    "  recall = recall_score(y_test, y_pred, average='macro')\n",
    "  f1 = f1_score(y_test, y_pred, average='macro')\n",
    "\n",
    "  # Calculamos la media de las metricas\n",
    "  metricas = (pres + recall + f1) / 3\n",
    "  \n",
    "  print(\"Metricas obtenidas:\")\n",
    "  print(f\"precision:{pres}\")\n",
    "  print(f\"recall:{recall}\")\n",
    "  print(f\"f1:{f1}\")\n",
    "  print()\n",
    "\n",
    "  if metricas > mejores_metricas['prom']:\n",
    "    mejores_metricas['prom'] = metricas\n",
    "    \n",
    "    mejores_metricas['precision'] = pres\n",
    "    mejores_metricas['recall'] = recall\n",
    "    mejores_metricas['f-measure'] = f1\n",
    "\n",
    "    mejores_hyperparametros['cant_salidas'] = cant_salidas\n",
    "    mejores_hyperparametros['func_activacion_1'] = func_activacion_1\n",
    "    mejores_hyperparametros['func_activacion_2'] = func_activacion_2\n",
    "    mejores_hyperparametros['func_activacion_3'] = func_activacion_3\n",
    "    mejores_hyperparametros['epochs'] = epochs\n",
    "    mejores_hyperparametros['batch_size'] = batch_size\n",
    "  \n",
    "\n",
    "print(mejores_metricas)\n",
    "print(mejores_hyperparametros)"
   ]
  },
  {
   "cell_type": "markdown",
   "metadata": {},
   "source": [
    "Buscando de esta forma, si bien las metricas son parecidas, se utilizan menos epochs, batch_size, y cantidad de salidas, por lo que es mas rapido de entrenar y por lo tanto mas eficiente."
   ]
  },
  {
   "cell_type": "code",
   "execution_count": 66,
   "metadata": {},
   "outputs": [
    {
     "name": "stdout",
     "output_type": "stream",
     "text": [
      "Mejores Metricas obtenidas:\n",
      "precision:0.6942217515152818\n",
      "recall:0.6406146816204114\n",
      "f1:0.659696646231579\n"
     ]
    }
   ],
   "source": [
    "print(\"Mejores Metricas obtenidas:\")\n",
    "print(f\"precision:{mejores_metricas['precision']}\")\n",
    "print(f\"recall:{mejores_metricas['recall']}\")\n",
    "print(f\"f1:{mejores_metricas['f-measure']}\")"
   ]
  },
  {
   "cell_type": "markdown",
   "metadata": {},
   "source": [
    "## Regresion"
   ]
  },
  {
   "cell_type": "code",
   "execution_count": 68,
   "metadata": {},
   "outputs": [],
   "source": [
    "ds_propiedades_para_regresion = ds_propiedades.copy()"
   ]
  },
  {
   "cell_type": "markdown",
   "metadata": {},
   "source": [
    "Usamos esta funcion para graficar mas comodo"
   ]
  },
  {
   "cell_type": "code",
   "execution_count": 67,
   "metadata": {},
   "outputs": [],
   "source": [
    "def plot_regression(modelo,x,y,title=\"\",xlabel=\"x\",ylabel=\"y\"):\n",
    "    plt.figure()\n",
    "    \n",
    "    plt.plot(x,y,\"o\",label=\"Valores verdaderos\")\n",
    "    plt.plot(x,modelo.predict(x),\"x\",label=\"Valores estimados\")\n",
    "    \n",
    "    plt.xlabel(xlabel)\n",
    "    plt.ylabel(ylabel)\n",
    "    plt.title(title)\n",
    "    plt.legend()\n",
    "    plt.show()"
   ]
  },
  {
   "cell_type": "markdown",
   "metadata": {},
   "source": [
    "Transformamos los datos del dataframe"
   ]
  },
  {
   "cell_type": "code",
   "execution_count": 69,
   "metadata": {},
   "outputs": [],
   "source": [
    "# Eliminamos estas columnas porque no las necesitamos para el modelo\n",
    "ds_propiedades_para_regresion.drop(['property_title', 'id', 'property_description'], axis=1, inplace=True)\n",
    "\n",
    "#Eliminamos las columnas que tienen info del precio\n",
    "ds_propiedades_para_regresion.drop(['tipo_precio','pxm2'], axis=1, inplace=True)\n",
    "\n",
    "# One hot encoding de las columnas categóricas\n",
    "ds_propiedades_para_regresion = pd.get_dummies(ds_propiedades_para_regresion, columns=[\"place_l3\", \"property_type\"], dtype=np.int8)\n",
    "\n",
    "# Seleccionamos las columnas que vamos a usar para el modelo\n",
    "columnas_predictoras=ds_propiedades_para_regresion.columns.to_list()\n",
    "\n",
    "# Eliminamos property_price porque es la variable que queremos predecir\n",
    "columnas_predictoras.remove('property_price')\n",
    "\n",
    "# Convertimos expensas_tipo a una columna numerica\n",
    "ds_propiedades_para_regresion.expensas_tipo.replace({'sin': -2, 'no aplica':-1,'bajas':0,'medias':1,'altas':2}, inplace=True)\n",
    "\n",
    "# Normalizamos las variables de entrada\n",
    "scaler = MinMaxScaler()\n",
    "ds_propiedades_para_regresion[columnas_predictoras] = scaler.fit_transform(ds_propiedades_para_regresion[columnas_predictoras])"
   ]
  },
  {
   "cell_type": "markdown",
   "metadata": {},
   "source": [
    "Separamos en Train y Test y Standarizamos los datos ya que las Redes Neuronales funcionan mejor con datos escalados"
   ]
  },
  {
   "cell_type": "code",
   "execution_count": 70,
   "metadata": {},
   "outputs": [
    {
     "data": {
      "text/html": [
       "<div>\n",
       "<style scoped>\n",
       "    .dataframe tbody tr th:only-of-type {\n",
       "        vertical-align: middle;\n",
       "    }\n",
       "\n",
       "    .dataframe tbody tr th {\n",
       "        vertical-align: top;\n",
       "    }\n",
       "\n",
       "    .dataframe thead th {\n",
       "        text-align: right;\n",
       "    }\n",
       "</style>\n",
       "<table border=\"1\" class=\"dataframe\">\n",
       "  <thead>\n",
       "    <tr style=\"text-align: right;\">\n",
       "      <th></th>\n",
       "      <th>latitud</th>\n",
       "      <th>longitud</th>\n",
       "      <th>property_rooms</th>\n",
       "      <th>property_bedrooms</th>\n",
       "      <th>property_surface_total</th>\n",
       "      <th>property_surface_covered</th>\n",
       "      <th>property_price</th>\n",
       "      <th>piscina</th>\n",
       "      <th>cochera</th>\n",
       "      <th>balcon</th>\n",
       "      <th>...</th>\n",
       "      <th>place_l3_Villa Pueyrredón</th>\n",
       "      <th>place_l3_Villa Real</th>\n",
       "      <th>place_l3_Villa Riachuelo</th>\n",
       "      <th>place_l3_Villa Santa Rita</th>\n",
       "      <th>place_l3_Villa Soldati</th>\n",
       "      <th>place_l3_Villa Urquiza</th>\n",
       "      <th>place_l3_Villa del Parque</th>\n",
       "      <th>property_type_Casa</th>\n",
       "      <th>property_type_Departamento</th>\n",
       "      <th>property_type_PH</th>\n",
       "    </tr>\n",
       "  </thead>\n",
       "  <tbody>\n",
       "    <tr>\n",
       "      <th>0</th>\n",
       "      <td>0.859587</td>\n",
       "      <td>0.416415</td>\n",
       "      <td>0.500000</td>\n",
       "      <td>0.6</td>\n",
       "      <td>0.477477</td>\n",
       "      <td>0.472313</td>\n",
       "      <td>0.383966</td>\n",
       "      <td>0.0</td>\n",
       "      <td>1.0</td>\n",
       "      <td>1.0</td>\n",
       "      <td>...</td>\n",
       "      <td>0.0</td>\n",
       "      <td>0.0</td>\n",
       "      <td>0.0</td>\n",
       "      <td>0.0</td>\n",
       "      <td>0.0</td>\n",
       "      <td>0.0</td>\n",
       "      <td>0.0</td>\n",
       "      <td>0.0</td>\n",
       "      <td>1.0</td>\n",
       "      <td>0.0</td>\n",
       "    </tr>\n",
       "    <tr>\n",
       "      <th>1</th>\n",
       "      <td>0.715143</td>\n",
       "      <td>0.462460</td>\n",
       "      <td>0.166667</td>\n",
       "      <td>0.2</td>\n",
       "      <td>0.147147</td>\n",
       "      <td>0.146580</td>\n",
       "      <td>0.120675</td>\n",
       "      <td>0.0</td>\n",
       "      <td>1.0</td>\n",
       "      <td>1.0</td>\n",
       "      <td>...</td>\n",
       "      <td>0.0</td>\n",
       "      <td>0.0</td>\n",
       "      <td>0.0</td>\n",
       "      <td>0.0</td>\n",
       "      <td>0.0</td>\n",
       "      <td>0.0</td>\n",
       "      <td>0.0</td>\n",
       "      <td>0.0</td>\n",
       "      <td>1.0</td>\n",
       "      <td>0.0</td>\n",
       "    </tr>\n",
       "    <tr>\n",
       "      <th>2</th>\n",
       "      <td>0.571472</td>\n",
       "      <td>0.578015</td>\n",
       "      <td>0.333333</td>\n",
       "      <td>0.4</td>\n",
       "      <td>0.138138</td>\n",
       "      <td>0.149837</td>\n",
       "      <td>0.070886</td>\n",
       "      <td>0.0</td>\n",
       "      <td>0.0</td>\n",
       "      <td>0.0</td>\n",
       "      <td>...</td>\n",
       "      <td>0.0</td>\n",
       "      <td>0.0</td>\n",
       "      <td>0.0</td>\n",
       "      <td>0.0</td>\n",
       "      <td>0.0</td>\n",
       "      <td>0.0</td>\n",
       "      <td>0.0</td>\n",
       "      <td>0.0</td>\n",
       "      <td>1.0</td>\n",
       "      <td>0.0</td>\n",
       "    </tr>\n",
       "    <tr>\n",
       "      <th>3</th>\n",
       "      <td>0.840478</td>\n",
       "      <td>0.399254</td>\n",
       "      <td>0.166667</td>\n",
       "      <td>0.2</td>\n",
       "      <td>0.153153</td>\n",
       "      <td>0.153094</td>\n",
       "      <td>0.102954</td>\n",
       "      <td>0.0</td>\n",
       "      <td>0.0</td>\n",
       "      <td>1.0</td>\n",
       "      <td>...</td>\n",
       "      <td>0.0</td>\n",
       "      <td>0.0</td>\n",
       "      <td>0.0</td>\n",
       "      <td>0.0</td>\n",
       "      <td>0.0</td>\n",
       "      <td>0.0</td>\n",
       "      <td>0.0</td>\n",
       "      <td>0.0</td>\n",
       "      <td>1.0</td>\n",
       "      <td>0.0</td>\n",
       "    </tr>\n",
       "    <tr>\n",
       "      <th>4</th>\n",
       "      <td>0.565870</td>\n",
       "      <td>0.753212</td>\n",
       "      <td>0.333333</td>\n",
       "      <td>0.4</td>\n",
       "      <td>0.225225</td>\n",
       "      <td>0.241042</td>\n",
       "      <td>0.105401</td>\n",
       "      <td>0.0</td>\n",
       "      <td>0.0</td>\n",
       "      <td>1.0</td>\n",
       "      <td>...</td>\n",
       "      <td>0.0</td>\n",
       "      <td>0.0</td>\n",
       "      <td>0.0</td>\n",
       "      <td>0.0</td>\n",
       "      <td>0.0</td>\n",
       "      <td>0.0</td>\n",
       "      <td>0.0</td>\n",
       "      <td>0.0</td>\n",
       "      <td>1.0</td>\n",
       "      <td>0.0</td>\n",
       "    </tr>\n",
       "    <tr>\n",
       "      <th>...</th>\n",
       "      <td>...</td>\n",
       "      <td>...</td>\n",
       "      <td>...</td>\n",
       "      <td>...</td>\n",
       "      <td>...</td>\n",
       "      <td>...</td>\n",
       "      <td>...</td>\n",
       "      <td>...</td>\n",
       "      <td>...</td>\n",
       "      <td>...</td>\n",
       "      <td>...</td>\n",
       "      <td>...</td>\n",
       "      <td>...</td>\n",
       "      <td>...</td>\n",
       "      <td>...</td>\n",
       "      <td>...</td>\n",
       "      <td>...</td>\n",
       "      <td>...</td>\n",
       "      <td>...</td>\n",
       "      <td>...</td>\n",
       "      <td>...</td>\n",
       "    </tr>\n",
       "    <tr>\n",
       "      <th>85688</th>\n",
       "      <td>0.728453</td>\n",
       "      <td>0.519028</td>\n",
       "      <td>0.333333</td>\n",
       "      <td>0.4</td>\n",
       "      <td>0.171171</td>\n",
       "      <td>0.185668</td>\n",
       "      <td>0.143460</td>\n",
       "      <td>0.0</td>\n",
       "      <td>0.0</td>\n",
       "      <td>0.0</td>\n",
       "      <td>...</td>\n",
       "      <td>0.0</td>\n",
       "      <td>0.0</td>\n",
       "      <td>0.0</td>\n",
       "      <td>0.0</td>\n",
       "      <td>0.0</td>\n",
       "      <td>0.0</td>\n",
       "      <td>0.0</td>\n",
       "      <td>0.0</td>\n",
       "      <td>0.0</td>\n",
       "      <td>1.0</td>\n",
       "    </tr>\n",
       "    <tr>\n",
       "      <th>85689</th>\n",
       "      <td>0.465723</td>\n",
       "      <td>0.493996</td>\n",
       "      <td>0.833333</td>\n",
       "      <td>0.8</td>\n",
       "      <td>0.549550</td>\n",
       "      <td>0.596091</td>\n",
       "      <td>0.350211</td>\n",
       "      <td>0.0</td>\n",
       "      <td>0.0</td>\n",
       "      <td>0.0</td>\n",
       "      <td>...</td>\n",
       "      <td>0.0</td>\n",
       "      <td>0.0</td>\n",
       "      <td>0.0</td>\n",
       "      <td>0.0</td>\n",
       "      <td>0.0</td>\n",
       "      <td>0.0</td>\n",
       "      <td>0.0</td>\n",
       "      <td>0.0</td>\n",
       "      <td>0.0</td>\n",
       "      <td>1.0</td>\n",
       "    </tr>\n",
       "    <tr>\n",
       "      <th>85690</th>\n",
       "      <td>0.407469</td>\n",
       "      <td>0.645797</td>\n",
       "      <td>0.166667</td>\n",
       "      <td>0.2</td>\n",
       "      <td>0.132132</td>\n",
       "      <td>0.130293</td>\n",
       "      <td>0.066667</td>\n",
       "      <td>0.0</td>\n",
       "      <td>0.0</td>\n",
       "      <td>0.0</td>\n",
       "      <td>...</td>\n",
       "      <td>0.0</td>\n",
       "      <td>0.0</td>\n",
       "      <td>0.0</td>\n",
       "      <td>0.0</td>\n",
       "      <td>0.0</td>\n",
       "      <td>0.0</td>\n",
       "      <td>0.0</td>\n",
       "      <td>0.0</td>\n",
       "      <td>0.0</td>\n",
       "      <td>1.0</td>\n",
       "    </tr>\n",
       "    <tr>\n",
       "      <th>85691</th>\n",
       "      <td>0.687028</td>\n",
       "      <td>0.098150</td>\n",
       "      <td>0.166667</td>\n",
       "      <td>0.2</td>\n",
       "      <td>0.255255</td>\n",
       "      <td>0.143322</td>\n",
       "      <td>0.097046</td>\n",
       "      <td>0.0</td>\n",
       "      <td>0.0</td>\n",
       "      <td>0.0</td>\n",
       "      <td>...</td>\n",
       "      <td>0.0</td>\n",
       "      <td>0.0</td>\n",
       "      <td>0.0</td>\n",
       "      <td>0.0</td>\n",
       "      <td>0.0</td>\n",
       "      <td>0.0</td>\n",
       "      <td>0.0</td>\n",
       "      <td>0.0</td>\n",
       "      <td>0.0</td>\n",
       "      <td>1.0</td>\n",
       "    </tr>\n",
       "    <tr>\n",
       "      <th>85692</th>\n",
       "      <td>0.751212</td>\n",
       "      <td>0.123701</td>\n",
       "      <td>0.333333</td>\n",
       "      <td>0.4</td>\n",
       "      <td>0.237237</td>\n",
       "      <td>0.224756</td>\n",
       "      <td>0.113840</td>\n",
       "      <td>0.0</td>\n",
       "      <td>0.0</td>\n",
       "      <td>1.0</td>\n",
       "      <td>...</td>\n",
       "      <td>1.0</td>\n",
       "      <td>0.0</td>\n",
       "      <td>0.0</td>\n",
       "      <td>0.0</td>\n",
       "      <td>0.0</td>\n",
       "      <td>0.0</td>\n",
       "      <td>0.0</td>\n",
       "      <td>0.0</td>\n",
       "      <td>0.0</td>\n",
       "      <td>1.0</td>\n",
       "    </tr>\n",
       "  </tbody>\n",
       "</table>\n",
       "<p>85693 rows × 76 columns</p>\n",
       "</div>"
      ],
      "text/plain": [
       "        latitud  longitud  property_rooms  property_bedrooms  \\\n",
       "0      0.859587  0.416415        0.500000                0.6   \n",
       "1      0.715143  0.462460        0.166667                0.2   \n",
       "2      0.571472  0.578015        0.333333                0.4   \n",
       "3      0.840478  0.399254        0.166667                0.2   \n",
       "4      0.565870  0.753212        0.333333                0.4   \n",
       "...         ...       ...             ...                ...   \n",
       "85688  0.728453  0.519028        0.333333                0.4   \n",
       "85689  0.465723  0.493996        0.833333                0.8   \n",
       "85690  0.407469  0.645797        0.166667                0.2   \n",
       "85691  0.687028  0.098150        0.166667                0.2   \n",
       "85692  0.751212  0.123701        0.333333                0.4   \n",
       "\n",
       "       property_surface_total  property_surface_covered  property_price  \\\n",
       "0                    0.477477                  0.472313        0.383966   \n",
       "1                    0.147147                  0.146580        0.120675   \n",
       "2                    0.138138                  0.149837        0.070886   \n",
       "3                    0.153153                  0.153094        0.102954   \n",
       "4                    0.225225                  0.241042        0.105401   \n",
       "...                       ...                       ...             ...   \n",
       "85688                0.171171                  0.185668        0.143460   \n",
       "85689                0.549550                  0.596091        0.350211   \n",
       "85690                0.132132                  0.130293        0.066667   \n",
       "85691                0.255255                  0.143322        0.097046   \n",
       "85692                0.237237                  0.224756        0.113840   \n",
       "\n",
       "       piscina  cochera  balcon  ...  place_l3_Villa Pueyrredón  \\\n",
       "0          0.0      1.0     1.0  ...                        0.0   \n",
       "1          0.0      1.0     1.0  ...                        0.0   \n",
       "2          0.0      0.0     0.0  ...                        0.0   \n",
       "3          0.0      0.0     1.0  ...                        0.0   \n",
       "4          0.0      0.0     1.0  ...                        0.0   \n",
       "...        ...      ...     ...  ...                        ...   \n",
       "85688      0.0      0.0     0.0  ...                        0.0   \n",
       "85689      0.0      0.0     0.0  ...                        0.0   \n",
       "85690      0.0      0.0     0.0  ...                        0.0   \n",
       "85691      0.0      0.0     0.0  ...                        0.0   \n",
       "85692      0.0      0.0     1.0  ...                        1.0   \n",
       "\n",
       "       place_l3_Villa Real  place_l3_Villa Riachuelo  \\\n",
       "0                      0.0                       0.0   \n",
       "1                      0.0                       0.0   \n",
       "2                      0.0                       0.0   \n",
       "3                      0.0                       0.0   \n",
       "4                      0.0                       0.0   \n",
       "...                    ...                       ...   \n",
       "85688                  0.0                       0.0   \n",
       "85689                  0.0                       0.0   \n",
       "85690                  0.0                       0.0   \n",
       "85691                  0.0                       0.0   \n",
       "85692                  0.0                       0.0   \n",
       "\n",
       "       place_l3_Villa Santa Rita  place_l3_Villa Soldati  \\\n",
       "0                            0.0                     0.0   \n",
       "1                            0.0                     0.0   \n",
       "2                            0.0                     0.0   \n",
       "3                            0.0                     0.0   \n",
       "4                            0.0                     0.0   \n",
       "...                          ...                     ...   \n",
       "85688                        0.0                     0.0   \n",
       "85689                        0.0                     0.0   \n",
       "85690                        0.0                     0.0   \n",
       "85691                        0.0                     0.0   \n",
       "85692                        0.0                     0.0   \n",
       "\n",
       "       place_l3_Villa Urquiza  place_l3_Villa del Parque  property_type_Casa  \\\n",
       "0                         0.0                        0.0                 0.0   \n",
       "1                         0.0                        0.0                 0.0   \n",
       "2                         0.0                        0.0                 0.0   \n",
       "3                         0.0                        0.0                 0.0   \n",
       "4                         0.0                        0.0                 0.0   \n",
       "...                       ...                        ...                 ...   \n",
       "85688                     0.0                        0.0                 0.0   \n",
       "85689                     0.0                        0.0                 0.0   \n",
       "85690                     0.0                        0.0                 0.0   \n",
       "85691                     0.0                        0.0                 0.0   \n",
       "85692                     0.0                        0.0                 0.0   \n",
       "\n",
       "       property_type_Departamento  property_type_PH  \n",
       "0                             1.0               0.0  \n",
       "1                             1.0               0.0  \n",
       "2                             1.0               0.0  \n",
       "3                             1.0               0.0  \n",
       "4                             1.0               0.0  \n",
       "...                           ...               ...  \n",
       "85688                         0.0               1.0  \n",
       "85689                         0.0               1.0  \n",
       "85690                         0.0               1.0  \n",
       "85691                         0.0               1.0  \n",
       "85692                         0.0               1.0  \n",
       "\n",
       "[85693 rows x 76 columns]"
      ]
     },
     "execution_count": 70,
     "metadata": {},
     "output_type": "execute_result"
    }
   ],
   "source": [
    "x_train, x_test, y_train, y_test = train_test_split(ds_propiedades_para_regresion.loc[:,columnas_predictoras],ds_propiedades_para_regresion.loc[:,'property_price'],test_size=0.2)\n",
    "\n",
    "sscaler=StandardScaler()\n",
    "sscaler.fit(pd.DataFrame(x_train))\n",
    "\n",
    "x_train_transform=sscaler.transform(pd.DataFrame(x_train))\n",
    "x_test_transform=sscaler.transform(pd.DataFrame(x_test))\n",
    "\n",
    "ds_propiedades_para_regresion"
   ]
  },
  {
   "cell_type": "markdown",
   "metadata": {},
   "source": [
    "Creamos la red"
   ]
  },
  {
   "cell_type": "code",
   "execution_count": 71,
   "metadata": {},
   "outputs": [
    {
     "name": "stdout",
     "output_type": "stream",
     "text": [
      "Model: \"sequential_6\"\n",
      "_________________________________________________________________\n",
      " Layer (type)                Output Shape              Param #   \n",
      "=================================================================\n",
      " dense_28 (Dense)            (None, 1)                 76        \n",
      "                                                                 \n",
      " dense_29 (Dense)            (None, 3)                 6         \n",
      "                                                                 \n",
      " dense_30 (Dense)            (None, 3)                 12        \n",
      "                                                                 \n",
      " dense_31 (Dense)            (None, 1)                 4         \n",
      "                                                                 \n",
      "=================================================================\n",
      "Total params: 98\n",
      "Trainable params: 98\n",
      "Non-trainable params: 0\n",
      "_________________________________________________________________\n"
     ]
    }
   ],
   "source": [
    "d_in=len(columnas_predictoras)\n",
    "d_out=1\n",
    "\n",
    "modelo1 = keras.Sequential([\n",
    "    keras.layers.Dense(1,input_shape=(d_in,)),\n",
    "\n",
    "    keras.layers.Dense(3, activation='tanh'),\n",
    "    keras.layers.Dense(3, activation='relu'),\n",
    "    keras.layers.Dense(1, activation='sigmoid')\n",
    "    ])\n",
    "    \n",
    "modelo1.summary()"
   ]
  },
  {
   "cell_type": "markdown",
   "metadata": {},
   "source": [
    "La compilamos y entrenamos"
   ]
  },
  {
   "cell_type": "code",
   "execution_count": 72,
   "metadata": {},
   "outputs": [],
   "source": [
    "modelo1.compile(\n",
    "  optimizer=keras.optimizers.SGD(learning_rate=0.001), \n",
    "  loss='mse', \n",
    "  metrics=['mae'], \n",
    ")\n",
    "\n",
    "history = modelo1.fit(x_train_transform,y_train,epochs=50,batch_size=85,verbose=False)"
   ]
  },
  {
   "cell_type": "markdown",
   "metadata": {},
   "source": [
    "Vemos la performance en Test"
   ]
  },
  {
   "cell_type": "code",
   "execution_count": 74,
   "metadata": {},
   "outputs": [
    {
     "name": "stdout",
     "output_type": "stream",
     "text": [
      "536/536 [==============================] - 1s 2ms/step\n"
     ]
    },
    {
     "data": {
      "text/html": [
       "<div>\n",
       "<style scoped>\n",
       "    .dataframe tbody tr th:only-of-type {\n",
       "        vertical-align: middle;\n",
       "    }\n",
       "\n",
       "    .dataframe tbody tr th {\n",
       "        vertical-align: top;\n",
       "    }\n",
       "\n",
       "    .dataframe thead th {\n",
       "        text-align: right;\n",
       "    }\n",
       "</style>\n",
       "<table border=\"1\" class=\"dataframe\">\n",
       "  <thead>\n",
       "    <tr style=\"text-align: right;\">\n",
       "      <th></th>\n",
       "      <th>Valor Real</th>\n",
       "      <th>Prediccion</th>\n",
       "      <th>Error</th>\n",
       "    </tr>\n",
       "  </thead>\n",
       "  <tbody>\n",
       "    <tr>\n",
       "      <th>30768</th>\n",
       "      <td>0.079325</td>\n",
       "      <td>0.089617</td>\n",
       "      <td>-0.010292</td>\n",
       "    </tr>\n",
       "    <tr>\n",
       "      <th>16339</th>\n",
       "      <td>0.129958</td>\n",
       "      <td>0.100944</td>\n",
       "      <td>0.029014</td>\n",
       "    </tr>\n",
       "    <tr>\n",
       "      <th>85517</th>\n",
       "      <td>0.172996</td>\n",
       "      <td>0.146180</td>\n",
       "      <td>0.026815</td>\n",
       "    </tr>\n",
       "    <tr>\n",
       "      <th>73323</th>\n",
       "      <td>0.308017</td>\n",
       "      <td>0.221300</td>\n",
       "      <td>0.086717</td>\n",
       "    </tr>\n",
       "    <tr>\n",
       "      <th>69985</th>\n",
       "      <td>0.063249</td>\n",
       "      <td>0.092485</td>\n",
       "      <td>-0.029236</td>\n",
       "    </tr>\n",
       "  </tbody>\n",
       "</table>\n",
       "</div>"
      ],
      "text/plain": [
       "       Valor Real  Prediccion     Error\n",
       "30768    0.079325    0.089617 -0.010292\n",
       "16339    0.129958    0.100944  0.029014\n",
       "85517    0.172996    0.146180  0.026815\n",
       "73323    0.308017    0.221300  0.086717\n",
       "69985    0.063249    0.092485 -0.029236"
      ]
     },
     "execution_count": 74,
     "metadata": {},
     "output_type": "execute_result"
    }
   ],
   "source": [
    "y_pred = modelo1.predict(x_test_transform)\n",
    "y_pred = y_pred.flatten()\n",
    "performance = pd.DataFrame({'Valor Real': y_test,\n",
    "                            'Prediccion': y_pred,\n",
    "                            'Error': y_test - y_pred})\n",
    "\n",
    "\n",
    "performance.head()"
   ]
  },
  {
   "cell_type": "code",
   "execution_count": 75,
   "metadata": {},
   "outputs": [
    {
     "name": "stdout",
     "output_type": "stream",
     "text": [
      "El error (mse) de test es: 0.00812303489450075\n",
      "El error (rmse) de test es: 0.09012788078336664\n"
     ]
    }
   ],
   "source": [
    "mse = metrics.mean_squared_error(\n",
    "        y_true  = y_test,\n",
    "        y_pred  = y_pred,\n",
    "        squared = True\n",
    "         )\n",
    "\n",
    "print(f\"El error (mse) de test es: {mse}\")\n",
    "\n",
    "\n",
    "rmse = metrics.mean_squared_error(\n",
    "        y_true  = y_test,\n",
    "        y_pred  = y_pred,\n",
    "        squared = False\n",
    "         )\n",
    "\n",
    "print(f\"El error (rmse) de test es: {rmse}\")    "
   ]
  },
  {
   "cell_type": "code",
   "execution_count": 76,
   "metadata": {},
   "outputs": [
    {
     "name": "stdout",
     "output_type": "stream",
     "text": [
      "El r2 score de test es: 0.18106422575033387\n"
     ]
    }
   ],
   "source": [
    "r2 = metrics.r2_score(\n",
    "        y_true  = y_test,\n",
    "        y_pred  = y_pred\n",
    "        )\n",
    "\n",
    "print(f\"El r2 score de test es: {r2}\")"
   ]
  },
  {
   "cell_type": "markdown",
   "metadata": {},
   "source": [
    "Vemos que, como antes, las métricas no son las mejores pero tampoco son malas, entonces procedemos a ver si podemos mejorarlas buscando hiperparámetros"
   ]
  },
  {
   "cell_type": "code",
   "execution_count": 77,
   "metadata": {},
   "outputs": [
    {
     "name": "stdout",
     "output_type": "stream",
     "text": [
      "Probando con: 1 salidas, relu, sigmoid, relu, 98 epochs, 103 batch_size\n",
      "536/536 [==============================] - 1s 2ms/step\n",
      "Metricas obtenidas:\n",
      "mse:0.029269459171596405\n",
      "\n",
      "Probando con: 0 salidas, softmax, relu, softmax, 139 epochs, 164 batch_size\n",
      "536/536 [==============================] - 2s 2ms/step\n",
      "Metricas obtenidas:\n",
      "mse:0.7510576995284897\n",
      "\n",
      "Probando con: 2 salidas, tanh, relu, sigmoid, 51 epochs, 147 batch_size\n",
      "536/536 [==============================] - 1s 2ms/step\n",
      "Metricas obtenidas:\n",
      "mse:0.01308892046779798\n",
      "\n",
      "Probando con: 1 salidas, softmax, relu, tanh, 79 epochs, 106 batch_size\n",
      "536/536 [==============================] - 1s 2ms/step\n",
      "Metricas obtenidas:\n",
      "mse:0.009919072899452609\n",
      "\n",
      "Probando con: 3 salidas, sigmoid, relu, softmax, 87 epochs, 80 batch_size\n",
      "536/536 [==============================] - 1s 2ms/step\n",
      "Metricas obtenidas:\n",
      "mse:0.7510576995284897\n",
      "\n",
      "0.009919072899452609\n",
      "{'func_activacion_1': 'softmax', 'func_activacion_2': 'relu', 'func_activacion_3': 'tanh', 'epochs': 79, 'batch_size': 106, 'cant_salidas': 1}\n"
     ]
    }
   ],
   "source": [
    "from math import inf\n",
    "\n",
    "random.seed(1)\n",
    "\n",
    "activations = ['relu', 'tanh', 'sigmoid', 'softmax']\n",
    "\n",
    "\n",
    "mejores_hyperparametros = {\n",
    "    'func_activacion_1': '',\n",
    "    'func_activacion_2': '',\n",
    "    'func_activacion_3': '',\n",
    "    'epochs': 0,\n",
    "    'batch_size': 0,\n",
    "}\n",
    "\n",
    "mejores_metricas = inf\n",
    "\n",
    "for i in range(0,5):\n",
    "\n",
    "  cant_salidas = random.randint(0,3)\n",
    "  func_activacion_1 = activations[random.randint(0,3)]\n",
    "  func_activacion_2 = activations[random.randint(0,3)]\n",
    "  func_activacion_3 = activations[random.randint(0,3)]\n",
    "  modelo = keras.Sequential([\n",
    "      # input_shape solo en la primer capa\n",
    "      keras.layers.Dense(1, input_shape=(d_in,), activation=activations[random.randint(0,3)]),\n",
    "\n",
    "      keras.layers.Dense(cant_salidas, activation=func_activacion_1),\n",
    "      keras.layers.Dense(cant_salidas, activation=func_activacion_2),\n",
    "\n",
    "      keras.layers.Dense(1, activation=func_activacion_3),\n",
    "     ])\n",
    "\n",
    "  # Compilamos el modelo\n",
    "  modelo.compile(\n",
    "  optimizer=keras.optimizers.SGD(learning_rate=0.001), \n",
    "  loss='mse', \n",
    "  metrics=['mae'], \n",
    "  )\n",
    "  \n",
    "  # Entrenamiento del modelo\n",
    "  epochs = random.randint(50,150)\n",
    "  batch_size = random.randint(50,200)\n",
    "\n",
    "\n",
    "  print(f\"Probando con: {cant_salidas} salidas, {func_activacion_1}, {func_activacion_2}, {func_activacion_3}, {epochs} epochs, {batch_size} batch_size\")\n",
    "  history = modelo.fit(x_train_transform, y_train,epochs=epochs,batch_size=batch_size,verbose=False)\n",
    "\n",
    "  y_pred = modelo.predict(x_test_transform)\n",
    "\n",
    "  # Utilizamos las metricas que pide la consigna\n",
    "  y_pred = y_pred.flatten()\n",
    "  mse = metrics.mean_squared_error(\n",
    "        y_true  = y_test,\n",
    "        y_pred  = y_pred,\n",
    "        squared = True\n",
    "        )\n",
    "      \n",
    "  print(\"Metricas obtenidas:\")\n",
    "  print(f\"mse:{mse}\")\n",
    "  print()\n",
    "\n",
    "  if mse < mejores_metricas:\n",
    "    mejores_metricas = mse\n",
    "\n",
    "    mejores_hyperparametros['cant_salidas'] = cant_salidas\n",
    "    mejores_hyperparametros['func_activacion_1'] = func_activacion_1\n",
    "    mejores_hyperparametros['func_activacion_2'] = func_activacion_2\n",
    "    mejores_hyperparametros['func_activacion_3'] = func_activacion_3\n",
    "    mejores_hyperparametros['epochs'] = epochs\n",
    "    mejores_hyperparametros['batch_size'] = batch_size\n",
    "  \n",
    "\n",
    "print(mejores_metricas)\n",
    "print(mejores_hyperparametros)"
   ]
  },
  {
   "cell_type": "markdown",
   "metadata": {},
   "source": [
    "El mse, por muy poco, es mayor. Ademas, el tiempo de entrenamiento es mucho mayor porque utilizo mas epochs y batch_size, por mas que tenga menor cantidad de salidas. Por lo que no es conveniente usar estos hiperparametros."
   ]
  },
  {
   "cell_type": "markdown",
   "metadata": {},
   "source": [
    "# <center> Ensamble de Modelos <center/> "
   ]
  },
  {
   "cell_type": "markdown",
   "metadata": {},
   "source": [
    "## Ensamble 1: Voting"
   ]
  },
  {
   "cell_type": "code",
   "execution_count": 78,
   "metadata": {},
   "outputs": [],
   "source": [
    "from sklearn import tree\n",
    "from sklearn.ensemble import RandomForestClassifier\n",
    "from sklearn.ensemble import AdaBoostClassifier\n",
    "from sklearn.ensemble import VotingClassifier"
   ]
  },
  {
   "cell_type": "code",
   "execution_count": 79,
   "metadata": {},
   "outputs": [],
   "source": [
    "ds_propiedades_ensamble = ds_propiedades.copy()"
   ]
  },
  {
   "cell_type": "markdown",
   "metadata": {},
   "source": [
    "Modificamos el dataset para poder usarlo en los modelos"
   ]
  },
  {
   "cell_type": "code",
   "execution_count": 80,
   "metadata": {},
   "outputs": [],
   "source": [
    "ds_propiedades_ensamble = pd.get_dummies(ds_propiedades_ensamble, columns=[\"place_l3\", \"property_type\"], dtype=np.int8)\n",
    "ds_propiedades_ensamble.drop(['property_title', 'id', 'property_description'], axis=1, inplace=True)\n",
    "\n",
    "ds_propiedades_ensamble.tipo_precio.replace({'bajo':0,'medio':1,'alto':2}, inplace=True)\n",
    "ds_propiedades_ensamble.expensas_tipo.replace({'sin': -2, 'no aplica':-1,'bajas':0,'medias':1,'altas':2}, inplace=True)\n",
    "\n",
    "ds_propiedades_ensamble.drop(['property_price','pxm2'], axis=1, inplace=True)"
   ]
  },
  {
   "cell_type": "markdown",
   "metadata": {},
   "source": [
    "Dividimos nuestro dataset en train y test"
   ]
  },
  {
   "cell_type": "code",
   "execution_count": 81,
   "metadata": {},
   "outputs": [],
   "source": [
    "#Armo conjunto entrenamiento y test 80-20\n",
    "columnas_predictoras = ds_propiedades_ensamble.columns.to_list()\n",
    "columnas_predictoras.remove('tipo_precio')\n",
    "\n",
    "x_train, x_test, y_train, y_test = train_test_split(ds_propiedades_ensamble.loc[:,columnas_predictoras], ds_propiedades_ensamble.loc[:,'tipo_precio'], random_state = 42, train_size = 0.80)"
   ]
  },
  {
   "cell_type": "markdown",
   "metadata": {},
   "source": [
    "Creamos el ensamble de modelos y lo entrenamos"
   ]
  },
  {
   "cell_type": "code",
   "execution_count": 82,
   "metadata": {},
   "outputs": [
    {
     "data": {
      "text/html": [
       "<style>#sk-container-id-1 {color: black;background-color: white;}#sk-container-id-1 pre{padding: 0;}#sk-container-id-1 div.sk-toggleable {background-color: white;}#sk-container-id-1 label.sk-toggleable__label {cursor: pointer;display: block;width: 100%;margin-bottom: 0;padding: 0.3em;box-sizing: border-box;text-align: center;}#sk-container-id-1 label.sk-toggleable__label-arrow:before {content: \"▸\";float: left;margin-right: 0.25em;color: #696969;}#sk-container-id-1 label.sk-toggleable__label-arrow:hover:before {color: black;}#sk-container-id-1 div.sk-estimator:hover label.sk-toggleable__label-arrow:before {color: black;}#sk-container-id-1 div.sk-toggleable__content {max-height: 0;max-width: 0;overflow: hidden;text-align: left;background-color: #f0f8ff;}#sk-container-id-1 div.sk-toggleable__content pre {margin: 0.2em;color: black;border-radius: 0.25em;background-color: #f0f8ff;}#sk-container-id-1 input.sk-toggleable__control:checked~div.sk-toggleable__content {max-height: 200px;max-width: 100%;overflow: auto;}#sk-container-id-1 input.sk-toggleable__control:checked~label.sk-toggleable__label-arrow:before {content: \"▾\";}#sk-container-id-1 div.sk-estimator input.sk-toggleable__control:checked~label.sk-toggleable__label {background-color: #d4ebff;}#sk-container-id-1 div.sk-label input.sk-toggleable__control:checked~label.sk-toggleable__label {background-color: #d4ebff;}#sk-container-id-1 input.sk-hidden--visually {border: 0;clip: rect(1px 1px 1px 1px);clip: rect(1px, 1px, 1px, 1px);height: 1px;margin: -1px;overflow: hidden;padding: 0;position: absolute;width: 1px;}#sk-container-id-1 div.sk-estimator {font-family: monospace;background-color: #f0f8ff;border: 1px dotted black;border-radius: 0.25em;box-sizing: border-box;margin-bottom: 0.5em;}#sk-container-id-1 div.sk-estimator:hover {background-color: #d4ebff;}#sk-container-id-1 div.sk-parallel-item::after {content: \"\";width: 100%;border-bottom: 1px solid gray;flex-grow: 1;}#sk-container-id-1 div.sk-label:hover label.sk-toggleable__label {background-color: #d4ebff;}#sk-container-id-1 div.sk-serial::before {content: \"\";position: absolute;border-left: 1px solid gray;box-sizing: border-box;top: 0;bottom: 0;left: 50%;z-index: 0;}#sk-container-id-1 div.sk-serial {display: flex;flex-direction: column;align-items: center;background-color: white;padding-right: 0.2em;padding-left: 0.2em;position: relative;}#sk-container-id-1 div.sk-item {position: relative;z-index: 1;}#sk-container-id-1 div.sk-parallel {display: flex;align-items: stretch;justify-content: center;background-color: white;position: relative;}#sk-container-id-1 div.sk-item::before, #sk-container-id-1 div.sk-parallel-item::before {content: \"\";position: absolute;border-left: 1px solid gray;box-sizing: border-box;top: 0;bottom: 0;left: 50%;z-index: -1;}#sk-container-id-1 div.sk-parallel-item {display: flex;flex-direction: column;z-index: 1;position: relative;background-color: white;}#sk-container-id-1 div.sk-parallel-item:first-child::after {align-self: flex-end;width: 50%;}#sk-container-id-1 div.sk-parallel-item:last-child::after {align-self: flex-start;width: 50%;}#sk-container-id-1 div.sk-parallel-item:only-child::after {width: 0;}#sk-container-id-1 div.sk-dashed-wrapped {border: 1px dashed gray;margin: 0 0.4em 0.5em 0.4em;box-sizing: border-box;padding-bottom: 0.4em;background-color: white;}#sk-container-id-1 div.sk-label label {font-family: monospace;font-weight: bold;display: inline-block;line-height: 1.2em;}#sk-container-id-1 div.sk-label-container {text-align: center;}#sk-container-id-1 div.sk-container {/* jupyter's `normalize.less` sets `[hidden] { display: none; }` but bootstrap.min.css set `[hidden] { display: none !important; }` so we also need the `!important` here to be able to override the default hidden behavior on the sphinx rendered scikit-learn.org. See: https://github.com/scikit-learn/scikit-learn/issues/21755 */display: inline-block !important;position: relative;}#sk-container-id-1 div.sk-text-repr-fallback {display: none;}</style><div id=\"sk-container-id-1\" class=\"sk-top-container\"><div class=\"sk-text-repr-fallback\"><pre>VotingClassifier(estimators=[(&#x27;tree&#x27;, DecisionTreeClassifier()),\n",
       "                             (&#x27;rfc&#x27;, RandomForestClassifier()),\n",
       "                             (&#x27;adaboost&#x27;, AdaBoostClassifier())])</pre><b>In a Jupyter environment, please rerun this cell to show the HTML representation or trust the notebook. <br />On GitHub, the HTML representation is unable to render, please try loading this page with nbviewer.org.</b></div><div class=\"sk-container\" hidden><div class=\"sk-item sk-dashed-wrapped\"><div class=\"sk-label-container\"><div class=\"sk-label sk-toggleable\"><input class=\"sk-toggleable__control sk-hidden--visually\" id=\"sk-estimator-id-1\" type=\"checkbox\" ><label for=\"sk-estimator-id-1\" class=\"sk-toggleable__label sk-toggleable__label-arrow\">VotingClassifier</label><div class=\"sk-toggleable__content\"><pre>VotingClassifier(estimators=[(&#x27;tree&#x27;, DecisionTreeClassifier()),\n",
       "                             (&#x27;rfc&#x27;, RandomForestClassifier()),\n",
       "                             (&#x27;adaboost&#x27;, AdaBoostClassifier())])</pre></div></div></div><div class=\"sk-parallel\"><div class=\"sk-parallel-item\"><div class=\"sk-item\"><div class=\"sk-label-container\"><div class=\"sk-label sk-toggleable\"><label>tree</label></div></div><div class=\"sk-serial\"><div class=\"sk-item\"><div class=\"sk-estimator sk-toggleable\"><input class=\"sk-toggleable__control sk-hidden--visually\" id=\"sk-estimator-id-2\" type=\"checkbox\" ><label for=\"sk-estimator-id-2\" class=\"sk-toggleable__label sk-toggleable__label-arrow\">DecisionTreeClassifier</label><div class=\"sk-toggleable__content\"><pre>DecisionTreeClassifier()</pre></div></div></div></div></div></div><div class=\"sk-parallel-item\"><div class=\"sk-item\"><div class=\"sk-label-container\"><div class=\"sk-label sk-toggleable\"><label>rfc</label></div></div><div class=\"sk-serial\"><div class=\"sk-item\"><div class=\"sk-estimator sk-toggleable\"><input class=\"sk-toggleable__control sk-hidden--visually\" id=\"sk-estimator-id-3\" type=\"checkbox\" ><label for=\"sk-estimator-id-3\" class=\"sk-toggleable__label sk-toggleable__label-arrow\">RandomForestClassifier</label><div class=\"sk-toggleable__content\"><pre>RandomForestClassifier()</pre></div></div></div></div></div></div><div class=\"sk-parallel-item\"><div class=\"sk-item\"><div class=\"sk-label-container\"><div class=\"sk-label sk-toggleable\"><label>adaboost</label></div></div><div class=\"sk-serial\"><div class=\"sk-item\"><div class=\"sk-estimator sk-toggleable\"><input class=\"sk-toggleable__control sk-hidden--visually\" id=\"sk-estimator-id-4\" type=\"checkbox\" ><label for=\"sk-estimator-id-4\" class=\"sk-toggleable__label sk-toggleable__label-arrow\">AdaBoostClassifier</label><div class=\"sk-toggleable__content\"><pre>AdaBoostClassifier()</pre></div></div></div></div></div></div></div></div></div></div>"
      ],
      "text/plain": [
       "VotingClassifier(estimators=[('tree', DecisionTreeClassifier()),\n",
       "                             ('rfc', RandomForestClassifier()),\n",
       "                             ('adaboost', AdaBoostClassifier())])"
      ]
     },
     "execution_count": 82,
     "metadata": {},
     "output_type": "execute_result"
    }
   ],
   "source": [
    "#Creo clasificadores\n",
    "log_clf = tree.DecisionTreeClassifier()\n",
    "rfc_clf = RandomForestClassifier()\n",
    "adaboost_clf = AdaBoostClassifier()\n",
    "\n",
    "#Entreno clasificadores\n",
    "voting_clf = VotingClassifier(estimators=[('tree', log_clf), ('rfc', rfc_clf), ('adaboost', adaboost_clf)], voting='hard')\n",
    "\n",
    "#Entreno el ensemble\n",
    "voting_clf.fit(x_train, y_train)"
   ]
  },
  {
   "cell_type": "markdown",
   "metadata": {},
   "source": [
    "Vemos las metricas obtenidas"
   ]
  },
  {
   "cell_type": "code",
   "execution_count": 83,
   "metadata": {},
   "outputs": [
    {
     "name": "stdout",
     "output_type": "stream",
     "text": [
      "   Accuracy: 0.767\n",
      "  Precision: 0.782\n",
      "     Recall: 0.746\n",
      "  f-measure: 0.760\n"
     ]
    }
   ],
   "source": [
    "#Evaluo en conjunto de test\n",
    "pred = voting_clf.predict(x_test)\n",
    "\n",
    "print(\"   Accuracy: %.3f\" % accuracy_score(y_test, pred))\n",
    "print(\"  Precision: %.3f\" % precision_score(y_test, pred, average='macro'))\n",
    "print(\"     Recall: %.3f\" % recall_score(y_test, pred, average='macro'))\n",
    "print(\"  f-measure: %.3f\" % f1_score(y_test, pred, average='macro'))"
   ]
  },
  {
   "cell_type": "markdown",
   "metadata": {},
   "source": [
    "## Ensamble 2: Stacking"
   ]
  },
  {
   "cell_type": "code",
   "execution_count": 84,
   "metadata": {},
   "outputs": [],
   "source": [
    "ds_propiedades_ensamble = ds_propiedades.copy()"
   ]
  },
  {
   "cell_type": "code",
   "execution_count": 86,
   "metadata": {},
   "outputs": [],
   "source": [
    "from sklearn.neighbors import KNeighborsRegressor\n",
    "from xgboost import XGBRegressor\n",
    "from sklearn.ensemble import GradientBoostingRegressor\n",
    "from collections import defaultdict\n",
    "from sklearn.model_selection import RepeatedStratifiedKFold\n",
    "from sklearn.model_selection import cross_val_score\n",
    "\n",
    "import plotly.graph_objects as go\n",
    "\n",
    "from sklearn.ensemble import StackingRegressor\n",
    "from sklearn.linear_model import Lasso"
   ]
  },
  {
   "cell_type": "markdown",
   "metadata": {},
   "source": [
    "Funciones auxiliares"
   ]
  },
  {
   "cell_type": "code",
   "execution_count": 87,
   "metadata": {},
   "outputs": [],
   "source": [
    "#Funcion para plotear a performance\n",
    "def plot_results(model_scores, name):\n",
    "    \n",
    "    model_names = list(model_scores.keys())\n",
    "    results = [model_scores[model] for model in model_names]\n",
    "    fig = go.Figure()\n",
    "    for model, result in zip(model_names, results):\n",
    "        fig.add_trace(go.Box(\n",
    "            y=result,\n",
    "            name=model,\n",
    "            boxpoints='all',\n",
    "            jitter=0.5,\n",
    "            whiskerwidth=0.2,\n",
    "            marker_size=2,\n",
    "            line_width=1)\n",
    "        )\n",
    "    \n",
    "    fig.update_layout(\n",
    "    title='Performance of Different Models Using 5-Fold Cross-Validation',\n",
    "    paper_bgcolor='rgb(243, 243, 243)',\n",
    "    plot_bgcolor='rgb(243, 243, 243)',\n",
    "    xaxis_title='Model',\n",
    "    yaxis_title='R²',\n",
    "    showlegend=False)\n",
    "    fig.show()"
   ]
  },
  {
   "cell_type": "code",
   "execution_count": 88,
   "metadata": {},
   "outputs": [],
   "source": [
    "#Funcion para evaluar los modelos 5fold -CV (repite 2 veces)\n",
    "def evaluate_model(model, x, y):\n",
    "    cv = RepeatedStratifiedKFold(n_splits=5, n_repeats=2, random_state=1)\n",
    "    scores = cross_val_score(model, x, y, cv=cv, verbose=1, n_jobs=3, error_score='raise')\n",
    "    return scores"
   ]
  },
  {
   "cell_type": "markdown",
   "metadata": {},
   "source": [
    "Modificamos el dataset para poder usarlo"
   ]
  },
  {
   "cell_type": "code",
   "execution_count": 89,
   "metadata": {},
   "outputs": [],
   "source": [
    "ds_propiedades_ensamble = pd.get_dummies(ds_propiedades_ensamble, columns=[\"place_l3\", \"property_type\"], dtype=np.int8)\n",
    "ds_propiedades_ensamble.drop(['property_title', 'id', 'property_description'], axis=1, inplace=True)\n",
    "\n",
    "ds_propiedades_ensamble.tipo_precio.replace({'bajo':0,'medio':1,'alto':2}, inplace=True)\n",
    "ds_propiedades_ensamble.expensas_tipo.replace({'sin': -2, 'no aplica':-1,'bajas':0,'medias':1,'altas':2}, inplace=True)\n",
    "\n",
    "ds_propiedades_ensamble.drop(['tipo_precio','pxm2'], axis=1, inplace=True)"
   ]
  },
  {
   "cell_type": "markdown",
   "metadata": {},
   "source": [
    "Separamos en Train y Test"
   ]
  },
  {
   "cell_type": "code",
   "execution_count": 90,
   "metadata": {},
   "outputs": [],
   "source": [
    "#Armo conjunto entrenamiento y test 80-20\n",
    "columnas_predictoras = ds_propiedades_ensamble.columns.to_list()\n",
    "columnas_predictoras.remove('property_price')\n",
    "\n",
    "ds_propiedades_ensamble.astype('float32', copy=False)\n",
    "\n",
    "x_train, x_test, y_train, y_test = train_test_split(ds_propiedades_ensamble.loc[:,columnas_predictoras], ds_propiedades_ensamble.loc[:,'property_price'], random_state = 42, train_size = 0.80)"
   ]
  },
  {
   "cell_type": "markdown",
   "metadata": {},
   "source": [
    "Ensamble de modelos"
   ]
  },
  {
   "cell_type": "code",
   "execution_count": 91,
   "metadata": {},
   "outputs": [
    {
     "name": "stdout",
     "output_type": "stream",
     "text": [
      "Evaluating xgr\n"
     ]
    },
    {
     "name": "stderr",
     "output_type": "stream",
     "text": [
      "[Parallel(n_jobs=3)]: Using backend LokyBackend with 3 concurrent workers.\n",
      "[Parallel(n_jobs=3)]: Done  10 out of  10 | elapsed:  3.0min finished\n",
      "[Parallel(n_jobs=3)]: Using backend LokyBackend with 3 concurrent workers.\n"
     ]
    },
    {
     "name": "stdout",
     "output_type": "stream",
     "text": [
      "Evaluating knr\n"
     ]
    },
    {
     "name": "stderr",
     "output_type": "stream",
     "text": [
      "[Parallel(n_jobs=3)]: Done  10 out of  10 | elapsed:  1.1min finished\n",
      "[Parallel(n_jobs=3)]: Using backend LokyBackend with 3 concurrent workers.\n"
     ]
    },
    {
     "name": "stdout",
     "output_type": "stream",
     "text": [
      "Evaluating gbr\n"
     ]
    },
    {
     "name": "stderr",
     "output_type": "stream",
     "text": [
      "[Parallel(n_jobs=3)]: Done  10 out of  10 | elapsed:  2.5min finished\n",
      "[Parallel(n_jobs=3)]: Using backend LokyBackend with 3 concurrent workers.\n"
     ]
    }
   ],
   "source": [
    "#Modelos Base\n",
    "base_models = [\n",
    "                ('xgr',XGBRegressor()),\n",
    "                ('knr', KNeighborsRegressor()),\n",
    "                ('gbr', GradientBoostingRegressor())\n",
    "            ]\n",
    "\n",
    "#Meta Modelo\n",
    "meta_model = Lasso()\n",
    "\n",
    "#Guarda los scores de cada modelo\n",
    "model_scores = defaultdict()\n",
    "\n",
    "#Entreno el ensamble\n",
    "\n",
    "for tupla in base_models:\n",
    "    name = tupla[0]\n",
    "    model = tupla[1]\n",
    "\n",
    "    print('Evaluating {}'.format(name))\n",
    "    scores = evaluate_model(model, x_train, y_train)\n",
    "    model_scores[name] = scores\n",
    "\n",
    "\n",
    "reg = StackingRegressor(\n",
    "     estimators=base_models,\n",
    "     final_estimator=Lasso(random_state=42), passthrough=True, cv=5, verbose=2)\n",
    "\n",
    "     \n",
    "stacking_scores = evaluate_model(reg, x_train, y_train)\n",
    "\n",
    "#Agregamos stacking para poder graficar luego\n",
    "model_scores['stacking'] = stacking_scores "
   ]
  },
  {
   "cell_type": "code",
   "execution_count": null,
   "metadata": {},
   "outputs": [
    {
     "name": "stderr",
     "output_type": "stream",
     "text": [
      "[Parallel(n_jobs=1)]: Using backend SequentialBackend with 1 concurrent workers.\n",
      "[Parallel(n_jobs=1)]: Done   1 out of   1 | elapsed:    1.8s remaining:    0.0s\n",
      "[Parallel(n_jobs=1)]: Done   5 out of   5 | elapsed:    9.4s finished\n",
      "[Parallel(n_jobs=1)]: Using backend SequentialBackend with 1 concurrent workers.\n",
      "[Parallel(n_jobs=1)]: Done   1 out of   1 | elapsed:    0.7s remaining:    0.0s\n",
      "[Parallel(n_jobs=1)]: Done   5 out of   5 | elapsed:    3.9s finished\n",
      "[Parallel(n_jobs=1)]: Using backend SequentialBackend with 1 concurrent workers.\n",
      "[Parallel(n_jobs=1)]: Done   1 out of   1 | elapsed:    8.8s remaining:    0.0s\n",
      "[Parallel(n_jobs=1)]: Done   5 out of   5 | elapsed:   44.0s finished\n"
     ]
    }
   ],
   "source": [
    "reg.fit(x_train,y_train)\n",
    "y_pred_st = reg.predict(x_test)"
   ]
  },
  {
   "cell_type": "markdown",
   "metadata": {},
   "source": [
    "Vemos las metricas del ensamble"
   ]
  },
  {
   "cell_type": "code",
   "execution_count": null,
   "metadata": {},
   "outputs": [
    {
     "name": "stdout",
     "output_type": "stream",
     "text": [
      "El error (mse) de test es: 1439376553.7900252\n",
      "El error (rmse) de test es: 37939.11640760793\n"
     ]
    }
   ],
   "source": [
    "mse = metrics.mean_squared_error(\n",
    "        y_true  = y_test,\n",
    "        y_pred  = y_pred_st,\n",
    "        squared = True\n",
    "        )\n",
    "\n",
    "print(f\"El error (mse) de test es: {mse}\")\n",
    "\n",
    "\n",
    "rmse = metrics.mean_squared_error(\n",
    "        y_true  = y_test,\n",
    "        y_pred  = y_pred_st,\n",
    "        squared = False\n",
    "         )\n",
    "\n",
    "print(f\"El error (rmse) de test es: {rmse}\")"
   ]
  },
  {
   "cell_type": "code",
   "execution_count": null,
   "metadata": {},
   "outputs": [
    {
     "name": "stdout",
     "output_type": "stream",
     "text": [
      "El r2 score de test es: 0.8942259052044618\n"
     ]
    }
   ],
   "source": [
    "r2 = metrics.r2_score(\n",
    "        y_true  = y_test,\n",
    "        y_pred  = y_pred_st\n",
    "        )\n",
    "\n",
    "print(f\"El r2 score de test es: {r2}\")"
   ]
  },
  {
   "cell_type": "code",
   "execution_count": null,
   "metadata": {},
   "outputs": [
    {
     "data": {
      "application/vnd.plotly.v1+json": {
       "config": {
        "plotlyServerURL": "https://plot.ly"
       },
       "data": [
        {
         "boxpoints": "all",
         "jitter": 0.5,
         "line": {
          "width": 1
         },
         "marker": {
          "size": 2
         },
         "name": "xgr",
         "type": "box",
         "whiskerwidth": 0.2,
         "y": [
          0.8770803260081385,
          0.8881273504292838,
          0.8888894812312365,
          0.8821433105167935,
          0.8850315438137537,
          0.8847935769059615,
          0.8878112780698404,
          0.8880467198914055,
          0.8798738653855376,
          0.8830523737663842
         ]
        },
        {
         "boxpoints": "all",
         "jitter": 0.5,
         "line": {
          "width": 1
         },
         "marker": {
          "size": 2
         },
         "name": "knr",
         "type": "box",
         "whiskerwidth": 0.2,
         "y": [
          0.7747424859059124,
          0.7559367116643358,
          0.7706201701261987,
          0.7669881833641788,
          0.7695405721128203,
          0.7772033960310158,
          0.7673106239122407,
          0.7657270364574357,
          0.7689298677238353,
          0.7644573914485956
         ]
        },
        {
         "boxpoints": "all",
         "jitter": 0.5,
         "line": {
          "width": 1
         },
         "marker": {
          "size": 2
         },
         "name": "gbr",
         "type": "box",
         "whiskerwidth": 0.2,
         "y": [
          0.8385488716878357,
          0.847823232958198,
          0.8540018103563973,
          0.8475424573982853,
          0.8463588913484017,
          0.8480489526165175,
          0.8516631920091589,
          0.848181852327494,
          0.844069350923683,
          0.8426324275917092
         ]
        },
        {
         "boxpoints": "all",
         "jitter": 0.5,
         "line": {
          "width": 1
         },
         "marker": {
          "size": 2
         },
         "name": "stacking",
         "type": "box",
         "whiskerwidth": 0.2,
         "y": [
          0.8796971096804697,
          0.8897385955432399,
          0.890779694927508,
          0.8842554211355544,
          0.8867472637363911,
          0.8869102087829129,
          0.8892362417424969,
          0.8902349682921076,
          0.8823032175909452,
          0.885396703397845
         ]
        }
       ],
       "layout": {
        "paper_bgcolor": "rgb(243, 243, 243)",
        "plot_bgcolor": "rgb(243, 243, 243)",
        "showlegend": false,
        "template": {
         "data": {
          "bar": [
           {
            "error_x": {
             "color": "#2a3f5f"
            },
            "error_y": {
             "color": "#2a3f5f"
            },
            "marker": {
             "line": {
              "color": "#E5ECF6",
              "width": 0.5
             },
             "pattern": {
              "fillmode": "overlay",
              "size": 10,
              "solidity": 0.2
             }
            },
            "type": "bar"
           }
          ],
          "barpolar": [
           {
            "marker": {
             "line": {
              "color": "#E5ECF6",
              "width": 0.5
             },
             "pattern": {
              "fillmode": "overlay",
              "size": 10,
              "solidity": 0.2
             }
            },
            "type": "barpolar"
           }
          ],
          "carpet": [
           {
            "aaxis": {
             "endlinecolor": "#2a3f5f",
             "gridcolor": "white",
             "linecolor": "white",
             "minorgridcolor": "white",
             "startlinecolor": "#2a3f5f"
            },
            "baxis": {
             "endlinecolor": "#2a3f5f",
             "gridcolor": "white",
             "linecolor": "white",
             "minorgridcolor": "white",
             "startlinecolor": "#2a3f5f"
            },
            "type": "carpet"
           }
          ],
          "choropleth": [
           {
            "colorbar": {
             "outlinewidth": 0,
             "ticks": ""
            },
            "type": "choropleth"
           }
          ],
          "contour": [
           {
            "colorbar": {
             "outlinewidth": 0,
             "ticks": ""
            },
            "colorscale": [
             [
              0,
              "#0d0887"
             ],
             [
              0.1111111111111111,
              "#46039f"
             ],
             [
              0.2222222222222222,
              "#7201a8"
             ],
             [
              0.3333333333333333,
              "#9c179e"
             ],
             [
              0.4444444444444444,
              "#bd3786"
             ],
             [
              0.5555555555555556,
              "#d8576b"
             ],
             [
              0.6666666666666666,
              "#ed7953"
             ],
             [
              0.7777777777777778,
              "#fb9f3a"
             ],
             [
              0.8888888888888888,
              "#fdca26"
             ],
             [
              1,
              "#f0f921"
             ]
            ],
            "type": "contour"
           }
          ],
          "contourcarpet": [
           {
            "colorbar": {
             "outlinewidth": 0,
             "ticks": ""
            },
            "type": "contourcarpet"
           }
          ],
          "heatmap": [
           {
            "colorbar": {
             "outlinewidth": 0,
             "ticks": ""
            },
            "colorscale": [
             [
              0,
              "#0d0887"
             ],
             [
              0.1111111111111111,
              "#46039f"
             ],
             [
              0.2222222222222222,
              "#7201a8"
             ],
             [
              0.3333333333333333,
              "#9c179e"
             ],
             [
              0.4444444444444444,
              "#bd3786"
             ],
             [
              0.5555555555555556,
              "#d8576b"
             ],
             [
              0.6666666666666666,
              "#ed7953"
             ],
             [
              0.7777777777777778,
              "#fb9f3a"
             ],
             [
              0.8888888888888888,
              "#fdca26"
             ],
             [
              1,
              "#f0f921"
             ]
            ],
            "type": "heatmap"
           }
          ],
          "heatmapgl": [
           {
            "colorbar": {
             "outlinewidth": 0,
             "ticks": ""
            },
            "colorscale": [
             [
              0,
              "#0d0887"
             ],
             [
              0.1111111111111111,
              "#46039f"
             ],
             [
              0.2222222222222222,
              "#7201a8"
             ],
             [
              0.3333333333333333,
              "#9c179e"
             ],
             [
              0.4444444444444444,
              "#bd3786"
             ],
             [
              0.5555555555555556,
              "#d8576b"
             ],
             [
              0.6666666666666666,
              "#ed7953"
             ],
             [
              0.7777777777777778,
              "#fb9f3a"
             ],
             [
              0.8888888888888888,
              "#fdca26"
             ],
             [
              1,
              "#f0f921"
             ]
            ],
            "type": "heatmapgl"
           }
          ],
          "histogram": [
           {
            "marker": {
             "pattern": {
              "fillmode": "overlay",
              "size": 10,
              "solidity": 0.2
             }
            },
            "type": "histogram"
           }
          ],
          "histogram2d": [
           {
            "colorbar": {
             "outlinewidth": 0,
             "ticks": ""
            },
            "colorscale": [
             [
              0,
              "#0d0887"
             ],
             [
              0.1111111111111111,
              "#46039f"
             ],
             [
              0.2222222222222222,
              "#7201a8"
             ],
             [
              0.3333333333333333,
              "#9c179e"
             ],
             [
              0.4444444444444444,
              "#bd3786"
             ],
             [
              0.5555555555555556,
              "#d8576b"
             ],
             [
              0.6666666666666666,
              "#ed7953"
             ],
             [
              0.7777777777777778,
              "#fb9f3a"
             ],
             [
              0.8888888888888888,
              "#fdca26"
             ],
             [
              1,
              "#f0f921"
             ]
            ],
            "type": "histogram2d"
           }
          ],
          "histogram2dcontour": [
           {
            "colorbar": {
             "outlinewidth": 0,
             "ticks": ""
            },
            "colorscale": [
             [
              0,
              "#0d0887"
             ],
             [
              0.1111111111111111,
              "#46039f"
             ],
             [
              0.2222222222222222,
              "#7201a8"
             ],
             [
              0.3333333333333333,
              "#9c179e"
             ],
             [
              0.4444444444444444,
              "#bd3786"
             ],
             [
              0.5555555555555556,
              "#d8576b"
             ],
             [
              0.6666666666666666,
              "#ed7953"
             ],
             [
              0.7777777777777778,
              "#fb9f3a"
             ],
             [
              0.8888888888888888,
              "#fdca26"
             ],
             [
              1,
              "#f0f921"
             ]
            ],
            "type": "histogram2dcontour"
           }
          ],
          "mesh3d": [
           {
            "colorbar": {
             "outlinewidth": 0,
             "ticks": ""
            },
            "type": "mesh3d"
           }
          ],
          "parcoords": [
           {
            "line": {
             "colorbar": {
              "outlinewidth": 0,
              "ticks": ""
             }
            },
            "type": "parcoords"
           }
          ],
          "pie": [
           {
            "automargin": true,
            "type": "pie"
           }
          ],
          "scatter": [
           {
            "fillpattern": {
             "fillmode": "overlay",
             "size": 10,
             "solidity": 0.2
            },
            "type": "scatter"
           }
          ],
          "scatter3d": [
           {
            "line": {
             "colorbar": {
              "outlinewidth": 0,
              "ticks": ""
             }
            },
            "marker": {
             "colorbar": {
              "outlinewidth": 0,
              "ticks": ""
             }
            },
            "type": "scatter3d"
           }
          ],
          "scattercarpet": [
           {
            "marker": {
             "colorbar": {
              "outlinewidth": 0,
              "ticks": ""
             }
            },
            "type": "scattercarpet"
           }
          ],
          "scattergeo": [
           {
            "marker": {
             "colorbar": {
              "outlinewidth": 0,
              "ticks": ""
             }
            },
            "type": "scattergeo"
           }
          ],
          "scattergl": [
           {
            "marker": {
             "colorbar": {
              "outlinewidth": 0,
              "ticks": ""
             }
            },
            "type": "scattergl"
           }
          ],
          "scattermapbox": [
           {
            "marker": {
             "colorbar": {
              "outlinewidth": 0,
              "ticks": ""
             }
            },
            "type": "scattermapbox"
           }
          ],
          "scatterpolar": [
           {
            "marker": {
             "colorbar": {
              "outlinewidth": 0,
              "ticks": ""
             }
            },
            "type": "scatterpolar"
           }
          ],
          "scatterpolargl": [
           {
            "marker": {
             "colorbar": {
              "outlinewidth": 0,
              "ticks": ""
             }
            },
            "type": "scatterpolargl"
           }
          ],
          "scatterternary": [
           {
            "marker": {
             "colorbar": {
              "outlinewidth": 0,
              "ticks": ""
             }
            },
            "type": "scatterternary"
           }
          ],
          "surface": [
           {
            "colorbar": {
             "outlinewidth": 0,
             "ticks": ""
            },
            "colorscale": [
             [
              0,
              "#0d0887"
             ],
             [
              0.1111111111111111,
              "#46039f"
             ],
             [
              0.2222222222222222,
              "#7201a8"
             ],
             [
              0.3333333333333333,
              "#9c179e"
             ],
             [
              0.4444444444444444,
              "#bd3786"
             ],
             [
              0.5555555555555556,
              "#d8576b"
             ],
             [
              0.6666666666666666,
              "#ed7953"
             ],
             [
              0.7777777777777778,
              "#fb9f3a"
             ],
             [
              0.8888888888888888,
              "#fdca26"
             ],
             [
              1,
              "#f0f921"
             ]
            ],
            "type": "surface"
           }
          ],
          "table": [
           {
            "cells": {
             "fill": {
              "color": "#EBF0F8"
             },
             "line": {
              "color": "white"
             }
            },
            "header": {
             "fill": {
              "color": "#C8D4E3"
             },
             "line": {
              "color": "white"
             }
            },
            "type": "table"
           }
          ]
         },
         "layout": {
          "annotationdefaults": {
           "arrowcolor": "#2a3f5f",
           "arrowhead": 0,
           "arrowwidth": 1
          },
          "autotypenumbers": "strict",
          "coloraxis": {
           "colorbar": {
            "outlinewidth": 0,
            "ticks": ""
           }
          },
          "colorscale": {
           "diverging": [
            [
             0,
             "#8e0152"
            ],
            [
             0.1,
             "#c51b7d"
            ],
            [
             0.2,
             "#de77ae"
            ],
            [
             0.3,
             "#f1b6da"
            ],
            [
             0.4,
             "#fde0ef"
            ],
            [
             0.5,
             "#f7f7f7"
            ],
            [
             0.6,
             "#e6f5d0"
            ],
            [
             0.7,
             "#b8e186"
            ],
            [
             0.8,
             "#7fbc41"
            ],
            [
             0.9,
             "#4d9221"
            ],
            [
             1,
             "#276419"
            ]
           ],
           "sequential": [
            [
             0,
             "#0d0887"
            ],
            [
             0.1111111111111111,
             "#46039f"
            ],
            [
             0.2222222222222222,
             "#7201a8"
            ],
            [
             0.3333333333333333,
             "#9c179e"
            ],
            [
             0.4444444444444444,
             "#bd3786"
            ],
            [
             0.5555555555555556,
             "#d8576b"
            ],
            [
             0.6666666666666666,
             "#ed7953"
            ],
            [
             0.7777777777777778,
             "#fb9f3a"
            ],
            [
             0.8888888888888888,
             "#fdca26"
            ],
            [
             1,
             "#f0f921"
            ]
           ],
           "sequentialminus": [
            [
             0,
             "#0d0887"
            ],
            [
             0.1111111111111111,
             "#46039f"
            ],
            [
             0.2222222222222222,
             "#7201a8"
            ],
            [
             0.3333333333333333,
             "#9c179e"
            ],
            [
             0.4444444444444444,
             "#bd3786"
            ],
            [
             0.5555555555555556,
             "#d8576b"
            ],
            [
             0.6666666666666666,
             "#ed7953"
            ],
            [
             0.7777777777777778,
             "#fb9f3a"
            ],
            [
             0.8888888888888888,
             "#fdca26"
            ],
            [
             1,
             "#f0f921"
            ]
           ]
          },
          "colorway": [
           "#636efa",
           "#EF553B",
           "#00cc96",
           "#ab63fa",
           "#FFA15A",
           "#19d3f3",
           "#FF6692",
           "#B6E880",
           "#FF97FF",
           "#FECB52"
          ],
          "font": {
           "color": "#2a3f5f"
          },
          "geo": {
           "bgcolor": "white",
           "lakecolor": "white",
           "landcolor": "#E5ECF6",
           "showlakes": true,
           "showland": true,
           "subunitcolor": "white"
          },
          "hoverlabel": {
           "align": "left"
          },
          "hovermode": "closest",
          "mapbox": {
           "style": "light"
          },
          "paper_bgcolor": "white",
          "plot_bgcolor": "#E5ECF6",
          "polar": {
           "angularaxis": {
            "gridcolor": "white",
            "linecolor": "white",
            "ticks": ""
           },
           "bgcolor": "#E5ECF6",
           "radialaxis": {
            "gridcolor": "white",
            "linecolor": "white",
            "ticks": ""
           }
          },
          "scene": {
           "xaxis": {
            "backgroundcolor": "#E5ECF6",
            "gridcolor": "white",
            "gridwidth": 2,
            "linecolor": "white",
            "showbackground": true,
            "ticks": "",
            "zerolinecolor": "white"
           },
           "yaxis": {
            "backgroundcolor": "#E5ECF6",
            "gridcolor": "white",
            "gridwidth": 2,
            "linecolor": "white",
            "showbackground": true,
            "ticks": "",
            "zerolinecolor": "white"
           },
           "zaxis": {
            "backgroundcolor": "#E5ECF6",
            "gridcolor": "white",
            "gridwidth": 2,
            "linecolor": "white",
            "showbackground": true,
            "ticks": "",
            "zerolinecolor": "white"
           }
          },
          "shapedefaults": {
           "line": {
            "color": "#2a3f5f"
           }
          },
          "ternary": {
           "aaxis": {
            "gridcolor": "white",
            "linecolor": "white",
            "ticks": ""
           },
           "baxis": {
            "gridcolor": "white",
            "linecolor": "white",
            "ticks": ""
           },
           "bgcolor": "#E5ECF6",
           "caxis": {
            "gridcolor": "white",
            "linecolor": "white",
            "ticks": ""
           }
          },
          "title": {
           "x": 0.05
          },
          "xaxis": {
           "automargin": true,
           "gridcolor": "white",
           "linecolor": "white",
           "ticks": "",
           "title": {
            "standoff": 15
           },
           "zerolinecolor": "white",
           "zerolinewidth": 2
          },
          "yaxis": {
           "automargin": true,
           "gridcolor": "white",
           "linecolor": "white",
           "ticks": "",
           "title": {
            "standoff": 15
           },
           "zerolinecolor": "white",
           "zerolinewidth": 2
          }
         }
        },
        "title": {
         "text": "Performance of Different Models Using 5-Fold Cross-Validation"
        },
        "xaxis": {
         "title": {
          "text": "Model"
         }
        },
        "yaxis": {
         "title": {
          "text": "R²"
         }
        }
       }
      }
     },
     "metadata": {},
     "output_type": "display_data"
    }
   ],
   "source": [
    "#Grafico performance\n",
    "plot_results(model_scores, name='stacking_model_cv')"
   ]
  },
  {
   "cell_type": "markdown",
   "metadata": {},
   "source": [
    "# <center> Conclusión <center/> "
   ]
  },
  {
   "cell_type": "markdown",
   "metadata": {},
   "source": [
    "## Metricas obtenidas:"
   ]
  },
  {
   "cell_type": "markdown",
   "metadata": {},
   "source": [
    "### PARTE 1"
   ]
  },
  {
   "cell_type": "markdown",
   "metadata": {},
   "source": [
    "XGBOOST <br>\n",
    "El error (mse) de test es 22,77%  mejor que el del TP1<br>\n",
    "El error (rmse) de test 22,62% mejor <br>\n",
    "El R2 en train es 3,52% mejor <br>\n",
    "El R2 en test es 3,82% mejor <br>\n",
    "\n",
    "XGBOOST KFOLDS <br>\n",
    "El error (mse) de test es 20,56% mejorque en el TP1 <br>\n",
    "El error (rmse) de test es 10,87% mejor <br>\n",
    "\n",
    "El coeficiente de Determinación R2 en train es 2,24% mejor que en el TP1 <br>\n",
    "El coeficiente de Determinación R2 en test es 3,48% mejor <br>\n",
    "\n",
    "Esto quiere decir que en el modelo, con o sin hiperparámetros optimizados, tiene mejor performancce que el del TP1. Es decir, que la información ganada con estos aspectos encontrada es muy importante y nos ayuda mucho a predecir"
   ]
  },
  {
   "cell_type": "markdown",
   "metadata": {},
   "source": [
    "### PARTE 2"
   ]
  },
  {
   "cell_type": "markdown",
   "metadata": {},
   "source": [
    "REDES CLASIFICACION: <br>\n",
    "precision: 0.7003370339548957 <br>\n",
    "recall: 0.6440804393644987 <br>\n",
    "f1: 0.6635322792356119 <br>\n",
    "\n",
    "REDES REGRESION:  <br>\n",
    "El error (mse) de test es: 0.008010115998840559 <br>"
   ]
  },
  {
   "cell_type": "markdown",
   "metadata": {},
   "source": [
    "### PARTE 3"
   ]
  },
  {
   "cell_type": "markdown",
   "metadata": {},
   "source": [
    "VOTING <br>\n",
    "Accuracy: 0.765 <br>\n",
    "  Precision: 0.779 <br>\n",
    "     Recall: 0.745 <br>\n",
    "  f-measure: 0.759 <br>\n",
    "\n",
    "STACKING <br>\n",
    "El error (mse) de test es: 1439374010.7475553 <br>\n",
    "El error (rmse) de test es: 37939.08289281062 <br>\n",
    "\n",
    "El r2 score de test es: 0.8942260920826033 <br>"
   ]
  },
  {
   "cell_type": "markdown",
   "metadata": {},
   "source": [
    "## Parte 1: Procesamiento de Lenguaje Natural"
   ]
  },
  {
   "cell_type": "markdown",
   "metadata": {},
   "source": [
    "De la parte 1 podemos ver como muchas características se mencionan en una gran cantidad de descripciones de propiedades. Al notar esto buscamos abstraer esta información y luego, junto a nuestro dominio del problema, evaluamos cuáles aspectos eran los más influyentes y representativos del precio de la propiedad (Por ejemplo tener piscina es un gran valor agregado en casas contra las que no las tienen), tambien tuvimos en cuenta que alguna de las características aparecían con una frecuencia inferior a lo esperado por lo asumimos que no se mencionaban en todos los casos, o fue imposible conseguir abstraerlas correctamente , como es el caso del jardín. Una vez definidos nuestras columnas valiosas, las agregamos al dataset. Después al entrenar XGBoost con este nuevo dataset, vemos que las métricas mejoran considerablemente, ya que, como habíamos predicho, estas características son muy importantes a la hora de decidir el precio de una propiedad."
   ]
  },
  {
   "cell_type": "markdown",
   "metadata": {},
   "source": [
    "## Parte 2: Redes Neuronales"
   ]
  },
  {
   "cell_type": "markdown",
   "metadata": {},
   "source": [
    "Vemos que las métricas no son exageradamente buenas ni en clasificación ni en regresión. Esto se puede deber a que las Redes Neuronales son modelos muy primitivos que necesitan un caudal muy grande de datos para poder predecir bien.\n",
    "Notamos que no pudimos mejorar sustancialmente las metricas modificando los parametros de la red, pero pudimos obtener resultados muy similares con redes de menor tamaño y realizando menos iteraciones, lo que nos permite que el modelo sea mas eficiente."
   ]
  },
  {
   "cell_type": "markdown",
   "metadata": {},
   "source": [
    "## Parte 3: Ensambles de Modelos"
   ]
  },
  {
   "cell_type": "markdown",
   "metadata": {},
   "source": [
    "En resumen, el modelo de ensamble ha mostrado resultados superiores a los modelos de regresión lineal, árboles de decisión, random forest, KNN, XGBoost y gradient boosting. En comparación con el modelo de stacking, el modelo de ensamble ha demostrado un rendimiento ligeramente superior.\n",
    "\n",
    "Esto sugiere que el uso del modelo de ensamble puede ser una buena estrategia para mejorar el rendimiento de un modelo de machine learning en comparación con los modelos individuales que lo componen. Sin embargo, es importante recordar que el rendimiento de un modelo de ensamble depende de la calidad de los modelos individuales que lo componen y de la manera en que se combinan sus predicciones. Por lo tanto, es crucial elegir y ajustar adecuadamente los modelos individuales y la forma en que se combinan sus predicciones para obtener el mejor rendimiento posible del modelo de ensamble. También es importante recordar que estos ensambles son tan buenos predictores porque combinan a otros modelos, es decir que este usa a todos estos modelos, siendo así muy costoso tanto en tiempo como en espacio.\n"
   ]
  }
 ],
 "metadata": {
  "kernelspec": {
   "display_name": "Python 3.9.4 64-bit",
   "language": "python",
   "name": "python3"
  },
  "language_info": {
   "codemirror_mode": {
    "name": "ipython",
    "version": 3
   },
   "file_extension": ".py",
   "mimetype": "text/x-python",
   "name": "python",
   "nbconvert_exporter": "python",
   "pygments_lexer": "ipython3",
   "version": "3.9.4"
  },
  "orig_nbformat": 4,
  "vscode": {
   "interpreter": {
    "hash": "7f4a15ff2f44984e13dece915706825d939d43b72acdbdb51dc478f779138d1d"
   }
  }
 },
 "nbformat": 4,
 "nbformat_minor": 2
}
