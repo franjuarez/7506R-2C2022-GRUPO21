{
 "cells": [
  {
   "cell_type": "markdown",
   "metadata": {},
   "source": [
    "# <center>Organizaci&oacute;n de Datos</center>\n",
    "## <center>Trabajo Práctico 2 </center>\n",
    "\n",
    "## <center>Grupo 21</center>\n",
    "\n",
    "#### Integrantes: Francisco Juárez, Lucas Aldazabal, Valentin Schneider, Gonzalo Rizzo Ehrenbock"
   ]
  },
  {
   "cell_type": "markdown",
   "metadata": {},
   "source": [
    "# <center> Procesamiento del Lenguaje Natural <center/> "
   ]
  },
  {
   "cell_type": "code",
   "execution_count": 177,
   "metadata": {},
   "outputs": [],
   "source": [
    "import pandas as pd\n",
    "import numpy as np\n",
    "import matplotlib.pyplot as plt\n",
    "import seaborn as sns\n",
    "import warnings\n",
    "warnings.simplefilter(action='ignore', category=FutureWarning)\n",
    "\n",
    "sns.set_theme(style=\"whitegrid\")"
   ]
  },
  {
   "cell_type": "code",
   "execution_count": 178,
   "metadata": {},
   "outputs": [
    {
     "data": {
      "text/html": [
       "<div>\n",
       "<style scoped>\n",
       "    .dataframe tbody tr th:only-of-type {\n",
       "        vertical-align: middle;\n",
       "    }\n",
       "\n",
       "    .dataframe tbody tr th {\n",
       "        vertical-align: top;\n",
       "    }\n",
       "\n",
       "    .dataframe thead th {\n",
       "        text-align: right;\n",
       "    }\n",
       "</style>\n",
       "<table border=\"1\" class=\"dataframe\">\n",
       "  <thead>\n",
       "    <tr style=\"text-align: right;\">\n",
       "      <th></th>\n",
       "      <th>id</th>\n",
       "      <th>latitud</th>\n",
       "      <th>longitud</th>\n",
       "      <th>place_l3</th>\n",
       "      <th>property_type</th>\n",
       "      <th>property_rooms</th>\n",
       "      <th>property_bedrooms</th>\n",
       "      <th>property_surface_total</th>\n",
       "      <th>property_surface_covered</th>\n",
       "      <th>property_price</th>\n",
       "      <th>property_title</th>\n",
       "      <th>pxm2</th>\n",
       "      <th>tipo_precio</th>\n",
       "    </tr>\n",
       "  </thead>\n",
       "  <tbody>\n",
       "    <tr>\n",
       "      <th>0</th>\n",
       "      <td>F5IvmD1uzzdIR7b96ozt4g==</td>\n",
       "      <td>-34.558855</td>\n",
       "      <td>-58.452458</td>\n",
       "      <td>Nuñez</td>\n",
       "      <td>Departamento</td>\n",
       "      <td>4.0</td>\n",
       "      <td>3.0</td>\n",
       "      <td>160.0</td>\n",
       "      <td>146.0</td>\n",
       "      <td>460000.0</td>\n",
       "      <td>Venta: Hermoso piso de categoría en excelente ...</td>\n",
       "      <td>2875.000000</td>\n",
       "      <td>alto</td>\n",
       "    </tr>\n",
       "    <tr>\n",
       "      <th>1</th>\n",
       "      <td>IiT/P7WfYDcqbhu7tf5V4Q==</td>\n",
       "      <td>-34.582403</td>\n",
       "      <td>-58.443841</td>\n",
       "      <td>Colegiales</td>\n",
       "      <td>Departamento</td>\n",
       "      <td>2.0</td>\n",
       "      <td>1.0</td>\n",
       "      <td>50.0</td>\n",
       "      <td>46.0</td>\n",
       "      <td>148000.0</td>\n",
       "      <td>Departamento - Colegiales</td>\n",
       "      <td>2960.000000</td>\n",
       "      <td>alto</td>\n",
       "    </tr>\n",
       "    <tr>\n",
       "      <th>2</th>\n",
       "      <td>6XXcElx/4OwCcH4NI06Oiw==</td>\n",
       "      <td>-34.605825</td>\n",
       "      <td>-58.422214</td>\n",
       "      <td>Almagro</td>\n",
       "      <td>Departamento</td>\n",
       "      <td>3.0</td>\n",
       "      <td>2.0</td>\n",
       "      <td>47.0</td>\n",
       "      <td>47.0</td>\n",
       "      <td>89000.0</td>\n",
       "      <td>Departamento en venta tres ambientes- Almagro</td>\n",
       "      <td>1893.617021</td>\n",
       "      <td>medio</td>\n",
       "    </tr>\n",
       "    <tr>\n",
       "      <th>3</th>\n",
       "      <td>8R7hSzqWFk9rX4wBXxfORA==</td>\n",
       "      <td>-34.561971</td>\n",
       "      <td>-58.455670</td>\n",
       "      <td>Belgrano</td>\n",
       "      <td>Departamento</td>\n",
       "      <td>2.0</td>\n",
       "      <td>1.0</td>\n",
       "      <td>52.0</td>\n",
       "      <td>48.0</td>\n",
       "      <td>127000.0</td>\n",
       "      <td>Departamento - Belgrano</td>\n",
       "      <td>2442.307692</td>\n",
       "      <td>medio</td>\n",
       "    </tr>\n",
       "    <tr>\n",
       "      <th>4</th>\n",
       "      <td>UAKYqQx9s0MfIdLzrJv8Ig==</td>\n",
       "      <td>-34.606738</td>\n",
       "      <td>-58.389426</td>\n",
       "      <td>Tribunales</td>\n",
       "      <td>Departamento</td>\n",
       "      <td>3.0</td>\n",
       "      <td>2.0</td>\n",
       "      <td>76.0</td>\n",
       "      <td>75.0</td>\n",
       "      <td>129900.0</td>\n",
       "      <td>Lindísimo departamento antiguo en excelente es...</td>\n",
       "      <td>1709.210526</td>\n",
       "      <td>bajo</td>\n",
       "    </tr>\n",
       "  </tbody>\n",
       "</table>\n",
       "</div>"
      ],
      "text/plain": [
       "                         id    latitud   longitud    place_l3 property_type  \\\n",
       "0  F5IvmD1uzzdIR7b96ozt4g== -34.558855 -58.452458       Nuñez  Departamento   \n",
       "1  IiT/P7WfYDcqbhu7tf5V4Q== -34.582403 -58.443841  Colegiales  Departamento   \n",
       "2  6XXcElx/4OwCcH4NI06Oiw== -34.605825 -58.422214     Almagro  Departamento   \n",
       "3  8R7hSzqWFk9rX4wBXxfORA== -34.561971 -58.455670    Belgrano  Departamento   \n",
       "4  UAKYqQx9s0MfIdLzrJv8Ig== -34.606738 -58.389426  Tribunales  Departamento   \n",
       "\n",
       "   property_rooms  property_bedrooms  property_surface_total  \\\n",
       "0             4.0                3.0                   160.0   \n",
       "1             2.0                1.0                    50.0   \n",
       "2             3.0                2.0                    47.0   \n",
       "3             2.0                1.0                    52.0   \n",
       "4             3.0                2.0                    76.0   \n",
       "\n",
       "   property_surface_covered  property_price  \\\n",
       "0                     146.0        460000.0   \n",
       "1                      46.0        148000.0   \n",
       "2                      47.0         89000.0   \n",
       "3                      48.0        127000.0   \n",
       "4                      75.0        129900.0   \n",
       "\n",
       "                                      property_title         pxm2 tipo_precio  \n",
       "0  Venta: Hermoso piso de categoría en excelente ...  2875.000000        alto  \n",
       "1                          Departamento - Colegiales  2960.000000        alto  \n",
       "2      Departamento en venta tres ambientes- Almagro  1893.617021       medio  \n",
       "3                            Departamento - Belgrano  2442.307692       medio  \n",
       "4  Lindísimo departamento antiguo en excelente es...  1709.210526        bajo  "
      ]
     },
     "execution_count": 178,
     "metadata": {},
     "output_type": "execute_result"
    }
   ],
   "source": [
    "#Import dataframe\n",
    "ds_propiedades = pd.read_csv('./ds_propiedades_total_clasificado.csv')\n",
    "ds_descripciones = pd.read_csv('./properati_argentina_2021_decrip.csv')\n",
    "ds_propiedades.head()"
   ]
  },
  {
   "cell_type": "code",
   "execution_count": 179,
   "metadata": {},
   "outputs": [
    {
     "data": {
      "text/html": [
       "<div>\n",
       "<style scoped>\n",
       "    .dataframe tbody tr th:only-of-type {\n",
       "        vertical-align: middle;\n",
       "    }\n",
       "\n",
       "    .dataframe tbody tr th {\n",
       "        vertical-align: top;\n",
       "    }\n",
       "\n",
       "    .dataframe thead th {\n",
       "        text-align: right;\n",
       "    }\n",
       "</style>\n",
       "<table border=\"1\" class=\"dataframe\">\n",
       "  <thead>\n",
       "    <tr style=\"text-align: right;\">\n",
       "      <th></th>\n",
       "      <th>id</th>\n",
       "      <th>property_description</th>\n",
       "    </tr>\n",
       "  </thead>\n",
       "  <tbody>\n",
       "    <tr>\n",
       "      <th>0</th>\n",
       "      <td>BZCeiGkJr1WBUi6pKJQwJQ==</td>\n",
       "      <td>Corredor Responsable: MARIA ALEJANDRA GENOVEVA...</td>\n",
       "    </tr>\n",
       "    <tr>\n",
       "      <th>2</th>\n",
       "      <td>TUL813tXchVBlHUsfaA6DA==</td>\n",
       "      <td>Excelente PH en Núñez 4 amb!!!! Oportunidad !!...</td>\n",
       "    </tr>\n",
       "    <tr>\n",
       "      <th>3</th>\n",
       "      <td>gn55JPmcjftBV/at1a7fPg==</td>\n",
       "      <td>UNICO PH DE 4 DORMITORIOS EN IMPECABLE ESTADO,...</td>\n",
       "    </tr>\n",
       "    <tr>\n",
       "      <th>10</th>\n",
       "      <td>+9uGr8tPEUkKnpjOef+gUw==</td>\n",
       "      <td>SE VENDE EXCELENTE PH de 2 CÓMODOS AMBIENTES M...</td>\n",
       "    </tr>\n",
       "    <tr>\n",
       "      <th>11</th>\n",
       "      <td>uH5H+RfQM87Qtrb13+T4hA==</td>\n",
       "      <td>Venta PH 4 ambientes Paternal&lt;br&gt;&lt;br&gt;Cálido,  ...</td>\n",
       "    </tr>\n",
       "  </tbody>\n",
       "</table>\n",
       "</div>"
      ],
      "text/plain": [
       "                          id  \\\n",
       "0   BZCeiGkJr1WBUi6pKJQwJQ==   \n",
       "2   TUL813tXchVBlHUsfaA6DA==   \n",
       "3   gn55JPmcjftBV/at1a7fPg==   \n",
       "10  +9uGr8tPEUkKnpjOef+gUw==   \n",
       "11  uH5H+RfQM87Qtrb13+T4hA==   \n",
       "\n",
       "                                 property_description  \n",
       "0   Corredor Responsable: MARIA ALEJANDRA GENOVEVA...  \n",
       "2   Excelente PH en Núñez 4 amb!!!! Oportunidad !!...  \n",
       "3   UNICO PH DE 4 DORMITORIOS EN IMPECABLE ESTADO,...  \n",
       "10  SE VENDE EXCELENTE PH de 2 CÓMODOS AMBIENTES M...  \n",
       "11  Venta PH 4 ambientes Paternal<br><br>Cálido,  ...  "
      ]
     },
     "execution_count": 179,
     "metadata": {},
     "output_type": "execute_result"
    }
   ],
   "source": [
    "ds_descripciones = ds_descripciones[ds_descripciones['id'].isin(ds_propiedades['id'])]\n",
    "ds_descripciones.head()"
   ]
  },
  {
   "cell_type": "markdown",
   "metadata": {},
   "source": [
    "## Exportamos el dataframe a un archivo de texto para poder pasarlo por ECmes"
   ]
  },
  {
   "cell_type": "code",
   "execution_count": 180,
   "metadata": {},
   "outputs": [],
   "source": [
    "ds_descripciones_sin_id = ds_descripciones.drop(['id'], axis=1)\n",
    "\n",
    "ds_descripciones_sin_id.to_csv('ds_descripciones.txt', index=False)"
   ]
  },
  {
   "cell_type": "markdown",
   "metadata": {},
   "source": [
    "## Limpiamos el archivo de descripciones para que lo pueda leer Ecmes correctamente."
   ]
  },
  {
   "cell_type": "code",
   "execution_count": 181,
   "metadata": {},
   "outputs": [],
   "source": [
    "# dic_replace = {\n",
    "#     'á': 'a',\n",
    "#     'é': 'e',\n",
    "#     'í': 'i',\n",
    "#     'ó': 'o',\n",
    "#     'ú': 'u',\n",
    "#     'Á': 'A',\n",
    "#     'É': 'E',\n",
    "#     'Í': 'I',\n",
    "#     'Ó': 'O',\n",
    "#     'Ú': 'U',\n",
    "#     'ñ': 'ni',\n",
    "#     'Ñ': 'NI',\n",
    "#     'ü': 'u',\n",
    "#     'Ü': 'U',\n",
    "#     '<br>': ' ',\n",
    "#     '<br />': ' ',\n",
    "#     '<br/>': ' ',\n",
    "#     '<p>': ' ',\n",
    "#     '</p>': ' ',\n",
    "#     '<b>': ' ',\n",
    "#     '</b>': ' ',\n",
    "# }"
   ]
  },
  {
   "cell_type": "code",
   "execution_count": 182,
   "metadata": {},
   "outputs": [],
   "source": [
    "# #for every line in ds_descripciones.txt replace the '(' and ')' with ',' and save it in ds_descripciones.txt line by line \n",
    "# with open('ds_descripciones.txt', 'r', encoding = 'utf8') as f_in, open('ds_descripciones_out.txt', 'w', encoding = 'utf8') as f_out:\n",
    "#     for line in f_in:\n",
    "#         for src, target in dic_replace.items():\n",
    "#             line = line.replace(src, target)\n",
    "        \n",
    "       \n",
    "#         #leave only alpha characters in the line, also spaces and line jumps\n",
    "#         line = ''.join([c for c in line if c.isalpha() or c == ' ' or c == '\\n' or c == '.' or c == ','])\n",
    " \n",
    "        \n",
    "   \n",
    "\n",
    "#         # for src, target in dic_replace.items():\n",
    "#         #     line = line.replace(src, target)\n",
    "#         f_out.writelines(line)"
   ]
  },
  {
   "cell_type": "code",
   "execution_count": 183,
   "metadata": {},
   "outputs": [
    {
     "data": {
      "text/html": [
       "<div>\n",
       "<style scoped>\n",
       "    .dataframe tbody tr th:only-of-type {\n",
       "        vertical-align: middle;\n",
       "    }\n",
       "\n",
       "    .dataframe tbody tr th {\n",
       "        vertical-align: top;\n",
       "    }\n",
       "\n",
       "    .dataframe thead th {\n",
       "        text-align: right;\n",
       "    }\n",
       "</style>\n",
       "<table border=\"1\" class=\"dataframe\">\n",
       "  <thead>\n",
       "    <tr style=\"text-align: right;\">\n",
       "      <th></th>\n",
       "      <th>id</th>\n",
       "      <th>latitud</th>\n",
       "      <th>longitud</th>\n",
       "      <th>place_l3</th>\n",
       "      <th>property_type</th>\n",
       "      <th>property_rooms</th>\n",
       "      <th>property_bedrooms</th>\n",
       "      <th>property_surface_total</th>\n",
       "      <th>property_surface_covered</th>\n",
       "      <th>property_price</th>\n",
       "      <th>property_title</th>\n",
       "      <th>pxm2</th>\n",
       "      <th>tipo_precio</th>\n",
       "      <th>property_description</th>\n",
       "    </tr>\n",
       "  </thead>\n",
       "  <tbody>\n",
       "    <tr>\n",
       "      <th>0</th>\n",
       "      <td>F5IvmD1uzzdIR7b96ozt4g==</td>\n",
       "      <td>-34.558855</td>\n",
       "      <td>-58.452458</td>\n",
       "      <td>Nuñez</td>\n",
       "      <td>Departamento</td>\n",
       "      <td>4.0</td>\n",
       "      <td>3.0</td>\n",
       "      <td>160.0</td>\n",
       "      <td>146.0</td>\n",
       "      <td>460000.0</td>\n",
       "      <td>Venta: Hermoso piso de categoría en excelente ...</td>\n",
       "      <td>2875.000000</td>\n",
       "      <td>alto</td>\n",
       "      <td>Hermoso piso de 4 ambientes con dependencia y ...</td>\n",
       "    </tr>\n",
       "    <tr>\n",
       "      <th>1</th>\n",
       "      <td>IiT/P7WfYDcqbhu7tf5V4Q==</td>\n",
       "      <td>-34.582403</td>\n",
       "      <td>-58.443841</td>\n",
       "      <td>Colegiales</td>\n",
       "      <td>Departamento</td>\n",
       "      <td>2.0</td>\n",
       "      <td>1.0</td>\n",
       "      <td>50.0</td>\n",
       "      <td>46.0</td>\n",
       "      <td>148000.0</td>\n",
       "      <td>Departamento - Colegiales</td>\n",
       "      <td>2960.000000</td>\n",
       "      <td>alto</td>\n",
       "      <td>2 ambientes con balcón y vista totalmente abie...</td>\n",
       "    </tr>\n",
       "    <tr>\n",
       "      <th>2</th>\n",
       "      <td>6XXcElx/4OwCcH4NI06Oiw==</td>\n",
       "      <td>-34.605825</td>\n",
       "      <td>-58.422214</td>\n",
       "      <td>Almagro</td>\n",
       "      <td>Departamento</td>\n",
       "      <td>3.0</td>\n",
       "      <td>2.0</td>\n",
       "      <td>47.0</td>\n",
       "      <td>47.0</td>\n",
       "      <td>89000.0</td>\n",
       "      <td>Departamento en venta tres ambientes- Almagro</td>\n",
       "      <td>1893.617021</td>\n",
       "      <td>medio</td>\n",
       "      <td>**DIAZ VELEZ 4291 Y PRINGLES** Almagro.&lt;br&gt;&lt;br...</td>\n",
       "    </tr>\n",
       "    <tr>\n",
       "      <th>3</th>\n",
       "      <td>8R7hSzqWFk9rX4wBXxfORA==</td>\n",
       "      <td>-34.561971</td>\n",
       "      <td>-58.455670</td>\n",
       "      <td>Belgrano</td>\n",
       "      <td>Departamento</td>\n",
       "      <td>2.0</td>\n",
       "      <td>1.0</td>\n",
       "      <td>52.0</td>\n",
       "      <td>48.0</td>\n",
       "      <td>127000.0</td>\n",
       "      <td>Departamento - Belgrano</td>\n",
       "      <td>2442.307692</td>\n",
       "      <td>medio</td>\n",
       "      <td>IMPECABLE 2 AMBIENTES A ESTRENAR!&lt;...</td>\n",
       "    </tr>\n",
       "    <tr>\n",
       "      <th>4</th>\n",
       "      <td>UAKYqQx9s0MfIdLzrJv8Ig==</td>\n",
       "      <td>-34.606738</td>\n",
       "      <td>-58.389426</td>\n",
       "      <td>Tribunales</td>\n",
       "      <td>Departamento</td>\n",
       "      <td>3.0</td>\n",
       "      <td>2.0</td>\n",
       "      <td>76.0</td>\n",
       "      <td>75.0</td>\n",
       "      <td>129900.0</td>\n",
       "      <td>Lindísimo departamento antiguo en excelente es...</td>\n",
       "      <td>1709.210526</td>\n",
       "      <td>bajo</td>\n",
       "      <td>Excelente piso antiguo, lindísimo por sus tech...</td>\n",
       "    </tr>\n",
       "  </tbody>\n",
       "</table>\n",
       "</div>"
      ],
      "text/plain": [
       "                         id    latitud   longitud    place_l3 property_type  \\\n",
       "0  F5IvmD1uzzdIR7b96ozt4g== -34.558855 -58.452458       Nuñez  Departamento   \n",
       "1  IiT/P7WfYDcqbhu7tf5V4Q== -34.582403 -58.443841  Colegiales  Departamento   \n",
       "2  6XXcElx/4OwCcH4NI06Oiw== -34.605825 -58.422214     Almagro  Departamento   \n",
       "3  8R7hSzqWFk9rX4wBXxfORA== -34.561971 -58.455670    Belgrano  Departamento   \n",
       "4  UAKYqQx9s0MfIdLzrJv8Ig== -34.606738 -58.389426  Tribunales  Departamento   \n",
       "\n",
       "   property_rooms  property_bedrooms  property_surface_total  \\\n",
       "0             4.0                3.0                   160.0   \n",
       "1             2.0                1.0                    50.0   \n",
       "2             3.0                2.0                    47.0   \n",
       "3             2.0                1.0                    52.0   \n",
       "4             3.0                2.0                    76.0   \n",
       "\n",
       "   property_surface_covered  property_price  \\\n",
       "0                     146.0        460000.0   \n",
       "1                      46.0        148000.0   \n",
       "2                      47.0         89000.0   \n",
       "3                      48.0        127000.0   \n",
       "4                      75.0        129900.0   \n",
       "\n",
       "                                      property_title         pxm2 tipo_precio  \\\n",
       "0  Venta: Hermoso piso de categoría en excelente ...  2875.000000        alto   \n",
       "1                          Departamento - Colegiales  2960.000000        alto   \n",
       "2      Departamento en venta tres ambientes- Almagro  1893.617021       medio   \n",
       "3                            Departamento - Belgrano  2442.307692       medio   \n",
       "4  Lindísimo departamento antiguo en excelente es...  1709.210526        bajo   \n",
       "\n",
       "                                property_description  \n",
       "0  Hermoso piso de 4 ambientes con dependencia y ...  \n",
       "1  2 ambientes con balcón y vista totalmente abie...  \n",
       "2  **DIAZ VELEZ 4291 Y PRINGLES** Almagro.<br><br...  \n",
       "3              IMPECABLE 2 AMBIENTES A ESTRENAR!<...  \n",
       "4  Excelente piso antiguo, lindísimo por sus tech...  "
      ]
     },
     "execution_count": 183,
     "metadata": {},
     "output_type": "execute_result"
    }
   ],
   "source": [
    "ds_propiedades = ds_propiedades.join(ds_descripciones.set_index('id'), on='id')\n",
    "ds_propiedades.head()"
   ]
  },
  {
   "cell_type": "markdown",
   "metadata": {},
   "source": [
    "## Imputacion de nuevos parametros basados en los datos de Ecmes"
   ]
  },
  {
   "cell_type": "markdown",
   "metadata": {},
   "source": [
    "#### Basandonos en la frecuencia de aparición de palabras dada por Ecmes y nuestro dominio del problema, sabemos que estos son aspectos muy influyentes.<br>\n",
    "#### Procedemos a añadirlos al dataset para ampliarlo"
   ]
  },
  {
   "cell_type": "markdown",
   "metadata": {},
   "source": [
    "#### Pileta"
   ]
  },
  {
   "cell_type": "code",
   "execution_count": 184,
   "metadata": {},
   "outputs": [],
   "source": [
    "import re\n",
    "regexp = re.compile(r'piscina|pileta/gi', re.IGNORECASE)\n",
    "\n",
    "ds_propiedades['piscina'] = ds_propiedades['property_description'].apply(lambda x: 1 if regexp.search(x) else 0)"
   ]
  },
  {
   "cell_type": "code",
   "execution_count": 185,
   "metadata": {},
   "outputs": [
    {
     "name": "stdout",
     "output_type": "stream",
     "text": [
      "Vemos que la cantidad de propiedades con pileta es de 9729\n"
     ]
    }
   ],
   "source": [
    "cantidad_pileta = ds_propiedades[ds_propiedades['piscina'] == 1].shape[0]\n",
    "print(f\"Vemos que la cantidad de propiedades con pileta es de {cantidad_pileta}\")"
   ]
  },
  {
   "cell_type": "markdown",
   "metadata": {},
   "source": [
    "#### Garaje/Cochera"
   ]
  },
  {
   "cell_type": "code",
   "execution_count": 186,
   "metadata": {},
   "outputs": [],
   "source": [
    "regexp  = re.compile(r'cochera|garage/gi', re.IGNORECASE)\n",
    "\n",
    "ds_propiedades['cochera'] = ds_propiedades['property_description'].apply(lambda x: 1 if regexp.search(x) else 0)"
   ]
  },
  {
   "cell_type": "code",
   "execution_count": 187,
   "metadata": {},
   "outputs": [
    {
     "name": "stdout",
     "output_type": "stream",
     "text": [
      "Vemos que la cantidad de propiedades con Garaje es de 27031\n"
     ]
    }
   ],
   "source": [
    "cantidad_garaje = ds_propiedades[ds_propiedades['cochera'] == 1].shape[0]\n",
    "print(f\"Vemos que la cantidad de propiedades con Garaje es de {cantidad_garaje}\")"
   ]
  },
  {
   "cell_type": "markdown",
   "metadata": {},
   "source": [
    "#### Balcon"
   ]
  },
  {
   "cell_type": "code",
   "execution_count": 188,
   "metadata": {},
   "outputs": [],
   "source": [
    "regexp  = re.compile(r'balc[oó]n|/gi', re.IGNORECASE)\n",
    "\n",
    "ds_propiedades['balcon'] = ds_propiedades['property_description'].apply(lambda x: 1 if regexp.search(x) else 0)"
   ]
  },
  {
   "cell_type": "code",
   "execution_count": 189,
   "metadata": {},
   "outputs": [
    {
     "name": "stdout",
     "output_type": "stream",
     "text": [
      "Vemos que la cantidad de propiedades con Balcon es de 52839\n"
     ]
    }
   ],
   "source": [
    "cantidad_balcon = ds_propiedades[ds_propiedades['balcon'] == 1].shape[0]\n",
    "print(f\"Vemos que la cantidad de propiedades con Balcon es de {cantidad_balcon}\")"
   ]
  },
  {
   "cell_type": "markdown",
   "metadata": {},
   "source": [
    "#### Hidromasaje"
   ]
  },
  {
   "cell_type": "code",
   "execution_count": 190,
   "metadata": {},
   "outputs": [],
   "source": [
    "regexp  = re.compile(r'hidromasaje|jacuzzi|spa/gi', re.IGNORECASE)\n",
    "\n",
    "ds_propiedades['hidromasaje'] = ds_propiedades['property_description'].apply(lambda x: 1 if regexp.search(x) else 0)"
   ]
  },
  {
   "cell_type": "code",
   "execution_count": 191,
   "metadata": {},
   "outputs": [
    {
     "name": "stdout",
     "output_type": "stream",
     "text": [
      "Vemos que la cantidad de propiedades con Hidromasaje es de 4047\n"
     ]
    }
   ],
   "source": [
    "cantidad_hidromasaje = ds_propiedades[ds_propiedades['hidromasaje'] == 1].shape[0]\n",
    "print(f\"Vemos que la cantidad de propiedades con Hidromasaje es de {cantidad_hidromasaje}\")"
   ]
  },
  {
   "cell_type": "markdown",
   "metadata": {},
   "source": [
    "#### Jardín"
   ]
  },
  {
   "cell_type": "code",
   "execution_count": 192,
   "metadata": {},
   "outputs": [],
   "source": [
    "regexp = re.compile(r'jardin|jardín/gi', re.IGNORECASE)\n",
    "\n",
    "ds_propiedades['jardin'] = ds_propiedades['property_description'].apply(lambda x: 1 if regexp.search(x) else 0)"
   ]
  },
  {
   "cell_type": "code",
   "execution_count": 193,
   "metadata": {},
   "outputs": [
    {
     "name": "stdout",
     "output_type": "stream",
     "text": [
      "Vemos que la cantidad de propiedades con Jardin es de 2688\n"
     ]
    }
   ],
   "source": [
    "cantidad_jardin = ds_propiedades[ds_propiedades['jardin'] == 1].shape[0]\n",
    "print(f\"Vemos que la cantidad de propiedades con Jardin es de {cantidad_jardin}\")"
   ]
  },
  {
   "cell_type": "markdown",
   "metadata": {},
   "source": [
    "#### Gimnasio"
   ]
  },
  {
   "cell_type": "code",
   "execution_count": 194,
   "metadata": {},
   "outputs": [],
   "source": [
    "regexp = re.compile(r'gimnasio|gym/gi', re.IGNORECASE)\n",
    "\n",
    "ds_propiedades['gimnasio'] = ds_propiedades['property_description'].apply(lambda x: 1 if regexp.search(x) else 0)"
   ]
  },
  {
   "cell_type": "code",
   "execution_count": 195,
   "metadata": {},
   "outputs": [
    {
     "name": "stdout",
     "output_type": "stream",
     "text": [
      "Vemos que la cantidad de propiedades con Gimnasio es de 6601\n"
     ]
    }
   ],
   "source": [
    "cantidad_gimnasio = ds_propiedades[ds_propiedades['gimnasio'] == 1].shape[0]\n",
    "print(f\"Vemos que la cantidad de propiedades con Gimnasio es de {cantidad_gimnasio}\")"
   ]
  },
  {
   "cell_type": "markdown",
   "metadata": {},
   "source": [
    "#### A estrenar"
   ]
  },
  {
   "cell_type": "code",
   "execution_count": 196,
   "metadata": {},
   "outputs": [],
   "source": [
    "regexp = re.compile(r'estrenar|/gi', re.IGNORECASE)\n",
    "\n",
    "ds_propiedades['a_estrenar'] = ds_propiedades['property_description'].apply(lambda x: 1 if regexp.search(x) else 0)"
   ]
  },
  {
   "cell_type": "code",
   "execution_count": 197,
   "metadata": {},
   "outputs": [
    {
     "name": "stdout",
     "output_type": "stream",
     "text": [
      "Vemos que la cantidad de propiedades a estrenar es de 8311\n"
     ]
    }
   ],
   "source": [
    "cantidad_a_estrenar = ds_propiedades[ds_propiedades['a_estrenar'] == 1].shape[0]\n",
    "print(f\"Vemos que la cantidad de propiedades a estrenar es de {cantidad_a_estrenar}\")"
   ]
  },
  {
   "cell_type": "markdown",
   "metadata": {},
   "source": [
    "#### Sótano"
   ]
  },
  {
   "cell_type": "code",
   "execution_count": 198,
   "metadata": {},
   "outputs": [],
   "source": [
    "regexp = re.compile(r'sotano|sótano/gi', re.IGNORECASE)\n",
    "\n",
    "ds_propiedades['sotano'] = ds_propiedades['property_description'].apply(lambda x: 1 if regexp.search(x) else 0)"
   ]
  },
  {
   "cell_type": "code",
   "execution_count": 199,
   "metadata": {},
   "outputs": [
    {
     "name": "stdout",
     "output_type": "stream",
     "text": [
      "Vemos que la cantidad de propiedades con Sotano es de 83\n"
     ]
    }
   ],
   "source": [
    "cantidad_sotano = ds_propiedades[ds_propiedades['sotano'] == 1].shape[0]\n",
    "print(f\"Vemos que la cantidad de propiedades con Sotano es de {cantidad_sotano}\")"
   ]
  },
  {
   "cell_type": "markdown",
   "metadata": {},
   "source": [
    "#### Quincho"
   ]
  },
  {
   "cell_type": "code",
   "execution_count": 200,
   "metadata": {},
   "outputs": [],
   "source": [
    "regexp = re.compile(r'quincho|/gi', re.IGNORECASE)\n",
    "\n",
    "ds_propiedades['quincho'] = ds_propiedades['property_description'].apply(lambda x: 1 if regexp.search(x) else 0)"
   ]
  },
  {
   "cell_type": "code",
   "execution_count": 201,
   "metadata": {},
   "outputs": [
    {
     "name": "stdout",
     "output_type": "stream",
     "text": [
      "Vemos que la cantidad de propiedades con Quincho es de 3173\n"
     ]
    }
   ],
   "source": [
    "cantidad_quincho = ds_propiedades[ds_propiedades['quincho'] == 1].shape[0]\n",
    "print(f\"Vemos que la cantidad de propiedades con Quincho es de {cantidad_quincho}\")"
   ]
  },
  {
   "cell_type": "markdown",
   "metadata": {},
   "source": [
    "#### Sum"
   ]
  },
  {
   "cell_type": "code",
   "execution_count": 202,
   "metadata": {},
   "outputs": [],
   "source": [
    "regexp = re.compile(r'(\\bsum\\b)|(s\\.u\\.m)|(salon de usos multiples)/gi', re.IGNORECASE)\n",
    "\n",
    "ds_propiedades['sum'] = ds_propiedades['property_description'].apply(lambda x: 1 if regexp.search(x) else 0)"
   ]
  },
  {
   "cell_type": "code",
   "execution_count": 203,
   "metadata": {},
   "outputs": [
    {
     "name": "stdout",
     "output_type": "stream",
     "text": [
      "Vemos que la cantidad de propiedades con SUM es de 14847\n"
     ]
    }
   ],
   "source": [
    "cantidad_sum = ds_propiedades[ds_propiedades['sum'] == 1].shape[0]\n",
    "print(f\"Vemos que la cantidad de propiedades con SUM es de {cantidad_sum}\")"
   ]
  },
  {
   "cell_type": "markdown",
   "metadata": {},
   "source": [
    "#### Expensas"
   ]
  },
  {
   "cell_type": "markdown",
   "metadata": {},
   "source": [
    "Vamos a buscar generar un parametro expensas_tipo que sea baja, mediana, alta o no aplica dependiendo del caso, para esto primero vamos a buscar los precios que se encuentran en el dataset y con eso hacer un rango de precios para cada tipo de expensas. Luego esto lo combinamos con otra busqueda en las descripciones para encontrar palabras que nos indiquen si es un precio alto, medio o bajo."
   ]
  },
  {
   "cell_type": "code",
   "execution_count": 204,
   "metadata": {},
   "outputs": [],
   "source": [
    "regexp = re.compile(r'expensas[\\$0-9 \\.,:]+|/gi', re.IGNORECASE)\n",
    "\n",
    "ds_propiedades['expensas_price'] = ds_propiedades['property_description'].apply(lambda x: regexp.search(x).group() if regexp.search(x) else -1)\n",
    "\n",
    "ds_propiedades['expensas_price'] = ds_propiedades['expensas_price'].apply(lambda x: x.lower().replace('expensas:','').replace('$','').replace(' ','').replace('.','').replace(',','.') if x != -1 else -1)\n",
    "\n",
    "ds_propiedades['expensas_price'] =   ds_propiedades['expensas_price'].apply(lambda x: float(x) if str(x).isnumeric() else -1)"
   ]
  },
  {
   "cell_type": "code",
   "execution_count": 205,
   "metadata": {},
   "outputs": [
    {
     "name": "stdout",
     "output_type": "stream",
     "text": [
      "Vemos que la cantidad de propiedades con expensas es de 4484\n"
     ]
    }
   ],
   "source": [
    "propiedades_con_precio_expensas = ds_propiedades[ds_propiedades['expensas_price'] > -1].shape[0]\n",
    "\n",
    "print(f\"Vemos que la cantidad de propiedades con expensas es de {propiedades_con_precio_expensas}\")"
   ]
  },
  {
   "cell_type": "markdown",
   "metadata": {},
   "source": [
    "Expensas_tipo"
   ]
  },
  {
   "cell_type": "code",
   "execution_count": 206,
   "metadata": {},
   "outputs": [
    {
     "data": {
      "text/plain": [
       "no aplica    47149\n",
       "medias       15184\n",
       "bajas        11582\n",
       "altas         9088\n",
       "sin           2690\n",
       "Name: expensas_tipo, dtype: int64"
      ]
     },
     "execution_count": 206,
     "metadata": {},
     "output_type": "execute_result"
    }
   ],
   "source": [
    "regexp_sin = re.compile(r'sin expensas', re.IGNORECASE)\n",
    "regexp_tipo = re.compile(r'expensas baja|media|alta|accesible|barata', re.IGNORECASE)\n",
    "\n",
    "ds_propiedades['expensas_tipo'] = ds_propiedades['property_description'].apply(lambda x: \n",
    "  regexp_sin.search(x.lower()).group() if regexp_sin.search(x) else (regexp_tipo.search(x.lower()).group() if regexp_tipo.search(x) else 'no aplica')\n",
    ")\n",
    "\n",
    "ds_propiedades['expensas_tipo'] = ds_propiedades['expensas_tipo'].apply(lambda x: 'sin' if 'sin' in str(x) else x)\n",
    "ds_propiedades['expensas_tipo'] = ds_propiedades['expensas_tipo'].apply(lambda x: 'bajas' if 'baja' in str(x) else x)\n",
    "ds_propiedades['expensas_tipo'] = ds_propiedades['expensas_tipo'].apply(lambda x: 'bajas' if 'accesible' in str(x) else x)\n",
    "ds_propiedades['expensas_tipo'] = ds_propiedades['expensas_tipo'].apply(lambda x: 'bajas' if 'barata' in str(x) else x)\n",
    "ds_propiedades['expensas_tipo'] = ds_propiedades['expensas_tipo'].apply(lambda x: 'medias' if 'media' in str(x) else x)\n",
    "ds_propiedades['expensas_tipo'] = ds_propiedades['expensas_tipo'].apply(lambda x: 'altas' if 'alta' in str(x) else x)\n",
    "\n",
    "ds_propiedades['expensas_tipo'].value_counts()"
   ]
  },
  {
   "cell_type": "markdown",
   "metadata": {},
   "source": [
    "Vemos cuantas expensas categorizadas como 'no aplica' tienen un precio y las categorizamos acordemente"
   ]
  },
  {
   "cell_type": "code",
   "execution_count": 207,
   "metadata": {},
   "outputs": [
    {
     "data": {
      "text/plain": [
       "no aplica    44344\n",
       "medias       16106\n",
       "bajas        12542\n",
       "altas        10011\n",
       "sin           2690\n",
       "Name: expensas_tipo, dtype: int64"
      ]
     },
     "execution_count": 207,
     "metadata": {},
     "output_type": "execute_result"
    }
   ],
   "source": [
    "ds_propiedades_completar_tipo = ds_propiedades[(ds_propiedades['expensas_tipo'] == 'no aplica') & (ds_propiedades['expensas_price'] > 0)].copy()\n",
    "\n",
    "if len(ds_propiedades_completar_tipo) > 0: ds_propiedades_completar_tipo['expensas_tipo'] = pd.qcut(ds_propiedades_completar_tipo['expensas_price'], q=3, labels=['bajas', 'medias', 'altas'])\n",
    "\n",
    "ds_propiedades.loc[(ds_propiedades['expensas_tipo'] == 'no aplica') & (ds_propiedades['expensas_price'] > 0), 'expensas_tipo'] = ds_propiedades_completar_tipo['expensas_tipo']\n",
    "ds_propiedades.drop(columns=['expensas_price'], inplace=True)\n",
    "\n",
    "ds_propiedades['expensas_tipo'].value_counts()"
   ]
  },
  {
   "cell_type": "markdown",
   "metadata": {},
   "source": [
    "## Filtramos las columnas generadas"
   ]
  },
  {
   "cell_type": "code",
   "execution_count": 208,
   "metadata": {},
   "outputs": [
    {
     "data": {
      "text/html": [
       "<div>\n",
       "<style scoped>\n",
       "    .dataframe tbody tr th:only-of-type {\n",
       "        vertical-align: middle;\n",
       "    }\n",
       "\n",
       "    .dataframe tbody tr th {\n",
       "        vertical-align: top;\n",
       "    }\n",
       "\n",
       "    .dataframe thead th {\n",
       "        text-align: right;\n",
       "    }\n",
       "</style>\n",
       "<table border=\"1\" class=\"dataframe\">\n",
       "  <thead>\n",
       "    <tr style=\"text-align: right;\">\n",
       "      <th></th>\n",
       "      <th>id</th>\n",
       "      <th>latitud</th>\n",
       "      <th>longitud</th>\n",
       "      <th>place_l3</th>\n",
       "      <th>property_type</th>\n",
       "      <th>property_rooms</th>\n",
       "      <th>property_bedrooms</th>\n",
       "      <th>property_surface_total</th>\n",
       "      <th>property_surface_covered</th>\n",
       "      <th>property_price</th>\n",
       "      <th>...</th>\n",
       "      <th>cochera</th>\n",
       "      <th>balcon</th>\n",
       "      <th>hidromasaje</th>\n",
       "      <th>jardin</th>\n",
       "      <th>gimnasio</th>\n",
       "      <th>a_estrenar</th>\n",
       "      <th>sotano</th>\n",
       "      <th>quincho</th>\n",
       "      <th>sum</th>\n",
       "      <th>expensas_tipo</th>\n",
       "    </tr>\n",
       "  </thead>\n",
       "  <tbody>\n",
       "    <tr>\n",
       "      <th>0</th>\n",
       "      <td>F5IvmD1uzzdIR7b96ozt4g==</td>\n",
       "      <td>-34.558855</td>\n",
       "      <td>-58.452458</td>\n",
       "      <td>Nuñez</td>\n",
       "      <td>Departamento</td>\n",
       "      <td>4.0</td>\n",
       "      <td>3.0</td>\n",
       "      <td>160.0</td>\n",
       "      <td>146.0</td>\n",
       "      <td>460000.0</td>\n",
       "      <td>...</td>\n",
       "      <td>1</td>\n",
       "      <td>1</td>\n",
       "      <td>0</td>\n",
       "      <td>0</td>\n",
       "      <td>0</td>\n",
       "      <td>0</td>\n",
       "      <td>0</td>\n",
       "      <td>0</td>\n",
       "      <td>0</td>\n",
       "      <td>no aplica</td>\n",
       "    </tr>\n",
       "    <tr>\n",
       "      <th>1</th>\n",
       "      <td>IiT/P7WfYDcqbhu7tf5V4Q==</td>\n",
       "      <td>-34.582403</td>\n",
       "      <td>-58.443841</td>\n",
       "      <td>Colegiales</td>\n",
       "      <td>Departamento</td>\n",
       "      <td>2.0</td>\n",
       "      <td>1.0</td>\n",
       "      <td>50.0</td>\n",
       "      <td>46.0</td>\n",
       "      <td>148000.0</td>\n",
       "      <td>...</td>\n",
       "      <td>1</td>\n",
       "      <td>1</td>\n",
       "      <td>0</td>\n",
       "      <td>0</td>\n",
       "      <td>0</td>\n",
       "      <td>0</td>\n",
       "      <td>0</td>\n",
       "      <td>0</td>\n",
       "      <td>0</td>\n",
       "      <td>no aplica</td>\n",
       "    </tr>\n",
       "    <tr>\n",
       "      <th>2</th>\n",
       "      <td>6XXcElx/4OwCcH4NI06Oiw==</td>\n",
       "      <td>-34.605825</td>\n",
       "      <td>-58.422214</td>\n",
       "      <td>Almagro</td>\n",
       "      <td>Departamento</td>\n",
       "      <td>3.0</td>\n",
       "      <td>2.0</td>\n",
       "      <td>47.0</td>\n",
       "      <td>47.0</td>\n",
       "      <td>89000.0</td>\n",
       "      <td>...</td>\n",
       "      <td>0</td>\n",
       "      <td>0</td>\n",
       "      <td>0</td>\n",
       "      <td>0</td>\n",
       "      <td>0</td>\n",
       "      <td>0</td>\n",
       "      <td>0</td>\n",
       "      <td>0</td>\n",
       "      <td>0</td>\n",
       "      <td>no aplica</td>\n",
       "    </tr>\n",
       "    <tr>\n",
       "      <th>3</th>\n",
       "      <td>8R7hSzqWFk9rX4wBXxfORA==</td>\n",
       "      <td>-34.561971</td>\n",
       "      <td>-58.455670</td>\n",
       "      <td>Belgrano</td>\n",
       "      <td>Departamento</td>\n",
       "      <td>2.0</td>\n",
       "      <td>1.0</td>\n",
       "      <td>52.0</td>\n",
       "      <td>48.0</td>\n",
       "      <td>127000.0</td>\n",
       "      <td>...</td>\n",
       "      <td>0</td>\n",
       "      <td>1</td>\n",
       "      <td>0</td>\n",
       "      <td>0</td>\n",
       "      <td>0</td>\n",
       "      <td>1</td>\n",
       "      <td>0</td>\n",
       "      <td>0</td>\n",
       "      <td>0</td>\n",
       "      <td>medias</td>\n",
       "    </tr>\n",
       "    <tr>\n",
       "      <th>4</th>\n",
       "      <td>UAKYqQx9s0MfIdLzrJv8Ig==</td>\n",
       "      <td>-34.606738</td>\n",
       "      <td>-58.389426</td>\n",
       "      <td>Tribunales</td>\n",
       "      <td>Departamento</td>\n",
       "      <td>3.0</td>\n",
       "      <td>2.0</td>\n",
       "      <td>76.0</td>\n",
       "      <td>75.0</td>\n",
       "      <td>129900.0</td>\n",
       "      <td>...</td>\n",
       "      <td>0</td>\n",
       "      <td>1</td>\n",
       "      <td>0</td>\n",
       "      <td>0</td>\n",
       "      <td>0</td>\n",
       "      <td>0</td>\n",
       "      <td>0</td>\n",
       "      <td>0</td>\n",
       "      <td>0</td>\n",
       "      <td>no aplica</td>\n",
       "    </tr>\n",
       "  </tbody>\n",
       "</table>\n",
       "<p>5 rows × 25 columns</p>\n",
       "</div>"
      ],
      "text/plain": [
       "                         id    latitud   longitud    place_l3 property_type  \\\n",
       "0  F5IvmD1uzzdIR7b96ozt4g== -34.558855 -58.452458       Nuñez  Departamento   \n",
       "1  IiT/P7WfYDcqbhu7tf5V4Q== -34.582403 -58.443841  Colegiales  Departamento   \n",
       "2  6XXcElx/4OwCcH4NI06Oiw== -34.605825 -58.422214     Almagro  Departamento   \n",
       "3  8R7hSzqWFk9rX4wBXxfORA== -34.561971 -58.455670    Belgrano  Departamento   \n",
       "4  UAKYqQx9s0MfIdLzrJv8Ig== -34.606738 -58.389426  Tribunales  Departamento   \n",
       "\n",
       "   property_rooms  property_bedrooms  property_surface_total  \\\n",
       "0             4.0                3.0                   160.0   \n",
       "1             2.0                1.0                    50.0   \n",
       "2             3.0                2.0                    47.0   \n",
       "3             2.0                1.0                    52.0   \n",
       "4             3.0                2.0                    76.0   \n",
       "\n",
       "   property_surface_covered  property_price  ... cochera  balcon hidromasaje  \\\n",
       "0                     146.0        460000.0  ...       1       1           0   \n",
       "1                      46.0        148000.0  ...       1       1           0   \n",
       "2                      47.0         89000.0  ...       0       0           0   \n",
       "3                      48.0        127000.0  ...       0       1           0   \n",
       "4                      75.0        129900.0  ...       0       1           0   \n",
       "\n",
       "  jardin  gimnasio  a_estrenar  sotano  quincho  sum  expensas_tipo  \n",
       "0      0         0           0       0        0    0      no aplica  \n",
       "1      0         0           0       0        0    0      no aplica  \n",
       "2      0         0           0       0        0    0      no aplica  \n",
       "3      0         0           1       0        0    0         medias  \n",
       "4      0         0           0       0        0    0      no aplica  \n",
       "\n",
       "[5 rows x 25 columns]"
      ]
     },
     "execution_count": 208,
     "metadata": {},
     "output_type": "execute_result"
    }
   ],
   "source": [
    "ds_propiedades.head()"
   ]
  },
  {
   "cell_type": "markdown",
   "metadata": {},
   "source": [
    "Ahora ya tenemos creadas las nuevas columnas, vamos a ver si podemos sacar algo de informacion de ellas"
   ]
  },
  {
   "cell_type": "code",
   "execution_count": 209,
   "metadata": {},
   "outputs": [
    {
     "data": {
      "text/plain": [
       "piscina                                                       9729\n",
       "cochera                                                      27031\n",
       "balcon                                                       52839\n",
       "hidromasaje                                                   4047\n",
       "jardin                                                        2688\n",
       "gimnasio                                                      6601\n",
       "a_estrenar                                                    8311\n",
       "sotano                                                          83\n",
       "quincho                                                       3173\n",
       "sum                                                          14847\n",
       "expensas_tipo    no aplicano aplicano aplicamediasno aplicamedi...\n",
       "dtype: object"
      ]
     },
     "execution_count": 209,
     "metadata": {},
     "output_type": "execute_result"
    }
   ],
   "source": [
    "columnas_agregadas = ['piscina', 'cochera', 'balcon', 'hidromasaje', 'jardin', 'gimnasio', 'a_estrenar', 'sotano', 'quincho', 'sum', 'expensas_tipo']\n",
    "\n",
    "ds_propiedades[columnas_agregadas].sum()"
   ]
  },
  {
   "cell_type": "markdown",
   "metadata": {},
   "source": [
    "Podemos ver que Piscina, Cochera, sum y Balcon tienen una gran cantidad de datos por lo que dejarlos realmente puede aportar valor, ahora vamos a analizar los otros uno por uno"
   ]
  },
  {
   "cell_type": "markdown",
   "metadata": {},
   "source": [
    "#### Jardin"
   ]
  },
  {
   "cell_type": "markdown",
   "metadata": {},
   "source": [
    "Siendo que tenemos tan pocos datos no podemos sacar conclusiones acertadas de esto. El jardín representa la superficie descubierta de nuestra propiedad, que ya está en el dataset, por lo tanto sería información redundante, entonces lo sacamos"
   ]
  },
  {
   "cell_type": "markdown",
   "metadata": {},
   "source": [
    "#### Hidromasaje, Gimnasio y Quincho"
   ]
  },
  {
   "cell_type": "markdown",
   "metadata": {},
   "source": [
    "En estos casos tambien vemos que hay pocos, pero con el dominio del problema podemos asumir que son un valor agregado poco frecuente y que aunque tengamos pocos, es muy probable que esten bien y tengan una relacion directa con lo 'premium' que es la propiedad"
   ]
  },
  {
   "cell_type": "markdown",
   "metadata": {},
   "source": [
    "#### A estrenar"
   ]
  },
  {
   "cell_type": "markdown",
   "metadata": {},
   "source": [
    "Este dato tambien es poco frecuente, pero es un gran valor agregado a la propiedad y una de las cosas que mas se tienen en cuenta a la hora de comprar propiedades. Por esto lo dejamos sin lugar a dudas"
   ]
  },
  {
   "cell_type": "markdown",
   "metadata": {},
   "source": [
    "#### Sotano "
   ]
  },
  {
   "cell_type": "markdown",
   "metadata": {},
   "source": [
    "El sotano es un dato que aparece en muy pocas propiedades, e incluso es un poco ambigüo ya que no tiene una descripcion detallada del mismo (puede ser una baulera o una planta completa). Por lo que tambien lo vamos a sacar"
   ]
  },
  {
   "cell_type": "markdown",
   "metadata": {},
   "source": [
    "#### Sacamos las columnas que no mantenemos"
   ]
  },
  {
   "cell_type": "code",
   "execution_count": 210,
   "metadata": {},
   "outputs": [],
   "source": [
    "ds_propiedades.drop(columns=['jardin', 'sotano'], inplace=True)"
   ]
  },
  {
   "cell_type": "markdown",
   "metadata": {},
   "source": [
    "## Dataset final"
   ]
  },
  {
   "cell_type": "code",
   "execution_count": 211,
   "metadata": {},
   "outputs": [],
   "source": [
    "ds_propiedades_xgboost = ds_propiedades.copy()"
   ]
  },
  {
   "cell_type": "code",
   "execution_count": 212,
   "metadata": {},
   "outputs": [
    {
     "name": "stdout",
     "output_type": "stream",
     "text": [
      "<class 'pandas.core.frame.DataFrame'>\n",
      "RangeIndex: 85693 entries, 0 to 85692\n",
      "Data columns (total 23 columns):\n",
      " #   Column                    Non-Null Count  Dtype  \n",
      "---  ------                    --------------  -----  \n",
      " 0   id                        85693 non-null  object \n",
      " 1   latitud                   85693 non-null  float64\n",
      " 2   longitud                  85693 non-null  float64\n",
      " 3   place_l3                  85693 non-null  object \n",
      " 4   property_type             85693 non-null  object \n",
      " 5   property_rooms            85693 non-null  float64\n",
      " 6   property_bedrooms         85693 non-null  float64\n",
      " 7   property_surface_total    85693 non-null  float64\n",
      " 8   property_surface_covered  85693 non-null  float64\n",
      " 9   property_price            85693 non-null  float64\n",
      " 10  property_title            85693 non-null  object \n",
      " 11  pxm2                      85693 non-null  float64\n",
      " 12  tipo_precio               85693 non-null  object \n",
      " 13  property_description      85693 non-null  object \n",
      " 14  piscina                   85693 non-null  int64  \n",
      " 15  cochera                   85693 non-null  int64  \n",
      " 16  balcon                    85693 non-null  int64  \n",
      " 17  hidromasaje               85693 non-null  int64  \n",
      " 18  gimnasio                  85693 non-null  int64  \n",
      " 19  a_estrenar                85693 non-null  int64  \n",
      " 20  quincho                   85693 non-null  int64  \n",
      " 21  sum                       85693 non-null  int64  \n",
      " 22  expensas_tipo             85693 non-null  object \n",
      "dtypes: float64(8), int64(8), object(7)\n",
      "memory usage: 15.0+ MB\n"
     ]
    }
   ],
   "source": [
    "ds_propiedades_xgboost.info()"
   ]
  },
  {
   "cell_type": "markdown",
   "metadata": {},
   "source": [
    "## 1b) Entranamiento XGBoost"
   ]
  },
  {
   "cell_type": "code",
   "execution_count": 213,
   "metadata": {},
   "outputs": [
    {
     "data": {
      "text/html": [
       "<div>\n",
       "<style scoped>\n",
       "    .dataframe tbody tr th:only-of-type {\n",
       "        vertical-align: middle;\n",
       "    }\n",
       "\n",
       "    .dataframe tbody tr th {\n",
       "        vertical-align: top;\n",
       "    }\n",
       "\n",
       "    .dataframe thead th {\n",
       "        text-align: right;\n",
       "    }\n",
       "</style>\n",
       "<table border=\"1\" class=\"dataframe\">\n",
       "  <thead>\n",
       "    <tr style=\"text-align: right;\">\n",
       "      <th></th>\n",
       "      <th>id</th>\n",
       "      <th>latitud</th>\n",
       "      <th>longitud</th>\n",
       "      <th>place_l3</th>\n",
       "      <th>property_type</th>\n",
       "      <th>property_rooms</th>\n",
       "      <th>property_bedrooms</th>\n",
       "      <th>property_surface_total</th>\n",
       "      <th>property_surface_covered</th>\n",
       "      <th>property_price</th>\n",
       "      <th>...</th>\n",
       "      <th>property_description</th>\n",
       "      <th>piscina</th>\n",
       "      <th>cochera</th>\n",
       "      <th>balcon</th>\n",
       "      <th>hidromasaje</th>\n",
       "      <th>gimnasio</th>\n",
       "      <th>a_estrenar</th>\n",
       "      <th>quincho</th>\n",
       "      <th>sum</th>\n",
       "      <th>expensas_tipo</th>\n",
       "    </tr>\n",
       "  </thead>\n",
       "  <tbody>\n",
       "    <tr>\n",
       "      <th>0</th>\n",
       "      <td>F5IvmD1uzzdIR7b96ozt4g==</td>\n",
       "      <td>-34.558855</td>\n",
       "      <td>-58.452458</td>\n",
       "      <td>Nuñez</td>\n",
       "      <td>Departamento</td>\n",
       "      <td>4.0</td>\n",
       "      <td>3.0</td>\n",
       "      <td>160.0</td>\n",
       "      <td>146.0</td>\n",
       "      <td>460000.0</td>\n",
       "      <td>...</td>\n",
       "      <td>Hermoso piso de 4 ambientes con dependencia y ...</td>\n",
       "      <td>0</td>\n",
       "      <td>1</td>\n",
       "      <td>1</td>\n",
       "      <td>0</td>\n",
       "      <td>0</td>\n",
       "      <td>0</td>\n",
       "      <td>0</td>\n",
       "      <td>0</td>\n",
       "      <td>no aplica</td>\n",
       "    </tr>\n",
       "    <tr>\n",
       "      <th>1</th>\n",
       "      <td>IiT/P7WfYDcqbhu7tf5V4Q==</td>\n",
       "      <td>-34.582403</td>\n",
       "      <td>-58.443841</td>\n",
       "      <td>Colegiales</td>\n",
       "      <td>Departamento</td>\n",
       "      <td>2.0</td>\n",
       "      <td>1.0</td>\n",
       "      <td>50.0</td>\n",
       "      <td>46.0</td>\n",
       "      <td>148000.0</td>\n",
       "      <td>...</td>\n",
       "      <td>2 ambientes con balcón y vista totalmente abie...</td>\n",
       "      <td>0</td>\n",
       "      <td>1</td>\n",
       "      <td>1</td>\n",
       "      <td>0</td>\n",
       "      <td>0</td>\n",
       "      <td>0</td>\n",
       "      <td>0</td>\n",
       "      <td>0</td>\n",
       "      <td>no aplica</td>\n",
       "    </tr>\n",
       "    <tr>\n",
       "      <th>2</th>\n",
       "      <td>6XXcElx/4OwCcH4NI06Oiw==</td>\n",
       "      <td>-34.605825</td>\n",
       "      <td>-58.422214</td>\n",
       "      <td>Almagro</td>\n",
       "      <td>Departamento</td>\n",
       "      <td>3.0</td>\n",
       "      <td>2.0</td>\n",
       "      <td>47.0</td>\n",
       "      <td>47.0</td>\n",
       "      <td>89000.0</td>\n",
       "      <td>...</td>\n",
       "      <td>**DIAZ VELEZ 4291 Y PRINGLES** Almagro.&lt;br&gt;&lt;br...</td>\n",
       "      <td>0</td>\n",
       "      <td>0</td>\n",
       "      <td>0</td>\n",
       "      <td>0</td>\n",
       "      <td>0</td>\n",
       "      <td>0</td>\n",
       "      <td>0</td>\n",
       "      <td>0</td>\n",
       "      <td>no aplica</td>\n",
       "    </tr>\n",
       "    <tr>\n",
       "      <th>3</th>\n",
       "      <td>8R7hSzqWFk9rX4wBXxfORA==</td>\n",
       "      <td>-34.561971</td>\n",
       "      <td>-58.455670</td>\n",
       "      <td>Belgrano</td>\n",
       "      <td>Departamento</td>\n",
       "      <td>2.0</td>\n",
       "      <td>1.0</td>\n",
       "      <td>52.0</td>\n",
       "      <td>48.0</td>\n",
       "      <td>127000.0</td>\n",
       "      <td>...</td>\n",
       "      <td>IMPECABLE 2 AMBIENTES A ESTRENAR!&lt;...</td>\n",
       "      <td>0</td>\n",
       "      <td>0</td>\n",
       "      <td>1</td>\n",
       "      <td>0</td>\n",
       "      <td>0</td>\n",
       "      <td>1</td>\n",
       "      <td>0</td>\n",
       "      <td>0</td>\n",
       "      <td>medias</td>\n",
       "    </tr>\n",
       "    <tr>\n",
       "      <th>4</th>\n",
       "      <td>UAKYqQx9s0MfIdLzrJv8Ig==</td>\n",
       "      <td>-34.606738</td>\n",
       "      <td>-58.389426</td>\n",
       "      <td>Tribunales</td>\n",
       "      <td>Departamento</td>\n",
       "      <td>3.0</td>\n",
       "      <td>2.0</td>\n",
       "      <td>76.0</td>\n",
       "      <td>75.0</td>\n",
       "      <td>129900.0</td>\n",
       "      <td>...</td>\n",
       "      <td>Excelente piso antiguo, lindísimo por sus tech...</td>\n",
       "      <td>0</td>\n",
       "      <td>0</td>\n",
       "      <td>1</td>\n",
       "      <td>0</td>\n",
       "      <td>0</td>\n",
       "      <td>0</td>\n",
       "      <td>0</td>\n",
       "      <td>0</td>\n",
       "      <td>no aplica</td>\n",
       "    </tr>\n",
       "  </tbody>\n",
       "</table>\n",
       "<p>5 rows × 23 columns</p>\n",
       "</div>"
      ],
      "text/plain": [
       "                         id    latitud   longitud    place_l3 property_type  \\\n",
       "0  F5IvmD1uzzdIR7b96ozt4g== -34.558855 -58.452458       Nuñez  Departamento   \n",
       "1  IiT/P7WfYDcqbhu7tf5V4Q== -34.582403 -58.443841  Colegiales  Departamento   \n",
       "2  6XXcElx/4OwCcH4NI06Oiw== -34.605825 -58.422214     Almagro  Departamento   \n",
       "3  8R7hSzqWFk9rX4wBXxfORA== -34.561971 -58.455670    Belgrano  Departamento   \n",
       "4  UAKYqQx9s0MfIdLzrJv8Ig== -34.606738 -58.389426  Tribunales  Departamento   \n",
       "\n",
       "   property_rooms  property_bedrooms  property_surface_total  \\\n",
       "0             4.0                3.0                   160.0   \n",
       "1             2.0                1.0                    50.0   \n",
       "2             3.0                2.0                    47.0   \n",
       "3             2.0                1.0                    52.0   \n",
       "4             3.0                2.0                    76.0   \n",
       "\n",
       "   property_surface_covered  property_price  ...  \\\n",
       "0                     146.0        460000.0  ...   \n",
       "1                      46.0        148000.0  ...   \n",
       "2                      47.0         89000.0  ...   \n",
       "3                      48.0        127000.0  ...   \n",
       "4                      75.0        129900.0  ...   \n",
       "\n",
       "                                property_description  piscina cochera balcon  \\\n",
       "0  Hermoso piso de 4 ambientes con dependencia y ...        0       1      1   \n",
       "1  2 ambientes con balcón y vista totalmente abie...        0       1      1   \n",
       "2  **DIAZ VELEZ 4291 Y PRINGLES** Almagro.<br><br...        0       0      0   \n",
       "3              IMPECABLE 2 AMBIENTES A ESTRENAR!<...        0       0      1   \n",
       "4  Excelente piso antiguo, lindísimo por sus tech...        0       0      1   \n",
       "\n",
       "   hidromasaje  gimnasio  a_estrenar  quincho  sum  expensas_tipo  \n",
       "0            0         0           0        0    0      no aplica  \n",
       "1            0         0           0        0    0      no aplica  \n",
       "2            0         0           0        0    0      no aplica  \n",
       "3            0         0           1        0    0         medias  \n",
       "4            0         0           0        0    0      no aplica  \n",
       "\n",
       "[5 rows x 23 columns]"
      ]
     },
     "execution_count": 213,
     "metadata": {},
     "output_type": "execute_result"
    }
   ],
   "source": [
    "ds_propiedades_xgboost.head()"
   ]
  },
  {
   "cell_type": "markdown",
   "metadata": {},
   "source": [
    "Separamos en columnas dummies para property_type, place_l3 y expensas_tipo"
   ]
  },
  {
   "cell_type": "code",
   "execution_count": 214,
   "metadata": {},
   "outputs": [],
   "source": [
    "ds_propiedades_xgboost = pd.get_dummies(ds_propiedades_xgboost, columns=['property_type', 'place_l3', 'expensas_tipo'])"
   ]
  },
  {
   "cell_type": "code",
   "execution_count": 215,
   "metadata": {},
   "outputs": [],
   "source": [
    "ds_propiedades_xgboost.drop(columns=['property_description', 'property_title', 'id', 'tipo_precio', 'pxm2'], inplace=True)"
   ]
  },
  {
   "cell_type": "code",
   "execution_count": 216,
   "metadata": {},
   "outputs": [
    {
     "data": {
      "text/html": [
       "<div>\n",
       "<style scoped>\n",
       "    .dataframe tbody tr th:only-of-type {\n",
       "        vertical-align: middle;\n",
       "    }\n",
       "\n",
       "    .dataframe tbody tr th {\n",
       "        vertical-align: top;\n",
       "    }\n",
       "\n",
       "    .dataframe thead th {\n",
       "        text-align: right;\n",
       "    }\n",
       "</style>\n",
       "<table border=\"1\" class=\"dataframe\">\n",
       "  <thead>\n",
       "    <tr style=\"text-align: right;\">\n",
       "      <th></th>\n",
       "      <th>latitud</th>\n",
       "      <th>longitud</th>\n",
       "      <th>property_rooms</th>\n",
       "      <th>property_bedrooms</th>\n",
       "      <th>property_surface_total</th>\n",
       "      <th>property_surface_covered</th>\n",
       "      <th>property_price</th>\n",
       "      <th>piscina</th>\n",
       "      <th>cochera</th>\n",
       "      <th>balcon</th>\n",
       "      <th>...</th>\n",
       "      <th>place_l3_Villa Riachuelo</th>\n",
       "      <th>place_l3_Villa Santa Rita</th>\n",
       "      <th>place_l3_Villa Soldati</th>\n",
       "      <th>place_l3_Villa Urquiza</th>\n",
       "      <th>place_l3_Villa del Parque</th>\n",
       "      <th>expensas_tipo_altas</th>\n",
       "      <th>expensas_tipo_bajas</th>\n",
       "      <th>expensas_tipo_medias</th>\n",
       "      <th>expensas_tipo_no aplica</th>\n",
       "      <th>expensas_tipo_sin</th>\n",
       "    </tr>\n",
       "  </thead>\n",
       "  <tbody>\n",
       "    <tr>\n",
       "      <th>0</th>\n",
       "      <td>-34.558855</td>\n",
       "      <td>-58.452458</td>\n",
       "      <td>4.0</td>\n",
       "      <td>3.0</td>\n",
       "      <td>160.0</td>\n",
       "      <td>146.0</td>\n",
       "      <td>460000.0</td>\n",
       "      <td>0</td>\n",
       "      <td>1</td>\n",
       "      <td>1</td>\n",
       "      <td>...</td>\n",
       "      <td>0</td>\n",
       "      <td>0</td>\n",
       "      <td>0</td>\n",
       "      <td>0</td>\n",
       "      <td>0</td>\n",
       "      <td>0</td>\n",
       "      <td>0</td>\n",
       "      <td>0</td>\n",
       "      <td>1</td>\n",
       "      <td>0</td>\n",
       "    </tr>\n",
       "    <tr>\n",
       "      <th>1</th>\n",
       "      <td>-34.582403</td>\n",
       "      <td>-58.443841</td>\n",
       "      <td>2.0</td>\n",
       "      <td>1.0</td>\n",
       "      <td>50.0</td>\n",
       "      <td>46.0</td>\n",
       "      <td>148000.0</td>\n",
       "      <td>0</td>\n",
       "      <td>1</td>\n",
       "      <td>1</td>\n",
       "      <td>...</td>\n",
       "      <td>0</td>\n",
       "      <td>0</td>\n",
       "      <td>0</td>\n",
       "      <td>0</td>\n",
       "      <td>0</td>\n",
       "      <td>0</td>\n",
       "      <td>0</td>\n",
       "      <td>0</td>\n",
       "      <td>1</td>\n",
       "      <td>0</td>\n",
       "    </tr>\n",
       "    <tr>\n",
       "      <th>2</th>\n",
       "      <td>-34.605825</td>\n",
       "      <td>-58.422214</td>\n",
       "      <td>3.0</td>\n",
       "      <td>2.0</td>\n",
       "      <td>47.0</td>\n",
       "      <td>47.0</td>\n",
       "      <td>89000.0</td>\n",
       "      <td>0</td>\n",
       "      <td>0</td>\n",
       "      <td>0</td>\n",
       "      <td>...</td>\n",
       "      <td>0</td>\n",
       "      <td>0</td>\n",
       "      <td>0</td>\n",
       "      <td>0</td>\n",
       "      <td>0</td>\n",
       "      <td>0</td>\n",
       "      <td>0</td>\n",
       "      <td>0</td>\n",
       "      <td>1</td>\n",
       "      <td>0</td>\n",
       "    </tr>\n",
       "    <tr>\n",
       "      <th>3</th>\n",
       "      <td>-34.561971</td>\n",
       "      <td>-58.455670</td>\n",
       "      <td>2.0</td>\n",
       "      <td>1.0</td>\n",
       "      <td>52.0</td>\n",
       "      <td>48.0</td>\n",
       "      <td>127000.0</td>\n",
       "      <td>0</td>\n",
       "      <td>0</td>\n",
       "      <td>1</td>\n",
       "      <td>...</td>\n",
       "      <td>0</td>\n",
       "      <td>0</td>\n",
       "      <td>0</td>\n",
       "      <td>0</td>\n",
       "      <td>0</td>\n",
       "      <td>0</td>\n",
       "      <td>0</td>\n",
       "      <td>1</td>\n",
       "      <td>0</td>\n",
       "      <td>0</td>\n",
       "    </tr>\n",
       "    <tr>\n",
       "      <th>4</th>\n",
       "      <td>-34.606738</td>\n",
       "      <td>-58.389426</td>\n",
       "      <td>3.0</td>\n",
       "      <td>2.0</td>\n",
       "      <td>76.0</td>\n",
       "      <td>75.0</td>\n",
       "      <td>129900.0</td>\n",
       "      <td>0</td>\n",
       "      <td>0</td>\n",
       "      <td>1</td>\n",
       "      <td>...</td>\n",
       "      <td>0</td>\n",
       "      <td>0</td>\n",
       "      <td>0</td>\n",
       "      <td>0</td>\n",
       "      <td>0</td>\n",
       "      <td>0</td>\n",
       "      <td>0</td>\n",
       "      <td>0</td>\n",
       "      <td>1</td>\n",
       "      <td>0</td>\n",
       "    </tr>\n",
       "  </tbody>\n",
       "</table>\n",
       "<p>5 rows × 80 columns</p>\n",
       "</div>"
      ],
      "text/plain": [
       "     latitud   longitud  property_rooms  property_bedrooms  \\\n",
       "0 -34.558855 -58.452458             4.0                3.0   \n",
       "1 -34.582403 -58.443841             2.0                1.0   \n",
       "2 -34.605825 -58.422214             3.0                2.0   \n",
       "3 -34.561971 -58.455670             2.0                1.0   \n",
       "4 -34.606738 -58.389426             3.0                2.0   \n",
       "\n",
       "   property_surface_total  property_surface_covered  property_price  piscina  \\\n",
       "0                   160.0                     146.0        460000.0        0   \n",
       "1                    50.0                      46.0        148000.0        0   \n",
       "2                    47.0                      47.0         89000.0        0   \n",
       "3                    52.0                      48.0        127000.0        0   \n",
       "4                    76.0                      75.0        129900.0        0   \n",
       "\n",
       "   cochera  balcon  ...  place_l3_Villa Riachuelo  place_l3_Villa Santa Rita  \\\n",
       "0        1       1  ...                         0                          0   \n",
       "1        1       1  ...                         0                          0   \n",
       "2        0       0  ...                         0                          0   \n",
       "3        0       1  ...                         0                          0   \n",
       "4        0       1  ...                         0                          0   \n",
       "\n",
       "   place_l3_Villa Soldati  place_l3_Villa Urquiza  place_l3_Villa del Parque  \\\n",
       "0                       0                       0                          0   \n",
       "1                       0                       0                          0   \n",
       "2                       0                       0                          0   \n",
       "3                       0                       0                          0   \n",
       "4                       0                       0                          0   \n",
       "\n",
       "   expensas_tipo_altas  expensas_tipo_bajas  expensas_tipo_medias  \\\n",
       "0                    0                    0                     0   \n",
       "1                    0                    0                     0   \n",
       "2                    0                    0                     0   \n",
       "3                    0                    0                     1   \n",
       "4                    0                    0                     0   \n",
       "\n",
       "   expensas_tipo_no aplica  expensas_tipo_sin  \n",
       "0                        1                  0  \n",
       "1                        1                  0  \n",
       "2                        1                  0  \n",
       "3                        0                  0  \n",
       "4                        1                  0  \n",
       "\n",
       "[5 rows x 80 columns]"
      ]
     },
     "execution_count": 216,
     "metadata": {},
     "output_type": "execute_result"
    }
   ],
   "source": [
    "ds_propiedades_xgboost.head()"
   ]
  },
  {
   "cell_type": "code",
   "execution_count": 217,
   "metadata": {},
   "outputs": [],
   "source": [
    "from sklearn.model_selection import train_test_split\n",
    "from sklearn import metrics\n",
    "import xgboost as xgb\n",
    "\n",
    "x_train, x_test, y_train, y_test = train_test_split(ds_propiedades_xgboost, ds_propiedades_xgboost['property_price'], test_size=0.20, random_state=1)\n",
    "x_train.drop(columns=['property_price'], inplace=True)\n",
    "x_test.drop(columns=['property_price'], inplace=True)"
   ]
  },
  {
   "cell_type": "markdown",
   "metadata": {},
   "source": [
    "### Modelo inicial sin optimizar (con los hiperparametros del TP1)"
   ]
  },
  {
   "cell_type": "markdown",
   "metadata": {},
   "source": [
    "En el tp1 hicimos una optimizacion de hiperparametros con StratifiedKFold pero no logramos mejoria, por lo que los hiperparametros son los default del modelo"
   ]
  },
  {
   "cell_type": "code",
   "execution_count": 218,
   "metadata": {},
   "outputs": [],
   "source": [
    "xgb_model = xgb.XGBRegressor(objective = 'reg:squarederror', random_state=1)"
   ]
  },
  {
   "cell_type": "code",
   "execution_count": 219,
   "metadata": {},
   "outputs": [],
   "source": [
    "xgb_model.fit(x_train, y_train)\n",
    "\n",
    "y_pred = xgb_model.predict(x_test)"
   ]
  },
  {
   "cell_type": "code",
   "execution_count": 220,
   "metadata": {},
   "outputs": [
    {
     "data": {
      "text/html": [
       "<div>\n",
       "<style scoped>\n",
       "    .dataframe tbody tr th:only-of-type {\n",
       "        vertical-align: middle;\n",
       "    }\n",
       "\n",
       "    .dataframe tbody tr th {\n",
       "        vertical-align: top;\n",
       "    }\n",
       "\n",
       "    .dataframe thead th {\n",
       "        text-align: right;\n",
       "    }\n",
       "</style>\n",
       "<table border=\"1\" class=\"dataframe\">\n",
       "  <thead>\n",
       "    <tr style=\"text-align: right;\">\n",
       "      <th></th>\n",
       "      <th>Valor Real</th>\n",
       "      <th>Prediccion</th>\n",
       "      <th>Error</th>\n",
       "    </tr>\n",
       "  </thead>\n",
       "  <tbody>\n",
       "    <tr>\n",
       "      <th>11387</th>\n",
       "      <td>170000.0</td>\n",
       "      <td>183790.640625</td>\n",
       "      <td>-13790.640625</td>\n",
       "    </tr>\n",
       "    <tr>\n",
       "      <th>78283</th>\n",
       "      <td>360000.0</td>\n",
       "      <td>301092.062500</td>\n",
       "      <td>58907.937500</td>\n",
       "    </tr>\n",
       "    <tr>\n",
       "      <th>15574</th>\n",
       "      <td>280000.0</td>\n",
       "      <td>282107.937500</td>\n",
       "      <td>-2107.937500</td>\n",
       "    </tr>\n",
       "    <tr>\n",
       "      <th>17122</th>\n",
       "      <td>129000.0</td>\n",
       "      <td>146419.031250</td>\n",
       "      <td>-17419.031250</td>\n",
       "    </tr>\n",
       "    <tr>\n",
       "      <th>8069</th>\n",
       "      <td>260000.0</td>\n",
       "      <td>266423.500000</td>\n",
       "      <td>-6423.500000</td>\n",
       "    </tr>\n",
       "  </tbody>\n",
       "</table>\n",
       "</div>"
      ],
      "text/plain": [
       "       Valor Real     Prediccion         Error\n",
       "11387    170000.0  183790.640625 -13790.640625\n",
       "78283    360000.0  301092.062500  58907.937500\n",
       "15574    280000.0  282107.937500  -2107.937500\n",
       "17122    129000.0  146419.031250 -17419.031250\n",
       "8069     260000.0  266423.500000  -6423.500000"
      ]
     },
     "execution_count": 220,
     "metadata": {},
     "output_type": "execute_result"
    }
   ],
   "source": [
    "performance = pd.DataFrame({'Valor Real': y_test,\n",
    "                            'Prediccion': y_pred,\n",
    "                            'Error': y_test - y_pred})\n",
    "\n",
    "performance.head()"
   ]
  },
  {
   "cell_type": "code",
   "execution_count": 221,
   "metadata": {},
   "outputs": [
    {
     "name": "stdout",
     "output_type": "stream",
     "text": [
      "El error (mse) de test es: 1473587857.3848019\n",
      "El error (rmse) de test es: 38387.33980604546\n",
      "El error (rmse) de test relativo es: 22.62140499622676%\n"
     ]
    }
   ],
   "source": [
    "mse = metrics.mean_squared_error(\n",
    "        y_true  = y_test,\n",
    "        y_pred  = y_pred,\n",
    "        squared = True\n",
    "         )\n",
    "\n",
    "print(f\"El error (mse) de test es: {mse}\")\n",
    "\n",
    "rmse = metrics.mean_squared_error(\n",
    "        y_true  = y_test,\n",
    "        y_pred  = y_pred,\n",
    "        squared = False\n",
    "         )\n",
    "\n",
    "print(f\"El error (rmse) de test es: {rmse}\")  \n",
    "print(f\"El error (rmse) de test relativo es: {rmse / y_test.mean() * 100}%\")"
   ]
  },
  {
   "cell_type": "code",
   "execution_count": 222,
   "metadata": {},
   "outputs": [
    {
     "name": "stdout",
     "output_type": "stream",
     "text": [
      "El coeficiente de Determinación R2 en train es: 0.9232276232123919\n",
      "El coeficiente de Determinación R2 en test es: 0.89301154705351\n"
     ]
    }
   ],
   "source": [
    "score_xgb_train = xgb_model.score(x_train, y_train)\n",
    "score_xgb_test = xgb_model.score(x_test, y_test)\n",
    "print(f\"El coeficiente de Determinación R2 en train es: {score_xgb_train}\")\n",
    "print(f\"El coeficiente de Determinación R2 en test es: {score_xgb_test}\")"
   ]
  },
  {
   "cell_type": "markdown",
   "metadata": {},
   "source": [
    "Viendo la comparacion directa contra el mismo modelo en el TP1, podemos ver que el modelo mejoro bastante con los nuevos datos que generamos.\n",
    "\n",
    "El error (mse) de test pasa de 1907948928.924305 -> 1473587857.3848019\n",
    "\n",
    "El error (rmse) de test pasa de 43680.074735791204 -> 38387.33980604546  (12,1% mejor)\n",
    "\n",
    "El R2 en train pasa de 0.8918109411819658 -> 0.9232276232123919 \n",
    "\n",
    "El R2 en test pasa de 0.860060265420469 -> 0.89301154705351\n",
    "\n",
    "\n",
    "Esto demuestra que las variables que generamos a partir de las descripciones son muy utiles para el modelo, y que el modelo mejora bastante con ellas."
   ]
  },
  {
   "cell_type": "markdown",
   "metadata": {},
   "source": [
    "### Probamos optimizar los hiperparametros"
   ]
  },
  {
   "cell_type": "code",
   "execution_count": 223,
   "metadata": {},
   "outputs": [
    {
     "name": "stderr",
     "output_type": "stream",
     "text": [
      "d:\\Programas\\Python\\lib\\site-packages\\sklearn\\model_selection\\_split.py:684: UserWarning: The least populated class in y has only 1 members, which is less than n_splits=5.\n",
      "  warnings.warn(\n"
     ]
    }
   ],
   "source": [
    "import xgboost as xgb\n",
    "from sklearn.model_selection import StratifiedKFold\n",
    "from sklearn.model_selection import RandomizedSearchCV\n",
    "from sklearn.metrics import make_scorer, r2_score\n",
    "\n",
    "\n",
    "xgb_cv = xgb.XGBRegressor(objective = 'reg:squarederror', random_state=2)\n",
    "\n",
    "n=10\n",
    "\n",
    "#xgb param grid\n",
    "xgb_param_grid = {\n",
    "    'n_estimators': [50, 100],\n",
    "    'learning_rate': [0.1, 0.3],\n",
    "    'max_depth': [3, 7],\n",
    "    'gamma': [0.3, 0.4],\n",
    "}\n",
    "\n",
    "folds=5\n",
    "kfoldcv = StratifiedKFold(n_splits=folds, random_state=10,shuffle=True)\n",
    "\n",
    "scorer_fn = make_scorer(r2_score)\n",
    "\n",
    "random_search_cv = RandomizedSearchCV(estimator=xgb_cv,\n",
    "                              param_distributions = xgb_param_grid,\n",
    "                              scoring='neg_mean_squared_error',\n",
    "                              cv=kfoldcv,\n",
    "                              n_iter=n,\n",
    "                              random_state=10) \n",
    "\n",
    "random_fit = random_search_cv.fit(x_train[['property_rooms']], y_train)"
   ]
  },
  {
   "cell_type": "code",
   "execution_count": 224,
   "metadata": {},
   "outputs": [
    {
     "name": "stdout",
     "output_type": "stream",
     "text": [
      "{'n_estimators': 100, 'max_depth': 7, 'learning_rate': 0.1, 'gamma': 0.3}\n"
     ]
    }
   ],
   "source": [
    "print(random_fit.best_params_)"
   ]
  },
  {
   "cell_type": "code",
   "execution_count": 225,
   "metadata": {},
   "outputs": [],
   "source": [
    "parametros = random_fit.best_params_\n",
    "\n",
    "xgb_model = xgb.XGBRegressor(learning_rate=parametros['learning_rate'], n_estimators=parametros['n_estimators'], gamma=parametros['gamma'], max_depth = parametros['max_depth'], random_state=1)\n",
    "\n",
    "model = xgb_model.fit(X = x_train, y = y_train) \n",
    "\n",
    "y_pred = model.predict(x_test)"
   ]
  },
  {
   "cell_type": "code",
   "execution_count": 226,
   "metadata": {},
   "outputs": [
    {
     "data": {
      "text/html": [
       "<div>\n",
       "<style scoped>\n",
       "    .dataframe tbody tr th:only-of-type {\n",
       "        vertical-align: middle;\n",
       "    }\n",
       "\n",
       "    .dataframe tbody tr th {\n",
       "        vertical-align: top;\n",
       "    }\n",
       "\n",
       "    .dataframe thead th {\n",
       "        text-align: right;\n",
       "    }\n",
       "</style>\n",
       "<table border=\"1\" class=\"dataframe\">\n",
       "  <thead>\n",
       "    <tr style=\"text-align: right;\">\n",
       "      <th></th>\n",
       "      <th>Valor Real</th>\n",
       "      <th>Prediccion</th>\n",
       "      <th>Error</th>\n",
       "    </tr>\n",
       "  </thead>\n",
       "  <tbody>\n",
       "    <tr>\n",
       "      <th>11387</th>\n",
       "      <td>170000.0</td>\n",
       "      <td>170586.296875</td>\n",
       "      <td>-586.296875</td>\n",
       "    </tr>\n",
       "    <tr>\n",
       "      <th>78283</th>\n",
       "      <td>360000.0</td>\n",
       "      <td>284469.843750</td>\n",
       "      <td>75530.156250</td>\n",
       "    </tr>\n",
       "    <tr>\n",
       "      <th>15574</th>\n",
       "      <td>280000.0</td>\n",
       "      <td>264595.593750</td>\n",
       "      <td>15404.406250</td>\n",
       "    </tr>\n",
       "    <tr>\n",
       "      <th>17122</th>\n",
       "      <td>129000.0</td>\n",
       "      <td>145836.109375</td>\n",
       "      <td>-16836.109375</td>\n",
       "    </tr>\n",
       "    <tr>\n",
       "      <th>8069</th>\n",
       "      <td>260000.0</td>\n",
       "      <td>258944.703125</td>\n",
       "      <td>1055.296875</td>\n",
       "    </tr>\n",
       "  </tbody>\n",
       "</table>\n",
       "</div>"
      ],
      "text/plain": [
       "       Valor Real     Prediccion         Error\n",
       "11387    170000.0  170586.296875   -586.296875\n",
       "78283    360000.0  284469.843750  75530.156250\n",
       "15574    280000.0  264595.593750  15404.406250\n",
       "17122    129000.0  145836.109375 -16836.109375\n",
       "8069     260000.0  258944.703125   1055.296875"
      ]
     },
     "execution_count": 226,
     "metadata": {},
     "output_type": "execute_result"
    }
   ],
   "source": [
    "performance = pd.DataFrame({'Valor Real': y_test,\n",
    "                            'Prediccion': y_pred,\n",
    "                            'Error': y_test - y_pred})\n",
    "\n",
    "\n",
    "performance.head()"
   ]
  },
  {
   "cell_type": "code",
   "execution_count": 227,
   "metadata": {},
   "outputs": [
    {
     "name": "stdout",
     "output_type": "stream",
     "text": [
      "El error (mse) de test es: 1515631827.2171123\n",
      "El error (rmse) de test es: 38931.11643938705\n",
      "El error (rmse) de test relativo es: 22.941848963234023%\n"
     ]
    }
   ],
   "source": [
    "mse = metrics.mean_squared_error(\n",
    "        y_true  = y_test,\n",
    "        y_pred  = y_pred,\n",
    "        squared = True\n",
    "         )\n",
    "\n",
    "print(f\"El error (mse) de test es: {mse}\")\n",
    "\n",
    "rmse = metrics.mean_squared_error(\n",
    "        y_true  = y_test,\n",
    "        y_pred  = y_pred,\n",
    "        squared = False\n",
    "         )\n",
    "\n",
    "print(f\"El error (rmse) de test es: {rmse}\")  \n",
    "print(f\"El error (rmse) de test relativo es: {rmse / y_test.mean() * 100}%\")"
   ]
  },
  {
   "cell_type": "code",
   "execution_count": 228,
   "metadata": {},
   "outputs": [
    {
     "name": "stdout",
     "output_type": "stream",
     "text": [
      "El coeficiente de Determinación R2 en train es: 0.9123206582983798\n",
      "El coeficiente de Determinación R2 en test es: 0.8899589843810198\n"
     ]
    }
   ],
   "source": [
    "#Coef. de Determinación R2\n",
    "score_xgb_train = xgb_model.score(x_train, y_train)\n",
    "score_xgb_test = xgb_model.score(x_test, y_test)\n",
    "print(f\"El coeficiente de Determinación R2 en train es: {score_xgb_train}\")\n",
    "print(f\"El coeficiente de Determinación R2 en test es: {score_xgb_test}\")"
   ]
  },
  {
   "cell_type": "markdown",
   "metadata": {},
   "source": [
    "La busqueda de hiperparametros encuentra una configuracion con un resultado similar al modelo inicial, pero con un tiempo de entrenamiento mucho mayor. Por esto mantenemos el modelo inicial."
   ]
  },
  {
   "cell_type": "markdown",
   "metadata": {},
   "source": [
    "# <center> Redes Neuronales <center/> "
   ]
  },
  {
   "cell_type": "markdown",
   "metadata": {},
   "source": [
    "## Clasificacion"
   ]
  },
  {
   "cell_type": "code",
   "execution_count": 229,
   "metadata": {},
   "outputs": [],
   "source": [
    "from sklearn.preprocessing import MinMaxScaler\n",
    "from sklearn.metrics import f1_score,  recall_score, precision_score, accuracy_score\n",
    "from sklearn.preprocessing import StandardScaler\n",
    "\n",
    "import tensorflow as tf\n",
    "from tensorflow import keras\n",
    "from keras.utils.vis_utils import plot_model\n",
    "\n",
    "import warnings\n",
    "warnings.simplefilter(action='ignore', category=FutureWarning)"
   ]
  },
  {
   "cell_type": "code",
   "execution_count": 230,
   "metadata": {},
   "outputs": [
    {
     "data": {
      "text/html": [
       "<div>\n",
       "<style scoped>\n",
       "    .dataframe tbody tr th:only-of-type {\n",
       "        vertical-align: middle;\n",
       "    }\n",
       "\n",
       "    .dataframe tbody tr th {\n",
       "        vertical-align: top;\n",
       "    }\n",
       "\n",
       "    .dataframe thead th {\n",
       "        text-align: right;\n",
       "    }\n",
       "</style>\n",
       "<table border=\"1\" class=\"dataframe\">\n",
       "  <thead>\n",
       "    <tr style=\"text-align: right;\">\n",
       "      <th></th>\n",
       "      <th>id</th>\n",
       "      <th>latitud</th>\n",
       "      <th>longitud</th>\n",
       "      <th>place_l3</th>\n",
       "      <th>property_type</th>\n",
       "      <th>property_rooms</th>\n",
       "      <th>property_bedrooms</th>\n",
       "      <th>property_surface_total</th>\n",
       "      <th>property_surface_covered</th>\n",
       "      <th>property_price</th>\n",
       "      <th>...</th>\n",
       "      <th>property_description</th>\n",
       "      <th>piscina</th>\n",
       "      <th>cochera</th>\n",
       "      <th>balcon</th>\n",
       "      <th>hidromasaje</th>\n",
       "      <th>gimnasio</th>\n",
       "      <th>a_estrenar</th>\n",
       "      <th>quincho</th>\n",
       "      <th>sum</th>\n",
       "      <th>expensas_tipo</th>\n",
       "    </tr>\n",
       "  </thead>\n",
       "  <tbody>\n",
       "    <tr>\n",
       "      <th>0</th>\n",
       "      <td>F5IvmD1uzzdIR7b96ozt4g==</td>\n",
       "      <td>-34.558855</td>\n",
       "      <td>-58.452458</td>\n",
       "      <td>Nuñez</td>\n",
       "      <td>Departamento</td>\n",
       "      <td>4.0</td>\n",
       "      <td>3.0</td>\n",
       "      <td>160.0</td>\n",
       "      <td>146.0</td>\n",
       "      <td>460000.0</td>\n",
       "      <td>...</td>\n",
       "      <td>Hermoso piso de 4 ambientes con dependencia y ...</td>\n",
       "      <td>0</td>\n",
       "      <td>1</td>\n",
       "      <td>1</td>\n",
       "      <td>0</td>\n",
       "      <td>0</td>\n",
       "      <td>0</td>\n",
       "      <td>0</td>\n",
       "      <td>0</td>\n",
       "      <td>no aplica</td>\n",
       "    </tr>\n",
       "    <tr>\n",
       "      <th>1</th>\n",
       "      <td>IiT/P7WfYDcqbhu7tf5V4Q==</td>\n",
       "      <td>-34.582403</td>\n",
       "      <td>-58.443841</td>\n",
       "      <td>Colegiales</td>\n",
       "      <td>Departamento</td>\n",
       "      <td>2.0</td>\n",
       "      <td>1.0</td>\n",
       "      <td>50.0</td>\n",
       "      <td>46.0</td>\n",
       "      <td>148000.0</td>\n",
       "      <td>...</td>\n",
       "      <td>2 ambientes con balcón y vista totalmente abie...</td>\n",
       "      <td>0</td>\n",
       "      <td>1</td>\n",
       "      <td>1</td>\n",
       "      <td>0</td>\n",
       "      <td>0</td>\n",
       "      <td>0</td>\n",
       "      <td>0</td>\n",
       "      <td>0</td>\n",
       "      <td>no aplica</td>\n",
       "    </tr>\n",
       "    <tr>\n",
       "      <th>2</th>\n",
       "      <td>6XXcElx/4OwCcH4NI06Oiw==</td>\n",
       "      <td>-34.605825</td>\n",
       "      <td>-58.422214</td>\n",
       "      <td>Almagro</td>\n",
       "      <td>Departamento</td>\n",
       "      <td>3.0</td>\n",
       "      <td>2.0</td>\n",
       "      <td>47.0</td>\n",
       "      <td>47.0</td>\n",
       "      <td>89000.0</td>\n",
       "      <td>...</td>\n",
       "      <td>**DIAZ VELEZ 4291 Y PRINGLES** Almagro.&lt;br&gt;&lt;br...</td>\n",
       "      <td>0</td>\n",
       "      <td>0</td>\n",
       "      <td>0</td>\n",
       "      <td>0</td>\n",
       "      <td>0</td>\n",
       "      <td>0</td>\n",
       "      <td>0</td>\n",
       "      <td>0</td>\n",
       "      <td>no aplica</td>\n",
       "    </tr>\n",
       "    <tr>\n",
       "      <th>3</th>\n",
       "      <td>8R7hSzqWFk9rX4wBXxfORA==</td>\n",
       "      <td>-34.561971</td>\n",
       "      <td>-58.455670</td>\n",
       "      <td>Belgrano</td>\n",
       "      <td>Departamento</td>\n",
       "      <td>2.0</td>\n",
       "      <td>1.0</td>\n",
       "      <td>52.0</td>\n",
       "      <td>48.0</td>\n",
       "      <td>127000.0</td>\n",
       "      <td>...</td>\n",
       "      <td>IMPECABLE 2 AMBIENTES A ESTRENAR!&lt;...</td>\n",
       "      <td>0</td>\n",
       "      <td>0</td>\n",
       "      <td>1</td>\n",
       "      <td>0</td>\n",
       "      <td>0</td>\n",
       "      <td>1</td>\n",
       "      <td>0</td>\n",
       "      <td>0</td>\n",
       "      <td>medias</td>\n",
       "    </tr>\n",
       "    <tr>\n",
       "      <th>4</th>\n",
       "      <td>UAKYqQx9s0MfIdLzrJv8Ig==</td>\n",
       "      <td>-34.606738</td>\n",
       "      <td>-58.389426</td>\n",
       "      <td>Tribunales</td>\n",
       "      <td>Departamento</td>\n",
       "      <td>3.0</td>\n",
       "      <td>2.0</td>\n",
       "      <td>76.0</td>\n",
       "      <td>75.0</td>\n",
       "      <td>129900.0</td>\n",
       "      <td>...</td>\n",
       "      <td>Excelente piso antiguo, lindísimo por sus tech...</td>\n",
       "      <td>0</td>\n",
       "      <td>0</td>\n",
       "      <td>1</td>\n",
       "      <td>0</td>\n",
       "      <td>0</td>\n",
       "      <td>0</td>\n",
       "      <td>0</td>\n",
       "      <td>0</td>\n",
       "      <td>no aplica</td>\n",
       "    </tr>\n",
       "  </tbody>\n",
       "</table>\n",
       "<p>5 rows × 23 columns</p>\n",
       "</div>"
      ],
      "text/plain": [
       "                         id    latitud   longitud    place_l3 property_type  \\\n",
       "0  F5IvmD1uzzdIR7b96ozt4g== -34.558855 -58.452458       Nuñez  Departamento   \n",
       "1  IiT/P7WfYDcqbhu7tf5V4Q== -34.582403 -58.443841  Colegiales  Departamento   \n",
       "2  6XXcElx/4OwCcH4NI06Oiw== -34.605825 -58.422214     Almagro  Departamento   \n",
       "3  8R7hSzqWFk9rX4wBXxfORA== -34.561971 -58.455670    Belgrano  Departamento   \n",
       "4  UAKYqQx9s0MfIdLzrJv8Ig== -34.606738 -58.389426  Tribunales  Departamento   \n",
       "\n",
       "   property_rooms  property_bedrooms  property_surface_total  \\\n",
       "0             4.0                3.0                   160.0   \n",
       "1             2.0                1.0                    50.0   \n",
       "2             3.0                2.0                    47.0   \n",
       "3             2.0                1.0                    52.0   \n",
       "4             3.0                2.0                    76.0   \n",
       "\n",
       "   property_surface_covered  property_price  ...  \\\n",
       "0                     146.0        460000.0  ...   \n",
       "1                      46.0        148000.0  ...   \n",
       "2                      47.0         89000.0  ...   \n",
       "3                      48.0        127000.0  ...   \n",
       "4                      75.0        129900.0  ...   \n",
       "\n",
       "                                property_description  piscina cochera balcon  \\\n",
       "0  Hermoso piso de 4 ambientes con dependencia y ...        0       1      1   \n",
       "1  2 ambientes con balcón y vista totalmente abie...        0       1      1   \n",
       "2  **DIAZ VELEZ 4291 Y PRINGLES** Almagro.<br><br...        0       0      0   \n",
       "3              IMPECABLE 2 AMBIENTES A ESTRENAR!<...        0       0      1   \n",
       "4  Excelente piso antiguo, lindísimo por sus tech...        0       0      1   \n",
       "\n",
       "   hidromasaje  gimnasio  a_estrenar  quincho  sum  expensas_tipo  \n",
       "0            0         0           0        0    0      no aplica  \n",
       "1            0         0           0        0    0      no aplica  \n",
       "2            0         0           0        0    0      no aplica  \n",
       "3            0         0           1        0    0         medias  \n",
       "4            0         0           0        0    0      no aplica  \n",
       "\n",
       "[5 rows x 23 columns]"
      ]
     },
     "execution_count": 230,
     "metadata": {},
     "output_type": "execute_result"
    }
   ],
   "source": [
    "ds_propiedades_para_clasificacion = ds_propiedades.copy()\n",
    "\n",
    "ds_propiedades_para_clasificacion.head()"
   ]
  },
  {
   "cell_type": "markdown",
   "metadata": {},
   "source": [
    "Modificamos el dataframe para poder usarlo en la red neuronal. Nos quedamos con las columnas necesarias, normalizamos y modificamos los tipos de datos "
   ]
  },
  {
   "cell_type": "code",
   "execution_count": 231,
   "metadata": {},
   "outputs": [],
   "source": [
    "# Eliminamos estas columnas porque no las necesitamos para el modelo\n",
    "ds_propiedades_para_clasificacion.drop(['property_title', 'id','property_description'], axis=1, inplace=True)\n",
    "\n",
    "#Eliminamos las columnas que tienen info del precio\n",
    "ds_propiedades_para_clasificacion.drop(['property_price', 'pxm2'], axis=1, inplace=True)\n",
    "\n",
    "# One hot encoding de las columnas categóricas\n",
    "ds_propiedades_para_clasificacion = pd.get_dummies(ds_propiedades_para_clasificacion, columns=[\"place_l3\", \"property_type\"], dtype=np.int8)"
   ]
  },
  {
   "cell_type": "code",
   "execution_count": 232,
   "metadata": {},
   "outputs": [],
   "source": [
    "# Convertimos tipo_precio y expensas_tipo a una columna numerica\n",
    "ds_propiedades_para_clasificacion.tipo_precio.replace({'bajo':0,'medio':1,'alto':2}, inplace=True)\n",
    "ds_propiedades_para_clasificacion.expensas_tipo.replace({'sin': -2, 'no aplica':-1,'bajas':0,'medias':1,'altas':2}, inplace=True)"
   ]
  },
  {
   "cell_type": "code",
   "execution_count": 233,
   "metadata": {},
   "outputs": [],
   "source": [
    "# Seleccionamos las columnas que vamos a usar para el modelo\n",
    "columnas_predictoras = ds_propiedades_para_clasificacion.columns.to_list()\n",
    "columnas_predictoras.remove('tipo_precio')\n",
    "d_in=len(columnas_predictoras)"
   ]
  },
  {
   "cell_type": "code",
   "execution_count": 234,
   "metadata": {},
   "outputs": [
    {
     "data": {
      "text/html": [
       "<div>\n",
       "<style scoped>\n",
       "    .dataframe tbody tr th:only-of-type {\n",
       "        vertical-align: middle;\n",
       "    }\n",
       "\n",
       "    .dataframe tbody tr th {\n",
       "        vertical-align: top;\n",
       "    }\n",
       "\n",
       "    .dataframe thead th {\n",
       "        text-align: right;\n",
       "    }\n",
       "</style>\n",
       "<table border=\"1\" class=\"dataframe\">\n",
       "  <thead>\n",
       "    <tr style=\"text-align: right;\">\n",
       "      <th></th>\n",
       "      <th>latitud</th>\n",
       "      <th>longitud</th>\n",
       "      <th>property_rooms</th>\n",
       "      <th>property_bedrooms</th>\n",
       "      <th>property_surface_total</th>\n",
       "      <th>property_surface_covered</th>\n",
       "      <th>tipo_precio</th>\n",
       "      <th>piscina</th>\n",
       "      <th>cochera</th>\n",
       "      <th>balcon</th>\n",
       "      <th>...</th>\n",
       "      <th>place_l3_Villa Pueyrredón</th>\n",
       "      <th>place_l3_Villa Real</th>\n",
       "      <th>place_l3_Villa Riachuelo</th>\n",
       "      <th>place_l3_Villa Santa Rita</th>\n",
       "      <th>place_l3_Villa Soldati</th>\n",
       "      <th>place_l3_Villa Urquiza</th>\n",
       "      <th>place_l3_Villa del Parque</th>\n",
       "      <th>property_type_Casa</th>\n",
       "      <th>property_type_Departamento</th>\n",
       "      <th>property_type_PH</th>\n",
       "    </tr>\n",
       "  </thead>\n",
       "  <tbody>\n",
       "    <tr>\n",
       "      <th>0</th>\n",
       "      <td>0.859587</td>\n",
       "      <td>0.416415</td>\n",
       "      <td>0.500000</td>\n",
       "      <td>0.6</td>\n",
       "      <td>0.477477</td>\n",
       "      <td>0.472313</td>\n",
       "      <td>2</td>\n",
       "      <td>0.0</td>\n",
       "      <td>1.0</td>\n",
       "      <td>1.0</td>\n",
       "      <td>...</td>\n",
       "      <td>0.0</td>\n",
       "      <td>0.0</td>\n",
       "      <td>0.0</td>\n",
       "      <td>0.0</td>\n",
       "      <td>0.0</td>\n",
       "      <td>0.0</td>\n",
       "      <td>0.0</td>\n",
       "      <td>0.0</td>\n",
       "      <td>1.0</td>\n",
       "      <td>0.0</td>\n",
       "    </tr>\n",
       "    <tr>\n",
       "      <th>1</th>\n",
       "      <td>0.715143</td>\n",
       "      <td>0.462460</td>\n",
       "      <td>0.166667</td>\n",
       "      <td>0.2</td>\n",
       "      <td>0.147147</td>\n",
       "      <td>0.146580</td>\n",
       "      <td>2</td>\n",
       "      <td>0.0</td>\n",
       "      <td>1.0</td>\n",
       "      <td>1.0</td>\n",
       "      <td>...</td>\n",
       "      <td>0.0</td>\n",
       "      <td>0.0</td>\n",
       "      <td>0.0</td>\n",
       "      <td>0.0</td>\n",
       "      <td>0.0</td>\n",
       "      <td>0.0</td>\n",
       "      <td>0.0</td>\n",
       "      <td>0.0</td>\n",
       "      <td>1.0</td>\n",
       "      <td>0.0</td>\n",
       "    </tr>\n",
       "    <tr>\n",
       "      <th>2</th>\n",
       "      <td>0.571472</td>\n",
       "      <td>0.578015</td>\n",
       "      <td>0.333333</td>\n",
       "      <td>0.4</td>\n",
       "      <td>0.138138</td>\n",
       "      <td>0.149837</td>\n",
       "      <td>1</td>\n",
       "      <td>0.0</td>\n",
       "      <td>0.0</td>\n",
       "      <td>0.0</td>\n",
       "      <td>...</td>\n",
       "      <td>0.0</td>\n",
       "      <td>0.0</td>\n",
       "      <td>0.0</td>\n",
       "      <td>0.0</td>\n",
       "      <td>0.0</td>\n",
       "      <td>0.0</td>\n",
       "      <td>0.0</td>\n",
       "      <td>0.0</td>\n",
       "      <td>1.0</td>\n",
       "      <td>0.0</td>\n",
       "    </tr>\n",
       "    <tr>\n",
       "      <th>3</th>\n",
       "      <td>0.840478</td>\n",
       "      <td>0.399254</td>\n",
       "      <td>0.166667</td>\n",
       "      <td>0.2</td>\n",
       "      <td>0.153153</td>\n",
       "      <td>0.153094</td>\n",
       "      <td>1</td>\n",
       "      <td>0.0</td>\n",
       "      <td>0.0</td>\n",
       "      <td>1.0</td>\n",
       "      <td>...</td>\n",
       "      <td>0.0</td>\n",
       "      <td>0.0</td>\n",
       "      <td>0.0</td>\n",
       "      <td>0.0</td>\n",
       "      <td>0.0</td>\n",
       "      <td>0.0</td>\n",
       "      <td>0.0</td>\n",
       "      <td>0.0</td>\n",
       "      <td>1.0</td>\n",
       "      <td>0.0</td>\n",
       "    </tr>\n",
       "    <tr>\n",
       "      <th>4</th>\n",
       "      <td>0.565870</td>\n",
       "      <td>0.753212</td>\n",
       "      <td>0.333333</td>\n",
       "      <td>0.4</td>\n",
       "      <td>0.225225</td>\n",
       "      <td>0.241042</td>\n",
       "      <td>0</td>\n",
       "      <td>0.0</td>\n",
       "      <td>0.0</td>\n",
       "      <td>1.0</td>\n",
       "      <td>...</td>\n",
       "      <td>0.0</td>\n",
       "      <td>0.0</td>\n",
       "      <td>0.0</td>\n",
       "      <td>0.0</td>\n",
       "      <td>0.0</td>\n",
       "      <td>0.0</td>\n",
       "      <td>0.0</td>\n",
       "      <td>0.0</td>\n",
       "      <td>1.0</td>\n",
       "      <td>0.0</td>\n",
       "    </tr>\n",
       "  </tbody>\n",
       "</table>\n",
       "<p>5 rows × 76 columns</p>\n",
       "</div>"
      ],
      "text/plain": [
       "    latitud  longitud  property_rooms  property_bedrooms  \\\n",
       "0  0.859587  0.416415        0.500000                0.6   \n",
       "1  0.715143  0.462460        0.166667                0.2   \n",
       "2  0.571472  0.578015        0.333333                0.4   \n",
       "3  0.840478  0.399254        0.166667                0.2   \n",
       "4  0.565870  0.753212        0.333333                0.4   \n",
       "\n",
       "   property_surface_total  property_surface_covered  tipo_precio  piscina  \\\n",
       "0                0.477477                  0.472313            2      0.0   \n",
       "1                0.147147                  0.146580            2      0.0   \n",
       "2                0.138138                  0.149837            1      0.0   \n",
       "3                0.153153                  0.153094            1      0.0   \n",
       "4                0.225225                  0.241042            0      0.0   \n",
       "\n",
       "   cochera  balcon  ...  place_l3_Villa Pueyrredón  place_l3_Villa Real  \\\n",
       "0      1.0     1.0  ...                        0.0                  0.0   \n",
       "1      1.0     1.0  ...                        0.0                  0.0   \n",
       "2      0.0     0.0  ...                        0.0                  0.0   \n",
       "3      0.0     1.0  ...                        0.0                  0.0   \n",
       "4      0.0     1.0  ...                        0.0                  0.0   \n",
       "\n",
       "   place_l3_Villa Riachuelo  place_l3_Villa Santa Rita  \\\n",
       "0                       0.0                        0.0   \n",
       "1                       0.0                        0.0   \n",
       "2                       0.0                        0.0   \n",
       "3                       0.0                        0.0   \n",
       "4                       0.0                        0.0   \n",
       "\n",
       "   place_l3_Villa Soldati  place_l3_Villa Urquiza  place_l3_Villa del Parque  \\\n",
       "0                     0.0                     0.0                        0.0   \n",
       "1                     0.0                     0.0                        0.0   \n",
       "2                     0.0                     0.0                        0.0   \n",
       "3                     0.0                     0.0                        0.0   \n",
       "4                     0.0                     0.0                        0.0   \n",
       "\n",
       "   property_type_Casa  property_type_Departamento  property_type_PH  \n",
       "0                 0.0                         1.0               0.0  \n",
       "1                 0.0                         1.0               0.0  \n",
       "2                 0.0                         1.0               0.0  \n",
       "3                 0.0                         1.0               0.0  \n",
       "4                 0.0                         1.0               0.0  \n",
       "\n",
       "[5 rows x 76 columns]"
      ]
     },
     "execution_count": 234,
     "metadata": {},
     "output_type": "execute_result"
    }
   ],
   "source": [
    "# Normalizamos las variables de entrada\n",
    "scaler = MinMaxScaler()\n",
    "ds_propiedades_para_clasificacion[columnas_predictoras] = scaler.fit_transform(ds_propiedades_para_clasificacion[columnas_predictoras])\n",
    "ds_propiedades_para_clasificacion\n",
    "\n",
    "ds_propiedades_para_clasificacion.astype('float32', copy=False)\n",
    "\n",
    "ds_propiedades_para_clasificacion.head()"
   ]
  },
  {
   "cell_type": "code",
   "execution_count": 235,
   "metadata": {},
   "outputs": [],
   "source": [
    "# Separamos en train y test\n",
    "x_train, x_test, y_train, y_test = train_test_split(ds_propiedades_para_clasificacion.loc[:,columnas_predictoras],ds_propiedades_para_clasificacion.loc[:,'tipo_precio'], test_size=0.20, random_state=1)"
   ]
  },
  {
   "cell_type": "markdown",
   "metadata": {},
   "source": [
    "Creamos la red neuronal"
   ]
  },
  {
   "cell_type": "markdown",
   "metadata": {},
   "source": [
    "Ya sabemos que las clases son 3, igualmente las calculamos?"
   ]
  },
  {
   "cell_type": "code",
   "execution_count": 236,
   "metadata": {},
   "outputs": [
    {
     "name": "stdout",
     "output_type": "stream",
     "text": [
      "Model: \"sequential_7\"\n",
      "_________________________________________________________________\n",
      " Layer (type)                Output Shape              Param #   \n",
      "=================================================================\n",
      " dense_32 (Dense)            (None, 5)                 380       \n",
      "                                                                 \n",
      " dense_33 (Dense)            (None, 5)                 30        \n",
      "                                                                 \n",
      " dense_34 (Dense)            (None, 3)                 18        \n",
      "                                                                 \n",
      "=================================================================\n",
      "Total params: 428\n",
      "Trainable params: 428\n",
      "Non-trainable params: 0\n",
      "_________________________________________________________________\n"
     ]
    }
   ],
   "source": [
    "# calcula la cantidad de clases posibles para clasificar\n",
    "classes = int(ds_propiedades_para_clasificacion.loc[:,'tipo_precio'].max()+1)\n",
    "\n",
    "\n",
    "modelo = keras.Sequential([\n",
    "    # input_shape solo en la primer capa\n",
    "    # Capa con 3 salidas, activación relu\n",
    "    keras.layers.Dense(5,input_shape=(d_in,), activation='relu'),\n",
    "\n",
    "    # keras.layers.Dense(5, activation='tanh'),\n",
    "    # keras.layers.Dense(5, activation='relu'),\n",
    "    keras.layers.Dense(5, activation='sigmoid'),\n",
    "\n",
    "    #la ultima capa si o si tiene que tener tantas salidas como clases, y softmax\n",
    "    keras.layers.Dense(classes, activation='softmax')])\n",
    "\n",
    "modelo.summary()"
   ]
  },
  {
   "cell_type": "code",
   "execution_count": 237,
   "metadata": {},
   "outputs": [
    {
     "name": "stdout",
     "output_type": "stream",
     "text": [
      "Epoch 1/150\n",
      "343/343 [==============================] - 0s 696us/step - loss: 1.0338 - accuracy: 0.4987\n",
      "Epoch 2/150\n",
      "343/343 [==============================] - 0s 684us/step - loss: 0.9550 - accuracy: 0.5096\n",
      "Epoch 3/150\n",
      "343/343 [==============================] - 0s 687us/step - loss: 0.8406 - accuracy: 0.6040\n",
      "Epoch 4/150\n",
      "343/343 [==============================] - 0s 684us/step - loss: 0.7977 - accuracy: 0.6322\n",
      "Epoch 5/150\n",
      "343/343 [==============================] - 0s 690us/step - loss: 0.7797 - accuracy: 0.6409\n",
      "Epoch 6/150\n",
      "343/343 [==============================] - 0s 693us/step - loss: 0.7682 - accuracy: 0.6447\n",
      "Epoch 7/150\n",
      "343/343 [==============================] - 0s 717us/step - loss: 0.7605 - accuracy: 0.6483\n",
      "Epoch 8/150\n",
      "343/343 [==============================] - 0s 702us/step - loss: 0.7552 - accuracy: 0.6510\n",
      "Epoch 9/150\n",
      "343/343 [==============================] - 0s 696us/step - loss: 0.7504 - accuracy: 0.6523\n",
      "Epoch 10/150\n",
      "343/343 [==============================] - 0s 690us/step - loss: 0.7472 - accuracy: 0.6542\n",
      "Epoch 11/150\n",
      "343/343 [==============================] - 0s 693us/step - loss: 0.7442 - accuracy: 0.6551\n",
      "Epoch 12/150\n",
      "343/343 [==============================] - 0s 690us/step - loss: 0.7416 - accuracy: 0.6577\n",
      "Epoch 13/150\n",
      "343/343 [==============================] - 0s 699us/step - loss: 0.7392 - accuracy: 0.6582\n",
      "Epoch 14/150\n",
      "343/343 [==============================] - 0s 690us/step - loss: 0.7368 - accuracy: 0.6604\n",
      "Epoch 15/150\n",
      "343/343 [==============================] - 0s 693us/step - loss: 0.7345 - accuracy: 0.6600\n",
      "Epoch 16/150\n",
      "343/343 [==============================] - 0s 696us/step - loss: 0.7329 - accuracy: 0.6610\n",
      "Epoch 17/150\n",
      "343/343 [==============================] - 0s 696us/step - loss: 0.7310 - accuracy: 0.6620\n",
      "Epoch 18/150\n",
      "343/343 [==============================] - 0s 687us/step - loss: 0.7291 - accuracy: 0.6635\n",
      "Epoch 19/150\n",
      "343/343 [==============================] - 0s 696us/step - loss: 0.7279 - accuracy: 0.6640\n",
      "Epoch 20/150\n",
      "343/343 [==============================] - 0s 699us/step - loss: 0.7255 - accuracy: 0.6653\n",
      "Epoch 21/150\n",
      "343/343 [==============================] - 0s 693us/step - loss: 0.7249 - accuracy: 0.6657\n",
      "Epoch 22/150\n",
      "343/343 [==============================] - 0s 696us/step - loss: 0.7236 - accuracy: 0.6658\n",
      "Epoch 23/150\n",
      "343/343 [==============================] - 0s 687us/step - loss: 0.7218 - accuracy: 0.6668\n",
      "Epoch 24/150\n",
      "343/343 [==============================] - 0s 699us/step - loss: 0.7220 - accuracy: 0.6666\n",
      "Epoch 25/150\n",
      "343/343 [==============================] - 0s 693us/step - loss: 0.7204 - accuracy: 0.6673\n",
      "Epoch 26/150\n",
      "343/343 [==============================] - 0s 693us/step - loss: 0.7193 - accuracy: 0.6678\n",
      "Epoch 27/150\n",
      "343/343 [==============================] - 0s 717us/step - loss: 0.7178 - accuracy: 0.6685\n",
      "Epoch 28/150\n",
      "343/343 [==============================] - 0s 705us/step - loss: 0.7175 - accuracy: 0.6691\n",
      "Epoch 29/150\n",
      "343/343 [==============================] - 0s 693us/step - loss: 0.7166 - accuracy: 0.6688\n",
      "Epoch 30/150\n",
      "343/343 [==============================] - 0s 725us/step - loss: 0.7160 - accuracy: 0.6689\n",
      "Epoch 31/150\n",
      "343/343 [==============================] - 0s 699us/step - loss: 0.7162 - accuracy: 0.6683\n",
      "Epoch 32/150\n",
      "343/343 [==============================] - 0s 696us/step - loss: 0.7149 - accuracy: 0.6686\n",
      "Epoch 33/150\n",
      "343/343 [==============================] - 0s 722us/step - loss: 0.7148 - accuracy: 0.6691\n",
      "Epoch 34/150\n",
      "343/343 [==============================] - 0s 693us/step - loss: 0.7143 - accuracy: 0.6687\n",
      "Epoch 35/150\n",
      "343/343 [==============================] - 0s 828us/step - loss: 0.7143 - accuracy: 0.6704\n",
      "Epoch 36/150\n",
      "343/343 [==============================] - 0s 699us/step - loss: 0.7140 - accuracy: 0.6702\n",
      "Epoch 37/150\n",
      "343/343 [==============================] - 0s 755us/step - loss: 0.7132 - accuracy: 0.6702\n",
      "Epoch 38/150\n",
      "343/343 [==============================] - 0s 690us/step - loss: 0.7133 - accuracy: 0.6715\n",
      "Epoch 39/150\n",
      "343/343 [==============================] - 0s 693us/step - loss: 0.7132 - accuracy: 0.6716\n",
      "Epoch 40/150\n",
      "343/343 [==============================] - 0s 687us/step - loss: 0.7128 - accuracy: 0.6696\n",
      "Epoch 41/150\n",
      "343/343 [==============================] - 0s 714us/step - loss: 0.7123 - accuracy: 0.6699\n",
      "Epoch 42/150\n",
      "343/343 [==============================] - 0s 693us/step - loss: 0.7117 - accuracy: 0.6708\n",
      "Epoch 43/150\n",
      "343/343 [==============================] - 0s 717us/step - loss: 0.7116 - accuracy: 0.6710\n",
      "Epoch 44/150\n",
      "343/343 [==============================] - 0s 696us/step - loss: 0.7111 - accuracy: 0.6720\n",
      "Epoch 45/150\n",
      "343/343 [==============================] - 0s 696us/step - loss: 0.7111 - accuracy: 0.6720\n",
      "Epoch 46/150\n",
      "343/343 [==============================] - 0s 687us/step - loss: 0.7113 - accuracy: 0.6712\n",
      "Epoch 47/150\n",
      "343/343 [==============================] - 0s 690us/step - loss: 0.7114 - accuracy: 0.6707\n",
      "Epoch 48/150\n",
      "343/343 [==============================] - 0s 696us/step - loss: 0.7108 - accuracy: 0.6715\n",
      "Epoch 49/150\n",
      "343/343 [==============================] - 0s 696us/step - loss: 0.7113 - accuracy: 0.6714\n",
      "Epoch 50/150\n",
      "343/343 [==============================] - 0s 696us/step - loss: 0.7104 - accuracy: 0.6719\n",
      "Epoch 51/150\n",
      "343/343 [==============================] - 0s 693us/step - loss: 0.7095 - accuracy: 0.6713\n",
      "Epoch 52/150\n",
      "343/343 [==============================] - 0s 690us/step - loss: 0.7106 - accuracy: 0.6726\n",
      "Epoch 53/150\n",
      "343/343 [==============================] - 0s 693us/step - loss: 0.7099 - accuracy: 0.6730\n",
      "Epoch 54/150\n",
      "343/343 [==============================] - 0s 690us/step - loss: 0.7098 - accuracy: 0.6715\n",
      "Epoch 55/150\n",
      "343/343 [==============================] - 0s 696us/step - loss: 0.7097 - accuracy: 0.6721\n",
      "Epoch 56/150\n",
      "343/343 [==============================] - 0s 690us/step - loss: 0.7091 - accuracy: 0.6726\n",
      "Epoch 57/150\n",
      "343/343 [==============================] - 0s 693us/step - loss: 0.7090 - accuracy: 0.6715\n",
      "Epoch 58/150\n",
      "343/343 [==============================] - 0s 687us/step - loss: 0.7091 - accuracy: 0.6729\n",
      "Epoch 59/150\n",
      "343/343 [==============================] - 0s 690us/step - loss: 0.7087 - accuracy: 0.6729\n",
      "Epoch 60/150\n",
      "343/343 [==============================] - 0s 690us/step - loss: 0.7082 - accuracy: 0.6729\n",
      "Epoch 61/150\n",
      "343/343 [==============================] - 0s 693us/step - loss: 0.7093 - accuracy: 0.6723\n",
      "Epoch 62/150\n",
      "343/343 [==============================] - 0s 690us/step - loss: 0.7092 - accuracy: 0.6718\n",
      "Epoch 63/150\n",
      "343/343 [==============================] - 0s 690us/step - loss: 0.7085 - accuracy: 0.6732\n",
      "Epoch 64/150\n",
      "343/343 [==============================] - 0s 690us/step - loss: 0.7078 - accuracy: 0.6722\n",
      "Epoch 65/150\n",
      "343/343 [==============================] - 0s 693us/step - loss: 0.7081 - accuracy: 0.6736\n",
      "Epoch 66/150\n",
      "343/343 [==============================] - 0s 705us/step - loss: 0.7087 - accuracy: 0.6716\n",
      "Epoch 67/150\n",
      "343/343 [==============================] - 0s 702us/step - loss: 0.7082 - accuracy: 0.6730\n",
      "Epoch 68/150\n",
      "343/343 [==============================] - 0s 693us/step - loss: 0.7075 - accuracy: 0.6737\n",
      "Epoch 69/150\n",
      "343/343 [==============================] - 0s 699us/step - loss: 0.7079 - accuracy: 0.6730\n",
      "Epoch 70/150\n",
      "343/343 [==============================] - 0s 702us/step - loss: 0.7067 - accuracy: 0.6738\n",
      "Epoch 71/150\n",
      "343/343 [==============================] - 0s 690us/step - loss: 0.7074 - accuracy: 0.6740\n",
      "Epoch 72/150\n",
      "343/343 [==============================] - 0s 690us/step - loss: 0.7071 - accuracy: 0.6741\n",
      "Epoch 73/150\n",
      "343/343 [==============================] - 0s 714us/step - loss: 0.7068 - accuracy: 0.6733\n",
      "Epoch 74/150\n",
      "343/343 [==============================] - 0s 755us/step - loss: 0.7067 - accuracy: 0.6738\n",
      "Epoch 75/150\n",
      "343/343 [==============================] - 0s 711us/step - loss: 0.7067 - accuracy: 0.6739\n",
      "Epoch 76/150\n",
      "343/343 [==============================] - 0s 702us/step - loss: 0.7069 - accuracy: 0.6730\n",
      "Epoch 77/150\n",
      "343/343 [==============================] - 0s 714us/step - loss: 0.7059 - accuracy: 0.6742\n",
      "Epoch 78/150\n",
      "343/343 [==============================] - 0s 702us/step - loss: 0.7061 - accuracy: 0.6753\n",
      "Epoch 79/150\n",
      "343/343 [==============================] - 0s 743us/step - loss: 0.7058 - accuracy: 0.6742\n",
      "Epoch 80/150\n",
      "343/343 [==============================] - 0s 705us/step - loss: 0.7062 - accuracy: 0.6757\n",
      "Epoch 81/150\n",
      "343/343 [==============================] - 0s 684us/step - loss: 0.7057 - accuracy: 0.6745\n",
      "Epoch 82/150\n",
      "343/343 [==============================] - 0s 737us/step - loss: 0.7064 - accuracy: 0.6747\n",
      "Epoch 83/150\n",
      "343/343 [==============================] - 0s 699us/step - loss: 0.7057 - accuracy: 0.6742\n",
      "Epoch 84/150\n",
      "343/343 [==============================] - 0s 696us/step - loss: 0.7058 - accuracy: 0.6748\n",
      "Epoch 85/150\n",
      "343/343 [==============================] - 0s 696us/step - loss: 0.7047 - accuracy: 0.6755\n",
      "Epoch 86/150\n",
      "343/343 [==============================] - 0s 728us/step - loss: 0.7059 - accuracy: 0.6746\n",
      "Epoch 87/150\n",
      "343/343 [==============================] - 0s 705us/step - loss: 0.7061 - accuracy: 0.6743\n",
      "Epoch 88/150\n",
      "343/343 [==============================] - 0s 737us/step - loss: 0.7057 - accuracy: 0.6749\n",
      "Epoch 89/150\n",
      "343/343 [==============================] - 0s 766us/step - loss: 0.7056 - accuracy: 0.6748\n",
      "Epoch 90/150\n",
      "343/343 [==============================] - 0s 731us/step - loss: 0.7044 - accuracy: 0.6763\n",
      "Epoch 91/150\n",
      "343/343 [==============================] - 0s 719us/step - loss: 0.7062 - accuracy: 0.6748\n",
      "Epoch 92/150\n",
      "343/343 [==============================] - 0s 717us/step - loss: 0.7053 - accuracy: 0.6750\n",
      "Epoch 93/150\n",
      "343/343 [==============================] - 0s 728us/step - loss: 0.7049 - accuracy: 0.6757\n",
      "Epoch 94/150\n",
      "343/343 [==============================] - 0s 714us/step - loss: 0.7053 - accuracy: 0.6756\n",
      "Epoch 95/150\n",
      "343/343 [==============================] - 0s 705us/step - loss: 0.7046 - accuracy: 0.6755\n",
      "Epoch 96/150\n",
      "343/343 [==============================] - 0s 696us/step - loss: 0.7041 - accuracy: 0.6768\n",
      "Epoch 97/150\n",
      "343/343 [==============================] - 0s 719us/step - loss: 0.7051 - accuracy: 0.6744\n",
      "Epoch 98/150\n",
      "343/343 [==============================] - 0s 708us/step - loss: 0.7045 - accuracy: 0.6761\n",
      "Epoch 99/150\n",
      "343/343 [==============================] - 0s 702us/step - loss: 0.7038 - accuracy: 0.6763\n",
      "Epoch 100/150\n",
      "343/343 [==============================] - 0s 702us/step - loss: 0.7038 - accuracy: 0.6763\n",
      "Epoch 101/150\n",
      "343/343 [==============================] - 0s 702us/step - loss: 0.7048 - accuracy: 0.6757\n",
      "Epoch 102/150\n",
      "343/343 [==============================] - 0s 705us/step - loss: 0.7043 - accuracy: 0.6771\n",
      "Epoch 103/150\n",
      "343/343 [==============================] - 0s 699us/step - loss: 0.7042 - accuracy: 0.6771\n",
      "Epoch 104/150\n",
      "343/343 [==============================] - 0s 702us/step - loss: 0.7041 - accuracy: 0.6763\n",
      "Epoch 105/150\n",
      "343/343 [==============================] - 0s 702us/step - loss: 0.7046 - accuracy: 0.6746\n",
      "Epoch 106/150\n",
      "343/343 [==============================] - 0s 699us/step - loss: 0.7036 - accuracy: 0.6768\n",
      "Epoch 107/150\n",
      "343/343 [==============================] - 0s 728us/step - loss: 0.7035 - accuracy: 0.6763\n",
      "Epoch 108/150\n",
      "343/343 [==============================] - 0s 702us/step - loss: 0.7044 - accuracy: 0.6759\n",
      "Epoch 109/150\n",
      "343/343 [==============================] - 0s 702us/step - loss: 0.7045 - accuracy: 0.6757\n",
      "Epoch 110/150\n",
      "343/343 [==============================] - 0s 702us/step - loss: 0.7040 - accuracy: 0.6760\n",
      "Epoch 111/150\n",
      "343/343 [==============================] - 0s 702us/step - loss: 0.7034 - accuracy: 0.6769\n",
      "Epoch 112/150\n",
      "343/343 [==============================] - 0s 699us/step - loss: 0.7036 - accuracy: 0.6757\n",
      "Epoch 113/150\n",
      "343/343 [==============================] - 0s 702us/step - loss: 0.7039 - accuracy: 0.6763\n",
      "Epoch 114/150\n",
      "343/343 [==============================] - 0s 699us/step - loss: 0.7040 - accuracy: 0.6771\n",
      "Epoch 115/150\n",
      "343/343 [==============================] - 0s 696us/step - loss: 0.7034 - accuracy: 0.6775\n",
      "Epoch 116/150\n",
      "343/343 [==============================] - 0s 693us/step - loss: 0.7039 - accuracy: 0.6768\n",
      "Epoch 117/150\n",
      "343/343 [==============================] - 0s 699us/step - loss: 0.7032 - accuracy: 0.6764\n",
      "Epoch 118/150\n",
      "343/343 [==============================] - 0s 704us/step - loss: 0.7033 - accuracy: 0.6771\n",
      "Epoch 119/150\n",
      "343/343 [==============================] - 0s 702us/step - loss: 0.7035 - accuracy: 0.6773\n",
      "Epoch 120/150\n",
      "343/343 [==============================] - 0s 696us/step - loss: 0.7028 - accuracy: 0.6773\n",
      "Epoch 121/150\n",
      "343/343 [==============================] - 0s 722us/step - loss: 0.7033 - accuracy: 0.6757\n",
      "Epoch 122/150\n",
      "343/343 [==============================] - 0s 725us/step - loss: 0.7026 - accuracy: 0.6776\n",
      "Epoch 123/150\n",
      "343/343 [==============================] - 0s 717us/step - loss: 0.7026 - accuracy: 0.6769\n",
      "Epoch 124/150\n",
      "343/343 [==============================] - 0s 711us/step - loss: 0.7038 - accuracy: 0.6765\n",
      "Epoch 125/150\n",
      "343/343 [==============================] - 0s 728us/step - loss: 0.7032 - accuracy: 0.6770\n",
      "Epoch 126/150\n",
      "343/343 [==============================] - 0s 714us/step - loss: 0.7027 - accuracy: 0.6767\n",
      "Epoch 127/150\n",
      "343/343 [==============================] - 0s 708us/step - loss: 0.7032 - accuracy: 0.6763\n",
      "Epoch 128/150\n",
      "343/343 [==============================] - 0s 705us/step - loss: 0.7036 - accuracy: 0.6777\n",
      "Epoch 129/150\n",
      "343/343 [==============================] - 0s 714us/step - loss: 0.7027 - accuracy: 0.6774\n",
      "Epoch 130/150\n",
      "343/343 [==============================] - 0s 708us/step - loss: 0.7026 - accuracy: 0.6770\n",
      "Epoch 131/150\n",
      "343/343 [==============================] - 0s 705us/step - loss: 0.7026 - accuracy: 0.6761\n",
      "Epoch 132/150\n",
      "343/343 [==============================] - 0s 699us/step - loss: 0.7022 - accuracy: 0.6768\n",
      "Epoch 133/150\n",
      "343/343 [==============================] - 0s 708us/step - loss: 0.7025 - accuracy: 0.6773\n",
      "Epoch 134/150\n",
      "343/343 [==============================] - 0s 708us/step - loss: 0.7025 - accuracy: 0.6775\n",
      "Epoch 135/150\n",
      "343/343 [==============================] - 0s 705us/step - loss: 0.7022 - accuracy: 0.6778\n",
      "Epoch 136/150\n",
      "343/343 [==============================] - 0s 702us/step - loss: 0.7024 - accuracy: 0.6774\n",
      "Epoch 137/150\n",
      "343/343 [==============================] - 0s 705us/step - loss: 0.7027 - accuracy: 0.6772\n",
      "Epoch 138/150\n",
      "343/343 [==============================] - 0s 702us/step - loss: 0.7028 - accuracy: 0.6769\n",
      "Epoch 139/150\n",
      "343/343 [==============================] - 0s 711us/step - loss: 0.7026 - accuracy: 0.6769\n",
      "Epoch 140/150\n",
      "343/343 [==============================] - 0s 702us/step - loss: 0.7030 - accuracy: 0.6764\n",
      "Epoch 141/150\n",
      "343/343 [==============================] - 0s 701us/step - loss: 0.7022 - accuracy: 0.6760\n",
      "Epoch 142/150\n",
      "343/343 [==============================] - 0s 702us/step - loss: 0.7021 - accuracy: 0.6768\n",
      "Epoch 143/150\n",
      "343/343 [==============================] - 0s 708us/step - loss: 0.7021 - accuracy: 0.6772\n",
      "Epoch 144/150\n",
      "343/343 [==============================] - 0s 699us/step - loss: 0.7019 - accuracy: 0.6769\n",
      "Epoch 145/150\n",
      "343/343 [==============================] - 0s 701us/step - loss: 0.7019 - accuracy: 0.6771\n",
      "Epoch 146/150\n",
      "343/343 [==============================] - 0s 705us/step - loss: 0.7019 - accuracy: 0.6764\n",
      "Epoch 147/150\n",
      "343/343 [==============================] - 0s 714us/step - loss: 0.7026 - accuracy: 0.6763\n",
      "Epoch 148/150\n",
      "343/343 [==============================] - 0s 705us/step - loss: 0.7025 - accuracy: 0.6761\n",
      "Epoch 149/150\n",
      "343/343 [==============================] - 0s 705us/step - loss: 0.7015 - accuracy: 0.6776\n",
      "Epoch 150/150\n",
      "343/343 [==============================] - 0s 725us/step - loss: 0.7018 - accuracy: 0.6781\n"
     ]
    }
   ],
   "source": [
    "# Compilamos el modelo\n",
    "modelo.compile(\n",
    "  optimizer=keras.optimizers.SGD(learning_rate=0.1), \n",
    "  loss='sparse_categorical_crossentropy', \n",
    "  metrics=['accuracy'], \n",
    ")\n",
    "\n",
    "# Entrenamiento del modelo\n",
    "history = modelo.fit(x_train,y_train,epochs=150,batch_size=200,verbose=True)"
   ]
  },
  {
   "cell_type": "markdown",
   "metadata": {},
   "source": [
    "Vemos las metricas obtenidas"
   ]
  },
  {
   "cell_type": "code",
   "execution_count": 238,
   "metadata": {},
   "outputs": [
    {
     "name": "stdout",
     "output_type": "stream",
     "text": [
      "536/536 [==============================] - 0s 506us/step\n",
      "  Accuracy : 0.681\n",
      "  Precision: 0.700\n",
      "     Recall: 0.647\n",
      "  f-measure: 0.666\n"
     ]
    }
   ],
   "source": [
    "y_pred = modelo.predict(x_test)\n",
    "\n",
    "y_pred = np.argmax(y_pred,axis = 1) \n",
    "\n",
    "print(\"  Accuracy : %.3f\" % accuracy_score(y_test, y_pred))\n",
    "print(\"  Precision: %.3f\" % precision_score(y_test, y_pred, average='macro'))\n",
    "print(\"     Recall: %.3f\" % recall_score(y_test, y_pred, average='macro'))\n",
    "print(\"  f-measure: %.3f\" % f1_score(y_test, y_pred, average='macro'))"
   ]
  },
  {
   "cell_type": "markdown",
   "metadata": {},
   "source": [
    "Las metricas no son malas, pero vamos a ver si podemos optimizar aun mas.\n",
    "Para buscar otras metricas, vamos a hacerlo iterando por distintas posibilades para los hiperparametros y quedarnos con la que nos de las mejores."
   ]
  },
  {
   "cell_type": "code",
   "execution_count": 239,
   "metadata": {},
   "outputs": [
    {
     "name": "stdout",
     "output_type": "stream",
     "text": [
      "Probando con: 1 salidas, relu, sigmoid, relu, 150 epochs, 103 batch_size\n",
      "536/536 [==============================] - 0s 520us/step\n",
      "Metricas obtenidas:\n",
      "precision:0.16603458000272284\n",
      "recall:0.3333333333333333\n",
      "f1:0.2216596562289038\n",
      "\n",
      "Probando con: 0 salidas, softmax, relu, softmax, 107 epochs, 118 batch_size\n"
     ]
    },
    {
     "name": "stderr",
     "output_type": "stream",
     "text": [
      "d:\\Programas\\Python\\lib\\site-packages\\sklearn\\metrics\\_classification.py:1334: UndefinedMetricWarning: Precision is ill-defined and being set to 0.0 in labels with no predicted samples. Use `zero_division` parameter to control this behavior.\n",
      "  _warn_prf(average, modifier, msg_start, len(result))\n"
     ]
    },
    {
     "name": "stdout",
     "output_type": "stream",
     "text": [
      "536/536 [==============================] - 0s 585us/step\n",
      "Metricas obtenidas:\n",
      "precision:0.08434953420075071\n",
      "recall:0.3333333333333333\n",
      "f1:0.13463090581734646\n",
      "\n",
      "Probando con: 1 salidas, relu, sigmoid, relu, 98 epochs, 105 batch_size\n"
     ]
    },
    {
     "name": "stderr",
     "output_type": "stream",
     "text": [
      "d:\\Programas\\Python\\lib\\site-packages\\sklearn\\metrics\\_classification.py:1334: UndefinedMetricWarning: Precision is ill-defined and being set to 0.0 in labels with no predicted samples. Use `zero_division` parameter to control this behavior.\n",
      "  _warn_prf(average, modifier, msg_start, len(result))\n"
     ]
    },
    {
     "name": "stdout",
     "output_type": "stream",
     "text": [
      "536/536 [==============================] - 0s 522us/step\n",
      "Metricas obtenidas:\n",
      "precision:0.16603458000272284\n",
      "recall:0.3333333333333333\n",
      "f1:0.2216596562289038\n",
      "\n",
      "Probando con: 3 salidas, relu, tanh, softmax, 78 epochs, 167 batch_size\n"
     ]
    },
    {
     "name": "stderr",
     "output_type": "stream",
     "text": [
      "d:\\Programas\\Python\\lib\\site-packages\\sklearn\\metrics\\_classification.py:1334: UndefinedMetricWarning: Precision is ill-defined and being set to 0.0 in labels with no predicted samples. Use `zero_division` parameter to control this behavior.\n",
      "  _warn_prf(average, modifier, msg_start, len(result))\n"
     ]
    },
    {
     "name": "stdout",
     "output_type": "stream",
     "text": [
      "536/536 [==============================] - 0s 527us/step\n",
      "Metricas obtenidas:\n",
      "precision:0.6882815047044755\n",
      "recall:0.6354859631251126\n",
      "f1:0.6527220744673464\n",
      "\n",
      "Probando con: 2 salidas, relu, softmax, relu, 145 epochs, 135 batch_size\n",
      "536/536 [==============================] - 0s 548us/step\n",
      "Metricas obtenidas:\n",
      "precision:0.6909372202976384\n",
      "recall:0.624031248007389\n",
      "f1:0.6268194488368\n",
      "\n",
      "{'prom': 0.6588298474323114, 'precision': 0.6882815047044755, 'recall': 0.6354859631251126, 'f-measure': 0.6527220744673464}\n",
      "{'func_activacion_1': 'relu', 'func_activacion_2': 'tanh', 'func_activacion_3': 'softmax', 'epochs': 78, 'batch_size': 167, 'cant_salidas': 3}\n"
     ]
    }
   ],
   "source": [
    "import random\n",
    "\n",
    "random.seed(1)\n",
    "\n",
    "activations = ['relu', 'tanh', 'sigmoid', 'softmax']\n",
    "\n",
    "\n",
    "mejores_hyperparametros = {\n",
    "    'func_activacion_1': '',\n",
    "    'func_activacion_2': '',\n",
    "    'func_activacion_3': '',\n",
    "    'epochs': 0,\n",
    "    'batch_size': 0,\n",
    "}\n",
    "\n",
    "mejores_metricas = {\n",
    "  'prom' : 0,\n",
    "  'precision' : 0,\n",
    "  'recall' : 0,\n",
    "  'f-measure' : 0\n",
    "}\n",
    "\n",
    "for i in range(0,5):\n",
    "\n",
    "  cant_salidas = random.randint(0,4)\n",
    "  func_activacion_1 = activations[random.randint(0,3)]\n",
    "  func_activacion_2 = activations[random.randint(0,3)]\n",
    "  func_activacion_3 = activations[random.randint(0,3)]\n",
    "  modelo = keras.Sequential([\n",
    "      # input_shape solo en la primer capa\n",
    "      # Capa con 3 salidas, activación relu\n",
    "      keras.layers.Dense(3,input_shape=(d_in,), activation=activations[random.randint(0,3)]),\n",
    "\n",
    "      keras.layers.Dense(cant_salidas, activation=func_activacion_1),\n",
    "      keras.layers.Dense(cant_salidas, activation=func_activacion_2),\n",
    "      keras.layers.Dense(cant_salidas, activation=func_activacion_3),\n",
    "\n",
    "      #la ultima capa si o si tiene que tener tantas salidas como clases, y softmax \n",
    "      keras.layers.Dense(classes, activation='softmax')])\n",
    "\n",
    "  # Compilamos el modelo\n",
    "  modelo.compile(\n",
    "    optimizer=keras.optimizers.SGD(learning_rate=0.1), \n",
    "    loss='sparse_categorical_crossentropy', \n",
    "    metrics=['accuracy'], \n",
    "  )\n",
    "  \n",
    "  # Entrenamiento del modelo\n",
    "  epochs = random.randint(50,150)\n",
    "  batch_size = random.randint(50,200)\n",
    "\n",
    "\n",
    "  print(f\"Probando con: {cant_salidas} salidas, {func_activacion_1}, {func_activacion_2}, {func_activacion_3}, {epochs} epochs, {batch_size} batch_size\")\n",
    "  history = modelo.fit(x_train,y_train,epochs=epochs,batch_size=batch_size,verbose=False)\n",
    "\n",
    "  y_pred = modelo.predict(x_test)\n",
    "  y_pred = np.argmax(y_pred,axis = 1) \n",
    "\n",
    "  # Utilizamos las metricas que pide la consigna\n",
    "  pres = precision_score(y_test, y_pred, average='macro')\n",
    "  recall = recall_score(y_test, y_pred, average='macro')\n",
    "  f1 = f1_score(y_test, y_pred, average='macro')\n",
    "\n",
    "  # Calculamos la media de las metricas\n",
    "  metricas = (pres + recall + f1) / 3\n",
    "  \n",
    "  print(\"Metricas obtenidas:\")\n",
    "  print(f\"precision:{pres}\")\n",
    "  print(f\"recall:{recall}\")\n",
    "  print(f\"f1:{f1}\")\n",
    "  print()\n",
    "\n",
    "  if metricas > mejores_metricas['prom']:\n",
    "    mejores_metricas['prom'] = metricas\n",
    "    \n",
    "    mejores_metricas['precision'] = pres\n",
    "    mejores_metricas['recall'] = recall\n",
    "    mejores_metricas['f-measure'] = f1\n",
    "\n",
    "    mejores_hyperparametros['cant_salidas'] = cant_salidas\n",
    "    mejores_hyperparametros['func_activacion_1'] = func_activacion_1\n",
    "    mejores_hyperparametros['func_activacion_2'] = func_activacion_2\n",
    "    mejores_hyperparametros['func_activacion_3'] = func_activacion_3\n",
    "    mejores_hyperparametros['epochs'] = epochs\n",
    "    mejores_hyperparametros['batch_size'] = batch_size\n",
    "  \n",
    "\n",
    "print(mejores_metricas)\n",
    "print(mejores_hyperparametros)"
   ]
  },
  {
   "cell_type": "markdown",
   "metadata": {},
   "source": [
    "Buscando de esta forma, las mejores metricas obtenidas son iguales que las obtenidas en el punto anterior, pero con y menos salidas por capa.\n"
   ]
  },
  {
   "cell_type": "code",
   "execution_count": 240,
   "metadata": {},
   "outputs": [
    {
     "name": "stdout",
     "output_type": "stream",
     "text": [
      "Mejores Metricas obtenidas:\n",
      "precision:0.6882815047044755\n",
      "recall:0.6354859631251126\n",
      "f1:0.6527220744673464\n"
     ]
    }
   ],
   "source": [
    "print(\"Mejores Metricas obtenidas:\")\n",
    "print(f\"precision:{mejores_metricas['precision']}\")\n",
    "print(f\"recall:{mejores_metricas['recall']}\")\n",
    "print(f\"f1:{mejores_metricas['f-measure']}\")"
   ]
  },
  {
   "cell_type": "markdown",
   "metadata": {},
   "source": [
    "## Regresion"
   ]
  },
  {
   "cell_type": "markdown",
   "metadata": {},
   "source": [
    "Usamos esta funcion para graficar mas comodo"
   ]
  },
  {
   "cell_type": "code",
   "execution_count": 241,
   "metadata": {},
   "outputs": [],
   "source": [
    "def plot_regression(modelo,x,y,title=\"\",xlabel=\"x\",ylabel=\"y\"):\n",
    "    plt.figure()\n",
    "    \n",
    "    plt.plot(x,y,\"o\",label=\"Valores verdaderos\")\n",
    "    plt.plot(x,modelo.predict(x),\"x\",label=\"Valores estimados\")\n",
    "    \n",
    "    plt.xlabel(xlabel)\n",
    "    plt.ylabel(ylabel)\n",
    "    plt.title(title)\n",
    "    plt.legend()\n",
    "    plt.show()"
   ]
  },
  {
   "cell_type": "code",
   "execution_count": 242,
   "metadata": {},
   "outputs": [],
   "source": [
    "ds_propiedades_para_regresion = ds_propiedades.copy()"
   ]
  },
  {
   "cell_type": "markdown",
   "metadata": {},
   "source": [
    "Transformamos los datos del dataframe"
   ]
  },
  {
   "cell_type": "code",
   "execution_count": 243,
   "metadata": {},
   "outputs": [],
   "source": [
    "# Eliminamos estas columnas porque no las necesitamos para el modelo\n",
    "ds_propiedades_para_regresion.drop(['property_title', 'id', 'property_description'], axis=1, inplace=True)\n",
    "\n",
    "#Eliminamos las columnas que tienen info del precio\n",
    "ds_propiedades_para_regresion.drop(['tipo_precio','pxm2'], axis=1, inplace=True)\n",
    "\n",
    "# One hot encoding de las columnas categóricas\n",
    "ds_propiedades_para_regresion = pd.get_dummies(ds_propiedades_para_regresion, columns=[\"place_l3\", \"property_type\"], dtype=np.int8)\n",
    "\n",
    "# Seleccionamos las columnas que vamos a usar para el modelo\n",
    "columnas_predictoras=ds_propiedades_para_regresion.columns.to_list()\n",
    "\n",
    "# Convertimos expensas_tipo a una columna numerica\n",
    "ds_propiedades_para_regresion.expensas_tipo.replace({'sin': -2, 'no aplica':-1,'bajas':0,'medias':1,'altas':2}, inplace=True)\n",
    "\n",
    "# Normalizamos las variables de entrada\n",
    "scaler = MinMaxScaler()\n",
    "ds_propiedades_para_regresion[columnas_predictoras] = scaler.fit_transform(ds_propiedades_para_regresion[columnas_predictoras])\n",
    "\n",
    "# Eliminamos property_price porque es la variable que queremos predecir\n",
    "columnas_predictoras.remove('property_price')"
   ]
  },
  {
   "cell_type": "code",
   "execution_count": 244,
   "metadata": {},
   "outputs": [
    {
     "data": {
      "text/html": [
       "<div>\n",
       "<style scoped>\n",
       "    .dataframe tbody tr th:only-of-type {\n",
       "        vertical-align: middle;\n",
       "    }\n",
       "\n",
       "    .dataframe tbody tr th {\n",
       "        vertical-align: top;\n",
       "    }\n",
       "\n",
       "    .dataframe thead th {\n",
       "        text-align: right;\n",
       "    }\n",
       "</style>\n",
       "<table border=\"1\" class=\"dataframe\">\n",
       "  <thead>\n",
       "    <tr style=\"text-align: right;\">\n",
       "      <th></th>\n",
       "      <th>latitud</th>\n",
       "      <th>longitud</th>\n",
       "      <th>property_rooms</th>\n",
       "      <th>property_bedrooms</th>\n",
       "      <th>property_surface_total</th>\n",
       "      <th>property_surface_covered</th>\n",
       "      <th>property_price</th>\n",
       "      <th>piscina</th>\n",
       "      <th>cochera</th>\n",
       "      <th>balcon</th>\n",
       "      <th>...</th>\n",
       "      <th>place_l3_Villa Pueyrredón</th>\n",
       "      <th>place_l3_Villa Real</th>\n",
       "      <th>place_l3_Villa Riachuelo</th>\n",
       "      <th>place_l3_Villa Santa Rita</th>\n",
       "      <th>place_l3_Villa Soldati</th>\n",
       "      <th>place_l3_Villa Urquiza</th>\n",
       "      <th>place_l3_Villa del Parque</th>\n",
       "      <th>property_type_Casa</th>\n",
       "      <th>property_type_Departamento</th>\n",
       "      <th>property_type_PH</th>\n",
       "    </tr>\n",
       "  </thead>\n",
       "  <tbody>\n",
       "    <tr>\n",
       "      <th>0</th>\n",
       "      <td>0.859587</td>\n",
       "      <td>0.416415</td>\n",
       "      <td>0.500000</td>\n",
       "      <td>0.6</td>\n",
       "      <td>0.477477</td>\n",
       "      <td>0.472313</td>\n",
       "      <td>0.383966</td>\n",
       "      <td>0.0</td>\n",
       "      <td>1.0</td>\n",
       "      <td>1.0</td>\n",
       "      <td>...</td>\n",
       "      <td>0.0</td>\n",
       "      <td>0.0</td>\n",
       "      <td>0.0</td>\n",
       "      <td>0.0</td>\n",
       "      <td>0.0</td>\n",
       "      <td>0.0</td>\n",
       "      <td>0.0</td>\n",
       "      <td>0.0</td>\n",
       "      <td>1.0</td>\n",
       "      <td>0.0</td>\n",
       "    </tr>\n",
       "    <tr>\n",
       "      <th>1</th>\n",
       "      <td>0.715143</td>\n",
       "      <td>0.462460</td>\n",
       "      <td>0.166667</td>\n",
       "      <td>0.2</td>\n",
       "      <td>0.147147</td>\n",
       "      <td>0.146580</td>\n",
       "      <td>0.120675</td>\n",
       "      <td>0.0</td>\n",
       "      <td>1.0</td>\n",
       "      <td>1.0</td>\n",
       "      <td>...</td>\n",
       "      <td>0.0</td>\n",
       "      <td>0.0</td>\n",
       "      <td>0.0</td>\n",
       "      <td>0.0</td>\n",
       "      <td>0.0</td>\n",
       "      <td>0.0</td>\n",
       "      <td>0.0</td>\n",
       "      <td>0.0</td>\n",
       "      <td>1.0</td>\n",
       "      <td>0.0</td>\n",
       "    </tr>\n",
       "    <tr>\n",
       "      <th>2</th>\n",
       "      <td>0.571472</td>\n",
       "      <td>0.578015</td>\n",
       "      <td>0.333333</td>\n",
       "      <td>0.4</td>\n",
       "      <td>0.138138</td>\n",
       "      <td>0.149837</td>\n",
       "      <td>0.070886</td>\n",
       "      <td>0.0</td>\n",
       "      <td>0.0</td>\n",
       "      <td>0.0</td>\n",
       "      <td>...</td>\n",
       "      <td>0.0</td>\n",
       "      <td>0.0</td>\n",
       "      <td>0.0</td>\n",
       "      <td>0.0</td>\n",
       "      <td>0.0</td>\n",
       "      <td>0.0</td>\n",
       "      <td>0.0</td>\n",
       "      <td>0.0</td>\n",
       "      <td>1.0</td>\n",
       "      <td>0.0</td>\n",
       "    </tr>\n",
       "    <tr>\n",
       "      <th>3</th>\n",
       "      <td>0.840478</td>\n",
       "      <td>0.399254</td>\n",
       "      <td>0.166667</td>\n",
       "      <td>0.2</td>\n",
       "      <td>0.153153</td>\n",
       "      <td>0.153094</td>\n",
       "      <td>0.102954</td>\n",
       "      <td>0.0</td>\n",
       "      <td>0.0</td>\n",
       "      <td>1.0</td>\n",
       "      <td>...</td>\n",
       "      <td>0.0</td>\n",
       "      <td>0.0</td>\n",
       "      <td>0.0</td>\n",
       "      <td>0.0</td>\n",
       "      <td>0.0</td>\n",
       "      <td>0.0</td>\n",
       "      <td>0.0</td>\n",
       "      <td>0.0</td>\n",
       "      <td>1.0</td>\n",
       "      <td>0.0</td>\n",
       "    </tr>\n",
       "    <tr>\n",
       "      <th>4</th>\n",
       "      <td>0.565870</td>\n",
       "      <td>0.753212</td>\n",
       "      <td>0.333333</td>\n",
       "      <td>0.4</td>\n",
       "      <td>0.225225</td>\n",
       "      <td>0.241042</td>\n",
       "      <td>0.105401</td>\n",
       "      <td>0.0</td>\n",
       "      <td>0.0</td>\n",
       "      <td>1.0</td>\n",
       "      <td>...</td>\n",
       "      <td>0.0</td>\n",
       "      <td>0.0</td>\n",
       "      <td>0.0</td>\n",
       "      <td>0.0</td>\n",
       "      <td>0.0</td>\n",
       "      <td>0.0</td>\n",
       "      <td>0.0</td>\n",
       "      <td>0.0</td>\n",
       "      <td>1.0</td>\n",
       "      <td>0.0</td>\n",
       "    </tr>\n",
       "    <tr>\n",
       "      <th>...</th>\n",
       "      <td>...</td>\n",
       "      <td>...</td>\n",
       "      <td>...</td>\n",
       "      <td>...</td>\n",
       "      <td>...</td>\n",
       "      <td>...</td>\n",
       "      <td>...</td>\n",
       "      <td>...</td>\n",
       "      <td>...</td>\n",
       "      <td>...</td>\n",
       "      <td>...</td>\n",
       "      <td>...</td>\n",
       "      <td>...</td>\n",
       "      <td>...</td>\n",
       "      <td>...</td>\n",
       "      <td>...</td>\n",
       "      <td>...</td>\n",
       "      <td>...</td>\n",
       "      <td>...</td>\n",
       "      <td>...</td>\n",
       "      <td>...</td>\n",
       "    </tr>\n",
       "    <tr>\n",
       "      <th>85688</th>\n",
       "      <td>0.728453</td>\n",
       "      <td>0.519028</td>\n",
       "      <td>0.333333</td>\n",
       "      <td>0.4</td>\n",
       "      <td>0.171171</td>\n",
       "      <td>0.185668</td>\n",
       "      <td>0.143460</td>\n",
       "      <td>0.0</td>\n",
       "      <td>0.0</td>\n",
       "      <td>0.0</td>\n",
       "      <td>...</td>\n",
       "      <td>0.0</td>\n",
       "      <td>0.0</td>\n",
       "      <td>0.0</td>\n",
       "      <td>0.0</td>\n",
       "      <td>0.0</td>\n",
       "      <td>0.0</td>\n",
       "      <td>0.0</td>\n",
       "      <td>0.0</td>\n",
       "      <td>0.0</td>\n",
       "      <td>1.0</td>\n",
       "    </tr>\n",
       "    <tr>\n",
       "      <th>85689</th>\n",
       "      <td>0.465723</td>\n",
       "      <td>0.493996</td>\n",
       "      <td>0.833333</td>\n",
       "      <td>0.8</td>\n",
       "      <td>0.549550</td>\n",
       "      <td>0.596091</td>\n",
       "      <td>0.350211</td>\n",
       "      <td>0.0</td>\n",
       "      <td>0.0</td>\n",
       "      <td>0.0</td>\n",
       "      <td>...</td>\n",
       "      <td>0.0</td>\n",
       "      <td>0.0</td>\n",
       "      <td>0.0</td>\n",
       "      <td>0.0</td>\n",
       "      <td>0.0</td>\n",
       "      <td>0.0</td>\n",
       "      <td>0.0</td>\n",
       "      <td>0.0</td>\n",
       "      <td>0.0</td>\n",
       "      <td>1.0</td>\n",
       "    </tr>\n",
       "    <tr>\n",
       "      <th>85690</th>\n",
       "      <td>0.407469</td>\n",
       "      <td>0.645797</td>\n",
       "      <td>0.166667</td>\n",
       "      <td>0.2</td>\n",
       "      <td>0.132132</td>\n",
       "      <td>0.130293</td>\n",
       "      <td>0.066667</td>\n",
       "      <td>0.0</td>\n",
       "      <td>0.0</td>\n",
       "      <td>0.0</td>\n",
       "      <td>...</td>\n",
       "      <td>0.0</td>\n",
       "      <td>0.0</td>\n",
       "      <td>0.0</td>\n",
       "      <td>0.0</td>\n",
       "      <td>0.0</td>\n",
       "      <td>0.0</td>\n",
       "      <td>0.0</td>\n",
       "      <td>0.0</td>\n",
       "      <td>0.0</td>\n",
       "      <td>1.0</td>\n",
       "    </tr>\n",
       "    <tr>\n",
       "      <th>85691</th>\n",
       "      <td>0.687028</td>\n",
       "      <td>0.098150</td>\n",
       "      <td>0.166667</td>\n",
       "      <td>0.2</td>\n",
       "      <td>0.255255</td>\n",
       "      <td>0.143322</td>\n",
       "      <td>0.097046</td>\n",
       "      <td>0.0</td>\n",
       "      <td>0.0</td>\n",
       "      <td>0.0</td>\n",
       "      <td>...</td>\n",
       "      <td>0.0</td>\n",
       "      <td>0.0</td>\n",
       "      <td>0.0</td>\n",
       "      <td>0.0</td>\n",
       "      <td>0.0</td>\n",
       "      <td>0.0</td>\n",
       "      <td>0.0</td>\n",
       "      <td>0.0</td>\n",
       "      <td>0.0</td>\n",
       "      <td>1.0</td>\n",
       "    </tr>\n",
       "    <tr>\n",
       "      <th>85692</th>\n",
       "      <td>0.751212</td>\n",
       "      <td>0.123701</td>\n",
       "      <td>0.333333</td>\n",
       "      <td>0.4</td>\n",
       "      <td>0.237237</td>\n",
       "      <td>0.224756</td>\n",
       "      <td>0.113840</td>\n",
       "      <td>0.0</td>\n",
       "      <td>0.0</td>\n",
       "      <td>1.0</td>\n",
       "      <td>...</td>\n",
       "      <td>1.0</td>\n",
       "      <td>0.0</td>\n",
       "      <td>0.0</td>\n",
       "      <td>0.0</td>\n",
       "      <td>0.0</td>\n",
       "      <td>0.0</td>\n",
       "      <td>0.0</td>\n",
       "      <td>0.0</td>\n",
       "      <td>0.0</td>\n",
       "      <td>1.0</td>\n",
       "    </tr>\n",
       "  </tbody>\n",
       "</table>\n",
       "<p>85693 rows × 76 columns</p>\n",
       "</div>"
      ],
      "text/plain": [
       "        latitud  longitud  property_rooms  property_bedrooms  \\\n",
       "0      0.859587  0.416415        0.500000                0.6   \n",
       "1      0.715143  0.462460        0.166667                0.2   \n",
       "2      0.571472  0.578015        0.333333                0.4   \n",
       "3      0.840478  0.399254        0.166667                0.2   \n",
       "4      0.565870  0.753212        0.333333                0.4   \n",
       "...         ...       ...             ...                ...   \n",
       "85688  0.728453  0.519028        0.333333                0.4   \n",
       "85689  0.465723  0.493996        0.833333                0.8   \n",
       "85690  0.407469  0.645797        0.166667                0.2   \n",
       "85691  0.687028  0.098150        0.166667                0.2   \n",
       "85692  0.751212  0.123701        0.333333                0.4   \n",
       "\n",
       "       property_surface_total  property_surface_covered  property_price  \\\n",
       "0                    0.477477                  0.472313        0.383966   \n",
       "1                    0.147147                  0.146580        0.120675   \n",
       "2                    0.138138                  0.149837        0.070886   \n",
       "3                    0.153153                  0.153094        0.102954   \n",
       "4                    0.225225                  0.241042        0.105401   \n",
       "...                       ...                       ...             ...   \n",
       "85688                0.171171                  0.185668        0.143460   \n",
       "85689                0.549550                  0.596091        0.350211   \n",
       "85690                0.132132                  0.130293        0.066667   \n",
       "85691                0.255255                  0.143322        0.097046   \n",
       "85692                0.237237                  0.224756        0.113840   \n",
       "\n",
       "       piscina  cochera  balcon  ...  place_l3_Villa Pueyrredón  \\\n",
       "0          0.0      1.0     1.0  ...                        0.0   \n",
       "1          0.0      1.0     1.0  ...                        0.0   \n",
       "2          0.0      0.0     0.0  ...                        0.0   \n",
       "3          0.0      0.0     1.0  ...                        0.0   \n",
       "4          0.0      0.0     1.0  ...                        0.0   \n",
       "...        ...      ...     ...  ...                        ...   \n",
       "85688      0.0      0.0     0.0  ...                        0.0   \n",
       "85689      0.0      0.0     0.0  ...                        0.0   \n",
       "85690      0.0      0.0     0.0  ...                        0.0   \n",
       "85691      0.0      0.0     0.0  ...                        0.0   \n",
       "85692      0.0      0.0     1.0  ...                        1.0   \n",
       "\n",
       "       place_l3_Villa Real  place_l3_Villa Riachuelo  \\\n",
       "0                      0.0                       0.0   \n",
       "1                      0.0                       0.0   \n",
       "2                      0.0                       0.0   \n",
       "3                      0.0                       0.0   \n",
       "4                      0.0                       0.0   \n",
       "...                    ...                       ...   \n",
       "85688                  0.0                       0.0   \n",
       "85689                  0.0                       0.0   \n",
       "85690                  0.0                       0.0   \n",
       "85691                  0.0                       0.0   \n",
       "85692                  0.0                       0.0   \n",
       "\n",
       "       place_l3_Villa Santa Rita  place_l3_Villa Soldati  \\\n",
       "0                            0.0                     0.0   \n",
       "1                            0.0                     0.0   \n",
       "2                            0.0                     0.0   \n",
       "3                            0.0                     0.0   \n",
       "4                            0.0                     0.0   \n",
       "...                          ...                     ...   \n",
       "85688                        0.0                     0.0   \n",
       "85689                        0.0                     0.0   \n",
       "85690                        0.0                     0.0   \n",
       "85691                        0.0                     0.0   \n",
       "85692                        0.0                     0.0   \n",
       "\n",
       "       place_l3_Villa Urquiza  place_l3_Villa del Parque  property_type_Casa  \\\n",
       "0                         0.0                        0.0                 0.0   \n",
       "1                         0.0                        0.0                 0.0   \n",
       "2                         0.0                        0.0                 0.0   \n",
       "3                         0.0                        0.0                 0.0   \n",
       "4                         0.0                        0.0                 0.0   \n",
       "...                       ...                        ...                 ...   \n",
       "85688                     0.0                        0.0                 0.0   \n",
       "85689                     0.0                        0.0                 0.0   \n",
       "85690                     0.0                        0.0                 0.0   \n",
       "85691                     0.0                        0.0                 0.0   \n",
       "85692                     0.0                        0.0                 0.0   \n",
       "\n",
       "       property_type_Departamento  property_type_PH  \n",
       "0                             1.0               0.0  \n",
       "1                             1.0               0.0  \n",
       "2                             1.0               0.0  \n",
       "3                             1.0               0.0  \n",
       "4                             1.0               0.0  \n",
       "...                           ...               ...  \n",
       "85688                         0.0               1.0  \n",
       "85689                         0.0               1.0  \n",
       "85690                         0.0               1.0  \n",
       "85691                         0.0               1.0  \n",
       "85692                         0.0               1.0  \n",
       "\n",
       "[85693 rows x 76 columns]"
      ]
     },
     "execution_count": 244,
     "metadata": {},
     "output_type": "execute_result"
    }
   ],
   "source": [
    "x_train, x_test, y_train, y_test = train_test_split(ds_propiedades_para_regresion.loc[:,columnas_predictoras],ds_propiedades_para_regresion.loc[:,'property_price'],test_size=0.2)\n",
    "\n",
    "sscaler=StandardScaler()\n",
    "sscaler.fit(pd.DataFrame(x_train))\n",
    "\n",
    "x_train_transform=sscaler.transform(pd.DataFrame(x_train))\n",
    "x_test_transform=sscaler.transform(pd.DataFrame(x_test))\n",
    "\n",
    "ds_propiedades_para_regresion"
   ]
  },
  {
   "cell_type": "code",
   "execution_count": 245,
   "metadata": {},
   "outputs": [
    {
     "name": "stdout",
     "output_type": "stream",
     "text": [
      "Model: \"sequential_13\"\n",
      "_________________________________________________________________\n",
      " Layer (type)                Output Shape              Param #   \n",
      "=================================================================\n",
      " dense_60 (Dense)            (None, 1)                 76        \n",
      "                                                                 \n",
      " dense_61 (Dense)            (None, 3)                 6         \n",
      "                                                                 \n",
      " dense_62 (Dense)            (None, 3)                 12        \n",
      "                                                                 \n",
      " dense_63 (Dense)            (None, 1)                 4         \n",
      "                                                                 \n",
      "=================================================================\n",
      "Total params: 98\n",
      "Trainable params: 98\n",
      "Non-trainable params: 0\n",
      "_________________________________________________________________\n"
     ]
    }
   ],
   "source": [
    "# Creo un modelo Red Neuronal\n",
    "d_in=len(columnas_predictoras)\n",
    "d_out=1\n",
    "\n",
    "modelo1 = keras.Sequential([\n",
    "    keras.layers.Dense(1,input_shape=(d_in,)), #, activation=\"relu\"\n",
    "\n",
    "    keras.layers.Dense(3, activation='tanh'),\n",
    "    keras.layers.Dense(3, activation='relu'),\n",
    "    keras.layers.Dense(1, activation='sigmoid')\n",
    "    ])\n",
    "modelo1.summary()"
   ]
  },
  {
   "cell_type": "code",
   "execution_count": 246,
   "metadata": {},
   "outputs": [],
   "source": [
    "modelo1.compile(\n",
    "  optimizer=keras.optimizers.SGD(learning_rate=0.001), \n",
    "  loss='mse', \n",
    "  metrics=['mae'], \n",
    ")"
   ]
  },
  {
   "cell_type": "code",
   "execution_count": 247,
   "metadata": {},
   "outputs": [
    {
     "name": "stdout",
     "output_type": "stream",
     "text": [
      "Epoch 1/50\n",
      "807/807 [==============================] - 1s 649us/step - loss: 0.1390 - mae: 0.3528\n",
      "Epoch 2/50\n",
      "807/807 [==============================] - 1s 635us/step - loss: 0.1011 - mae: 0.2950\n",
      "Epoch 3/50\n",
      "807/807 [==============================] - 1s 660us/step - loss: 0.0765 - mae: 0.2513\n",
      "Epoch 4/50\n",
      "807/807 [==============================] - 1s 691us/step - loss: 0.0601 - mae: 0.2184\n",
      "Epoch 5/50\n",
      "807/807 [==============================] - 1s 664us/step - loss: 0.0489 - mae: 0.1933\n",
      "Epoch 6/50\n",
      "807/807 [==============================] - 1s 645us/step - loss: 0.0410 - mae: 0.1739\n",
      "Epoch 7/50\n",
      "807/807 [==============================] - 1s 639us/step - loss: 0.0352 - mae: 0.1586\n",
      "Epoch 8/50\n",
      "807/807 [==============================] - 1s 637us/step - loss: 0.0308 - mae: 0.1464\n",
      "Epoch 9/50\n",
      "807/807 [==============================] - 1s 644us/step - loss: 0.0274 - mae: 0.1364\n",
      "Epoch 10/50\n",
      "807/807 [==============================] - 1s 653us/step - loss: 0.0248 - mae: 0.1282\n",
      "Epoch 11/50\n",
      "807/807 [==============================] - 1s 647us/step - loss: 0.0226 - mae: 0.1212\n",
      "Epoch 12/50\n",
      "807/807 [==============================] - 1s 663us/step - loss: 0.0208 - mae: 0.1152\n",
      "Epoch 13/50\n",
      "807/807 [==============================] - 1s 695us/step - loss: 0.0194 - mae: 0.1101\n",
      "Epoch 14/50\n",
      "807/807 [==============================] - 1s 642us/step - loss: 0.0181 - mae: 0.1057\n",
      "Epoch 15/50\n",
      "807/807 [==============================] - 1s 634us/step - loss: 0.0171 - mae: 0.1018\n",
      "Epoch 16/50\n",
      "807/807 [==============================] - 1s 660us/step - loss: 0.0162 - mae: 0.0985\n",
      "Epoch 17/50\n",
      "807/807 [==============================] - 1s 642us/step - loss: 0.0154 - mae: 0.0955\n",
      "Epoch 18/50\n",
      "807/807 [==============================] - 1s 623us/step - loss: 0.0147 - mae: 0.0928\n",
      "Epoch 19/50\n",
      "807/807 [==============================] - 1s 625us/step - loss: 0.0141 - mae: 0.0904\n",
      "Epoch 20/50\n",
      "807/807 [==============================] - 1s 620us/step - loss: 0.0136 - mae: 0.0882\n",
      "Epoch 21/50\n",
      "807/807 [==============================] - 1s 629us/step - loss: 0.0131 - mae: 0.0862\n",
      "Epoch 22/50\n",
      "807/807 [==============================] - 1s 632us/step - loss: 0.0127 - mae: 0.0843\n",
      "Epoch 23/50\n",
      "807/807 [==============================] - 1s 731us/step - loss: 0.0123 - mae: 0.0826\n",
      "Epoch 24/50\n",
      "807/807 [==============================] - 1s 630us/step - loss: 0.0119 - mae: 0.0811\n",
      "Epoch 25/50\n",
      "807/807 [==============================] - 1s 630us/step - loss: 0.0116 - mae: 0.0796\n",
      "Epoch 26/50\n",
      "807/807 [==============================] - 1s 635us/step - loss: 0.0113 - mae: 0.0783\n",
      "Epoch 27/50\n",
      "807/807 [==============================] - 1s 640us/step - loss: 0.0110 - mae: 0.0771\n",
      "Epoch 28/50\n",
      "807/807 [==============================] - 1s 624us/step - loss: 0.0108 - mae: 0.0759\n",
      "Epoch 29/50\n",
      "807/807 [==============================] - 1s 627us/step - loss: 0.0106 - mae: 0.0749\n",
      "Epoch 30/50\n",
      "807/807 [==============================] - 1s 637us/step - loss: 0.0104 - mae: 0.0739\n",
      "Epoch 31/50\n",
      "807/807 [==============================] - 1s 634us/step - loss: 0.0102 - mae: 0.0729\n",
      "Epoch 32/50\n",
      "807/807 [==============================] - 1s 632us/step - loss: 0.0100 - mae: 0.0721\n",
      "Epoch 33/50\n",
      "807/807 [==============================] - 1s 643us/step - loss: 0.0098 - mae: 0.0713\n",
      "Epoch 34/50\n",
      "807/807 [==============================] - 1s 656us/step - loss: 0.0097 - mae: 0.0705\n",
      "Epoch 35/50\n",
      "807/807 [==============================] - 1s 638us/step - loss: 0.0095 - mae: 0.0698\n",
      "Epoch 36/50\n",
      "807/807 [==============================] - 1s 634us/step - loss: 0.0094 - mae: 0.0691\n",
      "Epoch 37/50\n",
      "807/807 [==============================] - 1s 642us/step - loss: 0.0093 - mae: 0.0685\n",
      "Epoch 38/50\n",
      "807/807 [==============================] - 1s 632us/step - loss: 0.0091 - mae: 0.0679\n",
      "Epoch 39/50\n",
      "807/807 [==============================] - 1s 628us/step - loss: 0.0090 - mae: 0.0673\n",
      "Epoch 40/50\n",
      "807/807 [==============================] - 1s 634us/step - loss: 0.0089 - mae: 0.0668\n",
      "Epoch 41/50\n",
      "807/807 [==============================] - 1s 637us/step - loss: 0.0088 - mae: 0.0663\n",
      "Epoch 42/50\n",
      "807/807 [==============================] - 1s 635us/step - loss: 0.0087 - mae: 0.0658\n",
      "Epoch 43/50\n",
      "807/807 [==============================] - 1s 633us/step - loss: 0.0086 - mae: 0.0653\n",
      "Epoch 44/50\n",
      "807/807 [==============================] - 1s 635us/step - loss: 0.0085 - mae: 0.0648\n",
      "Epoch 45/50\n",
      "807/807 [==============================] - 1s 632us/step - loss: 0.0085 - mae: 0.0644\n",
      "Epoch 46/50\n",
      "807/807 [==============================] - 1s 638us/step - loss: 0.0084 - mae: 0.0640\n",
      "Epoch 47/50\n",
      "807/807 [==============================] - 1s 640us/step - loss: 0.0083 - mae: 0.0636\n",
      "Epoch 48/50\n",
      "807/807 [==============================] - 1s 624us/step - loss: 0.0082 - mae: 0.0632\n",
      "Epoch 49/50\n",
      "807/807 [==============================] - 1s 628us/step - loss: 0.0082 - mae: 0.0628\n",
      "Epoch 50/50\n",
      "807/807 [==============================] - 1s 632us/step - loss: 0.0081 - mae: 0.0624\n"
     ]
    }
   ],
   "source": [
    "y_pred = modelo1.fit(x_train_transform,y_train,epochs=50,batch_size=85,verbose=True)"
   ]
  },
  {
   "cell_type": "code",
   "execution_count": 248,
   "metadata": {},
   "outputs": [
    {
     "name": "stdout",
     "output_type": "stream",
     "text": [
      "536/536 [==============================] - 0s 507us/step\n"
     ]
    },
    {
     "data": {
      "text/html": [
       "<div>\n",
       "<style scoped>\n",
       "    .dataframe tbody tr th:only-of-type {\n",
       "        vertical-align: middle;\n",
       "    }\n",
       "\n",
       "    .dataframe tbody tr th {\n",
       "        vertical-align: top;\n",
       "    }\n",
       "\n",
       "    .dataframe thead th {\n",
       "        text-align: right;\n",
       "    }\n",
       "</style>\n",
       "<table border=\"1\" class=\"dataframe\">\n",
       "  <thead>\n",
       "    <tr style=\"text-align: right;\">\n",
       "      <th></th>\n",
       "      <th>Valor Real</th>\n",
       "      <th>Prediccion</th>\n",
       "      <th>Error</th>\n",
       "    </tr>\n",
       "  </thead>\n",
       "  <tbody>\n",
       "    <tr>\n",
       "      <th>58805</th>\n",
       "      <td>0.120589</td>\n",
       "      <td>0.094956</td>\n",
       "      <td>0.025633</td>\n",
       "    </tr>\n",
       "    <tr>\n",
       "      <th>46126</th>\n",
       "      <td>0.071730</td>\n",
       "      <td>0.093018</td>\n",
       "      <td>-0.021288</td>\n",
       "    </tr>\n",
       "    <tr>\n",
       "      <th>37963</th>\n",
       "      <td>0.053165</td>\n",
       "      <td>0.111295</td>\n",
       "      <td>-0.058130</td>\n",
       "    </tr>\n",
       "    <tr>\n",
       "      <th>54830</th>\n",
       "      <td>0.113924</td>\n",
       "      <td>0.155169</td>\n",
       "      <td>-0.041245</td>\n",
       "    </tr>\n",
       "    <tr>\n",
       "      <th>47520</th>\n",
       "      <td>0.261603</td>\n",
       "      <td>0.190201</td>\n",
       "      <td>0.071402</td>\n",
       "    </tr>\n",
       "  </tbody>\n",
       "</table>\n",
       "</div>"
      ],
      "text/plain": [
       "       Valor Real  Prediccion     Error\n",
       "58805    0.120589    0.094956  0.025633\n",
       "46126    0.071730    0.093018 -0.021288\n",
       "37963    0.053165    0.111295 -0.058130\n",
       "54830    0.113924    0.155169 -0.041245\n",
       "47520    0.261603    0.190201  0.071402"
      ]
     },
     "execution_count": 248,
     "metadata": {},
     "output_type": "execute_result"
    }
   ],
   "source": [
    "y_pred=modelo1.predict(x_test_transform)\n",
    "y_pred = y_pred.flatten()\n",
    "performance = pd.DataFrame({'Valor Real': y_test,\n",
    "                            'Prediccion': y_pred,\n",
    "                            'Error': y_test - y_pred})\n",
    "\n",
    "\n",
    "performance.head()"
   ]
  },
  {
   "cell_type": "code",
   "execution_count": 249,
   "metadata": {},
   "outputs": [
    {
     "name": "stdout",
     "output_type": "stream",
     "text": [
      "El error (mse) de test es: 0.0076780094154605405\n",
      "El error (rmse) de test es: 0.08762425129757481\n"
     ]
    }
   ],
   "source": [
    "from sklearn import metrics\n",
    "\n",
    "mse = metrics.mean_squared_error(\n",
    "        y_true  = y_test,\n",
    "        y_pred  = y_pred,\n",
    "        squared = True\n",
    "         )\n",
    "\n",
    "print(f\"El error (mse) de test es: {mse}\")\n",
    "\n",
    "\n",
    "\n",
    "rmse = metrics.mean_squared_error(\n",
    "        y_true  = y_test,\n",
    "        y_pred  = y_pred,\n",
    "        squared = False\n",
    "         )\n",
    "\n",
    "print(f\"El error (rmse) de test es: {rmse}\")    "
   ]
  },
  {
   "cell_type": "markdown",
   "metadata": {},
   "source": [
    "# <center> Ensamble de Modelos <center/> "
   ]
  },
  {
   "cell_type": "markdown",
   "metadata": {},
   "source": [
    "## Ensamble 1: Voting"
   ]
  },
  {
   "cell_type": "code",
   "execution_count": 251,
   "metadata": {},
   "outputs": [],
   "source": [
    "from sklearn import tree\n",
    "import dtreeviz.trees as dtv\n",
    "from sklearn.ensemble import RandomForestClassifier\n",
    "from sklearn.ensemble import AdaBoostClassifier\n",
    "from sklearn.ensemble import VotingClassifier"
   ]
  },
  {
   "cell_type": "code",
   "execution_count": 252,
   "metadata": {},
   "outputs": [],
   "source": [
    "ds_propiedades_ensamble = ds_propiedades.copy()"
   ]
  },
  {
   "cell_type": "markdown",
   "metadata": {},
   "source": [
    "Modificamos el dataset para poder usarlo en los modelos"
   ]
  },
  {
   "cell_type": "code",
   "execution_count": 253,
   "metadata": {},
   "outputs": [],
   "source": [
    "ds_propiedades_ensamble = pd.get_dummies(ds_propiedades_ensamble, columns=[\"place_l3\", \"property_type\"], dtype=np.int8)\n",
    "ds_propiedades_ensamble.drop(['property_title', 'id', 'property_description'], axis=1, inplace=True)\n",
    "\n",
    "ds_propiedades_ensamble.tipo_precio.replace({'bajo':0,'medio':1,'alto':2}, inplace=True)\n",
    "ds_propiedades_ensamble.expensas_tipo.replace({'sin': -2, 'no aplica':-1,'bajas':0,'medias':1,'altas':2}, inplace=True)\n",
    "\n",
    "ds_propiedades_ensamble.drop(['property_price','pxm2'], axis=1, inplace=True)"
   ]
  },
  {
   "cell_type": "markdown",
   "metadata": {},
   "source": [
    "Dividimos nuestro dataset en train y test"
   ]
  },
  {
   "cell_type": "code",
   "execution_count": 254,
   "metadata": {},
   "outputs": [],
   "source": [
    "#Armo conjunto entrenamiento y test 80-20\n",
    "columnas_predictoras = ds_propiedades_ensamble.columns.to_list()\n",
    "columnas_predictoras.remove('tipo_precio')\n",
    "\n",
    "x_train, x_test, y_train, y_test = train_test_split(ds_propiedades_ensamble.loc[:,columnas_predictoras], ds_propiedades_ensamble.loc[:,'tipo_precio'], random_state = 42, train_size = 0.80)"
   ]
  },
  {
   "cell_type": "markdown",
   "metadata": {},
   "source": [
    "Creamos el ensamble de modelos"
   ]
  },
  {
   "cell_type": "code",
   "execution_count": 255,
   "metadata": {},
   "outputs": [
    {
     "data": {
      "text/html": [
       "<style>#sk-container-id-2 {color: black;background-color: white;}#sk-container-id-2 pre{padding: 0;}#sk-container-id-2 div.sk-toggleable {background-color: white;}#sk-container-id-2 label.sk-toggleable__label {cursor: pointer;display: block;width: 100%;margin-bottom: 0;padding: 0.3em;box-sizing: border-box;text-align: center;}#sk-container-id-2 label.sk-toggleable__label-arrow:before {content: \"▸\";float: left;margin-right: 0.25em;color: #696969;}#sk-container-id-2 label.sk-toggleable__label-arrow:hover:before {color: black;}#sk-container-id-2 div.sk-estimator:hover label.sk-toggleable__label-arrow:before {color: black;}#sk-container-id-2 div.sk-toggleable__content {max-height: 0;max-width: 0;overflow: hidden;text-align: left;background-color: #f0f8ff;}#sk-container-id-2 div.sk-toggleable__content pre {margin: 0.2em;color: black;border-radius: 0.25em;background-color: #f0f8ff;}#sk-container-id-2 input.sk-toggleable__control:checked~div.sk-toggleable__content {max-height: 200px;max-width: 100%;overflow: auto;}#sk-container-id-2 input.sk-toggleable__control:checked~label.sk-toggleable__label-arrow:before {content: \"▾\";}#sk-container-id-2 div.sk-estimator input.sk-toggleable__control:checked~label.sk-toggleable__label {background-color: #d4ebff;}#sk-container-id-2 div.sk-label input.sk-toggleable__control:checked~label.sk-toggleable__label {background-color: #d4ebff;}#sk-container-id-2 input.sk-hidden--visually {border: 0;clip: rect(1px 1px 1px 1px);clip: rect(1px, 1px, 1px, 1px);height: 1px;margin: -1px;overflow: hidden;padding: 0;position: absolute;width: 1px;}#sk-container-id-2 div.sk-estimator {font-family: monospace;background-color: #f0f8ff;border: 1px dotted black;border-radius: 0.25em;box-sizing: border-box;margin-bottom: 0.5em;}#sk-container-id-2 div.sk-estimator:hover {background-color: #d4ebff;}#sk-container-id-2 div.sk-parallel-item::after {content: \"\";width: 100%;border-bottom: 1px solid gray;flex-grow: 1;}#sk-container-id-2 div.sk-label:hover label.sk-toggleable__label {background-color: #d4ebff;}#sk-container-id-2 div.sk-serial::before {content: \"\";position: absolute;border-left: 1px solid gray;box-sizing: border-box;top: 0;bottom: 0;left: 50%;z-index: 0;}#sk-container-id-2 div.sk-serial {display: flex;flex-direction: column;align-items: center;background-color: white;padding-right: 0.2em;padding-left: 0.2em;position: relative;}#sk-container-id-2 div.sk-item {position: relative;z-index: 1;}#sk-container-id-2 div.sk-parallel {display: flex;align-items: stretch;justify-content: center;background-color: white;position: relative;}#sk-container-id-2 div.sk-item::before, #sk-container-id-2 div.sk-parallel-item::before {content: \"\";position: absolute;border-left: 1px solid gray;box-sizing: border-box;top: 0;bottom: 0;left: 50%;z-index: -1;}#sk-container-id-2 div.sk-parallel-item {display: flex;flex-direction: column;z-index: 1;position: relative;background-color: white;}#sk-container-id-2 div.sk-parallel-item:first-child::after {align-self: flex-end;width: 50%;}#sk-container-id-2 div.sk-parallel-item:last-child::after {align-self: flex-start;width: 50%;}#sk-container-id-2 div.sk-parallel-item:only-child::after {width: 0;}#sk-container-id-2 div.sk-dashed-wrapped {border: 1px dashed gray;margin: 0 0.4em 0.5em 0.4em;box-sizing: border-box;padding-bottom: 0.4em;background-color: white;}#sk-container-id-2 div.sk-label label {font-family: monospace;font-weight: bold;display: inline-block;line-height: 1.2em;}#sk-container-id-2 div.sk-label-container {text-align: center;}#sk-container-id-2 div.sk-container {/* jupyter's `normalize.less` sets `[hidden] { display: none; }` but bootstrap.min.css set `[hidden] { display: none !important; }` so we also need the `!important` here to be able to override the default hidden behavior on the sphinx rendered scikit-learn.org. See: https://github.com/scikit-learn/scikit-learn/issues/21755 */display: inline-block !important;position: relative;}#sk-container-id-2 div.sk-text-repr-fallback {display: none;}</style><div id=\"sk-container-id-2\" class=\"sk-top-container\"><div class=\"sk-text-repr-fallback\"><pre>VotingClassifier(estimators=[(&#x27;tree&#x27;, DecisionTreeClassifier()),\n",
       "                             (&#x27;rfc&#x27;, RandomForestClassifier()),\n",
       "                             (&#x27;adaboost&#x27;, AdaBoostClassifier())])</pre><b>In a Jupyter environment, please rerun this cell to show the HTML representation or trust the notebook. <br />On GitHub, the HTML representation is unable to render, please try loading this page with nbviewer.org.</b></div><div class=\"sk-container\" hidden><div class=\"sk-item sk-dashed-wrapped\"><div class=\"sk-label-container\"><div class=\"sk-label sk-toggleable\"><input class=\"sk-toggleable__control sk-hidden--visually\" id=\"sk-estimator-id-5\" type=\"checkbox\" ><label for=\"sk-estimator-id-5\" class=\"sk-toggleable__label sk-toggleable__label-arrow\">VotingClassifier</label><div class=\"sk-toggleable__content\"><pre>VotingClassifier(estimators=[(&#x27;tree&#x27;, DecisionTreeClassifier()),\n",
       "                             (&#x27;rfc&#x27;, RandomForestClassifier()),\n",
       "                             (&#x27;adaboost&#x27;, AdaBoostClassifier())])</pre></div></div></div><div class=\"sk-parallel\"><div class=\"sk-parallel-item\"><div class=\"sk-item\"><div class=\"sk-label-container\"><div class=\"sk-label sk-toggleable\"><label>tree</label></div></div><div class=\"sk-serial\"><div class=\"sk-item\"><div class=\"sk-estimator sk-toggleable\"><input class=\"sk-toggleable__control sk-hidden--visually\" id=\"sk-estimator-id-6\" type=\"checkbox\" ><label for=\"sk-estimator-id-6\" class=\"sk-toggleable__label sk-toggleable__label-arrow\">DecisionTreeClassifier</label><div class=\"sk-toggleable__content\"><pre>DecisionTreeClassifier()</pre></div></div></div></div></div></div><div class=\"sk-parallel-item\"><div class=\"sk-item\"><div class=\"sk-label-container\"><div class=\"sk-label sk-toggleable\"><label>rfc</label></div></div><div class=\"sk-serial\"><div class=\"sk-item\"><div class=\"sk-estimator sk-toggleable\"><input class=\"sk-toggleable__control sk-hidden--visually\" id=\"sk-estimator-id-7\" type=\"checkbox\" ><label for=\"sk-estimator-id-7\" class=\"sk-toggleable__label sk-toggleable__label-arrow\">RandomForestClassifier</label><div class=\"sk-toggleable__content\"><pre>RandomForestClassifier()</pre></div></div></div></div></div></div><div class=\"sk-parallel-item\"><div class=\"sk-item\"><div class=\"sk-label-container\"><div class=\"sk-label sk-toggleable\"><label>adaboost</label></div></div><div class=\"sk-serial\"><div class=\"sk-item\"><div class=\"sk-estimator sk-toggleable\"><input class=\"sk-toggleable__control sk-hidden--visually\" id=\"sk-estimator-id-8\" type=\"checkbox\" ><label for=\"sk-estimator-id-8\" class=\"sk-toggleable__label sk-toggleable__label-arrow\">AdaBoostClassifier</label><div class=\"sk-toggleable__content\"><pre>AdaBoostClassifier()</pre></div></div></div></div></div></div></div></div></div></div>"
      ],
      "text/plain": [
       "VotingClassifier(estimators=[('tree', DecisionTreeClassifier()),\n",
       "                             ('rfc', RandomForestClassifier()),\n",
       "                             ('adaboost', AdaBoostClassifier())])"
      ]
     },
     "execution_count": 255,
     "metadata": {},
     "output_type": "execute_result"
    }
   ],
   "source": [
    "#Creo clasificadores\n",
    "log_clf = tree.DecisionTreeClassifier()\n",
    "rfc_clf = RandomForestClassifier()\n",
    "adaboost_clf = AdaBoostClassifier()\n",
    "\n",
    "#Entreno clasificadores\n",
    "voting_clf = VotingClassifier(estimators=[('tree', log_clf), ('rfc', rfc_clf), ('adaboost', adaboost_clf)], voting='hard')\n",
    "\n",
    "#Entreno el ensemble\n",
    "voting_clf.fit(x_train, y_train)"
   ]
  },
  {
   "cell_type": "markdown",
   "metadata": {},
   "source": [
    "Vemos las metricas obtenidas"
   ]
  },
  {
   "cell_type": "code",
   "execution_count": 256,
   "metadata": {},
   "outputs": [
    {
     "name": "stdout",
     "output_type": "stream",
     "text": [
      "   Accuracy: 0.767\n",
      "  Precision: 0.781\n",
      "     Recall: 0.746\n",
      "  f-measure: 0.760\n"
     ]
    }
   ],
   "source": [
    "#Evaluo en conjunto de test\n",
    "pred = voting_clf.predict(x_test)\n",
    "\n",
    "print(\"   Accuracy: %.3f\" % accuracy_score(y_test, pred))\n",
    "print(\"  Precision: %.3f\" % precision_score(y_test, pred, average='macro'))\n",
    "print(\"     Recall: %.3f\" % recall_score(y_test, pred, average='macro'))\n",
    "print(\"  f-measure: %.3f\" % f1_score(y_test, pred, average='macro'))"
   ]
  },
  {
   "cell_type": "markdown",
   "metadata": {},
   "source": [
    "## Ensamble 2: Stacking"
   ]
  },
  {
   "cell_type": "code",
   "execution_count": 303,
   "metadata": {},
   "outputs": [],
   "source": [
    "ds_propiedades_ensamble = ds_propiedades.copy()"
   ]
  },
  {
   "cell_type": "code",
   "execution_count": 304,
   "metadata": {},
   "outputs": [],
   "source": [
    "from sklearn.neighbors import KNeighborsRegressor\n",
    "from xgboost import XGBRegressor\n",
    "from sklearn.ensemble import GradientBoostingRegressor\n",
    "from collections import defaultdict\n",
    "from sklearn.model_selection import RepeatedStratifiedKFold\n",
    "from sklearn.model_selection import cross_val_score\n",
    "from sklearn.linear_model import LogisticRegressionCV\n",
    "# import linear regress\n",
    "from sklearn.linear_model import LinearRegression"
   ]
  },
  {
   "cell_type": "code",
   "execution_count": 305,
   "metadata": {},
   "outputs": [],
   "source": [
    "ds_propiedades_ensamble = pd.get_dummies(ds_propiedades_ensamble, columns=[\"place_l3\", \"property_type\"], dtype=np.int8)\n",
    "ds_propiedades_ensamble.drop(['property_title', 'id', 'property_description'], axis=1, inplace=True)\n",
    "\n",
    "ds_propiedades_ensamble.tipo_precio.replace({'bajo':0,'medio':1,'alto':2}, inplace=True)\n",
    "ds_propiedades_ensamble.expensas_tipo.replace({'sin': -2, 'no aplica':-1,'bajas':0,'medias':1,'altas':2}, inplace=True)\n",
    "\n",
    "ds_propiedades_ensamble.drop(['tipo_precio','pxm2'], axis=1, inplace=True)"
   ]
  },
  {
   "cell_type": "code",
   "execution_count": 306,
   "metadata": {},
   "outputs": [],
   "source": [
    "#Armo conjunto entrenamiento y test 80-20\n",
    "columnas_predictoras = ds_propiedades_ensamble.columns.to_list()\n",
    "columnas_predictoras.remove('property_price')\n",
    "\n",
    "ds_propiedades_ensamble.astype('float32', copy=False)\n",
    "\n",
    "x_train, x_test, y_train, y_test = train_test_split(ds_propiedades_ensamble.loc[:,columnas_predictoras], ds_propiedades_ensamble.loc[:,'property_price'], random_state = 42, train_size = 0.80)"
   ]
  },
  {
   "cell_type": "code",
   "execution_count": 307,
   "metadata": {},
   "outputs": [],
   "source": [
    "#Funcion para evaluar los modelos 5fold -CV (repite 2 veces)\n",
    "def evaluate_model(model, x, y):\n",
    "    cv = RepeatedStratifiedKFold(n_splits=5, n_repeats=2, random_state=1)\n",
    "    scores = cross_val_score(model, x, y, scoring='r2', cv=cv, verbose=1, n_jobs=3, error_score='raise')\n",
    "    return scores"
   ]
  },
  {
   "cell_type": "code",
   "execution_count": 324,
   "metadata": {},
   "outputs": [
    {
     "name": "stdout",
     "output_type": "stream",
     "text": [
      "Evaluating xgr\n"
     ]
    },
    {
     "name": "stderr",
     "output_type": "stream",
     "text": [
      "[Parallel(n_jobs=3)]: Using backend LokyBackend with 3 concurrent workers.\n",
      "d:\\Programas\\Python\\lib\\site-packages\\sklearn\\model_selection\\_split.py:684: UserWarning: The least populated class in y has only 1 members, which is less than n_splits=5.\n",
      "  warnings.warn(\n",
      "d:\\Programas\\Python\\lib\\site-packages\\sklearn\\model_selection\\_split.py:684: UserWarning: The least populated class in y has only 1 members, which is less than n_splits=5.\n",
      "  warnings.warn(\n",
      "[Parallel(n_jobs=3)]: Done  10 out of  10 | elapsed:   19.8s finished\n",
      "[Parallel(n_jobs=3)]: Using backend LokyBackend with 3 concurrent workers.\n",
      "d:\\Programas\\Python\\lib\\site-packages\\sklearn\\model_selection\\_split.py:684: UserWarning: The least populated class in y has only 1 members, which is less than n_splits=5.\n",
      "  warnings.warn(\n"
     ]
    },
    {
     "name": "stdout",
     "output_type": "stream",
     "text": [
      "Evaluating knr\n"
     ]
    },
    {
     "name": "stderr",
     "output_type": "stream",
     "text": [
      "d:\\Programas\\Python\\lib\\site-packages\\sklearn\\model_selection\\_split.py:684: UserWarning: The least populated class in y has only 1 members, which is less than n_splits=5.\n",
      "  warnings.warn(\n",
      "[Parallel(n_jobs=3)]: Done  10 out of  10 | elapsed:    7.6s finished\n",
      "[Parallel(n_jobs=3)]: Using backend LokyBackend with 3 concurrent workers.\n",
      "d:\\Programas\\Python\\lib\\site-packages\\sklearn\\model_selection\\_split.py:684: UserWarning: The least populated class in y has only 1 members, which is less than n_splits=5.\n",
      "  warnings.warn(\n"
     ]
    },
    {
     "name": "stdout",
     "output_type": "stream",
     "text": [
      "Evaluating gbr\n"
     ]
    },
    {
     "name": "stderr",
     "output_type": "stream",
     "text": [
      "d:\\Programas\\Python\\lib\\site-packages\\sklearn\\model_selection\\_split.py:684: UserWarning: The least populated class in y has only 1 members, which is less than n_splits=5.\n",
      "  warnings.warn(\n",
      "[Parallel(n_jobs=3)]: Done  10 out of  10 | elapsed:   38.1s finished\n"
     ]
    }
   ],
   "source": [
    "#Modelos Base\n",
    "\n",
    "#modelos base ensamble stacking con xgboost, knn y gradiente boost\n",
    "xgboost = XGBRegressor()\n",
    "knn = KNeighborsRegressor()\n",
    "gradiente_boost = GradientBoostingRegressor()\n",
    "\n",
    "#Modelo Stacking\n",
    "base_models = {'xgr':XGBRegressor(),\n",
    "               'knr': KNeighborsRegressor(),\n",
    "               'gbr': GradientBoostingRegressor()}\n",
    "\n",
    "\n",
    "#Guarda los scores de cada modelo\n",
    "model_scores = defaultdict()\n",
    "\n",
    "#Entreno los clasificadores\n",
    "for name, model in base_models.items():\n",
    "    print('Evaluating {}'.format(name))\n",
    "    scores = evaluate_model(model, x_train, y_train)\n",
    "    model_scores[name] = scores"
   ]
  },
  {
   "cell_type": "code",
   "execution_count": 325,
   "metadata": {},
   "outputs": [],
   "source": [
    "from sklearn.ensemble import StackingRegressor\n",
    "\n",
    "\n",
    "base_models = {'xgr':XGBRegressor(),\n",
    "               'knr': KNeighborsRegressor(),\n",
    "               'gbr': GradientBoostingRegressor()}\n",
    "\n",
    "#Meta Modelo\n",
    "meta_model = LinearRegression()\n",
    "\n",
    "#Ensemble Stacking\n",
    "stacking_model = StackingRegressor(estimators=base_models, \n",
    "                                    final_estimator=meta_model, \n",
    "                                    passthrough=True, \n",
    "                                    cv=5,\n",
    "                                    verbose=2)\n",
    "\n",
    "\n",
    "# get estimators for stacking regressor\n"
   ]
  },
  {
   "cell_type": "code",
   "execution_count": 326,
   "metadata": {},
   "outputs": [
    {
     "data": {
      "text/plain": [
       "dict_items([('xgr', XGBRegressor(base_score=None, booster=None, callbacks=None,\n",
       "             colsample_bylevel=None, colsample_bynode=None,\n",
       "             colsample_bytree=None, early_stopping_rounds=None,\n",
       "             enable_categorical=False, eval_metric=None, feature_types=None,\n",
       "             gamma=None, gpu_id=None, grow_policy=None, importance_type=None,\n",
       "             interaction_constraints=None, learning_rate=None, max_bin=None,\n",
       "             max_cat_threshold=None, max_cat_to_onehot=None,\n",
       "             max_delta_step=None, max_depth=None, max_leaves=None,\n",
       "             min_child_weight=None, missing=nan, monotone_constraints=None,\n",
       "             n_estimators=100, n_jobs=None, num_parallel_tree=None,\n",
       "             predictor=None, random_state=None, ...)), ('knr', KNeighborsRegressor()), ('gbr', GradientBoostingRegressor())])"
      ]
     },
     "execution_count": 326,
     "metadata": {},
     "output_type": "execute_result"
    }
   ],
   "source": [
    "estimators = stacking_model.named_estimators.items()\n",
    "estimators"
   ]
  },
  {
   "cell_type": "code",
   "execution_count": 327,
   "metadata": {},
   "outputs": [
    {
     "name": "stderr",
     "output_type": "stream",
     "text": [
      "[Parallel(n_jobs=3)]: Using backend LokyBackend with 3 concurrent workers.\n",
      "d:\\Programas\\Python\\lib\\site-packages\\sklearn\\model_selection\\_split.py:684: UserWarning: The least populated class in y has only 1 members, which is less than n_splits=5.\n",
      "  warnings.warn(\n",
      "d:\\Programas\\Python\\lib\\site-packages\\sklearn\\model_selection\\_split.py:684: UserWarning: The least populated class in y has only 1 members, which is less than n_splits=5.\n",
      "  warnings.warn(\n"
     ]
    },
    {
     "ename": "ValueError",
     "evalue": "too many values to unpack (expected 2)",
     "output_type": "error",
     "traceback": [
      "\u001b[1;31m---------------------------------------------------------------------------\u001b[0m",
      "\u001b[1;31m_RemoteTraceback\u001b[0m                          Traceback (most recent call last)",
      "\u001b[1;31m_RemoteTraceback\u001b[0m: \n\"\"\"\nTraceback (most recent call last):\n  File \"d:\\Programas\\Python\\lib\\site-packages\\joblib\\externals\\loky\\process_executor.py\", line 428, in _process_worker\n    r = call_item()\n  File \"d:\\Programas\\Python\\lib\\site-packages\\joblib\\externals\\loky\\process_executor.py\", line 275, in __call__\n    return self.fn(*self.args, **self.kwargs)\n  File \"d:\\Programas\\Python\\lib\\site-packages\\joblib\\_parallel_backends.py\", line 620, in __call__\n    return self.func(*args, **kwargs)\n  File \"d:\\Programas\\Python\\lib\\site-packages\\joblib\\parallel.py\", line 288, in __call__\n    return [func(*args, **kwargs)\n  File \"d:\\Programas\\Python\\lib\\site-packages\\joblib\\parallel.py\", line 288, in <listcomp>\n    return [func(*args, **kwargs)\n  File \"d:\\Programas\\Python\\lib\\site-packages\\sklearn\\utils\\fixes.py\", line 117, in __call__\n    return self.function(*args, **kwargs)\n  File \"d:\\Programas\\Python\\lib\\site-packages\\sklearn\\model_selection\\_validation.py\", line 686, in _fit_and_score\n    estimator.fit(X_train, y_train, **fit_params)\n  File \"d:\\Programas\\Python\\lib\\site-packages\\sklearn\\ensemble\\_stacking.py\", line 866, in fit\n    return super().fit(X, y, sample_weight)\n  File \"d:\\Programas\\Python\\lib\\site-packages\\sklearn\\ensemble\\_stacking.py\", line 174, in fit\n    names, all_estimators = self._validate_estimators()\n  File \"d:\\Programas\\Python\\lib\\site-packages\\sklearn\\ensemble\\_base.py\", line 262, in _validate_estimators\n    names, estimators = zip(*self.estimators)\nValueError: too many values to unpack (expected 2)\n\"\"\"",
      "\nThe above exception was the direct cause of the following exception:\n",
      "\u001b[1;31mValueError\u001b[0m                                Traceback (most recent call last)",
      "Cell \u001b[1;32mIn [327], line 2\u001b[0m\n\u001b[0;32m      1\u001b[0m \u001b[39m#Performance el modelo en entrenamiento\u001b[39;00m\n\u001b[1;32m----> 2\u001b[0m stacking_scores \u001b[39m=\u001b[39m evaluate_model(stacking_model, x_train, y_train)\n\u001b[0;32m      3\u001b[0m model_scores[\u001b[39m'\u001b[39m\u001b[39mstacking\u001b[39m\u001b[39m'\u001b[39m] \u001b[39m=\u001b[39m stacking_scores\n",
      "Cell \u001b[1;32mIn [307], line 4\u001b[0m, in \u001b[0;36mevaluate_model\u001b[1;34m(model, x, y)\u001b[0m\n\u001b[0;32m      2\u001b[0m \u001b[39mdef\u001b[39;00m \u001b[39mevaluate_model\u001b[39m(model, x, y):\n\u001b[0;32m      3\u001b[0m     cv \u001b[39m=\u001b[39m RepeatedStratifiedKFold(n_splits\u001b[39m=\u001b[39m\u001b[39m5\u001b[39m, n_repeats\u001b[39m=\u001b[39m\u001b[39m2\u001b[39m, random_state\u001b[39m=\u001b[39m\u001b[39m1\u001b[39m)\n\u001b[1;32m----> 4\u001b[0m     scores \u001b[39m=\u001b[39m cross_val_score(model, x, y, scoring\u001b[39m=\u001b[39;49m\u001b[39m'\u001b[39;49m\u001b[39mr2\u001b[39;49m\u001b[39m'\u001b[39;49m, cv\u001b[39m=\u001b[39;49mcv, verbose\u001b[39m=\u001b[39;49m\u001b[39m1\u001b[39;49m, n_jobs\u001b[39m=\u001b[39;49m\u001b[39m3\u001b[39;49m, error_score\u001b[39m=\u001b[39;49m\u001b[39m'\u001b[39;49m\u001b[39mraise\u001b[39;49m\u001b[39m'\u001b[39;49m)\n\u001b[0;32m      5\u001b[0m     \u001b[39mreturn\u001b[39;00m scores\n",
      "File \u001b[1;32md:\\Programas\\Python\\lib\\site-packages\\sklearn\\model_selection\\_validation.py:515\u001b[0m, in \u001b[0;36mcross_val_score\u001b[1;34m(estimator, X, y, groups, scoring, cv, n_jobs, verbose, fit_params, pre_dispatch, error_score)\u001b[0m\n\u001b[0;32m    512\u001b[0m \u001b[39m# To ensure multimetric format is not supported\u001b[39;00m\n\u001b[0;32m    513\u001b[0m scorer \u001b[39m=\u001b[39m check_scoring(estimator, scoring\u001b[39m=\u001b[39mscoring)\n\u001b[1;32m--> 515\u001b[0m cv_results \u001b[39m=\u001b[39m cross_validate(\n\u001b[0;32m    516\u001b[0m     estimator\u001b[39m=\u001b[39;49mestimator,\n\u001b[0;32m    517\u001b[0m     X\u001b[39m=\u001b[39;49mX,\n\u001b[0;32m    518\u001b[0m     y\u001b[39m=\u001b[39;49my,\n\u001b[0;32m    519\u001b[0m     groups\u001b[39m=\u001b[39;49mgroups,\n\u001b[0;32m    520\u001b[0m     scoring\u001b[39m=\u001b[39;49m{\u001b[39m\"\u001b[39;49m\u001b[39mscore\u001b[39;49m\u001b[39m\"\u001b[39;49m: scorer},\n\u001b[0;32m    521\u001b[0m     cv\u001b[39m=\u001b[39;49mcv,\n\u001b[0;32m    522\u001b[0m     n_jobs\u001b[39m=\u001b[39;49mn_jobs,\n\u001b[0;32m    523\u001b[0m     verbose\u001b[39m=\u001b[39;49mverbose,\n\u001b[0;32m    524\u001b[0m     fit_params\u001b[39m=\u001b[39;49mfit_params,\n\u001b[0;32m    525\u001b[0m     pre_dispatch\u001b[39m=\u001b[39;49mpre_dispatch,\n\u001b[0;32m    526\u001b[0m     error_score\u001b[39m=\u001b[39;49merror_score,\n\u001b[0;32m    527\u001b[0m )\n\u001b[0;32m    528\u001b[0m \u001b[39mreturn\u001b[39;00m cv_results[\u001b[39m\"\u001b[39m\u001b[39mtest_score\u001b[39m\u001b[39m\"\u001b[39m]\n",
      "File \u001b[1;32md:\\Programas\\Python\\lib\\site-packages\\sklearn\\model_selection\\_validation.py:266\u001b[0m, in \u001b[0;36mcross_validate\u001b[1;34m(estimator, X, y, groups, scoring, cv, n_jobs, verbose, fit_params, pre_dispatch, return_train_score, return_estimator, error_score)\u001b[0m\n\u001b[0;32m    263\u001b[0m \u001b[39m# We clone the estimator to make sure that all the folds are\u001b[39;00m\n\u001b[0;32m    264\u001b[0m \u001b[39m# independent, and that it is pickle-able.\u001b[39;00m\n\u001b[0;32m    265\u001b[0m parallel \u001b[39m=\u001b[39m Parallel(n_jobs\u001b[39m=\u001b[39mn_jobs, verbose\u001b[39m=\u001b[39mverbose, pre_dispatch\u001b[39m=\u001b[39mpre_dispatch)\n\u001b[1;32m--> 266\u001b[0m results \u001b[39m=\u001b[39m parallel(\n\u001b[0;32m    267\u001b[0m     delayed(_fit_and_score)(\n\u001b[0;32m    268\u001b[0m         clone(estimator),\n\u001b[0;32m    269\u001b[0m         X,\n\u001b[0;32m    270\u001b[0m         y,\n\u001b[0;32m    271\u001b[0m         scorers,\n\u001b[0;32m    272\u001b[0m         train,\n\u001b[0;32m    273\u001b[0m         test,\n\u001b[0;32m    274\u001b[0m         verbose,\n\u001b[0;32m    275\u001b[0m         \u001b[39mNone\u001b[39;49;00m,\n\u001b[0;32m    276\u001b[0m         fit_params,\n\u001b[0;32m    277\u001b[0m         return_train_score\u001b[39m=\u001b[39;49mreturn_train_score,\n\u001b[0;32m    278\u001b[0m         return_times\u001b[39m=\u001b[39;49m\u001b[39mTrue\u001b[39;49;00m,\n\u001b[0;32m    279\u001b[0m         return_estimator\u001b[39m=\u001b[39;49mreturn_estimator,\n\u001b[0;32m    280\u001b[0m         error_score\u001b[39m=\u001b[39;49merror_score,\n\u001b[0;32m    281\u001b[0m     )\n\u001b[0;32m    282\u001b[0m     \u001b[39mfor\u001b[39;49;00m train, test \u001b[39min\u001b[39;49;00m cv\u001b[39m.\u001b[39;49msplit(X, y, groups)\n\u001b[0;32m    283\u001b[0m )\n\u001b[0;32m    285\u001b[0m _warn_or_raise_about_fit_failures(results, error_score)\n\u001b[0;32m    287\u001b[0m \u001b[39m# For callabe scoring, the return type is only know after calling. If the\u001b[39;00m\n\u001b[0;32m    288\u001b[0m \u001b[39m# return type is a dictionary, the error scores can now be inserted with\u001b[39;00m\n\u001b[0;32m    289\u001b[0m \u001b[39m# the correct key.\u001b[39;00m\n",
      "File \u001b[1;32md:\\Programas\\Python\\lib\\site-packages\\joblib\\parallel.py:1098\u001b[0m, in \u001b[0;36mParallel.__call__\u001b[1;34m(self, iterable)\u001b[0m\n\u001b[0;32m   1095\u001b[0m     \u001b[39mself\u001b[39m\u001b[39m.\u001b[39m_iterating \u001b[39m=\u001b[39m \u001b[39mFalse\u001b[39;00m\n\u001b[0;32m   1097\u001b[0m \u001b[39mwith\u001b[39;00m \u001b[39mself\u001b[39m\u001b[39m.\u001b[39m_backend\u001b[39m.\u001b[39mretrieval_context():\n\u001b[1;32m-> 1098\u001b[0m     \u001b[39mself\u001b[39;49m\u001b[39m.\u001b[39;49mretrieve()\n\u001b[0;32m   1099\u001b[0m \u001b[39m# Make sure that we get a last message telling us we are done\u001b[39;00m\n\u001b[0;32m   1100\u001b[0m elapsed_time \u001b[39m=\u001b[39m time\u001b[39m.\u001b[39mtime() \u001b[39m-\u001b[39m \u001b[39mself\u001b[39m\u001b[39m.\u001b[39m_start_time\n",
      "File \u001b[1;32md:\\Programas\\Python\\lib\\site-packages\\joblib\\parallel.py:975\u001b[0m, in \u001b[0;36mParallel.retrieve\u001b[1;34m(self)\u001b[0m\n\u001b[0;32m    973\u001b[0m \u001b[39mtry\u001b[39;00m:\n\u001b[0;32m    974\u001b[0m     \u001b[39mif\u001b[39;00m \u001b[39mgetattr\u001b[39m(\u001b[39mself\u001b[39m\u001b[39m.\u001b[39m_backend, \u001b[39m'\u001b[39m\u001b[39msupports_timeout\u001b[39m\u001b[39m'\u001b[39m, \u001b[39mFalse\u001b[39;00m):\n\u001b[1;32m--> 975\u001b[0m         \u001b[39mself\u001b[39m\u001b[39m.\u001b[39m_output\u001b[39m.\u001b[39mextend(job\u001b[39m.\u001b[39;49mget(timeout\u001b[39m=\u001b[39;49m\u001b[39mself\u001b[39;49m\u001b[39m.\u001b[39;49mtimeout))\n\u001b[0;32m    976\u001b[0m     \u001b[39melse\u001b[39;00m:\n\u001b[0;32m    977\u001b[0m         \u001b[39mself\u001b[39m\u001b[39m.\u001b[39m_output\u001b[39m.\u001b[39mextend(job\u001b[39m.\u001b[39mget())\n",
      "File \u001b[1;32md:\\Programas\\Python\\lib\\site-packages\\joblib\\_parallel_backends.py:567\u001b[0m, in \u001b[0;36mLokyBackend.wrap_future_result\u001b[1;34m(future, timeout)\u001b[0m\n\u001b[0;32m    564\u001b[0m \u001b[39m\"\"\"Wrapper for Future.result to implement the same behaviour as\u001b[39;00m\n\u001b[0;32m    565\u001b[0m \u001b[39mAsyncResults.get from multiprocessing.\"\"\"\u001b[39;00m\n\u001b[0;32m    566\u001b[0m \u001b[39mtry\u001b[39;00m:\n\u001b[1;32m--> 567\u001b[0m     \u001b[39mreturn\u001b[39;00m future\u001b[39m.\u001b[39;49mresult(timeout\u001b[39m=\u001b[39;49mtimeout)\n\u001b[0;32m    568\u001b[0m \u001b[39mexcept\u001b[39;00m CfTimeoutError \u001b[39mas\u001b[39;00m e:\n\u001b[0;32m    569\u001b[0m     \u001b[39mraise\u001b[39;00m \u001b[39mTimeoutError\u001b[39;00m \u001b[39mfrom\u001b[39;00m \u001b[39me\u001b[39;00m\n",
      "File \u001b[1;32md:\\Programas\\Python\\lib\\concurrent\\futures\\_base.py:458\u001b[0m, in \u001b[0;36mFuture.result\u001b[1;34m(self, timeout)\u001b[0m\n\u001b[0;32m    456\u001b[0m     \u001b[39mraise\u001b[39;00m CancelledError()\n\u001b[0;32m    457\u001b[0m \u001b[39melif\u001b[39;00m \u001b[39mself\u001b[39m\u001b[39m.\u001b[39m_state \u001b[39m==\u001b[39m FINISHED:\n\u001b[1;32m--> 458\u001b[0m     \u001b[39mreturn\u001b[39;00m \u001b[39mself\u001b[39;49m\u001b[39m.\u001b[39;49m__get_result()\n\u001b[0;32m    459\u001b[0m \u001b[39melse\u001b[39;00m:\n\u001b[0;32m    460\u001b[0m     \u001b[39mraise\u001b[39;00m \u001b[39mTimeoutError\u001b[39;00m()\n",
      "File \u001b[1;32md:\\Programas\\Python\\lib\\concurrent\\futures\\_base.py:403\u001b[0m, in \u001b[0;36mFuture.__get_result\u001b[1;34m(self)\u001b[0m\n\u001b[0;32m    401\u001b[0m \u001b[39mif\u001b[39;00m \u001b[39mself\u001b[39m\u001b[39m.\u001b[39m_exception:\n\u001b[0;32m    402\u001b[0m     \u001b[39mtry\u001b[39;00m:\n\u001b[1;32m--> 403\u001b[0m         \u001b[39mraise\u001b[39;00m \u001b[39mself\u001b[39m\u001b[39m.\u001b[39m_exception\n\u001b[0;32m    404\u001b[0m     \u001b[39mfinally\u001b[39;00m:\n\u001b[0;32m    405\u001b[0m         \u001b[39m# Break a reference cycle with the exception in self._exception\u001b[39;00m\n\u001b[0;32m    406\u001b[0m         \u001b[39mself\u001b[39m \u001b[39m=\u001b[39m \u001b[39mNone\u001b[39;00m\n",
      "\u001b[1;31mValueError\u001b[0m: too many values to unpack (expected 2)"
     ]
    }
   ],
   "source": [
    "#Performance el modelo en entrenamiento\n",
    "stacking_scores = evaluate_model(stacking_model, x_train, y_train)\n",
    "model_scores['stacking'] = stacking_scores"
   ]
  },
  {
   "cell_type": "code",
   "execution_count": 328,
   "metadata": {},
   "outputs": [
    {
     "ename": "NameError",
     "evalue": "name 'plot_results' is not defined",
     "output_type": "error",
     "traceback": [
      "\u001b[1;31m---------------------------------------------------------------------------\u001b[0m",
      "\u001b[1;31mNameError\u001b[0m                                 Traceback (most recent call last)",
      "Cell \u001b[1;32mIn [328], line 2\u001b[0m\n\u001b[0;32m      1\u001b[0m \u001b[39m#Grafico performance\u001b[39;00m\n\u001b[1;32m----> 2\u001b[0m plot_results(model_scores, name\u001b[39m=\u001b[39m\u001b[39m'\u001b[39m\u001b[39mstacking_model_cv\u001b[39m\u001b[39m'\u001b[39m)\n",
      "\u001b[1;31mNameError\u001b[0m: name 'plot_results' is not defined"
     ]
    }
   ],
   "source": [
    "#Grafico performance\n",
    "plot_results(model_scores, name='stacking_model_cv')"
   ]
  },
  {
   "cell_type": "code",
   "execution_count": 329,
   "metadata": {},
   "outputs": [
    {
     "ename": "ValueError",
     "evalue": "too many values to unpack (expected 2)",
     "output_type": "error",
     "traceback": [
      "\u001b[1;31m---------------------------------------------------------------------------\u001b[0m",
      "\u001b[1;31mValueError\u001b[0m                                Traceback (most recent call last)",
      "Cell \u001b[1;32mIn [329], line 3\u001b[0m\n\u001b[0;32m      1\u001b[0m \u001b[39m#Evaluo en conjunto de test\u001b[39;00m\n\u001b[0;32m      2\u001b[0m \u001b[39m#stacking_model.fit(x_train,y_train).score(x_test,y_test)\u001b[39;00m\n\u001b[1;32m----> 3\u001b[0m stacking_model\u001b[39m.\u001b[39mfit(x_train,y_train)\n\u001b[0;32m      4\u001b[0m y_pred_st \u001b[39m=\u001b[39m stacking_model\u001b[39m.\u001b[39mpredict(x_test)\n\u001b[0;32m      5\u001b[0m accuracy_score(y_test, y_pred_st)\n",
      "File \u001b[1;32md:\\Programas\\Python\\lib\\site-packages\\sklearn\\ensemble\\_stacking.py:866\u001b[0m, in \u001b[0;36mStackingRegressor.fit\u001b[1;34m(self, X, y, sample_weight)\u001b[0m\n\u001b[0;32m    844\u001b[0m \u001b[39m\"\"\"Fit the estimators.\u001b[39;00m\n\u001b[0;32m    845\u001b[0m \n\u001b[0;32m    846\u001b[0m \u001b[39mParameters\u001b[39;00m\n\u001b[1;32m   (...)\u001b[0m\n\u001b[0;32m    863\u001b[0m \u001b[39m    Returns a fitted instance.\u001b[39;00m\n\u001b[0;32m    864\u001b[0m \u001b[39m\"\"\"\u001b[39;00m\n\u001b[0;32m    865\u001b[0m y \u001b[39m=\u001b[39m column_or_1d(y, warn\u001b[39m=\u001b[39m\u001b[39mTrue\u001b[39;00m)\n\u001b[1;32m--> 866\u001b[0m \u001b[39mreturn\u001b[39;00m \u001b[39msuper\u001b[39;49m()\u001b[39m.\u001b[39;49mfit(X, y, sample_weight)\n",
      "File \u001b[1;32md:\\Programas\\Python\\lib\\site-packages\\sklearn\\ensemble\\_stacking.py:174\u001b[0m, in \u001b[0;36m_BaseStacking.fit\u001b[1;34m(self, X, y, sample_weight)\u001b[0m\n\u001b[0;32m    166\u001b[0m check_scalar(\n\u001b[0;32m    167\u001b[0m     \u001b[39mself\u001b[39m\u001b[39m.\u001b[39mpassthrough,\n\u001b[0;32m    168\u001b[0m     name\u001b[39m=\u001b[39m\u001b[39m\"\u001b[39m\u001b[39mpassthrough\u001b[39m\u001b[39m\"\u001b[39m,\n\u001b[0;32m    169\u001b[0m     target_type\u001b[39m=\u001b[39m(np\u001b[39m.\u001b[39mbool_, \u001b[39mbool\u001b[39m),\n\u001b[0;32m    170\u001b[0m     include_boundaries\u001b[39m=\u001b[39m\u001b[39m\"\u001b[39m\u001b[39mneither\u001b[39m\u001b[39m\"\u001b[39m,\n\u001b[0;32m    171\u001b[0m )\n\u001b[0;32m    172\u001b[0m \u001b[39m# all_estimators contains all estimators, the one to be fitted and the\u001b[39;00m\n\u001b[0;32m    173\u001b[0m \u001b[39m# 'drop' string.\u001b[39;00m\n\u001b[1;32m--> 174\u001b[0m names, all_estimators \u001b[39m=\u001b[39m \u001b[39mself\u001b[39;49m\u001b[39m.\u001b[39;49m_validate_estimators()\n\u001b[0;32m    175\u001b[0m \u001b[39mself\u001b[39m\u001b[39m.\u001b[39m_validate_final_estimator()\n\u001b[0;32m    177\u001b[0m stack_method \u001b[39m=\u001b[39m [\u001b[39mself\u001b[39m\u001b[39m.\u001b[39mstack_method] \u001b[39m*\u001b[39m \u001b[39mlen\u001b[39m(all_estimators)\n",
      "File \u001b[1;32md:\\Programas\\Python\\lib\\site-packages\\sklearn\\ensemble\\_base.py:262\u001b[0m, in \u001b[0;36m_BaseHeterogeneousEnsemble._validate_estimators\u001b[1;34m(self)\u001b[0m\n\u001b[0;32m    257\u001b[0m \u001b[39mif\u001b[39;00m \u001b[39mself\u001b[39m\u001b[39m.\u001b[39mestimators \u001b[39mis\u001b[39;00m \u001b[39mNone\u001b[39;00m \u001b[39mor\u001b[39;00m \u001b[39mlen\u001b[39m(\u001b[39mself\u001b[39m\u001b[39m.\u001b[39mestimators) \u001b[39m==\u001b[39m \u001b[39m0\u001b[39m:\n\u001b[0;32m    258\u001b[0m     \u001b[39mraise\u001b[39;00m \u001b[39mValueError\u001b[39;00m(\n\u001b[0;32m    259\u001b[0m         \u001b[39m\"\u001b[39m\u001b[39mInvalid \u001b[39m\u001b[39m'\u001b[39m\u001b[39mestimators\u001b[39m\u001b[39m'\u001b[39m\u001b[39m attribute, \u001b[39m\u001b[39m'\u001b[39m\u001b[39mestimators\u001b[39m\u001b[39m'\u001b[39m\u001b[39m should be a list\u001b[39m\u001b[39m\"\u001b[39m\n\u001b[0;32m    260\u001b[0m         \u001b[39m\"\u001b[39m\u001b[39m of (string, estimator) tuples.\u001b[39m\u001b[39m\"\u001b[39m\n\u001b[0;32m    261\u001b[0m     )\n\u001b[1;32m--> 262\u001b[0m names, estimators \u001b[39m=\u001b[39m \u001b[39mzip\u001b[39m(\u001b[39m*\u001b[39m\u001b[39mself\u001b[39m\u001b[39m.\u001b[39mestimators)\n\u001b[0;32m    263\u001b[0m \u001b[39m# defined by MetaEstimatorMixin\u001b[39;00m\n\u001b[0;32m    264\u001b[0m \u001b[39mself\u001b[39m\u001b[39m.\u001b[39m_validate_names(names)\n",
      "\u001b[1;31mValueError\u001b[0m: too many values to unpack (expected 2)"
     ]
    }
   ],
   "source": [
    "#Evaluo en conjunto de test\n",
    "#stacking_model.fit(x_train,y_train).score(x_test,y_test)\n",
    "stacking_model.fit(x_train,y_train)\n",
    "y_pred_st = stacking_model.predict(x_test)\n",
    "accuracy_score(y_test, y_pred_st)"
   ]
  }
 ],
 "metadata": {
  "kernelspec": {
   "display_name": "Python 3.10.6 64-bit",
   "language": "python",
   "name": "python3"
  },
  "language_info": {
   "codemirror_mode": {
    "name": "ipython",
    "version": 3
   },
   "file_extension": ".py",
   "mimetype": "text/x-python",
   "name": "python",
   "nbconvert_exporter": "python",
   "pygments_lexer": "ipython3",
   "version": "3.10.6"
  },
  "orig_nbformat": 4,
  "vscode": {
   "interpreter": {
    "hash": "e788497cb3569157be8e656aed1f4beb46e0ad7c9c943d25fb630c9e375e334a"
   }
  }
 },
 "nbformat": 4,
 "nbformat_minor": 2
}
