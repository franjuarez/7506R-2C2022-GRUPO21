{
 "cells": [
  {
   "cell_type": "markdown",
   "metadata": {},
   "source": [
    "# <center>Organizaci&oacute;n de Datos</center>\n",
    "## <center>Trabajo Práctico 2 </center>\n",
    "\n",
    "## <center>Grupo 21</center>\n",
    "\n",
    "#### Integrantes: Francisco Juárez, Lucas Aldazabal, Valentin Schneider, Gonzalo Rizzo Ehrenbock"
   ]
  },
  {
   "cell_type": "markdown",
   "metadata": {},
   "source": [
    "# <center> Procesamiento del Lenguaje Natural <center/> "
   ]
  },
  {
   "cell_type": "code",
   "execution_count": 1,
   "metadata": {},
   "outputs": [],
   "source": [
    "import pandas as pd\n",
    "import numpy as np\n",
    "import matplotlib.pyplot as plt\n",
    "import seaborn as sns\n",
    "import warnings\n",
    "warnings.simplefilter(action='ignore', category=FutureWarning)\n",
    "\n",
    "sns.set_theme(style=\"whitegrid\")"
   ]
  },
  {
   "cell_type": "code",
   "execution_count": 2,
   "metadata": {},
   "outputs": [
    {
     "data": {
      "text/html": [
       "<div>\n",
       "<style scoped>\n",
       "    .dataframe tbody tr th:only-of-type {\n",
       "        vertical-align: middle;\n",
       "    }\n",
       "\n",
       "    .dataframe tbody tr th {\n",
       "        vertical-align: top;\n",
       "    }\n",
       "\n",
       "    .dataframe thead th {\n",
       "        text-align: right;\n",
       "    }\n",
       "</style>\n",
       "<table border=\"1\" class=\"dataframe\">\n",
       "  <thead>\n",
       "    <tr style=\"text-align: right;\">\n",
       "      <th></th>\n",
       "      <th>id</th>\n",
       "      <th>latitud</th>\n",
       "      <th>longitud</th>\n",
       "      <th>place_l3</th>\n",
       "      <th>property_type</th>\n",
       "      <th>property_rooms</th>\n",
       "      <th>property_bedrooms</th>\n",
       "      <th>property_surface_total</th>\n",
       "      <th>property_surface_covered</th>\n",
       "      <th>property_price</th>\n",
       "      <th>property_title</th>\n",
       "      <th>pxm2</th>\n",
       "      <th>tipo_precio</th>\n",
       "    </tr>\n",
       "  </thead>\n",
       "  <tbody>\n",
       "    <tr>\n",
       "      <th>0</th>\n",
       "      <td>F5IvmD1uzzdIR7b96ozt4g==</td>\n",
       "      <td>-34.558855</td>\n",
       "      <td>-58.452458</td>\n",
       "      <td>Nuñez</td>\n",
       "      <td>Departamento</td>\n",
       "      <td>4.0</td>\n",
       "      <td>3.0</td>\n",
       "      <td>160.0</td>\n",
       "      <td>146.0</td>\n",
       "      <td>460000.0</td>\n",
       "      <td>Venta: Hermoso piso de categoría en excelente ...</td>\n",
       "      <td>2875.000000</td>\n",
       "      <td>alto</td>\n",
       "    </tr>\n",
       "    <tr>\n",
       "      <th>1</th>\n",
       "      <td>IiT/P7WfYDcqbhu7tf5V4Q==</td>\n",
       "      <td>-34.582403</td>\n",
       "      <td>-58.443841</td>\n",
       "      <td>Colegiales</td>\n",
       "      <td>Departamento</td>\n",
       "      <td>2.0</td>\n",
       "      <td>1.0</td>\n",
       "      <td>50.0</td>\n",
       "      <td>46.0</td>\n",
       "      <td>148000.0</td>\n",
       "      <td>Departamento - Colegiales</td>\n",
       "      <td>2960.000000</td>\n",
       "      <td>alto</td>\n",
       "    </tr>\n",
       "    <tr>\n",
       "      <th>2</th>\n",
       "      <td>6XXcElx/4OwCcH4NI06Oiw==</td>\n",
       "      <td>-34.605825</td>\n",
       "      <td>-58.422214</td>\n",
       "      <td>Almagro</td>\n",
       "      <td>Departamento</td>\n",
       "      <td>3.0</td>\n",
       "      <td>2.0</td>\n",
       "      <td>47.0</td>\n",
       "      <td>47.0</td>\n",
       "      <td>89000.0</td>\n",
       "      <td>Departamento en venta tres ambientes- Almagro</td>\n",
       "      <td>1893.617021</td>\n",
       "      <td>medio</td>\n",
       "    </tr>\n",
       "    <tr>\n",
       "      <th>3</th>\n",
       "      <td>8R7hSzqWFk9rX4wBXxfORA==</td>\n",
       "      <td>-34.561971</td>\n",
       "      <td>-58.455670</td>\n",
       "      <td>Belgrano</td>\n",
       "      <td>Departamento</td>\n",
       "      <td>2.0</td>\n",
       "      <td>1.0</td>\n",
       "      <td>52.0</td>\n",
       "      <td>48.0</td>\n",
       "      <td>127000.0</td>\n",
       "      <td>Departamento - Belgrano</td>\n",
       "      <td>2442.307692</td>\n",
       "      <td>medio</td>\n",
       "    </tr>\n",
       "    <tr>\n",
       "      <th>4</th>\n",
       "      <td>UAKYqQx9s0MfIdLzrJv8Ig==</td>\n",
       "      <td>-34.606738</td>\n",
       "      <td>-58.389426</td>\n",
       "      <td>Tribunales</td>\n",
       "      <td>Departamento</td>\n",
       "      <td>3.0</td>\n",
       "      <td>2.0</td>\n",
       "      <td>76.0</td>\n",
       "      <td>75.0</td>\n",
       "      <td>129900.0</td>\n",
       "      <td>Lindísimo departamento antiguo en excelente es...</td>\n",
       "      <td>1709.210526</td>\n",
       "      <td>bajo</td>\n",
       "    </tr>\n",
       "  </tbody>\n",
       "</table>\n",
       "</div>"
      ],
      "text/plain": [
       "                         id    latitud   longitud    place_l3 property_type  \\\n",
       "0  F5IvmD1uzzdIR7b96ozt4g== -34.558855 -58.452458       Nuñez  Departamento   \n",
       "1  IiT/P7WfYDcqbhu7tf5V4Q== -34.582403 -58.443841  Colegiales  Departamento   \n",
       "2  6XXcElx/4OwCcH4NI06Oiw== -34.605825 -58.422214     Almagro  Departamento   \n",
       "3  8R7hSzqWFk9rX4wBXxfORA== -34.561971 -58.455670    Belgrano  Departamento   \n",
       "4  UAKYqQx9s0MfIdLzrJv8Ig== -34.606738 -58.389426  Tribunales  Departamento   \n",
       "\n",
       "   property_rooms  property_bedrooms  property_surface_total  \\\n",
       "0             4.0                3.0                   160.0   \n",
       "1             2.0                1.0                    50.0   \n",
       "2             3.0                2.0                    47.0   \n",
       "3             2.0                1.0                    52.0   \n",
       "4             3.0                2.0                    76.0   \n",
       "\n",
       "   property_surface_covered  property_price  \\\n",
       "0                     146.0        460000.0   \n",
       "1                      46.0        148000.0   \n",
       "2                      47.0         89000.0   \n",
       "3                      48.0        127000.0   \n",
       "4                      75.0        129900.0   \n",
       "\n",
       "                                      property_title         pxm2 tipo_precio  \n",
       "0  Venta: Hermoso piso de categoría en excelente ...  2875.000000        alto  \n",
       "1                          Departamento - Colegiales  2960.000000        alto  \n",
       "2      Departamento en venta tres ambientes- Almagro  1893.617021       medio  \n",
       "3                            Departamento - Belgrano  2442.307692       medio  \n",
       "4  Lindísimo departamento antiguo en excelente es...  1709.210526        bajo  "
      ]
     },
     "execution_count": 2,
     "metadata": {},
     "output_type": "execute_result"
    }
   ],
   "source": [
    "#Import dataframe\n",
    "ds_propiedades = pd.read_csv('./ds_propiedades_total_clasificado.csv')\n",
    "ds_descripciones = pd.read_csv('./properati_argentina_2021_decrip.csv')\n",
    "ds_propiedades.head()"
   ]
  },
  {
   "cell_type": "code",
   "execution_count": 3,
   "metadata": {},
   "outputs": [
    {
     "data": {
      "text/html": [
       "<div>\n",
       "<style scoped>\n",
       "    .dataframe tbody tr th:only-of-type {\n",
       "        vertical-align: middle;\n",
       "    }\n",
       "\n",
       "    .dataframe tbody tr th {\n",
       "        vertical-align: top;\n",
       "    }\n",
       "\n",
       "    .dataframe thead th {\n",
       "        text-align: right;\n",
       "    }\n",
       "</style>\n",
       "<table border=\"1\" class=\"dataframe\">\n",
       "  <thead>\n",
       "    <tr style=\"text-align: right;\">\n",
       "      <th></th>\n",
       "      <th>id</th>\n",
       "      <th>property_description</th>\n",
       "    </tr>\n",
       "  </thead>\n",
       "  <tbody>\n",
       "    <tr>\n",
       "      <th>0</th>\n",
       "      <td>BZCeiGkJr1WBUi6pKJQwJQ==</td>\n",
       "      <td>Corredor Responsable: MARIA ALEJANDRA GENOVEVA...</td>\n",
       "    </tr>\n",
       "    <tr>\n",
       "      <th>2</th>\n",
       "      <td>TUL813tXchVBlHUsfaA6DA==</td>\n",
       "      <td>Excelente PH en Núñez 4 amb!!!! Oportunidad !!...</td>\n",
       "    </tr>\n",
       "    <tr>\n",
       "      <th>3</th>\n",
       "      <td>gn55JPmcjftBV/at1a7fPg==</td>\n",
       "      <td>UNICO PH DE 4 DORMITORIOS EN IMPECABLE ESTADO,...</td>\n",
       "    </tr>\n",
       "    <tr>\n",
       "      <th>10</th>\n",
       "      <td>+9uGr8tPEUkKnpjOef+gUw==</td>\n",
       "      <td>SE VENDE EXCELENTE PH de 2 CÓMODOS AMBIENTES M...</td>\n",
       "    </tr>\n",
       "    <tr>\n",
       "      <th>11</th>\n",
       "      <td>uH5H+RfQM87Qtrb13+T4hA==</td>\n",
       "      <td>Venta PH 4 ambientes Paternal&lt;br&gt;&lt;br&gt;Cálido,  ...</td>\n",
       "    </tr>\n",
       "  </tbody>\n",
       "</table>\n",
       "</div>"
      ],
      "text/plain": [
       "                          id  \\\n",
       "0   BZCeiGkJr1WBUi6pKJQwJQ==   \n",
       "2   TUL813tXchVBlHUsfaA6DA==   \n",
       "3   gn55JPmcjftBV/at1a7fPg==   \n",
       "10  +9uGr8tPEUkKnpjOef+gUw==   \n",
       "11  uH5H+RfQM87Qtrb13+T4hA==   \n",
       "\n",
       "                                 property_description  \n",
       "0   Corredor Responsable: MARIA ALEJANDRA GENOVEVA...  \n",
       "2   Excelente PH en Núñez 4 amb!!!! Oportunidad !!...  \n",
       "3   UNICO PH DE 4 DORMITORIOS EN IMPECABLE ESTADO,...  \n",
       "10  SE VENDE EXCELENTE PH de 2 CÓMODOS AMBIENTES M...  \n",
       "11  Venta PH 4 ambientes Paternal<br><br>Cálido,  ...  "
      ]
     },
     "execution_count": 3,
     "metadata": {},
     "output_type": "execute_result"
    }
   ],
   "source": [
    "ds_descripciones = ds_descripciones[ds_descripciones['id'].isin(ds_propiedades['id'])]\n",
    "ds_descripciones.head()"
   ]
  },
  {
   "cell_type": "markdown",
   "metadata": {},
   "source": [
    "## Exportamos el dataframe a un archivo de texto para poder pasarlo por ECmes"
   ]
  },
  {
   "cell_type": "code",
   "execution_count": 4,
   "metadata": {},
   "outputs": [],
   "source": [
    "ds_descripciones_sin_id = ds_descripciones.drop(['id'], axis=1)\n",
    "\n",
    "ds_descripciones_sin_id.to_csv('ds_descripciones.txt', index=False)"
   ]
  },
  {
   "cell_type": "markdown",
   "metadata": {},
   "source": [
    "## Limpiamos el archivo de descripciones para que lo pueda leer Ecmes correctamente."
   ]
  },
  {
   "cell_type": "code",
   "execution_count": 5,
   "metadata": {},
   "outputs": [],
   "source": [
    "# dic_replace = {\n",
    "#     'á': 'a',\n",
    "#     'é': 'e',\n",
    "#     'í': 'i',\n",
    "#     'ó': 'o',\n",
    "#     'ú': 'u',\n",
    "#     'Á': 'A',\n",
    "#     'É': 'E',\n",
    "#     'Í': 'I',\n",
    "#     'Ó': 'O',\n",
    "#     'Ú': 'U',\n",
    "#     'ñ': 'ni',\n",
    "#     'Ñ': 'NI',\n",
    "#     'ü': 'u',\n",
    "#     'Ü': 'U',\n",
    "#     '<br>': ' ',\n",
    "#     '<br />': ' ',\n",
    "#     '<br/>': ' ',\n",
    "#     '<p>': ' ',\n",
    "#     '</p>': ' ',\n",
    "#     '<b>': ' ',\n",
    "#     '</b>': ' ',\n",
    "# }"
   ]
  },
  {
   "cell_type": "code",
   "execution_count": 6,
   "metadata": {},
   "outputs": [],
   "source": [
    "# #for every line in ds_descripciones.txt replace the '(' and ')' with ',' and save it in ds_descripciones.txt line by line \n",
    "# with open('ds_descripciones.txt', 'r', encoding = 'utf8') as f_in, open('ds_descripciones_out.txt', 'w', encoding = 'utf8') as f_out:\n",
    "#     for line in f_in:\n",
    "#         for src, target in dic_replace.items():\n",
    "#             line = line.replace(src, target)\n",
    "        \n",
    "       \n",
    "#         #leave only alpha characters in the line, also spaces and line jumps\n",
    "#         line = ''.join([c for c in line if c.isalpha() or c == ' ' or c == '\\n' or c == '.' or c == ','])\n",
    " \n",
    "        \n",
    "   \n",
    "\n",
    "#         # for src, target in dic_replace.items():\n",
    "#         #     line = line.replace(src, target)\n",
    "#         f_out.writelines(line)"
   ]
  },
  {
   "cell_type": "code",
   "execution_count": 7,
   "metadata": {},
   "outputs": [
    {
     "data": {
      "text/html": [
       "<div>\n",
       "<style scoped>\n",
       "    .dataframe tbody tr th:only-of-type {\n",
       "        vertical-align: middle;\n",
       "    }\n",
       "\n",
       "    .dataframe tbody tr th {\n",
       "        vertical-align: top;\n",
       "    }\n",
       "\n",
       "    .dataframe thead th {\n",
       "        text-align: right;\n",
       "    }\n",
       "</style>\n",
       "<table border=\"1\" class=\"dataframe\">\n",
       "  <thead>\n",
       "    <tr style=\"text-align: right;\">\n",
       "      <th></th>\n",
       "      <th>id</th>\n",
       "      <th>latitud</th>\n",
       "      <th>longitud</th>\n",
       "      <th>place_l3</th>\n",
       "      <th>property_type</th>\n",
       "      <th>property_rooms</th>\n",
       "      <th>property_bedrooms</th>\n",
       "      <th>property_surface_total</th>\n",
       "      <th>property_surface_covered</th>\n",
       "      <th>property_price</th>\n",
       "      <th>property_title</th>\n",
       "      <th>pxm2</th>\n",
       "      <th>tipo_precio</th>\n",
       "      <th>property_description</th>\n",
       "    </tr>\n",
       "  </thead>\n",
       "  <tbody>\n",
       "    <tr>\n",
       "      <th>0</th>\n",
       "      <td>F5IvmD1uzzdIR7b96ozt4g==</td>\n",
       "      <td>-34.558855</td>\n",
       "      <td>-58.452458</td>\n",
       "      <td>Nuñez</td>\n",
       "      <td>Departamento</td>\n",
       "      <td>4.0</td>\n",
       "      <td>3.0</td>\n",
       "      <td>160.0</td>\n",
       "      <td>146.0</td>\n",
       "      <td>460000.0</td>\n",
       "      <td>Venta: Hermoso piso de categoría en excelente ...</td>\n",
       "      <td>2875.000000</td>\n",
       "      <td>alto</td>\n",
       "      <td>Hermoso piso de 4 ambientes con dependencia y ...</td>\n",
       "    </tr>\n",
       "    <tr>\n",
       "      <th>1</th>\n",
       "      <td>IiT/P7WfYDcqbhu7tf5V4Q==</td>\n",
       "      <td>-34.582403</td>\n",
       "      <td>-58.443841</td>\n",
       "      <td>Colegiales</td>\n",
       "      <td>Departamento</td>\n",
       "      <td>2.0</td>\n",
       "      <td>1.0</td>\n",
       "      <td>50.0</td>\n",
       "      <td>46.0</td>\n",
       "      <td>148000.0</td>\n",
       "      <td>Departamento - Colegiales</td>\n",
       "      <td>2960.000000</td>\n",
       "      <td>alto</td>\n",
       "      <td>2 ambientes con balcón y vista totalmente abie...</td>\n",
       "    </tr>\n",
       "    <tr>\n",
       "      <th>2</th>\n",
       "      <td>6XXcElx/4OwCcH4NI06Oiw==</td>\n",
       "      <td>-34.605825</td>\n",
       "      <td>-58.422214</td>\n",
       "      <td>Almagro</td>\n",
       "      <td>Departamento</td>\n",
       "      <td>3.0</td>\n",
       "      <td>2.0</td>\n",
       "      <td>47.0</td>\n",
       "      <td>47.0</td>\n",
       "      <td>89000.0</td>\n",
       "      <td>Departamento en venta tres ambientes- Almagro</td>\n",
       "      <td>1893.617021</td>\n",
       "      <td>medio</td>\n",
       "      <td>**DIAZ VELEZ 4291 Y PRINGLES** Almagro.&lt;br&gt;&lt;br...</td>\n",
       "    </tr>\n",
       "    <tr>\n",
       "      <th>3</th>\n",
       "      <td>8R7hSzqWFk9rX4wBXxfORA==</td>\n",
       "      <td>-34.561971</td>\n",
       "      <td>-58.455670</td>\n",
       "      <td>Belgrano</td>\n",
       "      <td>Departamento</td>\n",
       "      <td>2.0</td>\n",
       "      <td>1.0</td>\n",
       "      <td>52.0</td>\n",
       "      <td>48.0</td>\n",
       "      <td>127000.0</td>\n",
       "      <td>Departamento - Belgrano</td>\n",
       "      <td>2442.307692</td>\n",
       "      <td>medio</td>\n",
       "      <td>IMPECABLE 2 AMBIENTES A ESTRENAR!&lt;...</td>\n",
       "    </tr>\n",
       "    <tr>\n",
       "      <th>4</th>\n",
       "      <td>UAKYqQx9s0MfIdLzrJv8Ig==</td>\n",
       "      <td>-34.606738</td>\n",
       "      <td>-58.389426</td>\n",
       "      <td>Tribunales</td>\n",
       "      <td>Departamento</td>\n",
       "      <td>3.0</td>\n",
       "      <td>2.0</td>\n",
       "      <td>76.0</td>\n",
       "      <td>75.0</td>\n",
       "      <td>129900.0</td>\n",
       "      <td>Lindísimo departamento antiguo en excelente es...</td>\n",
       "      <td>1709.210526</td>\n",
       "      <td>bajo</td>\n",
       "      <td>Excelente piso antiguo, lindísimo por sus tech...</td>\n",
       "    </tr>\n",
       "  </tbody>\n",
       "</table>\n",
       "</div>"
      ],
      "text/plain": [
       "                         id    latitud   longitud    place_l3 property_type  \\\n",
       "0  F5IvmD1uzzdIR7b96ozt4g== -34.558855 -58.452458       Nuñez  Departamento   \n",
       "1  IiT/P7WfYDcqbhu7tf5V4Q== -34.582403 -58.443841  Colegiales  Departamento   \n",
       "2  6XXcElx/4OwCcH4NI06Oiw== -34.605825 -58.422214     Almagro  Departamento   \n",
       "3  8R7hSzqWFk9rX4wBXxfORA== -34.561971 -58.455670    Belgrano  Departamento   \n",
       "4  UAKYqQx9s0MfIdLzrJv8Ig== -34.606738 -58.389426  Tribunales  Departamento   \n",
       "\n",
       "   property_rooms  property_bedrooms  property_surface_total  \\\n",
       "0             4.0                3.0                   160.0   \n",
       "1             2.0                1.0                    50.0   \n",
       "2             3.0                2.0                    47.0   \n",
       "3             2.0                1.0                    52.0   \n",
       "4             3.0                2.0                    76.0   \n",
       "\n",
       "   property_surface_covered  property_price  \\\n",
       "0                     146.0        460000.0   \n",
       "1                      46.0        148000.0   \n",
       "2                      47.0         89000.0   \n",
       "3                      48.0        127000.0   \n",
       "4                      75.0        129900.0   \n",
       "\n",
       "                                      property_title         pxm2 tipo_precio  \\\n",
       "0  Venta: Hermoso piso de categoría en excelente ...  2875.000000        alto   \n",
       "1                          Departamento - Colegiales  2960.000000        alto   \n",
       "2      Departamento en venta tres ambientes- Almagro  1893.617021       medio   \n",
       "3                            Departamento - Belgrano  2442.307692       medio   \n",
       "4  Lindísimo departamento antiguo en excelente es...  1709.210526        bajo   \n",
       "\n",
       "                                property_description  \n",
       "0  Hermoso piso de 4 ambientes con dependencia y ...  \n",
       "1  2 ambientes con balcón y vista totalmente abie...  \n",
       "2  **DIAZ VELEZ 4291 Y PRINGLES** Almagro.<br><br...  \n",
       "3              IMPECABLE 2 AMBIENTES A ESTRENAR!<...  \n",
       "4  Excelente piso antiguo, lindísimo por sus tech...  "
      ]
     },
     "execution_count": 7,
     "metadata": {},
     "output_type": "execute_result"
    }
   ],
   "source": [
    "ds_propiedades = ds_propiedades.join(ds_descripciones.set_index('id'), on='id')\n",
    "ds_propiedades.head()"
   ]
  },
  {
   "cell_type": "markdown",
   "metadata": {},
   "source": [
    "## Imputacion de nuevos parametros basados en los datos de Ecmes"
   ]
  },
  {
   "cell_type": "markdown",
   "metadata": {},
   "source": [
    "#### Basandonos en la frecuencia de aparición de palabras dada por Ecmes y nuestro dominio del problema, sabemos que estos son aspectos muy influyentes.<br>\n",
    "#### Procedemos a añadirlos al dataset para ampliarlo"
   ]
  },
  {
   "cell_type": "markdown",
   "metadata": {},
   "source": [
    "#### Pileta"
   ]
  },
  {
   "cell_type": "code",
   "execution_count": 8,
   "metadata": {},
   "outputs": [],
   "source": [
    "import re\n",
    "regexp = re.compile(r'piscina|pileta/gi', re.IGNORECASE)\n",
    "\n",
    "ds_propiedades['piscina'] = ds_propiedades['property_description'].apply(lambda x: 1 if regexp.search(x) else 0)"
   ]
  },
  {
   "cell_type": "code",
   "execution_count": 9,
   "metadata": {},
   "outputs": [
    {
     "name": "stdout",
     "output_type": "stream",
     "text": [
      "Vemos que la cantidad de propiedades con pileta es de 9729\n"
     ]
    }
   ],
   "source": [
    "cantidad_pileta = ds_propiedades[ds_propiedades['piscina'] == 1].shape[0]\n",
    "print(f\"Vemos que la cantidad de propiedades con pileta es de {cantidad_pileta}\")"
   ]
  },
  {
   "cell_type": "markdown",
   "metadata": {},
   "source": [
    "#### Garaje/Cochera"
   ]
  },
  {
   "cell_type": "code",
   "execution_count": 10,
   "metadata": {},
   "outputs": [],
   "source": [
    "regexp  = re.compile(r'cochera|garage/gi', re.IGNORECASE)\n",
    "\n",
    "ds_propiedades['cochera'] = ds_propiedades['property_description'].apply(lambda x: 1 if regexp.search(x) else 0)"
   ]
  },
  {
   "cell_type": "code",
   "execution_count": 11,
   "metadata": {},
   "outputs": [
    {
     "name": "stdout",
     "output_type": "stream",
     "text": [
      "Vemos que la cantidad de propiedades con Garaje es de 27031\n"
     ]
    }
   ],
   "source": [
    "cantidad_garaje = ds_propiedades[ds_propiedades['cochera'] == 1].shape[0]\n",
    "print(f\"Vemos que la cantidad de propiedades con Garaje es de {cantidad_garaje}\")"
   ]
  },
  {
   "cell_type": "markdown",
   "metadata": {},
   "source": [
    "#### Balcon"
   ]
  },
  {
   "cell_type": "code",
   "execution_count": 12,
   "metadata": {},
   "outputs": [],
   "source": [
    "regexp  = re.compile(r'balc[oó]n|/gi', re.IGNORECASE)\n",
    "\n",
    "ds_propiedades['balcon'] = ds_propiedades['property_description'].apply(lambda x: 1 if regexp.search(x) else 0)"
   ]
  },
  {
   "cell_type": "code",
   "execution_count": 13,
   "metadata": {},
   "outputs": [
    {
     "name": "stdout",
     "output_type": "stream",
     "text": [
      "Vemos que la cantidad de propiedades con Balcon es de 52839\n"
     ]
    }
   ],
   "source": [
    "cantidad_balcon = ds_propiedades[ds_propiedades['balcon'] == 1].shape[0]\n",
    "print(f\"Vemos que la cantidad de propiedades con Balcon es de {cantidad_balcon}\")"
   ]
  },
  {
   "cell_type": "markdown",
   "metadata": {},
   "source": [
    "#### Hidromasaje"
   ]
  },
  {
   "cell_type": "code",
   "execution_count": 14,
   "metadata": {},
   "outputs": [],
   "source": [
    "regexp  = re.compile(r'hidromasaje|jacuzzi|spa/gi', re.IGNORECASE)\n",
    "\n",
    "ds_propiedades['hidromasaje'] = ds_propiedades['property_description'].apply(lambda x: 1 if regexp.search(x) else 0)"
   ]
  },
  {
   "cell_type": "code",
   "execution_count": 15,
   "metadata": {},
   "outputs": [
    {
     "name": "stdout",
     "output_type": "stream",
     "text": [
      "Vemos que la cantidad de propiedades con Hidromasaje es de 4047\n"
     ]
    }
   ],
   "source": [
    "cantidad_hidromasaje = ds_propiedades[ds_propiedades['hidromasaje'] == 1].shape[0]\n",
    "print(f\"Vemos que la cantidad de propiedades con Hidromasaje es de {cantidad_hidromasaje}\")"
   ]
  },
  {
   "cell_type": "markdown",
   "metadata": {},
   "source": [
    "#### Jardín"
   ]
  },
  {
   "cell_type": "code",
   "execution_count": 16,
   "metadata": {},
   "outputs": [],
   "source": [
    "regexp = re.compile(r'jardin|jardín/gi', re.IGNORECASE)\n",
    "\n",
    "ds_propiedades['jardin'] = ds_propiedades['property_description'].apply(lambda x: 1 if regexp.search(x) else 0)"
   ]
  },
  {
   "cell_type": "code",
   "execution_count": 17,
   "metadata": {},
   "outputs": [
    {
     "name": "stdout",
     "output_type": "stream",
     "text": [
      "Vemos que la cantidad de propiedades con Jardin es de 2688\n"
     ]
    }
   ],
   "source": [
    "cantidad_jardin = ds_propiedades[ds_propiedades['jardin'] == 1].shape[0]\n",
    "print(f\"Vemos que la cantidad de propiedades con Jardin es de {cantidad_jardin}\")"
   ]
  },
  {
   "cell_type": "markdown",
   "metadata": {},
   "source": [
    "#### Gimnasio"
   ]
  },
  {
   "cell_type": "code",
   "execution_count": 18,
   "metadata": {},
   "outputs": [],
   "source": [
    "regexp = re.compile(r'gimnasio|gym/gi', re.IGNORECASE)\n",
    "\n",
    "ds_propiedades['gimnasio'] = ds_propiedades['property_description'].apply(lambda x: 1 if regexp.search(x) else 0)"
   ]
  },
  {
   "cell_type": "code",
   "execution_count": 19,
   "metadata": {},
   "outputs": [
    {
     "name": "stdout",
     "output_type": "stream",
     "text": [
      "Vemos que la cantidad de propiedades con Gimnasio es de 6601\n"
     ]
    }
   ],
   "source": [
    "cantidad_gimnasio = ds_propiedades[ds_propiedades['gimnasio'] == 1].shape[0]\n",
    "print(f\"Vemos que la cantidad de propiedades con Gimnasio es de {cantidad_gimnasio}\")"
   ]
  },
  {
   "cell_type": "markdown",
   "metadata": {},
   "source": [
    "#### A estrenar"
   ]
  },
  {
   "cell_type": "code",
   "execution_count": 20,
   "metadata": {},
   "outputs": [],
   "source": [
    "regexp = re.compile(r'estrenar|/gi', re.IGNORECASE)\n",
    "\n",
    "ds_propiedades['a_estrenar'] = ds_propiedades['property_description'].apply(lambda x: 1 if regexp.search(x) else 0)"
   ]
  },
  {
   "cell_type": "code",
   "execution_count": 21,
   "metadata": {},
   "outputs": [
    {
     "name": "stdout",
     "output_type": "stream",
     "text": [
      "Vemos que la cantidad de propiedades a estrenar es de 8311\n"
     ]
    }
   ],
   "source": [
    "cantidad_a_estrenar = ds_propiedades[ds_propiedades['a_estrenar'] == 1].shape[0]\n",
    "print(f\"Vemos que la cantidad de propiedades a estrenar es de {cantidad_a_estrenar}\")"
   ]
  },
  {
   "cell_type": "markdown",
   "metadata": {},
   "source": [
    "#### Sótano"
   ]
  },
  {
   "cell_type": "code",
   "execution_count": 22,
   "metadata": {},
   "outputs": [],
   "source": [
    "regexp = re.compile(r'sotano|sótano/gi', re.IGNORECASE)\n",
    "\n",
    "ds_propiedades['sotano'] = ds_propiedades['property_description'].apply(lambda x: 1 if regexp.search(x) else 0)"
   ]
  },
  {
   "cell_type": "code",
   "execution_count": 23,
   "metadata": {},
   "outputs": [
    {
     "name": "stdout",
     "output_type": "stream",
     "text": [
      "Vemos que la cantidad de propiedades con Sotano es de 83\n"
     ]
    }
   ],
   "source": [
    "cantidad_sotano = ds_propiedades[ds_propiedades['sotano'] == 1].shape[0]\n",
    "print(f\"Vemos que la cantidad de propiedades con Sotano es de {cantidad_sotano}\")"
   ]
  },
  {
   "cell_type": "markdown",
   "metadata": {},
   "source": [
    "#### Quincho"
   ]
  },
  {
   "cell_type": "code",
   "execution_count": 24,
   "metadata": {},
   "outputs": [],
   "source": [
    "regexp = re.compile(r'quincho|/gi', re.IGNORECASE)\n",
    "\n",
    "ds_propiedades['quincho'] = ds_propiedades['property_description'].apply(lambda x: 1 if regexp.search(x) else 0)"
   ]
  },
  {
   "cell_type": "code",
   "execution_count": 25,
   "metadata": {},
   "outputs": [
    {
     "name": "stdout",
     "output_type": "stream",
     "text": [
      "Vemos que la cantidad de propiedades con Quincho es de 3173\n"
     ]
    }
   ],
   "source": [
    "cantidad_quincho = ds_propiedades[ds_propiedades['quincho'] == 1].shape[0]\n",
    "print(f\"Vemos que la cantidad de propiedades con Quincho es de {cantidad_quincho}\")"
   ]
  },
  {
   "cell_type": "markdown",
   "metadata": {},
   "source": [
    "#### Sum"
   ]
  },
  {
   "cell_type": "code",
   "execution_count": 26,
   "metadata": {},
   "outputs": [],
   "source": [
    "regexp = re.compile(r'(\\bsum\\b)|(s\\.u\\.m)|(salon de usos multiples)/gi', re.IGNORECASE)\n",
    "\n",
    "ds_propiedades['sum'] = ds_propiedades['property_description'].apply(lambda x: 1 if regexp.search(x) else 0)"
   ]
  },
  {
   "cell_type": "code",
   "execution_count": 27,
   "metadata": {},
   "outputs": [
    {
     "name": "stdout",
     "output_type": "stream",
     "text": [
      "Vemos que la cantidad de propiedades con SUM es de 14847\n"
     ]
    }
   ],
   "source": [
    "cantidad_sum = ds_propiedades[ds_propiedades['sum'] == 1].shape[0]\n",
    "print(f\"Vemos que la cantidad de propiedades con SUM es de {cantidad_sum}\")"
   ]
  },
  {
   "cell_type": "markdown",
   "metadata": {},
   "source": [
    "#### Expensas"
   ]
  },
  {
   "cell_type": "markdown",
   "metadata": {},
   "source": [
    "Vamos a buscar generar un parametro expensas_tipo que sea baja, mediana, alta o no aplica dependiendo del caso, para esto primero vamos a buscar los precios que se encuentran en el dataset y con eso hacer un rango de precios para cada tipo de expensas. Luego esto lo combinamos con otra busqueda en las descripciones para encontrar palabras que nos indiquen si es un precio alto, medio o bajo."
   ]
  },
  {
   "cell_type": "code",
   "execution_count": 28,
   "metadata": {},
   "outputs": [],
   "source": [
    "regexp = re.compile(r'expensas[\\$0-9 \\.,:]+|/gi', re.IGNORECASE)\n",
    "\n",
    "ds_propiedades['expensas_price'] = ds_propiedades['property_description'].apply(lambda x: regexp.search(x).group() if regexp.search(x) else -1)\n",
    "\n",
    "ds_propiedades['expensas_price'] = ds_propiedades['expensas_price'].apply(lambda x: x.lower().replace('expensas:','').replace('$','').replace(' ','').replace('.','').replace(',','.') if x != -1 else -1)\n",
    "\n",
    "ds_propiedades['expensas_price'] =   ds_propiedades['expensas_price'].apply(lambda x: float(x) if str(x).isnumeric() else -1)"
   ]
  },
  {
   "cell_type": "code",
   "execution_count": 29,
   "metadata": {},
   "outputs": [
    {
     "name": "stdout",
     "output_type": "stream",
     "text": [
      "Vemos que la cantidad de propiedades con expensas es de 4484\n"
     ]
    }
   ],
   "source": [
    "propiedades_con_precio_expensas = ds_propiedades[ds_propiedades['expensas_price'] > -1].shape[0]\n",
    "\n",
    "print(f\"Vemos que la cantidad de propiedades con expensas es de {propiedades_con_precio_expensas}\")"
   ]
  },
  {
   "cell_type": "markdown",
   "metadata": {},
   "source": [
    "Expensas_tipo"
   ]
  },
  {
   "cell_type": "code",
   "execution_count": 30,
   "metadata": {},
   "outputs": [
    {
     "data": {
      "text/plain": [
       "no aplica    47149\n",
       "medias       15184\n",
       "bajas        11582\n",
       "altas         9088\n",
       "sin           2690\n",
       "Name: expensas_tipo, dtype: int64"
      ]
     },
     "execution_count": 30,
     "metadata": {},
     "output_type": "execute_result"
    }
   ],
   "source": [
    "regexp_sin = re.compile(r'sin expensas', re.IGNORECASE)\n",
    "regexp_tipo = re.compile(r'expensas baja|media|alta|accesible|barata', re.IGNORECASE)\n",
    "\n",
    "ds_propiedades['expensas_tipo'] = ds_propiedades['property_description'].apply(lambda x: \n",
    "  regexp_sin.search(x.lower()).group() if regexp_sin.search(x) else (regexp_tipo.search(x.lower()).group() if regexp_tipo.search(x) else 'no aplica')\n",
    ")\n",
    "\n",
    "ds_propiedades['expensas_tipo'] = ds_propiedades['expensas_tipo'].apply(lambda x: 'sin' if 'sin' in str(x) else x)\n",
    "ds_propiedades['expensas_tipo'] = ds_propiedades['expensas_tipo'].apply(lambda x: 'bajas' if 'baja' in str(x) else x)\n",
    "ds_propiedades['expensas_tipo'] = ds_propiedades['expensas_tipo'].apply(lambda x: 'bajas' if 'accesible' in str(x) else x)\n",
    "ds_propiedades['expensas_tipo'] = ds_propiedades['expensas_tipo'].apply(lambda x: 'bajas' if 'barata' in str(x) else x)\n",
    "ds_propiedades['expensas_tipo'] = ds_propiedades['expensas_tipo'].apply(lambda x: 'medias' if 'media' in str(x) else x)\n",
    "ds_propiedades['expensas_tipo'] = ds_propiedades['expensas_tipo'].apply(lambda x: 'altas' if 'alta' in str(x) else x)\n",
    "\n",
    "ds_propiedades['expensas_tipo'].value_counts()"
   ]
  },
  {
   "cell_type": "markdown",
   "metadata": {},
   "source": [
    "Vemos cuantas expensas categorizadas como 'no aplica' tienen un precio y las categorizamos acordemente"
   ]
  },
  {
   "cell_type": "code",
   "execution_count": 31,
   "metadata": {},
   "outputs": [
    {
     "data": {
      "text/plain": [
       "no aplica    44344\n",
       "medias       16106\n",
       "bajas        12542\n",
       "altas        10011\n",
       "sin           2690\n",
       "Name: expensas_tipo, dtype: int64"
      ]
     },
     "execution_count": 31,
     "metadata": {},
     "output_type": "execute_result"
    }
   ],
   "source": [
    "ds_propiedades_completar_tipo = ds_propiedades[(ds_propiedades['expensas_tipo'] == 'no aplica') & (ds_propiedades['expensas_price'] > 0)].copy()\n",
    "\n",
    "if len(ds_propiedades_completar_tipo) > 0: ds_propiedades_completar_tipo['expensas_tipo'] = pd.qcut(ds_propiedades_completar_tipo['expensas_price'], q=3, labels=['bajas', 'medias', 'altas'])\n",
    "\n",
    "ds_propiedades.loc[(ds_propiedades['expensas_tipo'] == 'no aplica') & (ds_propiedades['expensas_price'] > 0), 'expensas_tipo'] = ds_propiedades_completar_tipo['expensas_tipo']\n",
    "ds_propiedades.drop(columns=['expensas_price'], inplace=True)\n",
    "\n",
    "ds_propiedades['expensas_tipo'].value_counts()"
   ]
  },
  {
   "cell_type": "markdown",
   "metadata": {},
   "source": [
    "## Filtramos las columnas generadas"
   ]
  },
  {
   "cell_type": "code",
   "execution_count": 32,
   "metadata": {},
   "outputs": [
    {
     "data": {
      "text/html": [
       "<div>\n",
       "<style scoped>\n",
       "    .dataframe tbody tr th:only-of-type {\n",
       "        vertical-align: middle;\n",
       "    }\n",
       "\n",
       "    .dataframe tbody tr th {\n",
       "        vertical-align: top;\n",
       "    }\n",
       "\n",
       "    .dataframe thead th {\n",
       "        text-align: right;\n",
       "    }\n",
       "</style>\n",
       "<table border=\"1\" class=\"dataframe\">\n",
       "  <thead>\n",
       "    <tr style=\"text-align: right;\">\n",
       "      <th></th>\n",
       "      <th>id</th>\n",
       "      <th>latitud</th>\n",
       "      <th>longitud</th>\n",
       "      <th>place_l3</th>\n",
       "      <th>property_type</th>\n",
       "      <th>property_rooms</th>\n",
       "      <th>property_bedrooms</th>\n",
       "      <th>property_surface_total</th>\n",
       "      <th>property_surface_covered</th>\n",
       "      <th>property_price</th>\n",
       "      <th>...</th>\n",
       "      <th>cochera</th>\n",
       "      <th>balcon</th>\n",
       "      <th>hidromasaje</th>\n",
       "      <th>jardin</th>\n",
       "      <th>gimnasio</th>\n",
       "      <th>a_estrenar</th>\n",
       "      <th>sotano</th>\n",
       "      <th>quincho</th>\n",
       "      <th>sum</th>\n",
       "      <th>expensas_tipo</th>\n",
       "    </tr>\n",
       "  </thead>\n",
       "  <tbody>\n",
       "    <tr>\n",
       "      <th>0</th>\n",
       "      <td>F5IvmD1uzzdIR7b96ozt4g==</td>\n",
       "      <td>-34.558855</td>\n",
       "      <td>-58.452458</td>\n",
       "      <td>Nuñez</td>\n",
       "      <td>Departamento</td>\n",
       "      <td>4.0</td>\n",
       "      <td>3.0</td>\n",
       "      <td>160.0</td>\n",
       "      <td>146.0</td>\n",
       "      <td>460000.0</td>\n",
       "      <td>...</td>\n",
       "      <td>1</td>\n",
       "      <td>1</td>\n",
       "      <td>0</td>\n",
       "      <td>0</td>\n",
       "      <td>0</td>\n",
       "      <td>0</td>\n",
       "      <td>0</td>\n",
       "      <td>0</td>\n",
       "      <td>0</td>\n",
       "      <td>no aplica</td>\n",
       "    </tr>\n",
       "    <tr>\n",
       "      <th>1</th>\n",
       "      <td>IiT/P7WfYDcqbhu7tf5V4Q==</td>\n",
       "      <td>-34.582403</td>\n",
       "      <td>-58.443841</td>\n",
       "      <td>Colegiales</td>\n",
       "      <td>Departamento</td>\n",
       "      <td>2.0</td>\n",
       "      <td>1.0</td>\n",
       "      <td>50.0</td>\n",
       "      <td>46.0</td>\n",
       "      <td>148000.0</td>\n",
       "      <td>...</td>\n",
       "      <td>1</td>\n",
       "      <td>1</td>\n",
       "      <td>0</td>\n",
       "      <td>0</td>\n",
       "      <td>0</td>\n",
       "      <td>0</td>\n",
       "      <td>0</td>\n",
       "      <td>0</td>\n",
       "      <td>0</td>\n",
       "      <td>no aplica</td>\n",
       "    </tr>\n",
       "    <tr>\n",
       "      <th>2</th>\n",
       "      <td>6XXcElx/4OwCcH4NI06Oiw==</td>\n",
       "      <td>-34.605825</td>\n",
       "      <td>-58.422214</td>\n",
       "      <td>Almagro</td>\n",
       "      <td>Departamento</td>\n",
       "      <td>3.0</td>\n",
       "      <td>2.0</td>\n",
       "      <td>47.0</td>\n",
       "      <td>47.0</td>\n",
       "      <td>89000.0</td>\n",
       "      <td>...</td>\n",
       "      <td>0</td>\n",
       "      <td>0</td>\n",
       "      <td>0</td>\n",
       "      <td>0</td>\n",
       "      <td>0</td>\n",
       "      <td>0</td>\n",
       "      <td>0</td>\n",
       "      <td>0</td>\n",
       "      <td>0</td>\n",
       "      <td>no aplica</td>\n",
       "    </tr>\n",
       "    <tr>\n",
       "      <th>3</th>\n",
       "      <td>8R7hSzqWFk9rX4wBXxfORA==</td>\n",
       "      <td>-34.561971</td>\n",
       "      <td>-58.455670</td>\n",
       "      <td>Belgrano</td>\n",
       "      <td>Departamento</td>\n",
       "      <td>2.0</td>\n",
       "      <td>1.0</td>\n",
       "      <td>52.0</td>\n",
       "      <td>48.0</td>\n",
       "      <td>127000.0</td>\n",
       "      <td>...</td>\n",
       "      <td>0</td>\n",
       "      <td>1</td>\n",
       "      <td>0</td>\n",
       "      <td>0</td>\n",
       "      <td>0</td>\n",
       "      <td>1</td>\n",
       "      <td>0</td>\n",
       "      <td>0</td>\n",
       "      <td>0</td>\n",
       "      <td>medias</td>\n",
       "    </tr>\n",
       "    <tr>\n",
       "      <th>4</th>\n",
       "      <td>UAKYqQx9s0MfIdLzrJv8Ig==</td>\n",
       "      <td>-34.606738</td>\n",
       "      <td>-58.389426</td>\n",
       "      <td>Tribunales</td>\n",
       "      <td>Departamento</td>\n",
       "      <td>3.0</td>\n",
       "      <td>2.0</td>\n",
       "      <td>76.0</td>\n",
       "      <td>75.0</td>\n",
       "      <td>129900.0</td>\n",
       "      <td>...</td>\n",
       "      <td>0</td>\n",
       "      <td>1</td>\n",
       "      <td>0</td>\n",
       "      <td>0</td>\n",
       "      <td>0</td>\n",
       "      <td>0</td>\n",
       "      <td>0</td>\n",
       "      <td>0</td>\n",
       "      <td>0</td>\n",
       "      <td>no aplica</td>\n",
       "    </tr>\n",
       "  </tbody>\n",
       "</table>\n",
       "<p>5 rows × 25 columns</p>\n",
       "</div>"
      ],
      "text/plain": [
       "                         id    latitud   longitud    place_l3 property_type  \\\n",
       "0  F5IvmD1uzzdIR7b96ozt4g== -34.558855 -58.452458       Nuñez  Departamento   \n",
       "1  IiT/P7WfYDcqbhu7tf5V4Q== -34.582403 -58.443841  Colegiales  Departamento   \n",
       "2  6XXcElx/4OwCcH4NI06Oiw== -34.605825 -58.422214     Almagro  Departamento   \n",
       "3  8R7hSzqWFk9rX4wBXxfORA== -34.561971 -58.455670    Belgrano  Departamento   \n",
       "4  UAKYqQx9s0MfIdLzrJv8Ig== -34.606738 -58.389426  Tribunales  Departamento   \n",
       "\n",
       "   property_rooms  property_bedrooms  property_surface_total  \\\n",
       "0             4.0                3.0                   160.0   \n",
       "1             2.0                1.0                    50.0   \n",
       "2             3.0                2.0                    47.0   \n",
       "3             2.0                1.0                    52.0   \n",
       "4             3.0                2.0                    76.0   \n",
       "\n",
       "   property_surface_covered  property_price  ... cochera  balcon hidromasaje  \\\n",
       "0                     146.0        460000.0  ...       1       1           0   \n",
       "1                      46.0        148000.0  ...       1       1           0   \n",
       "2                      47.0         89000.0  ...       0       0           0   \n",
       "3                      48.0        127000.0  ...       0       1           0   \n",
       "4                      75.0        129900.0  ...       0       1           0   \n",
       "\n",
       "  jardin  gimnasio  a_estrenar  sotano  quincho  sum  expensas_tipo  \n",
       "0      0         0           0       0        0    0      no aplica  \n",
       "1      0         0           0       0        0    0      no aplica  \n",
       "2      0         0           0       0        0    0      no aplica  \n",
       "3      0         0           1       0        0    0         medias  \n",
       "4      0         0           0       0        0    0      no aplica  \n",
       "\n",
       "[5 rows x 25 columns]"
      ]
     },
     "execution_count": 32,
     "metadata": {},
     "output_type": "execute_result"
    }
   ],
   "source": [
    "ds_propiedades.head()"
   ]
  },
  {
   "cell_type": "markdown",
   "metadata": {},
   "source": [
    "Ahora ya tenemos creadas las nuevas columnas, vamos a ver si podemos sacar algo de informacion de ellas"
   ]
  },
  {
   "cell_type": "code",
   "execution_count": 33,
   "metadata": {},
   "outputs": [
    {
     "data": {
      "text/plain": [
       "piscina                                                       9729\n",
       "cochera                                                      27031\n",
       "balcon                                                       52839\n",
       "hidromasaje                                                   4047\n",
       "jardin                                                        2688\n",
       "gimnasio                                                      6601\n",
       "a_estrenar                                                    8311\n",
       "sotano                                                          83\n",
       "quincho                                                       3173\n",
       "sum                                                          14847\n",
       "expensas_tipo    no aplicano aplicano aplicamediasno aplicamedi...\n",
       "dtype: object"
      ]
     },
     "execution_count": 33,
     "metadata": {},
     "output_type": "execute_result"
    }
   ],
   "source": [
    "columnas_agregadas = ['piscina', 'cochera', 'balcon', 'hidromasaje', 'jardin', 'gimnasio', 'a_estrenar', 'sotano', 'quincho', 'sum', 'expensas_tipo']\n",
    "\n",
    "ds_propiedades[columnas_agregadas].sum()"
   ]
  },
  {
   "cell_type": "markdown",
   "metadata": {},
   "source": [
    "Podemos ver que Piscina, Cochera, sum y Balcon tienen una gran cantidad de datos por lo que dejarlos realmente puede aportar valor, ahora vamos a analizar los otros uno por uno"
   ]
  },
  {
   "cell_type": "markdown",
   "metadata": {},
   "source": [
    "#### Jardin"
   ]
  },
  {
   "cell_type": "markdown",
   "metadata": {},
   "source": [
    "Siendo que tenemos tan pocos datos no podemos sacar conclusiones acertadas de esto. El jardín representa la superficie descubierta de nuestra propiedad, que ya está en el dataset, por lo tanto sería información redundante, entonces lo sacamos"
   ]
  },
  {
   "cell_type": "markdown",
   "metadata": {},
   "source": [
    "#### Hidromasaje, Gimnasio y Quincho"
   ]
  },
  {
   "cell_type": "markdown",
   "metadata": {},
   "source": [
    "En estos casos tambien vemos que hay pocos, pero con el dominio del problema podemos asumir que son un valor agregado poco frecuente y que aunque tengamos pocos, es muy probable que esten bien y tengan una relacion directa con lo 'premium' que es la propiedad"
   ]
  },
  {
   "cell_type": "markdown",
   "metadata": {},
   "source": [
    "#### A estrenar"
   ]
  },
  {
   "cell_type": "markdown",
   "metadata": {},
   "source": [
    "Este dato tambien es poco frecuente, pero es un gran valor agregado a la propiedad y una de las cosas que mas se tienen en cuenta a la hora de comprar propiedades. Por esto lo dejamos sin lugar a dudas"
   ]
  },
  {
   "cell_type": "markdown",
   "metadata": {},
   "source": [
    "#### Sotano "
   ]
  },
  {
   "cell_type": "markdown",
   "metadata": {},
   "source": [
    "El sotano es un dato que aparece en muy pocas propiedades, e incluso es un poco ambigüo ya que no tiene una descripcion detallada del mismo (puede ser una baulera o una planta completa). Por lo que tambien lo vamos a sacar"
   ]
  },
  {
   "cell_type": "markdown",
   "metadata": {},
   "source": [
    "#### Sacamos las columnas que no mantenemos"
   ]
  },
  {
   "cell_type": "code",
   "execution_count": 34,
   "metadata": {},
   "outputs": [],
   "source": [
    "ds_propiedades.drop(columns=['jardin', 'sotano'], inplace=True)"
   ]
  },
  {
   "cell_type": "markdown",
   "metadata": {},
   "source": [
    "## Dataset final"
   ]
  },
  {
   "cell_type": "code",
   "execution_count": 35,
   "metadata": {},
   "outputs": [],
   "source": [
    "ds_propiedades_xgboost = ds_propiedades.copy()"
   ]
  },
  {
   "cell_type": "code",
   "execution_count": 36,
   "metadata": {},
   "outputs": [
    {
     "name": "stdout",
     "output_type": "stream",
     "text": [
      "<class 'pandas.core.frame.DataFrame'>\n",
      "RangeIndex: 85693 entries, 0 to 85692\n",
      "Data columns (total 23 columns):\n",
      " #   Column                    Non-Null Count  Dtype  \n",
      "---  ------                    --------------  -----  \n",
      " 0   id                        85693 non-null  object \n",
      " 1   latitud                   85693 non-null  float64\n",
      " 2   longitud                  85693 non-null  float64\n",
      " 3   place_l3                  85693 non-null  object \n",
      " 4   property_type             85693 non-null  object \n",
      " 5   property_rooms            85693 non-null  float64\n",
      " 6   property_bedrooms         85693 non-null  float64\n",
      " 7   property_surface_total    85693 non-null  float64\n",
      " 8   property_surface_covered  85693 non-null  float64\n",
      " 9   property_price            85693 non-null  float64\n",
      " 10  property_title            85693 non-null  object \n",
      " 11  pxm2                      85693 non-null  float64\n",
      " 12  tipo_precio               85693 non-null  object \n",
      " 13  property_description      85693 non-null  object \n",
      " 14  piscina                   85693 non-null  int64  \n",
      " 15  cochera                   85693 non-null  int64  \n",
      " 16  balcon                    85693 non-null  int64  \n",
      " 17  hidromasaje               85693 non-null  int64  \n",
      " 18  gimnasio                  85693 non-null  int64  \n",
      " 19  a_estrenar                85693 non-null  int64  \n",
      " 20  quincho                   85693 non-null  int64  \n",
      " 21  sum                       85693 non-null  int64  \n",
      " 22  expensas_tipo             85693 non-null  object \n",
      "dtypes: float64(8), int64(8), object(7)\n",
      "memory usage: 15.0+ MB\n"
     ]
    }
   ],
   "source": [
    "ds_propiedades_xgboost.info()"
   ]
  },
  {
   "cell_type": "markdown",
   "metadata": {},
   "source": [
    "## 1b) Entranamiento XGBoost"
   ]
  },
  {
   "cell_type": "code",
   "execution_count": 37,
   "metadata": {},
   "outputs": [
    {
     "data": {
      "text/html": [
       "<div>\n",
       "<style scoped>\n",
       "    .dataframe tbody tr th:only-of-type {\n",
       "        vertical-align: middle;\n",
       "    }\n",
       "\n",
       "    .dataframe tbody tr th {\n",
       "        vertical-align: top;\n",
       "    }\n",
       "\n",
       "    .dataframe thead th {\n",
       "        text-align: right;\n",
       "    }\n",
       "</style>\n",
       "<table border=\"1\" class=\"dataframe\">\n",
       "  <thead>\n",
       "    <tr style=\"text-align: right;\">\n",
       "      <th></th>\n",
       "      <th>id</th>\n",
       "      <th>latitud</th>\n",
       "      <th>longitud</th>\n",
       "      <th>place_l3</th>\n",
       "      <th>property_type</th>\n",
       "      <th>property_rooms</th>\n",
       "      <th>property_bedrooms</th>\n",
       "      <th>property_surface_total</th>\n",
       "      <th>property_surface_covered</th>\n",
       "      <th>property_price</th>\n",
       "      <th>...</th>\n",
       "      <th>property_description</th>\n",
       "      <th>piscina</th>\n",
       "      <th>cochera</th>\n",
       "      <th>balcon</th>\n",
       "      <th>hidromasaje</th>\n",
       "      <th>gimnasio</th>\n",
       "      <th>a_estrenar</th>\n",
       "      <th>quincho</th>\n",
       "      <th>sum</th>\n",
       "      <th>expensas_tipo</th>\n",
       "    </tr>\n",
       "  </thead>\n",
       "  <tbody>\n",
       "    <tr>\n",
       "      <th>0</th>\n",
       "      <td>F5IvmD1uzzdIR7b96ozt4g==</td>\n",
       "      <td>-34.558855</td>\n",
       "      <td>-58.452458</td>\n",
       "      <td>Nuñez</td>\n",
       "      <td>Departamento</td>\n",
       "      <td>4.0</td>\n",
       "      <td>3.0</td>\n",
       "      <td>160.0</td>\n",
       "      <td>146.0</td>\n",
       "      <td>460000.0</td>\n",
       "      <td>...</td>\n",
       "      <td>Hermoso piso de 4 ambientes con dependencia y ...</td>\n",
       "      <td>0</td>\n",
       "      <td>1</td>\n",
       "      <td>1</td>\n",
       "      <td>0</td>\n",
       "      <td>0</td>\n",
       "      <td>0</td>\n",
       "      <td>0</td>\n",
       "      <td>0</td>\n",
       "      <td>no aplica</td>\n",
       "    </tr>\n",
       "    <tr>\n",
       "      <th>1</th>\n",
       "      <td>IiT/P7WfYDcqbhu7tf5V4Q==</td>\n",
       "      <td>-34.582403</td>\n",
       "      <td>-58.443841</td>\n",
       "      <td>Colegiales</td>\n",
       "      <td>Departamento</td>\n",
       "      <td>2.0</td>\n",
       "      <td>1.0</td>\n",
       "      <td>50.0</td>\n",
       "      <td>46.0</td>\n",
       "      <td>148000.0</td>\n",
       "      <td>...</td>\n",
       "      <td>2 ambientes con balcón y vista totalmente abie...</td>\n",
       "      <td>0</td>\n",
       "      <td>1</td>\n",
       "      <td>1</td>\n",
       "      <td>0</td>\n",
       "      <td>0</td>\n",
       "      <td>0</td>\n",
       "      <td>0</td>\n",
       "      <td>0</td>\n",
       "      <td>no aplica</td>\n",
       "    </tr>\n",
       "    <tr>\n",
       "      <th>2</th>\n",
       "      <td>6XXcElx/4OwCcH4NI06Oiw==</td>\n",
       "      <td>-34.605825</td>\n",
       "      <td>-58.422214</td>\n",
       "      <td>Almagro</td>\n",
       "      <td>Departamento</td>\n",
       "      <td>3.0</td>\n",
       "      <td>2.0</td>\n",
       "      <td>47.0</td>\n",
       "      <td>47.0</td>\n",
       "      <td>89000.0</td>\n",
       "      <td>...</td>\n",
       "      <td>**DIAZ VELEZ 4291 Y PRINGLES** Almagro.&lt;br&gt;&lt;br...</td>\n",
       "      <td>0</td>\n",
       "      <td>0</td>\n",
       "      <td>0</td>\n",
       "      <td>0</td>\n",
       "      <td>0</td>\n",
       "      <td>0</td>\n",
       "      <td>0</td>\n",
       "      <td>0</td>\n",
       "      <td>no aplica</td>\n",
       "    </tr>\n",
       "    <tr>\n",
       "      <th>3</th>\n",
       "      <td>8R7hSzqWFk9rX4wBXxfORA==</td>\n",
       "      <td>-34.561971</td>\n",
       "      <td>-58.455670</td>\n",
       "      <td>Belgrano</td>\n",
       "      <td>Departamento</td>\n",
       "      <td>2.0</td>\n",
       "      <td>1.0</td>\n",
       "      <td>52.0</td>\n",
       "      <td>48.0</td>\n",
       "      <td>127000.0</td>\n",
       "      <td>...</td>\n",
       "      <td>IMPECABLE 2 AMBIENTES A ESTRENAR!&lt;...</td>\n",
       "      <td>0</td>\n",
       "      <td>0</td>\n",
       "      <td>1</td>\n",
       "      <td>0</td>\n",
       "      <td>0</td>\n",
       "      <td>1</td>\n",
       "      <td>0</td>\n",
       "      <td>0</td>\n",
       "      <td>medias</td>\n",
       "    </tr>\n",
       "    <tr>\n",
       "      <th>4</th>\n",
       "      <td>UAKYqQx9s0MfIdLzrJv8Ig==</td>\n",
       "      <td>-34.606738</td>\n",
       "      <td>-58.389426</td>\n",
       "      <td>Tribunales</td>\n",
       "      <td>Departamento</td>\n",
       "      <td>3.0</td>\n",
       "      <td>2.0</td>\n",
       "      <td>76.0</td>\n",
       "      <td>75.0</td>\n",
       "      <td>129900.0</td>\n",
       "      <td>...</td>\n",
       "      <td>Excelente piso antiguo, lindísimo por sus tech...</td>\n",
       "      <td>0</td>\n",
       "      <td>0</td>\n",
       "      <td>1</td>\n",
       "      <td>0</td>\n",
       "      <td>0</td>\n",
       "      <td>0</td>\n",
       "      <td>0</td>\n",
       "      <td>0</td>\n",
       "      <td>no aplica</td>\n",
       "    </tr>\n",
       "  </tbody>\n",
       "</table>\n",
       "<p>5 rows × 23 columns</p>\n",
       "</div>"
      ],
      "text/plain": [
       "                         id    latitud   longitud    place_l3 property_type  \\\n",
       "0  F5IvmD1uzzdIR7b96ozt4g== -34.558855 -58.452458       Nuñez  Departamento   \n",
       "1  IiT/P7WfYDcqbhu7tf5V4Q== -34.582403 -58.443841  Colegiales  Departamento   \n",
       "2  6XXcElx/4OwCcH4NI06Oiw== -34.605825 -58.422214     Almagro  Departamento   \n",
       "3  8R7hSzqWFk9rX4wBXxfORA== -34.561971 -58.455670    Belgrano  Departamento   \n",
       "4  UAKYqQx9s0MfIdLzrJv8Ig== -34.606738 -58.389426  Tribunales  Departamento   \n",
       "\n",
       "   property_rooms  property_bedrooms  property_surface_total  \\\n",
       "0             4.0                3.0                   160.0   \n",
       "1             2.0                1.0                    50.0   \n",
       "2             3.0                2.0                    47.0   \n",
       "3             2.0                1.0                    52.0   \n",
       "4             3.0                2.0                    76.0   \n",
       "\n",
       "   property_surface_covered  property_price  ...  \\\n",
       "0                     146.0        460000.0  ...   \n",
       "1                      46.0        148000.0  ...   \n",
       "2                      47.0         89000.0  ...   \n",
       "3                      48.0        127000.0  ...   \n",
       "4                      75.0        129900.0  ...   \n",
       "\n",
       "                                property_description  piscina cochera balcon  \\\n",
       "0  Hermoso piso de 4 ambientes con dependencia y ...        0       1      1   \n",
       "1  2 ambientes con balcón y vista totalmente abie...        0       1      1   \n",
       "2  **DIAZ VELEZ 4291 Y PRINGLES** Almagro.<br><br...        0       0      0   \n",
       "3              IMPECABLE 2 AMBIENTES A ESTRENAR!<...        0       0      1   \n",
       "4  Excelente piso antiguo, lindísimo por sus tech...        0       0      1   \n",
       "\n",
       "   hidromasaje  gimnasio  a_estrenar  quincho  sum  expensas_tipo  \n",
       "0            0         0           0        0    0      no aplica  \n",
       "1            0         0           0        0    0      no aplica  \n",
       "2            0         0           0        0    0      no aplica  \n",
       "3            0         0           1        0    0         medias  \n",
       "4            0         0           0        0    0      no aplica  \n",
       "\n",
       "[5 rows x 23 columns]"
      ]
     },
     "execution_count": 37,
     "metadata": {},
     "output_type": "execute_result"
    }
   ],
   "source": [
    "ds_propiedades_xgboost.head()"
   ]
  },
  {
   "cell_type": "markdown",
   "metadata": {},
   "source": [
    "Separamos en columnas dummies para property_type, place_l3 y expensas_tipo"
   ]
  },
  {
   "cell_type": "code",
   "execution_count": 38,
   "metadata": {},
   "outputs": [],
   "source": [
    "ds_propiedades_xgboost = pd.get_dummies(ds_propiedades_xgboost, columns=['property_type', 'place_l3', 'expensas_tipo'])"
   ]
  },
  {
   "cell_type": "code",
   "execution_count": 39,
   "metadata": {},
   "outputs": [],
   "source": [
    "ds_propiedades_xgboost.drop(columns=['property_description', 'property_title', 'id', 'tipo_precio', 'pxm2'], inplace=True)"
   ]
  },
  {
   "cell_type": "code",
   "execution_count": 40,
   "metadata": {},
   "outputs": [
    {
     "data": {
      "text/html": [
       "<div>\n",
       "<style scoped>\n",
       "    .dataframe tbody tr th:only-of-type {\n",
       "        vertical-align: middle;\n",
       "    }\n",
       "\n",
       "    .dataframe tbody tr th {\n",
       "        vertical-align: top;\n",
       "    }\n",
       "\n",
       "    .dataframe thead th {\n",
       "        text-align: right;\n",
       "    }\n",
       "</style>\n",
       "<table border=\"1\" class=\"dataframe\">\n",
       "  <thead>\n",
       "    <tr style=\"text-align: right;\">\n",
       "      <th></th>\n",
       "      <th>latitud</th>\n",
       "      <th>longitud</th>\n",
       "      <th>property_rooms</th>\n",
       "      <th>property_bedrooms</th>\n",
       "      <th>property_surface_total</th>\n",
       "      <th>property_surface_covered</th>\n",
       "      <th>property_price</th>\n",
       "      <th>piscina</th>\n",
       "      <th>cochera</th>\n",
       "      <th>balcon</th>\n",
       "      <th>...</th>\n",
       "      <th>place_l3_Villa Riachuelo</th>\n",
       "      <th>place_l3_Villa Santa Rita</th>\n",
       "      <th>place_l3_Villa Soldati</th>\n",
       "      <th>place_l3_Villa Urquiza</th>\n",
       "      <th>place_l3_Villa del Parque</th>\n",
       "      <th>expensas_tipo_altas</th>\n",
       "      <th>expensas_tipo_bajas</th>\n",
       "      <th>expensas_tipo_medias</th>\n",
       "      <th>expensas_tipo_no aplica</th>\n",
       "      <th>expensas_tipo_sin</th>\n",
       "    </tr>\n",
       "  </thead>\n",
       "  <tbody>\n",
       "    <tr>\n",
       "      <th>0</th>\n",
       "      <td>-34.558855</td>\n",
       "      <td>-58.452458</td>\n",
       "      <td>4.0</td>\n",
       "      <td>3.0</td>\n",
       "      <td>160.0</td>\n",
       "      <td>146.0</td>\n",
       "      <td>460000.0</td>\n",
       "      <td>0</td>\n",
       "      <td>1</td>\n",
       "      <td>1</td>\n",
       "      <td>...</td>\n",
       "      <td>0</td>\n",
       "      <td>0</td>\n",
       "      <td>0</td>\n",
       "      <td>0</td>\n",
       "      <td>0</td>\n",
       "      <td>0</td>\n",
       "      <td>0</td>\n",
       "      <td>0</td>\n",
       "      <td>1</td>\n",
       "      <td>0</td>\n",
       "    </tr>\n",
       "    <tr>\n",
       "      <th>1</th>\n",
       "      <td>-34.582403</td>\n",
       "      <td>-58.443841</td>\n",
       "      <td>2.0</td>\n",
       "      <td>1.0</td>\n",
       "      <td>50.0</td>\n",
       "      <td>46.0</td>\n",
       "      <td>148000.0</td>\n",
       "      <td>0</td>\n",
       "      <td>1</td>\n",
       "      <td>1</td>\n",
       "      <td>...</td>\n",
       "      <td>0</td>\n",
       "      <td>0</td>\n",
       "      <td>0</td>\n",
       "      <td>0</td>\n",
       "      <td>0</td>\n",
       "      <td>0</td>\n",
       "      <td>0</td>\n",
       "      <td>0</td>\n",
       "      <td>1</td>\n",
       "      <td>0</td>\n",
       "    </tr>\n",
       "    <tr>\n",
       "      <th>2</th>\n",
       "      <td>-34.605825</td>\n",
       "      <td>-58.422214</td>\n",
       "      <td>3.0</td>\n",
       "      <td>2.0</td>\n",
       "      <td>47.0</td>\n",
       "      <td>47.0</td>\n",
       "      <td>89000.0</td>\n",
       "      <td>0</td>\n",
       "      <td>0</td>\n",
       "      <td>0</td>\n",
       "      <td>...</td>\n",
       "      <td>0</td>\n",
       "      <td>0</td>\n",
       "      <td>0</td>\n",
       "      <td>0</td>\n",
       "      <td>0</td>\n",
       "      <td>0</td>\n",
       "      <td>0</td>\n",
       "      <td>0</td>\n",
       "      <td>1</td>\n",
       "      <td>0</td>\n",
       "    </tr>\n",
       "    <tr>\n",
       "      <th>3</th>\n",
       "      <td>-34.561971</td>\n",
       "      <td>-58.455670</td>\n",
       "      <td>2.0</td>\n",
       "      <td>1.0</td>\n",
       "      <td>52.0</td>\n",
       "      <td>48.0</td>\n",
       "      <td>127000.0</td>\n",
       "      <td>0</td>\n",
       "      <td>0</td>\n",
       "      <td>1</td>\n",
       "      <td>...</td>\n",
       "      <td>0</td>\n",
       "      <td>0</td>\n",
       "      <td>0</td>\n",
       "      <td>0</td>\n",
       "      <td>0</td>\n",
       "      <td>0</td>\n",
       "      <td>0</td>\n",
       "      <td>1</td>\n",
       "      <td>0</td>\n",
       "      <td>0</td>\n",
       "    </tr>\n",
       "    <tr>\n",
       "      <th>4</th>\n",
       "      <td>-34.606738</td>\n",
       "      <td>-58.389426</td>\n",
       "      <td>3.0</td>\n",
       "      <td>2.0</td>\n",
       "      <td>76.0</td>\n",
       "      <td>75.0</td>\n",
       "      <td>129900.0</td>\n",
       "      <td>0</td>\n",
       "      <td>0</td>\n",
       "      <td>1</td>\n",
       "      <td>...</td>\n",
       "      <td>0</td>\n",
       "      <td>0</td>\n",
       "      <td>0</td>\n",
       "      <td>0</td>\n",
       "      <td>0</td>\n",
       "      <td>0</td>\n",
       "      <td>0</td>\n",
       "      <td>0</td>\n",
       "      <td>1</td>\n",
       "      <td>0</td>\n",
       "    </tr>\n",
       "  </tbody>\n",
       "</table>\n",
       "<p>5 rows × 80 columns</p>\n",
       "</div>"
      ],
      "text/plain": [
       "     latitud   longitud  property_rooms  property_bedrooms  \\\n",
       "0 -34.558855 -58.452458             4.0                3.0   \n",
       "1 -34.582403 -58.443841             2.0                1.0   \n",
       "2 -34.605825 -58.422214             3.0                2.0   \n",
       "3 -34.561971 -58.455670             2.0                1.0   \n",
       "4 -34.606738 -58.389426             3.0                2.0   \n",
       "\n",
       "   property_surface_total  property_surface_covered  property_price  piscina  \\\n",
       "0                   160.0                     146.0        460000.0        0   \n",
       "1                    50.0                      46.0        148000.0        0   \n",
       "2                    47.0                      47.0         89000.0        0   \n",
       "3                    52.0                      48.0        127000.0        0   \n",
       "4                    76.0                      75.0        129900.0        0   \n",
       "\n",
       "   cochera  balcon  ...  place_l3_Villa Riachuelo  place_l3_Villa Santa Rita  \\\n",
       "0        1       1  ...                         0                          0   \n",
       "1        1       1  ...                         0                          0   \n",
       "2        0       0  ...                         0                          0   \n",
       "3        0       1  ...                         0                          0   \n",
       "4        0       1  ...                         0                          0   \n",
       "\n",
       "   place_l3_Villa Soldati  place_l3_Villa Urquiza  place_l3_Villa del Parque  \\\n",
       "0                       0                       0                          0   \n",
       "1                       0                       0                          0   \n",
       "2                       0                       0                          0   \n",
       "3                       0                       0                          0   \n",
       "4                       0                       0                          0   \n",
       "\n",
       "   expensas_tipo_altas  expensas_tipo_bajas  expensas_tipo_medias  \\\n",
       "0                    0                    0                     0   \n",
       "1                    0                    0                     0   \n",
       "2                    0                    0                     0   \n",
       "3                    0                    0                     1   \n",
       "4                    0                    0                     0   \n",
       "\n",
       "   expensas_tipo_no aplica  expensas_tipo_sin  \n",
       "0                        1                  0  \n",
       "1                        1                  0  \n",
       "2                        1                  0  \n",
       "3                        0                  0  \n",
       "4                        1                  0  \n",
       "\n",
       "[5 rows x 80 columns]"
      ]
     },
     "execution_count": 40,
     "metadata": {},
     "output_type": "execute_result"
    }
   ],
   "source": [
    "ds_propiedades_xgboost.head()"
   ]
  },
  {
   "cell_type": "code",
   "execution_count": 41,
   "metadata": {},
   "outputs": [],
   "source": [
    "from sklearn.model_selection import train_test_split\n",
    "from sklearn import metrics\n",
    "import xgboost as xgb\n",
    "\n",
    "x_train, x_test, y_train, y_test = train_test_split(ds_propiedades_xgboost, ds_propiedades_xgboost['property_price'], test_size=0.20, random_state=1)\n",
    "x_train.drop(columns=['property_price'], inplace=True)\n",
    "x_test.drop(columns=['property_price'], inplace=True)"
   ]
  },
  {
   "cell_type": "markdown",
   "metadata": {},
   "source": [
    "### Modelo inicial sin optimizar (con los hiperparametros del TP1)"
   ]
  },
  {
   "cell_type": "markdown",
   "metadata": {},
   "source": [
    "En el tp1 hicimos una optimizacion de hiperparametros con StratifiedKFold pero no logramos mejoria, por lo que los hiperparametros son los default del modelo"
   ]
  },
  {
   "cell_type": "code",
   "execution_count": 42,
   "metadata": {},
   "outputs": [],
   "source": [
    "xgb_model = xgb.XGBRegressor(objective = 'reg:squarederror', random_state=1)"
   ]
  },
  {
   "cell_type": "code",
   "execution_count": 43,
   "metadata": {},
   "outputs": [],
   "source": [
    "xgb_model.fit(x_train, y_train)\n",
    "\n",
    "y_pred = xgb_model.predict(x_test)"
   ]
  },
  {
   "cell_type": "code",
   "execution_count": 44,
   "metadata": {},
   "outputs": [
    {
     "data": {
      "text/html": [
       "<div>\n",
       "<style scoped>\n",
       "    .dataframe tbody tr th:only-of-type {\n",
       "        vertical-align: middle;\n",
       "    }\n",
       "\n",
       "    .dataframe tbody tr th {\n",
       "        vertical-align: top;\n",
       "    }\n",
       "\n",
       "    .dataframe thead th {\n",
       "        text-align: right;\n",
       "    }\n",
       "</style>\n",
       "<table border=\"1\" class=\"dataframe\">\n",
       "  <thead>\n",
       "    <tr style=\"text-align: right;\">\n",
       "      <th></th>\n",
       "      <th>Valor Real</th>\n",
       "      <th>Prediccion</th>\n",
       "      <th>Error</th>\n",
       "    </tr>\n",
       "  </thead>\n",
       "  <tbody>\n",
       "    <tr>\n",
       "      <th>11387</th>\n",
       "      <td>170000.0</td>\n",
       "      <td>183790.640625</td>\n",
       "      <td>-13790.640625</td>\n",
       "    </tr>\n",
       "    <tr>\n",
       "      <th>78283</th>\n",
       "      <td>360000.0</td>\n",
       "      <td>301092.062500</td>\n",
       "      <td>58907.937500</td>\n",
       "    </tr>\n",
       "    <tr>\n",
       "      <th>15574</th>\n",
       "      <td>280000.0</td>\n",
       "      <td>282107.937500</td>\n",
       "      <td>-2107.937500</td>\n",
       "    </tr>\n",
       "    <tr>\n",
       "      <th>17122</th>\n",
       "      <td>129000.0</td>\n",
       "      <td>146419.031250</td>\n",
       "      <td>-17419.031250</td>\n",
       "    </tr>\n",
       "    <tr>\n",
       "      <th>8069</th>\n",
       "      <td>260000.0</td>\n",
       "      <td>266423.500000</td>\n",
       "      <td>-6423.500000</td>\n",
       "    </tr>\n",
       "  </tbody>\n",
       "</table>\n",
       "</div>"
      ],
      "text/plain": [
       "       Valor Real     Prediccion         Error\n",
       "11387    170000.0  183790.640625 -13790.640625\n",
       "78283    360000.0  301092.062500  58907.937500\n",
       "15574    280000.0  282107.937500  -2107.937500\n",
       "17122    129000.0  146419.031250 -17419.031250\n",
       "8069     260000.0  266423.500000  -6423.500000"
      ]
     },
     "execution_count": 44,
     "metadata": {},
     "output_type": "execute_result"
    }
   ],
   "source": [
    "performance = pd.DataFrame({'Valor Real': y_test,\n",
    "                            'Prediccion': y_pred,\n",
    "                            'Error': y_test - y_pred})\n",
    "\n",
    "performance.head()"
   ]
  },
  {
   "cell_type": "code",
   "execution_count": 45,
   "metadata": {},
   "outputs": [
    {
     "name": "stdout",
     "output_type": "stream",
     "text": [
      "El error (mse) de test es: 1473587857.3848019\n",
      "El error (rmse) de test es: 38387.33980604546\n",
      "El error (rmse) de test relativo es: 22.62140499622676%\n"
     ]
    }
   ],
   "source": [
    "mse = metrics.mean_squared_error(\n",
    "        y_true  = y_test,\n",
    "        y_pred  = y_pred,\n",
    "        squared = True\n",
    "         )\n",
    "\n",
    "print(f\"El error (mse) de test es: {mse}\")\n",
    "\n",
    "rmse = metrics.mean_squared_error(\n",
    "        y_true  = y_test,\n",
    "        y_pred  = y_pred,\n",
    "        squared = False\n",
    "         )\n",
    "\n",
    "print(f\"El error (rmse) de test es: {rmse}\")  \n",
    "print(f\"El error (rmse) de test relativo es: {rmse / y_test.mean() * 100}%\")"
   ]
  },
  {
   "cell_type": "code",
   "execution_count": 46,
   "metadata": {},
   "outputs": [
    {
     "name": "stdout",
     "output_type": "stream",
     "text": [
      "El coeficiente de Determinación R2 en train es: 0.9232276232123919\n",
      "El coeficiente de Determinación R2 en test es: 0.89301154705351\n"
     ]
    }
   ],
   "source": [
    "score_xgb_train = xgb_model.score(x_train, y_train)\n",
    "score_xgb_test = xgb_model.score(x_test, y_test)\n",
    "print(f\"El coeficiente de Determinación R2 en train es: {score_xgb_train}\")\n",
    "print(f\"El coeficiente de Determinación R2 en test es: {score_xgb_test}\")"
   ]
  },
  {
   "cell_type": "markdown",
   "metadata": {},
   "source": [
    "Viendo la comparacion directa contra el mismo modelo en el TP1, podemos ver que el modelo mejoro bastante con los nuevos datos que generamos.\n",
    "\n",
    "El error (mse) de test pasa de 1907948928.924305 -> 1473587857.3848019\n",
    "\n",
    "El error (rmse) de test pasa de 43680.074735791204 -> 38387.33980604546  (12,1% mejor)\n",
    "\n",
    "El R2 en train pasa de 0.8918109411819658 -> 0.9232276232123919 \n",
    "\n",
    "El R2 en test pasa de 0.860060265420469 -> 0.89301154705351\n",
    "\n",
    "\n",
    "Esto demuestra que las variables que generamos a partir de las descripciones son muy utiles para el modelo, y que el modelo mejora bastante con ellas."
   ]
  },
  {
   "cell_type": "markdown",
   "metadata": {},
   "source": [
    "### Probamos optimizar los hiperparametros"
   ]
  },
  {
   "cell_type": "code",
   "execution_count": 47,
   "metadata": {},
   "outputs": [
    {
     "name": "stderr",
     "output_type": "stream",
     "text": [
      "d:\\Programas\\Python\\lib\\site-packages\\sklearn\\model_selection\\_split.py:684: UserWarning: The least populated class in y has only 1 members, which is less than n_splits=5.\n",
      "  warnings.warn(\n"
     ]
    },
    {
     "ename": "KeyboardInterrupt",
     "evalue": "",
     "output_type": "error",
     "traceback": [
      "\u001b[1;31m---------------------------------------------------------------------------\u001b[0m",
      "\u001b[1;31mKeyboardInterrupt\u001b[0m                         Traceback (most recent call last)",
      "Cell \u001b[1;32mIn [47], line 31\u001b[0m\n\u001b[0;32m     22\u001b[0m scorer_fn \u001b[39m=\u001b[39m make_scorer(r2_score)\n\u001b[0;32m     24\u001b[0m random_search_cv \u001b[39m=\u001b[39m RandomizedSearchCV(estimator\u001b[39m=\u001b[39mxgb_cv,\n\u001b[0;32m     25\u001b[0m                               param_distributions \u001b[39m=\u001b[39m xgb_param_grid,\n\u001b[0;32m     26\u001b[0m                               scoring\u001b[39m=\u001b[39m\u001b[39m'\u001b[39m\u001b[39mneg_mean_squared_error\u001b[39m\u001b[39m'\u001b[39m,\n\u001b[0;32m     27\u001b[0m                               cv\u001b[39m=\u001b[39mkfoldcv,\n\u001b[0;32m     28\u001b[0m                               n_iter\u001b[39m=\u001b[39mn,\n\u001b[0;32m     29\u001b[0m                               random_state\u001b[39m=\u001b[39m\u001b[39m10\u001b[39m) \n\u001b[1;32m---> 31\u001b[0m random_fit \u001b[39m=\u001b[39m random_search_cv\u001b[39m.\u001b[39mfit(x_train[[\u001b[39m'\u001b[39m\u001b[39mproperty_rooms\u001b[39m\u001b[39m'\u001b[39m]], y_train)\n",
      "File \u001b[1;32md:\\Programas\\Python\\lib\\site-packages\\sklearn\\model_selection\\_search.py:875\u001b[0m, in \u001b[0;36mBaseSearchCV.fit\u001b[1;34m(self, X, y, groups, **fit_params)\u001b[0m\n\u001b[0;32m    869\u001b[0m     results \u001b[39m=\u001b[39m \u001b[39mself\u001b[39m\u001b[39m.\u001b[39m_format_results(\n\u001b[0;32m    870\u001b[0m         all_candidate_params, n_splits, all_out, all_more_results\n\u001b[0;32m    871\u001b[0m     )\n\u001b[0;32m    873\u001b[0m     \u001b[39mreturn\u001b[39;00m results\n\u001b[1;32m--> 875\u001b[0m \u001b[39mself\u001b[39;49m\u001b[39m.\u001b[39;49m_run_search(evaluate_candidates)\n\u001b[0;32m    877\u001b[0m \u001b[39m# multimetric is determined here because in the case of a callable\u001b[39;00m\n\u001b[0;32m    878\u001b[0m \u001b[39m# self.scoring the return type is only known after calling\u001b[39;00m\n\u001b[0;32m    879\u001b[0m first_test_score \u001b[39m=\u001b[39m all_out[\u001b[39m0\u001b[39m][\u001b[39m\"\u001b[39m\u001b[39mtest_scores\u001b[39m\u001b[39m\"\u001b[39m]\n",
      "File \u001b[1;32md:\\Programas\\Python\\lib\\site-packages\\sklearn\\model_selection\\_search.py:1753\u001b[0m, in \u001b[0;36mRandomizedSearchCV._run_search\u001b[1;34m(self, evaluate_candidates)\u001b[0m\n\u001b[0;32m   1751\u001b[0m \u001b[39mdef\u001b[39;00m \u001b[39m_run_search\u001b[39m(\u001b[39mself\u001b[39m, evaluate_candidates):\n\u001b[0;32m   1752\u001b[0m     \u001b[39m\"\"\"Search n_iter candidates from param_distributions\"\"\"\u001b[39;00m\n\u001b[1;32m-> 1753\u001b[0m     evaluate_candidates(\n\u001b[0;32m   1754\u001b[0m         ParameterSampler(\n\u001b[0;32m   1755\u001b[0m             \u001b[39mself\u001b[39;49m\u001b[39m.\u001b[39;49mparam_distributions, \u001b[39mself\u001b[39;49m\u001b[39m.\u001b[39;49mn_iter, random_state\u001b[39m=\u001b[39;49m\u001b[39mself\u001b[39;49m\u001b[39m.\u001b[39;49mrandom_state\n\u001b[0;32m   1756\u001b[0m         )\n\u001b[0;32m   1757\u001b[0m     )\n",
      "File \u001b[1;32md:\\Programas\\Python\\lib\\site-packages\\sklearn\\model_selection\\_search.py:822\u001b[0m, in \u001b[0;36mBaseSearchCV.fit.<locals>.evaluate_candidates\u001b[1;34m(candidate_params, cv, more_results)\u001b[0m\n\u001b[0;32m    814\u001b[0m \u001b[39mif\u001b[39;00m \u001b[39mself\u001b[39m\u001b[39m.\u001b[39mverbose \u001b[39m>\u001b[39m \u001b[39m0\u001b[39m:\n\u001b[0;32m    815\u001b[0m     \u001b[39mprint\u001b[39m(\n\u001b[0;32m    816\u001b[0m         \u001b[39m\"\u001b[39m\u001b[39mFitting \u001b[39m\u001b[39m{0}\u001b[39;00m\u001b[39m folds for each of \u001b[39m\u001b[39m{1}\u001b[39;00m\u001b[39m candidates,\u001b[39m\u001b[39m\"\u001b[39m\n\u001b[0;32m    817\u001b[0m         \u001b[39m\"\u001b[39m\u001b[39m totalling \u001b[39m\u001b[39m{2}\u001b[39;00m\u001b[39m fits\u001b[39m\u001b[39m\"\u001b[39m\u001b[39m.\u001b[39mformat(\n\u001b[0;32m    818\u001b[0m             n_splits, n_candidates, n_candidates \u001b[39m*\u001b[39m n_splits\n\u001b[0;32m    819\u001b[0m         )\n\u001b[0;32m    820\u001b[0m     )\n\u001b[1;32m--> 822\u001b[0m out \u001b[39m=\u001b[39m parallel(\n\u001b[0;32m    823\u001b[0m     delayed(_fit_and_score)(\n\u001b[0;32m    824\u001b[0m         clone(base_estimator),\n\u001b[0;32m    825\u001b[0m         X,\n\u001b[0;32m    826\u001b[0m         y,\n\u001b[0;32m    827\u001b[0m         train\u001b[39m=\u001b[39;49mtrain,\n\u001b[0;32m    828\u001b[0m         test\u001b[39m=\u001b[39;49mtest,\n\u001b[0;32m    829\u001b[0m         parameters\u001b[39m=\u001b[39;49mparameters,\n\u001b[0;32m    830\u001b[0m         split_progress\u001b[39m=\u001b[39;49m(split_idx, n_splits),\n\u001b[0;32m    831\u001b[0m         candidate_progress\u001b[39m=\u001b[39;49m(cand_idx, n_candidates),\n\u001b[0;32m    832\u001b[0m         \u001b[39m*\u001b[39;49m\u001b[39m*\u001b[39;49mfit_and_score_kwargs,\n\u001b[0;32m    833\u001b[0m     )\n\u001b[0;32m    834\u001b[0m     \u001b[39mfor\u001b[39;49;00m (cand_idx, parameters), (split_idx, (train, test)) \u001b[39min\u001b[39;49;00m product(\n\u001b[0;32m    835\u001b[0m         \u001b[39menumerate\u001b[39;49m(candidate_params), \u001b[39menumerate\u001b[39;49m(cv\u001b[39m.\u001b[39;49msplit(X, y, groups))\n\u001b[0;32m    836\u001b[0m     )\n\u001b[0;32m    837\u001b[0m )\n\u001b[0;32m    839\u001b[0m \u001b[39mif\u001b[39;00m \u001b[39mlen\u001b[39m(out) \u001b[39m<\u001b[39m \u001b[39m1\u001b[39m:\n\u001b[0;32m    840\u001b[0m     \u001b[39mraise\u001b[39;00m \u001b[39mValueError\u001b[39;00m(\n\u001b[0;32m    841\u001b[0m         \u001b[39m\"\u001b[39m\u001b[39mNo fits were performed. \u001b[39m\u001b[39m\"\u001b[39m\n\u001b[0;32m    842\u001b[0m         \u001b[39m\"\u001b[39m\u001b[39mWas the CV iterator empty? \u001b[39m\u001b[39m\"\u001b[39m\n\u001b[0;32m    843\u001b[0m         \u001b[39m\"\u001b[39m\u001b[39mWere there no candidates?\u001b[39m\u001b[39m\"\u001b[39m\n\u001b[0;32m    844\u001b[0m     )\n",
      "File \u001b[1;32md:\\Programas\\Python\\lib\\site-packages\\joblib\\parallel.py:1088\u001b[0m, in \u001b[0;36mParallel.__call__\u001b[1;34m(self, iterable)\u001b[0m\n\u001b[0;32m   1085\u001b[0m \u001b[39mif\u001b[39;00m \u001b[39mself\u001b[39m\u001b[39m.\u001b[39mdispatch_one_batch(iterator):\n\u001b[0;32m   1086\u001b[0m     \u001b[39mself\u001b[39m\u001b[39m.\u001b[39m_iterating \u001b[39m=\u001b[39m \u001b[39mself\u001b[39m\u001b[39m.\u001b[39m_original_iterator \u001b[39mis\u001b[39;00m \u001b[39mnot\u001b[39;00m \u001b[39mNone\u001b[39;00m\n\u001b[1;32m-> 1088\u001b[0m \u001b[39mwhile\u001b[39;00m \u001b[39mself\u001b[39;49m\u001b[39m.\u001b[39;49mdispatch_one_batch(iterator):\n\u001b[0;32m   1089\u001b[0m     \u001b[39mpass\u001b[39;00m\n\u001b[0;32m   1091\u001b[0m \u001b[39mif\u001b[39;00m pre_dispatch \u001b[39m==\u001b[39m \u001b[39m\"\u001b[39m\u001b[39mall\u001b[39m\u001b[39m\"\u001b[39m \u001b[39mor\u001b[39;00m n_jobs \u001b[39m==\u001b[39m \u001b[39m1\u001b[39m:\n\u001b[0;32m   1092\u001b[0m     \u001b[39m# The iterable was consumed all at once by the above for loop.\u001b[39;00m\n\u001b[0;32m   1093\u001b[0m     \u001b[39m# No need to wait for async callbacks to trigger to\u001b[39;00m\n\u001b[0;32m   1094\u001b[0m     \u001b[39m# consumption.\u001b[39;00m\n",
      "File \u001b[1;32md:\\Programas\\Python\\lib\\site-packages\\joblib\\parallel.py:901\u001b[0m, in \u001b[0;36mParallel.dispatch_one_batch\u001b[1;34m(self, iterator)\u001b[0m\n\u001b[0;32m    899\u001b[0m     \u001b[39mreturn\u001b[39;00m \u001b[39mFalse\u001b[39;00m\n\u001b[0;32m    900\u001b[0m \u001b[39melse\u001b[39;00m:\n\u001b[1;32m--> 901\u001b[0m     \u001b[39mself\u001b[39;49m\u001b[39m.\u001b[39;49m_dispatch(tasks)\n\u001b[0;32m    902\u001b[0m     \u001b[39mreturn\u001b[39;00m \u001b[39mTrue\u001b[39;00m\n",
      "File \u001b[1;32md:\\Programas\\Python\\lib\\site-packages\\joblib\\parallel.py:819\u001b[0m, in \u001b[0;36mParallel._dispatch\u001b[1;34m(self, batch)\u001b[0m\n\u001b[0;32m    817\u001b[0m \u001b[39mwith\u001b[39;00m \u001b[39mself\u001b[39m\u001b[39m.\u001b[39m_lock:\n\u001b[0;32m    818\u001b[0m     job_idx \u001b[39m=\u001b[39m \u001b[39mlen\u001b[39m(\u001b[39mself\u001b[39m\u001b[39m.\u001b[39m_jobs)\n\u001b[1;32m--> 819\u001b[0m     job \u001b[39m=\u001b[39m \u001b[39mself\u001b[39;49m\u001b[39m.\u001b[39;49m_backend\u001b[39m.\u001b[39;49mapply_async(batch, callback\u001b[39m=\u001b[39;49mcb)\n\u001b[0;32m    820\u001b[0m     \u001b[39m# A job can complete so quickly than its callback is\u001b[39;00m\n\u001b[0;32m    821\u001b[0m     \u001b[39m# called before we get here, causing self._jobs to\u001b[39;00m\n\u001b[0;32m    822\u001b[0m     \u001b[39m# grow. To ensure correct results ordering, .insert is\u001b[39;00m\n\u001b[0;32m    823\u001b[0m     \u001b[39m# used (rather than .append) in the following line\u001b[39;00m\n\u001b[0;32m    824\u001b[0m     \u001b[39mself\u001b[39m\u001b[39m.\u001b[39m_jobs\u001b[39m.\u001b[39minsert(job_idx, job)\n",
      "File \u001b[1;32md:\\Programas\\Python\\lib\\site-packages\\joblib\\_parallel_backends.py:208\u001b[0m, in \u001b[0;36mSequentialBackend.apply_async\u001b[1;34m(self, func, callback)\u001b[0m\n\u001b[0;32m    206\u001b[0m \u001b[39mdef\u001b[39;00m \u001b[39mapply_async\u001b[39m(\u001b[39mself\u001b[39m, func, callback\u001b[39m=\u001b[39m\u001b[39mNone\u001b[39;00m):\n\u001b[0;32m    207\u001b[0m     \u001b[39m\"\"\"Schedule a func to be run\"\"\"\u001b[39;00m\n\u001b[1;32m--> 208\u001b[0m     result \u001b[39m=\u001b[39m ImmediateResult(func)\n\u001b[0;32m    209\u001b[0m     \u001b[39mif\u001b[39;00m callback:\n\u001b[0;32m    210\u001b[0m         callback(result)\n",
      "File \u001b[1;32md:\\Programas\\Python\\lib\\site-packages\\joblib\\_parallel_backends.py:597\u001b[0m, in \u001b[0;36mImmediateResult.__init__\u001b[1;34m(self, batch)\u001b[0m\n\u001b[0;32m    594\u001b[0m \u001b[39mdef\u001b[39;00m \u001b[39m__init__\u001b[39m(\u001b[39mself\u001b[39m, batch):\n\u001b[0;32m    595\u001b[0m     \u001b[39m# Don't delay the application, to avoid keeping the input\u001b[39;00m\n\u001b[0;32m    596\u001b[0m     \u001b[39m# arguments in memory\u001b[39;00m\n\u001b[1;32m--> 597\u001b[0m     \u001b[39mself\u001b[39m\u001b[39m.\u001b[39mresults \u001b[39m=\u001b[39m batch()\n",
      "File \u001b[1;32md:\\Programas\\Python\\lib\\site-packages\\joblib\\parallel.py:288\u001b[0m, in \u001b[0;36mBatchedCalls.__call__\u001b[1;34m(self)\u001b[0m\n\u001b[0;32m    284\u001b[0m \u001b[39mdef\u001b[39;00m \u001b[39m__call__\u001b[39m(\u001b[39mself\u001b[39m):\n\u001b[0;32m    285\u001b[0m     \u001b[39m# Set the default nested backend to self._backend but do not set the\u001b[39;00m\n\u001b[0;32m    286\u001b[0m     \u001b[39m# change the default number of processes to -1\u001b[39;00m\n\u001b[0;32m    287\u001b[0m     \u001b[39mwith\u001b[39;00m parallel_backend(\u001b[39mself\u001b[39m\u001b[39m.\u001b[39m_backend, n_jobs\u001b[39m=\u001b[39m\u001b[39mself\u001b[39m\u001b[39m.\u001b[39m_n_jobs):\n\u001b[1;32m--> 288\u001b[0m         \u001b[39mreturn\u001b[39;00m [func(\u001b[39m*\u001b[39margs, \u001b[39m*\u001b[39m\u001b[39m*\u001b[39mkwargs)\n\u001b[0;32m    289\u001b[0m                 \u001b[39mfor\u001b[39;00m func, args, kwargs \u001b[39min\u001b[39;00m \u001b[39mself\u001b[39m\u001b[39m.\u001b[39mitems]\n",
      "File \u001b[1;32md:\\Programas\\Python\\lib\\site-packages\\joblib\\parallel.py:288\u001b[0m, in \u001b[0;36m<listcomp>\u001b[1;34m(.0)\u001b[0m\n\u001b[0;32m    284\u001b[0m \u001b[39mdef\u001b[39;00m \u001b[39m__call__\u001b[39m(\u001b[39mself\u001b[39m):\n\u001b[0;32m    285\u001b[0m     \u001b[39m# Set the default nested backend to self._backend but do not set the\u001b[39;00m\n\u001b[0;32m    286\u001b[0m     \u001b[39m# change the default number of processes to -1\u001b[39;00m\n\u001b[0;32m    287\u001b[0m     \u001b[39mwith\u001b[39;00m parallel_backend(\u001b[39mself\u001b[39m\u001b[39m.\u001b[39m_backend, n_jobs\u001b[39m=\u001b[39m\u001b[39mself\u001b[39m\u001b[39m.\u001b[39m_n_jobs):\n\u001b[1;32m--> 288\u001b[0m         \u001b[39mreturn\u001b[39;00m [func(\u001b[39m*\u001b[39margs, \u001b[39m*\u001b[39m\u001b[39m*\u001b[39mkwargs)\n\u001b[0;32m    289\u001b[0m                 \u001b[39mfor\u001b[39;00m func, args, kwargs \u001b[39min\u001b[39;00m \u001b[39mself\u001b[39m\u001b[39m.\u001b[39mitems]\n",
      "File \u001b[1;32md:\\Programas\\Python\\lib\\site-packages\\sklearn\\utils\\fixes.py:117\u001b[0m, in \u001b[0;36m_FuncWrapper.__call__\u001b[1;34m(self, *args, **kwargs)\u001b[0m\n\u001b[0;32m    115\u001b[0m \u001b[39mdef\u001b[39;00m \u001b[39m__call__\u001b[39m(\u001b[39mself\u001b[39m, \u001b[39m*\u001b[39margs, \u001b[39m*\u001b[39m\u001b[39m*\u001b[39mkwargs):\n\u001b[0;32m    116\u001b[0m     \u001b[39mwith\u001b[39;00m config_context(\u001b[39m*\u001b[39m\u001b[39m*\u001b[39m\u001b[39mself\u001b[39m\u001b[39m.\u001b[39mconfig):\n\u001b[1;32m--> 117\u001b[0m         \u001b[39mreturn\u001b[39;00m \u001b[39mself\u001b[39m\u001b[39m.\u001b[39mfunction(\u001b[39m*\u001b[39margs, \u001b[39m*\u001b[39m\u001b[39m*\u001b[39mkwargs)\n",
      "File \u001b[1;32md:\\Programas\\Python\\lib\\site-packages\\sklearn\\model_selection\\_validation.py:686\u001b[0m, in \u001b[0;36m_fit_and_score\u001b[1;34m(estimator, X, y, scorer, train, test, verbose, parameters, fit_params, return_train_score, return_parameters, return_n_test_samples, return_times, return_estimator, split_progress, candidate_progress, error_score)\u001b[0m\n\u001b[0;32m    684\u001b[0m         estimator\u001b[39m.\u001b[39mfit(X_train, \u001b[39m*\u001b[39m\u001b[39m*\u001b[39mfit_params)\n\u001b[0;32m    685\u001b[0m     \u001b[39melse\u001b[39;00m:\n\u001b[1;32m--> 686\u001b[0m         estimator\u001b[39m.\u001b[39mfit(X_train, y_train, \u001b[39m*\u001b[39m\u001b[39m*\u001b[39mfit_params)\n\u001b[0;32m    688\u001b[0m \u001b[39mexcept\u001b[39;00m \u001b[39mException\u001b[39;00m:\n\u001b[0;32m    689\u001b[0m     \u001b[39m# Note fit time as time until error\u001b[39;00m\n\u001b[0;32m    690\u001b[0m     fit_time \u001b[39m=\u001b[39m time\u001b[39m.\u001b[39mtime() \u001b[39m-\u001b[39m start_time\n",
      "File \u001b[1;32md:\\Programas\\Python\\lib\\site-packages\\xgboost\\core.py:620\u001b[0m, in \u001b[0;36mrequire_keyword_args.<locals>.throw_if.<locals>.inner_f\u001b[1;34m(*args, **kwargs)\u001b[0m\n\u001b[0;32m    618\u001b[0m \u001b[39mfor\u001b[39;00m k, arg \u001b[39min\u001b[39;00m \u001b[39mzip\u001b[39m(sig\u001b[39m.\u001b[39mparameters, args):\n\u001b[0;32m    619\u001b[0m     kwargs[k] \u001b[39m=\u001b[39m arg\n\u001b[1;32m--> 620\u001b[0m \u001b[39mreturn\u001b[39;00m func(\u001b[39m*\u001b[39m\u001b[39m*\u001b[39mkwargs)\n",
      "File \u001b[1;32md:\\Programas\\Python\\lib\\site-packages\\xgboost\\sklearn.py:1051\u001b[0m, in \u001b[0;36mXGBModel.fit\u001b[1;34m(self, X, y, sample_weight, base_margin, eval_set, eval_metric, early_stopping_rounds, verbose, xgb_model, sample_weight_eval_set, base_margin_eval_set, feature_weights, callbacks)\u001b[0m\n\u001b[0;32m   1040\u001b[0m     obj \u001b[39m=\u001b[39m \u001b[39mNone\u001b[39;00m\n\u001b[0;32m   1042\u001b[0m (\n\u001b[0;32m   1043\u001b[0m     model,\n\u001b[0;32m   1044\u001b[0m     metric,\n\u001b[1;32m   (...)\u001b[0m\n\u001b[0;32m   1049\u001b[0m     xgb_model, eval_metric, params, early_stopping_rounds, callbacks\n\u001b[0;32m   1050\u001b[0m )\n\u001b[1;32m-> 1051\u001b[0m \u001b[39mself\u001b[39m\u001b[39m.\u001b[39m_Booster \u001b[39m=\u001b[39m train(\n\u001b[0;32m   1052\u001b[0m     params,\n\u001b[0;32m   1053\u001b[0m     train_dmatrix,\n\u001b[0;32m   1054\u001b[0m     \u001b[39mself\u001b[39;49m\u001b[39m.\u001b[39;49mget_num_boosting_rounds(),\n\u001b[0;32m   1055\u001b[0m     evals\u001b[39m=\u001b[39;49mevals,\n\u001b[0;32m   1056\u001b[0m     early_stopping_rounds\u001b[39m=\u001b[39;49mearly_stopping_rounds,\n\u001b[0;32m   1057\u001b[0m     evals_result\u001b[39m=\u001b[39;49mevals_result,\n\u001b[0;32m   1058\u001b[0m     obj\u001b[39m=\u001b[39;49mobj,\n\u001b[0;32m   1059\u001b[0m     custom_metric\u001b[39m=\u001b[39;49mmetric,\n\u001b[0;32m   1060\u001b[0m     verbose_eval\u001b[39m=\u001b[39;49mverbose,\n\u001b[0;32m   1061\u001b[0m     xgb_model\u001b[39m=\u001b[39;49mmodel,\n\u001b[0;32m   1062\u001b[0m     callbacks\u001b[39m=\u001b[39;49mcallbacks,\n\u001b[0;32m   1063\u001b[0m )\n\u001b[0;32m   1065\u001b[0m \u001b[39mself\u001b[39m\u001b[39m.\u001b[39m_set_evaluation_result(evals_result)\n\u001b[0;32m   1066\u001b[0m \u001b[39mreturn\u001b[39;00m \u001b[39mself\u001b[39m\n",
      "File \u001b[1;32md:\\Programas\\Python\\lib\\site-packages\\xgboost\\core.py:620\u001b[0m, in \u001b[0;36mrequire_keyword_args.<locals>.throw_if.<locals>.inner_f\u001b[1;34m(*args, **kwargs)\u001b[0m\n\u001b[0;32m    618\u001b[0m \u001b[39mfor\u001b[39;00m k, arg \u001b[39min\u001b[39;00m \u001b[39mzip\u001b[39m(sig\u001b[39m.\u001b[39mparameters, args):\n\u001b[0;32m    619\u001b[0m     kwargs[k] \u001b[39m=\u001b[39m arg\n\u001b[1;32m--> 620\u001b[0m \u001b[39mreturn\u001b[39;00m func(\u001b[39m*\u001b[39m\u001b[39m*\u001b[39mkwargs)\n",
      "File \u001b[1;32md:\\Programas\\Python\\lib\\site-packages\\xgboost\\training.py:185\u001b[0m, in \u001b[0;36mtrain\u001b[1;34m(params, dtrain, num_boost_round, evals, obj, feval, maximize, early_stopping_rounds, evals_result, verbose_eval, xgb_model, callbacks, custom_metric)\u001b[0m\n\u001b[0;32m    183\u001b[0m \u001b[39mif\u001b[39;00m cb_container\u001b[39m.\u001b[39mbefore_iteration(bst, i, dtrain, evals):\n\u001b[0;32m    184\u001b[0m     \u001b[39mbreak\u001b[39;00m\n\u001b[1;32m--> 185\u001b[0m bst\u001b[39m.\u001b[39;49mupdate(dtrain, i, obj)\n\u001b[0;32m    186\u001b[0m \u001b[39mif\u001b[39;00m cb_container\u001b[39m.\u001b[39mafter_iteration(bst, i, dtrain, evals):\n\u001b[0;32m    187\u001b[0m     \u001b[39mbreak\u001b[39;00m\n",
      "File \u001b[1;32md:\\Programas\\Python\\lib\\site-packages\\xgboost\\core.py:1918\u001b[0m, in \u001b[0;36mBooster.update\u001b[1;34m(self, dtrain, iteration, fobj)\u001b[0m\n\u001b[0;32m   1915\u001b[0m \u001b[39mself\u001b[39m\u001b[39m.\u001b[39m_validate_dmatrix_features(dtrain)\n\u001b[0;32m   1917\u001b[0m \u001b[39mif\u001b[39;00m fobj \u001b[39mis\u001b[39;00m \u001b[39mNone\u001b[39;00m:\n\u001b[1;32m-> 1918\u001b[0m     _check_call(_LIB\u001b[39m.\u001b[39;49mXGBoosterUpdateOneIter(\u001b[39mself\u001b[39;49m\u001b[39m.\u001b[39;49mhandle,\n\u001b[0;32m   1919\u001b[0m                                             ctypes\u001b[39m.\u001b[39;49mc_int(iteration),\n\u001b[0;32m   1920\u001b[0m                                             dtrain\u001b[39m.\u001b[39;49mhandle))\n\u001b[0;32m   1921\u001b[0m \u001b[39melse\u001b[39;00m:\n\u001b[0;32m   1922\u001b[0m     pred \u001b[39m=\u001b[39m \u001b[39mself\u001b[39m\u001b[39m.\u001b[39mpredict(dtrain, output_margin\u001b[39m=\u001b[39m\u001b[39mTrue\u001b[39;00m, training\u001b[39m=\u001b[39m\u001b[39mTrue\u001b[39;00m)\n",
      "\u001b[1;31mKeyboardInterrupt\u001b[0m: "
     ]
    }
   ],
   "source": [
    "import xgboost as xgb\n",
    "from sklearn.model_selection import StratifiedKFold\n",
    "from sklearn.model_selection import RandomizedSearchCV\n",
    "from sklearn.metrics import make_scorer, r2_score\n",
    "\n",
    "\n",
    "xgb_cv = xgb.XGBRegressor(objective = 'reg:squarederror', random_state=2)\n",
    "\n",
    "n=10\n",
    "\n",
    "#xgb param grid\n",
    "xgb_param_grid = {\n",
    "    'n_estimators': [50, 100],\n",
    "    'learning_rate': [0.1, 0.3],\n",
    "    'max_depth': [3, 7],\n",
    "    'gamma': [0.3, 0.4],\n",
    "}\n",
    "\n",
    "folds=5\n",
    "kfoldcv = StratifiedKFold(n_splits=folds, random_state=10,shuffle=True)\n",
    "\n",
    "scorer_fn = make_scorer(r2_score)\n",
    "\n",
    "random_search_cv = RandomizedSearchCV(estimator=xgb_cv,\n",
    "                              param_distributions = xgb_param_grid,\n",
    "                              scoring='neg_mean_squared_error',\n",
    "                              cv=kfoldcv,\n",
    "                              n_iter=n,\n",
    "                              random_state=10) \n",
    "\n",
    "random_fit = random_search_cv.fit(x_train[['property_rooms']], y_train)"
   ]
  },
  {
   "cell_type": "code",
   "execution_count": null,
   "metadata": {},
   "outputs": [
    {
     "name": "stdout",
     "output_type": "stream",
     "text": [
      "{'n_estimators': 100, 'max_depth': 7, 'learning_rate': 0.1, 'gamma': 0.3}\n"
     ]
    }
   ],
   "source": [
    "print(random_fit.best_params_)"
   ]
  },
  {
   "cell_type": "code",
   "execution_count": null,
   "metadata": {},
   "outputs": [],
   "source": [
    "parametros = random_fit.best_params_\n",
    "\n",
    "xgb_model = xgb.XGBRegressor(learning_rate=parametros['learning_rate'], n_estimators=parametros['n_estimators'], gamma=parametros['gamma'], max_depth = parametros['max_depth'], random_state=1)\n",
    "\n",
    "model = xgb_model.fit(X = x_train, y = y_train) \n",
    "\n",
    "y_pred = model.predict(x_test)"
   ]
  },
  {
   "cell_type": "code",
   "execution_count": null,
   "metadata": {},
   "outputs": [
    {
     "data": {
      "text/html": [
       "<div>\n",
       "<style scoped>\n",
       "    .dataframe tbody tr th:only-of-type {\n",
       "        vertical-align: middle;\n",
       "    }\n",
       "\n",
       "    .dataframe tbody tr th {\n",
       "        vertical-align: top;\n",
       "    }\n",
       "\n",
       "    .dataframe thead th {\n",
       "        text-align: right;\n",
       "    }\n",
       "</style>\n",
       "<table border=\"1\" class=\"dataframe\">\n",
       "  <thead>\n",
       "    <tr style=\"text-align: right;\">\n",
       "      <th></th>\n",
       "      <th>Valor Real</th>\n",
       "      <th>Prediccion</th>\n",
       "      <th>Error</th>\n",
       "    </tr>\n",
       "  </thead>\n",
       "  <tbody>\n",
       "    <tr>\n",
       "      <th>11387</th>\n",
       "      <td>170000.0</td>\n",
       "      <td>170586.296875</td>\n",
       "      <td>-586.296875</td>\n",
       "    </tr>\n",
       "    <tr>\n",
       "      <th>78283</th>\n",
       "      <td>360000.0</td>\n",
       "      <td>284469.843750</td>\n",
       "      <td>75530.156250</td>\n",
       "    </tr>\n",
       "    <tr>\n",
       "      <th>15574</th>\n",
       "      <td>280000.0</td>\n",
       "      <td>264595.593750</td>\n",
       "      <td>15404.406250</td>\n",
       "    </tr>\n",
       "    <tr>\n",
       "      <th>17122</th>\n",
       "      <td>129000.0</td>\n",
       "      <td>145836.109375</td>\n",
       "      <td>-16836.109375</td>\n",
       "    </tr>\n",
       "    <tr>\n",
       "      <th>8069</th>\n",
       "      <td>260000.0</td>\n",
       "      <td>258944.703125</td>\n",
       "      <td>1055.296875</td>\n",
       "    </tr>\n",
       "  </tbody>\n",
       "</table>\n",
       "</div>"
      ],
      "text/plain": [
       "       Valor Real     Prediccion         Error\n",
       "11387    170000.0  170586.296875   -586.296875\n",
       "78283    360000.0  284469.843750  75530.156250\n",
       "15574    280000.0  264595.593750  15404.406250\n",
       "17122    129000.0  145836.109375 -16836.109375\n",
       "8069     260000.0  258944.703125   1055.296875"
      ]
     },
     "execution_count": 142,
     "metadata": {},
     "output_type": "execute_result"
    }
   ],
   "source": [
    "performance = pd.DataFrame({'Valor Real': y_test,\n",
    "                            'Prediccion': y_pred,\n",
    "                            'Error': y_test - y_pred})\n",
    "\n",
    "\n",
    "performance.head()"
   ]
  },
  {
   "cell_type": "code",
   "execution_count": null,
   "metadata": {},
   "outputs": [
    {
     "name": "stdout",
     "output_type": "stream",
     "text": [
      "El error (mse) de test es: 1515631827.2171123\n",
      "El error (rmse) de test es: 38931.11643938705\n",
      "El error (rmse) de test relativo es: 22.941848963234023%\n"
     ]
    }
   ],
   "source": [
    "mse = metrics.mean_squared_error(\n",
    "        y_true  = y_test,\n",
    "        y_pred  = y_pred,\n",
    "        squared = True\n",
    "         )\n",
    "\n",
    "print(f\"El error (mse) de test es: {mse}\")\n",
    "\n",
    "rmse = metrics.mean_squared_error(\n",
    "        y_true  = y_test,\n",
    "        y_pred  = y_pred,\n",
    "        squared = False\n",
    "         )\n",
    "\n",
    "print(f\"El error (rmse) de test es: {rmse}\")  \n",
    "print(f\"El error (rmse) de test relativo es: {rmse / y_test.mean() * 100}%\")"
   ]
  },
  {
   "cell_type": "code",
   "execution_count": null,
   "metadata": {},
   "outputs": [
    {
     "name": "stdout",
     "output_type": "stream",
     "text": [
      "El coeficiente de Determinación R2 en train es: 0.9123206582983798\n",
      "El coeficiente de Determinación R2 en test es: 0.8899589843810198\n"
     ]
    }
   ],
   "source": [
    "#Coef. de Determinación R2\n",
    "score_xgb_train = xgb_model.score(x_train, y_train)\n",
    "score_xgb_test = xgb_model.score(x_test, y_test)\n",
    "print(f\"El coeficiente de Determinación R2 en train es: {score_xgb_train}\")\n",
    "print(f\"El coeficiente de Determinación R2 en test es: {score_xgb_test}\")"
   ]
  },
  {
   "cell_type": "markdown",
   "metadata": {},
   "source": [
    "La busqueda de hiperparametros encuentra una configuracion con un resultado similar al modelo inicial, pero con un tiempo de entrenamiento mucho mayor. Por esto mantenemos el modelo inicial."
   ]
  },
  {
   "cell_type": "markdown",
   "metadata": {},
   "source": [
    "# <center> Redes Neuronales <center/> "
   ]
  },
  {
   "cell_type": "markdown",
   "metadata": {},
   "source": [
    "## Clasificacion"
   ]
  },
  {
   "cell_type": "code",
   "execution_count": null,
   "metadata": {},
   "outputs": [],
   "source": [
    "from sklearn.preprocessing import MinMaxScaler\n",
    "from sklearn.metrics import f1_score,  recall_score, precision_score, accuracy_score\n",
    "from sklearn.preprocessing import StandardScaler\n",
    "\n",
    "import tensorflow as tf\n",
    "from tensorflow import keras\n",
    "from keras.utils.vis_utils import plot_model\n",
    "\n",
    "import warnings\n",
    "warnings.simplefilter(action='ignore', category=FutureWarning)"
   ]
  },
  {
   "cell_type": "code",
   "execution_count": null,
   "metadata": {},
   "outputs": [
    {
     "data": {
      "text/html": [
       "<div>\n",
       "<style scoped>\n",
       "    .dataframe tbody tr th:only-of-type {\n",
       "        vertical-align: middle;\n",
       "    }\n",
       "\n",
       "    .dataframe tbody tr th {\n",
       "        vertical-align: top;\n",
       "    }\n",
       "\n",
       "    .dataframe thead th {\n",
       "        text-align: right;\n",
       "    }\n",
       "</style>\n",
       "<table border=\"1\" class=\"dataframe\">\n",
       "  <thead>\n",
       "    <tr style=\"text-align: right;\">\n",
       "      <th></th>\n",
       "      <th>id</th>\n",
       "      <th>latitud</th>\n",
       "      <th>longitud</th>\n",
       "      <th>place_l3</th>\n",
       "      <th>property_type</th>\n",
       "      <th>property_rooms</th>\n",
       "      <th>property_bedrooms</th>\n",
       "      <th>property_surface_total</th>\n",
       "      <th>property_surface_covered</th>\n",
       "      <th>property_price</th>\n",
       "      <th>...</th>\n",
       "      <th>property_description</th>\n",
       "      <th>piscina</th>\n",
       "      <th>cochera</th>\n",
       "      <th>balcon</th>\n",
       "      <th>hidromasaje</th>\n",
       "      <th>gimnasio</th>\n",
       "      <th>a_estrenar</th>\n",
       "      <th>quincho</th>\n",
       "      <th>sum</th>\n",
       "      <th>expensas_tipo</th>\n",
       "    </tr>\n",
       "  </thead>\n",
       "  <tbody>\n",
       "    <tr>\n",
       "      <th>0</th>\n",
       "      <td>F5IvmD1uzzdIR7b96ozt4g==</td>\n",
       "      <td>-34.558855</td>\n",
       "      <td>-58.452458</td>\n",
       "      <td>Nuñez</td>\n",
       "      <td>Departamento</td>\n",
       "      <td>4.0</td>\n",
       "      <td>3.0</td>\n",
       "      <td>160.0</td>\n",
       "      <td>146.0</td>\n",
       "      <td>460000.0</td>\n",
       "      <td>...</td>\n",
       "      <td>Hermoso piso de 4 ambientes con dependencia y ...</td>\n",
       "      <td>0</td>\n",
       "      <td>1</td>\n",
       "      <td>1</td>\n",
       "      <td>0</td>\n",
       "      <td>0</td>\n",
       "      <td>0</td>\n",
       "      <td>0</td>\n",
       "      <td>0</td>\n",
       "      <td>no aplica</td>\n",
       "    </tr>\n",
       "    <tr>\n",
       "      <th>1</th>\n",
       "      <td>IiT/P7WfYDcqbhu7tf5V4Q==</td>\n",
       "      <td>-34.582403</td>\n",
       "      <td>-58.443841</td>\n",
       "      <td>Colegiales</td>\n",
       "      <td>Departamento</td>\n",
       "      <td>2.0</td>\n",
       "      <td>1.0</td>\n",
       "      <td>50.0</td>\n",
       "      <td>46.0</td>\n",
       "      <td>148000.0</td>\n",
       "      <td>...</td>\n",
       "      <td>2 ambientes con balcón y vista totalmente abie...</td>\n",
       "      <td>0</td>\n",
       "      <td>1</td>\n",
       "      <td>1</td>\n",
       "      <td>0</td>\n",
       "      <td>0</td>\n",
       "      <td>0</td>\n",
       "      <td>0</td>\n",
       "      <td>0</td>\n",
       "      <td>no aplica</td>\n",
       "    </tr>\n",
       "    <tr>\n",
       "      <th>2</th>\n",
       "      <td>6XXcElx/4OwCcH4NI06Oiw==</td>\n",
       "      <td>-34.605825</td>\n",
       "      <td>-58.422214</td>\n",
       "      <td>Almagro</td>\n",
       "      <td>Departamento</td>\n",
       "      <td>3.0</td>\n",
       "      <td>2.0</td>\n",
       "      <td>47.0</td>\n",
       "      <td>47.0</td>\n",
       "      <td>89000.0</td>\n",
       "      <td>...</td>\n",
       "      <td>**DIAZ VELEZ 4291 Y PRINGLES** Almagro.&lt;br&gt;&lt;br...</td>\n",
       "      <td>0</td>\n",
       "      <td>0</td>\n",
       "      <td>0</td>\n",
       "      <td>0</td>\n",
       "      <td>0</td>\n",
       "      <td>0</td>\n",
       "      <td>0</td>\n",
       "      <td>0</td>\n",
       "      <td>no aplica</td>\n",
       "    </tr>\n",
       "    <tr>\n",
       "      <th>3</th>\n",
       "      <td>8R7hSzqWFk9rX4wBXxfORA==</td>\n",
       "      <td>-34.561971</td>\n",
       "      <td>-58.455670</td>\n",
       "      <td>Belgrano</td>\n",
       "      <td>Departamento</td>\n",
       "      <td>2.0</td>\n",
       "      <td>1.0</td>\n",
       "      <td>52.0</td>\n",
       "      <td>48.0</td>\n",
       "      <td>127000.0</td>\n",
       "      <td>...</td>\n",
       "      <td>IMPECABLE 2 AMBIENTES A ESTRENAR!&lt;...</td>\n",
       "      <td>0</td>\n",
       "      <td>0</td>\n",
       "      <td>1</td>\n",
       "      <td>0</td>\n",
       "      <td>0</td>\n",
       "      <td>1</td>\n",
       "      <td>0</td>\n",
       "      <td>0</td>\n",
       "      <td>medias</td>\n",
       "    </tr>\n",
       "    <tr>\n",
       "      <th>4</th>\n",
       "      <td>UAKYqQx9s0MfIdLzrJv8Ig==</td>\n",
       "      <td>-34.606738</td>\n",
       "      <td>-58.389426</td>\n",
       "      <td>Tribunales</td>\n",
       "      <td>Departamento</td>\n",
       "      <td>3.0</td>\n",
       "      <td>2.0</td>\n",
       "      <td>76.0</td>\n",
       "      <td>75.0</td>\n",
       "      <td>129900.0</td>\n",
       "      <td>...</td>\n",
       "      <td>Excelente piso antiguo, lindísimo por sus tech...</td>\n",
       "      <td>0</td>\n",
       "      <td>0</td>\n",
       "      <td>1</td>\n",
       "      <td>0</td>\n",
       "      <td>0</td>\n",
       "      <td>0</td>\n",
       "      <td>0</td>\n",
       "      <td>0</td>\n",
       "      <td>no aplica</td>\n",
       "    </tr>\n",
       "  </tbody>\n",
       "</table>\n",
       "<p>5 rows × 23 columns</p>\n",
       "</div>"
      ],
      "text/plain": [
       "                         id    latitud   longitud    place_l3 property_type  \\\n",
       "0  F5IvmD1uzzdIR7b96ozt4g== -34.558855 -58.452458       Nuñez  Departamento   \n",
       "1  IiT/P7WfYDcqbhu7tf5V4Q== -34.582403 -58.443841  Colegiales  Departamento   \n",
       "2  6XXcElx/4OwCcH4NI06Oiw== -34.605825 -58.422214     Almagro  Departamento   \n",
       "3  8R7hSzqWFk9rX4wBXxfORA== -34.561971 -58.455670    Belgrano  Departamento   \n",
       "4  UAKYqQx9s0MfIdLzrJv8Ig== -34.606738 -58.389426  Tribunales  Departamento   \n",
       "\n",
       "   property_rooms  property_bedrooms  property_surface_total  \\\n",
       "0             4.0                3.0                   160.0   \n",
       "1             2.0                1.0                    50.0   \n",
       "2             3.0                2.0                    47.0   \n",
       "3             2.0                1.0                    52.0   \n",
       "4             3.0                2.0                    76.0   \n",
       "\n",
       "   property_surface_covered  property_price  ...  \\\n",
       "0                     146.0        460000.0  ...   \n",
       "1                      46.0        148000.0  ...   \n",
       "2                      47.0         89000.0  ...   \n",
       "3                      48.0        127000.0  ...   \n",
       "4                      75.0        129900.0  ...   \n",
       "\n",
       "                                property_description  piscina cochera balcon  \\\n",
       "0  Hermoso piso de 4 ambientes con dependencia y ...        0       1      1   \n",
       "1  2 ambientes con balcón y vista totalmente abie...        0       1      1   \n",
       "2  **DIAZ VELEZ 4291 Y PRINGLES** Almagro.<br><br...        0       0      0   \n",
       "3              IMPECABLE 2 AMBIENTES A ESTRENAR!<...        0       0      1   \n",
       "4  Excelente piso antiguo, lindísimo por sus tech...        0       0      1   \n",
       "\n",
       "   hidromasaje  gimnasio  a_estrenar  quincho  sum  expensas_tipo  \n",
       "0            0         0           0        0    0      no aplica  \n",
       "1            0         0           0        0    0      no aplica  \n",
       "2            0         0           0        0    0      no aplica  \n",
       "3            0         0           1        0    0         medias  \n",
       "4            0         0           0        0    0      no aplica  \n",
       "\n",
       "[5 rows x 23 columns]"
      ]
     },
     "execution_count": 146,
     "metadata": {},
     "output_type": "execute_result"
    }
   ],
   "source": [
    "ds_propiedades_para_clasificacion = ds_propiedades.copy()\n",
    "\n",
    "ds_propiedades_para_clasificacion.head()"
   ]
  },
  {
   "cell_type": "markdown",
   "metadata": {},
   "source": [
    "Modificamos el dataframe para poder usarlo en la red neuronal. Nos quedamos con las columnas necesarias, normalizamos y modificamos los tipos de datos "
   ]
  },
  {
   "cell_type": "code",
   "execution_count": null,
   "metadata": {},
   "outputs": [],
   "source": [
    "# Eliminamos estas columnas porque no las necesitamos para el modelo\n",
    "ds_propiedades_para_clasificacion.drop(['property_title', 'id','property_description'], axis=1, inplace=True)\n",
    "\n",
    "#Eliminamos las columnas que tienen info del precio\n",
    "ds_propiedades_para_clasificacion.drop(['property_price', 'pxm2'], axis=1, inplace=True)\n",
    "\n",
    "# One hot encoding de las columnas categóricas\n",
    "ds_propiedades_para_clasificacion = pd.get_dummies(ds_propiedades_para_clasificacion, columns=[\"place_l3\", \"property_type\"], dtype=np.int8)"
   ]
  },
  {
   "cell_type": "code",
   "execution_count": null,
   "metadata": {},
   "outputs": [],
   "source": [
    "# Convertimos tipo_precio y expensas_tipo a una columna numerica\n",
    "ds_propiedades_para_clasificacion.tipo_precio.replace({'bajo':0,'medio':1,'alto':2}, inplace=True)\n",
    "ds_propiedades_para_clasificacion.expensas_tipo.replace({'sin': -2, 'no aplica':-1,'bajas':0,'medias':1,'altas':2}, inplace=True)"
   ]
  },
  {
   "cell_type": "code",
   "execution_count": null,
   "metadata": {},
   "outputs": [],
   "source": [
    "# Seleccionamos las columnas que vamos a usar para el modelo\n",
    "columnas_predictoras = ds_propiedades_para_clasificacion.columns.to_list()\n",
    "columnas_predictoras.remove('tipo_precio')\n",
    "d_in=len(columnas_predictoras)"
   ]
  },
  {
   "cell_type": "code",
   "execution_count": null,
   "metadata": {},
   "outputs": [
    {
     "data": {
      "text/html": [
       "<div>\n",
       "<style scoped>\n",
       "    .dataframe tbody tr th:only-of-type {\n",
       "        vertical-align: middle;\n",
       "    }\n",
       "\n",
       "    .dataframe tbody tr th {\n",
       "        vertical-align: top;\n",
       "    }\n",
       "\n",
       "    .dataframe thead th {\n",
       "        text-align: right;\n",
       "    }\n",
       "</style>\n",
       "<table border=\"1\" class=\"dataframe\">\n",
       "  <thead>\n",
       "    <tr style=\"text-align: right;\">\n",
       "      <th></th>\n",
       "      <th>latitud</th>\n",
       "      <th>longitud</th>\n",
       "      <th>property_rooms</th>\n",
       "      <th>property_bedrooms</th>\n",
       "      <th>property_surface_total</th>\n",
       "      <th>property_surface_covered</th>\n",
       "      <th>tipo_precio</th>\n",
       "      <th>piscina</th>\n",
       "      <th>cochera</th>\n",
       "      <th>balcon</th>\n",
       "      <th>...</th>\n",
       "      <th>place_l3_Villa Pueyrredón</th>\n",
       "      <th>place_l3_Villa Real</th>\n",
       "      <th>place_l3_Villa Riachuelo</th>\n",
       "      <th>place_l3_Villa Santa Rita</th>\n",
       "      <th>place_l3_Villa Soldati</th>\n",
       "      <th>place_l3_Villa Urquiza</th>\n",
       "      <th>place_l3_Villa del Parque</th>\n",
       "      <th>property_type_Casa</th>\n",
       "      <th>property_type_Departamento</th>\n",
       "      <th>property_type_PH</th>\n",
       "    </tr>\n",
       "  </thead>\n",
       "  <tbody>\n",
       "    <tr>\n",
       "      <th>0</th>\n",
       "      <td>0.859587</td>\n",
       "      <td>0.416415</td>\n",
       "      <td>0.500000</td>\n",
       "      <td>0.6</td>\n",
       "      <td>0.477477</td>\n",
       "      <td>0.472313</td>\n",
       "      <td>2</td>\n",
       "      <td>0.0</td>\n",
       "      <td>1.0</td>\n",
       "      <td>1.0</td>\n",
       "      <td>...</td>\n",
       "      <td>0.0</td>\n",
       "      <td>0.0</td>\n",
       "      <td>0.0</td>\n",
       "      <td>0.0</td>\n",
       "      <td>0.0</td>\n",
       "      <td>0.0</td>\n",
       "      <td>0.0</td>\n",
       "      <td>0.0</td>\n",
       "      <td>1.0</td>\n",
       "      <td>0.0</td>\n",
       "    </tr>\n",
       "    <tr>\n",
       "      <th>1</th>\n",
       "      <td>0.715143</td>\n",
       "      <td>0.462460</td>\n",
       "      <td>0.166667</td>\n",
       "      <td>0.2</td>\n",
       "      <td>0.147147</td>\n",
       "      <td>0.146580</td>\n",
       "      <td>2</td>\n",
       "      <td>0.0</td>\n",
       "      <td>1.0</td>\n",
       "      <td>1.0</td>\n",
       "      <td>...</td>\n",
       "      <td>0.0</td>\n",
       "      <td>0.0</td>\n",
       "      <td>0.0</td>\n",
       "      <td>0.0</td>\n",
       "      <td>0.0</td>\n",
       "      <td>0.0</td>\n",
       "      <td>0.0</td>\n",
       "      <td>0.0</td>\n",
       "      <td>1.0</td>\n",
       "      <td>0.0</td>\n",
       "    </tr>\n",
       "    <tr>\n",
       "      <th>2</th>\n",
       "      <td>0.571472</td>\n",
       "      <td>0.578015</td>\n",
       "      <td>0.333333</td>\n",
       "      <td>0.4</td>\n",
       "      <td>0.138138</td>\n",
       "      <td>0.149837</td>\n",
       "      <td>1</td>\n",
       "      <td>0.0</td>\n",
       "      <td>0.0</td>\n",
       "      <td>0.0</td>\n",
       "      <td>...</td>\n",
       "      <td>0.0</td>\n",
       "      <td>0.0</td>\n",
       "      <td>0.0</td>\n",
       "      <td>0.0</td>\n",
       "      <td>0.0</td>\n",
       "      <td>0.0</td>\n",
       "      <td>0.0</td>\n",
       "      <td>0.0</td>\n",
       "      <td>1.0</td>\n",
       "      <td>0.0</td>\n",
       "    </tr>\n",
       "    <tr>\n",
       "      <th>3</th>\n",
       "      <td>0.840478</td>\n",
       "      <td>0.399254</td>\n",
       "      <td>0.166667</td>\n",
       "      <td>0.2</td>\n",
       "      <td>0.153153</td>\n",
       "      <td>0.153094</td>\n",
       "      <td>1</td>\n",
       "      <td>0.0</td>\n",
       "      <td>0.0</td>\n",
       "      <td>1.0</td>\n",
       "      <td>...</td>\n",
       "      <td>0.0</td>\n",
       "      <td>0.0</td>\n",
       "      <td>0.0</td>\n",
       "      <td>0.0</td>\n",
       "      <td>0.0</td>\n",
       "      <td>0.0</td>\n",
       "      <td>0.0</td>\n",
       "      <td>0.0</td>\n",
       "      <td>1.0</td>\n",
       "      <td>0.0</td>\n",
       "    </tr>\n",
       "    <tr>\n",
       "      <th>4</th>\n",
       "      <td>0.565870</td>\n",
       "      <td>0.753212</td>\n",
       "      <td>0.333333</td>\n",
       "      <td>0.4</td>\n",
       "      <td>0.225225</td>\n",
       "      <td>0.241042</td>\n",
       "      <td>0</td>\n",
       "      <td>0.0</td>\n",
       "      <td>0.0</td>\n",
       "      <td>1.0</td>\n",
       "      <td>...</td>\n",
       "      <td>0.0</td>\n",
       "      <td>0.0</td>\n",
       "      <td>0.0</td>\n",
       "      <td>0.0</td>\n",
       "      <td>0.0</td>\n",
       "      <td>0.0</td>\n",
       "      <td>0.0</td>\n",
       "      <td>0.0</td>\n",
       "      <td>1.0</td>\n",
       "      <td>0.0</td>\n",
       "    </tr>\n",
       "  </tbody>\n",
       "</table>\n",
       "<p>5 rows × 76 columns</p>\n",
       "</div>"
      ],
      "text/plain": [
       "    latitud  longitud  property_rooms  property_bedrooms  \\\n",
       "0  0.859587  0.416415        0.500000                0.6   \n",
       "1  0.715143  0.462460        0.166667                0.2   \n",
       "2  0.571472  0.578015        0.333333                0.4   \n",
       "3  0.840478  0.399254        0.166667                0.2   \n",
       "4  0.565870  0.753212        0.333333                0.4   \n",
       "\n",
       "   property_surface_total  property_surface_covered  tipo_precio  piscina  \\\n",
       "0                0.477477                  0.472313            2      0.0   \n",
       "1                0.147147                  0.146580            2      0.0   \n",
       "2                0.138138                  0.149837            1      0.0   \n",
       "3                0.153153                  0.153094            1      0.0   \n",
       "4                0.225225                  0.241042            0      0.0   \n",
       "\n",
       "   cochera  balcon  ...  place_l3_Villa Pueyrredón  place_l3_Villa Real  \\\n",
       "0      1.0     1.0  ...                        0.0                  0.0   \n",
       "1      1.0     1.0  ...                        0.0                  0.0   \n",
       "2      0.0     0.0  ...                        0.0                  0.0   \n",
       "3      0.0     1.0  ...                        0.0                  0.0   \n",
       "4      0.0     1.0  ...                        0.0                  0.0   \n",
       "\n",
       "   place_l3_Villa Riachuelo  place_l3_Villa Santa Rita  \\\n",
       "0                       0.0                        0.0   \n",
       "1                       0.0                        0.0   \n",
       "2                       0.0                        0.0   \n",
       "3                       0.0                        0.0   \n",
       "4                       0.0                        0.0   \n",
       "\n",
       "   place_l3_Villa Soldati  place_l3_Villa Urquiza  place_l3_Villa del Parque  \\\n",
       "0                     0.0                     0.0                        0.0   \n",
       "1                     0.0                     0.0                        0.0   \n",
       "2                     0.0                     0.0                        0.0   \n",
       "3                     0.0                     0.0                        0.0   \n",
       "4                     0.0                     0.0                        0.0   \n",
       "\n",
       "   property_type_Casa  property_type_Departamento  property_type_PH  \n",
       "0                 0.0                         1.0               0.0  \n",
       "1                 0.0                         1.0               0.0  \n",
       "2                 0.0                         1.0               0.0  \n",
       "3                 0.0                         1.0               0.0  \n",
       "4                 0.0                         1.0               0.0  \n",
       "\n",
       "[5 rows x 76 columns]"
      ]
     },
     "execution_count": 150,
     "metadata": {},
     "output_type": "execute_result"
    }
   ],
   "source": [
    "# Normalizamos las variables de entrada\n",
    "scaler = MinMaxScaler()\n",
    "ds_propiedades_para_clasificacion[columnas_predictoras] = scaler.fit_transform(ds_propiedades_para_clasificacion[columnas_predictoras])\n",
    "ds_propiedades_para_clasificacion\n",
    "\n",
    "ds_propiedades_para_clasificacion.astype('float32', copy=False)\n",
    "\n",
    "ds_propiedades_para_clasificacion.head()"
   ]
  },
  {
   "cell_type": "code",
   "execution_count": null,
   "metadata": {},
   "outputs": [],
   "source": [
    "# Separamos en train y test\n",
    "x_train, x_test, y_train, y_test = train_test_split(ds_propiedades_para_clasificacion.loc[:,columnas_predictoras],ds_propiedades_para_clasificacion.loc[:,'tipo_precio'], test_size=0.20, random_state=1)"
   ]
  },
  {
   "cell_type": "markdown",
   "metadata": {},
   "source": [
    "Creamos la red neuronal"
   ]
  },
  {
   "cell_type": "code",
   "execution_count": null,
   "metadata": {},
   "outputs": [
    {
     "name": "stdout",
     "output_type": "stream",
     "text": [
      "Model: \"sequential_5\"\n",
      "_________________________________________________________________\n",
      " Layer (type)                Output Shape              Param #   \n",
      "=================================================================\n",
      " dense_22 (Dense)            (None, 5)                 380       \n",
      "                                                                 \n",
      " dense_23 (Dense)            (None, 5)                 30        \n",
      "                                                                 \n",
      " dense_24 (Dense)            (None, 3)                 18        \n",
      "                                                                 \n",
      "=================================================================\n",
      "Total params: 428\n",
      "Trainable params: 428\n",
      "Non-trainable params: 0\n",
      "_________________________________________________________________\n"
     ]
    }
   ],
   "source": [
    "# calcula la cantidad de clases posibles para clasificar\n",
    "classes = int(ds_propiedades_para_clasificacion.loc[:,'tipo_precio'].max()+1)\n",
    "\n",
    "\n",
    "modelo = keras.Sequential([\n",
    "    # input_shape solo en la primer capa\n",
    "    # Capa con 3 salidas, activación relu\n",
    "    keras.layers.Dense(5,input_shape=(d_in,), activation='relu'),\n",
    "\n",
    "    # keras.layers.Dense(5, activation='tanh'),\n",
    "    # keras.layers.Dense(5, activation='relu'),\n",
    "    keras.layers.Dense(5, activation='sigmoid'),\n",
    "\n",
    "    #la ultima capa si o si tiene que tener tantas salidas como clases, y softmax\n",
    "    keras.layers.Dense(classes, activation='softmax')])\n",
    "\n",
    "modelo.summary()"
   ]
  },
  {
   "cell_type": "code",
   "execution_count": null,
   "metadata": {},
   "outputs": [
    {
     "name": "stdout",
     "output_type": "stream",
     "text": [
      "Epoch 1/150\n",
      "343/343 [==============================] - 0s 667us/step - loss: 1.0382 - accuracy: 0.4950\n",
      "Epoch 2/150\n",
      "343/343 [==============================] - 0s 667us/step - loss: 0.9717 - accuracy: 0.5150\n",
      "Epoch 3/150\n",
      "343/343 [==============================] - 0s 664us/step - loss: 0.8443 - accuracy: 0.6014\n",
      "Epoch 4/150\n",
      "343/343 [==============================] - 0s 684us/step - loss: 0.7912 - accuracy: 0.6343\n",
      "Epoch 5/150\n",
      "343/343 [==============================] - 0s 679us/step - loss: 0.7735 - accuracy: 0.6428\n",
      "Epoch 6/150\n",
      "343/343 [==============================] - 0s 834us/step - loss: 0.7639 - accuracy: 0.6476\n",
      "Epoch 7/150\n",
      "343/343 [==============================] - 0s 717us/step - loss: 0.7569 - accuracy: 0.6494\n",
      "Epoch 8/150\n",
      "343/343 [==============================] - 0s 681us/step - loss: 0.7511 - accuracy: 0.6524\n",
      "Epoch 9/150\n",
      "343/343 [==============================] - 0s 690us/step - loss: 0.7471 - accuracy: 0.6538\n",
      "Epoch 10/150\n",
      "343/343 [==============================] - 0s 676us/step - loss: 0.7437 - accuracy: 0.6559\n",
      "Epoch 11/150\n",
      "343/343 [==============================] - 0s 673us/step - loss: 0.7409 - accuracy: 0.6574\n",
      "Epoch 12/150\n",
      "343/343 [==============================] - 0s 705us/step - loss: 0.7384 - accuracy: 0.6588\n",
      "Epoch 13/150\n",
      "343/343 [==============================] - 0s 705us/step - loss: 0.7363 - accuracy: 0.6599\n",
      "Epoch 14/150\n",
      "343/343 [==============================] - 0s 749us/step - loss: 0.7345 - accuracy: 0.6604\n",
      "Epoch 15/150\n",
      "343/343 [==============================] - 0s 708us/step - loss: 0.7323 - accuracy: 0.6616\n",
      "Epoch 16/150\n",
      "343/343 [==============================] - 0s 719us/step - loss: 0.7311 - accuracy: 0.6613\n",
      "Epoch 17/150\n",
      "343/343 [==============================] - 0s 772us/step - loss: 0.7293 - accuracy: 0.6627\n",
      "Epoch 18/150\n",
      "343/343 [==============================] - 0s 708us/step - loss: 0.7273 - accuracy: 0.6639\n",
      "Epoch 19/150\n",
      "343/343 [==============================] - 0s 684us/step - loss: 0.7255 - accuracy: 0.6640\n",
      "Epoch 20/150\n",
      "343/343 [==============================] - 0s 722us/step - loss: 0.7244 - accuracy: 0.6639\n",
      "Epoch 21/150\n",
      "343/343 [==============================] - 0s 705us/step - loss: 0.7226 - accuracy: 0.6655\n",
      "Epoch 22/150\n",
      "343/343 [==============================] - 0s 702us/step - loss: 0.7210 - accuracy: 0.6672\n",
      "Epoch 23/150\n",
      "343/343 [==============================] - 0s 696us/step - loss: 0.7195 - accuracy: 0.6685\n",
      "Epoch 24/150\n",
      "343/343 [==============================] - 0s 696us/step - loss: 0.7171 - accuracy: 0.6686\n",
      "Epoch 25/150\n",
      "343/343 [==============================] - 0s 681us/step - loss: 0.7160 - accuracy: 0.6694\n",
      "Epoch 26/150\n",
      "343/343 [==============================] - 0s 681us/step - loss: 0.7149 - accuracy: 0.6703\n",
      "Epoch 27/150\n",
      "343/343 [==============================] - 0s 699us/step - loss: 0.7147 - accuracy: 0.6699\n",
      "Epoch 28/150\n",
      "343/343 [==============================] - 0s 681us/step - loss: 0.7132 - accuracy: 0.6709\n",
      "Epoch 29/150\n",
      "343/343 [==============================] - 0s 681us/step - loss: 0.7131 - accuracy: 0.6701\n",
      "Epoch 30/150\n",
      "343/343 [==============================] - 0s 679us/step - loss: 0.7118 - accuracy: 0.6704\n",
      "Epoch 31/150\n",
      "343/343 [==============================] - 0s 708us/step - loss: 0.7113 - accuracy: 0.6707\n",
      "Epoch 32/150\n",
      "343/343 [==============================] - 0s 711us/step - loss: 0.7108 - accuracy: 0.6716\n",
      "Epoch 33/150\n",
      "343/343 [==============================] - 0s 690us/step - loss: 0.7101 - accuracy: 0.6712\n",
      "Epoch 34/150\n",
      "343/343 [==============================] - 0s 676us/step - loss: 0.7082 - accuracy: 0.6723\n",
      "Epoch 35/150\n",
      "343/343 [==============================] - 0s 699us/step - loss: 0.7099 - accuracy: 0.6710\n",
      "Epoch 36/150\n",
      "343/343 [==============================] - 0s 690us/step - loss: 0.7089 - accuracy: 0.6724\n",
      "Epoch 37/150\n",
      "343/343 [==============================] - 0s 749us/step - loss: 0.7086 - accuracy: 0.6723\n",
      "Epoch 38/150\n",
      "343/343 [==============================] - 0s 841us/step - loss: 0.7083 - accuracy: 0.6728\n",
      "Epoch 39/150\n",
      "343/343 [==============================] - 0s 699us/step - loss: 0.7081 - accuracy: 0.6740\n",
      "Epoch 40/150\n",
      "343/343 [==============================] - 0s 684us/step - loss: 0.7067 - accuracy: 0.6724\n",
      "Epoch 41/150\n",
      "343/343 [==============================] - 0s 716us/step - loss: 0.7072 - accuracy: 0.6739\n",
      "Epoch 42/150\n",
      "343/343 [==============================] - 0s 722us/step - loss: 0.7068 - accuracy: 0.6741\n",
      "Epoch 43/150\n",
      "343/343 [==============================] - 0s 708us/step - loss: 0.7069 - accuracy: 0.6733\n",
      "Epoch 44/150\n",
      "343/343 [==============================] - 0s 725us/step - loss: 0.7060 - accuracy: 0.6731\n",
      "Epoch 45/150\n",
      "343/343 [==============================] - 0s 701us/step - loss: 0.7058 - accuracy: 0.6722\n",
      "Epoch 46/150\n",
      "343/343 [==============================] - 0s 719us/step - loss: 0.7056 - accuracy: 0.6738\n",
      "Epoch 47/150\n",
      "343/343 [==============================] - 0s 699us/step - loss: 0.7054 - accuracy: 0.6737\n",
      "Epoch 48/150\n",
      "343/343 [==============================] - 0s 752us/step - loss: 0.7055 - accuracy: 0.6742\n",
      "Epoch 49/150\n",
      "343/343 [==============================] - 0s 699us/step - loss: 0.7054 - accuracy: 0.6733\n",
      "Epoch 50/150\n",
      "343/343 [==============================] - 0s 708us/step - loss: 0.7061 - accuracy: 0.6738\n",
      "Epoch 51/150\n",
      "343/343 [==============================] - 0s 711us/step - loss: 0.7041 - accuracy: 0.6738\n",
      "Epoch 52/150\n",
      "343/343 [==============================] - 0s 699us/step - loss: 0.7050 - accuracy: 0.6736\n",
      "Epoch 53/150\n",
      "343/343 [==============================] - 0s 696us/step - loss: 0.7038 - accuracy: 0.6745\n",
      "Epoch 54/150\n",
      "343/343 [==============================] - 0s 705us/step - loss: 0.7046 - accuracy: 0.6750\n",
      "Epoch 55/150\n",
      "343/343 [==============================] - 0s 708us/step - loss: 0.7037 - accuracy: 0.6751\n",
      "Epoch 56/150\n",
      "343/343 [==============================] - 0s 708us/step - loss: 0.7041 - accuracy: 0.6755\n",
      "Epoch 57/150\n",
      "343/343 [==============================] - 0s 702us/step - loss: 0.7031 - accuracy: 0.6750\n",
      "Epoch 58/150\n",
      "343/343 [==============================] - 0s 699us/step - loss: 0.7032 - accuracy: 0.6758\n",
      "Epoch 59/150\n",
      "343/343 [==============================] - 0s 690us/step - loss: 0.7037 - accuracy: 0.6751\n",
      "Epoch 60/150\n",
      "343/343 [==============================] - 0s 719us/step - loss: 0.7026 - accuracy: 0.6757\n",
      "Epoch 61/150\n",
      "343/343 [==============================] - 0s 714us/step - loss: 0.7032 - accuracy: 0.6754\n",
      "Epoch 62/150\n",
      "343/343 [==============================] - 0s 702us/step - loss: 0.7023 - accuracy: 0.6759\n",
      "Epoch 63/150\n",
      "343/343 [==============================] - 0s 699us/step - loss: 0.7025 - accuracy: 0.6752\n",
      "Epoch 64/150\n",
      "343/343 [==============================] - 0s 716us/step - loss: 0.7027 - accuracy: 0.6752\n",
      "Epoch 65/150\n",
      "343/343 [==============================] - 0s 679us/step - loss: 0.7017 - accuracy: 0.6762\n",
      "Epoch 66/150\n",
      "343/343 [==============================] - 0s 681us/step - loss: 0.7023 - accuracy: 0.6763\n",
      "Epoch 67/150\n",
      "343/343 [==============================] - 0s 690us/step - loss: 0.7019 - accuracy: 0.6766\n",
      "Epoch 68/150\n",
      "343/343 [==============================] - 0s 681us/step - loss: 0.7013 - accuracy: 0.6766\n",
      "Epoch 69/150\n",
      "343/343 [==============================] - 0s 698us/step - loss: 0.7019 - accuracy: 0.6757\n",
      "Epoch 70/150\n",
      "343/343 [==============================] - 0s 687us/step - loss: 0.7016 - accuracy: 0.6771\n",
      "Epoch 71/150\n",
      "343/343 [==============================] - 0s 678us/step - loss: 0.7006 - accuracy: 0.6769\n",
      "Epoch 72/150\n",
      "343/343 [==============================] - 0s 687us/step - loss: 0.7017 - accuracy: 0.6754\n",
      "Epoch 73/150\n",
      "343/343 [==============================] - 0s 719us/step - loss: 0.7006 - accuracy: 0.6762\n",
      "Epoch 74/150\n",
      "343/343 [==============================] - 0s 690us/step - loss: 0.7011 - accuracy: 0.6769\n",
      "Epoch 75/150\n",
      "343/343 [==============================] - 0s 734us/step - loss: 0.7008 - accuracy: 0.6761\n",
      "Epoch 76/150\n",
      "343/343 [==============================] - 0s 684us/step - loss: 0.7005 - accuracy: 0.6765\n",
      "Epoch 77/150\n",
      "343/343 [==============================] - 0s 684us/step - loss: 0.7005 - accuracy: 0.6760\n",
      "Epoch 78/150\n",
      "343/343 [==============================] - 0s 711us/step - loss: 0.7005 - accuracy: 0.6768\n",
      "Epoch 79/150\n",
      "343/343 [==============================] - 0s 732us/step - loss: 0.7002 - accuracy: 0.6778\n",
      "Epoch 80/150\n",
      "343/343 [==============================] - 0s 892us/step - loss: 0.7000 - accuracy: 0.6759\n",
      "Epoch 81/150\n",
      "343/343 [==============================] - 0s 752us/step - loss: 0.6992 - accuracy: 0.6768\n",
      "Epoch 82/150\n",
      "343/343 [==============================] - 0s 986us/step - loss: 0.6998 - accuracy: 0.6777\n",
      "Epoch 83/150\n",
      "343/343 [==============================] - 0s 965us/step - loss: 0.6997 - accuracy: 0.6772\n",
      "Epoch 84/150\n",
      "343/343 [==============================] - 0s 845us/step - loss: 0.6997 - accuracy: 0.6762\n",
      "Epoch 85/150\n",
      "343/343 [==============================] - 0s 752us/step - loss: 0.6988 - accuracy: 0.6771\n",
      "Epoch 86/150\n",
      "343/343 [==============================] - 0s 725us/step - loss: 0.6993 - accuracy: 0.6770\n",
      "Epoch 87/150\n",
      "343/343 [==============================] - 0s 749us/step - loss: 0.6991 - accuracy: 0.6773\n",
      "Epoch 88/150\n",
      "343/343 [==============================] - 0s 860us/step - loss: 0.6986 - accuracy: 0.6765\n",
      "Epoch 89/150\n",
      "343/343 [==============================] - 0s 939us/step - loss: 0.6986 - accuracy: 0.6781\n",
      "Epoch 90/150\n",
      "343/343 [==============================] - 0s 778us/step - loss: 0.6986 - accuracy: 0.6780\n",
      "Epoch 91/150\n",
      "343/343 [==============================] - 0s 719us/step - loss: 0.6986 - accuracy: 0.6773\n",
      "Epoch 92/150\n",
      "343/343 [==============================] - 0s 684us/step - loss: 0.6987 - accuracy: 0.6776\n",
      "Epoch 93/150\n",
      "343/343 [==============================] - 0s 684us/step - loss: 0.6984 - accuracy: 0.6770\n",
      "Epoch 94/150\n",
      "343/343 [==============================] - 0s 687us/step - loss: 0.6983 - accuracy: 0.6776\n",
      "Epoch 95/150\n",
      "343/343 [==============================] - 0s 676us/step - loss: 0.6985 - accuracy: 0.6769\n",
      "Epoch 96/150\n",
      "343/343 [==============================] - 0s 702us/step - loss: 0.6983 - accuracy: 0.6779\n",
      "Epoch 97/150\n",
      "343/343 [==============================] - 0s 708us/step - loss: 0.6981 - accuracy: 0.6772\n",
      "Epoch 98/150\n",
      "343/343 [==============================] - 0s 687us/step - loss: 0.6979 - accuracy: 0.6777\n",
      "Epoch 99/150\n",
      "343/343 [==============================] - 0s 684us/step - loss: 0.6980 - accuracy: 0.6782\n",
      "Epoch 100/150\n",
      "343/343 [==============================] - 0s 702us/step - loss: 0.6981 - accuracy: 0.6782\n",
      "Epoch 101/150\n",
      "343/343 [==============================] - 0s 711us/step - loss: 0.6977 - accuracy: 0.6776\n",
      "Epoch 102/150\n",
      "343/343 [==============================] - 0s 687us/step - loss: 0.6974 - accuracy: 0.6777\n",
      "Epoch 103/150\n",
      "343/343 [==============================] - 0s 702us/step - loss: 0.6975 - accuracy: 0.6774\n",
      "Epoch 104/150\n",
      "343/343 [==============================] - 0s 679us/step - loss: 0.6974 - accuracy: 0.6780\n",
      "Epoch 105/150\n",
      "343/343 [==============================] - 0s 696us/step - loss: 0.6967 - accuracy: 0.6782\n",
      "Epoch 106/150\n",
      "343/343 [==============================] - 0s 684us/step - loss: 0.6978 - accuracy: 0.6779\n",
      "Epoch 107/150\n",
      "343/343 [==============================] - 0s 687us/step - loss: 0.6971 - accuracy: 0.6784\n",
      "Epoch 108/150\n",
      "343/343 [==============================] - 0s 684us/step - loss: 0.6973 - accuracy: 0.6777\n",
      "Epoch 109/150\n",
      "343/343 [==============================] - 0s 696us/step - loss: 0.6973 - accuracy: 0.6780\n",
      "Epoch 110/150\n",
      "343/343 [==============================] - 0s 696us/step - loss: 0.6970 - accuracy: 0.6789\n",
      "Epoch 111/150\n",
      "343/343 [==============================] - 0s 679us/step - loss: 0.6966 - accuracy: 0.6794\n",
      "Epoch 112/150\n",
      "343/343 [==============================] - 0s 711us/step - loss: 0.6964 - accuracy: 0.6782\n",
      "Epoch 113/150\n",
      "343/343 [==============================] - 0s 681us/step - loss: 0.6963 - accuracy: 0.6792\n",
      "Epoch 114/150\n",
      "343/343 [==============================] - 0s 690us/step - loss: 0.6969 - accuracy: 0.6770\n",
      "Epoch 115/150\n",
      "343/343 [==============================] - 0s 681us/step - loss: 0.6965 - accuracy: 0.6779\n",
      "Epoch 116/150\n",
      "343/343 [==============================] - 0s 775us/step - loss: 0.6962 - accuracy: 0.6777\n",
      "Epoch 117/150\n",
      "343/343 [==============================] - 0s 728us/step - loss: 0.6963 - accuracy: 0.6776\n",
      "Epoch 118/150\n",
      "343/343 [==============================] - 0s 676us/step - loss: 0.6960 - accuracy: 0.6788\n",
      "Epoch 119/150\n",
      "343/343 [==============================] - 0s 693us/step - loss: 0.6962 - accuracy: 0.6779\n",
      "Epoch 120/150\n",
      "343/343 [==============================] - 0s 740us/step - loss: 0.6958 - accuracy: 0.6785\n",
      "Epoch 121/150\n",
      "343/343 [==============================] - 0s 752us/step - loss: 0.6958 - accuracy: 0.6783\n",
      "Epoch 122/150\n",
      "343/343 [==============================] - 0s 728us/step - loss: 0.6958 - accuracy: 0.6788\n",
      "Epoch 123/150\n",
      "343/343 [==============================] - 0s 755us/step - loss: 0.6960 - accuracy: 0.6786\n",
      "Epoch 124/150\n",
      "343/343 [==============================] - 0s 699us/step - loss: 0.6959 - accuracy: 0.6782\n",
      "Epoch 125/150\n",
      "343/343 [==============================] - 0s 711us/step - loss: 0.6957 - accuracy: 0.6783\n",
      "Epoch 126/150\n",
      "343/343 [==============================] - 0s 740us/step - loss: 0.6959 - accuracy: 0.6784\n",
      "Epoch 127/150\n",
      "343/343 [==============================] - 0s 690us/step - loss: 0.6959 - accuracy: 0.6796\n",
      "Epoch 128/150\n",
      "343/343 [==============================] - 0s 702us/step - loss: 0.6953 - accuracy: 0.6795\n",
      "Epoch 129/150\n",
      "343/343 [==============================] - 0s 684us/step - loss: 0.6956 - accuracy: 0.6787\n",
      "Epoch 130/150\n",
      "343/343 [==============================] - 0s 687us/step - loss: 0.6953 - accuracy: 0.6781\n",
      "Epoch 131/150\n",
      "343/343 [==============================] - 0s 699us/step - loss: 0.6954 - accuracy: 0.6798\n",
      "Epoch 132/150\n",
      "343/343 [==============================] - 0s 684us/step - loss: 0.6949 - accuracy: 0.6796\n",
      "Epoch 133/150\n",
      "343/343 [==============================] - 0s 679us/step - loss: 0.6951 - accuracy: 0.6782\n",
      "Epoch 134/150\n",
      "343/343 [==============================] - 0s 699us/step - loss: 0.6950 - accuracy: 0.6787\n",
      "Epoch 135/150\n",
      "343/343 [==============================] - 0s 679us/step - loss: 0.6949 - accuracy: 0.6785\n",
      "Epoch 136/150\n",
      "343/343 [==============================] - 0s 687us/step - loss: 0.6950 - accuracy: 0.6787\n",
      "Epoch 137/150\n",
      "343/343 [==============================] - 0s 702us/step - loss: 0.6948 - accuracy: 0.6788\n",
      "Epoch 138/150\n",
      "343/343 [==============================] - 0s 681us/step - loss: 0.6948 - accuracy: 0.6794\n",
      "Epoch 139/150\n",
      "343/343 [==============================] - 0s 687us/step - loss: 0.6949 - accuracy: 0.6790\n",
      "Epoch 140/150\n",
      "343/343 [==============================] - 0s 705us/step - loss: 0.6949 - accuracy: 0.6790\n",
      "Epoch 141/150\n",
      "343/343 [==============================] - 0s 693us/step - loss: 0.6948 - accuracy: 0.6781\n",
      "Epoch 142/150\n",
      "343/343 [==============================] - 0s 684us/step - loss: 0.6944 - accuracy: 0.6791\n",
      "Epoch 143/150\n",
      "343/343 [==============================] - 0s 670us/step - loss: 0.6951 - accuracy: 0.6780\n",
      "Epoch 144/150\n",
      "343/343 [==============================] - 0s 676us/step - loss: 0.6948 - accuracy: 0.6787\n",
      "Epoch 145/150\n",
      "343/343 [==============================] - 0s 664us/step - loss: 0.6946 - accuracy: 0.6781\n",
      "Epoch 146/150\n",
      "343/343 [==============================] - 0s 676us/step - loss: 0.6946 - accuracy: 0.6789\n",
      "Epoch 147/150\n",
      "343/343 [==============================] - 0s 708us/step - loss: 0.6948 - accuracy: 0.6785\n",
      "Epoch 148/150\n",
      "343/343 [==============================] - 0s 687us/step - loss: 0.6941 - accuracy: 0.6793\n",
      "Epoch 149/150\n",
      "343/343 [==============================] - 0s 687us/step - loss: 0.6946 - accuracy: 0.6788\n",
      "Epoch 150/150\n",
      "343/343 [==============================] - 0s 676us/step - loss: 0.6941 - accuracy: 0.6794\n"
     ]
    }
   ],
   "source": [
    "# Compilamos el modelo\n",
    "modelo.compile(\n",
    "  optimizer=keras.optimizers.SGD(learning_rate=0.1), \n",
    "  loss='sparse_categorical_crossentropy', \n",
    "  metrics=['accuracy'], \n",
    ")\n",
    "\n",
    "# Entrenamiento del modelo\n",
    "history = modelo.fit(x_train,y_train,epochs=150,batch_size=200,verbose=True)"
   ]
  },
  {
   "cell_type": "markdown",
   "metadata": {},
   "source": [
    "Vemos las metricas obtenidas"
   ]
  },
  {
   "cell_type": "code",
   "execution_count": null,
   "metadata": {},
   "outputs": [
    {
     "name": "stdout",
     "output_type": "stream",
     "text": [
      "536/536 [==============================] - 0s 492us/step\n",
      "  Accuracy : 0.680\n",
      "  Precision: 0.698\n",
      "     Recall: 0.649\n",
      "  f-measure: 0.665\n"
     ]
    }
   ],
   "source": [
    "y_pred = modelo.predict(x_test)\n",
    "\n",
    "y_pred = np.argmax(y_pred,axis = 1) \n",
    "\n",
    "print(\"  Accuracy : %.3f\" % accuracy_score(y_test, y_pred))\n",
    "print(\"  Precision: %.3f\" % precision_score(y_test, y_pred, average='macro'))\n",
    "print(\"     Recall: %.3f\" % recall_score(y_test, y_pred, average='macro'))\n",
    "print(\"  f-measure: %.3f\" % f1_score(y_test, y_pred, average='macro'))"
   ]
  },
  {
   "cell_type": "markdown",
   "metadata": {},
   "source": [
    "Las metricas no son malas, pero vamos a ver si podemos optimizar aun mas.\n",
    "Para buscar otras metricas, vamos a hacerlo iterando por distintas posibilades para los hiperparametros y quedarnos con la que nos de las mejores."
   ]
  },
  {
   "cell_type": "code",
   "execution_count": null,
   "metadata": {},
   "outputs": [
    {
     "name": "stdout",
     "output_type": "stream",
     "text": [
      "Probando con: 1 salidas, relu, sigmoid, relu, 150 epochs, 103 batch_size\n",
      "536/536 [==============================] - 0s 529us/step\n",
      "Metricas obtenidas:\n",
      "precision:0.16603458000272284\n",
      "recall:0.3333333333333333\n",
      "f1:0.2216596562289038\n",
      "\n",
      "Probando con: 0 salidas, softmax, relu, softmax, 107 epochs, 118 batch_size\n"
     ]
    },
    {
     "name": "stderr",
     "output_type": "stream",
     "text": [
      "d:\\Programas\\Python\\lib\\site-packages\\sklearn\\metrics\\_classification.py:1334: UndefinedMetricWarning: Precision is ill-defined and being set to 0.0 in labels with no predicted samples. Use `zero_division` parameter to control this behavior.\n",
      "  _warn_prf(average, modifier, msg_start, len(result))\n"
     ]
    },
    {
     "ename": "KeyboardInterrupt",
     "evalue": "",
     "output_type": "error",
     "traceback": [
      "\u001b[1;31m---------------------------------------------------------------------------\u001b[0m",
      "\u001b[1;31mKeyboardInterrupt\u001b[0m                         Traceback (most recent call last)",
      "Cell \u001b[1;32mIn [155], line 54\u001b[0m\n\u001b[0;32m     50\u001b[0m batch_size \u001b[39m=\u001b[39m random\u001b[39m.\u001b[39mrandint(\u001b[39m50\u001b[39m,\u001b[39m200\u001b[39m)\n\u001b[0;32m     53\u001b[0m \u001b[39mprint\u001b[39m(\u001b[39mf\u001b[39m\u001b[39m\"\u001b[39m\u001b[39mProbando con: \u001b[39m\u001b[39m{\u001b[39;00mcant_salidas\u001b[39m}\u001b[39;00m\u001b[39m salidas, \u001b[39m\u001b[39m{\u001b[39;00mfunc_activacion_1\u001b[39m}\u001b[39;00m\u001b[39m, \u001b[39m\u001b[39m{\u001b[39;00mfunc_activacion_2\u001b[39m}\u001b[39;00m\u001b[39m, \u001b[39m\u001b[39m{\u001b[39;00mfunc_activacion_3\u001b[39m}\u001b[39;00m\u001b[39m, \u001b[39m\u001b[39m{\u001b[39;00mepochs\u001b[39m}\u001b[39;00m\u001b[39m epochs, \u001b[39m\u001b[39m{\u001b[39;00mbatch_size\u001b[39m}\u001b[39;00m\u001b[39m batch_size\u001b[39m\u001b[39m\"\u001b[39m)\n\u001b[1;32m---> 54\u001b[0m history \u001b[39m=\u001b[39m modelo\u001b[39m.\u001b[39mfit(x_train,y_train,epochs\u001b[39m=\u001b[39mepochs,batch_size\u001b[39m=\u001b[39mbatch_size,verbose\u001b[39m=\u001b[39m\u001b[39mFalse\u001b[39;00m)\n\u001b[0;32m     56\u001b[0m y_pred \u001b[39m=\u001b[39m modelo\u001b[39m.\u001b[39mpredict(x_test)\n\u001b[0;32m     57\u001b[0m y_pred \u001b[39m=\u001b[39m np\u001b[39m.\u001b[39margmax(y_pred,axis \u001b[39m=\u001b[39m \u001b[39m1\u001b[39m) \n",
      "File \u001b[1;32md:\\Programas\\Python\\lib\\site-packages\\keras\\utils\\traceback_utils.py:65\u001b[0m, in \u001b[0;36mfilter_traceback.<locals>.error_handler\u001b[1;34m(*args, **kwargs)\u001b[0m\n\u001b[0;32m     63\u001b[0m filtered_tb \u001b[39m=\u001b[39m \u001b[39mNone\u001b[39;00m\n\u001b[0;32m     64\u001b[0m \u001b[39mtry\u001b[39;00m:\n\u001b[1;32m---> 65\u001b[0m     \u001b[39mreturn\u001b[39;00m fn(\u001b[39m*\u001b[39margs, \u001b[39m*\u001b[39m\u001b[39m*\u001b[39mkwargs)\n\u001b[0;32m     66\u001b[0m \u001b[39mexcept\u001b[39;00m \u001b[39mException\u001b[39;00m \u001b[39mas\u001b[39;00m e:\n\u001b[0;32m     67\u001b[0m     filtered_tb \u001b[39m=\u001b[39m _process_traceback_frames(e\u001b[39m.\u001b[39m__traceback__)\n",
      "File \u001b[1;32md:\\Programas\\Python\\lib\\site-packages\\keras\\engine\\training.py:1650\u001b[0m, in \u001b[0;36mModel.fit\u001b[1;34m(self, x, y, batch_size, epochs, verbose, callbacks, validation_split, validation_data, shuffle, class_weight, sample_weight, initial_epoch, steps_per_epoch, validation_steps, validation_batch_size, validation_freq, max_queue_size, workers, use_multiprocessing)\u001b[0m\n\u001b[0;32m   1642\u001b[0m \u001b[39mwith\u001b[39;00m tf\u001b[39m.\u001b[39mprofiler\u001b[39m.\u001b[39mexperimental\u001b[39m.\u001b[39mTrace(\n\u001b[0;32m   1643\u001b[0m     \u001b[39m\"\u001b[39m\u001b[39mtrain\u001b[39m\u001b[39m\"\u001b[39m,\n\u001b[0;32m   1644\u001b[0m     epoch_num\u001b[39m=\u001b[39mepoch,\n\u001b[1;32m   (...)\u001b[0m\n\u001b[0;32m   1647\u001b[0m     _r\u001b[39m=\u001b[39m\u001b[39m1\u001b[39m,\n\u001b[0;32m   1648\u001b[0m ):\n\u001b[0;32m   1649\u001b[0m     callbacks\u001b[39m.\u001b[39mon_train_batch_begin(step)\n\u001b[1;32m-> 1650\u001b[0m     tmp_logs \u001b[39m=\u001b[39m \u001b[39mself\u001b[39;49m\u001b[39m.\u001b[39;49mtrain_function(iterator)\n\u001b[0;32m   1651\u001b[0m     \u001b[39mif\u001b[39;00m data_handler\u001b[39m.\u001b[39mshould_sync:\n\u001b[0;32m   1652\u001b[0m         context\u001b[39m.\u001b[39masync_wait()\n",
      "File \u001b[1;32md:\\Programas\\Python\\lib\\site-packages\\tensorflow\\python\\util\\traceback_utils.py:150\u001b[0m, in \u001b[0;36mfilter_traceback.<locals>.error_handler\u001b[1;34m(*args, **kwargs)\u001b[0m\n\u001b[0;32m    148\u001b[0m filtered_tb \u001b[39m=\u001b[39m \u001b[39mNone\u001b[39;00m\n\u001b[0;32m    149\u001b[0m \u001b[39mtry\u001b[39;00m:\n\u001b[1;32m--> 150\u001b[0m   \u001b[39mreturn\u001b[39;00m fn(\u001b[39m*\u001b[39margs, \u001b[39m*\u001b[39m\u001b[39m*\u001b[39mkwargs)\n\u001b[0;32m    151\u001b[0m \u001b[39mexcept\u001b[39;00m \u001b[39mException\u001b[39;00m \u001b[39mas\u001b[39;00m e:\n\u001b[0;32m    152\u001b[0m   filtered_tb \u001b[39m=\u001b[39m _process_traceback_frames(e\u001b[39m.\u001b[39m__traceback__)\n",
      "File \u001b[1;32md:\\Programas\\Python\\lib\\site-packages\\tensorflow\\python\\eager\\polymorphic_function\\polymorphic_function.py:880\u001b[0m, in \u001b[0;36mFunction.__call__\u001b[1;34m(self, *args, **kwds)\u001b[0m\n\u001b[0;32m    877\u001b[0m compiler \u001b[39m=\u001b[39m \u001b[39m\"\u001b[39m\u001b[39mxla\u001b[39m\u001b[39m\"\u001b[39m \u001b[39mif\u001b[39;00m \u001b[39mself\u001b[39m\u001b[39m.\u001b[39m_jit_compile \u001b[39melse\u001b[39;00m \u001b[39m\"\u001b[39m\u001b[39mnonXla\u001b[39m\u001b[39m\"\u001b[39m\n\u001b[0;32m    879\u001b[0m \u001b[39mwith\u001b[39;00m OptionalXlaContext(\u001b[39mself\u001b[39m\u001b[39m.\u001b[39m_jit_compile):\n\u001b[1;32m--> 880\u001b[0m   result \u001b[39m=\u001b[39m \u001b[39mself\u001b[39m\u001b[39m.\u001b[39m_call(\u001b[39m*\u001b[39margs, \u001b[39m*\u001b[39m\u001b[39m*\u001b[39mkwds)\n\u001b[0;32m    882\u001b[0m new_tracing_count \u001b[39m=\u001b[39m \u001b[39mself\u001b[39m\u001b[39m.\u001b[39mexperimental_get_tracing_count()\n\u001b[0;32m    883\u001b[0m without_tracing \u001b[39m=\u001b[39m (tracing_count \u001b[39m==\u001b[39m new_tracing_count)\n",
      "File \u001b[1;32md:\\Programas\\Python\\lib\\site-packages\\tensorflow\\python\\eager\\polymorphic_function\\polymorphic_function.py:928\u001b[0m, in \u001b[0;36mFunction._call\u001b[1;34m(self, *args, **kwds)\u001b[0m\n\u001b[0;32m    925\u001b[0m \u001b[39mtry\u001b[39;00m:\n\u001b[0;32m    926\u001b[0m   \u001b[39m# This is the first call of __call__, so we have to initialize.\u001b[39;00m\n\u001b[0;32m    927\u001b[0m   initializers \u001b[39m=\u001b[39m []\n\u001b[1;32m--> 928\u001b[0m   \u001b[39mself\u001b[39;49m\u001b[39m.\u001b[39;49m_initialize(args, kwds, add_initializers_to\u001b[39m=\u001b[39;49minitializers)\n\u001b[0;32m    929\u001b[0m \u001b[39mfinally\u001b[39;00m:\n\u001b[0;32m    930\u001b[0m   \u001b[39m# At this point we know that the initialization is complete (or less\u001b[39;00m\n\u001b[0;32m    931\u001b[0m   \u001b[39m# interestingly an exception was raised) so we no longer need a lock.\u001b[39;00m\n\u001b[0;32m    932\u001b[0m   \u001b[39mself\u001b[39m\u001b[39m.\u001b[39m_lock\u001b[39m.\u001b[39mrelease()\n",
      "File \u001b[1;32md:\\Programas\\Python\\lib\\site-packages\\tensorflow\\python\\eager\\polymorphic_function\\polymorphic_function.py:749\u001b[0m, in \u001b[0;36mFunction._initialize\u001b[1;34m(self, args, kwds, add_initializers_to)\u001b[0m\n\u001b[0;32m    746\u001b[0m \u001b[39mself\u001b[39m\u001b[39m.\u001b[39m_lifted_initializer_graph \u001b[39m=\u001b[39m lifted_initializer_graph\n\u001b[0;32m    747\u001b[0m \u001b[39mself\u001b[39m\u001b[39m.\u001b[39m_graph_deleter \u001b[39m=\u001b[39m FunctionDeleter(\u001b[39mself\u001b[39m\u001b[39m.\u001b[39m_lifted_initializer_graph)\n\u001b[0;32m    748\u001b[0m \u001b[39mself\u001b[39m\u001b[39m.\u001b[39m_concrete_variable_creation_fn \u001b[39m=\u001b[39m (\n\u001b[1;32m--> 749\u001b[0m     \u001b[39mself\u001b[39m\u001b[39m.\u001b[39m_variable_creation_fn    \u001b[39m# pylint: disable=protected-access\u001b[39;00m\n\u001b[0;32m    750\u001b[0m     \u001b[39m.\u001b[39m_get_concrete_function_internal_garbage_collected(\n\u001b[0;32m    751\u001b[0m         \u001b[39m*\u001b[39margs, \u001b[39m*\u001b[39m\u001b[39m*\u001b[39mkwds))\n\u001b[0;32m    753\u001b[0m \u001b[39mdef\u001b[39;00m \u001b[39minvalid_creator_scope\u001b[39m(\u001b[39m*\u001b[39munused_args, \u001b[39m*\u001b[39m\u001b[39m*\u001b[39munused_kwds):\n\u001b[0;32m    754\u001b[0m   \u001b[39m\"\"\"Disables variable creation.\"\"\"\u001b[39;00m\n",
      "File \u001b[1;32md:\\Programas\\Python\\lib\\site-packages\\tensorflow\\python\\eager\\polymorphic_function\\tracing_compiler.py:162\u001b[0m, in \u001b[0;36mTracingCompiler._get_concrete_function_internal_garbage_collected\u001b[1;34m(self, *args, **kwargs)\u001b[0m\n\u001b[0;32m    160\u001b[0m \u001b[39m\"\"\"Returns a concrete function which cleans up its graph function.\"\"\"\u001b[39;00m\n\u001b[0;32m    161\u001b[0m \u001b[39mwith\u001b[39;00m \u001b[39mself\u001b[39m\u001b[39m.\u001b[39m_lock:\n\u001b[1;32m--> 162\u001b[0m   concrete_function, _ \u001b[39m=\u001b[39m \u001b[39mself\u001b[39;49m\u001b[39m.\u001b[39;49m_maybe_define_concrete_function(args, kwargs)\n\u001b[0;32m    163\u001b[0m \u001b[39mreturn\u001b[39;00m concrete_function\n",
      "File \u001b[1;32md:\\Programas\\Python\\lib\\site-packages\\tensorflow\\python\\eager\\polymorphic_function\\tracing_compiler.py:157\u001b[0m, in \u001b[0;36mTracingCompiler._maybe_define_concrete_function\u001b[1;34m(self, args, kwargs)\u001b[0m\n\u001b[0;32m    154\u001b[0m   args \u001b[39m=\u001b[39m \u001b[39mself\u001b[39m\u001b[39m.\u001b[39minput_signature\n\u001b[0;32m    155\u001b[0m   kwargs \u001b[39m=\u001b[39m {}\n\u001b[1;32m--> 157\u001b[0m \u001b[39mreturn\u001b[39;00m \u001b[39mself\u001b[39;49m\u001b[39m.\u001b[39;49m_maybe_define_function(args, kwargs)\n",
      "File \u001b[1;32md:\\Programas\\Python\\lib\\site-packages\\tensorflow\\python\\eager\\polymorphic_function\\tracing_compiler.py:360\u001b[0m, in \u001b[0;36mTracingCompiler._maybe_define_function\u001b[1;34m(self, args, kwargs)\u001b[0m\n\u001b[0;32m    357\u001b[0m   \u001b[39m# Only get placeholders for arguments, not captures\u001b[39;00m\n\u001b[0;32m    358\u001b[0m   args, kwargs \u001b[39m=\u001b[39m generalized_func_key\u001b[39m.\u001b[39m_placeholder_value()  \u001b[39m# pylint: disable=protected-access\u001b[39;00m\n\u001b[1;32m--> 360\u001b[0m concrete_function \u001b[39m=\u001b[39m \u001b[39mself\u001b[39;49m\u001b[39m.\u001b[39;49m_create_concrete_function(args, kwargs)\n\u001b[0;32m    362\u001b[0m graph_capture_container \u001b[39m=\u001b[39m concrete_function\u001b[39m.\u001b[39mgraph\u001b[39m.\u001b[39m_capture_func_lib  \u001b[39m# pylint: disable=protected-access\u001b[39;00m\n\u001b[0;32m    363\u001b[0m \u001b[39m# Maintain the list of all captures\u001b[39;00m\n",
      "File \u001b[1;32md:\\Programas\\Python\\lib\\site-packages\\tensorflow\\python\\eager\\polymorphic_function\\tracing_compiler.py:284\u001b[0m, in \u001b[0;36mTracingCompiler._create_concrete_function\u001b[1;34m(self, args, kwargs)\u001b[0m\n\u001b[0;32m    279\u001b[0m missing_arg_names \u001b[39m=\u001b[39m [\n\u001b[0;32m    280\u001b[0m     \u001b[39m\"\u001b[39m\u001b[39m%s\u001b[39;00m\u001b[39m_\u001b[39m\u001b[39m%d\u001b[39;00m\u001b[39m\"\u001b[39m \u001b[39m%\u001b[39m (arg, i) \u001b[39mfor\u001b[39;00m i, arg \u001b[39min\u001b[39;00m \u001b[39menumerate\u001b[39m(missing_arg_names)\n\u001b[0;32m    281\u001b[0m ]\n\u001b[0;32m    282\u001b[0m arg_names \u001b[39m=\u001b[39m base_arg_names \u001b[39m+\u001b[39m missing_arg_names\n\u001b[0;32m    283\u001b[0m concrete_function \u001b[39m=\u001b[39m monomorphic_function\u001b[39m.\u001b[39mConcreteFunction(\n\u001b[1;32m--> 284\u001b[0m     func_graph_module\u001b[39m.\u001b[39;49mfunc_graph_from_py_func(\n\u001b[0;32m    285\u001b[0m         \u001b[39mself\u001b[39;49m\u001b[39m.\u001b[39;49m_name,\n\u001b[0;32m    286\u001b[0m         \u001b[39mself\u001b[39;49m\u001b[39m.\u001b[39;49m_python_function,\n\u001b[0;32m    287\u001b[0m         args,\n\u001b[0;32m    288\u001b[0m         kwargs,\n\u001b[0;32m    289\u001b[0m         \u001b[39mNone\u001b[39;49;00m,\n\u001b[0;32m    290\u001b[0m         autograph\u001b[39m=\u001b[39;49m\u001b[39mself\u001b[39;49m\u001b[39m.\u001b[39;49m_autograph,\n\u001b[0;32m    291\u001b[0m         autograph_options\u001b[39m=\u001b[39;49m\u001b[39mself\u001b[39;49m\u001b[39m.\u001b[39;49m_autograph_options,\n\u001b[0;32m    292\u001b[0m         arg_names\u001b[39m=\u001b[39;49marg_names,\n\u001b[0;32m    293\u001b[0m         capture_by_value\u001b[39m=\u001b[39;49m\u001b[39mself\u001b[39;49m\u001b[39m.\u001b[39;49m_capture_by_value),\n\u001b[0;32m    294\u001b[0m     \u001b[39mself\u001b[39m\u001b[39m.\u001b[39m_function_attributes,\n\u001b[0;32m    295\u001b[0m     spec\u001b[39m=\u001b[39m\u001b[39mself\u001b[39m\u001b[39m.\u001b[39mfunction_spec,\n\u001b[0;32m    296\u001b[0m     \u001b[39m# Tell the ConcreteFunction to clean up its graph once it goes out of\u001b[39;00m\n\u001b[0;32m    297\u001b[0m     \u001b[39m# scope. This is not the default behavior since it gets used in some\u001b[39;00m\n\u001b[0;32m    298\u001b[0m     \u001b[39m# places (like Keras) where the FuncGraph lives longer than the\u001b[39;00m\n\u001b[0;32m    299\u001b[0m     \u001b[39m# ConcreteFunction.\u001b[39;00m\n\u001b[0;32m    300\u001b[0m     shared_func_graph\u001b[39m=\u001b[39m\u001b[39mFalse\u001b[39;00m)\n\u001b[0;32m    301\u001b[0m \u001b[39mreturn\u001b[39;00m concrete_function\n",
      "File \u001b[1;32md:\\Programas\\Python\\lib\\site-packages\\tensorflow\\python\\framework\\func_graph.py:1283\u001b[0m, in \u001b[0;36mfunc_graph_from_py_func\u001b[1;34m(name, python_func, args, kwargs, signature, func_graph, autograph, autograph_options, add_control_dependencies, arg_names, op_return_value, collections, capture_by_value, acd_record_initial_resource_uses)\u001b[0m\n\u001b[0;32m   1280\u001b[0m \u001b[39melse\u001b[39;00m:\n\u001b[0;32m   1281\u001b[0m   _, original_func \u001b[39m=\u001b[39m tf_decorator\u001b[39m.\u001b[39munwrap(python_func)\n\u001b[1;32m-> 1283\u001b[0m func_outputs \u001b[39m=\u001b[39m python_func(\u001b[39m*\u001b[39mfunc_args, \u001b[39m*\u001b[39m\u001b[39m*\u001b[39mfunc_kwargs)\n\u001b[0;32m   1285\u001b[0m \u001b[39m# invariant: `func_outputs` contains only Tensors, CompositeTensors,\u001b[39;00m\n\u001b[0;32m   1286\u001b[0m \u001b[39m# TensorArrays and `None`s.\u001b[39;00m\n\u001b[0;32m   1287\u001b[0m func_outputs \u001b[39m=\u001b[39m variable_utils\u001b[39m.\u001b[39mconvert_variables_to_tensors(func_outputs)\n",
      "File \u001b[1;32md:\\Programas\\Python\\lib\\site-packages\\tensorflow\\python\\eager\\polymorphic_function\\polymorphic_function.py:645\u001b[0m, in \u001b[0;36mFunction._compiler_with_scope.<locals>.wrapped_fn\u001b[1;34m(*args, **kwds)\u001b[0m\n\u001b[0;32m    641\u001b[0m \u001b[39mwith\u001b[39;00m default_graph\u001b[39m.\u001b[39m_variable_creator_scope(scope, priority\u001b[39m=\u001b[39m\u001b[39m50\u001b[39m):  \u001b[39m# pylint: disable=protected-access\u001b[39;00m\n\u001b[0;32m    642\u001b[0m   \u001b[39m# __wrapped__ allows AutoGraph to swap in a converted function. We give\u001b[39;00m\n\u001b[0;32m    643\u001b[0m   \u001b[39m# the function a weak reference to itself to avoid a reference cycle.\u001b[39;00m\n\u001b[0;32m    644\u001b[0m   \u001b[39mwith\u001b[39;00m OptionalXlaContext(compile_with_xla):\n\u001b[1;32m--> 645\u001b[0m     out \u001b[39m=\u001b[39m weak_wrapped_fn()\u001b[39m.\u001b[39m__wrapped__(\u001b[39m*\u001b[39margs, \u001b[39m*\u001b[39m\u001b[39m*\u001b[39mkwds)\n\u001b[0;32m    646\u001b[0m   \u001b[39mreturn\u001b[39;00m out\n",
      "File \u001b[1;32md:\\Programas\\Python\\lib\\site-packages\\tensorflow\\python\\framework\\func_graph.py:1258\u001b[0m, in \u001b[0;36mfunc_graph_from_py_func.<locals>.autograph_handler\u001b[1;34m(*args, **kwargs)\u001b[0m\n\u001b[0;32m   1256\u001b[0m \u001b[39m# TODO(mdan): Push this block higher in tf.function's call stack.\u001b[39;00m\n\u001b[0;32m   1257\u001b[0m \u001b[39mtry\u001b[39;00m:\n\u001b[1;32m-> 1258\u001b[0m   \u001b[39mreturn\u001b[39;00m autograph\u001b[39m.\u001b[39;49mconverted_call(\n\u001b[0;32m   1259\u001b[0m       original_func,\n\u001b[0;32m   1260\u001b[0m       args,\n\u001b[0;32m   1261\u001b[0m       kwargs,\n\u001b[0;32m   1262\u001b[0m       options\u001b[39m=\u001b[39;49mautograph\u001b[39m.\u001b[39;49mConversionOptions(\n\u001b[0;32m   1263\u001b[0m           recursive\u001b[39m=\u001b[39;49m\u001b[39mTrue\u001b[39;49;00m,\n\u001b[0;32m   1264\u001b[0m           optional_features\u001b[39m=\u001b[39;49mautograph_options,\n\u001b[0;32m   1265\u001b[0m           user_requested\u001b[39m=\u001b[39;49m\u001b[39mTrue\u001b[39;49;00m,\n\u001b[0;32m   1266\u001b[0m       ))\n\u001b[0;32m   1267\u001b[0m \u001b[39mexcept\u001b[39;00m \u001b[39mException\u001b[39;00m \u001b[39mas\u001b[39;00m e:  \u001b[39m# pylint:disable=broad-except\u001b[39;00m\n\u001b[0;32m   1268\u001b[0m   \u001b[39mif\u001b[39;00m \u001b[39mhasattr\u001b[39m(e, \u001b[39m\"\u001b[39m\u001b[39mag_error_metadata\u001b[39m\u001b[39m\"\u001b[39m):\n",
      "File \u001b[1;32md:\\Programas\\Python\\lib\\site-packages\\tensorflow\\python\\autograph\\impl\\api.py:439\u001b[0m, in \u001b[0;36mconverted_call\u001b[1;34m(f, args, kwargs, caller_fn_scope, options)\u001b[0m\n\u001b[0;32m    437\u001b[0m \u001b[39mtry\u001b[39;00m:\n\u001b[0;32m    438\u001b[0m   \u001b[39mif\u001b[39;00m kwargs \u001b[39mis\u001b[39;00m \u001b[39mnot\u001b[39;00m \u001b[39mNone\u001b[39;00m:\n\u001b[1;32m--> 439\u001b[0m     result \u001b[39m=\u001b[39m converted_f(\u001b[39m*\u001b[39meffective_args, \u001b[39m*\u001b[39m\u001b[39m*\u001b[39mkwargs)\n\u001b[0;32m    440\u001b[0m   \u001b[39melse\u001b[39;00m:\n\u001b[0;32m    441\u001b[0m     result \u001b[39m=\u001b[39m converted_f(\u001b[39m*\u001b[39meffective_args)\n",
      "File \u001b[1;32m~\\AppData\\Local\\Temp\\__autograph_generated_fileex7gozyb.py:15\u001b[0m, in \u001b[0;36mouter_factory.<locals>.inner_factory.<locals>.tf__train_function\u001b[1;34m(iterator)\u001b[0m\n\u001b[0;32m     13\u001b[0m \u001b[39mtry\u001b[39;00m:\n\u001b[0;32m     14\u001b[0m     do_return \u001b[39m=\u001b[39m \u001b[39mTrue\u001b[39;00m\n\u001b[1;32m---> 15\u001b[0m     retval_ \u001b[39m=\u001b[39m ag__\u001b[39m.\u001b[39;49mconverted_call(ag__\u001b[39m.\u001b[39;49mld(step_function), (ag__\u001b[39m.\u001b[39;49mld(\u001b[39mself\u001b[39;49m), ag__\u001b[39m.\u001b[39;49mld(iterator)), \u001b[39mNone\u001b[39;49;00m, fscope)\n\u001b[0;32m     16\u001b[0m \u001b[39mexcept\u001b[39;00m:\n\u001b[0;32m     17\u001b[0m     do_return \u001b[39m=\u001b[39m \u001b[39mFalse\u001b[39;00m\n",
      "File \u001b[1;32md:\\Programas\\Python\\lib\\site-packages\\tensorflow\\python\\autograph\\impl\\api.py:377\u001b[0m, in \u001b[0;36mconverted_call\u001b[1;34m(f, args, kwargs, caller_fn_scope, options)\u001b[0m\n\u001b[0;32m    374\u001b[0m   \u001b[39mreturn\u001b[39;00m _call_unconverted(f, args, kwargs, options)\n\u001b[0;32m    376\u001b[0m \u001b[39mif\u001b[39;00m \u001b[39mnot\u001b[39;00m options\u001b[39m.\u001b[39muser_requested \u001b[39mand\u001b[39;00m conversion\u001b[39m.\u001b[39mis_allowlisted(f):\n\u001b[1;32m--> 377\u001b[0m   \u001b[39mreturn\u001b[39;00m _call_unconverted(f, args, kwargs, options)\n\u001b[0;32m    379\u001b[0m \u001b[39m# internal_convert_user_code is for example turned off when issuing a dynamic\u001b[39;00m\n\u001b[0;32m    380\u001b[0m \u001b[39m# call conversion from generated code while in nonrecursive mode. In that\u001b[39;00m\n\u001b[0;32m    381\u001b[0m \u001b[39m# case we evidently don't want to recurse, but we still have to convert\u001b[39;00m\n\u001b[0;32m    382\u001b[0m \u001b[39m# things like builtins.\u001b[39;00m\n\u001b[0;32m    383\u001b[0m \u001b[39mif\u001b[39;00m \u001b[39mnot\u001b[39;00m options\u001b[39m.\u001b[39minternal_convert_user_code:\n",
      "File \u001b[1;32md:\\Programas\\Python\\lib\\site-packages\\tensorflow\\python\\autograph\\impl\\api.py:459\u001b[0m, in \u001b[0;36m_call_unconverted\u001b[1;34m(f, args, kwargs, options, update_cache)\u001b[0m\n\u001b[0;32m    457\u001b[0m \u001b[39mif\u001b[39;00m kwargs \u001b[39mis\u001b[39;00m \u001b[39mnot\u001b[39;00m \u001b[39mNone\u001b[39;00m:\n\u001b[0;32m    458\u001b[0m   \u001b[39mreturn\u001b[39;00m f(\u001b[39m*\u001b[39margs, \u001b[39m*\u001b[39m\u001b[39m*\u001b[39mkwargs)\n\u001b[1;32m--> 459\u001b[0m \u001b[39mreturn\u001b[39;00m f(\u001b[39m*\u001b[39;49margs)\n",
      "File \u001b[1;32md:\\Programas\\Python\\lib\\site-packages\\keras\\engine\\training.py:1233\u001b[0m, in \u001b[0;36mModel.make_train_function.<locals>.step_function\u001b[1;34m(model, iterator)\u001b[0m\n\u001b[0;32m   1229\u001b[0m     run_step \u001b[39m=\u001b[39m tf\u001b[39m.\u001b[39mfunction(\n\u001b[0;32m   1230\u001b[0m         run_step, jit_compile\u001b[39m=\u001b[39m\u001b[39mTrue\u001b[39;00m, reduce_retracing\u001b[39m=\u001b[39m\u001b[39mTrue\u001b[39;00m\n\u001b[0;32m   1231\u001b[0m     )\n\u001b[0;32m   1232\u001b[0m data \u001b[39m=\u001b[39m \u001b[39mnext\u001b[39m(iterator)\n\u001b[1;32m-> 1233\u001b[0m outputs \u001b[39m=\u001b[39m model\u001b[39m.\u001b[39;49mdistribute_strategy\u001b[39m.\u001b[39;49mrun(run_step, args\u001b[39m=\u001b[39;49m(data,))\n\u001b[0;32m   1234\u001b[0m outputs \u001b[39m=\u001b[39m reduce_per_replica(\n\u001b[0;32m   1235\u001b[0m     outputs,\n\u001b[0;32m   1236\u001b[0m     \u001b[39mself\u001b[39m\u001b[39m.\u001b[39mdistribute_strategy,\n\u001b[0;32m   1237\u001b[0m     reduction\u001b[39m=\u001b[39m\u001b[39mself\u001b[39m\u001b[39m.\u001b[39mdistribute_reduction_method,\n\u001b[0;32m   1238\u001b[0m )\n\u001b[0;32m   1239\u001b[0m \u001b[39mreturn\u001b[39;00m outputs\n",
      "File \u001b[1;32md:\\Programas\\Python\\lib\\site-packages\\tensorflow\\python\\distribute\\distribute_lib.py:1316\u001b[0m, in \u001b[0;36mStrategyBase.run\u001b[1;34m(***failed resolving arguments***)\u001b[0m\n\u001b[0;32m   1311\u001b[0m \u001b[39mwith\u001b[39;00m \u001b[39mself\u001b[39m\u001b[39m.\u001b[39mscope():\n\u001b[0;32m   1312\u001b[0m   \u001b[39m# tf.distribute supports Eager functions, so AutoGraph should not be\u001b[39;00m\n\u001b[0;32m   1313\u001b[0m   \u001b[39m# applied when the caller is also in Eager mode.\u001b[39;00m\n\u001b[0;32m   1314\u001b[0m   fn \u001b[39m=\u001b[39m autograph\u001b[39m.\u001b[39mtf_convert(\n\u001b[0;32m   1315\u001b[0m       fn, autograph_ctx\u001b[39m.\u001b[39mcontrol_status_ctx(), convert_by_default\u001b[39m=\u001b[39m\u001b[39mFalse\u001b[39;00m)\n\u001b[1;32m-> 1316\u001b[0m   \u001b[39mreturn\u001b[39;00m \u001b[39mself\u001b[39;49m\u001b[39m.\u001b[39;49m_extended\u001b[39m.\u001b[39;49mcall_for_each_replica(fn, args\u001b[39m=\u001b[39;49margs, kwargs\u001b[39m=\u001b[39;49mkwargs)\n",
      "File \u001b[1;32md:\\Programas\\Python\\lib\\site-packages\\tensorflow\\python\\distribute\\distribute_lib.py:2895\u001b[0m, in \u001b[0;36mStrategyExtendedV1.call_for_each_replica\u001b[1;34m(self, fn, args, kwargs)\u001b[0m\n\u001b[0;32m   2893\u001b[0m   kwargs \u001b[39m=\u001b[39m {}\n\u001b[0;32m   2894\u001b[0m \u001b[39mwith\u001b[39;00m \u001b[39mself\u001b[39m\u001b[39m.\u001b[39m_container_strategy()\u001b[39m.\u001b[39mscope():\n\u001b[1;32m-> 2895\u001b[0m   \u001b[39mreturn\u001b[39;00m \u001b[39mself\u001b[39;49m\u001b[39m.\u001b[39;49m_call_for_each_replica(fn, args, kwargs)\n",
      "File \u001b[1;32md:\\Programas\\Python\\lib\\site-packages\\tensorflow\\python\\distribute\\distribute_lib.py:3696\u001b[0m, in \u001b[0;36m_DefaultDistributionExtended._call_for_each_replica\u001b[1;34m(self, fn, args, kwargs)\u001b[0m\n\u001b[0;32m   3694\u001b[0m \u001b[39mdef\u001b[39;00m \u001b[39m_call_for_each_replica\u001b[39m(\u001b[39mself\u001b[39m, fn, args, kwargs):\n\u001b[0;32m   3695\u001b[0m   \u001b[39mwith\u001b[39;00m ReplicaContext(\u001b[39mself\u001b[39m\u001b[39m.\u001b[39m_container_strategy(), replica_id_in_sync_group\u001b[39m=\u001b[39m\u001b[39m0\u001b[39m):\n\u001b[1;32m-> 3696\u001b[0m     \u001b[39mreturn\u001b[39;00m fn(\u001b[39m*\u001b[39margs, \u001b[39m*\u001b[39m\u001b[39m*\u001b[39mkwargs)\n",
      "File \u001b[1;32md:\\Programas\\Python\\lib\\site-packages\\tensorflow\\python\\autograph\\impl\\api.py:689\u001b[0m, in \u001b[0;36mconvert.<locals>.decorator.<locals>.wrapper\u001b[1;34m(*args, **kwargs)\u001b[0m\n\u001b[0;32m    687\u001b[0m \u001b[39mtry\u001b[39;00m:\n\u001b[0;32m    688\u001b[0m   \u001b[39mwith\u001b[39;00m conversion_ctx:\n\u001b[1;32m--> 689\u001b[0m     \u001b[39mreturn\u001b[39;00m converted_call(f, args, kwargs, options\u001b[39m=\u001b[39;49moptions)\n\u001b[0;32m    690\u001b[0m \u001b[39mexcept\u001b[39;00m \u001b[39mException\u001b[39;00m \u001b[39mas\u001b[39;00m e:  \u001b[39m# pylint:disable=broad-except\u001b[39;00m\n\u001b[0;32m    691\u001b[0m   \u001b[39mif\u001b[39;00m \u001b[39mhasattr\u001b[39m(e, \u001b[39m'\u001b[39m\u001b[39mag_error_metadata\u001b[39m\u001b[39m'\u001b[39m):\n",
      "File \u001b[1;32md:\\Programas\\Python\\lib\\site-packages\\tensorflow\\python\\autograph\\impl\\api.py:377\u001b[0m, in \u001b[0;36mconverted_call\u001b[1;34m(f, args, kwargs, caller_fn_scope, options)\u001b[0m\n\u001b[0;32m    374\u001b[0m   \u001b[39mreturn\u001b[39;00m _call_unconverted(f, args, kwargs, options)\n\u001b[0;32m    376\u001b[0m \u001b[39mif\u001b[39;00m \u001b[39mnot\u001b[39;00m options\u001b[39m.\u001b[39muser_requested \u001b[39mand\u001b[39;00m conversion\u001b[39m.\u001b[39mis_allowlisted(f):\n\u001b[1;32m--> 377\u001b[0m   \u001b[39mreturn\u001b[39;00m _call_unconverted(f, args, kwargs, options)\n\u001b[0;32m    379\u001b[0m \u001b[39m# internal_convert_user_code is for example turned off when issuing a dynamic\u001b[39;00m\n\u001b[0;32m    380\u001b[0m \u001b[39m# call conversion from generated code while in nonrecursive mode. In that\u001b[39;00m\n\u001b[0;32m    381\u001b[0m \u001b[39m# case we evidently don't want to recurse, but we still have to convert\u001b[39;00m\n\u001b[0;32m    382\u001b[0m \u001b[39m# things like builtins.\u001b[39;00m\n\u001b[0;32m    383\u001b[0m \u001b[39mif\u001b[39;00m \u001b[39mnot\u001b[39;00m options\u001b[39m.\u001b[39minternal_convert_user_code:\n",
      "File \u001b[1;32md:\\Programas\\Python\\lib\\site-packages\\tensorflow\\python\\autograph\\impl\\api.py:458\u001b[0m, in \u001b[0;36m_call_unconverted\u001b[1;34m(f, args, kwargs, options, update_cache)\u001b[0m\n\u001b[0;32m    455\u001b[0m   \u001b[39mreturn\u001b[39;00m f\u001b[39m.\u001b[39m\u001b[39m__self__\u001b[39m\u001b[39m.\u001b[39mcall(args, kwargs)\n\u001b[0;32m    457\u001b[0m \u001b[39mif\u001b[39;00m kwargs \u001b[39mis\u001b[39;00m \u001b[39mnot\u001b[39;00m \u001b[39mNone\u001b[39;00m:\n\u001b[1;32m--> 458\u001b[0m   \u001b[39mreturn\u001b[39;00m f(\u001b[39m*\u001b[39margs, \u001b[39m*\u001b[39m\u001b[39m*\u001b[39mkwargs)\n\u001b[0;32m    459\u001b[0m \u001b[39mreturn\u001b[39;00m f(\u001b[39m*\u001b[39margs)\n",
      "File \u001b[1;32md:\\Programas\\Python\\lib\\site-packages\\keras\\engine\\training.py:1222\u001b[0m, in \u001b[0;36mModel.make_train_function.<locals>.step_function.<locals>.run_step\u001b[1;34m(data)\u001b[0m\n\u001b[0;32m   1221\u001b[0m \u001b[39mdef\u001b[39;00m \u001b[39mrun_step\u001b[39m(data):\n\u001b[1;32m-> 1222\u001b[0m     outputs \u001b[39m=\u001b[39m model\u001b[39m.\u001b[39;49mtrain_step(data)\n\u001b[0;32m   1223\u001b[0m     \u001b[39m# Ensure counter is updated only if `train_step` succeeds.\u001b[39;00m\n\u001b[0;32m   1224\u001b[0m     \u001b[39mwith\u001b[39;00m tf\u001b[39m.\u001b[39mcontrol_dependencies(_minimum_control_deps(outputs)):\n",
      "File \u001b[1;32md:\\Programas\\Python\\lib\\site-packages\\keras\\engine\\training.py:1024\u001b[0m, in \u001b[0;36mModel.train_step\u001b[1;34m(self, data)\u001b[0m\n\u001b[0;32m   1022\u001b[0m \u001b[39mwith\u001b[39;00m tf\u001b[39m.\u001b[39mGradientTape() \u001b[39mas\u001b[39;00m tape:\n\u001b[0;32m   1023\u001b[0m     y_pred \u001b[39m=\u001b[39m \u001b[39mself\u001b[39m(x, training\u001b[39m=\u001b[39m\u001b[39mTrue\u001b[39;00m)\n\u001b[1;32m-> 1024\u001b[0m     loss \u001b[39m=\u001b[39m \u001b[39mself\u001b[39;49m\u001b[39m.\u001b[39;49mcompute_loss(x, y, y_pred, sample_weight)\n\u001b[0;32m   1025\u001b[0m \u001b[39mself\u001b[39m\u001b[39m.\u001b[39m_validate_target_and_loss(y, loss)\n\u001b[0;32m   1026\u001b[0m \u001b[39m# Run backwards pass.\u001b[39;00m\n",
      "File \u001b[1;32md:\\Programas\\Python\\lib\\site-packages\\keras\\engine\\training.py:1082\u001b[0m, in \u001b[0;36mModel.compute_loss\u001b[1;34m(***failed resolving arguments***)\u001b[0m\n\u001b[0;32m   1031\u001b[0m \u001b[39m\"\"\"Compute the total loss, validate it, and return it.\u001b[39;00m\n\u001b[0;32m   1032\u001b[0m \n\u001b[0;32m   1033\u001b[0m \u001b[39mSubclasses can optionally override this method to provide custom loss\u001b[39;00m\n\u001b[1;32m   (...)\u001b[0m\n\u001b[0;32m   1079\u001b[0m \u001b[39m  is the case when called by `Model.test_step`).\u001b[39;00m\n\u001b[0;32m   1080\u001b[0m \u001b[39m\"\"\"\u001b[39;00m\n\u001b[0;32m   1081\u001b[0m \u001b[39mdel\u001b[39;00m x  \u001b[39m# The default implementation does not use `x`.\u001b[39;00m\n\u001b[1;32m-> 1082\u001b[0m \u001b[39mreturn\u001b[39;00m \u001b[39mself\u001b[39;49m\u001b[39m.\u001b[39;49mcompiled_loss(\n\u001b[0;32m   1083\u001b[0m     y, y_pred, sample_weight, regularization_losses\u001b[39m=\u001b[39;49m\u001b[39mself\u001b[39;49m\u001b[39m.\u001b[39;49mlosses\n\u001b[0;32m   1084\u001b[0m )\n",
      "File \u001b[1;32md:\\Programas\\Python\\lib\\site-packages\\keras\\engine\\compile_utils.py:317\u001b[0m, in \u001b[0;36mLossesContainer.__call__\u001b[1;34m(self, y_true, y_pred, sample_weight, regularization_losses)\u001b[0m\n\u001b[0;32m    313\u001b[0m total_loss_mean_values \u001b[39m=\u001b[39m losses_utils\u001b[39m.\u001b[39mcast_losses_to_common_dtype(\n\u001b[0;32m    314\u001b[0m     total_loss_mean_values\n\u001b[0;32m    315\u001b[0m )\n\u001b[0;32m    316\u001b[0m total_total_loss_mean_value \u001b[39m=\u001b[39m tf\u001b[39m.\u001b[39madd_n(total_loss_mean_values)\n\u001b[1;32m--> 317\u001b[0m \u001b[39mself\u001b[39;49m\u001b[39m.\u001b[39;49m_total_loss_mean\u001b[39m.\u001b[39;49mupdate_state(\n\u001b[0;32m    318\u001b[0m     total_total_loss_mean_value, sample_weight\u001b[39m=\u001b[39;49mbatch_dim\n\u001b[0;32m    319\u001b[0m )\n\u001b[0;32m    321\u001b[0m loss_values \u001b[39m=\u001b[39m losses_utils\u001b[39m.\u001b[39mcast_losses_to_common_dtype(loss_values)\n\u001b[0;32m    322\u001b[0m total_loss \u001b[39m=\u001b[39m tf\u001b[39m.\u001b[39madd_n(loss_values)\n",
      "File \u001b[1;32md:\\Programas\\Python\\lib\\site-packages\\keras\\utils\\metrics_utils.py:77\u001b[0m, in \u001b[0;36mupdate_state_wrapper.<locals>.decorated\u001b[1;34m(metric_obj, *args, **kwargs)\u001b[0m\n\u001b[0;32m     69\u001b[0m         \u001b[39mraise\u001b[39;00m \u001b[39mValueError\u001b[39;00m(\n\u001b[0;32m     70\u001b[0m             \u001b[39m\"\u001b[39m\u001b[39mTrying to run metric.update_state in replica context when \u001b[39m\u001b[39m\"\u001b[39m\n\u001b[0;32m     71\u001b[0m             \u001b[39m\"\u001b[39m\u001b[39mthe metric was not created in TPUStrategy scope. \u001b[39m\u001b[39m\"\u001b[39m\n\u001b[0;32m     72\u001b[0m             \u001b[39m\"\u001b[39m\u001b[39mMake sure the keras Metric is created in TPUstrategy \u001b[39m\u001b[39m\"\u001b[39m\n\u001b[0;32m     73\u001b[0m             \u001b[39m\"\u001b[39m\u001b[39mscope. \u001b[39m\u001b[39m\"\u001b[39m\n\u001b[0;32m     74\u001b[0m         )\n\u001b[0;32m     76\u001b[0m \u001b[39mwith\u001b[39;00m tf_utils\u001b[39m.\u001b[39mgraph_context_for_symbolic_tensors(\u001b[39m*\u001b[39margs, \u001b[39m*\u001b[39m\u001b[39m*\u001b[39mkwargs):\n\u001b[1;32m---> 77\u001b[0m     update_op \u001b[39m=\u001b[39m update_state_fn(\u001b[39m*\u001b[39margs, \u001b[39m*\u001b[39m\u001b[39m*\u001b[39mkwargs)\n\u001b[0;32m     78\u001b[0m \u001b[39mif\u001b[39;00m update_op \u001b[39mis\u001b[39;00m \u001b[39mnot\u001b[39;00m \u001b[39mNone\u001b[39;00m:  \u001b[39m# update_op will be None in eager execution.\u001b[39;00m\n\u001b[0;32m     79\u001b[0m     metric_obj\u001b[39m.\u001b[39madd_update(update_op)\n",
      "File \u001b[1;32md:\\Programas\\Python\\lib\\site-packages\\keras\\metrics\\base_metric.py:140\u001b[0m, in \u001b[0;36mMetric.__new__.<locals>.update_state_fn\u001b[1;34m(*args, **kwargs)\u001b[0m\n\u001b[0;32m    136\u001b[0m control_status \u001b[39m=\u001b[39m tf\u001b[39m.\u001b[39m__internal__\u001b[39m.\u001b[39mautograph\u001b[39m.\u001b[39mcontrol_status_ctx()\n\u001b[0;32m    137\u001b[0m ag_update_state \u001b[39m=\u001b[39m tf\u001b[39m.\u001b[39m__internal__\u001b[39m.\u001b[39mautograph\u001b[39m.\u001b[39mtf_convert(\n\u001b[0;32m    138\u001b[0m     obj_update_state, control_status\n\u001b[0;32m    139\u001b[0m )\n\u001b[1;32m--> 140\u001b[0m \u001b[39mreturn\u001b[39;00m ag_update_state(\u001b[39m*\u001b[39margs, \u001b[39m*\u001b[39m\u001b[39m*\u001b[39mkwargs)\n",
      "File \u001b[1;32md:\\Programas\\Python\\lib\\site-packages\\tensorflow\\python\\autograph\\impl\\api.py:689\u001b[0m, in \u001b[0;36mconvert.<locals>.decorator.<locals>.wrapper\u001b[1;34m(*args, **kwargs)\u001b[0m\n\u001b[0;32m    687\u001b[0m \u001b[39mtry\u001b[39;00m:\n\u001b[0;32m    688\u001b[0m   \u001b[39mwith\u001b[39;00m conversion_ctx:\n\u001b[1;32m--> 689\u001b[0m     \u001b[39mreturn\u001b[39;00m converted_call(f, args, kwargs, options\u001b[39m=\u001b[39;49moptions)\n\u001b[0;32m    690\u001b[0m \u001b[39mexcept\u001b[39;00m \u001b[39mException\u001b[39;00m \u001b[39mas\u001b[39;00m e:  \u001b[39m# pylint:disable=broad-except\u001b[39;00m\n\u001b[0;32m    691\u001b[0m   \u001b[39mif\u001b[39;00m \u001b[39mhasattr\u001b[39m(e, \u001b[39m'\u001b[39m\u001b[39mag_error_metadata\u001b[39m\u001b[39m'\u001b[39m):\n",
      "File \u001b[1;32md:\\Programas\\Python\\lib\\site-packages\\tensorflow\\python\\autograph\\impl\\api.py:331\u001b[0m, in \u001b[0;36mconverted_call\u001b[1;34m(f, args, kwargs, caller_fn_scope, options)\u001b[0m\n\u001b[0;32m    329\u001b[0m \u001b[39mif\u001b[39;00m conversion\u001b[39m.\u001b[39mis_in_allowlist_cache(f, options):\n\u001b[0;32m    330\u001b[0m   logging\u001b[39m.\u001b[39mlog(\u001b[39m2\u001b[39m, \u001b[39m'\u001b[39m\u001b[39mAllowlisted \u001b[39m\u001b[39m%s\u001b[39;00m\u001b[39m: from cache\u001b[39m\u001b[39m'\u001b[39m, f)\n\u001b[1;32m--> 331\u001b[0m   \u001b[39mreturn\u001b[39;00m _call_unconverted(f, args, kwargs, options, \u001b[39mFalse\u001b[39;49;00m)\n\u001b[0;32m    333\u001b[0m \u001b[39mif\u001b[39;00m ag_ctx\u001b[39m.\u001b[39mcontrol_status_ctx()\u001b[39m.\u001b[39mstatus \u001b[39m==\u001b[39m ag_ctx\u001b[39m.\u001b[39mStatus\u001b[39m.\u001b[39mDISABLED:\n\u001b[0;32m    334\u001b[0m   logging\u001b[39m.\u001b[39mlog(\u001b[39m2\u001b[39m, \u001b[39m'\u001b[39m\u001b[39mAllowlisted: \u001b[39m\u001b[39m%s\u001b[39;00m\u001b[39m: AutoGraph is disabled in context\u001b[39m\u001b[39m'\u001b[39m, f)\n",
      "File \u001b[1;32md:\\Programas\\Python\\lib\\site-packages\\tensorflow\\python\\autograph\\impl\\api.py:458\u001b[0m, in \u001b[0;36m_call_unconverted\u001b[1;34m(f, args, kwargs, options, update_cache)\u001b[0m\n\u001b[0;32m    455\u001b[0m   \u001b[39mreturn\u001b[39;00m f\u001b[39m.\u001b[39m\u001b[39m__self__\u001b[39m\u001b[39m.\u001b[39mcall(args, kwargs)\n\u001b[0;32m    457\u001b[0m \u001b[39mif\u001b[39;00m kwargs \u001b[39mis\u001b[39;00m \u001b[39mnot\u001b[39;00m \u001b[39mNone\u001b[39;00m:\n\u001b[1;32m--> 458\u001b[0m   \u001b[39mreturn\u001b[39;00m f(\u001b[39m*\u001b[39margs, \u001b[39m*\u001b[39m\u001b[39m*\u001b[39mkwargs)\n\u001b[0;32m    459\u001b[0m \u001b[39mreturn\u001b[39;00m f(\u001b[39m*\u001b[39margs)\n",
      "File \u001b[1;32md:\\Programas\\Python\\lib\\site-packages\\keras\\metrics\\base_metric.py:494\u001b[0m, in \u001b[0;36mReduce.update_state\u001b[1;34m(self, values, sample_weight)\u001b[0m\n\u001b[0;32m    489\u001b[0m             values \u001b[39m=\u001b[39m tf\u001b[39m.\u001b[39mreduce_mean(\n\u001b[0;32m    490\u001b[0m                 values, axis\u001b[39m=\u001b[39m\u001b[39mlist\u001b[39m(\u001b[39mrange\u001b[39m(weight_ndim, ndim))\n\u001b[0;32m    491\u001b[0m             )\n\u001b[0;32m    492\u001b[0m     values \u001b[39m=\u001b[39m tf\u001b[39m.\u001b[39mmultiply(values, sample_weight)\n\u001b[1;32m--> 494\u001b[0m value_sum \u001b[39m=\u001b[39m tf\u001b[39m.\u001b[39;49mreduce_sum(values)\n\u001b[0;32m    495\u001b[0m \u001b[39mwith\u001b[39;00m tf\u001b[39m.\u001b[39mcontrol_dependencies([value_sum]):\n\u001b[0;32m    496\u001b[0m     update_total_op \u001b[39m=\u001b[39m \u001b[39mself\u001b[39m\u001b[39m.\u001b[39mtotal\u001b[39m.\u001b[39massign_add(value_sum)\n",
      "File \u001b[1;32md:\\Programas\\Python\\lib\\site-packages\\tensorflow\\python\\util\\traceback_utils.py:150\u001b[0m, in \u001b[0;36mfilter_traceback.<locals>.error_handler\u001b[1;34m(*args, **kwargs)\u001b[0m\n\u001b[0;32m    148\u001b[0m filtered_tb \u001b[39m=\u001b[39m \u001b[39mNone\u001b[39;00m\n\u001b[0;32m    149\u001b[0m \u001b[39mtry\u001b[39;00m:\n\u001b[1;32m--> 150\u001b[0m   \u001b[39mreturn\u001b[39;00m fn(\u001b[39m*\u001b[39margs, \u001b[39m*\u001b[39m\u001b[39m*\u001b[39mkwargs)\n\u001b[0;32m    151\u001b[0m \u001b[39mexcept\u001b[39;00m \u001b[39mException\u001b[39;00m \u001b[39mas\u001b[39;00m e:\n\u001b[0;32m    152\u001b[0m   filtered_tb \u001b[39m=\u001b[39m _process_traceback_frames(e\u001b[39m.\u001b[39m__traceback__)\n",
      "File \u001b[1;32md:\\Programas\\Python\\lib\\site-packages\\tensorflow\\python\\util\\dispatch.py:1176\u001b[0m, in \u001b[0;36madd_dispatch_support.<locals>.decorator.<locals>.op_dispatch_handler\u001b[1;34m(*args, **kwargs)\u001b[0m\n\u001b[0;32m   1174\u001b[0m \u001b[39m# Fallback dispatch system (dispatch v1):\u001b[39;00m\n\u001b[0;32m   1175\u001b[0m \u001b[39mtry\u001b[39;00m:\n\u001b[1;32m-> 1176\u001b[0m   \u001b[39mreturn\u001b[39;00m dispatch_target(\u001b[39m*\u001b[39margs, \u001b[39m*\u001b[39m\u001b[39m*\u001b[39mkwargs)\n\u001b[0;32m   1177\u001b[0m \u001b[39mexcept\u001b[39;00m (\u001b[39mTypeError\u001b[39;00m, \u001b[39mValueError\u001b[39;00m):\n\u001b[0;32m   1178\u001b[0m   \u001b[39m# Note: convert_to_eager_tensor currently raises a ValueError, not a\u001b[39;00m\n\u001b[0;32m   1179\u001b[0m   \u001b[39m# TypeError, when given unexpected types.  So we need to catch both.\u001b[39;00m\n\u001b[0;32m   1180\u001b[0m   result \u001b[39m=\u001b[39m dispatch(op_dispatch_handler, args, kwargs)\n",
      "File \u001b[1;32md:\\Programas\\Python\\lib\\site-packages\\tensorflow\\python\\ops\\math_ops.py:2312\u001b[0m, in \u001b[0;36mreduce_sum\u001b[1;34m(input_tensor, axis, keepdims, name)\u001b[0m\n\u001b[0;32m   2249\u001b[0m \u001b[39m@tf_export\u001b[39m(\u001b[39m\"\u001b[39m\u001b[39mmath.reduce_sum\u001b[39m\u001b[39m\"\u001b[39m, \u001b[39m\"\u001b[39m\u001b[39mreduce_sum\u001b[39m\u001b[39m\"\u001b[39m, v1\u001b[39m=\u001b[39m[])\n\u001b[0;32m   2250\u001b[0m \u001b[39m@dispatch\u001b[39m\u001b[39m.\u001b[39madd_dispatch_support\n\u001b[0;32m   2251\u001b[0m \u001b[39mdef\u001b[39;00m \u001b[39mreduce_sum\u001b[39m(input_tensor, axis\u001b[39m=\u001b[39m\u001b[39mNone\u001b[39;00m, keepdims\u001b[39m=\u001b[39m\u001b[39mFalse\u001b[39;00m, name\u001b[39m=\u001b[39m\u001b[39mNone\u001b[39;00m):\n\u001b[0;32m   2252\u001b[0m   \u001b[39m\"\"\"Computes the sum of elements across dimensions of a tensor.\u001b[39;00m\n\u001b[0;32m   2253\u001b[0m \n\u001b[0;32m   2254\u001b[0m \u001b[39m  This is the reduction operation for the elementwise `tf.math.add` op.\u001b[39;00m\n\u001b[1;32m   (...)\u001b[0m\n\u001b[0;32m   2309\u001b[0m \u001b[39m  @end_compatibility\u001b[39;00m\n\u001b[0;32m   2310\u001b[0m \u001b[39m  \"\"\"\u001b[39;00m\n\u001b[1;32m-> 2312\u001b[0m   \u001b[39mreturn\u001b[39;00m reduce_sum_with_dims(input_tensor, axis, keepdims, name,\n\u001b[0;32m   2313\u001b[0m                               _ReductionDims(input_tensor, axis))\n",
      "File \u001b[1;32md:\\Programas\\Python\\lib\\site-packages\\tensorflow\\python\\ops\\math_ops.py:2324\u001b[0m, in \u001b[0;36mreduce_sum_with_dims\u001b[1;34m(input_tensor, axis, keepdims, name, dims)\u001b[0m\n\u001b[0;32m   2316\u001b[0m \u001b[39mdef\u001b[39;00m \u001b[39mreduce_sum_with_dims\u001b[39m(input_tensor,\n\u001b[0;32m   2317\u001b[0m                          axis\u001b[39m=\u001b[39m\u001b[39mNone\u001b[39;00m,\n\u001b[0;32m   2318\u001b[0m                          keepdims\u001b[39m=\u001b[39m\u001b[39mFalse\u001b[39;00m,\n\u001b[0;32m   2319\u001b[0m                          name\u001b[39m=\u001b[39m\u001b[39mNone\u001b[39;00m,\n\u001b[0;32m   2320\u001b[0m                          dims\u001b[39m=\u001b[39m\u001b[39mNone\u001b[39;00m):\n\u001b[0;32m   2321\u001b[0m   keepdims \u001b[39m=\u001b[39m \u001b[39mFalse\u001b[39;00m \u001b[39mif\u001b[39;00m keepdims \u001b[39mis\u001b[39;00m \u001b[39mNone\u001b[39;00m \u001b[39melse\u001b[39;00m \u001b[39mbool\u001b[39m(keepdims)\n\u001b[0;32m   2322\u001b[0m   \u001b[39mreturn\u001b[39;00m _may_reduce_to_scalar(\n\u001b[0;32m   2323\u001b[0m       keepdims, axis,\n\u001b[1;32m-> 2324\u001b[0m       gen_math_ops\u001b[39m.\u001b[39;49m_sum(input_tensor, dims, keepdims, name\u001b[39m=\u001b[39;49mname))\n",
      "File \u001b[1;32md:\\Programas\\Python\\lib\\site-packages\\tensorflow\\python\\ops\\gen_math_ops.py:12477\u001b[0m, in \u001b[0;36m_sum\u001b[1;34m(input, axis, keep_dims, name)\u001b[0m\n\u001b[0;32m  12475\u001b[0m   keep_dims \u001b[39m=\u001b[39m \u001b[39mFalse\u001b[39;00m\n\u001b[0;32m  12476\u001b[0m keep_dims \u001b[39m=\u001b[39m _execute\u001b[39m.\u001b[39mmake_bool(keep_dims, \u001b[39m\"\u001b[39m\u001b[39mkeep_dims\u001b[39m\u001b[39m\"\u001b[39m)\n\u001b[1;32m> 12477\u001b[0m _, _, _op, _outputs \u001b[39m=\u001b[39m _op_def_library\u001b[39m.\u001b[39;49m_apply_op_helper(\n\u001b[0;32m  12478\u001b[0m       \u001b[39m\"\u001b[39;49m\u001b[39mSum\u001b[39;49m\u001b[39m\"\u001b[39;49m, \u001b[39minput\u001b[39;49m\u001b[39m=\u001b[39;49m\u001b[39minput\u001b[39;49m, reduction_indices\u001b[39m=\u001b[39;49maxis, keep_dims\u001b[39m=\u001b[39;49mkeep_dims,\n\u001b[0;32m  12479\u001b[0m              name\u001b[39m=\u001b[39;49mname)\n\u001b[0;32m  12480\u001b[0m _result \u001b[39m=\u001b[39m _outputs[:]\n\u001b[0;32m  12481\u001b[0m \u001b[39mif\u001b[39;00m _execute\u001b[39m.\u001b[39mmust_record_gradient():\n",
      "File \u001b[1;32md:\\Programas\\Python\\lib\\site-packages\\tensorflow\\python\\framework\\op_def_library.py:795\u001b[0m, in \u001b[0;36m_apply_op_helper\u001b[1;34m(op_type_name, name, **keywords)\u001b[0m\n\u001b[0;32m    790\u001b[0m must_colocate_inputs \u001b[39m=\u001b[39m [val \u001b[39mfor\u001b[39;00m arg, val \u001b[39min\u001b[39;00m \u001b[39mzip\u001b[39m(op_def\u001b[39m.\u001b[39minput_arg, inputs)\n\u001b[0;32m    791\u001b[0m                         \u001b[39mif\u001b[39;00m arg\u001b[39m.\u001b[39mis_ref]\n\u001b[0;32m    792\u001b[0m \u001b[39mwith\u001b[39;00m _MaybeColocateWith(must_colocate_inputs):\n\u001b[0;32m    793\u001b[0m   \u001b[39m# Add Op to graph\u001b[39;00m\n\u001b[0;32m    794\u001b[0m   \u001b[39m# pylint: disable=protected-access\u001b[39;00m\n\u001b[1;32m--> 795\u001b[0m   op \u001b[39m=\u001b[39m g\u001b[39m.\u001b[39;49m_create_op_internal(op_type_name, inputs, dtypes\u001b[39m=\u001b[39;49m\u001b[39mNone\u001b[39;49;00m,\n\u001b[0;32m    796\u001b[0m                              name\u001b[39m=\u001b[39;49mscope, input_types\u001b[39m=\u001b[39;49minput_types,\n\u001b[0;32m    797\u001b[0m                              attrs\u001b[39m=\u001b[39;49mattr_protos, op_def\u001b[39m=\u001b[39;49mop_def)\n\u001b[0;32m    799\u001b[0m \u001b[39m# `outputs` is returned as a separate return value so that the output\u001b[39;00m\n\u001b[0;32m    800\u001b[0m \u001b[39m# tensors can the `op` per se can be decoupled so that the\u001b[39;00m\n\u001b[0;32m    801\u001b[0m \u001b[39m# `op_callbacks` can function properly. See framework/op_callbacks.py\u001b[39;00m\n\u001b[0;32m    802\u001b[0m \u001b[39m# for more details.\u001b[39;00m\n\u001b[0;32m    803\u001b[0m outputs \u001b[39m=\u001b[39m op\u001b[39m.\u001b[39moutputs\n",
      "File \u001b[1;32md:\\Programas\\Python\\lib\\site-packages\\tensorflow\\python\\framework\\func_graph.py:749\u001b[0m, in \u001b[0;36mFuncGraph._create_op_internal\u001b[1;34m(self, op_type, inputs, dtypes, input_types, name, attrs, op_def, compute_device)\u001b[0m\n\u001b[0;32m    747\u001b[0m   inp \u001b[39m=\u001b[39m \u001b[39mself\u001b[39m\u001b[39m.\u001b[39mcapture(inp)\n\u001b[0;32m    748\u001b[0m   captured_inputs\u001b[39m.\u001b[39mappend(inp)\n\u001b[1;32m--> 749\u001b[0m \u001b[39mreturn\u001b[39;00m \u001b[39msuper\u001b[39;49m(FuncGraph, \u001b[39mself\u001b[39;49m)\u001b[39m.\u001b[39;49m_create_op_internal(  \u001b[39m# pylint: disable=protected-access\u001b[39;49;00m\n\u001b[0;32m    750\u001b[0m     op_type, captured_inputs, dtypes, input_types, name, attrs, op_def,\n\u001b[0;32m    751\u001b[0m     compute_device)\n",
      "File \u001b[1;32md:\\Programas\\Python\\lib\\site-packages\\tensorflow\\python\\framework\\ops.py:3798\u001b[0m, in \u001b[0;36mGraph._create_op_internal\u001b[1;34m(self, op_type, inputs, dtypes, input_types, name, attrs, op_def, compute_device)\u001b[0m\n\u001b[0;32m   3795\u001b[0m \u001b[39m# _create_op_helper mutates the new Operation. `_mutation_lock` ensures a\u001b[39;00m\n\u001b[0;32m   3796\u001b[0m \u001b[39m# Session.run call cannot occur between creating and mutating the op.\u001b[39;00m\n\u001b[0;32m   3797\u001b[0m \u001b[39mwith\u001b[39;00m \u001b[39mself\u001b[39m\u001b[39m.\u001b[39m_mutation_lock():\n\u001b[1;32m-> 3798\u001b[0m   ret \u001b[39m=\u001b[39m Operation(\n\u001b[0;32m   3799\u001b[0m       node_def,\n\u001b[0;32m   3800\u001b[0m       \u001b[39mself\u001b[39;49m,\n\u001b[0;32m   3801\u001b[0m       inputs\u001b[39m=\u001b[39;49minputs,\n\u001b[0;32m   3802\u001b[0m       output_types\u001b[39m=\u001b[39;49mdtypes,\n\u001b[0;32m   3803\u001b[0m       control_inputs\u001b[39m=\u001b[39;49mcontrol_inputs,\n\u001b[0;32m   3804\u001b[0m       input_types\u001b[39m=\u001b[39;49minput_types,\n\u001b[0;32m   3805\u001b[0m       original_op\u001b[39m=\u001b[39;49m\u001b[39mself\u001b[39;49m\u001b[39m.\u001b[39;49m_default_original_op,\n\u001b[0;32m   3806\u001b[0m       op_def\u001b[39m=\u001b[39;49mop_def)\n\u001b[0;32m   3807\u001b[0m   \u001b[39mself\u001b[39m\u001b[39m.\u001b[39m_create_op_helper(ret, compute_device\u001b[39m=\u001b[39mcompute_device)\n\u001b[0;32m   3808\u001b[0m \u001b[39mreturn\u001b[39;00m ret\n",
      "File \u001b[1;32md:\\Programas\\Python\\lib\\site-packages\\tensorflow\\python\\framework\\ops.py:2106\u001b[0m, in \u001b[0;36mOperation.__init__\u001b[1;34m(***failed resolving arguments***)\u001b[0m\n\u001b[0;32m   2103\u001b[0m     control_input_ops\u001b[39m.\u001b[39mappend(control_op)\n\u001b[0;32m   2105\u001b[0m \u001b[39m# Initialize c_op from node_def and other inputs\u001b[39;00m\n\u001b[1;32m-> 2106\u001b[0m c_op \u001b[39m=\u001b[39m _create_c_op(g, node_def, inputs, control_input_ops, op_def\u001b[39m=\u001b[39;49mop_def)\n\u001b[0;32m   2107\u001b[0m \u001b[39mself\u001b[39m\u001b[39m.\u001b[39m_init_from_c_op(c_op\u001b[39m=\u001b[39mc_op, g\u001b[39m=\u001b[39mg)\n\u001b[0;32m   2109\u001b[0m \u001b[39mself\u001b[39m\u001b[39m.\u001b[39m_original_op \u001b[39m=\u001b[39m original_op\n",
      "File \u001b[1;32md:\\Programas\\Python\\lib\\site-packages\\tensorflow\\python\\util\\traceback_utils.py:150\u001b[0m, in \u001b[0;36mfilter_traceback.<locals>.error_handler\u001b[1;34m(*args, **kwargs)\u001b[0m\n\u001b[0;32m    148\u001b[0m filtered_tb \u001b[39m=\u001b[39m \u001b[39mNone\u001b[39;00m\n\u001b[0;32m    149\u001b[0m \u001b[39mtry\u001b[39;00m:\n\u001b[1;32m--> 150\u001b[0m   \u001b[39mreturn\u001b[39;00m fn(\u001b[39m*\u001b[39margs, \u001b[39m*\u001b[39m\u001b[39m*\u001b[39mkwargs)\n\u001b[0;32m    151\u001b[0m \u001b[39mexcept\u001b[39;00m \u001b[39mException\u001b[39;00m \u001b[39mas\u001b[39;00m e:\n\u001b[0;32m    152\u001b[0m   filtered_tb \u001b[39m=\u001b[39m _process_traceback_frames(e\u001b[39m.\u001b[39m__traceback__)\n",
      "File \u001b[1;32md:\\Programas\\Python\\lib\\site-packages\\tensorflow\\python\\framework\\ops.py:1964\u001b[0m, in \u001b[0;36m_create_c_op\u001b[1;34m(graph, node_def, inputs, control_inputs, op_def, extract_traceback)\u001b[0m\n\u001b[0;32m   1960\u001b[0m   pywrap_tf_session\u001b[39m.\u001b[39mTF_SetAttrValueProto(op_desc, compat\u001b[39m.\u001b[39mas_str(name),\n\u001b[0;32m   1961\u001b[0m                                          serialized)\n\u001b[0;32m   1963\u001b[0m \u001b[39mtry\u001b[39;00m:\n\u001b[1;32m-> 1964\u001b[0m   c_op \u001b[39m=\u001b[39m pywrap_tf_session\u001b[39m.\u001b[39;49mTF_FinishOperation(op_desc)\n\u001b[0;32m   1965\u001b[0m \u001b[39mexcept\u001b[39;00m errors\u001b[39m.\u001b[39mInvalidArgumentError \u001b[39mas\u001b[39;00m e:\n\u001b[0;32m   1966\u001b[0m   \u001b[39m# Convert to ValueError for backwards compatibility.\u001b[39;00m\n\u001b[0;32m   1967\u001b[0m   \u001b[39mraise\u001b[39;00m \u001b[39mValueError\u001b[39;00m(e\u001b[39m.\u001b[39mmessage)\n",
      "\u001b[1;31mKeyboardInterrupt\u001b[0m: "
     ]
    }
   ],
   "source": [
    "import random\n",
    "\n",
    "random.seed(1)\n",
    "\n",
    "activations = ['relu', 'tanh', 'sigmoid', 'softmax']\n",
    "\n",
    "\n",
    "mejores_hyperparametros = {\n",
    "    'func_activacion_1': '',\n",
    "    'func_activacion_2': '',\n",
    "    'func_activacion_3': '',\n",
    "    'epochs': 0,\n",
    "    'batch_size': 0,\n",
    "}\n",
    "\n",
    "mejores_metricas = {\n",
    "  'prom' : 0,\n",
    "  'precision' : 0,\n",
    "  'recall' : 0,\n",
    "  'f-measure' : 0\n",
    "}\n",
    "\n",
    "for i in range(0,5):\n",
    "\n",
    "  cant_salidas = random.randint(0,4)\n",
    "  func_activacion_1 = activations[random.randint(0,3)]\n",
    "  func_activacion_2 = activations[random.randint(0,3)]\n",
    "  func_activacion_3 = activations[random.randint(0,3)]\n",
    "  modelo = keras.Sequential([\n",
    "      # input_shape solo en la primer capa\n",
    "      # Capa con 3 salidas, activación relu\n",
    "      keras.layers.Dense(3,input_shape=(d_in,), activation=activations[random.randint(0,3)]),\n",
    "\n",
    "      keras.layers.Dense(cant_salidas, activation=func_activacion_1),\n",
    "      keras.layers.Dense(cant_salidas, activation=func_activacion_2),\n",
    "      keras.layers.Dense(cant_salidas, activation=func_activacion_3),\n",
    "\n",
    "      #la ultima capa si o si tiene que tener tantas salidas como clases, y softmax \n",
    "      keras.layers.Dense(classes, activation='softmax')])\n",
    "\n",
    "  # Compilamos el modelo\n",
    "  modelo.compile(\n",
    "    optimizer=keras.optimizers.SGD(learning_rate=0.1), \n",
    "    loss='sparse_categorical_crossentropy', \n",
    "    metrics=['accuracy'], \n",
    "  )\n",
    "  \n",
    "  # Entrenamiento del modelo\n",
    "  epochs = random.randint(50,150)\n",
    "  batch_size = random.randint(50,200)\n",
    "\n",
    "\n",
    "  print(f\"Probando con: {cant_salidas} salidas, {func_activacion_1}, {func_activacion_2}, {func_activacion_3}, {epochs} epochs, {batch_size} batch_size\")\n",
    "  history = modelo.fit(x_train,y_train,epochs=epochs,batch_size=batch_size,verbose=False)\n",
    "\n",
    "  y_pred = modelo.predict(x_test)\n",
    "  y_pred = np.argmax(y_pred,axis = 1) \n",
    "\n",
    "  # Utilizamos las metricas que pide la consigna\n",
    "  pres = precision_score(y_test, y_pred, average='macro')\n",
    "  recall = recall_score(y_test, y_pred, average='macro')\n",
    "  f1 = f1_score(y_test, y_pred, average='macro')\n",
    "\n",
    "  # Calculamos la media de las metricas\n",
    "  metricas = (pres + recall + f1) / 3\n",
    "  \n",
    "  print(\"Metricas obtenidas:\")\n",
    "  print(f\"precision:{pres}\")\n",
    "  print(f\"recall:{recall}\")\n",
    "  print(f\"f1:{f1}\")\n",
    "  print()\n",
    "\n",
    "  if metricas > mejores_metricas['prom']:\n",
    "    mejores_metricas['prom'] = metricas\n",
    "    \n",
    "    mejores_metricas['precision'] = pres\n",
    "    mejores_metricas['recall'] = recall\n",
    "    mejores_metricas['f-measure'] = f1\n",
    "\n",
    "    mejores_hyperparametros['cant_salidas'] = cant_salidas\n",
    "    mejores_hyperparametros['func_activacion_1'] = func_activacion_1\n",
    "    mejores_hyperparametros['func_activacion_2'] = func_activacion_2\n",
    "    mejores_hyperparametros['func_activacion_3'] = func_activacion_3\n",
    "    mejores_hyperparametros['epochs'] = epochs\n",
    "    mejores_hyperparametros['batch_size'] = batch_size\n",
    "  \n",
    "\n",
    "print(mejores_metricas)\n",
    "print(mejores_hyperparametros)"
   ]
  },
  {
   "cell_type": "markdown",
   "metadata": {},
   "source": [
    "Buscando de esta forma, las mejores metricas obtenidas son iguales que las obtenidas en el punto anterior, pero con y menos salidas por capa.\n"
   ]
  },
  {
   "cell_type": "code",
   "execution_count": null,
   "metadata": {},
   "outputs": [
    {
     "name": "stdout",
     "output_type": "stream",
     "text": [
      "Mejores Metricas obtenidas:\n",
      "precision:0.16603458000272284\n",
      "recall:0.3333333333333333\n",
      "f1:0.2216596562289038\n"
     ]
    }
   ],
   "source": [
    "print(\"Mejores Metricas obtenidas:\")\n",
    "print(f\"precision:{mejores_metricas['precision']}\")\n",
    "print(f\"recall:{mejores_metricas['recall']}\")\n",
    "print(f\"f1:{mejores_metricas['f-measure']}\")"
   ]
  },
  {
   "cell_type": "markdown",
   "metadata": {},
   "source": [
    "## Regresion"
   ]
  },
  {
   "cell_type": "markdown",
   "metadata": {},
   "source": [
    "Usamos esta funcion para graficar mas comodo"
   ]
  },
  {
   "cell_type": "code",
   "execution_count": null,
   "metadata": {},
   "outputs": [],
   "source": [
    "def plot_regression(modelo,x,y,title=\"\",xlabel=\"x\",ylabel=\"y\"):\n",
    "    plt.figure()\n",
    "    \n",
    "    plt.plot(x,y,\"o\",label=\"Valores verdaderos\")\n",
    "    plt.plot(x,modelo.predict(x),\"x\",label=\"Valores estimados\")\n",
    "    \n",
    "    plt.xlabel(xlabel)\n",
    "    plt.ylabel(ylabel)\n",
    "    plt.title(title)\n",
    "    plt.legend()\n",
    "    plt.show()"
   ]
  },
  {
   "cell_type": "code",
   "execution_count": null,
   "metadata": {},
   "outputs": [],
   "source": [
    "ds_propiedades_para_regresion = ds_propiedades.copy()"
   ]
  },
  {
   "cell_type": "markdown",
   "metadata": {},
   "source": [
    "Transformamos los datos del dataframe"
   ]
  },
  {
   "cell_type": "code",
   "execution_count": null,
   "metadata": {},
   "outputs": [],
   "source": [
    "# Eliminamos estas columnas porque no las necesitamos para el modelo\n",
    "ds_propiedades_para_regresion.drop(['property_title', 'id', 'property_description'], axis=1, inplace=True)\n",
    "\n",
    "#Eliminamos las columnas que tienen info del precio\n",
    "ds_propiedades_para_regresion.drop(['tipo_precio','pxm2'], axis=1, inplace=True)\n",
    "\n",
    "# One hot encoding de las columnas categóricas\n",
    "ds_propiedades_para_regresion = pd.get_dummies(ds_propiedades_para_regresion, columns=[\"place_l3\", \"property_type\"], dtype=np.int8)\n",
    "\n",
    "# Seleccionamos las columnas que vamos a usar para el modelo\n",
    "columnas_predictoras=ds_propiedades_para_regresion.columns.to_list()\n",
    "\n",
    "# Convertimos expensas_tipo a una columna numerica\n",
    "ds_propiedades_para_regresion.expensas_tipo.replace({'sin': -2, 'no aplica':-1,'bajas':0,'medias':1,'altas':2}, inplace=True)\n",
    "\n",
    "# Normalizamos las variables de entrada\n",
    "scaler = MinMaxScaler()\n",
    "ds_propiedades_para_regresion[columnas_predictoras] = scaler.fit_transform(ds_propiedades_para_regresion[columnas_predictoras])\n",
    "\n",
    "# Eliminamos property_price porque es la variable que queremos predecir\n",
    "columnas_predictoras.remove('property_price')"
   ]
  },
  {
   "cell_type": "code",
   "execution_count": null,
   "metadata": {},
   "outputs": [
    {
     "data": {
      "text/html": [
       "<div>\n",
       "<style scoped>\n",
       "    .dataframe tbody tr th:only-of-type {\n",
       "        vertical-align: middle;\n",
       "    }\n",
       "\n",
       "    .dataframe tbody tr th {\n",
       "        vertical-align: top;\n",
       "    }\n",
       "\n",
       "    .dataframe thead th {\n",
       "        text-align: right;\n",
       "    }\n",
       "</style>\n",
       "<table border=\"1\" class=\"dataframe\">\n",
       "  <thead>\n",
       "    <tr style=\"text-align: right;\">\n",
       "      <th></th>\n",
       "      <th>latitud</th>\n",
       "      <th>longitud</th>\n",
       "      <th>property_rooms</th>\n",
       "      <th>property_bedrooms</th>\n",
       "      <th>property_surface_total</th>\n",
       "      <th>property_surface_covered</th>\n",
       "      <th>property_price</th>\n",
       "      <th>piscina</th>\n",
       "      <th>cochera</th>\n",
       "      <th>balcon</th>\n",
       "      <th>...</th>\n",
       "      <th>place_l3_Villa Pueyrredón</th>\n",
       "      <th>place_l3_Villa Real</th>\n",
       "      <th>place_l3_Villa Riachuelo</th>\n",
       "      <th>place_l3_Villa Santa Rita</th>\n",
       "      <th>place_l3_Villa Soldati</th>\n",
       "      <th>place_l3_Villa Urquiza</th>\n",
       "      <th>place_l3_Villa del Parque</th>\n",
       "      <th>property_type_Casa</th>\n",
       "      <th>property_type_Departamento</th>\n",
       "      <th>property_type_PH</th>\n",
       "    </tr>\n",
       "  </thead>\n",
       "  <tbody>\n",
       "    <tr>\n",
       "      <th>0</th>\n",
       "      <td>0.859587</td>\n",
       "      <td>0.416415</td>\n",
       "      <td>0.500000</td>\n",
       "      <td>0.6</td>\n",
       "      <td>0.477477</td>\n",
       "      <td>0.472313</td>\n",
       "      <td>0.383966</td>\n",
       "      <td>0.0</td>\n",
       "      <td>1.0</td>\n",
       "      <td>1.0</td>\n",
       "      <td>...</td>\n",
       "      <td>0.0</td>\n",
       "      <td>0.0</td>\n",
       "      <td>0.0</td>\n",
       "      <td>0.0</td>\n",
       "      <td>0.0</td>\n",
       "      <td>0.0</td>\n",
       "      <td>0.0</td>\n",
       "      <td>0.0</td>\n",
       "      <td>1.0</td>\n",
       "      <td>0.0</td>\n",
       "    </tr>\n",
       "    <tr>\n",
       "      <th>1</th>\n",
       "      <td>0.715143</td>\n",
       "      <td>0.462460</td>\n",
       "      <td>0.166667</td>\n",
       "      <td>0.2</td>\n",
       "      <td>0.147147</td>\n",
       "      <td>0.146580</td>\n",
       "      <td>0.120675</td>\n",
       "      <td>0.0</td>\n",
       "      <td>1.0</td>\n",
       "      <td>1.0</td>\n",
       "      <td>...</td>\n",
       "      <td>0.0</td>\n",
       "      <td>0.0</td>\n",
       "      <td>0.0</td>\n",
       "      <td>0.0</td>\n",
       "      <td>0.0</td>\n",
       "      <td>0.0</td>\n",
       "      <td>0.0</td>\n",
       "      <td>0.0</td>\n",
       "      <td>1.0</td>\n",
       "      <td>0.0</td>\n",
       "    </tr>\n",
       "    <tr>\n",
       "      <th>2</th>\n",
       "      <td>0.571472</td>\n",
       "      <td>0.578015</td>\n",
       "      <td>0.333333</td>\n",
       "      <td>0.4</td>\n",
       "      <td>0.138138</td>\n",
       "      <td>0.149837</td>\n",
       "      <td>0.070886</td>\n",
       "      <td>0.0</td>\n",
       "      <td>0.0</td>\n",
       "      <td>0.0</td>\n",
       "      <td>...</td>\n",
       "      <td>0.0</td>\n",
       "      <td>0.0</td>\n",
       "      <td>0.0</td>\n",
       "      <td>0.0</td>\n",
       "      <td>0.0</td>\n",
       "      <td>0.0</td>\n",
       "      <td>0.0</td>\n",
       "      <td>0.0</td>\n",
       "      <td>1.0</td>\n",
       "      <td>0.0</td>\n",
       "    </tr>\n",
       "    <tr>\n",
       "      <th>3</th>\n",
       "      <td>0.840478</td>\n",
       "      <td>0.399254</td>\n",
       "      <td>0.166667</td>\n",
       "      <td>0.2</td>\n",
       "      <td>0.153153</td>\n",
       "      <td>0.153094</td>\n",
       "      <td>0.102954</td>\n",
       "      <td>0.0</td>\n",
       "      <td>0.0</td>\n",
       "      <td>1.0</td>\n",
       "      <td>...</td>\n",
       "      <td>0.0</td>\n",
       "      <td>0.0</td>\n",
       "      <td>0.0</td>\n",
       "      <td>0.0</td>\n",
       "      <td>0.0</td>\n",
       "      <td>0.0</td>\n",
       "      <td>0.0</td>\n",
       "      <td>0.0</td>\n",
       "      <td>1.0</td>\n",
       "      <td>0.0</td>\n",
       "    </tr>\n",
       "    <tr>\n",
       "      <th>4</th>\n",
       "      <td>0.565870</td>\n",
       "      <td>0.753212</td>\n",
       "      <td>0.333333</td>\n",
       "      <td>0.4</td>\n",
       "      <td>0.225225</td>\n",
       "      <td>0.241042</td>\n",
       "      <td>0.105401</td>\n",
       "      <td>0.0</td>\n",
       "      <td>0.0</td>\n",
       "      <td>1.0</td>\n",
       "      <td>...</td>\n",
       "      <td>0.0</td>\n",
       "      <td>0.0</td>\n",
       "      <td>0.0</td>\n",
       "      <td>0.0</td>\n",
       "      <td>0.0</td>\n",
       "      <td>0.0</td>\n",
       "      <td>0.0</td>\n",
       "      <td>0.0</td>\n",
       "      <td>1.0</td>\n",
       "      <td>0.0</td>\n",
       "    </tr>\n",
       "    <tr>\n",
       "      <th>...</th>\n",
       "      <td>...</td>\n",
       "      <td>...</td>\n",
       "      <td>...</td>\n",
       "      <td>...</td>\n",
       "      <td>...</td>\n",
       "      <td>...</td>\n",
       "      <td>...</td>\n",
       "      <td>...</td>\n",
       "      <td>...</td>\n",
       "      <td>...</td>\n",
       "      <td>...</td>\n",
       "      <td>...</td>\n",
       "      <td>...</td>\n",
       "      <td>...</td>\n",
       "      <td>...</td>\n",
       "      <td>...</td>\n",
       "      <td>...</td>\n",
       "      <td>...</td>\n",
       "      <td>...</td>\n",
       "      <td>...</td>\n",
       "      <td>...</td>\n",
       "    </tr>\n",
       "    <tr>\n",
       "      <th>85688</th>\n",
       "      <td>0.728453</td>\n",
       "      <td>0.519028</td>\n",
       "      <td>0.333333</td>\n",
       "      <td>0.4</td>\n",
       "      <td>0.171171</td>\n",
       "      <td>0.185668</td>\n",
       "      <td>0.143460</td>\n",
       "      <td>0.0</td>\n",
       "      <td>0.0</td>\n",
       "      <td>0.0</td>\n",
       "      <td>...</td>\n",
       "      <td>0.0</td>\n",
       "      <td>0.0</td>\n",
       "      <td>0.0</td>\n",
       "      <td>0.0</td>\n",
       "      <td>0.0</td>\n",
       "      <td>0.0</td>\n",
       "      <td>0.0</td>\n",
       "      <td>0.0</td>\n",
       "      <td>0.0</td>\n",
       "      <td>1.0</td>\n",
       "    </tr>\n",
       "    <tr>\n",
       "      <th>85689</th>\n",
       "      <td>0.465723</td>\n",
       "      <td>0.493996</td>\n",
       "      <td>0.833333</td>\n",
       "      <td>0.8</td>\n",
       "      <td>0.549550</td>\n",
       "      <td>0.596091</td>\n",
       "      <td>0.350211</td>\n",
       "      <td>0.0</td>\n",
       "      <td>0.0</td>\n",
       "      <td>0.0</td>\n",
       "      <td>...</td>\n",
       "      <td>0.0</td>\n",
       "      <td>0.0</td>\n",
       "      <td>0.0</td>\n",
       "      <td>0.0</td>\n",
       "      <td>0.0</td>\n",
       "      <td>0.0</td>\n",
       "      <td>0.0</td>\n",
       "      <td>0.0</td>\n",
       "      <td>0.0</td>\n",
       "      <td>1.0</td>\n",
       "    </tr>\n",
       "    <tr>\n",
       "      <th>85690</th>\n",
       "      <td>0.407469</td>\n",
       "      <td>0.645797</td>\n",
       "      <td>0.166667</td>\n",
       "      <td>0.2</td>\n",
       "      <td>0.132132</td>\n",
       "      <td>0.130293</td>\n",
       "      <td>0.066667</td>\n",
       "      <td>0.0</td>\n",
       "      <td>0.0</td>\n",
       "      <td>0.0</td>\n",
       "      <td>...</td>\n",
       "      <td>0.0</td>\n",
       "      <td>0.0</td>\n",
       "      <td>0.0</td>\n",
       "      <td>0.0</td>\n",
       "      <td>0.0</td>\n",
       "      <td>0.0</td>\n",
       "      <td>0.0</td>\n",
       "      <td>0.0</td>\n",
       "      <td>0.0</td>\n",
       "      <td>1.0</td>\n",
       "    </tr>\n",
       "    <tr>\n",
       "      <th>85691</th>\n",
       "      <td>0.687028</td>\n",
       "      <td>0.098150</td>\n",
       "      <td>0.166667</td>\n",
       "      <td>0.2</td>\n",
       "      <td>0.255255</td>\n",
       "      <td>0.143322</td>\n",
       "      <td>0.097046</td>\n",
       "      <td>0.0</td>\n",
       "      <td>0.0</td>\n",
       "      <td>0.0</td>\n",
       "      <td>...</td>\n",
       "      <td>0.0</td>\n",
       "      <td>0.0</td>\n",
       "      <td>0.0</td>\n",
       "      <td>0.0</td>\n",
       "      <td>0.0</td>\n",
       "      <td>0.0</td>\n",
       "      <td>0.0</td>\n",
       "      <td>0.0</td>\n",
       "      <td>0.0</td>\n",
       "      <td>1.0</td>\n",
       "    </tr>\n",
       "    <tr>\n",
       "      <th>85692</th>\n",
       "      <td>0.751212</td>\n",
       "      <td>0.123701</td>\n",
       "      <td>0.333333</td>\n",
       "      <td>0.4</td>\n",
       "      <td>0.237237</td>\n",
       "      <td>0.224756</td>\n",
       "      <td>0.113840</td>\n",
       "      <td>0.0</td>\n",
       "      <td>0.0</td>\n",
       "      <td>1.0</td>\n",
       "      <td>...</td>\n",
       "      <td>1.0</td>\n",
       "      <td>0.0</td>\n",
       "      <td>0.0</td>\n",
       "      <td>0.0</td>\n",
       "      <td>0.0</td>\n",
       "      <td>0.0</td>\n",
       "      <td>0.0</td>\n",
       "      <td>0.0</td>\n",
       "      <td>0.0</td>\n",
       "      <td>1.0</td>\n",
       "    </tr>\n",
       "  </tbody>\n",
       "</table>\n",
       "<p>85693 rows × 76 columns</p>\n",
       "</div>"
      ],
      "text/plain": [
       "        latitud  longitud  property_rooms  property_bedrooms  \\\n",
       "0      0.859587  0.416415        0.500000                0.6   \n",
       "1      0.715143  0.462460        0.166667                0.2   \n",
       "2      0.571472  0.578015        0.333333                0.4   \n",
       "3      0.840478  0.399254        0.166667                0.2   \n",
       "4      0.565870  0.753212        0.333333                0.4   \n",
       "...         ...       ...             ...                ...   \n",
       "85688  0.728453  0.519028        0.333333                0.4   \n",
       "85689  0.465723  0.493996        0.833333                0.8   \n",
       "85690  0.407469  0.645797        0.166667                0.2   \n",
       "85691  0.687028  0.098150        0.166667                0.2   \n",
       "85692  0.751212  0.123701        0.333333                0.4   \n",
       "\n",
       "       property_surface_total  property_surface_covered  property_price  \\\n",
       "0                    0.477477                  0.472313        0.383966   \n",
       "1                    0.147147                  0.146580        0.120675   \n",
       "2                    0.138138                  0.149837        0.070886   \n",
       "3                    0.153153                  0.153094        0.102954   \n",
       "4                    0.225225                  0.241042        0.105401   \n",
       "...                       ...                       ...             ...   \n",
       "85688                0.171171                  0.185668        0.143460   \n",
       "85689                0.549550                  0.596091        0.350211   \n",
       "85690                0.132132                  0.130293        0.066667   \n",
       "85691                0.255255                  0.143322        0.097046   \n",
       "85692                0.237237                  0.224756        0.113840   \n",
       "\n",
       "       piscina  cochera  balcon  ...  place_l3_Villa Pueyrredón  \\\n",
       "0          0.0      1.0     1.0  ...                        0.0   \n",
       "1          0.0      1.0     1.0  ...                        0.0   \n",
       "2          0.0      0.0     0.0  ...                        0.0   \n",
       "3          0.0      0.0     1.0  ...                        0.0   \n",
       "4          0.0      0.0     1.0  ...                        0.0   \n",
       "...        ...      ...     ...  ...                        ...   \n",
       "85688      0.0      0.0     0.0  ...                        0.0   \n",
       "85689      0.0      0.0     0.0  ...                        0.0   \n",
       "85690      0.0      0.0     0.0  ...                        0.0   \n",
       "85691      0.0      0.0     0.0  ...                        0.0   \n",
       "85692      0.0      0.0     1.0  ...                        1.0   \n",
       "\n",
       "       place_l3_Villa Real  place_l3_Villa Riachuelo  \\\n",
       "0                      0.0                       0.0   \n",
       "1                      0.0                       0.0   \n",
       "2                      0.0                       0.0   \n",
       "3                      0.0                       0.0   \n",
       "4                      0.0                       0.0   \n",
       "...                    ...                       ...   \n",
       "85688                  0.0                       0.0   \n",
       "85689                  0.0                       0.0   \n",
       "85690                  0.0                       0.0   \n",
       "85691                  0.0                       0.0   \n",
       "85692                  0.0                       0.0   \n",
       "\n",
       "       place_l3_Villa Santa Rita  place_l3_Villa Soldati  \\\n",
       "0                            0.0                     0.0   \n",
       "1                            0.0                     0.0   \n",
       "2                            0.0                     0.0   \n",
       "3                            0.0                     0.0   \n",
       "4                            0.0                     0.0   \n",
       "...                          ...                     ...   \n",
       "85688                        0.0                     0.0   \n",
       "85689                        0.0                     0.0   \n",
       "85690                        0.0                     0.0   \n",
       "85691                        0.0                     0.0   \n",
       "85692                        0.0                     0.0   \n",
       "\n",
       "       place_l3_Villa Urquiza  place_l3_Villa del Parque  property_type_Casa  \\\n",
       "0                         0.0                        0.0                 0.0   \n",
       "1                         0.0                        0.0                 0.0   \n",
       "2                         0.0                        0.0                 0.0   \n",
       "3                         0.0                        0.0                 0.0   \n",
       "4                         0.0                        0.0                 0.0   \n",
       "...                       ...                        ...                 ...   \n",
       "85688                     0.0                        0.0                 0.0   \n",
       "85689                     0.0                        0.0                 0.0   \n",
       "85690                     0.0                        0.0                 0.0   \n",
       "85691                     0.0                        0.0                 0.0   \n",
       "85692                     0.0                        0.0                 0.0   \n",
       "\n",
       "       property_type_Departamento  property_type_PH  \n",
       "0                             1.0               0.0  \n",
       "1                             1.0               0.0  \n",
       "2                             1.0               0.0  \n",
       "3                             1.0               0.0  \n",
       "4                             1.0               0.0  \n",
       "...                           ...               ...  \n",
       "85688                         0.0               1.0  \n",
       "85689                         0.0               1.0  \n",
       "85690                         0.0               1.0  \n",
       "85691                         0.0               1.0  \n",
       "85692                         0.0               1.0  \n",
       "\n",
       "[85693 rows x 76 columns]"
      ]
     },
     "execution_count": 160,
     "metadata": {},
     "output_type": "execute_result"
    }
   ],
   "source": [
    "x_train, x_test, y_train, y_test = train_test_split(ds_propiedades_para_regresion.loc[:,columnas_predictoras],ds_propiedades_para_regresion.loc[:,'property_price'],test_size=0.2)\n",
    "\n",
    "sscaler=StandardScaler()\n",
    "sscaler.fit(pd.DataFrame(x_train))\n",
    "\n",
    "x_train_transform=sscaler.transform(pd.DataFrame(x_train))\n",
    "x_test_transform=sscaler.transform(pd.DataFrame(x_test))\n",
    "\n",
    "ds_propiedades_para_regresion"
   ]
  },
  {
   "cell_type": "code",
   "execution_count": null,
   "metadata": {},
   "outputs": [
    {
     "name": "stdout",
     "output_type": "stream",
     "text": [
      "Model: \"sequential_8\"\n",
      "_________________________________________________________________\n",
      " Layer (type)                Output Shape              Param #   \n",
      "=================================================================\n",
      " dense_35 (Dense)            (None, 1)                 76        \n",
      "                                                                 \n",
      " dense_36 (Dense)            (None, 3)                 6         \n",
      "                                                                 \n",
      " dense_37 (Dense)            (None, 3)                 12        \n",
      "                                                                 \n",
      " dense_38 (Dense)            (None, 1)                 4         \n",
      "                                                                 \n",
      "=================================================================\n",
      "Total params: 98\n",
      "Trainable params: 98\n",
      "Non-trainable params: 0\n",
      "_________________________________________________________________\n"
     ]
    }
   ],
   "source": [
    "# Creo un modelo Red Neuronal\n",
    "d_in=len(columnas_predictoras)\n",
    "d_out=1\n",
    "\n",
    "modelo1 = keras.Sequential([\n",
    "    keras.layers.Dense(1,input_shape=(d_in,)), #, activation=\"relu\"\n",
    "\n",
    "    keras.layers.Dense(3, activation='tanh'),\n",
    "    keras.layers.Dense(3, activation='relu'),\n",
    "    keras.layers.Dense(1, activation='sigmoid')\n",
    "    ])\n",
    "modelo1.summary()"
   ]
  },
  {
   "cell_type": "code",
   "execution_count": null,
   "metadata": {},
   "outputs": [],
   "source": [
    "modelo1.compile(\n",
    "  optimizer=keras.optimizers.SGD(learning_rate=0.001), \n",
    "  loss='mse', \n",
    "  metrics=['mae'], \n",
    ")"
   ]
  },
  {
   "cell_type": "code",
   "execution_count": null,
   "metadata": {},
   "outputs": [
    {
     "name": "stdout",
     "output_type": "stream",
     "text": [
      "Epoch 1/50\n",
      "807/807 [==============================] - 1s 613us/step - loss: 0.0898 - mae: 0.2859\n",
      "Epoch 2/50\n",
      "807/807 [==============================] - 0s 609us/step - loss: 0.0636 - mae: 0.2375\n",
      "Epoch 3/50\n",
      "807/807 [==============================] - 1s 624us/step - loss: 0.0471 - mae: 0.2016\n",
      "Epoch 4/50\n",
      "807/807 [==============================] - 0s 604us/step - loss: 0.0364 - mae: 0.1749\n",
      "Epoch 5/50\n",
      "807/807 [==============================] - 0s 616us/step - loss: 0.0293 - mae: 0.1547\n",
      "Epoch 6/50\n",
      "807/807 [==============================] - 0s 613us/step - loss: 0.0243 - mae: 0.1392\n",
      "Epoch 7/50\n",
      "807/807 [==============================] - 0s 617us/step - loss: 0.0209 - mae: 0.1273\n",
      "Epoch 8/50\n",
      "807/807 [==============================] - 0s 617us/step - loss: 0.0184 - mae: 0.1179\n",
      "Epoch 9/50\n",
      "807/807 [==============================] - 1s 669us/step - loss: 0.0166 - mae: 0.1104\n",
      "Epoch 10/50\n",
      "807/807 [==============================] - 1s 619us/step - loss: 0.0152 - mae: 0.1044\n",
      "Epoch 11/50\n",
      "807/807 [==============================] - 1s 642us/step - loss: 0.0142 - mae: 0.0994\n",
      "Epoch 12/50\n",
      "807/807 [==============================] - 1s 619us/step - loss: 0.0134 - mae: 0.0954\n",
      "Epoch 13/50\n",
      "807/807 [==============================] - 1s 629us/step - loss: 0.0127 - mae: 0.0921\n",
      "Epoch 14/50\n",
      "807/807 [==============================] - 0s 614us/step - loss: 0.0122 - mae: 0.0893\n",
      "Epoch 15/50\n",
      "807/807 [==============================] - 0s 617us/step - loss: 0.0119 - mae: 0.0869\n",
      "Epoch 16/50\n",
      "807/807 [==============================] - 1s 620us/step - loss: 0.0115 - mae: 0.0849\n",
      "Epoch 17/50\n",
      "807/807 [==============================] - 0s 613us/step - loss: 0.0113 - mae: 0.0832\n",
      "Epoch 18/50\n",
      "807/807 [==============================] - 1s 624us/step - loss: 0.0111 - mae: 0.0817\n",
      "Epoch 19/50\n",
      "807/807 [==============================] - 0s 609us/step - loss: 0.0109 - mae: 0.0804\n",
      "Epoch 20/50\n",
      "807/807 [==============================] - 1s 628us/step - loss: 0.0107 - mae: 0.0792\n",
      "Epoch 21/50\n",
      "807/807 [==============================] - 1s 625us/step - loss: 0.0106 - mae: 0.0782\n",
      "Epoch 22/50\n",
      "807/807 [==============================] - 1s 623us/step - loss: 0.0105 - mae: 0.0774\n",
      "Epoch 23/50\n",
      "807/807 [==============================] - 1s 656us/step - loss: 0.0104 - mae: 0.0766\n",
      "Epoch 24/50\n",
      "807/807 [==============================] - 1s 627us/step - loss: 0.0104 - mae: 0.0759\n",
      "Epoch 25/50\n",
      "807/807 [==============================] - 1s 639us/step - loss: 0.0103 - mae: 0.0753\n",
      "Epoch 26/50\n",
      "807/807 [==============================] - 1s 647us/step - loss: 0.0102 - mae: 0.0748\n",
      "Epoch 27/50\n",
      "807/807 [==============================] - 1s 638us/step - loss: 0.0102 - mae: 0.0743\n",
      "Epoch 28/50\n",
      "807/807 [==============================] - 1s 643us/step - loss: 0.0102 - mae: 0.0738\n",
      "Epoch 29/50\n",
      "807/807 [==============================] - 1s 632us/step - loss: 0.0101 - mae: 0.0734\n",
      "Epoch 30/50\n",
      "807/807 [==============================] - 1s 629us/step - loss: 0.0101 - mae: 0.0731\n",
      "Epoch 31/50\n",
      "807/807 [==============================] - 1s 643us/step - loss: 0.0100 - mae: 0.0727\n",
      "Epoch 32/50\n",
      "807/807 [==============================] - 1s 639us/step - loss: 0.0100 - mae: 0.0724\n",
      "Epoch 33/50\n",
      "807/807 [==============================] - 1s 630us/step - loss: 0.0100 - mae: 0.0721\n",
      "Epoch 34/50\n",
      "807/807 [==============================] - 1s 633us/step - loss: 0.0100 - mae: 0.0719\n",
      "Epoch 35/50\n",
      "807/807 [==============================] - 1s 635us/step - loss: 0.0100 - mae: 0.0716\n",
      "Epoch 36/50\n",
      "807/807 [==============================] - 1s 630us/step - loss: 0.0099 - mae: 0.0714\n",
      "Epoch 37/50\n",
      "807/807 [==============================] - 1s 637us/step - loss: 0.0099 - mae: 0.0712\n",
      "Epoch 38/50\n",
      "807/807 [==============================] - 1s 624us/step - loss: 0.0099 - mae: 0.0710\n",
      "Epoch 39/50\n",
      "807/807 [==============================] - 1s 625us/step - loss: 0.0099 - mae: 0.0709\n",
      "Epoch 40/50\n",
      "807/807 [==============================] - 1s 629us/step - loss: 0.0099 - mae: 0.0707\n",
      "Epoch 41/50\n",
      "807/807 [==============================] - 1s 640us/step - loss: 0.0099 - mae: 0.0706\n",
      "Epoch 42/50\n",
      "807/807 [==============================] - 1s 623us/step - loss: 0.0098 - mae: 0.0704\n",
      "Epoch 43/50\n",
      "807/807 [==============================] - 1s 635us/step - loss: 0.0098 - mae: 0.0703\n",
      "Epoch 44/50\n",
      "807/807 [==============================] - 1s 623us/step - loss: 0.0098 - mae: 0.0702\n",
      "Epoch 45/50\n",
      "807/807 [==============================] - 1s 632us/step - loss: 0.0098 - mae: 0.0701\n",
      "Epoch 46/50\n",
      "807/807 [==============================] - 1s 628us/step - loss: 0.0098 - mae: 0.0699\n",
      "Epoch 47/50\n",
      "807/807 [==============================] - 1s 627us/step - loss: 0.0098 - mae: 0.0699\n",
      "Epoch 48/50\n",
      "807/807 [==============================] - 0s 613us/step - loss: 0.0098 - mae: 0.0698\n",
      "Epoch 49/50\n",
      "807/807 [==============================] - 1s 623us/step - loss: 0.0098 - mae: 0.0697\n",
      "Epoch 50/50\n",
      "807/807 [==============================] - 1s 625us/step - loss: 0.0098 - mae: 0.0696\n"
     ]
    }
   ],
   "source": [
    "y_pred = modelo1.fit(x_train_transform,y_train,epochs=50,batch_size=85,verbose=True)"
   ]
  },
  {
   "cell_type": "code",
   "execution_count": null,
   "metadata": {},
   "outputs": [
    {
     "name": "stdout",
     "output_type": "stream",
     "text": [
      "536/536 [==============================] - 0s 478us/step\n"
     ]
    },
    {
     "data": {
      "text/html": [
       "<div>\n",
       "<style scoped>\n",
       "    .dataframe tbody tr th:only-of-type {\n",
       "        vertical-align: middle;\n",
       "    }\n",
       "\n",
       "    .dataframe tbody tr th {\n",
       "        vertical-align: top;\n",
       "    }\n",
       "\n",
       "    .dataframe thead th {\n",
       "        text-align: right;\n",
       "    }\n",
       "</style>\n",
       "<table border=\"1\" class=\"dataframe\">\n",
       "  <thead>\n",
       "    <tr style=\"text-align: right;\">\n",
       "      <th></th>\n",
       "      <th>Valor Real</th>\n",
       "      <th>Prediccion</th>\n",
       "      <th>Error</th>\n",
       "    </tr>\n",
       "  </thead>\n",
       "  <tbody>\n",
       "    <tr>\n",
       "      <th>9727</th>\n",
       "      <td>0.180591</td>\n",
       "      <td>0.154125</td>\n",
       "      <td>0.026465</td>\n",
       "    </tr>\n",
       "    <tr>\n",
       "      <th>38066</th>\n",
       "      <td>0.156118</td>\n",
       "      <td>0.112247</td>\n",
       "      <td>0.043871</td>\n",
       "    </tr>\n",
       "    <tr>\n",
       "      <th>73879</th>\n",
       "      <td>0.299578</td>\n",
       "      <td>0.140123</td>\n",
       "      <td>0.159455</td>\n",
       "    </tr>\n",
       "    <tr>\n",
       "      <th>63539</th>\n",
       "      <td>0.129958</td>\n",
       "      <td>0.154865</td>\n",
       "      <td>-0.024907</td>\n",
       "    </tr>\n",
       "    <tr>\n",
       "      <th>55275</th>\n",
       "      <td>0.124051</td>\n",
       "      <td>0.157414</td>\n",
       "      <td>-0.033364</td>\n",
       "    </tr>\n",
       "  </tbody>\n",
       "</table>\n",
       "</div>"
      ],
      "text/plain": [
       "       Valor Real  Prediccion     Error\n",
       "9727     0.180591    0.154125  0.026465\n",
       "38066    0.156118    0.112247  0.043871\n",
       "73879    0.299578    0.140123  0.159455\n",
       "63539    0.129958    0.154865 -0.024907\n",
       "55275    0.124051    0.157414 -0.033364"
      ]
     },
     "execution_count": 164,
     "metadata": {},
     "output_type": "execute_result"
    }
   ],
   "source": [
    "y_pred=modelo1.predict(x_test_transform)\n",
    "y_pred = y_pred.flatten()\n",
    "performance = pd.DataFrame({'Valor Real': y_test,\n",
    "                            'Prediccion': y_pred,\n",
    "                            'Error': y_test - y_pred})\n",
    "\n",
    "\n",
    "performance.head()"
   ]
  },
  {
   "cell_type": "code",
   "execution_count": null,
   "metadata": {},
   "outputs": [
    {
     "name": "stdout",
     "output_type": "stream",
     "text": [
      "El error (mse) de test es: 0.009755540134327492\n",
      "El error (rmse) de test es: 0.09877013786731034\n"
     ]
    }
   ],
   "source": [
    "from sklearn import metrics\n",
    "\n",
    "mse = metrics.mean_squared_error(\n",
    "        y_true  = y_test,\n",
    "        y_pred  = y_pred,\n",
    "        squared = True\n",
    "         )\n",
    "\n",
    "print(f\"El error (mse) de test es: {mse}\")\n",
    "\n",
    "\n",
    "\n",
    "rmse = metrics.mean_squared_error(\n",
    "        y_true  = y_test,\n",
    "        y_pred  = y_pred,\n",
    "        squared = False\n",
    "         )\n",
    "\n",
    "print(f\"El error (rmse) de test es: {rmse}\")    "
   ]
  },
  {
   "cell_type": "code",
   "execution_count": null,
   "metadata": {},
   "outputs": [
    {
     "name": "stdout",
     "output_type": "stream",
     "text": [
      "El r2 score de test es: 0.004830575085051914\n"
     ]
    }
   ],
   "source": [
    "# show r2 score\n",
    "r2 = metrics.r2_score(\n",
    "        y_true  = y_test,\n",
    "        y_pred  = y_pred\n",
    "        )\n",
    "\n",
    "print(f\"El r2 score de test es: {r2}\")"
   ]
  },
  {
   "cell_type": "markdown",
   "metadata": {},
   "source": [
    "# <center> Ensamble de Modelos <center/> "
   ]
  },
  {
   "cell_type": "markdown",
   "metadata": {},
   "source": [
    "## Ensamble 1: Voting"
   ]
  },
  {
   "cell_type": "code",
   "execution_count": null,
   "metadata": {},
   "outputs": [],
   "source": [
    "from sklearn import tree\n",
    "import dtreeviz.trees as dtv\n",
    "from sklearn.ensemble import RandomForestClassifier\n",
    "from sklearn.ensemble import AdaBoostClassifier\n",
    "from sklearn.ensemble import VotingClassifier"
   ]
  },
  {
   "cell_type": "code",
   "execution_count": null,
   "metadata": {},
   "outputs": [],
   "source": [
    "ds_propiedades_ensamble = ds_propiedades.copy()"
   ]
  },
  {
   "cell_type": "markdown",
   "metadata": {},
   "source": [
    "Modificamos el dataset para poder usarlo en los modelos"
   ]
  },
  {
   "cell_type": "code",
   "execution_count": null,
   "metadata": {},
   "outputs": [],
   "source": [
    "ds_propiedades_ensamble = pd.get_dummies(ds_propiedades_ensamble, columns=[\"place_l3\", \"property_type\"], dtype=np.int8)\n",
    "ds_propiedades_ensamble.drop(['property_title', 'id', 'property_description'], axis=1, inplace=True)\n",
    "\n",
    "ds_propiedades_ensamble.tipo_precio.replace({'bajo':0,'medio':1,'alto':2}, inplace=True)\n",
    "ds_propiedades_ensamble.expensas_tipo.replace({'sin': -2, 'no aplica':-1,'bajas':0,'medias':1,'altas':2}, inplace=True)\n",
    "\n",
    "ds_propiedades_ensamble.drop(['property_price','pxm2'], axis=1, inplace=True)"
   ]
  },
  {
   "cell_type": "markdown",
   "metadata": {},
   "source": [
    "Dividimos nuestro dataset en train y test"
   ]
  },
  {
   "cell_type": "code",
   "execution_count": null,
   "metadata": {},
   "outputs": [],
   "source": [
    "#Armo conjunto entrenamiento y test 80-20\n",
    "columnas_predictoras = ds_propiedades_ensamble.columns.to_list()\n",
    "columnas_predictoras.remove('tipo_precio')\n",
    "\n",
    "x_train, x_test, y_train, y_test = train_test_split(ds_propiedades_ensamble.loc[:,columnas_predictoras], ds_propiedades_ensamble.loc[:,'tipo_precio'], random_state = 42, train_size = 0.80)"
   ]
  },
  {
   "cell_type": "markdown",
   "metadata": {},
   "source": [
    "Creamos el ensamble de modelos"
   ]
  },
  {
   "cell_type": "code",
   "execution_count": null,
   "metadata": {},
   "outputs": [
    {
     "data": {
      "text/html": [
       "<style>#sk-container-id-2 {color: black;background-color: white;}#sk-container-id-2 pre{padding: 0;}#sk-container-id-2 div.sk-toggleable {background-color: white;}#sk-container-id-2 label.sk-toggleable__label {cursor: pointer;display: block;width: 100%;margin-bottom: 0;padding: 0.3em;box-sizing: border-box;text-align: center;}#sk-container-id-2 label.sk-toggleable__label-arrow:before {content: \"▸\";float: left;margin-right: 0.25em;color: #696969;}#sk-container-id-2 label.sk-toggleable__label-arrow:hover:before {color: black;}#sk-container-id-2 div.sk-estimator:hover label.sk-toggleable__label-arrow:before {color: black;}#sk-container-id-2 div.sk-toggleable__content {max-height: 0;max-width: 0;overflow: hidden;text-align: left;background-color: #f0f8ff;}#sk-container-id-2 div.sk-toggleable__content pre {margin: 0.2em;color: black;border-radius: 0.25em;background-color: #f0f8ff;}#sk-container-id-2 input.sk-toggleable__control:checked~div.sk-toggleable__content {max-height: 200px;max-width: 100%;overflow: auto;}#sk-container-id-2 input.sk-toggleable__control:checked~label.sk-toggleable__label-arrow:before {content: \"▾\";}#sk-container-id-2 div.sk-estimator input.sk-toggleable__control:checked~label.sk-toggleable__label {background-color: #d4ebff;}#sk-container-id-2 div.sk-label input.sk-toggleable__control:checked~label.sk-toggleable__label {background-color: #d4ebff;}#sk-container-id-2 input.sk-hidden--visually {border: 0;clip: rect(1px 1px 1px 1px);clip: rect(1px, 1px, 1px, 1px);height: 1px;margin: -1px;overflow: hidden;padding: 0;position: absolute;width: 1px;}#sk-container-id-2 div.sk-estimator {font-family: monospace;background-color: #f0f8ff;border: 1px dotted black;border-radius: 0.25em;box-sizing: border-box;margin-bottom: 0.5em;}#sk-container-id-2 div.sk-estimator:hover {background-color: #d4ebff;}#sk-container-id-2 div.sk-parallel-item::after {content: \"\";width: 100%;border-bottom: 1px solid gray;flex-grow: 1;}#sk-container-id-2 div.sk-label:hover label.sk-toggleable__label {background-color: #d4ebff;}#sk-container-id-2 div.sk-serial::before {content: \"\";position: absolute;border-left: 1px solid gray;box-sizing: border-box;top: 0;bottom: 0;left: 50%;z-index: 0;}#sk-container-id-2 div.sk-serial {display: flex;flex-direction: column;align-items: center;background-color: white;padding-right: 0.2em;padding-left: 0.2em;position: relative;}#sk-container-id-2 div.sk-item {position: relative;z-index: 1;}#sk-container-id-2 div.sk-parallel {display: flex;align-items: stretch;justify-content: center;background-color: white;position: relative;}#sk-container-id-2 div.sk-item::before, #sk-container-id-2 div.sk-parallel-item::before {content: \"\";position: absolute;border-left: 1px solid gray;box-sizing: border-box;top: 0;bottom: 0;left: 50%;z-index: -1;}#sk-container-id-2 div.sk-parallel-item {display: flex;flex-direction: column;z-index: 1;position: relative;background-color: white;}#sk-container-id-2 div.sk-parallel-item:first-child::after {align-self: flex-end;width: 50%;}#sk-container-id-2 div.sk-parallel-item:last-child::after {align-self: flex-start;width: 50%;}#sk-container-id-2 div.sk-parallel-item:only-child::after {width: 0;}#sk-container-id-2 div.sk-dashed-wrapped {border: 1px dashed gray;margin: 0 0.4em 0.5em 0.4em;box-sizing: border-box;padding-bottom: 0.4em;background-color: white;}#sk-container-id-2 div.sk-label label {font-family: monospace;font-weight: bold;display: inline-block;line-height: 1.2em;}#sk-container-id-2 div.sk-label-container {text-align: center;}#sk-container-id-2 div.sk-container {/* jupyter's `normalize.less` sets `[hidden] { display: none; }` but bootstrap.min.css set `[hidden] { display: none !important; }` so we also need the `!important` here to be able to override the default hidden behavior on the sphinx rendered scikit-learn.org. See: https://github.com/scikit-learn/scikit-learn/issues/21755 */display: inline-block !important;position: relative;}#sk-container-id-2 div.sk-text-repr-fallback {display: none;}</style><div id=\"sk-container-id-2\" class=\"sk-top-container\"><div class=\"sk-text-repr-fallback\"><pre>VotingClassifier(estimators=[(&#x27;tree&#x27;, DecisionTreeClassifier()),\n",
       "                             (&#x27;rfc&#x27;, RandomForestClassifier()),\n",
       "                             (&#x27;adaboost&#x27;, AdaBoostClassifier())])</pre><b>In a Jupyter environment, please rerun this cell to show the HTML representation or trust the notebook. <br />On GitHub, the HTML representation is unable to render, please try loading this page with nbviewer.org.</b></div><div class=\"sk-container\" hidden><div class=\"sk-item sk-dashed-wrapped\"><div class=\"sk-label-container\"><div class=\"sk-label sk-toggleable\"><input class=\"sk-toggleable__control sk-hidden--visually\" id=\"sk-estimator-id-5\" type=\"checkbox\" ><label for=\"sk-estimator-id-5\" class=\"sk-toggleable__label sk-toggleable__label-arrow\">VotingClassifier</label><div class=\"sk-toggleable__content\"><pre>VotingClassifier(estimators=[(&#x27;tree&#x27;, DecisionTreeClassifier()),\n",
       "                             (&#x27;rfc&#x27;, RandomForestClassifier()),\n",
       "                             (&#x27;adaboost&#x27;, AdaBoostClassifier())])</pre></div></div></div><div class=\"sk-parallel\"><div class=\"sk-parallel-item\"><div class=\"sk-item\"><div class=\"sk-label-container\"><div class=\"sk-label sk-toggleable\"><label>tree</label></div></div><div class=\"sk-serial\"><div class=\"sk-item\"><div class=\"sk-estimator sk-toggleable\"><input class=\"sk-toggleable__control sk-hidden--visually\" id=\"sk-estimator-id-6\" type=\"checkbox\" ><label for=\"sk-estimator-id-6\" class=\"sk-toggleable__label sk-toggleable__label-arrow\">DecisionTreeClassifier</label><div class=\"sk-toggleable__content\"><pre>DecisionTreeClassifier()</pre></div></div></div></div></div></div><div class=\"sk-parallel-item\"><div class=\"sk-item\"><div class=\"sk-label-container\"><div class=\"sk-label sk-toggleable\"><label>rfc</label></div></div><div class=\"sk-serial\"><div class=\"sk-item\"><div class=\"sk-estimator sk-toggleable\"><input class=\"sk-toggleable__control sk-hidden--visually\" id=\"sk-estimator-id-7\" type=\"checkbox\" ><label for=\"sk-estimator-id-7\" class=\"sk-toggleable__label sk-toggleable__label-arrow\">RandomForestClassifier</label><div class=\"sk-toggleable__content\"><pre>RandomForestClassifier()</pre></div></div></div></div></div></div><div class=\"sk-parallel-item\"><div class=\"sk-item\"><div class=\"sk-label-container\"><div class=\"sk-label sk-toggleable\"><label>adaboost</label></div></div><div class=\"sk-serial\"><div class=\"sk-item\"><div class=\"sk-estimator sk-toggleable\"><input class=\"sk-toggleable__control sk-hidden--visually\" id=\"sk-estimator-id-8\" type=\"checkbox\" ><label for=\"sk-estimator-id-8\" class=\"sk-toggleable__label sk-toggleable__label-arrow\">AdaBoostClassifier</label><div class=\"sk-toggleable__content\"><pre>AdaBoostClassifier()</pre></div></div></div></div></div></div></div></div></div></div>"
      ],
      "text/plain": [
       "VotingClassifier(estimators=[('tree', DecisionTreeClassifier()),\n",
       "                             ('rfc', RandomForestClassifier()),\n",
       "                             ('adaboost', AdaBoostClassifier())])"
      ]
     },
     "execution_count": 171,
     "metadata": {},
     "output_type": "execute_result"
    }
   ],
   "source": [
    "#Creo clasificadores\n",
    "log_clf = tree.DecisionTreeClassifier()\n",
    "rfc_clf = RandomForestClassifier()\n",
    "adaboost_clf = AdaBoostClassifier()\n",
    "\n",
    "#Entreno clasificadores\n",
    "voting_clf = VotingClassifier(estimators=[('tree', log_clf), ('rfc', rfc_clf), ('adaboost', adaboost_clf)], voting='hard')\n",
    "\n",
    "#Entreno el ensemble\n",
    "voting_clf.fit(x_train, y_train)"
   ]
  },
  {
   "cell_type": "markdown",
   "metadata": {},
   "source": [
    "Vemos las metricas obtenidas"
   ]
  },
  {
   "cell_type": "code",
   "execution_count": null,
   "metadata": {},
   "outputs": [
    {
     "name": "stdout",
     "output_type": "stream",
     "text": [
      "   Accuracy: 0.768\n",
      "  Precision: 0.782\n",
      "     Recall: 0.748\n",
      "  f-measure: 0.761\n"
     ]
    }
   ],
   "source": [
    "#Evaluo en conjunto de test\n",
    "pred = voting_clf.predict(x_test)\n",
    "\n",
    "print(\"   Accuracy: %.3f\" % accuracy_score(y_test, pred))\n",
    "print(\"  Precision: %.3f\" % precision_score(y_test, pred, average='macro'))\n",
    "print(\"     Recall: %.3f\" % recall_score(y_test, pred, average='macro'))\n",
    "print(\"  f-measure: %.3f\" % f1_score(y_test, pred, average='macro'))"
   ]
  },
  {
   "cell_type": "markdown",
   "metadata": {},
   "source": [
    "## Ensamble 2: Stacking"
   ]
  },
  {
   "cell_type": "code",
   "execution_count": 48,
   "metadata": {},
   "outputs": [],
   "source": [
    "ds_propiedades_ensamble = ds_propiedades.copy()"
   ]
  },
  {
   "cell_type": "code",
   "execution_count": 49,
   "metadata": {},
   "outputs": [],
   "source": [
    "from sklearn.neighbors import KNeighborsRegressor\n",
    "from xgboost import XGBRegressor\n",
    "from sklearn.ensemble import GradientBoostingRegressor\n",
    "from collections import defaultdict\n",
    "from sklearn.model_selection import RepeatedStratifiedKFold\n",
    "from sklearn.model_selection import cross_val_score\n",
    "from sklearn.linear_model import LogisticRegressionCV\n",
    "# import linear regress\n",
    "from sklearn.linear_model import LinearRegression"
   ]
  },
  {
   "cell_type": "code",
   "execution_count": 50,
   "metadata": {},
   "outputs": [],
   "source": [
    "ds_propiedades_ensamble = pd.get_dummies(ds_propiedades_ensamble, columns=[\"place_l3\", \"property_type\"], dtype=np.int8)\n",
    "ds_propiedades_ensamble.drop(['property_title', 'id', 'property_description'], axis=1, inplace=True)\n",
    "\n",
    "ds_propiedades_ensamble.tipo_precio.replace({'bajo':0,'medio':1,'alto':2}, inplace=True)\n",
    "ds_propiedades_ensamble.expensas_tipo.replace({'sin': -2, 'no aplica':-1,'bajas':0,'medias':1,'altas':2}, inplace=True)\n",
    "\n",
    "ds_propiedades_ensamble.drop(['tipo_precio','pxm2'], axis=1, inplace=True)"
   ]
  },
  {
   "cell_type": "code",
   "execution_count": 51,
   "metadata": {},
   "outputs": [],
   "source": [
    "#Armo conjunto entrenamiento y test 80-20\n",
    "columnas_predictoras = ds_propiedades_ensamble.columns.to_list()\n",
    "columnas_predictoras.remove('property_price')\n",
    "\n",
    "ds_propiedades_ensamble.astype('float32', copy=False)\n",
    "\n",
    "x_train, x_test, y_train, y_test = train_test_split(ds_propiedades_ensamble.loc[:,columnas_predictoras], ds_propiedades_ensamble.loc[:,'property_price'], random_state = 42, train_size = 0.80)"
   ]
  },
  {
   "cell_type": "code",
   "execution_count": 52,
   "metadata": {},
   "outputs": [],
   "source": [
    "#Funcion para evaluar los modelos 5fold -CV (repite 2 veces)\n",
    "def evaluate_model(model, x, y):\n",
    "    cv = RepeatedStratifiedKFold(n_splits=5, n_repeats=2, random_state=1)\n",
    "    scores = cross_val_score(model, x, y, cv=cv, verbose=1, n_jobs=3, error_score='raise')\n",
    "    return scores"
   ]
  },
  {
   "cell_type": "code",
   "execution_count": 65,
   "metadata": {},
   "outputs": [],
   "source": [
    "import plotly.graph_objects as go\n",
    "#Funcion para plotear a performance\n",
    "def plot_results(model_scores, name):\n",
    "    \n",
    "    model_names = list(model_scores.keys())\n",
    "    results = [model_scores[model] for model in model_names]\n",
    "    fig = go.Figure()\n",
    "    for model, result in zip(model_names, results):\n",
    "        fig.add_trace(go.Box(\n",
    "            y=result,\n",
    "            name=model,\n",
    "            boxpoints='all',\n",
    "            jitter=0.5,\n",
    "            whiskerwidth=0.2,\n",
    "            marker_size=2,\n",
    "            line_width=1)\n",
    "        )\n",
    "    \n",
    "    fig.update_layout(\n",
    "    title='Performance of Different Models Using 5-Fold Cross-Validation',\n",
    "    paper_bgcolor='rgb(243, 243, 243)',\n",
    "    plot_bgcolor='rgb(243, 243, 243)',\n",
    "    xaxis_title='Model',\n",
    "    yaxis_title='R²',\n",
    "    showlegend=False)\n",
    "    fig.show()"
   ]
  },
  {
   "cell_type": "code",
   "execution_count": 54,
   "metadata": {},
   "outputs": [
    {
     "name": "stdout",
     "output_type": "stream",
     "text": [
      "Evaluating xgr\n"
     ]
    },
    {
     "name": "stderr",
     "output_type": "stream",
     "text": [
      "[Parallel(n_jobs=3)]: Using backend LokyBackend with 3 concurrent workers.\n",
      "d:\\Programas\\Python\\lib\\site-packages\\sklearn\\model_selection\\_split.py:684: UserWarning: The least populated class in y has only 1 members, which is less than n_splits=5.\n",
      "  warnings.warn(\n",
      "d:\\Programas\\Python\\lib\\site-packages\\sklearn\\model_selection\\_split.py:684: UserWarning: The least populated class in y has only 1 members, which is less than n_splits=5.\n",
      "  warnings.warn(\n",
      "[Parallel(n_jobs=3)]: Done  10 out of  10 | elapsed:   19.3s finished\n",
      "[Parallel(n_jobs=3)]: Using backend LokyBackend with 3 concurrent workers.\n",
      "d:\\Programas\\Python\\lib\\site-packages\\sklearn\\model_selection\\_split.py:684: UserWarning: The least populated class in y has only 1 members, which is less than n_splits=5.\n",
      "  warnings.warn(\n"
     ]
    },
    {
     "name": "stdout",
     "output_type": "stream",
     "text": [
      "Evaluating knr\n"
     ]
    },
    {
     "name": "stderr",
     "output_type": "stream",
     "text": [
      "d:\\Programas\\Python\\lib\\site-packages\\sklearn\\model_selection\\_split.py:684: UserWarning: The least populated class in y has only 1 members, which is less than n_splits=5.\n",
      "  warnings.warn(\n",
      "[Parallel(n_jobs=3)]: Done  10 out of  10 | elapsed:    7.6s finished\n",
      "[Parallel(n_jobs=3)]: Using backend LokyBackend with 3 concurrent workers.\n",
      "d:\\Programas\\Python\\lib\\site-packages\\sklearn\\model_selection\\_split.py:684: UserWarning: The least populated class in y has only 1 members, which is less than n_splits=5.\n",
      "  warnings.warn(\n"
     ]
    },
    {
     "name": "stdout",
     "output_type": "stream",
     "text": [
      "Evaluating gbr\n"
     ]
    },
    {
     "name": "stderr",
     "output_type": "stream",
     "text": [
      "d:\\Programas\\Python\\lib\\site-packages\\sklearn\\model_selection\\_split.py:684: UserWarning: The least populated class in y has only 1 members, which is less than n_splits=5.\n",
      "  warnings.warn(\n",
      "[Parallel(n_jobs=3)]: Done  10 out of  10 | elapsed:   37.6s finished\n"
     ]
    }
   ],
   "source": [
    "#Modelos Base\n",
    "\n",
    "#modelos base ensamble stacking con xgboost, knn y gradiente boost\n",
    "xgboost = XGBRegressor()\n",
    "knn = KNeighborsRegressor()\n",
    "gradiente_boost = GradientBoostingRegressor()\n",
    "\n",
    "#Modelo Stacking\n",
    "base_models = {'xgr':XGBRegressor(),\n",
    "               'knr': KNeighborsRegressor(),\n",
    "               'gbr': GradientBoostingRegressor()}\n",
    "\n",
    "\n",
    "#Guarda los scores de cada modelo\n",
    "model_scores = defaultdict()\n",
    "\n",
    "#Entreno los clasificadores\n",
    "for name, model in base_models.items():\n",
    "    print('Evaluating {}'.format(name))\n",
    "    scores = evaluate_model(model, x_train, y_train)\n",
    "    model_scores[name] = scores"
   ]
  },
  {
   "cell_type": "code",
   "execution_count": 55,
   "metadata": {},
   "outputs": [],
   "source": [
    "from sklearn.ensemble import StackingRegressor\n",
    "#import random forest regr\n",
    "from sklearn.ensemble import RandomForestRegressor\n",
    "xgboost = XGBRegressor()\n",
    "knn = KNeighborsRegressor()\n",
    "gradiente_boost = GradientBoostingRegressor()\n",
    "\n",
    "base_models = {'xgr':XGBRegressor(),\n",
    "               'knr': KNeighborsRegressor(),\n",
    "               'gbr': GradientBoostingRegressor()}\n",
    "\n",
    "#import lasso\n",
    "from sklearn.linear_model import Lasso\n",
    "\n",
    "#Meta Modelo\n",
    "meta_model = Lasso()\n",
    "\n",
    "#Ensemble StackingESTO NO LO ESTAMOS USANDO ASI, ESTA HECHO ABAJO\n",
    "stacking_model = StackingRegressor(estimators=base_models, \n",
    "                                    final_estimator=meta_model, \n",
    "                                    passthrough=True, \n",
    "                                    cv=5,\n",
    "                                    verbose=2)\n",
    "\n",
    "\n",
    "# get estimators for stacking regressor\n"
   ]
  },
  {
   "cell_type": "code",
   "execution_count": 68,
   "metadata": {},
   "outputs": [],
   "source": [
    "estimators = [('xgr',XGBRegressor()),('knr', KNeighborsRegressor()),('gbr', GradientBoostingRegressor())]\n",
    "\n",
    "reg = StackingRegressor(\n",
    "     estimators=estimators,\n",
    "     final_estimator=Lasso(random_state=42), passthrough=True, cv=5, verbose=2,) ##REVISAR ESTAS UL)"
   ]
  },
  {
   "cell_type": "code",
   "execution_count": 69,
   "metadata": {},
   "outputs": [
    {
     "name": "stderr",
     "output_type": "stream",
     "text": [
      "[Parallel(n_jobs=3)]: Using backend LokyBackend with 3 concurrent workers.\n",
      "d:\\Programas\\Python\\lib\\site-packages\\sklearn\\model_selection\\_split.py:684: UserWarning:\n",
      "\n",
      "The least populated class in y has only 1 members, which is less than n_splits=5.\n",
      "\n",
      "d:\\Programas\\Python\\lib\\site-packages\\sklearn\\model_selection\\_split.py:684: UserWarning:\n",
      "\n",
      "The least populated class in y has only 1 members, which is less than n_splits=5.\n",
      "\n",
      "[Parallel(n_jobs=3)]: Done  10 out of  10 | elapsed:  5.3min finished\n"
     ]
    },
    {
     "data": {
      "text/plain": [
       "array([0.87970278, 0.88973774, 0.89078067, 0.88425437, 0.88674635,\n",
       "       0.8869087 , 0.88923623, 0.89024472, 0.88230299, 0.88539683])"
      ]
     },
     "execution_count": 69,
     "metadata": {},
     "output_type": "execute_result"
    }
   ],
   "source": [
    "#Performance el modelo en entrenamiento\n",
    "stacking_scores = evaluate_model(reg, x_train, y_train)\n",
    "#Agregamos stacking para poder graficar luego\n",
    "model_scores['stacking'] = stacking_scores "
   ]
  },
  {
   "cell_type": "code",
   "execution_count": 74,
   "metadata": {},
   "outputs": [
    {
     "name": "stderr",
     "output_type": "stream",
     "text": [
      "[Parallel(n_jobs=1)]: Using backend SequentialBackend with 1 concurrent workers.\n",
      "[Parallel(n_jobs=1)]: Done   1 out of   1 | elapsed:    1.8s remaining:    0.0s\n",
      "[Parallel(n_jobs=1)]: Done   5 out of   5 | elapsed:    9.2s finished\n",
      "[Parallel(n_jobs=1)]: Using backend SequentialBackend with 1 concurrent workers.\n",
      "[Parallel(n_jobs=1)]: Done   1 out of   1 | elapsed:    0.6s remaining:    0.0s\n",
      "[Parallel(n_jobs=1)]: Done   5 out of   5 | elapsed:    3.7s finished\n",
      "[Parallel(n_jobs=1)]: Using backend SequentialBackend with 1 concurrent workers.\n",
      "[Parallel(n_jobs=1)]: Done   1 out of   1 | elapsed:    8.6s remaining:    0.0s\n",
      "[Parallel(n_jobs=1)]: Done   5 out of   5 | elapsed:   42.8s finished\n"
     ]
    }
   ],
   "source": [
    "reg.fit(x_train,y_train)\n",
    "y_pred_st = reg.predict(x_test)"
   ]
  },
  {
   "cell_type": "code",
   "execution_count": 75,
   "metadata": {},
   "outputs": [
    {
     "name": "stdout",
     "output_type": "stream",
     "text": [
      "El error (mse) de test es: 1439374010.7475553\n",
      "El error (rmse) de test es: 37939.08289281062\n"
     ]
    }
   ],
   "source": [
    "mse = metrics.mean_squared_error(\n",
    "        y_true  = y_test,\n",
    "        y_pred  = y_pred_st,\n",
    "        squared = True\n",
    "         )\n",
    "\n",
    "print(f\"El error (mse) de test es: {mse}\")\n",
    "\n",
    "\n",
    "\n",
    "rmse = metrics.mean_squared_error(\n",
    "        y_true  = y_test,\n",
    "        y_pred  = y_pred_st,\n",
    "        squared = False\n",
    "         )\n",
    "\n",
    "print(f\"El error (rmse) de test es: {rmse}\")"
   ]
  },
  {
   "cell_type": "code",
   "execution_count": 76,
   "metadata": {},
   "outputs": [
    {
     "name": "stdout",
     "output_type": "stream",
     "text": [
      "El r2 score de test es: 0.8942260920826033\n"
     ]
    }
   ],
   "source": [
    "# show r2 score\n",
    "r2 = metrics.r2_score(\n",
    "        y_true  = y_test,\n",
    "        y_pred  = y_pred_st\n",
    "        )\n",
    "\n",
    "print(f\"El r2 score de test es: {r2}\")"
   ]
  },
  {
   "cell_type": "code",
   "execution_count": 78,
   "metadata": {},
   "outputs": [
    {
     "data": {
      "application/vnd.plotly.v1+json": {
       "config": {
        "plotlyServerURL": "https://plot.ly"
       },
       "data": [
        {
         "boxpoints": "all",
         "jitter": 0.5,
         "line": {
          "width": 1
         },
         "marker": {
          "size": 2
         },
         "name": "xgr",
         "type": "box",
         "whiskerwidth": 0.2,
         "y": [
          0.8770803260081385,
          0.8881273504292838,
          0.8888894812312365,
          0.8821433105167935,
          0.8850315438137537,
          0.8847935769059615,
          0.8878112780698404,
          0.8880467198914055,
          0.8798738653855376,
          0.8830523737663842
         ]
        },
        {
         "boxpoints": "all",
         "jitter": 0.5,
         "line": {
          "width": 1
         },
         "marker": {
          "size": 2
         },
         "name": "knr",
         "type": "box",
         "whiskerwidth": 0.2,
         "y": [
          0.7747424859059124,
          0.7559367116643358,
          0.7706201701261987,
          0.7669881833641788,
          0.7695405721128203,
          0.7772033960310158,
          0.7673106239122407,
          0.7657270364574357,
          0.7689298677238353,
          0.7644573914485956
         ]
        },
        {
         "boxpoints": "all",
         "jitter": 0.5,
         "line": {
          "width": 1
         },
         "marker": {
          "size": 2
         },
         "name": "gbr",
         "type": "box",
         "whiskerwidth": 0.2,
         "y": [
          0.8385649747020049,
          0.8478289275893198,
          0.8540018103563973,
          0.8475385073977426,
          0.8463601535249576,
          0.8480489526165175,
          0.8516528748823222,
          0.848181852327494,
          0.8440761971709003,
          0.8426324275917092
         ]
        },
        {
         "boxpoints": "all",
         "jitter": 0.5,
         "line": {
          "width": 1
         },
         "marker": {
          "size": 2
         },
         "name": "stacking",
         "type": "box",
         "whiskerwidth": 0.2,
         "y": [
          0.8797027805014358,
          0.8897377406349987,
          0.8907806737386705,
          0.8842543675938016,
          0.8867463525881758,
          0.8869086962558628,
          0.8892362324468841,
          0.8902447203060617,
          0.8823029855636072,
          0.8853968295978878
         ]
        }
       ],
       "layout": {
        "paper_bgcolor": "rgb(243, 243, 243)",
        "plot_bgcolor": "rgb(243, 243, 243)",
        "showlegend": false,
        "template": {
         "data": {
          "bar": [
           {
            "error_x": {
             "color": "#2a3f5f"
            },
            "error_y": {
             "color": "#2a3f5f"
            },
            "marker": {
             "line": {
              "color": "#E5ECF6",
              "width": 0.5
             },
             "pattern": {
              "fillmode": "overlay",
              "size": 10,
              "solidity": 0.2
             }
            },
            "type": "bar"
           }
          ],
          "barpolar": [
           {
            "marker": {
             "line": {
              "color": "#E5ECF6",
              "width": 0.5
             },
             "pattern": {
              "fillmode": "overlay",
              "size": 10,
              "solidity": 0.2
             }
            },
            "type": "barpolar"
           }
          ],
          "carpet": [
           {
            "aaxis": {
             "endlinecolor": "#2a3f5f",
             "gridcolor": "white",
             "linecolor": "white",
             "minorgridcolor": "white",
             "startlinecolor": "#2a3f5f"
            },
            "baxis": {
             "endlinecolor": "#2a3f5f",
             "gridcolor": "white",
             "linecolor": "white",
             "minorgridcolor": "white",
             "startlinecolor": "#2a3f5f"
            },
            "type": "carpet"
           }
          ],
          "choropleth": [
           {
            "colorbar": {
             "outlinewidth": 0,
             "ticks": ""
            },
            "type": "choropleth"
           }
          ],
          "contour": [
           {
            "colorbar": {
             "outlinewidth": 0,
             "ticks": ""
            },
            "colorscale": [
             [
              0,
              "#0d0887"
             ],
             [
              0.1111111111111111,
              "#46039f"
             ],
             [
              0.2222222222222222,
              "#7201a8"
             ],
             [
              0.3333333333333333,
              "#9c179e"
             ],
             [
              0.4444444444444444,
              "#bd3786"
             ],
             [
              0.5555555555555556,
              "#d8576b"
             ],
             [
              0.6666666666666666,
              "#ed7953"
             ],
             [
              0.7777777777777778,
              "#fb9f3a"
             ],
             [
              0.8888888888888888,
              "#fdca26"
             ],
             [
              1,
              "#f0f921"
             ]
            ],
            "type": "contour"
           }
          ],
          "contourcarpet": [
           {
            "colorbar": {
             "outlinewidth": 0,
             "ticks": ""
            },
            "type": "contourcarpet"
           }
          ],
          "heatmap": [
           {
            "colorbar": {
             "outlinewidth": 0,
             "ticks": ""
            },
            "colorscale": [
             [
              0,
              "#0d0887"
             ],
             [
              0.1111111111111111,
              "#46039f"
             ],
             [
              0.2222222222222222,
              "#7201a8"
             ],
             [
              0.3333333333333333,
              "#9c179e"
             ],
             [
              0.4444444444444444,
              "#bd3786"
             ],
             [
              0.5555555555555556,
              "#d8576b"
             ],
             [
              0.6666666666666666,
              "#ed7953"
             ],
             [
              0.7777777777777778,
              "#fb9f3a"
             ],
             [
              0.8888888888888888,
              "#fdca26"
             ],
             [
              1,
              "#f0f921"
             ]
            ],
            "type": "heatmap"
           }
          ],
          "heatmapgl": [
           {
            "colorbar": {
             "outlinewidth": 0,
             "ticks": ""
            },
            "colorscale": [
             [
              0,
              "#0d0887"
             ],
             [
              0.1111111111111111,
              "#46039f"
             ],
             [
              0.2222222222222222,
              "#7201a8"
             ],
             [
              0.3333333333333333,
              "#9c179e"
             ],
             [
              0.4444444444444444,
              "#bd3786"
             ],
             [
              0.5555555555555556,
              "#d8576b"
             ],
             [
              0.6666666666666666,
              "#ed7953"
             ],
             [
              0.7777777777777778,
              "#fb9f3a"
             ],
             [
              0.8888888888888888,
              "#fdca26"
             ],
             [
              1,
              "#f0f921"
             ]
            ],
            "type": "heatmapgl"
           }
          ],
          "histogram": [
           {
            "marker": {
             "pattern": {
              "fillmode": "overlay",
              "size": 10,
              "solidity": 0.2
             }
            },
            "type": "histogram"
           }
          ],
          "histogram2d": [
           {
            "colorbar": {
             "outlinewidth": 0,
             "ticks": ""
            },
            "colorscale": [
             [
              0,
              "#0d0887"
             ],
             [
              0.1111111111111111,
              "#46039f"
             ],
             [
              0.2222222222222222,
              "#7201a8"
             ],
             [
              0.3333333333333333,
              "#9c179e"
             ],
             [
              0.4444444444444444,
              "#bd3786"
             ],
             [
              0.5555555555555556,
              "#d8576b"
             ],
             [
              0.6666666666666666,
              "#ed7953"
             ],
             [
              0.7777777777777778,
              "#fb9f3a"
             ],
             [
              0.8888888888888888,
              "#fdca26"
             ],
             [
              1,
              "#f0f921"
             ]
            ],
            "type": "histogram2d"
           }
          ],
          "histogram2dcontour": [
           {
            "colorbar": {
             "outlinewidth": 0,
             "ticks": ""
            },
            "colorscale": [
             [
              0,
              "#0d0887"
             ],
             [
              0.1111111111111111,
              "#46039f"
             ],
             [
              0.2222222222222222,
              "#7201a8"
             ],
             [
              0.3333333333333333,
              "#9c179e"
             ],
             [
              0.4444444444444444,
              "#bd3786"
             ],
             [
              0.5555555555555556,
              "#d8576b"
             ],
             [
              0.6666666666666666,
              "#ed7953"
             ],
             [
              0.7777777777777778,
              "#fb9f3a"
             ],
             [
              0.8888888888888888,
              "#fdca26"
             ],
             [
              1,
              "#f0f921"
             ]
            ],
            "type": "histogram2dcontour"
           }
          ],
          "mesh3d": [
           {
            "colorbar": {
             "outlinewidth": 0,
             "ticks": ""
            },
            "type": "mesh3d"
           }
          ],
          "parcoords": [
           {
            "line": {
             "colorbar": {
              "outlinewidth": 0,
              "ticks": ""
             }
            },
            "type": "parcoords"
           }
          ],
          "pie": [
           {
            "automargin": true,
            "type": "pie"
           }
          ],
          "scatter": [
           {
            "fillpattern": {
             "fillmode": "overlay",
             "size": 10,
             "solidity": 0.2
            },
            "type": "scatter"
           }
          ],
          "scatter3d": [
           {
            "line": {
             "colorbar": {
              "outlinewidth": 0,
              "ticks": ""
             }
            },
            "marker": {
             "colorbar": {
              "outlinewidth": 0,
              "ticks": ""
             }
            },
            "type": "scatter3d"
           }
          ],
          "scattercarpet": [
           {
            "marker": {
             "colorbar": {
              "outlinewidth": 0,
              "ticks": ""
             }
            },
            "type": "scattercarpet"
           }
          ],
          "scattergeo": [
           {
            "marker": {
             "colorbar": {
              "outlinewidth": 0,
              "ticks": ""
             }
            },
            "type": "scattergeo"
           }
          ],
          "scattergl": [
           {
            "marker": {
             "colorbar": {
              "outlinewidth": 0,
              "ticks": ""
             }
            },
            "type": "scattergl"
           }
          ],
          "scattermapbox": [
           {
            "marker": {
             "colorbar": {
              "outlinewidth": 0,
              "ticks": ""
             }
            },
            "type": "scattermapbox"
           }
          ],
          "scatterpolar": [
           {
            "marker": {
             "colorbar": {
              "outlinewidth": 0,
              "ticks": ""
             }
            },
            "type": "scatterpolar"
           }
          ],
          "scatterpolargl": [
           {
            "marker": {
             "colorbar": {
              "outlinewidth": 0,
              "ticks": ""
             }
            },
            "type": "scatterpolargl"
           }
          ],
          "scatterternary": [
           {
            "marker": {
             "colorbar": {
              "outlinewidth": 0,
              "ticks": ""
             }
            },
            "type": "scatterternary"
           }
          ],
          "surface": [
           {
            "colorbar": {
             "outlinewidth": 0,
             "ticks": ""
            },
            "colorscale": [
             [
              0,
              "#0d0887"
             ],
             [
              0.1111111111111111,
              "#46039f"
             ],
             [
              0.2222222222222222,
              "#7201a8"
             ],
             [
              0.3333333333333333,
              "#9c179e"
             ],
             [
              0.4444444444444444,
              "#bd3786"
             ],
             [
              0.5555555555555556,
              "#d8576b"
             ],
             [
              0.6666666666666666,
              "#ed7953"
             ],
             [
              0.7777777777777778,
              "#fb9f3a"
             ],
             [
              0.8888888888888888,
              "#fdca26"
             ],
             [
              1,
              "#f0f921"
             ]
            ],
            "type": "surface"
           }
          ],
          "table": [
           {
            "cells": {
             "fill": {
              "color": "#EBF0F8"
             },
             "line": {
              "color": "white"
             }
            },
            "header": {
             "fill": {
              "color": "#C8D4E3"
             },
             "line": {
              "color": "white"
             }
            },
            "type": "table"
           }
          ]
         },
         "layout": {
          "annotationdefaults": {
           "arrowcolor": "#2a3f5f",
           "arrowhead": 0,
           "arrowwidth": 1
          },
          "autotypenumbers": "strict",
          "coloraxis": {
           "colorbar": {
            "outlinewidth": 0,
            "ticks": ""
           }
          },
          "colorscale": {
           "diverging": [
            [
             0,
             "#8e0152"
            ],
            [
             0.1,
             "#c51b7d"
            ],
            [
             0.2,
             "#de77ae"
            ],
            [
             0.3,
             "#f1b6da"
            ],
            [
             0.4,
             "#fde0ef"
            ],
            [
             0.5,
             "#f7f7f7"
            ],
            [
             0.6,
             "#e6f5d0"
            ],
            [
             0.7,
             "#b8e186"
            ],
            [
             0.8,
             "#7fbc41"
            ],
            [
             0.9,
             "#4d9221"
            ],
            [
             1,
             "#276419"
            ]
           ],
           "sequential": [
            [
             0,
             "#0d0887"
            ],
            [
             0.1111111111111111,
             "#46039f"
            ],
            [
             0.2222222222222222,
             "#7201a8"
            ],
            [
             0.3333333333333333,
             "#9c179e"
            ],
            [
             0.4444444444444444,
             "#bd3786"
            ],
            [
             0.5555555555555556,
             "#d8576b"
            ],
            [
             0.6666666666666666,
             "#ed7953"
            ],
            [
             0.7777777777777778,
             "#fb9f3a"
            ],
            [
             0.8888888888888888,
             "#fdca26"
            ],
            [
             1,
             "#f0f921"
            ]
           ],
           "sequentialminus": [
            [
             0,
             "#0d0887"
            ],
            [
             0.1111111111111111,
             "#46039f"
            ],
            [
             0.2222222222222222,
             "#7201a8"
            ],
            [
             0.3333333333333333,
             "#9c179e"
            ],
            [
             0.4444444444444444,
             "#bd3786"
            ],
            [
             0.5555555555555556,
             "#d8576b"
            ],
            [
             0.6666666666666666,
             "#ed7953"
            ],
            [
             0.7777777777777778,
             "#fb9f3a"
            ],
            [
             0.8888888888888888,
             "#fdca26"
            ],
            [
             1,
             "#f0f921"
            ]
           ]
          },
          "colorway": [
           "#636efa",
           "#EF553B",
           "#00cc96",
           "#ab63fa",
           "#FFA15A",
           "#19d3f3",
           "#FF6692",
           "#B6E880",
           "#FF97FF",
           "#FECB52"
          ],
          "font": {
           "color": "#2a3f5f"
          },
          "geo": {
           "bgcolor": "white",
           "lakecolor": "white",
           "landcolor": "#E5ECF6",
           "showlakes": true,
           "showland": true,
           "subunitcolor": "white"
          },
          "hoverlabel": {
           "align": "left"
          },
          "hovermode": "closest",
          "mapbox": {
           "style": "light"
          },
          "paper_bgcolor": "white",
          "plot_bgcolor": "#E5ECF6",
          "polar": {
           "angularaxis": {
            "gridcolor": "white",
            "linecolor": "white",
            "ticks": ""
           },
           "bgcolor": "#E5ECF6",
           "radialaxis": {
            "gridcolor": "white",
            "linecolor": "white",
            "ticks": ""
           }
          },
          "scene": {
           "xaxis": {
            "backgroundcolor": "#E5ECF6",
            "gridcolor": "white",
            "gridwidth": 2,
            "linecolor": "white",
            "showbackground": true,
            "ticks": "",
            "zerolinecolor": "white"
           },
           "yaxis": {
            "backgroundcolor": "#E5ECF6",
            "gridcolor": "white",
            "gridwidth": 2,
            "linecolor": "white",
            "showbackground": true,
            "ticks": "",
            "zerolinecolor": "white"
           },
           "zaxis": {
            "backgroundcolor": "#E5ECF6",
            "gridcolor": "white",
            "gridwidth": 2,
            "linecolor": "white",
            "showbackground": true,
            "ticks": "",
            "zerolinecolor": "white"
           }
          },
          "shapedefaults": {
           "line": {
            "color": "#2a3f5f"
           }
          },
          "ternary": {
           "aaxis": {
            "gridcolor": "white",
            "linecolor": "white",
            "ticks": ""
           },
           "baxis": {
            "gridcolor": "white",
            "linecolor": "white",
            "ticks": ""
           },
           "bgcolor": "#E5ECF6",
           "caxis": {
            "gridcolor": "white",
            "linecolor": "white",
            "ticks": ""
           }
          },
          "title": {
           "x": 0.05
          },
          "xaxis": {
           "automargin": true,
           "gridcolor": "white",
           "linecolor": "white",
           "ticks": "",
           "title": {
            "standoff": 15
           },
           "zerolinecolor": "white",
           "zerolinewidth": 2
          },
          "yaxis": {
           "automargin": true,
           "gridcolor": "white",
           "linecolor": "white",
           "ticks": "",
           "title": {
            "standoff": 15
           },
           "zerolinecolor": "white",
           "zerolinewidth": 2
          }
         }
        },
        "title": {
         "text": "Performance of Different Models Using 5-Fold Cross-Validation"
        },
        "xaxis": {
         "title": {
          "text": "Model"
         }
        },
        "yaxis": {
         "title": {
          "text": "R²"
         }
        }
       }
      }
     },
     "metadata": {},
     "output_type": "display_data"
    }
   ],
   "source": [
    "#Grafico performance\n",
    "plot_results(model_scores, name='stacking_model_cv')"
   ]
  },
  {
   "cell_type": "markdown",
   "metadata": {},
   "source": [
    "# <center> Conclusión <center/> "
   ]
  },
  {
   "cell_type": "markdown",
   "metadata": {},
   "source": [
    "## Parte 1: Procesamiento de Lenguaje Natural"
   ]
  },
  {
   "cell_type": "markdown",
   "metadata": {},
   "source": [
    "De la parte 1 podemos ver como muchas características se mencionan en una gran cantidad de descripciones de propiedades. Al notar esto buscamos abstraer esta información y luego, junto a nuestro dominio del problema, evaluamos cuáles aspectos eran los más influyentes y representativos del precio de la propiedad (Por ejemplo tener piscina es un gran valor agregado en casas contra las que no las tienen), tambien tuvimos en cuenta que alguna de las características aparecían con una frecuencia inferior a lo esperado por lo asumimos que no se mencionaban en todos los casos, o fue imposible conseguir abstraerlas correctamente , como es el caso del jardín. Una vez definidos nuestras columnas valiosas, las agregamos al dataset. Después al entrenar XGBoost con este nuevo dataset, vemos que las métricas mejoran considerablemente, ya que, como habíamos predicho, estas características son muy importantes a la hora de decidir el precio de una propiedad."
   ]
  },
  {
   "cell_type": "markdown",
   "metadata": {},
   "source": [
    "## Parte 2: Redes Neuronales"
   ]
  },
  {
   "cell_type": "markdown",
   "metadata": {},
   "source": [
    "Parte 2: Vemos que las métricas no son exageradamente buenas ni en clasificación ni en regresión. Esto se puede deber a que las Redes Neuronales son modelos muy primitivos que necesitan un caudal muy grande de datos para poder predecir bien\n"
   ]
  },
  {
   "cell_type": "markdown",
   "metadata": {},
   "source": [
    "## Parte 3: Ensambles de Modelos"
   ]
  },
  {
   "cell_type": "markdown",
   "metadata": {},
   "source": [
    "En resumen, el modelo de ensamble ha mostrado resultados superiores a los modelos de regresión lineal, árboles de decisión, random forest, KNN, XGBoost y gradient boosting. En comparación con el modelo de stacking, el modelo de ensamble ha demostrado un rendimiento ligeramente superior.\n",
    "\n",
    "Esto sugiere que el uso del modelo de ensamble puede ser una buena estrategia para mejorar el rendimiento de un modelo de machine learning en comparación con los modelos individuales que lo componen. Sin embargo, es importante recordar que el rendimiento de un modelo de ensamble depende de la calidad de los modelos individuales que lo componen y de la manera en que se combinan sus predicciones. Por lo tanto, es crucial elegir y ajustar adecuadamente los modelos individuales y la forma en que se combinan sus predicciones para obtener el mejor rendimiento posible del modelo de ensamble.\n"
   ]
  }
 ],
 "metadata": {
  "kernelspec": {
   "display_name": "Python 3.10.6 64-bit",
   "language": "python",
   "name": "python3"
  },
  "language_info": {
   "codemirror_mode": {
    "name": "ipython",
    "version": 3
   },
   "file_extension": ".py",
   "mimetype": "text/x-python",
   "name": "python",
   "nbconvert_exporter": "python",
   "pygments_lexer": "ipython3",
   "version": "3.10.6"
  },
  "orig_nbformat": 4,
  "vscode": {
   "interpreter": {
    "hash": "e788497cb3569157be8e656aed1f4beb46e0ad7c9c943d25fb630c9e375e334a"
   }
  }
 },
 "nbformat": 4,
 "nbformat_minor": 2
}
