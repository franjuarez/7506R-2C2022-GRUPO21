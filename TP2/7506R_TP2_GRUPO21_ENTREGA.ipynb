{
 "cells": [
  {
   "cell_type": "markdown",
   "metadata": {},
   "source": [
    "# <center>Organizaci&oacute;n de Datos</center>\n",
    "## <center>Trabajo Práctico 2 </center>\n",
    "\n",
    "## <center>Grupo 21</center>\n",
    "\n",
    "#### Integrantes: Francisco Juárez, Lucas Aldazabal, Valentin Schneider, Gonzalo Rizzo Ehrenbock"
   ]
  },
  {
   "cell_type": "markdown",
   "metadata": {},
   "source": [
    "# <center> Procesamiento del Lenguaje Natural <center/> "
   ]
  },
  {
   "cell_type": "code",
   "execution_count": 157,
   "metadata": {},
   "outputs": [],
   "source": [
    "import pandas as pd\n",
    "import numpy as np\n",
    "import matplotlib.pyplot as plt\n",
    "import seaborn as sns\n",
    "import warnings\n",
    "warnings.simplefilter(action='ignore', category=FutureWarning)\n",
    "\n",
    "sns.set_theme(style=\"whitegrid\")"
   ]
  },
  {
   "cell_type": "code",
   "execution_count": 158,
   "metadata": {},
   "outputs": [
    {
     "data": {
      "text/html": [
       "<div>\n",
       "<style scoped>\n",
       "    .dataframe tbody tr th:only-of-type {\n",
       "        vertical-align: middle;\n",
       "    }\n",
       "\n",
       "    .dataframe tbody tr th {\n",
       "        vertical-align: top;\n",
       "    }\n",
       "\n",
       "    .dataframe thead th {\n",
       "        text-align: right;\n",
       "    }\n",
       "</style>\n",
       "<table border=\"1\" class=\"dataframe\">\n",
       "  <thead>\n",
       "    <tr style=\"text-align: right;\">\n",
       "      <th></th>\n",
       "      <th>id</th>\n",
       "      <th>latitud</th>\n",
       "      <th>longitud</th>\n",
       "      <th>place_l3</th>\n",
       "      <th>property_type</th>\n",
       "      <th>property_rooms</th>\n",
       "      <th>property_bedrooms</th>\n",
       "      <th>property_surface_total</th>\n",
       "      <th>property_surface_covered</th>\n",
       "      <th>property_price</th>\n",
       "      <th>property_title</th>\n",
       "      <th>pxm2</th>\n",
       "      <th>tipo_precio</th>\n",
       "    </tr>\n",
       "  </thead>\n",
       "  <tbody>\n",
       "    <tr>\n",
       "      <th>0</th>\n",
       "      <td>F5IvmD1uzzdIR7b96ozt4g==</td>\n",
       "      <td>-34.558855</td>\n",
       "      <td>-58.452458</td>\n",
       "      <td>Nuñez</td>\n",
       "      <td>Departamento</td>\n",
       "      <td>4.0</td>\n",
       "      <td>3.0</td>\n",
       "      <td>160.0</td>\n",
       "      <td>146.0</td>\n",
       "      <td>460000.0</td>\n",
       "      <td>Venta: Hermoso piso de categoría en excelente ...</td>\n",
       "      <td>2875.000000</td>\n",
       "      <td>alto</td>\n",
       "    </tr>\n",
       "    <tr>\n",
       "      <th>1</th>\n",
       "      <td>IiT/P7WfYDcqbhu7tf5V4Q==</td>\n",
       "      <td>-34.582403</td>\n",
       "      <td>-58.443841</td>\n",
       "      <td>Colegiales</td>\n",
       "      <td>Departamento</td>\n",
       "      <td>2.0</td>\n",
       "      <td>1.0</td>\n",
       "      <td>50.0</td>\n",
       "      <td>46.0</td>\n",
       "      <td>148000.0</td>\n",
       "      <td>Departamento - Colegiales</td>\n",
       "      <td>2960.000000</td>\n",
       "      <td>alto</td>\n",
       "    </tr>\n",
       "    <tr>\n",
       "      <th>2</th>\n",
       "      <td>6XXcElx/4OwCcH4NI06Oiw==</td>\n",
       "      <td>-34.605825</td>\n",
       "      <td>-58.422214</td>\n",
       "      <td>Almagro</td>\n",
       "      <td>Departamento</td>\n",
       "      <td>3.0</td>\n",
       "      <td>2.0</td>\n",
       "      <td>47.0</td>\n",
       "      <td>47.0</td>\n",
       "      <td>89000.0</td>\n",
       "      <td>Departamento en venta tres ambientes- Almagro</td>\n",
       "      <td>1893.617021</td>\n",
       "      <td>medio</td>\n",
       "    </tr>\n",
       "    <tr>\n",
       "      <th>3</th>\n",
       "      <td>8R7hSzqWFk9rX4wBXxfORA==</td>\n",
       "      <td>-34.561971</td>\n",
       "      <td>-58.455670</td>\n",
       "      <td>Belgrano</td>\n",
       "      <td>Departamento</td>\n",
       "      <td>2.0</td>\n",
       "      <td>1.0</td>\n",
       "      <td>52.0</td>\n",
       "      <td>48.0</td>\n",
       "      <td>127000.0</td>\n",
       "      <td>Departamento - Belgrano</td>\n",
       "      <td>2442.307692</td>\n",
       "      <td>medio</td>\n",
       "    </tr>\n",
       "    <tr>\n",
       "      <th>4</th>\n",
       "      <td>UAKYqQx9s0MfIdLzrJv8Ig==</td>\n",
       "      <td>-34.606738</td>\n",
       "      <td>-58.389426</td>\n",
       "      <td>Tribunales</td>\n",
       "      <td>Departamento</td>\n",
       "      <td>3.0</td>\n",
       "      <td>2.0</td>\n",
       "      <td>76.0</td>\n",
       "      <td>75.0</td>\n",
       "      <td>129900.0</td>\n",
       "      <td>Lindísimo departamento antiguo en excelente es...</td>\n",
       "      <td>1709.210526</td>\n",
       "      <td>bajo</td>\n",
       "    </tr>\n",
       "  </tbody>\n",
       "</table>\n",
       "</div>"
      ],
      "text/plain": [
       "                         id    latitud   longitud    place_l3 property_type  \\\n",
       "0  F5IvmD1uzzdIR7b96ozt4g== -34.558855 -58.452458       Nuñez  Departamento   \n",
       "1  IiT/P7WfYDcqbhu7tf5V4Q== -34.582403 -58.443841  Colegiales  Departamento   \n",
       "2  6XXcElx/4OwCcH4NI06Oiw== -34.605825 -58.422214     Almagro  Departamento   \n",
       "3  8R7hSzqWFk9rX4wBXxfORA== -34.561971 -58.455670    Belgrano  Departamento   \n",
       "4  UAKYqQx9s0MfIdLzrJv8Ig== -34.606738 -58.389426  Tribunales  Departamento   \n",
       "\n",
       "   property_rooms  property_bedrooms  property_surface_total  \\\n",
       "0             4.0                3.0                   160.0   \n",
       "1             2.0                1.0                    50.0   \n",
       "2             3.0                2.0                    47.0   \n",
       "3             2.0                1.0                    52.0   \n",
       "4             3.0                2.0                    76.0   \n",
       "\n",
       "   property_surface_covered  property_price  \\\n",
       "0                     146.0        460000.0   \n",
       "1                      46.0        148000.0   \n",
       "2                      47.0         89000.0   \n",
       "3                      48.0        127000.0   \n",
       "4                      75.0        129900.0   \n",
       "\n",
       "                                      property_title         pxm2 tipo_precio  \n",
       "0  Venta: Hermoso piso de categoría en excelente ...  2875.000000        alto  \n",
       "1                          Departamento - Colegiales  2960.000000        alto  \n",
       "2      Departamento en venta tres ambientes- Almagro  1893.617021       medio  \n",
       "3                            Departamento - Belgrano  2442.307692       medio  \n",
       "4  Lindísimo departamento antiguo en excelente es...  1709.210526        bajo  "
      ]
     },
     "execution_count": 158,
     "metadata": {},
     "output_type": "execute_result"
    }
   ],
   "source": [
    "#Import dataframe\n",
    "ds_propiedades = pd.read_csv('./ds_propiedades_total_clasificado.csv')\n",
    "ds_descripciones = pd.read_csv('./properati_argentina_2021_decrip.csv')\n",
    "ds_propiedades.head()"
   ]
  },
  {
   "cell_type": "code",
   "execution_count": 159,
   "metadata": {},
   "outputs": [
    {
     "data": {
      "text/html": [
       "<div>\n",
       "<style scoped>\n",
       "    .dataframe tbody tr th:only-of-type {\n",
       "        vertical-align: middle;\n",
       "    }\n",
       "\n",
       "    .dataframe tbody tr th {\n",
       "        vertical-align: top;\n",
       "    }\n",
       "\n",
       "    .dataframe thead th {\n",
       "        text-align: right;\n",
       "    }\n",
       "</style>\n",
       "<table border=\"1\" class=\"dataframe\">\n",
       "  <thead>\n",
       "    <tr style=\"text-align: right;\">\n",
       "      <th></th>\n",
       "      <th>id</th>\n",
       "      <th>property_description</th>\n",
       "    </tr>\n",
       "  </thead>\n",
       "  <tbody>\n",
       "    <tr>\n",
       "      <th>0</th>\n",
       "      <td>BZCeiGkJr1WBUi6pKJQwJQ==</td>\n",
       "      <td>Corredor Responsable: MARIA ALEJANDRA GENOVEVA...</td>\n",
       "    </tr>\n",
       "    <tr>\n",
       "      <th>2</th>\n",
       "      <td>TUL813tXchVBlHUsfaA6DA==</td>\n",
       "      <td>Excelente PH en Núñez 4 amb!!!! Oportunidad !!...</td>\n",
       "    </tr>\n",
       "    <tr>\n",
       "      <th>3</th>\n",
       "      <td>gn55JPmcjftBV/at1a7fPg==</td>\n",
       "      <td>UNICO PH DE 4 DORMITORIOS EN IMPECABLE ESTADO,...</td>\n",
       "    </tr>\n",
       "    <tr>\n",
       "      <th>10</th>\n",
       "      <td>+9uGr8tPEUkKnpjOef+gUw==</td>\n",
       "      <td>SE VENDE EXCELENTE PH de 2 CÓMODOS AMBIENTES M...</td>\n",
       "    </tr>\n",
       "    <tr>\n",
       "      <th>11</th>\n",
       "      <td>uH5H+RfQM87Qtrb13+T4hA==</td>\n",
       "      <td>Venta PH 4 ambientes Paternal&lt;br&gt;&lt;br&gt;Cálido,  ...</td>\n",
       "    </tr>\n",
       "  </tbody>\n",
       "</table>\n",
       "</div>"
      ],
      "text/plain": [
       "                          id  \\\n",
       "0   BZCeiGkJr1WBUi6pKJQwJQ==   \n",
       "2   TUL813tXchVBlHUsfaA6DA==   \n",
       "3   gn55JPmcjftBV/at1a7fPg==   \n",
       "10  +9uGr8tPEUkKnpjOef+gUw==   \n",
       "11  uH5H+RfQM87Qtrb13+T4hA==   \n",
       "\n",
       "                                 property_description  \n",
       "0   Corredor Responsable: MARIA ALEJANDRA GENOVEVA...  \n",
       "2   Excelente PH en Núñez 4 amb!!!! Oportunidad !!...  \n",
       "3   UNICO PH DE 4 DORMITORIOS EN IMPECABLE ESTADO,...  \n",
       "10  SE VENDE EXCELENTE PH de 2 CÓMODOS AMBIENTES M...  \n",
       "11  Venta PH 4 ambientes Paternal<br><br>Cálido,  ...  "
      ]
     },
     "execution_count": 159,
     "metadata": {},
     "output_type": "execute_result"
    }
   ],
   "source": [
    "ds_descripciones = ds_descripciones[ds_descripciones['id'].isin(ds_propiedades['id'])]\n",
    "ds_descripciones.head()"
   ]
  },
  {
   "cell_type": "markdown",
   "metadata": {},
   "source": [
    "## Exportamos el dataframe a un archivo de texto para poder pasarlo por ECmes"
   ]
  },
  {
   "cell_type": "code",
   "execution_count": 160,
   "metadata": {},
   "outputs": [],
   "source": [
    "ds_descripciones_sin_id = ds_descripciones.drop(['id'], axis=1)\n",
    "\n",
    "ds_descripciones_sin_id.to_csv('ds_descripciones.txt', index=False)"
   ]
  },
  {
   "cell_type": "markdown",
   "metadata": {},
   "source": [
    "## Limpiamos el archivo de descripciones para que lo pueda leer Ecmes correctamente."
   ]
  },
  {
   "cell_type": "code",
   "execution_count": 161,
   "metadata": {},
   "outputs": [],
   "source": [
    "# dic_replace = {\n",
    "#     'á': 'a',\n",
    "#     'é': 'e',\n",
    "#     'í': 'i',\n",
    "#     'ó': 'o',\n",
    "#     'ú': 'u',\n",
    "#     'Á': 'A',\n",
    "#     'É': 'E',\n",
    "#     'Í': 'I',\n",
    "#     'Ó': 'O',\n",
    "#     'Ú': 'U',\n",
    "#     'ñ': 'ni',\n",
    "#     'Ñ': 'NI',\n",
    "#     'ü': 'u',\n",
    "#     'Ü': 'U',\n",
    "#     '<br>': ' ',\n",
    "#     '<br />': ' ',\n",
    "#     '<br/>': ' ',\n",
    "#     '<p>': ' ',\n",
    "#     '</p>': ' ',\n",
    "#     '<b>': ' ',\n",
    "#     '</b>': ' ',\n",
    "# }"
   ]
  },
  {
   "cell_type": "code",
   "execution_count": 162,
   "metadata": {},
   "outputs": [],
   "source": [
    "# #for every line in ds_descripciones.txt replace the '(' and ')' with ',' and save it in ds_descripciones.txt line by line \n",
    "# with open('ds_descripciones.txt', 'r', encoding = 'utf8') as f_in, open('ds_descripciones_out.txt', 'w', encoding = 'utf8') as f_out:\n",
    "#     for line in f_in:\n",
    "#         for src, target in dic_replace.items():\n",
    "#             line = line.replace(src, target)\n",
    "        \n",
    "       \n",
    "#         #leave only alpha characters in the line, also spaces and line jumps\n",
    "#         line = ''.join([c for c in line if c.isalpha() or c == ' ' or c == '\\n' or c == '.' or c == ','])\n",
    " \n",
    "        \n",
    "   \n",
    "\n",
    "#         # for src, target in dic_replace.items():\n",
    "#         #     line = line.replace(src, target)\n",
    "#         f_out.writelines(line)"
   ]
  },
  {
   "cell_type": "code",
   "execution_count": 163,
   "metadata": {},
   "outputs": [
    {
     "data": {
      "text/html": [
       "<div>\n",
       "<style scoped>\n",
       "    .dataframe tbody tr th:only-of-type {\n",
       "        vertical-align: middle;\n",
       "    }\n",
       "\n",
       "    .dataframe tbody tr th {\n",
       "        vertical-align: top;\n",
       "    }\n",
       "\n",
       "    .dataframe thead th {\n",
       "        text-align: right;\n",
       "    }\n",
       "</style>\n",
       "<table border=\"1\" class=\"dataframe\">\n",
       "  <thead>\n",
       "    <tr style=\"text-align: right;\">\n",
       "      <th></th>\n",
       "      <th>id</th>\n",
       "      <th>latitud</th>\n",
       "      <th>longitud</th>\n",
       "      <th>place_l3</th>\n",
       "      <th>property_type</th>\n",
       "      <th>property_rooms</th>\n",
       "      <th>property_bedrooms</th>\n",
       "      <th>property_surface_total</th>\n",
       "      <th>property_surface_covered</th>\n",
       "      <th>property_price</th>\n",
       "      <th>property_title</th>\n",
       "      <th>pxm2</th>\n",
       "      <th>tipo_precio</th>\n",
       "      <th>property_description</th>\n",
       "    </tr>\n",
       "  </thead>\n",
       "  <tbody>\n",
       "    <tr>\n",
       "      <th>0</th>\n",
       "      <td>F5IvmD1uzzdIR7b96ozt4g==</td>\n",
       "      <td>-34.558855</td>\n",
       "      <td>-58.452458</td>\n",
       "      <td>Nuñez</td>\n",
       "      <td>Departamento</td>\n",
       "      <td>4.0</td>\n",
       "      <td>3.0</td>\n",
       "      <td>160.0</td>\n",
       "      <td>146.0</td>\n",
       "      <td>460000.0</td>\n",
       "      <td>Venta: Hermoso piso de categoría en excelente ...</td>\n",
       "      <td>2875.000000</td>\n",
       "      <td>alto</td>\n",
       "      <td>Hermoso piso de 4 ambientes con dependencia y ...</td>\n",
       "    </tr>\n",
       "    <tr>\n",
       "      <th>1</th>\n",
       "      <td>IiT/P7WfYDcqbhu7tf5V4Q==</td>\n",
       "      <td>-34.582403</td>\n",
       "      <td>-58.443841</td>\n",
       "      <td>Colegiales</td>\n",
       "      <td>Departamento</td>\n",
       "      <td>2.0</td>\n",
       "      <td>1.0</td>\n",
       "      <td>50.0</td>\n",
       "      <td>46.0</td>\n",
       "      <td>148000.0</td>\n",
       "      <td>Departamento - Colegiales</td>\n",
       "      <td>2960.000000</td>\n",
       "      <td>alto</td>\n",
       "      <td>2 ambientes con balcón y vista totalmente abie...</td>\n",
       "    </tr>\n",
       "    <tr>\n",
       "      <th>2</th>\n",
       "      <td>6XXcElx/4OwCcH4NI06Oiw==</td>\n",
       "      <td>-34.605825</td>\n",
       "      <td>-58.422214</td>\n",
       "      <td>Almagro</td>\n",
       "      <td>Departamento</td>\n",
       "      <td>3.0</td>\n",
       "      <td>2.0</td>\n",
       "      <td>47.0</td>\n",
       "      <td>47.0</td>\n",
       "      <td>89000.0</td>\n",
       "      <td>Departamento en venta tres ambientes- Almagro</td>\n",
       "      <td>1893.617021</td>\n",
       "      <td>medio</td>\n",
       "      <td>**DIAZ VELEZ 4291 Y PRINGLES** Almagro.&lt;br&gt;&lt;br...</td>\n",
       "    </tr>\n",
       "    <tr>\n",
       "      <th>3</th>\n",
       "      <td>8R7hSzqWFk9rX4wBXxfORA==</td>\n",
       "      <td>-34.561971</td>\n",
       "      <td>-58.455670</td>\n",
       "      <td>Belgrano</td>\n",
       "      <td>Departamento</td>\n",
       "      <td>2.0</td>\n",
       "      <td>1.0</td>\n",
       "      <td>52.0</td>\n",
       "      <td>48.0</td>\n",
       "      <td>127000.0</td>\n",
       "      <td>Departamento - Belgrano</td>\n",
       "      <td>2442.307692</td>\n",
       "      <td>medio</td>\n",
       "      <td>IMPECABLE 2 AMBIENTES A ESTRENAR!&lt;...</td>\n",
       "    </tr>\n",
       "    <tr>\n",
       "      <th>4</th>\n",
       "      <td>UAKYqQx9s0MfIdLzrJv8Ig==</td>\n",
       "      <td>-34.606738</td>\n",
       "      <td>-58.389426</td>\n",
       "      <td>Tribunales</td>\n",
       "      <td>Departamento</td>\n",
       "      <td>3.0</td>\n",
       "      <td>2.0</td>\n",
       "      <td>76.0</td>\n",
       "      <td>75.0</td>\n",
       "      <td>129900.0</td>\n",
       "      <td>Lindísimo departamento antiguo en excelente es...</td>\n",
       "      <td>1709.210526</td>\n",
       "      <td>bajo</td>\n",
       "      <td>Excelente piso antiguo, lindísimo por sus tech...</td>\n",
       "    </tr>\n",
       "  </tbody>\n",
       "</table>\n",
       "</div>"
      ],
      "text/plain": [
       "                         id    latitud   longitud    place_l3 property_type  \\\n",
       "0  F5IvmD1uzzdIR7b96ozt4g== -34.558855 -58.452458       Nuñez  Departamento   \n",
       "1  IiT/P7WfYDcqbhu7tf5V4Q== -34.582403 -58.443841  Colegiales  Departamento   \n",
       "2  6XXcElx/4OwCcH4NI06Oiw== -34.605825 -58.422214     Almagro  Departamento   \n",
       "3  8R7hSzqWFk9rX4wBXxfORA== -34.561971 -58.455670    Belgrano  Departamento   \n",
       "4  UAKYqQx9s0MfIdLzrJv8Ig== -34.606738 -58.389426  Tribunales  Departamento   \n",
       "\n",
       "   property_rooms  property_bedrooms  property_surface_total  \\\n",
       "0             4.0                3.0                   160.0   \n",
       "1             2.0                1.0                    50.0   \n",
       "2             3.0                2.0                    47.0   \n",
       "3             2.0                1.0                    52.0   \n",
       "4             3.0                2.0                    76.0   \n",
       "\n",
       "   property_surface_covered  property_price  \\\n",
       "0                     146.0        460000.0   \n",
       "1                      46.0        148000.0   \n",
       "2                      47.0         89000.0   \n",
       "3                      48.0        127000.0   \n",
       "4                      75.0        129900.0   \n",
       "\n",
       "                                      property_title         pxm2 tipo_precio  \\\n",
       "0  Venta: Hermoso piso de categoría en excelente ...  2875.000000        alto   \n",
       "1                          Departamento - Colegiales  2960.000000        alto   \n",
       "2      Departamento en venta tres ambientes- Almagro  1893.617021       medio   \n",
       "3                            Departamento - Belgrano  2442.307692       medio   \n",
       "4  Lindísimo departamento antiguo en excelente es...  1709.210526        bajo   \n",
       "\n",
       "                                property_description  \n",
       "0  Hermoso piso de 4 ambientes con dependencia y ...  \n",
       "1  2 ambientes con balcón y vista totalmente abie...  \n",
       "2  **DIAZ VELEZ 4291 Y PRINGLES** Almagro.<br><br...  \n",
       "3              IMPECABLE 2 AMBIENTES A ESTRENAR!<...  \n",
       "4  Excelente piso antiguo, lindísimo por sus tech...  "
      ]
     },
     "execution_count": 163,
     "metadata": {},
     "output_type": "execute_result"
    }
   ],
   "source": [
    "ds_propiedades = ds_propiedades.join(ds_descripciones.set_index('id'), on='id')\n",
    "ds_propiedades.head()"
   ]
  },
  {
   "cell_type": "markdown",
   "metadata": {},
   "source": [
    "## Imputacion de nuevos parametros basados en los datos de Ecmes"
   ]
  },
  {
   "cell_type": "markdown",
   "metadata": {},
   "source": [
    "#### Basandonos en la frecuencia de aparición de palabras dada por Ecmes y nuestro dominio del problema, sabemos que estos son aspectos muy influyentes.<br>\n",
    "#### Procedemos a añadirlos al dataset para ampliarlo"
   ]
  },
  {
   "cell_type": "markdown",
   "metadata": {},
   "source": [
    "#### Pileta"
   ]
  },
  {
   "cell_type": "code",
   "execution_count": 164,
   "metadata": {},
   "outputs": [],
   "source": [
    "import re\n",
    "regexp = re.compile(r'piscina|pileta/gi', re.IGNORECASE)\n",
    "\n",
    "ds_propiedades['piscina'] = ds_propiedades['property_description'].apply(lambda x: 1 if regexp.search(x) else 0)"
   ]
  },
  {
   "cell_type": "code",
   "execution_count": 165,
   "metadata": {},
   "outputs": [
    {
     "name": "stdout",
     "output_type": "stream",
     "text": [
      "Vemos que la cantidad de propiedades con pileta es de 9729\n"
     ]
    }
   ],
   "source": [
    "cantidad_pileta = ds_propiedades[ds_propiedades['piscina'] == 1].shape[0]\n",
    "print(f\"Vemos que la cantidad de propiedades con pileta es de {cantidad_pileta}\")"
   ]
  },
  {
   "cell_type": "markdown",
   "metadata": {},
   "source": [
    "#### Garaje/Cochera"
   ]
  },
  {
   "cell_type": "code",
   "execution_count": 166,
   "metadata": {},
   "outputs": [],
   "source": [
    "regexp  = re.compile(r'cochera|garage/gi', re.IGNORECASE)\n",
    "\n",
    "ds_propiedades['cochera'] = ds_propiedades['property_description'].apply(lambda x: 1 if regexp.search(x) else 0)"
   ]
  },
  {
   "cell_type": "code",
   "execution_count": 167,
   "metadata": {},
   "outputs": [
    {
     "name": "stdout",
     "output_type": "stream",
     "text": [
      "Vemos que la cantidad de propiedades con Garaje es de 27031\n"
     ]
    }
   ],
   "source": [
    "cantidad_garaje = ds_propiedades[ds_propiedades['cochera'] == 1].shape[0]\n",
    "print(f\"Vemos que la cantidad de propiedades con Garaje es de {cantidad_garaje}\")"
   ]
  },
  {
   "cell_type": "markdown",
   "metadata": {},
   "source": [
    "#### Balcon"
   ]
  },
  {
   "cell_type": "code",
   "execution_count": 168,
   "metadata": {},
   "outputs": [],
   "source": [
    "regexp  = re.compile(r'balc[oó]n|/gi', re.IGNORECASE)\n",
    "\n",
    "ds_propiedades['balcon'] = ds_propiedades['property_description'].apply(lambda x: 1 if regexp.search(x) else 0)"
   ]
  },
  {
   "cell_type": "code",
   "execution_count": 169,
   "metadata": {},
   "outputs": [
    {
     "name": "stdout",
     "output_type": "stream",
     "text": [
      "Vemos que la cantidad de propiedades con Balcon es de 52839\n"
     ]
    }
   ],
   "source": [
    "cantidad_balcon = ds_propiedades[ds_propiedades['balcon'] == 1].shape[0]\n",
    "print(f\"Vemos que la cantidad de propiedades con Balcon es de {cantidad_balcon}\")"
   ]
  },
  {
   "cell_type": "markdown",
   "metadata": {},
   "source": [
    "#### Hidromasaje"
   ]
  },
  {
   "cell_type": "code",
   "execution_count": 170,
   "metadata": {},
   "outputs": [],
   "source": [
    "regexp  = re.compile(r'hidromasaje|jacuzzi|spa/gi', re.IGNORECASE)\n",
    "\n",
    "ds_propiedades['hidromasaje'] = ds_propiedades['property_description'].apply(lambda x: 1 if regexp.search(x) else 0)"
   ]
  },
  {
   "cell_type": "code",
   "execution_count": 171,
   "metadata": {},
   "outputs": [
    {
     "name": "stdout",
     "output_type": "stream",
     "text": [
      "Vemos que la cantidad de propiedades con Hidromasaje es de 4047\n"
     ]
    }
   ],
   "source": [
    "cantidad_hidromasaje = ds_propiedades[ds_propiedades['hidromasaje'] == 1].shape[0]\n",
    "print(f\"Vemos que la cantidad de propiedades con Hidromasaje es de {cantidad_hidromasaje}\")"
   ]
  },
  {
   "cell_type": "markdown",
   "metadata": {},
   "source": [
    "#### Jardín"
   ]
  },
  {
   "cell_type": "code",
   "execution_count": 172,
   "metadata": {},
   "outputs": [],
   "source": [
    "regexp = re.compile(r'jardin|jardín/gi', re.IGNORECASE)\n",
    "\n",
    "ds_propiedades['jardin'] = ds_propiedades['property_description'].apply(lambda x: 1 if regexp.search(x) else 0)"
   ]
  },
  {
   "cell_type": "code",
   "execution_count": 173,
   "metadata": {},
   "outputs": [
    {
     "name": "stdout",
     "output_type": "stream",
     "text": [
      "Vemos que la cantidad de propiedades con Jardin es de 2688\n"
     ]
    }
   ],
   "source": [
    "cantidad_jardin = ds_propiedades[ds_propiedades['jardin'] == 1].shape[0]\n",
    "print(f\"Vemos que la cantidad de propiedades con Jardin es de {cantidad_jardin}\")"
   ]
  },
  {
   "cell_type": "markdown",
   "metadata": {},
   "source": [
    "#### Gimnasio"
   ]
  },
  {
   "cell_type": "code",
   "execution_count": 174,
   "metadata": {},
   "outputs": [],
   "source": [
    "regexp = re.compile(r'gimnasio|gym/gi', re.IGNORECASE)\n",
    "\n",
    "ds_propiedades['gimnasio'] = ds_propiedades['property_description'].apply(lambda x: 1 if regexp.search(x) else 0)"
   ]
  },
  {
   "cell_type": "code",
   "execution_count": 175,
   "metadata": {},
   "outputs": [
    {
     "name": "stdout",
     "output_type": "stream",
     "text": [
      "Vemos que la cantidad de propiedades con Gimnasio es de 6601\n"
     ]
    }
   ],
   "source": [
    "cantidad_gimnasio = ds_propiedades[ds_propiedades['gimnasio'] == 1].shape[0]\n",
    "print(f\"Vemos que la cantidad de propiedades con Gimnasio es de {cantidad_gimnasio}\")"
   ]
  },
  {
   "cell_type": "markdown",
   "metadata": {},
   "source": [
    "#### A estrenar"
   ]
  },
  {
   "cell_type": "code",
   "execution_count": 176,
   "metadata": {},
   "outputs": [],
   "source": [
    "regexp = re.compile(r'estrenar|/gi', re.IGNORECASE)\n",
    "\n",
    "ds_propiedades['a_estrenar'] = ds_propiedades['property_description'].apply(lambda x: 1 if regexp.search(x) else 0)"
   ]
  },
  {
   "cell_type": "code",
   "execution_count": 177,
   "metadata": {},
   "outputs": [
    {
     "name": "stdout",
     "output_type": "stream",
     "text": [
      "Vemos que la cantidad de propiedades a estrenar es de 8311\n"
     ]
    }
   ],
   "source": [
    "cantidad_a_estrenar = ds_propiedades[ds_propiedades['a_estrenar'] == 1].shape[0]\n",
    "print(f\"Vemos que la cantidad de propiedades a estrenar es de {cantidad_a_estrenar}\")"
   ]
  },
  {
   "cell_type": "markdown",
   "metadata": {},
   "source": [
    "#### Sótano"
   ]
  },
  {
   "cell_type": "code",
   "execution_count": 178,
   "metadata": {},
   "outputs": [],
   "source": [
    "regexp = re.compile(r'sotano|sótano/gi', re.IGNORECASE)\n",
    "\n",
    "ds_propiedades['sotano'] = ds_propiedades['property_description'].apply(lambda x: 1 if regexp.search(x) else 0)"
   ]
  },
  {
   "cell_type": "code",
   "execution_count": 179,
   "metadata": {},
   "outputs": [
    {
     "name": "stdout",
     "output_type": "stream",
     "text": [
      "Vemos que la cantidad de propiedades con Sotano es de 83\n"
     ]
    }
   ],
   "source": [
    "cantidad_sotano = ds_propiedades[ds_propiedades['sotano'] == 1].shape[0]\n",
    "print(f\"Vemos que la cantidad de propiedades con Sotano es de {cantidad_sotano}\")"
   ]
  },
  {
   "cell_type": "markdown",
   "metadata": {},
   "source": [
    "#### Quincho"
   ]
  },
  {
   "cell_type": "code",
   "execution_count": 180,
   "metadata": {},
   "outputs": [],
   "source": [
    "regexp = re.compile(r'quincho|/gi', re.IGNORECASE)\n",
    "\n",
    "ds_propiedades['quincho'] = ds_propiedades['property_description'].apply(lambda x: 1 if regexp.search(x) else 0)"
   ]
  },
  {
   "cell_type": "code",
   "execution_count": 181,
   "metadata": {},
   "outputs": [
    {
     "name": "stdout",
     "output_type": "stream",
     "text": [
      "Vemos que la cantidad de propiedades con Quincho es de 3173\n"
     ]
    }
   ],
   "source": [
    "cantidad_quincho = ds_propiedades[ds_propiedades['quincho'] == 1].shape[0]\n",
    "print(f\"Vemos que la cantidad de propiedades con Quincho es de {cantidad_quincho}\")"
   ]
  },
  {
   "cell_type": "markdown",
   "metadata": {},
   "source": [
    "#### Sum"
   ]
  },
  {
   "cell_type": "code",
   "execution_count": 182,
   "metadata": {},
   "outputs": [],
   "source": [
    "regexp = re.compile(r'(\\bsum\\b)|(s\\.u\\.m)|(salon de usos multiples)/gi', re.IGNORECASE)\n",
    "\n",
    "ds_propiedades['sum'] = ds_propiedades['property_description'].apply(lambda x: 1 if regexp.search(x) else 0)"
   ]
  },
  {
   "cell_type": "code",
   "execution_count": 183,
   "metadata": {},
   "outputs": [
    {
     "name": "stdout",
     "output_type": "stream",
     "text": [
      "Vemos que la cantidad de propiedades con SUM es de 14847\n"
     ]
    }
   ],
   "source": [
    "cantidad_sum = ds_propiedades[ds_propiedades['sum'] == 1].shape[0]\n",
    "print(f\"Vemos que la cantidad de propiedades con SUM es de {cantidad_sum}\")"
   ]
  },
  {
   "cell_type": "markdown",
   "metadata": {},
   "source": [
    "#### Expensas"
   ]
  },
  {
   "cell_type": "markdown",
   "metadata": {},
   "source": [
    "Vamos a buscar generar un parametro expensas_tipo que sea baja, mediana, alta o no aplica dependiendo del caso, para esto primero vamos a buscar los precios que se encuentran en el dataset y con eso hacer un rango de precios para cada tipo de expensas. Luego esto lo combinamos con otra busqueda en las descripciones para encontrar palabras que nos indiquen si es un precio alto, medio o bajo."
   ]
  },
  {
   "cell_type": "code",
   "execution_count": 184,
   "metadata": {},
   "outputs": [],
   "source": [
    "regexp = re.compile(r'expensas[\\$0-9 \\.,:]+|/gi', re.IGNORECASE)\n",
    "\n",
    "ds_propiedades['expensas_price'] = ds_propiedades['property_description'].apply(lambda x: regexp.search(x).group() if regexp.search(x) else -1)\n",
    "\n",
    "ds_propiedades['expensas_price'] = ds_propiedades['expensas_price'].apply(lambda x: x.lower().replace('expensas:','').replace('$','').replace(' ','').replace('.','').replace(',','.') if x != -1 else -1)\n",
    "\n",
    "ds_propiedades['expensas_price'] =   ds_propiedades['expensas_price'].apply(lambda x: float(x) if str(x).isnumeric() else -1)"
   ]
  },
  {
   "cell_type": "code",
   "execution_count": 185,
   "metadata": {},
   "outputs": [
    {
     "name": "stdout",
     "output_type": "stream",
     "text": [
      "Vemos que la cantidad de propiedades con expensas es de 4484\n"
     ]
    }
   ],
   "source": [
    "propiedades_con_precio_expensas = ds_propiedades[ds_propiedades['expensas_price'] > -1].shape[0]\n",
    "\n",
    "print(f\"Vemos que la cantidad de propiedades con expensas es de {propiedades_con_precio_expensas}\")"
   ]
  },
  {
   "cell_type": "markdown",
   "metadata": {},
   "source": [
    "Expensas_tipo"
   ]
  },
  {
   "cell_type": "code",
   "execution_count": 186,
   "metadata": {},
   "outputs": [
    {
     "data": {
      "text/plain": [
       "no aplica    47149\n",
       "medias       15184\n",
       "bajas        11582\n",
       "altas         9088\n",
       "sin           2690\n",
       "Name: expensas_tipo, dtype: int64"
      ]
     },
     "execution_count": 186,
     "metadata": {},
     "output_type": "execute_result"
    }
   ],
   "source": [
    "regexp_sin = re.compile(r'sin expensas', re.IGNORECASE)\n",
    "regexp_tipo = re.compile(r'expensas baja|media|alta|accesible|barata', re.IGNORECASE)\n",
    "\n",
    "ds_propiedades['expensas_tipo'] = ds_propiedades['property_description'].apply(lambda x: \n",
    "  regexp_sin.search(x.lower()).group() if regexp_sin.search(x) else (regexp_tipo.search(x.lower()).group() if regexp_tipo.search(x) else 'no aplica')\n",
    ")\n",
    "\n",
    "ds_propiedades['expensas_tipo'] = ds_propiedades['expensas_tipo'].apply(lambda x: 'sin' if 'sin' in str(x) else x)\n",
    "ds_propiedades['expensas_tipo'] = ds_propiedades['expensas_tipo'].apply(lambda x: 'bajas' if 'baja' in str(x) else x)\n",
    "ds_propiedades['expensas_tipo'] = ds_propiedades['expensas_tipo'].apply(lambda x: 'bajas' if 'accesible' in str(x) else x)\n",
    "ds_propiedades['expensas_tipo'] = ds_propiedades['expensas_tipo'].apply(lambda x: 'bajas' if 'barata' in str(x) else x)\n",
    "ds_propiedades['expensas_tipo'] = ds_propiedades['expensas_tipo'].apply(lambda x: 'medias' if 'media' in str(x) else x)\n",
    "ds_propiedades['expensas_tipo'] = ds_propiedades['expensas_tipo'].apply(lambda x: 'altas' if 'alta' in str(x) else x)\n",
    "\n",
    "ds_propiedades['expensas_tipo'].value_counts()"
   ]
  },
  {
   "cell_type": "markdown",
   "metadata": {},
   "source": [
    "Vemos cuantas expensas categorizadas como 'no aplica' tienen un precio y las categorizamos acordemente"
   ]
  },
  {
   "cell_type": "code",
   "execution_count": 187,
   "metadata": {},
   "outputs": [
    {
     "data": {
      "text/plain": [
       "no aplica    44344\n",
       "medias       16106\n",
       "bajas        12542\n",
       "altas        10011\n",
       "sin           2690\n",
       "Name: expensas_tipo, dtype: int64"
      ]
     },
     "execution_count": 187,
     "metadata": {},
     "output_type": "execute_result"
    }
   ],
   "source": [
    "ds_propiedades_completar_tipo = ds_propiedades[(ds_propiedades['expensas_tipo'] == 'no aplica') & (ds_propiedades['expensas_price'] > 0)].copy()\n",
    "\n",
    "if len(ds_propiedades_completar_tipo) > 0: ds_propiedades_completar_tipo['expensas_tipo'] = pd.qcut(ds_propiedades_completar_tipo['expensas_price'], q=3, labels=['bajas', 'medias', 'altas'])\n",
    "\n",
    "ds_propiedades.loc[(ds_propiedades['expensas_tipo'] == 'no aplica') & (ds_propiedades['expensas_price'] > 0), 'expensas_tipo'] = ds_propiedades_completar_tipo['expensas_tipo']\n",
    "ds_propiedades.drop(columns=['expensas_price'], inplace=True)\n",
    "\n",
    "ds_propiedades['expensas_tipo'].value_counts()"
   ]
  },
  {
   "cell_type": "markdown",
   "metadata": {},
   "source": [
    "## Filtramos las columnas generadas"
   ]
  },
  {
   "cell_type": "code",
   "execution_count": 188,
   "metadata": {},
   "outputs": [
    {
     "data": {
      "text/html": [
       "<div>\n",
       "<style scoped>\n",
       "    .dataframe tbody tr th:only-of-type {\n",
       "        vertical-align: middle;\n",
       "    }\n",
       "\n",
       "    .dataframe tbody tr th {\n",
       "        vertical-align: top;\n",
       "    }\n",
       "\n",
       "    .dataframe thead th {\n",
       "        text-align: right;\n",
       "    }\n",
       "</style>\n",
       "<table border=\"1\" class=\"dataframe\">\n",
       "  <thead>\n",
       "    <tr style=\"text-align: right;\">\n",
       "      <th></th>\n",
       "      <th>id</th>\n",
       "      <th>latitud</th>\n",
       "      <th>longitud</th>\n",
       "      <th>place_l3</th>\n",
       "      <th>property_type</th>\n",
       "      <th>property_rooms</th>\n",
       "      <th>property_bedrooms</th>\n",
       "      <th>property_surface_total</th>\n",
       "      <th>property_surface_covered</th>\n",
       "      <th>property_price</th>\n",
       "      <th>...</th>\n",
       "      <th>cochera</th>\n",
       "      <th>balcon</th>\n",
       "      <th>hidromasaje</th>\n",
       "      <th>jardin</th>\n",
       "      <th>gimnasio</th>\n",
       "      <th>a_estrenar</th>\n",
       "      <th>sotano</th>\n",
       "      <th>quincho</th>\n",
       "      <th>sum</th>\n",
       "      <th>expensas_tipo</th>\n",
       "    </tr>\n",
       "  </thead>\n",
       "  <tbody>\n",
       "    <tr>\n",
       "      <th>0</th>\n",
       "      <td>F5IvmD1uzzdIR7b96ozt4g==</td>\n",
       "      <td>-34.558855</td>\n",
       "      <td>-58.452458</td>\n",
       "      <td>Nuñez</td>\n",
       "      <td>Departamento</td>\n",
       "      <td>4.0</td>\n",
       "      <td>3.0</td>\n",
       "      <td>160.0</td>\n",
       "      <td>146.0</td>\n",
       "      <td>460000.0</td>\n",
       "      <td>...</td>\n",
       "      <td>1</td>\n",
       "      <td>1</td>\n",
       "      <td>0</td>\n",
       "      <td>0</td>\n",
       "      <td>0</td>\n",
       "      <td>0</td>\n",
       "      <td>0</td>\n",
       "      <td>0</td>\n",
       "      <td>0</td>\n",
       "      <td>no aplica</td>\n",
       "    </tr>\n",
       "    <tr>\n",
       "      <th>1</th>\n",
       "      <td>IiT/P7WfYDcqbhu7tf5V4Q==</td>\n",
       "      <td>-34.582403</td>\n",
       "      <td>-58.443841</td>\n",
       "      <td>Colegiales</td>\n",
       "      <td>Departamento</td>\n",
       "      <td>2.0</td>\n",
       "      <td>1.0</td>\n",
       "      <td>50.0</td>\n",
       "      <td>46.0</td>\n",
       "      <td>148000.0</td>\n",
       "      <td>...</td>\n",
       "      <td>1</td>\n",
       "      <td>1</td>\n",
       "      <td>0</td>\n",
       "      <td>0</td>\n",
       "      <td>0</td>\n",
       "      <td>0</td>\n",
       "      <td>0</td>\n",
       "      <td>0</td>\n",
       "      <td>0</td>\n",
       "      <td>no aplica</td>\n",
       "    </tr>\n",
       "    <tr>\n",
       "      <th>2</th>\n",
       "      <td>6XXcElx/4OwCcH4NI06Oiw==</td>\n",
       "      <td>-34.605825</td>\n",
       "      <td>-58.422214</td>\n",
       "      <td>Almagro</td>\n",
       "      <td>Departamento</td>\n",
       "      <td>3.0</td>\n",
       "      <td>2.0</td>\n",
       "      <td>47.0</td>\n",
       "      <td>47.0</td>\n",
       "      <td>89000.0</td>\n",
       "      <td>...</td>\n",
       "      <td>0</td>\n",
       "      <td>0</td>\n",
       "      <td>0</td>\n",
       "      <td>0</td>\n",
       "      <td>0</td>\n",
       "      <td>0</td>\n",
       "      <td>0</td>\n",
       "      <td>0</td>\n",
       "      <td>0</td>\n",
       "      <td>no aplica</td>\n",
       "    </tr>\n",
       "    <tr>\n",
       "      <th>3</th>\n",
       "      <td>8R7hSzqWFk9rX4wBXxfORA==</td>\n",
       "      <td>-34.561971</td>\n",
       "      <td>-58.455670</td>\n",
       "      <td>Belgrano</td>\n",
       "      <td>Departamento</td>\n",
       "      <td>2.0</td>\n",
       "      <td>1.0</td>\n",
       "      <td>52.0</td>\n",
       "      <td>48.0</td>\n",
       "      <td>127000.0</td>\n",
       "      <td>...</td>\n",
       "      <td>0</td>\n",
       "      <td>1</td>\n",
       "      <td>0</td>\n",
       "      <td>0</td>\n",
       "      <td>0</td>\n",
       "      <td>1</td>\n",
       "      <td>0</td>\n",
       "      <td>0</td>\n",
       "      <td>0</td>\n",
       "      <td>medias</td>\n",
       "    </tr>\n",
       "    <tr>\n",
       "      <th>4</th>\n",
       "      <td>UAKYqQx9s0MfIdLzrJv8Ig==</td>\n",
       "      <td>-34.606738</td>\n",
       "      <td>-58.389426</td>\n",
       "      <td>Tribunales</td>\n",
       "      <td>Departamento</td>\n",
       "      <td>3.0</td>\n",
       "      <td>2.0</td>\n",
       "      <td>76.0</td>\n",
       "      <td>75.0</td>\n",
       "      <td>129900.0</td>\n",
       "      <td>...</td>\n",
       "      <td>0</td>\n",
       "      <td>1</td>\n",
       "      <td>0</td>\n",
       "      <td>0</td>\n",
       "      <td>0</td>\n",
       "      <td>0</td>\n",
       "      <td>0</td>\n",
       "      <td>0</td>\n",
       "      <td>0</td>\n",
       "      <td>no aplica</td>\n",
       "    </tr>\n",
       "  </tbody>\n",
       "</table>\n",
       "<p>5 rows × 25 columns</p>\n",
       "</div>"
      ],
      "text/plain": [
       "                         id    latitud   longitud    place_l3 property_type  \\\n",
       "0  F5IvmD1uzzdIR7b96ozt4g== -34.558855 -58.452458       Nuñez  Departamento   \n",
       "1  IiT/P7WfYDcqbhu7tf5V4Q== -34.582403 -58.443841  Colegiales  Departamento   \n",
       "2  6XXcElx/4OwCcH4NI06Oiw== -34.605825 -58.422214     Almagro  Departamento   \n",
       "3  8R7hSzqWFk9rX4wBXxfORA== -34.561971 -58.455670    Belgrano  Departamento   \n",
       "4  UAKYqQx9s0MfIdLzrJv8Ig== -34.606738 -58.389426  Tribunales  Departamento   \n",
       "\n",
       "   property_rooms  property_bedrooms  property_surface_total  \\\n",
       "0             4.0                3.0                   160.0   \n",
       "1             2.0                1.0                    50.0   \n",
       "2             3.0                2.0                    47.0   \n",
       "3             2.0                1.0                    52.0   \n",
       "4             3.0                2.0                    76.0   \n",
       "\n",
       "   property_surface_covered  property_price  ... cochera  balcon hidromasaje  \\\n",
       "0                     146.0        460000.0  ...       1       1           0   \n",
       "1                      46.0        148000.0  ...       1       1           0   \n",
       "2                      47.0         89000.0  ...       0       0           0   \n",
       "3                      48.0        127000.0  ...       0       1           0   \n",
       "4                      75.0        129900.0  ...       0       1           0   \n",
       "\n",
       "  jardin  gimnasio  a_estrenar  sotano  quincho  sum  expensas_tipo  \n",
       "0      0         0           0       0        0    0      no aplica  \n",
       "1      0         0           0       0        0    0      no aplica  \n",
       "2      0         0           0       0        0    0      no aplica  \n",
       "3      0         0           1       0        0    0         medias  \n",
       "4      0         0           0       0        0    0      no aplica  \n",
       "\n",
       "[5 rows x 25 columns]"
      ]
     },
     "execution_count": 188,
     "metadata": {},
     "output_type": "execute_result"
    }
   ],
   "source": [
    "ds_propiedades.head()"
   ]
  },
  {
   "cell_type": "markdown",
   "metadata": {},
   "source": [
    "Ahora ya tenemos creadas las nuevas columnas, vamos a ver si podemos sacar algo de informacion de ellas"
   ]
  },
  {
   "cell_type": "code",
   "execution_count": 189,
   "metadata": {},
   "outputs": [
    {
     "data": {
      "text/plain": [
       "piscina                                                       9729\n",
       "cochera                                                      27031\n",
       "balcon                                                       52839\n",
       "hidromasaje                                                   4047\n",
       "jardin                                                        2688\n",
       "gimnasio                                                      6601\n",
       "a_estrenar                                                    8311\n",
       "sotano                                                          83\n",
       "quincho                                                       3173\n",
       "sum                                                          14847\n",
       "expensas_tipo    no aplicano aplicano aplicamediasno aplicamedi...\n",
       "dtype: object"
      ]
     },
     "execution_count": 189,
     "metadata": {},
     "output_type": "execute_result"
    }
   ],
   "source": [
    "columnas_agregadas = ['piscina', 'cochera', 'balcon', 'hidromasaje', 'jardin', 'gimnasio', 'a_estrenar', 'sotano', 'quincho', 'sum', 'expensas_tipo']\n",
    "\n",
    "ds_propiedades[columnas_agregadas].sum()"
   ]
  },
  {
   "cell_type": "markdown",
   "metadata": {},
   "source": [
    "Podemos ver que Piscina, Cochera, sum y Balcon tienen una gran cantidad de datos por lo que dejarlos realmente puede aportar valor, ahora vamos a analizar los otros uno por uno"
   ]
  },
  {
   "cell_type": "markdown",
   "metadata": {},
   "source": [
    "#### Jardin"
   ]
  },
  {
   "cell_type": "markdown",
   "metadata": {},
   "source": [
    "Siendo que tenemos tan pocos datos no podemos sacar conclusiones acertadas de esto. El jardín representa la superficie descubierta de nuestra propiedad, que ya está en el dataset, por lo tanto sería información redundante, entonces lo sacamos"
   ]
  },
  {
   "cell_type": "markdown",
   "metadata": {},
   "source": [
    "#### Hidromasaje, Gimnasio y Quincho"
   ]
  },
  {
   "cell_type": "markdown",
   "metadata": {},
   "source": [
    "En estos casos tambien vemos que hay pocos, pero con el dominio del problema podemos asumir que son un valor agregado poco frecuente y que aunque tengamos pocos, es muy probable que esten bien y tengan una relacion directa con lo 'premium' que es la propiedad"
   ]
  },
  {
   "cell_type": "markdown",
   "metadata": {},
   "source": [
    "#### A estrenar"
   ]
  },
  {
   "cell_type": "markdown",
   "metadata": {},
   "source": [
    "Este dato tambien es poco frecuente, pero es un gran valor agregado a la propiedad y una de las cosas que mas se tienen en cuenta a la hora de comprar propiedades. Por esto lo dejamos sin lugar a dudas"
   ]
  },
  {
   "cell_type": "markdown",
   "metadata": {},
   "source": [
    "#### Sotano "
   ]
  },
  {
   "cell_type": "markdown",
   "metadata": {},
   "source": [
    "El sotano es un dato que aparece en muy pocas propiedades, e incluso es un poco ambigüo ya que no tiene una descripcion detallada del mismo (puede ser una baulera o una planta completa). Por lo que tambien lo vamos a sacar"
   ]
  },
  {
   "cell_type": "markdown",
   "metadata": {},
   "source": [
    "#### Sacamos las columnas que no mantenemos"
   ]
  },
  {
   "cell_type": "code",
   "execution_count": 190,
   "metadata": {},
   "outputs": [],
   "source": [
    "ds_propiedades.drop(columns=['jardin', 'sotano'], inplace=True)"
   ]
  },
  {
   "cell_type": "markdown",
   "metadata": {},
   "source": [
    "## Dataset final"
   ]
  },
  {
   "cell_type": "code",
   "execution_count": 191,
   "metadata": {},
   "outputs": [],
   "source": [
    "ds_propiedades_columnas_generadas = ds_propiedades.copy()"
   ]
  },
  {
   "cell_type": "code",
   "execution_count": 192,
   "metadata": {},
   "outputs": [],
   "source": [
    "ds_propiedades = ds_propiedades_columnas_generadas.copy()"
   ]
  },
  {
   "cell_type": "code",
   "execution_count": 193,
   "metadata": {},
   "outputs": [
    {
     "name": "stdout",
     "output_type": "stream",
     "text": [
      "<class 'pandas.core.frame.DataFrame'>\n",
      "RangeIndex: 85693 entries, 0 to 85692\n",
      "Data columns (total 23 columns):\n",
      " #   Column                    Non-Null Count  Dtype  \n",
      "---  ------                    --------------  -----  \n",
      " 0   id                        85693 non-null  object \n",
      " 1   latitud                   85693 non-null  float64\n",
      " 2   longitud                  85693 non-null  float64\n",
      " 3   place_l3                  85693 non-null  object \n",
      " 4   property_type             85693 non-null  object \n",
      " 5   property_rooms            85693 non-null  float64\n",
      " 6   property_bedrooms         85693 non-null  float64\n",
      " 7   property_surface_total    85693 non-null  float64\n",
      " 8   property_surface_covered  85693 non-null  float64\n",
      " 9   property_price            85693 non-null  float64\n",
      " 10  property_title            85693 non-null  object \n",
      " 11  pxm2                      85693 non-null  float64\n",
      " 12  tipo_precio               85693 non-null  object \n",
      " 13  property_description      85693 non-null  object \n",
      " 14  piscina                   85693 non-null  int64  \n",
      " 15  cochera                   85693 non-null  int64  \n",
      " 16  balcon                    85693 non-null  int64  \n",
      " 17  hidromasaje               85693 non-null  int64  \n",
      " 18  gimnasio                  85693 non-null  int64  \n",
      " 19  a_estrenar                85693 non-null  int64  \n",
      " 20  quincho                   85693 non-null  int64  \n",
      " 21  sum                       85693 non-null  int64  \n",
      " 22  expensas_tipo             85693 non-null  object \n",
      "dtypes: float64(8), int64(8), object(7)\n",
      "memory usage: 15.0+ MB\n"
     ]
    }
   ],
   "source": [
    "ds_propiedades.info()"
   ]
  },
  {
   "cell_type": "markdown",
   "metadata": {},
   "source": [
    "## 1b) Entranamiento XGBoost"
   ]
  },
  {
   "cell_type": "code",
   "execution_count": 194,
   "metadata": {},
   "outputs": [
    {
     "data": {
      "text/html": [
       "<div>\n",
       "<style scoped>\n",
       "    .dataframe tbody tr th:only-of-type {\n",
       "        vertical-align: middle;\n",
       "    }\n",
       "\n",
       "    .dataframe tbody tr th {\n",
       "        vertical-align: top;\n",
       "    }\n",
       "\n",
       "    .dataframe thead th {\n",
       "        text-align: right;\n",
       "    }\n",
       "</style>\n",
       "<table border=\"1\" class=\"dataframe\">\n",
       "  <thead>\n",
       "    <tr style=\"text-align: right;\">\n",
       "      <th></th>\n",
       "      <th>id</th>\n",
       "      <th>latitud</th>\n",
       "      <th>longitud</th>\n",
       "      <th>place_l3</th>\n",
       "      <th>property_type</th>\n",
       "      <th>property_rooms</th>\n",
       "      <th>property_bedrooms</th>\n",
       "      <th>property_surface_total</th>\n",
       "      <th>property_surface_covered</th>\n",
       "      <th>property_price</th>\n",
       "      <th>...</th>\n",
       "      <th>property_description</th>\n",
       "      <th>piscina</th>\n",
       "      <th>cochera</th>\n",
       "      <th>balcon</th>\n",
       "      <th>hidromasaje</th>\n",
       "      <th>gimnasio</th>\n",
       "      <th>a_estrenar</th>\n",
       "      <th>quincho</th>\n",
       "      <th>sum</th>\n",
       "      <th>expensas_tipo</th>\n",
       "    </tr>\n",
       "  </thead>\n",
       "  <tbody>\n",
       "    <tr>\n",
       "      <th>0</th>\n",
       "      <td>F5IvmD1uzzdIR7b96ozt4g==</td>\n",
       "      <td>-34.558855</td>\n",
       "      <td>-58.452458</td>\n",
       "      <td>Nuñez</td>\n",
       "      <td>Departamento</td>\n",
       "      <td>4.0</td>\n",
       "      <td>3.0</td>\n",
       "      <td>160.0</td>\n",
       "      <td>146.0</td>\n",
       "      <td>460000.0</td>\n",
       "      <td>...</td>\n",
       "      <td>Hermoso piso de 4 ambientes con dependencia y ...</td>\n",
       "      <td>0</td>\n",
       "      <td>1</td>\n",
       "      <td>1</td>\n",
       "      <td>0</td>\n",
       "      <td>0</td>\n",
       "      <td>0</td>\n",
       "      <td>0</td>\n",
       "      <td>0</td>\n",
       "      <td>no aplica</td>\n",
       "    </tr>\n",
       "    <tr>\n",
       "      <th>1</th>\n",
       "      <td>IiT/P7WfYDcqbhu7tf5V4Q==</td>\n",
       "      <td>-34.582403</td>\n",
       "      <td>-58.443841</td>\n",
       "      <td>Colegiales</td>\n",
       "      <td>Departamento</td>\n",
       "      <td>2.0</td>\n",
       "      <td>1.0</td>\n",
       "      <td>50.0</td>\n",
       "      <td>46.0</td>\n",
       "      <td>148000.0</td>\n",
       "      <td>...</td>\n",
       "      <td>2 ambientes con balcón y vista totalmente abie...</td>\n",
       "      <td>0</td>\n",
       "      <td>1</td>\n",
       "      <td>1</td>\n",
       "      <td>0</td>\n",
       "      <td>0</td>\n",
       "      <td>0</td>\n",
       "      <td>0</td>\n",
       "      <td>0</td>\n",
       "      <td>no aplica</td>\n",
       "    </tr>\n",
       "    <tr>\n",
       "      <th>2</th>\n",
       "      <td>6XXcElx/4OwCcH4NI06Oiw==</td>\n",
       "      <td>-34.605825</td>\n",
       "      <td>-58.422214</td>\n",
       "      <td>Almagro</td>\n",
       "      <td>Departamento</td>\n",
       "      <td>3.0</td>\n",
       "      <td>2.0</td>\n",
       "      <td>47.0</td>\n",
       "      <td>47.0</td>\n",
       "      <td>89000.0</td>\n",
       "      <td>...</td>\n",
       "      <td>**DIAZ VELEZ 4291 Y PRINGLES** Almagro.&lt;br&gt;&lt;br...</td>\n",
       "      <td>0</td>\n",
       "      <td>0</td>\n",
       "      <td>0</td>\n",
       "      <td>0</td>\n",
       "      <td>0</td>\n",
       "      <td>0</td>\n",
       "      <td>0</td>\n",
       "      <td>0</td>\n",
       "      <td>no aplica</td>\n",
       "    </tr>\n",
       "    <tr>\n",
       "      <th>3</th>\n",
       "      <td>8R7hSzqWFk9rX4wBXxfORA==</td>\n",
       "      <td>-34.561971</td>\n",
       "      <td>-58.455670</td>\n",
       "      <td>Belgrano</td>\n",
       "      <td>Departamento</td>\n",
       "      <td>2.0</td>\n",
       "      <td>1.0</td>\n",
       "      <td>52.0</td>\n",
       "      <td>48.0</td>\n",
       "      <td>127000.0</td>\n",
       "      <td>...</td>\n",
       "      <td>IMPECABLE 2 AMBIENTES A ESTRENAR!&lt;...</td>\n",
       "      <td>0</td>\n",
       "      <td>0</td>\n",
       "      <td>1</td>\n",
       "      <td>0</td>\n",
       "      <td>0</td>\n",
       "      <td>1</td>\n",
       "      <td>0</td>\n",
       "      <td>0</td>\n",
       "      <td>medias</td>\n",
       "    </tr>\n",
       "    <tr>\n",
       "      <th>4</th>\n",
       "      <td>UAKYqQx9s0MfIdLzrJv8Ig==</td>\n",
       "      <td>-34.606738</td>\n",
       "      <td>-58.389426</td>\n",
       "      <td>Tribunales</td>\n",
       "      <td>Departamento</td>\n",
       "      <td>3.0</td>\n",
       "      <td>2.0</td>\n",
       "      <td>76.0</td>\n",
       "      <td>75.0</td>\n",
       "      <td>129900.0</td>\n",
       "      <td>...</td>\n",
       "      <td>Excelente piso antiguo, lindísimo por sus tech...</td>\n",
       "      <td>0</td>\n",
       "      <td>0</td>\n",
       "      <td>1</td>\n",
       "      <td>0</td>\n",
       "      <td>0</td>\n",
       "      <td>0</td>\n",
       "      <td>0</td>\n",
       "      <td>0</td>\n",
       "      <td>no aplica</td>\n",
       "    </tr>\n",
       "  </tbody>\n",
       "</table>\n",
       "<p>5 rows × 23 columns</p>\n",
       "</div>"
      ],
      "text/plain": [
       "                         id    latitud   longitud    place_l3 property_type  \\\n",
       "0  F5IvmD1uzzdIR7b96ozt4g== -34.558855 -58.452458       Nuñez  Departamento   \n",
       "1  IiT/P7WfYDcqbhu7tf5V4Q== -34.582403 -58.443841  Colegiales  Departamento   \n",
       "2  6XXcElx/4OwCcH4NI06Oiw== -34.605825 -58.422214     Almagro  Departamento   \n",
       "3  8R7hSzqWFk9rX4wBXxfORA== -34.561971 -58.455670    Belgrano  Departamento   \n",
       "4  UAKYqQx9s0MfIdLzrJv8Ig== -34.606738 -58.389426  Tribunales  Departamento   \n",
       "\n",
       "   property_rooms  property_bedrooms  property_surface_total  \\\n",
       "0             4.0                3.0                   160.0   \n",
       "1             2.0                1.0                    50.0   \n",
       "2             3.0                2.0                    47.0   \n",
       "3             2.0                1.0                    52.0   \n",
       "4             3.0                2.0                    76.0   \n",
       "\n",
       "   property_surface_covered  property_price  ...  \\\n",
       "0                     146.0        460000.0  ...   \n",
       "1                      46.0        148000.0  ...   \n",
       "2                      47.0         89000.0  ...   \n",
       "3                      48.0        127000.0  ...   \n",
       "4                      75.0        129900.0  ...   \n",
       "\n",
       "                                property_description  piscina cochera balcon  \\\n",
       "0  Hermoso piso de 4 ambientes con dependencia y ...        0       1      1   \n",
       "1  2 ambientes con balcón y vista totalmente abie...        0       1      1   \n",
       "2  **DIAZ VELEZ 4291 Y PRINGLES** Almagro.<br><br...        0       0      0   \n",
       "3              IMPECABLE 2 AMBIENTES A ESTRENAR!<...        0       0      1   \n",
       "4  Excelente piso antiguo, lindísimo por sus tech...        0       0      1   \n",
       "\n",
       "   hidromasaje  gimnasio  a_estrenar  quincho  sum  expensas_tipo  \n",
       "0            0         0           0        0    0      no aplica  \n",
       "1            0         0           0        0    0      no aplica  \n",
       "2            0         0           0        0    0      no aplica  \n",
       "3            0         0           1        0    0         medias  \n",
       "4            0         0           0        0    0      no aplica  \n",
       "\n",
       "[5 rows x 23 columns]"
      ]
     },
     "execution_count": 194,
     "metadata": {},
     "output_type": "execute_result"
    }
   ],
   "source": [
    "ds_propiedades.head()"
   ]
  },
  {
   "cell_type": "markdown",
   "metadata": {},
   "source": [
    "Separamos en columnas dummies para property_type, place_l3 y expensas_tipo"
   ]
  },
  {
   "cell_type": "code",
   "execution_count": 195,
   "metadata": {},
   "outputs": [],
   "source": [
    "ds_propiedades = pd.get_dummies(ds_propiedades, columns=['property_type', 'place_l3', 'expensas_tipo'])"
   ]
  },
  {
   "cell_type": "code",
   "execution_count": 196,
   "metadata": {},
   "outputs": [],
   "source": [
    "ds_propiedades.drop(columns=['property_description', 'property_title', 'id', 'tipo_precio', 'pxm2'], inplace=True)"
   ]
  },
  {
   "cell_type": "code",
   "execution_count": 197,
   "metadata": {},
   "outputs": [
    {
     "data": {
      "text/html": [
       "<div>\n",
       "<style scoped>\n",
       "    .dataframe tbody tr th:only-of-type {\n",
       "        vertical-align: middle;\n",
       "    }\n",
       "\n",
       "    .dataframe tbody tr th {\n",
       "        vertical-align: top;\n",
       "    }\n",
       "\n",
       "    .dataframe thead th {\n",
       "        text-align: right;\n",
       "    }\n",
       "</style>\n",
       "<table border=\"1\" class=\"dataframe\">\n",
       "  <thead>\n",
       "    <tr style=\"text-align: right;\">\n",
       "      <th></th>\n",
       "      <th>latitud</th>\n",
       "      <th>longitud</th>\n",
       "      <th>property_rooms</th>\n",
       "      <th>property_bedrooms</th>\n",
       "      <th>property_surface_total</th>\n",
       "      <th>property_surface_covered</th>\n",
       "      <th>property_price</th>\n",
       "      <th>piscina</th>\n",
       "      <th>cochera</th>\n",
       "      <th>balcon</th>\n",
       "      <th>...</th>\n",
       "      <th>place_l3_Villa Riachuelo</th>\n",
       "      <th>place_l3_Villa Santa Rita</th>\n",
       "      <th>place_l3_Villa Soldati</th>\n",
       "      <th>place_l3_Villa Urquiza</th>\n",
       "      <th>place_l3_Villa del Parque</th>\n",
       "      <th>expensas_tipo_altas</th>\n",
       "      <th>expensas_tipo_bajas</th>\n",
       "      <th>expensas_tipo_medias</th>\n",
       "      <th>expensas_tipo_no aplica</th>\n",
       "      <th>expensas_tipo_sin</th>\n",
       "    </tr>\n",
       "  </thead>\n",
       "  <tbody>\n",
       "    <tr>\n",
       "      <th>0</th>\n",
       "      <td>-34.558855</td>\n",
       "      <td>-58.452458</td>\n",
       "      <td>4.0</td>\n",
       "      <td>3.0</td>\n",
       "      <td>160.0</td>\n",
       "      <td>146.0</td>\n",
       "      <td>460000.0</td>\n",
       "      <td>0</td>\n",
       "      <td>1</td>\n",
       "      <td>1</td>\n",
       "      <td>...</td>\n",
       "      <td>0</td>\n",
       "      <td>0</td>\n",
       "      <td>0</td>\n",
       "      <td>0</td>\n",
       "      <td>0</td>\n",
       "      <td>0</td>\n",
       "      <td>0</td>\n",
       "      <td>0</td>\n",
       "      <td>1</td>\n",
       "      <td>0</td>\n",
       "    </tr>\n",
       "    <tr>\n",
       "      <th>1</th>\n",
       "      <td>-34.582403</td>\n",
       "      <td>-58.443841</td>\n",
       "      <td>2.0</td>\n",
       "      <td>1.0</td>\n",
       "      <td>50.0</td>\n",
       "      <td>46.0</td>\n",
       "      <td>148000.0</td>\n",
       "      <td>0</td>\n",
       "      <td>1</td>\n",
       "      <td>1</td>\n",
       "      <td>...</td>\n",
       "      <td>0</td>\n",
       "      <td>0</td>\n",
       "      <td>0</td>\n",
       "      <td>0</td>\n",
       "      <td>0</td>\n",
       "      <td>0</td>\n",
       "      <td>0</td>\n",
       "      <td>0</td>\n",
       "      <td>1</td>\n",
       "      <td>0</td>\n",
       "    </tr>\n",
       "    <tr>\n",
       "      <th>2</th>\n",
       "      <td>-34.605825</td>\n",
       "      <td>-58.422214</td>\n",
       "      <td>3.0</td>\n",
       "      <td>2.0</td>\n",
       "      <td>47.0</td>\n",
       "      <td>47.0</td>\n",
       "      <td>89000.0</td>\n",
       "      <td>0</td>\n",
       "      <td>0</td>\n",
       "      <td>0</td>\n",
       "      <td>...</td>\n",
       "      <td>0</td>\n",
       "      <td>0</td>\n",
       "      <td>0</td>\n",
       "      <td>0</td>\n",
       "      <td>0</td>\n",
       "      <td>0</td>\n",
       "      <td>0</td>\n",
       "      <td>0</td>\n",
       "      <td>1</td>\n",
       "      <td>0</td>\n",
       "    </tr>\n",
       "    <tr>\n",
       "      <th>3</th>\n",
       "      <td>-34.561971</td>\n",
       "      <td>-58.455670</td>\n",
       "      <td>2.0</td>\n",
       "      <td>1.0</td>\n",
       "      <td>52.0</td>\n",
       "      <td>48.0</td>\n",
       "      <td>127000.0</td>\n",
       "      <td>0</td>\n",
       "      <td>0</td>\n",
       "      <td>1</td>\n",
       "      <td>...</td>\n",
       "      <td>0</td>\n",
       "      <td>0</td>\n",
       "      <td>0</td>\n",
       "      <td>0</td>\n",
       "      <td>0</td>\n",
       "      <td>0</td>\n",
       "      <td>0</td>\n",
       "      <td>1</td>\n",
       "      <td>0</td>\n",
       "      <td>0</td>\n",
       "    </tr>\n",
       "    <tr>\n",
       "      <th>4</th>\n",
       "      <td>-34.606738</td>\n",
       "      <td>-58.389426</td>\n",
       "      <td>3.0</td>\n",
       "      <td>2.0</td>\n",
       "      <td>76.0</td>\n",
       "      <td>75.0</td>\n",
       "      <td>129900.0</td>\n",
       "      <td>0</td>\n",
       "      <td>0</td>\n",
       "      <td>1</td>\n",
       "      <td>...</td>\n",
       "      <td>0</td>\n",
       "      <td>0</td>\n",
       "      <td>0</td>\n",
       "      <td>0</td>\n",
       "      <td>0</td>\n",
       "      <td>0</td>\n",
       "      <td>0</td>\n",
       "      <td>0</td>\n",
       "      <td>1</td>\n",
       "      <td>0</td>\n",
       "    </tr>\n",
       "  </tbody>\n",
       "</table>\n",
       "<p>5 rows × 80 columns</p>\n",
       "</div>"
      ],
      "text/plain": [
       "     latitud   longitud  property_rooms  property_bedrooms  \\\n",
       "0 -34.558855 -58.452458             4.0                3.0   \n",
       "1 -34.582403 -58.443841             2.0                1.0   \n",
       "2 -34.605825 -58.422214             3.0                2.0   \n",
       "3 -34.561971 -58.455670             2.0                1.0   \n",
       "4 -34.606738 -58.389426             3.0                2.0   \n",
       "\n",
       "   property_surface_total  property_surface_covered  property_price  piscina  \\\n",
       "0                   160.0                     146.0        460000.0        0   \n",
       "1                    50.0                      46.0        148000.0        0   \n",
       "2                    47.0                      47.0         89000.0        0   \n",
       "3                    52.0                      48.0        127000.0        0   \n",
       "4                    76.0                      75.0        129900.0        0   \n",
       "\n",
       "   cochera  balcon  ...  place_l3_Villa Riachuelo  place_l3_Villa Santa Rita  \\\n",
       "0        1       1  ...                         0                          0   \n",
       "1        1       1  ...                         0                          0   \n",
       "2        0       0  ...                         0                          0   \n",
       "3        0       1  ...                         0                          0   \n",
       "4        0       1  ...                         0                          0   \n",
       "\n",
       "   place_l3_Villa Soldati  place_l3_Villa Urquiza  place_l3_Villa del Parque  \\\n",
       "0                       0                       0                          0   \n",
       "1                       0                       0                          0   \n",
       "2                       0                       0                          0   \n",
       "3                       0                       0                          0   \n",
       "4                       0                       0                          0   \n",
       "\n",
       "   expensas_tipo_altas  expensas_tipo_bajas  expensas_tipo_medias  \\\n",
       "0                    0                    0                     0   \n",
       "1                    0                    0                     0   \n",
       "2                    0                    0                     0   \n",
       "3                    0                    0                     1   \n",
       "4                    0                    0                     0   \n",
       "\n",
       "   expensas_tipo_no aplica  expensas_tipo_sin  \n",
       "0                        1                  0  \n",
       "1                        1                  0  \n",
       "2                        1                  0  \n",
       "3                        0                  0  \n",
       "4                        1                  0  \n",
       "\n",
       "[5 rows x 80 columns]"
      ]
     },
     "execution_count": 197,
     "metadata": {},
     "output_type": "execute_result"
    }
   ],
   "source": [
    "ds_propiedades.head()"
   ]
  },
  {
   "cell_type": "code",
   "execution_count": 200,
   "metadata": {},
   "outputs": [],
   "source": [
    "from sklearn.model_selection import train_test_split\n",
    "from sklearn import metrics\n",
    "import xgboost as xgb\n",
    "\n",
    "x_train, x_test, y_train, y_test = train_test_split(ds_propiedades, ds_propiedades['property_price'], test_size=0.20, random_state=1)\n",
    "x_train.drop(columns=['property_price'], inplace=True)\n",
    "x_test.drop(columns=['property_price'], inplace=True)"
   ]
  },
  {
   "cell_type": "markdown",
   "metadata": {},
   "source": [
    "### Modelo inicial sin optimizar (con los hiperparametros del TP1)"
   ]
  },
  {
   "cell_type": "markdown",
   "metadata": {},
   "source": [
    "En el tp1 hicimos una optimizacion de hiperparametros con StratifiedKFold pero no logramos mejoria, por lo que los hiperparametros son los default del modelo"
   ]
  },
  {
   "cell_type": "code",
   "execution_count": 202,
   "metadata": {},
   "outputs": [],
   "source": [
    "xgb_model = xgb.XGBRegressor(objective = 'reg:squarederror', random_state=1)"
   ]
  },
  {
   "cell_type": "code",
   "execution_count": 203,
   "metadata": {},
   "outputs": [],
   "source": [
    "xgb_model.fit(x_train, y_train)\n",
    "\n",
    "y_pred = xgb_model.predict(x_test)"
   ]
  },
  {
   "cell_type": "code",
   "execution_count": 204,
   "metadata": {},
   "outputs": [
    {
     "data": {
      "text/html": [
       "<div>\n",
       "<style scoped>\n",
       "    .dataframe tbody tr th:only-of-type {\n",
       "        vertical-align: middle;\n",
       "    }\n",
       "\n",
       "    .dataframe tbody tr th {\n",
       "        vertical-align: top;\n",
       "    }\n",
       "\n",
       "    .dataframe thead th {\n",
       "        text-align: right;\n",
       "    }\n",
       "</style>\n",
       "<table border=\"1\" class=\"dataframe\">\n",
       "  <thead>\n",
       "    <tr style=\"text-align: right;\">\n",
       "      <th></th>\n",
       "      <th>Valor Real</th>\n",
       "      <th>Prediccion</th>\n",
       "      <th>Error</th>\n",
       "    </tr>\n",
       "  </thead>\n",
       "  <tbody>\n",
       "    <tr>\n",
       "      <th>11387</th>\n",
       "      <td>170000.0</td>\n",
       "      <td>183790.640625</td>\n",
       "      <td>-13790.640625</td>\n",
       "    </tr>\n",
       "    <tr>\n",
       "      <th>78283</th>\n",
       "      <td>360000.0</td>\n",
       "      <td>301092.062500</td>\n",
       "      <td>58907.937500</td>\n",
       "    </tr>\n",
       "    <tr>\n",
       "      <th>15574</th>\n",
       "      <td>280000.0</td>\n",
       "      <td>282107.937500</td>\n",
       "      <td>-2107.937500</td>\n",
       "    </tr>\n",
       "    <tr>\n",
       "      <th>17122</th>\n",
       "      <td>129000.0</td>\n",
       "      <td>146419.031250</td>\n",
       "      <td>-17419.031250</td>\n",
       "    </tr>\n",
       "    <tr>\n",
       "      <th>8069</th>\n",
       "      <td>260000.0</td>\n",
       "      <td>266423.500000</td>\n",
       "      <td>-6423.500000</td>\n",
       "    </tr>\n",
       "  </tbody>\n",
       "</table>\n",
       "</div>"
      ],
      "text/plain": [
       "       Valor Real     Prediccion         Error\n",
       "11387    170000.0  183790.640625 -13790.640625\n",
       "78283    360000.0  301092.062500  58907.937500\n",
       "15574    280000.0  282107.937500  -2107.937500\n",
       "17122    129000.0  146419.031250 -17419.031250\n",
       "8069     260000.0  266423.500000  -6423.500000"
      ]
     },
     "execution_count": 204,
     "metadata": {},
     "output_type": "execute_result"
    }
   ],
   "source": [
    "performance = pd.DataFrame({'Valor Real': y_test,\n",
    "                            'Prediccion': y_pred,\n",
    "                            'Error': y_test - y_pred})\n",
    "\n",
    "performance.head()"
   ]
  },
  {
   "cell_type": "code",
   "execution_count": 205,
   "metadata": {},
   "outputs": [
    {
     "name": "stdout",
     "output_type": "stream",
     "text": [
      "El error (mse) de test es: 1473587857.3848019\n",
      "El error (rmse) de test es: 38387.33980604546\n",
      "El error (rmse) de test relativo es: 22.62140499622676%\n"
     ]
    }
   ],
   "source": [
    "mse = metrics.mean_squared_error(\n",
    "        y_true  = y_test,\n",
    "        y_pred  = y_pred,\n",
    "        squared = True\n",
    "         )\n",
    "\n",
    "print(f\"El error (mse) de test es: {mse}\")\n",
    "\n",
    "rmse = metrics.mean_squared_error(\n",
    "        y_true  = y_test,\n",
    "        y_pred  = y_pred,\n",
    "        squared = False\n",
    "         )\n",
    "\n",
    "print(f\"El error (rmse) de test es: {rmse}\")  \n",
    "print(f\"El error (rmse) de test relativo es: {rmse / y_test.mean() * 100}%\")"
   ]
  },
  {
   "cell_type": "code",
   "execution_count": 206,
   "metadata": {},
   "outputs": [
    {
     "name": "stdout",
     "output_type": "stream",
     "text": [
      "El coeficiente de Determinación R2 en train es: 0.9232276232123919\n",
      "El coeficiente de Determinación R2 en test es: 0.89301154705351\n"
     ]
    }
   ],
   "source": [
    "score_xgb_train = xgb_model.score(x_train, y_train)\n",
    "score_xgb_test = xgb_model.score(x_test, y_test)\n",
    "print(f\"El coeficiente de Determinación R2 en train es: {score_xgb_train}\")\n",
    "print(f\"El coeficiente de Determinación R2 en test es: {score_xgb_test}\")"
   ]
  },
  {
   "cell_type": "markdown",
   "metadata": {},
   "source": [
    "Viendo la comparacion directa contra el mismo modelo en el TP1, podemos ver que el modelo mejoro bastante con los nuevos datos que generamos.\n",
    "\n",
    "El error (mse) de test pasa de 1907948928.924305 -> 1473587857.3848019\n",
    "\n",
    "El error (rmse) de test pasa de 43680.074735791204 -> 38387.33980604546  (12,1% mejor)\n",
    "\n",
    "El R2 en train pasa de 0.8918109411819658 -> 0.9232276232123919 \n",
    "\n",
    "El R2 en test pasa de 0.860060265420469 -> 0.89301154705351\n",
    "\n",
    "\n",
    "Esto demuestra que las variables que generamos a partir de las descripciones son muy utiles para el modelo, y que el modelo mejora bastante con ellas."
   ]
  },
  {
   "cell_type": "markdown",
   "metadata": {},
   "source": [
    "### Probamos optimizar los hiperparametros"
   ]
  },
  {
   "cell_type": "code",
   "execution_count": 207,
   "metadata": {},
   "outputs": [
    {
     "name": "stderr",
     "output_type": "stream",
     "text": [
      "c:\\Users\\f1203\\AppData\\Local\\Programs\\Python\\Python39\\lib\\site-packages\\sklearn\\model_selection\\_split.py:684: UserWarning: The least populated class in y has only 1 members, which is less than n_splits=5.\n",
      "  warnings.warn(\n"
     ]
    }
   ],
   "source": [
    "import xgboost as xgb\n",
    "from sklearn.model_selection import StratifiedKFold\n",
    "from sklearn.model_selection import RandomizedSearchCV\n",
    "from sklearn.metrics import make_scorer, r2_score\n",
    "\n",
    "\n",
    "xgb_cv = xgb.XGBRegressor(objective = 'reg:squarederror', random_state=2)\n",
    "\n",
    "n=10\n",
    "\n",
    "#xgb param grid\n",
    "xgb_param_grid = {\n",
    "    'n_estimators': [50, 100],\n",
    "    'learning_rate': [0.1, 0.3],\n",
    "    'max_depth': [3, 7],\n",
    "    'gamma': [0.3, 0.4],\n",
    "}\n",
    "\n",
    "folds=5\n",
    "kfoldcv = StratifiedKFold(n_splits=folds, random_state=10,shuffle=True)\n",
    "\n",
    "scorer_fn = make_scorer(r2_score)\n",
    "\n",
    "random_search_cv = RandomizedSearchCV(estimator=xgb_cv,\n",
    "                              param_distributions = xgb_param_grid,\n",
    "                              scoring='neg_mean_squared_error',\n",
    "                              cv=kfoldcv,\n",
    "                              n_iter=n,\n",
    "                              random_state=10) \n",
    "\n",
    "random_fit = random_search_cv.fit(x_train[['property_rooms']], y_train)"
   ]
  },
  {
   "cell_type": "code",
   "execution_count": 208,
   "metadata": {},
   "outputs": [
    {
     "name": "stdout",
     "output_type": "stream",
     "text": [
      "{'n_estimators': 100, 'max_depth': 7, 'learning_rate': 0.1, 'gamma': 0.3}\n"
     ]
    }
   ],
   "source": [
    "print(random_fit.best_params_)"
   ]
  },
  {
   "cell_type": "code",
   "execution_count": 209,
   "metadata": {},
   "outputs": [],
   "source": [
    "parametros = random_fit.best_params_\n",
    "\n",
    "xgb_model = xgb.XGBRegressor(learning_rate=parametros['learning_rate'], n_estimators=parametros['n_estimators'], gamma=parametros['gamma'], max_depth = parametros['max_depth'], random_state=1)\n",
    "\n",
    "model = xgb_model.fit(X = x_train, y = y_train) \n",
    "\n",
    "y_pred = model.predict(x_test)"
   ]
  },
  {
   "cell_type": "code",
   "execution_count": 210,
   "metadata": {},
   "outputs": [
    {
     "data": {
      "text/html": [
       "<div>\n",
       "<style scoped>\n",
       "    .dataframe tbody tr th:only-of-type {\n",
       "        vertical-align: middle;\n",
       "    }\n",
       "\n",
       "    .dataframe tbody tr th {\n",
       "        vertical-align: top;\n",
       "    }\n",
       "\n",
       "    .dataframe thead th {\n",
       "        text-align: right;\n",
       "    }\n",
       "</style>\n",
       "<table border=\"1\" class=\"dataframe\">\n",
       "  <thead>\n",
       "    <tr style=\"text-align: right;\">\n",
       "      <th></th>\n",
       "      <th>Valor Real</th>\n",
       "      <th>Prediccion</th>\n",
       "      <th>Error</th>\n",
       "    </tr>\n",
       "  </thead>\n",
       "  <tbody>\n",
       "    <tr>\n",
       "      <th>11387</th>\n",
       "      <td>170000.0</td>\n",
       "      <td>170586.296875</td>\n",
       "      <td>-586.296875</td>\n",
       "    </tr>\n",
       "    <tr>\n",
       "      <th>78283</th>\n",
       "      <td>360000.0</td>\n",
       "      <td>284469.843750</td>\n",
       "      <td>75530.156250</td>\n",
       "    </tr>\n",
       "    <tr>\n",
       "      <th>15574</th>\n",
       "      <td>280000.0</td>\n",
       "      <td>264595.593750</td>\n",
       "      <td>15404.406250</td>\n",
       "    </tr>\n",
       "    <tr>\n",
       "      <th>17122</th>\n",
       "      <td>129000.0</td>\n",
       "      <td>145836.109375</td>\n",
       "      <td>-16836.109375</td>\n",
       "    </tr>\n",
       "    <tr>\n",
       "      <th>8069</th>\n",
       "      <td>260000.0</td>\n",
       "      <td>258944.703125</td>\n",
       "      <td>1055.296875</td>\n",
       "    </tr>\n",
       "  </tbody>\n",
       "</table>\n",
       "</div>"
      ],
      "text/plain": [
       "       Valor Real     Prediccion         Error\n",
       "11387    170000.0  170586.296875   -586.296875\n",
       "78283    360000.0  284469.843750  75530.156250\n",
       "15574    280000.0  264595.593750  15404.406250\n",
       "17122    129000.0  145836.109375 -16836.109375\n",
       "8069     260000.0  258944.703125   1055.296875"
      ]
     },
     "execution_count": 210,
     "metadata": {},
     "output_type": "execute_result"
    }
   ],
   "source": [
    "performance = pd.DataFrame({'Valor Real': y_test,\n",
    "                            'Prediccion': y_pred,\n",
    "                            'Error': y_test - y_pred})\n",
    "\n",
    "\n",
    "performance.head()"
   ]
  },
  {
   "cell_type": "code",
   "execution_count": 211,
   "metadata": {},
   "outputs": [
    {
     "name": "stdout",
     "output_type": "stream",
     "text": [
      "El error (mse) de test es: 1515631827.2171123\n",
      "El error (rmse) de test es: 38931.11643938705\n",
      "El error (rmse) de test relativo es: 22.941848963234023%\n"
     ]
    }
   ],
   "source": [
    "mse = metrics.mean_squared_error(\n",
    "        y_true  = y_test,\n",
    "        y_pred  = y_pred,\n",
    "        squared = True\n",
    "         )\n",
    "\n",
    "print(f\"El error (mse) de test es: {mse}\")\n",
    "\n",
    "rmse = metrics.mean_squared_error(\n",
    "        y_true  = y_test,\n",
    "        y_pred  = y_pred,\n",
    "        squared = False\n",
    "         )\n",
    "\n",
    "print(f\"El error (rmse) de test es: {rmse}\")  \n",
    "print(f\"El error (rmse) de test relativo es: {rmse / y_test.mean() * 100}%\")"
   ]
  },
  {
   "cell_type": "code",
   "execution_count": 212,
   "metadata": {},
   "outputs": [
    {
     "name": "stdout",
     "output_type": "stream",
     "text": [
      "El coeficiente de Determinación R2 en train es: 0.9123206582983798\n",
      "El coeficiente de Determinación R2 en test es: 0.8899589843810198\n"
     ]
    }
   ],
   "source": [
    "#Coef. de Determinación R2\n",
    "score_xgb_train = xgb_model.score(x_train, y_train)\n",
    "score_xgb_test = xgb_model.score(x_test, y_test)\n",
    "print(f\"El coeficiente de Determinación R2 en train es: {score_xgb_train}\")\n",
    "print(f\"El coeficiente de Determinación R2 en test es: {score_xgb_test}\")"
   ]
  },
  {
   "cell_type": "markdown",
   "metadata": {},
   "source": [
    "La busqueda de hiperparametros encuentra una configuracion con un resultado similar al modelo inicial, pero con un tiempo de entrenamiento mucho mayor. Por esto mantenemos el modelo inicial."
   ]
  }
 ],
 "metadata": {
  "kernelspec": {
   "display_name": "Python 3.9.4 64-bit",
   "language": "python",
   "name": "python3"
  },
  "language_info": {
   "codemirror_mode": {
    "name": "ipython",
    "version": 3
   },
   "file_extension": ".py",
   "mimetype": "text/x-python",
   "name": "python",
   "nbconvert_exporter": "python",
   "pygments_lexer": "ipython3",
   "version": "3.9.4"
  },
  "orig_nbformat": 4,
  "vscode": {
   "interpreter": {
    "hash": "7f4a15ff2f44984e13dece915706825d939d43b72acdbdb51dc478f779138d1d"
   }
  }
 },
 "nbformat": 4,
 "nbformat_minor": 2
}
