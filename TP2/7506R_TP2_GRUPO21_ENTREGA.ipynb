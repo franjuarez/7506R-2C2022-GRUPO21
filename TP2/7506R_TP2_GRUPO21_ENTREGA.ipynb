{
 "cells": [
  {
   "cell_type": "markdown",
   "metadata": {},
   "source": [
    "# <center>Organizaci&oacute;n de Datos</center>\n",
    "## <center>Trabajo Práctico 2 </center>\n",
    "\n",
    "## <center>Grupo 21</center>\n",
    "\n",
    "#### Integrantes: Francisco Juárez, Lucas Aldazabal, Valentin Schneider, Gonzalo Rizzo Ehrenbock"
   ]
  },
  {
   "cell_type": "markdown",
   "metadata": {},
   "source": [
    "# <center> Procesamiento del Lenguaje Natural <center/> "
   ]
  },
  {
   "cell_type": "code",
   "execution_count": 67,
   "metadata": {},
   "outputs": [],
   "source": [
    "import pandas as pd\n",
    "import numpy as np\n",
    "import matplotlib.pyplot as plt\n",
    "import seaborn as sns\n",
    "import warnings\n",
    "warnings.simplefilter(action='ignore', category=FutureWarning)\n",
    "\n",
    "sns.set_theme(style=\"whitegrid\")"
   ]
  },
  {
   "cell_type": "code",
   "execution_count": 68,
   "metadata": {},
   "outputs": [
    {
     "data": {
      "text/html": [
       "<div>\n",
       "<style scoped>\n",
       "    .dataframe tbody tr th:only-of-type {\n",
       "        vertical-align: middle;\n",
       "    }\n",
       "\n",
       "    .dataframe tbody tr th {\n",
       "        vertical-align: top;\n",
       "    }\n",
       "\n",
       "    .dataframe thead th {\n",
       "        text-align: right;\n",
       "    }\n",
       "</style>\n",
       "<table border=\"1\" class=\"dataframe\">\n",
       "  <thead>\n",
       "    <tr style=\"text-align: right;\">\n",
       "      <th></th>\n",
       "      <th>id</th>\n",
       "      <th>latitud</th>\n",
       "      <th>longitud</th>\n",
       "      <th>place_l3</th>\n",
       "      <th>property_type</th>\n",
       "      <th>property_rooms</th>\n",
       "      <th>property_bedrooms</th>\n",
       "      <th>property_surface_total</th>\n",
       "      <th>property_surface_covered</th>\n",
       "      <th>property_price</th>\n",
       "      <th>property_title</th>\n",
       "      <th>pxm2</th>\n",
       "      <th>tipo_precio</th>\n",
       "    </tr>\n",
       "  </thead>\n",
       "  <tbody>\n",
       "    <tr>\n",
       "      <th>0</th>\n",
       "      <td>F5IvmD1uzzdIR7b96ozt4g==</td>\n",
       "      <td>-34.558855</td>\n",
       "      <td>-58.452458</td>\n",
       "      <td>Nuñez</td>\n",
       "      <td>Departamento</td>\n",
       "      <td>4.0</td>\n",
       "      <td>3.0</td>\n",
       "      <td>160.0</td>\n",
       "      <td>146.0</td>\n",
       "      <td>460000.0</td>\n",
       "      <td>Venta: Hermoso piso de categoría en excelente ...</td>\n",
       "      <td>2875.000000</td>\n",
       "      <td>alto</td>\n",
       "    </tr>\n",
       "    <tr>\n",
       "      <th>1</th>\n",
       "      <td>IiT/P7WfYDcqbhu7tf5V4Q==</td>\n",
       "      <td>-34.582403</td>\n",
       "      <td>-58.443841</td>\n",
       "      <td>Colegiales</td>\n",
       "      <td>Departamento</td>\n",
       "      <td>2.0</td>\n",
       "      <td>1.0</td>\n",
       "      <td>50.0</td>\n",
       "      <td>46.0</td>\n",
       "      <td>148000.0</td>\n",
       "      <td>Departamento - Colegiales</td>\n",
       "      <td>2960.000000</td>\n",
       "      <td>alto</td>\n",
       "    </tr>\n",
       "    <tr>\n",
       "      <th>2</th>\n",
       "      <td>6XXcElx/4OwCcH4NI06Oiw==</td>\n",
       "      <td>-34.605825</td>\n",
       "      <td>-58.422214</td>\n",
       "      <td>Almagro</td>\n",
       "      <td>Departamento</td>\n",
       "      <td>3.0</td>\n",
       "      <td>2.0</td>\n",
       "      <td>47.0</td>\n",
       "      <td>47.0</td>\n",
       "      <td>89000.0</td>\n",
       "      <td>Departamento en venta tres ambientes- Almagro</td>\n",
       "      <td>1893.617021</td>\n",
       "      <td>medio</td>\n",
       "    </tr>\n",
       "    <tr>\n",
       "      <th>3</th>\n",
       "      <td>8R7hSzqWFk9rX4wBXxfORA==</td>\n",
       "      <td>-34.561971</td>\n",
       "      <td>-58.455670</td>\n",
       "      <td>Belgrano</td>\n",
       "      <td>Departamento</td>\n",
       "      <td>2.0</td>\n",
       "      <td>1.0</td>\n",
       "      <td>52.0</td>\n",
       "      <td>48.0</td>\n",
       "      <td>127000.0</td>\n",
       "      <td>Departamento - Belgrano</td>\n",
       "      <td>2442.307692</td>\n",
       "      <td>medio</td>\n",
       "    </tr>\n",
       "    <tr>\n",
       "      <th>4</th>\n",
       "      <td>UAKYqQx9s0MfIdLzrJv8Ig==</td>\n",
       "      <td>-34.606738</td>\n",
       "      <td>-58.389426</td>\n",
       "      <td>Tribunales</td>\n",
       "      <td>Departamento</td>\n",
       "      <td>3.0</td>\n",
       "      <td>2.0</td>\n",
       "      <td>76.0</td>\n",
       "      <td>75.0</td>\n",
       "      <td>129900.0</td>\n",
       "      <td>Lindísimo departamento antiguo en excelente es...</td>\n",
       "      <td>1709.210526</td>\n",
       "      <td>bajo</td>\n",
       "    </tr>\n",
       "  </tbody>\n",
       "</table>\n",
       "</div>"
      ],
      "text/plain": [
       "                         id    latitud   longitud    place_l3 property_type  \\\n",
       "0  F5IvmD1uzzdIR7b96ozt4g== -34.558855 -58.452458       Nuñez  Departamento   \n",
       "1  IiT/P7WfYDcqbhu7tf5V4Q== -34.582403 -58.443841  Colegiales  Departamento   \n",
       "2  6XXcElx/4OwCcH4NI06Oiw== -34.605825 -58.422214     Almagro  Departamento   \n",
       "3  8R7hSzqWFk9rX4wBXxfORA== -34.561971 -58.455670    Belgrano  Departamento   \n",
       "4  UAKYqQx9s0MfIdLzrJv8Ig== -34.606738 -58.389426  Tribunales  Departamento   \n",
       "\n",
       "   property_rooms  property_bedrooms  property_surface_total  \\\n",
       "0             4.0                3.0                   160.0   \n",
       "1             2.0                1.0                    50.0   \n",
       "2             3.0                2.0                    47.0   \n",
       "3             2.0                1.0                    52.0   \n",
       "4             3.0                2.0                    76.0   \n",
       "\n",
       "   property_surface_covered  property_price  \\\n",
       "0                     146.0        460000.0   \n",
       "1                      46.0        148000.0   \n",
       "2                      47.0         89000.0   \n",
       "3                      48.0        127000.0   \n",
       "4                      75.0        129900.0   \n",
       "\n",
       "                                      property_title         pxm2 tipo_precio  \n",
       "0  Venta: Hermoso piso de categoría en excelente ...  2875.000000        alto  \n",
       "1                          Departamento - Colegiales  2960.000000        alto  \n",
       "2      Departamento en venta tres ambientes- Almagro  1893.617021       medio  \n",
       "3                            Departamento - Belgrano  2442.307692       medio  \n",
       "4  Lindísimo departamento antiguo en excelente es...  1709.210526        bajo  "
      ]
     },
     "execution_count": 68,
     "metadata": {},
     "output_type": "execute_result"
    }
   ],
   "source": [
    "#Import dataframe\n",
    "ds_propiedades = pd.read_csv('./ds_propiedades_total_clasificado.csv')\n",
    "ds_descripciones = pd.read_csv('./properati_argentina_2021_decrip.csv')\n",
    "ds_propiedades.head()"
   ]
  },
  {
   "cell_type": "code",
   "execution_count": 69,
   "metadata": {},
   "outputs": [
    {
     "data": {
      "text/html": [
       "<div>\n",
       "<style scoped>\n",
       "    .dataframe tbody tr th:only-of-type {\n",
       "        vertical-align: middle;\n",
       "    }\n",
       "\n",
       "    .dataframe tbody tr th {\n",
       "        vertical-align: top;\n",
       "    }\n",
       "\n",
       "    .dataframe thead th {\n",
       "        text-align: right;\n",
       "    }\n",
       "</style>\n",
       "<table border=\"1\" class=\"dataframe\">\n",
       "  <thead>\n",
       "    <tr style=\"text-align: right;\">\n",
       "      <th></th>\n",
       "      <th>id</th>\n",
       "      <th>property_description</th>\n",
       "    </tr>\n",
       "  </thead>\n",
       "  <tbody>\n",
       "    <tr>\n",
       "      <th>0</th>\n",
       "      <td>BZCeiGkJr1WBUi6pKJQwJQ==</td>\n",
       "      <td>Corredor Responsable: MARIA ALEJANDRA GENOVEVA...</td>\n",
       "    </tr>\n",
       "    <tr>\n",
       "      <th>2</th>\n",
       "      <td>TUL813tXchVBlHUsfaA6DA==</td>\n",
       "      <td>Excelente PH en Núñez 4 amb!!!! Oportunidad !!...</td>\n",
       "    </tr>\n",
       "    <tr>\n",
       "      <th>3</th>\n",
       "      <td>gn55JPmcjftBV/at1a7fPg==</td>\n",
       "      <td>UNICO PH DE 4 DORMITORIOS EN IMPECABLE ESTADO,...</td>\n",
       "    </tr>\n",
       "    <tr>\n",
       "      <th>10</th>\n",
       "      <td>+9uGr8tPEUkKnpjOef+gUw==</td>\n",
       "      <td>SE VENDE EXCELENTE PH de 2 CÓMODOS AMBIENTES M...</td>\n",
       "    </tr>\n",
       "    <tr>\n",
       "      <th>11</th>\n",
       "      <td>uH5H+RfQM87Qtrb13+T4hA==</td>\n",
       "      <td>Venta PH 4 ambientes Paternal&lt;br&gt;&lt;br&gt;Cálido,  ...</td>\n",
       "    </tr>\n",
       "  </tbody>\n",
       "</table>\n",
       "</div>"
      ],
      "text/plain": [
       "                          id  \\\n",
       "0   BZCeiGkJr1WBUi6pKJQwJQ==   \n",
       "2   TUL813tXchVBlHUsfaA6DA==   \n",
       "3   gn55JPmcjftBV/at1a7fPg==   \n",
       "10  +9uGr8tPEUkKnpjOef+gUw==   \n",
       "11  uH5H+RfQM87Qtrb13+T4hA==   \n",
       "\n",
       "                                 property_description  \n",
       "0   Corredor Responsable: MARIA ALEJANDRA GENOVEVA...  \n",
       "2   Excelente PH en Núñez 4 amb!!!! Oportunidad !!...  \n",
       "3   UNICO PH DE 4 DORMITORIOS EN IMPECABLE ESTADO,...  \n",
       "10  SE VENDE EXCELENTE PH de 2 CÓMODOS AMBIENTES M...  \n",
       "11  Venta PH 4 ambientes Paternal<br><br>Cálido,  ...  "
      ]
     },
     "execution_count": 69,
     "metadata": {},
     "output_type": "execute_result"
    }
   ],
   "source": [
    "#filter ds_descripciones by id in ds_propiedades\n",
    "ds_descripciones = ds_descripciones[ds_descripciones['id'].isin(ds_propiedades['id'])]\n",
    "ds_descripciones.head()"
   ]
  },
  {
   "cell_type": "markdown",
   "metadata": {},
   "source": [
    "## Exportamos el dataframe a un archivo de texto para poder pasarlo por ECmes"
   ]
  },
  {
   "cell_type": "code",
   "execution_count": 70,
   "metadata": {},
   "outputs": [],
   "source": [
    "ds_descripciones_sin_id = ds_descripciones.drop(['id'], axis=1)\n",
    "\n",
    "ds_descripciones_sin_id.to_csv('ds_descripciones.txt', index=False)"
   ]
  },
  {
   "cell_type": "code",
   "execution_count": 71,
   "metadata": {},
   "outputs": [
    {
     "data": {
      "text/html": [
       "<div>\n",
       "<style scoped>\n",
       "    .dataframe tbody tr th:only-of-type {\n",
       "        vertical-align: middle;\n",
       "    }\n",
       "\n",
       "    .dataframe tbody tr th {\n",
       "        vertical-align: top;\n",
       "    }\n",
       "\n",
       "    .dataframe thead th {\n",
       "        text-align: right;\n",
       "    }\n",
       "</style>\n",
       "<table border=\"1\" class=\"dataframe\">\n",
       "  <thead>\n",
       "    <tr style=\"text-align: right;\">\n",
       "      <th></th>\n",
       "      <th>id</th>\n",
       "      <th>property_description</th>\n",
       "    </tr>\n",
       "  </thead>\n",
       "  <tbody>\n",
       "    <tr>\n",
       "      <th>0</th>\n",
       "      <td>BZCeiGkJr1WBUi6pKJQwJQ==</td>\n",
       "      <td>Corredor Responsable: MARIA ALEJANDRA GENOVEVA...</td>\n",
       "    </tr>\n",
       "    <tr>\n",
       "      <th>2</th>\n",
       "      <td>TUL813tXchVBlHUsfaA6DA==</td>\n",
       "      <td>Excelente PH en Núñez 4 amb!!!! Oportunidad !!...</td>\n",
       "    </tr>\n",
       "    <tr>\n",
       "      <th>3</th>\n",
       "      <td>gn55JPmcjftBV/at1a7fPg==</td>\n",
       "      <td>UNICO PH DE 4 DORMITORIOS EN IMPECABLE ESTADO,...</td>\n",
       "    </tr>\n",
       "    <tr>\n",
       "      <th>10</th>\n",
       "      <td>+9uGr8tPEUkKnpjOef+gUw==</td>\n",
       "      <td>SE VENDE EXCELENTE PH de 2 CÓMODOS AMBIENTES M...</td>\n",
       "    </tr>\n",
       "    <tr>\n",
       "      <th>11</th>\n",
       "      <td>uH5H+RfQM87Qtrb13+T4hA==</td>\n",
       "      <td>Venta PH 4 ambientes Paternal&lt;br&gt;&lt;br&gt;Cálido,  ...</td>\n",
       "    </tr>\n",
       "    <tr>\n",
       "      <th>...</th>\n",
       "      <td>...</td>\n",
       "      <td>...</td>\n",
       "    </tr>\n",
       "    <tr>\n",
       "      <th>460087</th>\n",
       "      <td>KfWSMnexlkmkhAXueyCVDA==</td>\n",
       "      <td>RETASADO &lt;br&gt;Pareja 3235 edificio doble frente...</td>\n",
       "    </tr>\n",
       "    <tr>\n",
       "      <th>460088</th>\n",
       "      <td>3c+iy2dwumPHHcOU7EkwDg==</td>\n",
       "      <td>Corredor Responsable: Ariel Champanier / Andre...</td>\n",
       "    </tr>\n",
       "    <tr>\n",
       "      <th>460089</th>\n",
       "      <td>IIRjcdqGjta3WIi6xRu6uA==</td>\n",
       "      <td>Excelente PH  en dos plantas sin expensas al c...</td>\n",
       "    </tr>\n",
       "    <tr>\n",
       "      <th>460125</th>\n",
       "      <td>z6IALPHlnIdXzLsoM2bKJQ==</td>\n",
       "      <td>*** AV. JUAN B JUSTO entre SÁNCHEZ y TRELLES *...</td>\n",
       "    </tr>\n",
       "    <tr>\n",
       "      <th>460126</th>\n",
       "      <td>CEIEq9ETG7kEzS0S5Usa6Q==</td>\n",
       "      <td>Corredor Responsable: María Eugenia Blanco CUC...</td>\n",
       "    </tr>\n",
       "  </tbody>\n",
       "</table>\n",
       "<p>85693 rows × 2 columns</p>\n",
       "</div>"
      ],
      "text/plain": [
       "                              id  \\\n",
       "0       BZCeiGkJr1WBUi6pKJQwJQ==   \n",
       "2       TUL813tXchVBlHUsfaA6DA==   \n",
       "3       gn55JPmcjftBV/at1a7fPg==   \n",
       "10      +9uGr8tPEUkKnpjOef+gUw==   \n",
       "11      uH5H+RfQM87Qtrb13+T4hA==   \n",
       "...                          ...   \n",
       "460087  KfWSMnexlkmkhAXueyCVDA==   \n",
       "460088  3c+iy2dwumPHHcOU7EkwDg==   \n",
       "460089  IIRjcdqGjta3WIi6xRu6uA==   \n",
       "460125  z6IALPHlnIdXzLsoM2bKJQ==   \n",
       "460126  CEIEq9ETG7kEzS0S5Usa6Q==   \n",
       "\n",
       "                                     property_description  \n",
       "0       Corredor Responsable: MARIA ALEJANDRA GENOVEVA...  \n",
       "2       Excelente PH en Núñez 4 amb!!!! Oportunidad !!...  \n",
       "3       UNICO PH DE 4 DORMITORIOS EN IMPECABLE ESTADO,...  \n",
       "10      SE VENDE EXCELENTE PH de 2 CÓMODOS AMBIENTES M...  \n",
       "11      Venta PH 4 ambientes Paternal<br><br>Cálido,  ...  \n",
       "...                                                   ...  \n",
       "460087  RETASADO <br>Pareja 3235 edificio doble frente...  \n",
       "460088  Corredor Responsable: Ariel Champanier / Andre...  \n",
       "460089  Excelente PH  en dos plantas sin expensas al c...  \n",
       "460125  *** AV. JUAN B JUSTO entre SÁNCHEZ y TRELLES *...  \n",
       "460126  Corredor Responsable: María Eugenia Blanco CUC...  \n",
       "\n",
       "[85693 rows x 2 columns]"
      ]
     },
     "execution_count": 71,
     "metadata": {},
     "output_type": "execute_result"
    }
   ],
   "source": [
    "ds_descripciones"
   ]
  },
  {
   "cell_type": "code",
   "execution_count": 72,
   "metadata": {},
   "outputs": [
    {
     "data": {
      "text/plain": [
       "(85693, 13)"
      ]
     },
     "execution_count": 72,
     "metadata": {},
     "output_type": "execute_result"
    }
   ],
   "source": [
    "ds_propiedades.shape"
   ]
  },
  {
   "cell_type": "code",
   "execution_count": 73,
   "metadata": {},
   "outputs": [
    {
     "name": "stdout",
     "output_type": "stream",
     "text": [
      "Hermoso piso de 4 ambientes con dependencia y c...\n"
     ]
    }
   ],
   "source": [
    "print(ds_descripciones[ds_descripciones['id'] == 'F5IvmD1uzzdIR7b96ozt4g==']['property_description'].to_string(index=False))"
   ]
  },
  {
   "cell_type": "markdown",
   "metadata": {},
   "source": [
    "## Limpiamos el archivo de descripciones para que lo pueda leer Ecmes correctamente."
   ]
  },
  {
   "cell_type": "code",
   "execution_count": 74,
   "metadata": {},
   "outputs": [],
   "source": [
    "dic_replace = {\n",
    "\n",
    "    'á': 'a',\n",
    "    'é': 'e',\n",
    "    'í': 'i',\n",
    "    'ó': 'o',\n",
    "    'ú': 'u',\n",
    "    'Á': 'A',\n",
    "    'É': 'E',\n",
    "    'Í': 'I',\n",
    "    'Ó': 'O',\n",
    "    'Ú': 'U',\n",
    "    'ñ': 'ni',\n",
    "    'Ñ': 'NI',\n",
    "    'ü': 'u',\n",
    "    'Ü': 'U',\n",
    "    '<br>': ' ',\n",
    "    '<br />': ' ',\n",
    "    '<br/>': ' ',\n",
    "    '<p>': ' ',\n",
    "    '</p>': ' ',\n",
    "    '<b>': ' ',\n",
    "    '</b>': ' ',\n",
    "    \n",
    " \n",
    "}"
   ]
  },
  {
   "cell_type": "code",
   "execution_count": 75,
   "metadata": {},
   "outputs": [],
   "source": [
    "# #for every line in ds_descripciones.txt replace the '(' and ')' with ',' and save it in ds_descripciones.txt line by line \n",
    "# with open('ds_descripciones.txt', 'r', encoding = 'utf8') as f_in, open('ds_descripciones_out.txt', 'w', encoding = 'utf8') as f_out:\n",
    "#     for line in f_in:\n",
    "#         for src, target in dic_replace.items():\n",
    "#             line = line.replace(src, target)\n",
    "        \n",
    "       \n",
    "#         #leave only alpha characters in the line, also spaces and line jumps\n",
    "#         line = ''.join([c for c in line if c.isalpha() or c == ' ' or c == '\\n' or c == '.' or c == ','])\n",
    " \n",
    "        \n",
    "   \n",
    "\n",
    "#         # for src, target in dic_replace.items():\n",
    "#         #     line = line.replace(src, target)\n",
    "#         f_out.writelines(line)\n",
    "\n",
    "\n",
    "    \n",
    "\n"
   ]
  },
  {
   "cell_type": "code",
   "execution_count": 76,
   "metadata": {},
   "outputs": [
    {
     "data": {
      "text/html": [
       "<div>\n",
       "<style scoped>\n",
       "    .dataframe tbody tr th:only-of-type {\n",
       "        vertical-align: middle;\n",
       "    }\n",
       "\n",
       "    .dataframe tbody tr th {\n",
       "        vertical-align: top;\n",
       "    }\n",
       "\n",
       "    .dataframe thead th {\n",
       "        text-align: right;\n",
       "    }\n",
       "</style>\n",
       "<table border=\"1\" class=\"dataframe\">\n",
       "  <thead>\n",
       "    <tr style=\"text-align: right;\">\n",
       "      <th></th>\n",
       "      <th>id</th>\n",
       "      <th>latitud</th>\n",
       "      <th>longitud</th>\n",
       "      <th>place_l3</th>\n",
       "      <th>property_type</th>\n",
       "      <th>property_rooms</th>\n",
       "      <th>property_bedrooms</th>\n",
       "      <th>property_surface_total</th>\n",
       "      <th>property_surface_covered</th>\n",
       "      <th>property_price</th>\n",
       "      <th>property_title</th>\n",
       "      <th>pxm2</th>\n",
       "      <th>tipo_precio</th>\n",
       "      <th>property_description</th>\n",
       "    </tr>\n",
       "  </thead>\n",
       "  <tbody>\n",
       "    <tr>\n",
       "      <th>0</th>\n",
       "      <td>F5IvmD1uzzdIR7b96ozt4g==</td>\n",
       "      <td>-34.558855</td>\n",
       "      <td>-58.452458</td>\n",
       "      <td>Nuñez</td>\n",
       "      <td>Departamento</td>\n",
       "      <td>4.0</td>\n",
       "      <td>3.0</td>\n",
       "      <td>160.0</td>\n",
       "      <td>146.0</td>\n",
       "      <td>460000.0</td>\n",
       "      <td>Venta: Hermoso piso de categoría en excelente ...</td>\n",
       "      <td>2875.000000</td>\n",
       "      <td>alto</td>\n",
       "      <td>Hermoso piso de 4 ambientes con dependencia y ...</td>\n",
       "    </tr>\n",
       "    <tr>\n",
       "      <th>1</th>\n",
       "      <td>IiT/P7WfYDcqbhu7tf5V4Q==</td>\n",
       "      <td>-34.582403</td>\n",
       "      <td>-58.443841</td>\n",
       "      <td>Colegiales</td>\n",
       "      <td>Departamento</td>\n",
       "      <td>2.0</td>\n",
       "      <td>1.0</td>\n",
       "      <td>50.0</td>\n",
       "      <td>46.0</td>\n",
       "      <td>148000.0</td>\n",
       "      <td>Departamento - Colegiales</td>\n",
       "      <td>2960.000000</td>\n",
       "      <td>alto</td>\n",
       "      <td>2 ambientes con balcón y vista totalmente abie...</td>\n",
       "    </tr>\n",
       "    <tr>\n",
       "      <th>2</th>\n",
       "      <td>6XXcElx/4OwCcH4NI06Oiw==</td>\n",
       "      <td>-34.605825</td>\n",
       "      <td>-58.422214</td>\n",
       "      <td>Almagro</td>\n",
       "      <td>Departamento</td>\n",
       "      <td>3.0</td>\n",
       "      <td>2.0</td>\n",
       "      <td>47.0</td>\n",
       "      <td>47.0</td>\n",
       "      <td>89000.0</td>\n",
       "      <td>Departamento en venta tres ambientes- Almagro</td>\n",
       "      <td>1893.617021</td>\n",
       "      <td>medio</td>\n",
       "      <td>**DIAZ VELEZ 4291 Y PRINGLES** Almagro.&lt;br&gt;&lt;br...</td>\n",
       "    </tr>\n",
       "    <tr>\n",
       "      <th>3</th>\n",
       "      <td>8R7hSzqWFk9rX4wBXxfORA==</td>\n",
       "      <td>-34.561971</td>\n",
       "      <td>-58.455670</td>\n",
       "      <td>Belgrano</td>\n",
       "      <td>Departamento</td>\n",
       "      <td>2.0</td>\n",
       "      <td>1.0</td>\n",
       "      <td>52.0</td>\n",
       "      <td>48.0</td>\n",
       "      <td>127000.0</td>\n",
       "      <td>Departamento - Belgrano</td>\n",
       "      <td>2442.307692</td>\n",
       "      <td>medio</td>\n",
       "      <td>IMPECABLE 2 AMBIENTES A ESTRENAR!&lt;...</td>\n",
       "    </tr>\n",
       "    <tr>\n",
       "      <th>4</th>\n",
       "      <td>UAKYqQx9s0MfIdLzrJv8Ig==</td>\n",
       "      <td>-34.606738</td>\n",
       "      <td>-58.389426</td>\n",
       "      <td>Tribunales</td>\n",
       "      <td>Departamento</td>\n",
       "      <td>3.0</td>\n",
       "      <td>2.0</td>\n",
       "      <td>76.0</td>\n",
       "      <td>75.0</td>\n",
       "      <td>129900.0</td>\n",
       "      <td>Lindísimo departamento antiguo en excelente es...</td>\n",
       "      <td>1709.210526</td>\n",
       "      <td>bajo</td>\n",
       "      <td>Excelente piso antiguo, lindísimo por sus tech...</td>\n",
       "    </tr>\n",
       "  </tbody>\n",
       "</table>\n",
       "</div>"
      ],
      "text/plain": [
       "                         id    latitud   longitud    place_l3 property_type  \\\n",
       "0  F5IvmD1uzzdIR7b96ozt4g== -34.558855 -58.452458       Nuñez  Departamento   \n",
       "1  IiT/P7WfYDcqbhu7tf5V4Q== -34.582403 -58.443841  Colegiales  Departamento   \n",
       "2  6XXcElx/4OwCcH4NI06Oiw== -34.605825 -58.422214     Almagro  Departamento   \n",
       "3  8R7hSzqWFk9rX4wBXxfORA== -34.561971 -58.455670    Belgrano  Departamento   \n",
       "4  UAKYqQx9s0MfIdLzrJv8Ig== -34.606738 -58.389426  Tribunales  Departamento   \n",
       "\n",
       "   property_rooms  property_bedrooms  property_surface_total  \\\n",
       "0             4.0                3.0                   160.0   \n",
       "1             2.0                1.0                    50.0   \n",
       "2             3.0                2.0                    47.0   \n",
       "3             2.0                1.0                    52.0   \n",
       "4             3.0                2.0                    76.0   \n",
       "\n",
       "   property_surface_covered  property_price  \\\n",
       "0                     146.0        460000.0   \n",
       "1                      46.0        148000.0   \n",
       "2                      47.0         89000.0   \n",
       "3                      48.0        127000.0   \n",
       "4                      75.0        129900.0   \n",
       "\n",
       "                                      property_title         pxm2 tipo_precio  \\\n",
       "0  Venta: Hermoso piso de categoría en excelente ...  2875.000000        alto   \n",
       "1                          Departamento - Colegiales  2960.000000        alto   \n",
       "2      Departamento en venta tres ambientes- Almagro  1893.617021       medio   \n",
       "3                            Departamento - Belgrano  2442.307692       medio   \n",
       "4  Lindísimo departamento antiguo en excelente es...  1709.210526        bajo   \n",
       "\n",
       "                                property_description  \n",
       "0  Hermoso piso de 4 ambientes con dependencia y ...  \n",
       "1  2 ambientes con balcón y vista totalmente abie...  \n",
       "2  **DIAZ VELEZ 4291 Y PRINGLES** Almagro.<br><br...  \n",
       "3              IMPECABLE 2 AMBIENTES A ESTRENAR!<...  \n",
       "4  Excelente piso antiguo, lindísimo por sus tech...  "
      ]
     },
     "execution_count": 76,
     "metadata": {},
     "output_type": "execute_result"
    }
   ],
   "source": [
    "#join the two dataframes by id\n",
    "ds_propiedades = ds_propiedades.join(ds_descripciones.set_index('id'), on='id')\n",
    "ds_propiedades.head()"
   ]
  },
  {
   "cell_type": "markdown",
   "metadata": {},
   "source": [
    "## Imputacion de nuevos parametros basados en los datos de Ecmes"
   ]
  },
  {
   "cell_type": "markdown",
   "metadata": {},
   "source": [
    "#### pileta"
   ]
  },
  {
   "cell_type": "code",
   "execution_count": 77,
   "metadata": {},
   "outputs": [],
   "source": [
    "#add column piscina to ds_propiedades with 0 or 1 if the property has a pool or not based on property_description (piscina or pileta)\n",
    "import re \n",
    "regexp = re.compile(r'piscina|pileta/gi', re.IGNORECASE)\n",
    "\n",
    "ds_propiedades['piscina'] = ds_propiedades['property_description'].apply(lambda x: 1 if regexp.search(x) else 0)\n"
   ]
  },
  {
   "cell_type": "code",
   "execution_count": 78,
   "metadata": {},
   "outputs": [
    {
     "data": {
      "text/plain": [
       "(9729, 15)"
      ]
     },
     "execution_count": 78,
     "metadata": {},
     "output_type": "execute_result"
    }
   ],
   "source": [
    "#cantidad de propiedades con piscina\n",
    "ds_propiedades[ds_propiedades['piscina'] == 1].shape"
   ]
  },
  {
   "cell_type": "markdown",
   "metadata": {},
   "source": [
    "#### garaje"
   ]
  },
  {
   "cell_type": "code",
   "execution_count": 79,
   "metadata": {},
   "outputs": [],
   "source": [
    "regexp  = re.compile(r'cochera|garage/gi', re.IGNORECASE)\n",
    "\n",
    "ds_propiedades['cochera'] = ds_propiedades['property_description'].apply(lambda x: 1 if regexp.search(x) else 0)"
   ]
  },
  {
   "cell_type": "code",
   "execution_count": 80,
   "metadata": {},
   "outputs": [
    {
     "data": {
      "text/plain": [
       "(27031, 16)"
      ]
     },
     "execution_count": 80,
     "metadata": {},
     "output_type": "execute_result"
    }
   ],
   "source": [
    "#cantidad de propiedades con cochera\n",
    "ds_propiedades[ds_propiedades['cochera'] == 1].shape"
   ]
  },
  {
   "cell_type": "markdown",
   "metadata": {},
   "source": [
    "#### balcon"
   ]
  },
  {
   "cell_type": "code",
   "execution_count": 81,
   "metadata": {},
   "outputs": [],
   "source": [
    "regexp  = re.compile(r'balc[oó]n|/gi', re.IGNORECASE)\n",
    "\n",
    "ds_propiedades['balcon'] = ds_propiedades['property_description'].apply(lambda x: 1 if regexp.search(x) else 0)"
   ]
  },
  {
   "cell_type": "code",
   "execution_count": 82,
   "metadata": {},
   "outputs": [
    {
     "data": {
      "text/plain": [
       "(52839, 17)"
      ]
     },
     "execution_count": 82,
     "metadata": {},
     "output_type": "execute_result"
    }
   ],
   "source": [
    "#cantidad de propiedades con balcon\n",
    "ds_propiedades[ds_propiedades['balcon'] == 1].shape"
   ]
  },
  {
   "cell_type": "markdown",
   "metadata": {},
   "source": [
    "#### hidromasaje"
   ]
  },
  {
   "cell_type": "code",
   "execution_count": 83,
   "metadata": {},
   "outputs": [],
   "source": [
    "regexp  = re.compile(r'hidromasaje|jacuzzi|spa/gi', re.IGNORECASE)\n",
    "\n",
    "ds_propiedades['hidromasaje'] = ds_propiedades['property_description'].apply(lambda x: 1 if regexp.search(x) else 0)"
   ]
  },
  {
   "cell_type": "code",
   "execution_count": 84,
   "metadata": {},
   "outputs": [
    {
     "data": {
      "text/plain": [
       "(4047, 18)"
      ]
     },
     "execution_count": 84,
     "metadata": {},
     "output_type": "execute_result"
    }
   ],
   "source": [
    "#cantidad de propiedades con hidromasaje\n",
    "ds_propiedades[ds_propiedades['hidromasaje'] == 1].shape"
   ]
  },
  {
   "cell_type": "markdown",
   "metadata": {},
   "source": [
    "#### jardín"
   ]
  },
  {
   "cell_type": "code",
   "execution_count": 85,
   "metadata": {},
   "outputs": [],
   "source": [
    "regexp = re.compile(r'jardin|jardín/gi', re.IGNORECASE)\n",
    "\n",
    "ds_propiedades['jardin'] = ds_propiedades['property_description'].apply(lambda x: 1 if regexp.search(x) else 0)"
   ]
  },
  {
   "cell_type": "code",
   "execution_count": 86,
   "metadata": {},
   "outputs": [
    {
     "data": {
      "text/plain": [
       "(2688, 19)"
      ]
     },
     "execution_count": 86,
     "metadata": {},
     "output_type": "execute_result"
    }
   ],
   "source": [
    "#cantidad de propiedades con jardin\n",
    "ds_propiedades[ds_propiedades['jardin'] == 1].shape"
   ]
  },
  {
   "cell_type": "markdown",
   "metadata": {},
   "source": [
    "#### gimnasio"
   ]
  },
  {
   "cell_type": "code",
   "execution_count": 87,
   "metadata": {},
   "outputs": [],
   "source": [
    "regexp = re.compile(r'gimnasio|gym/gi', re.IGNORECASE)\n",
    "\n",
    "ds_propiedades['gimnasio'] = ds_propiedades['property_description'].apply(lambda x: 1 if regexp.search(x) else 0)"
   ]
  },
  {
   "cell_type": "code",
   "execution_count": 88,
   "metadata": {},
   "outputs": [
    {
     "data": {
      "text/plain": [
       "(6601, 20)"
      ]
     },
     "execution_count": 88,
     "metadata": {},
     "output_type": "execute_result"
    }
   ],
   "source": [
    "#cantidad de propiedades con gimnasio\n",
    "ds_propiedades[ds_propiedades['gimnasio'] == 1].shape"
   ]
  },
  {
   "cell_type": "markdown",
   "metadata": {},
   "source": [
    "#### a estrenar"
   ]
  },
  {
   "cell_type": "code",
   "execution_count": 89,
   "metadata": {},
   "outputs": [],
   "source": [
    "regexp = re.compile(r'estrenar|/gi', re.IGNORECASE)\n",
    "\n",
    "ds_propiedades['a_estrenar'] = ds_propiedades['property_description'].apply(lambda x: 1 if regexp.search(x) else 0)"
   ]
  },
  {
   "cell_type": "code",
   "execution_count": 90,
   "metadata": {},
   "outputs": [
    {
     "data": {
      "text/plain": [
       "(8311, 21)"
      ]
     },
     "execution_count": 90,
     "metadata": {},
     "output_type": "execute_result"
    }
   ],
   "source": [
    "#cantidad de propiedades a estrenar\n",
    "ds_propiedades[ds_propiedades['a_estrenar'] == 1].shape"
   ]
  },
  {
   "cell_type": "markdown",
   "metadata": {},
   "source": [
    "#### sótano"
   ]
  },
  {
   "cell_type": "code",
   "execution_count": 91,
   "metadata": {},
   "outputs": [],
   "source": [
    "regexp = re.compile(r'sotano|sótano/gi', re.IGNORECASE)\n",
    "\n",
    "ds_propiedades['sotano'] = ds_propiedades['property_description'].apply(lambda x: 1 if regexp.search(x) else 0)"
   ]
  },
  {
   "cell_type": "code",
   "execution_count": 92,
   "metadata": {},
   "outputs": [
    {
     "data": {
      "text/plain": [
       "(83, 22)"
      ]
     },
     "execution_count": 92,
     "metadata": {},
     "output_type": "execute_result"
    }
   ],
   "source": [
    "#cantidad de propiedades con sotano\n",
    "ds_propiedades[ds_propiedades['sotano'] == 1].shape"
   ]
  },
  {
   "cell_type": "markdown",
   "metadata": {},
   "source": [
    "#### quincho"
   ]
  },
  {
   "cell_type": "code",
   "execution_count": 93,
   "metadata": {},
   "outputs": [],
   "source": [
    "regexp = re.compile(r'quincho|/gi', re.IGNORECASE)\n",
    "\n",
    "ds_propiedades['quincho'] = ds_propiedades['property_description'].apply(lambda x: 1 if regexp.search(x) else 0)"
   ]
  },
  {
   "cell_type": "code",
   "execution_count": 94,
   "metadata": {},
   "outputs": [
    {
     "data": {
      "text/plain": [
       "(3173, 23)"
      ]
     },
     "execution_count": 94,
     "metadata": {},
     "output_type": "execute_result"
    }
   ],
   "source": [
    "#cantidad de propiedades con quincho\n",
    "ds_propiedades[ds_propiedades['quincho'] == 1].shape"
   ]
  },
  {
   "cell_type": "markdown",
   "metadata": {},
   "source": [
    "#### sum"
   ]
  },
  {
   "cell_type": "code",
   "execution_count": 95,
   "metadata": {},
   "outputs": [],
   "source": [
    "regexp = re.compile(r'(\\bsum\\b)|(s\\.u\\.m)|(salon de usos multiples)/gi', re.IGNORECASE)\n",
    "\n",
    "ds_propiedades['sum'] = ds_propiedades['property_description'].apply(lambda x: 1 if regexp.search(x) else 0)"
   ]
  },
  {
   "cell_type": "code",
   "execution_count": 96,
   "metadata": {},
   "outputs": [
    {
     "data": {
      "text/plain": [
       "(14847, 24)"
      ]
     },
     "execution_count": 96,
     "metadata": {},
     "output_type": "execute_result"
    }
   ],
   "source": [
    "#cantiad de propiedades con sum\n",
    "ds_propiedades[ds_propiedades['sum'] == 1].shape"
   ]
  },
  {
   "cell_type": "markdown",
   "metadata": {},
   "source": [
    "#### expensas"
   ]
  },
  {
   "cell_type": "markdown",
   "metadata": {},
   "source": [
    "Vamos a buscar generar un parametro expensas_tipo que sea baja, mediana, alta o no aplica dependiendo del caso, para esto primero vamos a buscar los precios que se encuentran en el dataset y con eso hacer un rango de precios para cada tipo de expensas. Luego esto lo combinamos con otra busqueda en las descripciones para encontrar palabras que nos indiquen si es un precio alto, medio o bajo."
   ]
  },
  {
   "cell_type": "code",
   "execution_count": 97,
   "metadata": {},
   "outputs": [
    {
     "data": {
      "text/plain": [
       "(4484, 25)"
      ]
     },
     "execution_count": 97,
     "metadata": {},
     "output_type": "execute_result"
    }
   ],
   "source": [
    "regexp = re.compile(r'expensas[\\$0-9 \\.,:]+|/gi', re.IGNORECASE)\n",
    "\n",
    "ds_propiedades['expensas_price'] = ds_propiedades['property_description'].apply(lambda x: regexp.search(x).group() if regexp.search(x) else -1)\n",
    "\n",
    "ds_propiedades['expensas_price'] = ds_propiedades['expensas_price'].apply(lambda x: x.lower().replace('expensas:','').replace('$','').replace(' ','').replace('.','').replace(',','.') if x != -1 else -1)\n",
    "\n",
    "\n",
    "\n",
    "ds_propiedades['expensas_price'] =   ds_propiedades['expensas_price'].apply(lambda x: float(x) if str(x).isnumeric() else -1)\n",
    "\n",
    "#head of expensas > 0\n",
    "ds_propiedades[ds_propiedades['expensas_price'] > -1].shape"
   ]
  },
  {
   "cell_type": "markdown",
   "metadata": {},
   "source": [
    "expensas_tipo"
   ]
  },
  {
   "cell_type": "code",
   "execution_count": 98,
   "metadata": {},
   "outputs": [
    {
     "data": {
      "text/plain": [
       "no aplica    47149\n",
       "medias       15184\n",
       "bajas        11582\n",
       "altas         9088\n",
       "sin           2690\n",
       "Name: expensas_tipo, dtype: int64"
      ]
     },
     "execution_count": 98,
     "metadata": {},
     "output_type": "execute_result"
    }
   ],
   "source": [
    "regexp_sin = re.compile(r'sin expensas', re.IGNORECASE)\n",
    "regexp_tipo = re.compile(r'expensas baja|media|alta|accesible|barata', re.IGNORECASE)\n",
    "\n",
    "ds_propiedades['expensas_tipo'] = ds_propiedades['property_description'].apply(lambda x: \n",
    "  regexp_sin.search(x.lower()).group() if regexp_sin.search(x) else (regexp_tipo.search(x.lower()).group() if regexp_tipo.search(x) else 'no aplica')\n",
    ")\n",
    "\n",
    "ds_propiedades['expensas_tipo'] = ds_propiedades['expensas_tipo'].apply(lambda x: 'sin' if 'sin' in str(x) else x)\n",
    "ds_propiedades['expensas_tipo'] = ds_propiedades['expensas_tipo'].apply(lambda x: 'bajas' if 'baja' in str(x) else x)\n",
    "ds_propiedades['expensas_tipo'] = ds_propiedades['expensas_tipo'].apply(lambda x: 'medias' if 'media' in str(x) else x)\n",
    "ds_propiedades['expensas_tipo'] = ds_propiedades['expensas_tipo'].apply(lambda x: 'altas' if 'alta' in str(x) else x)\n",
    "ds_propiedades['expensas_tipo'] = ds_propiedades['expensas_tipo'].apply(lambda x: 'bajas' if 'accesible' in str(x) else x)\n",
    "ds_propiedades['expensas_tipo'] = ds_propiedades['expensas_tipo'].apply(lambda x: 'bajas' if 'barata' in str(x) else x)\n",
    "\n",
    "\n",
    "ds_propiedades['expensas_tipo'].value_counts()\n",
    "\n"
   ]
  },
  {
   "cell_type": "markdown",
   "metadata": {},
   "source": [
    "con el precio vemos cuantas que 'no aplica' tienen precio"
   ]
  },
  {
   "cell_type": "code",
   "execution_count": 99,
   "metadata": {},
   "outputs": [
    {
     "data": {
      "text/plain": [
       "no aplica    44344\n",
       "medias       16106\n",
       "bajas        12542\n",
       "altas        10011\n",
       "sin           2690\n",
       "Name: expensas_tipo, dtype: int64"
      ]
     },
     "execution_count": 99,
     "metadata": {},
     "output_type": "execute_result"
    }
   ],
   "source": [
    "ds_propiedades_completar_tipo = ds_propiedades[(ds_propiedades['expensas_tipo'] == 'no aplica') & (ds_propiedades['expensas_price'] > 0)].copy()\n",
    "if len(ds_propiedades_completar_tipo) > 0: ds_propiedades_completar_tipo['expensas_tipo'] = pd.qcut(ds_propiedades_completar_tipo['expensas_price'], q=3, labels=['bajas', 'medias', 'altas'])\n",
    "ds_propiedades.loc[(ds_propiedades['expensas_tipo'] == 'no aplica') & (ds_propiedades['expensas_price'] > 0), 'expensas_tipo'] = ds_propiedades_completar_tipo['expensas_tipo']\n",
    "ds_propiedades.drop(columns=['expensas_price'], inplace=True)\n",
    "\n",
    "ds_propiedades['expensas_tipo'].value_counts()"
   ]
  },
  {
   "cell_type": "markdown",
   "metadata": {},
   "source": [
    "## Filtramos las columnas generadas"
   ]
  },
  {
   "cell_type": "code",
   "execution_count": 100,
   "metadata": {},
   "outputs": [
    {
     "data": {
      "text/html": [
       "<div>\n",
       "<style scoped>\n",
       "    .dataframe tbody tr th:only-of-type {\n",
       "        vertical-align: middle;\n",
       "    }\n",
       "\n",
       "    .dataframe tbody tr th {\n",
       "        vertical-align: top;\n",
       "    }\n",
       "\n",
       "    .dataframe thead th {\n",
       "        text-align: right;\n",
       "    }\n",
       "</style>\n",
       "<table border=\"1\" class=\"dataframe\">\n",
       "  <thead>\n",
       "    <tr style=\"text-align: right;\">\n",
       "      <th></th>\n",
       "      <th>id</th>\n",
       "      <th>latitud</th>\n",
       "      <th>longitud</th>\n",
       "      <th>place_l3</th>\n",
       "      <th>property_type</th>\n",
       "      <th>property_rooms</th>\n",
       "      <th>property_bedrooms</th>\n",
       "      <th>property_surface_total</th>\n",
       "      <th>property_surface_covered</th>\n",
       "      <th>property_price</th>\n",
       "      <th>...</th>\n",
       "      <th>cochera</th>\n",
       "      <th>balcon</th>\n",
       "      <th>hidromasaje</th>\n",
       "      <th>jardin</th>\n",
       "      <th>gimnasio</th>\n",
       "      <th>a_estrenar</th>\n",
       "      <th>sotano</th>\n",
       "      <th>quincho</th>\n",
       "      <th>sum</th>\n",
       "      <th>expensas_tipo</th>\n",
       "    </tr>\n",
       "  </thead>\n",
       "  <tbody>\n",
       "    <tr>\n",
       "      <th>0</th>\n",
       "      <td>F5IvmD1uzzdIR7b96ozt4g==</td>\n",
       "      <td>-34.558855</td>\n",
       "      <td>-58.452458</td>\n",
       "      <td>Nuñez</td>\n",
       "      <td>Departamento</td>\n",
       "      <td>4.0</td>\n",
       "      <td>3.0</td>\n",
       "      <td>160.0</td>\n",
       "      <td>146.0</td>\n",
       "      <td>460000.0</td>\n",
       "      <td>...</td>\n",
       "      <td>1</td>\n",
       "      <td>1</td>\n",
       "      <td>0</td>\n",
       "      <td>0</td>\n",
       "      <td>0</td>\n",
       "      <td>0</td>\n",
       "      <td>0</td>\n",
       "      <td>0</td>\n",
       "      <td>0</td>\n",
       "      <td>no aplica</td>\n",
       "    </tr>\n",
       "    <tr>\n",
       "      <th>1</th>\n",
       "      <td>IiT/P7WfYDcqbhu7tf5V4Q==</td>\n",
       "      <td>-34.582403</td>\n",
       "      <td>-58.443841</td>\n",
       "      <td>Colegiales</td>\n",
       "      <td>Departamento</td>\n",
       "      <td>2.0</td>\n",
       "      <td>1.0</td>\n",
       "      <td>50.0</td>\n",
       "      <td>46.0</td>\n",
       "      <td>148000.0</td>\n",
       "      <td>...</td>\n",
       "      <td>1</td>\n",
       "      <td>1</td>\n",
       "      <td>0</td>\n",
       "      <td>0</td>\n",
       "      <td>0</td>\n",
       "      <td>0</td>\n",
       "      <td>0</td>\n",
       "      <td>0</td>\n",
       "      <td>0</td>\n",
       "      <td>no aplica</td>\n",
       "    </tr>\n",
       "    <tr>\n",
       "      <th>2</th>\n",
       "      <td>6XXcElx/4OwCcH4NI06Oiw==</td>\n",
       "      <td>-34.605825</td>\n",
       "      <td>-58.422214</td>\n",
       "      <td>Almagro</td>\n",
       "      <td>Departamento</td>\n",
       "      <td>3.0</td>\n",
       "      <td>2.0</td>\n",
       "      <td>47.0</td>\n",
       "      <td>47.0</td>\n",
       "      <td>89000.0</td>\n",
       "      <td>...</td>\n",
       "      <td>0</td>\n",
       "      <td>0</td>\n",
       "      <td>0</td>\n",
       "      <td>0</td>\n",
       "      <td>0</td>\n",
       "      <td>0</td>\n",
       "      <td>0</td>\n",
       "      <td>0</td>\n",
       "      <td>0</td>\n",
       "      <td>no aplica</td>\n",
       "    </tr>\n",
       "    <tr>\n",
       "      <th>3</th>\n",
       "      <td>8R7hSzqWFk9rX4wBXxfORA==</td>\n",
       "      <td>-34.561971</td>\n",
       "      <td>-58.455670</td>\n",
       "      <td>Belgrano</td>\n",
       "      <td>Departamento</td>\n",
       "      <td>2.0</td>\n",
       "      <td>1.0</td>\n",
       "      <td>52.0</td>\n",
       "      <td>48.0</td>\n",
       "      <td>127000.0</td>\n",
       "      <td>...</td>\n",
       "      <td>0</td>\n",
       "      <td>1</td>\n",
       "      <td>0</td>\n",
       "      <td>0</td>\n",
       "      <td>0</td>\n",
       "      <td>1</td>\n",
       "      <td>0</td>\n",
       "      <td>0</td>\n",
       "      <td>0</td>\n",
       "      <td>medias</td>\n",
       "    </tr>\n",
       "    <tr>\n",
       "      <th>4</th>\n",
       "      <td>UAKYqQx9s0MfIdLzrJv8Ig==</td>\n",
       "      <td>-34.606738</td>\n",
       "      <td>-58.389426</td>\n",
       "      <td>Tribunales</td>\n",
       "      <td>Departamento</td>\n",
       "      <td>3.0</td>\n",
       "      <td>2.0</td>\n",
       "      <td>76.0</td>\n",
       "      <td>75.0</td>\n",
       "      <td>129900.0</td>\n",
       "      <td>...</td>\n",
       "      <td>0</td>\n",
       "      <td>1</td>\n",
       "      <td>0</td>\n",
       "      <td>0</td>\n",
       "      <td>0</td>\n",
       "      <td>0</td>\n",
       "      <td>0</td>\n",
       "      <td>0</td>\n",
       "      <td>0</td>\n",
       "      <td>no aplica</td>\n",
       "    </tr>\n",
       "  </tbody>\n",
       "</table>\n",
       "<p>5 rows × 25 columns</p>\n",
       "</div>"
      ],
      "text/plain": [
       "                         id    latitud   longitud    place_l3 property_type  \\\n",
       "0  F5IvmD1uzzdIR7b96ozt4g== -34.558855 -58.452458       Nuñez  Departamento   \n",
       "1  IiT/P7WfYDcqbhu7tf5V4Q== -34.582403 -58.443841  Colegiales  Departamento   \n",
       "2  6XXcElx/4OwCcH4NI06Oiw== -34.605825 -58.422214     Almagro  Departamento   \n",
       "3  8R7hSzqWFk9rX4wBXxfORA== -34.561971 -58.455670    Belgrano  Departamento   \n",
       "4  UAKYqQx9s0MfIdLzrJv8Ig== -34.606738 -58.389426  Tribunales  Departamento   \n",
       "\n",
       "   property_rooms  property_bedrooms  property_surface_total  \\\n",
       "0             4.0                3.0                   160.0   \n",
       "1             2.0                1.0                    50.0   \n",
       "2             3.0                2.0                    47.0   \n",
       "3             2.0                1.0                    52.0   \n",
       "4             3.0                2.0                    76.0   \n",
       "\n",
       "   property_surface_covered  property_price  ... cochera  balcon hidromasaje  \\\n",
       "0                     146.0        460000.0  ...       1       1           0   \n",
       "1                      46.0        148000.0  ...       1       1           0   \n",
       "2                      47.0         89000.0  ...       0       0           0   \n",
       "3                      48.0        127000.0  ...       0       1           0   \n",
       "4                      75.0        129900.0  ...       0       1           0   \n",
       "\n",
       "  jardin  gimnasio  a_estrenar  sotano  quincho  sum  expensas_tipo  \n",
       "0      0         0           0       0        0    0      no aplica  \n",
       "1      0         0           0       0        0    0      no aplica  \n",
       "2      0         0           0       0        0    0      no aplica  \n",
       "3      0         0           1       0        0    0         medias  \n",
       "4      0         0           0       0        0    0      no aplica  \n",
       "\n",
       "[5 rows x 25 columns]"
      ]
     },
     "execution_count": 100,
     "metadata": {},
     "output_type": "execute_result"
    }
   ],
   "source": [
    "ds_propiedades.head()"
   ]
  },
  {
   "cell_type": "markdown",
   "metadata": {},
   "source": [
    "Ahora ya tenemos creadas las nuevas columnas, vamos a ver si podemos sacar algo de informacion de ellas"
   ]
  },
  {
   "cell_type": "code",
   "execution_count": 101,
   "metadata": {},
   "outputs": [
    {
     "data": {
      "text/plain": [
       "piscina                                                       9729\n",
       "cochera                                                      27031\n",
       "balcon                                                       52839\n",
       "hidromasaje                                                   4047\n",
       "jardin                                                        2688\n",
       "gimnasio                                                      6601\n",
       "a_estrenar                                                    8311\n",
       "sotano                                                          83\n",
       "quincho                                                       3173\n",
       "sum                                                          14847\n",
       "expensas_tipo    no aplicano aplicano aplicamediasno aplicamedi...\n",
       "dtype: object"
      ]
     },
     "execution_count": 101,
     "metadata": {},
     "output_type": "execute_result"
    }
   ],
   "source": [
    "columnas_agregadas = ['piscina', 'cochera', 'balcon', 'hidromasaje', 'jardin', 'gimnasio', 'a_estrenar', 'sotano', 'quincho', 'sum', 'expensas_tipo']\n",
    "\n",
    "ds_propiedades[columnas_agregadas].sum()\n"
   ]
  },
  {
   "cell_type": "markdown",
   "metadata": {},
   "source": [
    "Podemos ver que Piscina, Cochera, sum y Balcon tienen una gran cantidad de datos por lo que dejarlos realmente puede aportar valor, ahora vamos a analizar los otros uno por uno"
   ]
  },
  {
   "cell_type": "markdown",
   "metadata": {},
   "source": [
    "#### jardin"
   ]
  },
  {
   "cell_type": "code",
   "execution_count": 102,
   "metadata": {},
   "outputs": [
    {
     "name": "stdout",
     "output_type": "stream",
     "text": [
      "0    1494\n",
      "1     139\n",
      "Name: jardin, dtype: int64\n"
     ]
    }
   ],
   "source": [
    "print(ds_propiedades.loc[(ds_propiedades['property_type'] == 'Casa'), 'jardin'].value_counts())"
   ]
  },
  {
   "cell_type": "markdown",
   "metadata": {},
   "source": [
    "Vemos que practicamente todas las casas dicen no tener jardin, lo cual es muy sospechoso, y siendo que tenemos tan pocos datos no podemos sacar conclusiones acertadas de esto, por lo que lo vamos a sacar"
   ]
  },
  {
   "cell_type": "markdown",
   "metadata": {},
   "source": [
    "#### hidromasaje, gimnasio y quincho"
   ]
  },
  {
   "cell_type": "markdown",
   "metadata": {},
   "source": [
    "En estos casos tambien hay pocos, pero con el dominio del problema podemos asumir que son un valor agregado poco frecuente y que aunque tengamos pocos, es muy probable que esten bien y tengan una relacion directa con lo 'premium' que es la propiedad"
   ]
  },
  {
   "cell_type": "markdown",
   "metadata": {},
   "source": [
    "#### a estrenar"
   ]
  },
  {
   "cell_type": "markdown",
   "metadata": {},
   "source": [
    "este dato tambien es poco frecuente, pero es un gran valor agregado a la propiedad y una de las cosas que mas se tienen en cuenta a la hora de comprar propiedades por lo que lo dejamos sin lugar a dudas"
   ]
  },
  {
   "cell_type": "markdown",
   "metadata": {},
   "source": [
    "#### sotano "
   ]
  },
  {
   "cell_type": "markdown",
   "metadata": {},
   "source": [
    "el sotano es un dato que aparece en muy pocas propiedades, e incluso es un poco ambigüio sin tener una descripcion detallada del mismo (puede ser una baulera o una planta completa). Por lo que tambien lo vamos a sacar"
   ]
  },
  {
   "cell_type": "markdown",
   "metadata": {},
   "source": [
    "#### Sacamos las columnas que no mantenemos"
   ]
  },
  {
   "cell_type": "code",
   "execution_count": 103,
   "metadata": {},
   "outputs": [],
   "source": [
    "ds_propiedades.drop(columns=['jardin', 'sotano'], inplace=True)\n"
   ]
  },
  {
   "cell_type": "markdown",
   "metadata": {},
   "source": [
    "### parte a borrar"
   ]
  },
  {
   "cell_type": "markdown",
   "metadata": {},
   "source": [
    "##### por ahora no usamos esto, pero capaz lo necesitamos en algun momento"
   ]
  },
  {
   "cell_type": "code",
   "execution_count": 104,
   "metadata": {},
   "outputs": [
    {
     "data": {
      "image/png": "[encoded data removed]",
      "text/plain": [
       "<Figure size 2000x1000 with 1 Axes>"
      ]
     },
     "metadata": {},
     "output_type": "display_data"
    }
   ],
   "source": [
    "# count how many times every word appears in ds_descripciones['property_description']\n",
    "# and save it in a dictionary\n",
    "\n",
    "\n",
    "word_count = {}\n",
    "palabras_ignoradas = ['para', 'baño', 'cocina', 'comedor','casa','cuenta','esta','living']\n",
    "ds_descripciones.reset_index(drop=True, inplace=True)\n",
    "\n",
    "for i in range(len(ds_descripciones['property_description'])):\n",
    "    if type(ds_descripciones['property_description'][i]) == str:\n",
    "        for word in ds_descripciones['property_description'][i].split():\n",
    "            if len(word) < 4 or word in palabras_ignoradas:\n",
    "                continue\n",
    "            if word in word_count:\n",
    "                word_count[word] += 1\n",
    "            else:\n",
    "                word_count[word] = 1\n",
    "\n",
    "# save dictionary in a dataframe\n",
    "\n",
    "word_count_aux = word_count.copy()\n",
    "\n",
    "for key, value in word_count_aux.items():\n",
    "    if value <= 300:\n",
    "        del word_count[key]\n",
    "\n",
    "df_word_count = pd.DataFrame.from_dict(word_count, orient='index', columns=['count'])\n",
    "df_word_count.sort_values(by=['count'], ascending=False, inplace=True)\n",
    "df_word_count\n",
    "\n",
    "\n",
    "\n",
    "# barplot of the 20 most common words\n",
    "plt.figure(figsize=(20,10))\n",
    "sns.barplot(x=df_word_count.index[:100], y=df_word_count['count'][:100])\n",
    "plt.xticks(rotation=90)\n",
    "plt.show()\n"
   ]
  },
  {
   "cell_type": "markdown",
   "metadata": {},
   "source": [
    "## Dataset final"
   ]
  },
  {
   "cell_type": "code",
   "execution_count": 105,
   "metadata": {},
   "outputs": [],
   "source": [
    "ds_propiedades_columnas_generadas = ds_propiedades.copy()"
   ]
  },
  {
   "cell_type": "code",
   "execution_count": 161,
   "metadata": {},
   "outputs": [],
   "source": [
    "ds_propiedades = ds_propiedades_columnas_generadas.copy()"
   ]
  },
  {
   "cell_type": "code",
   "execution_count": 162,
   "metadata": {},
   "outputs": [
    {
     "name": "stdout",
     "output_type": "stream",
     "text": [
      "<class 'pandas.core.frame.DataFrame'>\n",
      "RangeIndex: 85693 entries, 0 to 85692\n",
      "Data columns (total 23 columns):\n",
      " #   Column                    Non-Null Count  Dtype  \n",
      "---  ------                    --------------  -----  \n",
      " 0   id                        85693 non-null  object \n",
      " 1   latitud                   85693 non-null  float64\n",
      " 2   longitud                  85693 non-null  float64\n",
      " 3   place_l3                  85693 non-null  object \n",
      " 4   property_type             85693 non-null  object \n",
      " 5   property_rooms            85693 non-null  float64\n",
      " 6   property_bedrooms         85693 non-null  float64\n",
      " 7   property_surface_total    85693 non-null  float64\n",
      " 8   property_surface_covered  85693 non-null  float64\n",
      " 9   property_price            85693 non-null  float64\n",
      " 10  property_title            85693 non-null  object \n",
      " 11  pxm2                      85693 non-null  float64\n",
      " 12  tipo_precio               85693 non-null  object \n",
      " 13  property_description      85693 non-null  object \n",
      " 14  piscina                   85693 non-null  int64  \n",
      " 15  cochera                   85693 non-null  int64  \n",
      " 16  balcon                    85693 non-null  int64  \n",
      " 17  hidromasaje               85693 non-null  int64  \n",
      " 18  gimnasio                  85693 non-null  int64  \n",
      " 19  a_estrenar                85693 non-null  int64  \n",
      " 20  quincho                   85693 non-null  int64  \n",
      " 21  sum                       85693 non-null  int64  \n",
      " 22  expensas_tipo             85693 non-null  object \n",
      "dtypes: float64(8), int64(8), object(7)\n",
      "memory usage: 15.0+ MB\n"
     ]
    }
   ],
   "source": [
    "ds_propiedades.info()"
   ]
  },
  {
   "cell_type": "code",
   "execution_count": 163,
   "metadata": {},
   "outputs": [
    {
     "data": {
      "text/html": [
       "<div>\n",
       "<style scoped>\n",
       "    .dataframe tbody tr th:only-of-type {\n",
       "        vertical-align: middle;\n",
       "    }\n",
       "\n",
       "    .dataframe tbody tr th {\n",
       "        vertical-align: top;\n",
       "    }\n",
       "\n",
       "    .dataframe thead th {\n",
       "        text-align: right;\n",
       "    }\n",
       "</style>\n",
       "<table border=\"1\" class=\"dataframe\">\n",
       "  <thead>\n",
       "    <tr style=\"text-align: right;\">\n",
       "      <th></th>\n",
       "      <th>id</th>\n",
       "      <th>latitud</th>\n",
       "      <th>longitud</th>\n",
       "      <th>place_l3</th>\n",
       "      <th>property_type</th>\n",
       "      <th>property_rooms</th>\n",
       "      <th>property_bedrooms</th>\n",
       "      <th>property_surface_total</th>\n",
       "      <th>property_surface_covered</th>\n",
       "      <th>property_price</th>\n",
       "      <th>...</th>\n",
       "      <th>property_description</th>\n",
       "      <th>piscina</th>\n",
       "      <th>cochera</th>\n",
       "      <th>balcon</th>\n",
       "      <th>hidromasaje</th>\n",
       "      <th>gimnasio</th>\n",
       "      <th>a_estrenar</th>\n",
       "      <th>quincho</th>\n",
       "      <th>sum</th>\n",
       "      <th>expensas_tipo</th>\n",
       "    </tr>\n",
       "  </thead>\n",
       "  <tbody>\n",
       "    <tr>\n",
       "      <th>0</th>\n",
       "      <td>F5IvmD1uzzdIR7b96ozt4g==</td>\n",
       "      <td>-34.558855</td>\n",
       "      <td>-58.452458</td>\n",
       "      <td>Nuñez</td>\n",
       "      <td>Departamento</td>\n",
       "      <td>4.0</td>\n",
       "      <td>3.0</td>\n",
       "      <td>160.0</td>\n",
       "      <td>146.0</td>\n",
       "      <td>460000.0</td>\n",
       "      <td>...</td>\n",
       "      <td>Hermoso piso de 4 ambientes con dependencia y ...</td>\n",
       "      <td>0</td>\n",
       "      <td>1</td>\n",
       "      <td>1</td>\n",
       "      <td>0</td>\n",
       "      <td>0</td>\n",
       "      <td>0</td>\n",
       "      <td>0</td>\n",
       "      <td>0</td>\n",
       "      <td>no aplica</td>\n",
       "    </tr>\n",
       "    <tr>\n",
       "      <th>1</th>\n",
       "      <td>IiT/P7WfYDcqbhu7tf5V4Q==</td>\n",
       "      <td>-34.582403</td>\n",
       "      <td>-58.443841</td>\n",
       "      <td>Colegiales</td>\n",
       "      <td>Departamento</td>\n",
       "      <td>2.0</td>\n",
       "      <td>1.0</td>\n",
       "      <td>50.0</td>\n",
       "      <td>46.0</td>\n",
       "      <td>148000.0</td>\n",
       "      <td>...</td>\n",
       "      <td>2 ambientes con balcón y vista totalmente abie...</td>\n",
       "      <td>0</td>\n",
       "      <td>1</td>\n",
       "      <td>1</td>\n",
       "      <td>0</td>\n",
       "      <td>0</td>\n",
       "      <td>0</td>\n",
       "      <td>0</td>\n",
       "      <td>0</td>\n",
       "      <td>no aplica</td>\n",
       "    </tr>\n",
       "    <tr>\n",
       "      <th>2</th>\n",
       "      <td>6XXcElx/4OwCcH4NI06Oiw==</td>\n",
       "      <td>-34.605825</td>\n",
       "      <td>-58.422214</td>\n",
       "      <td>Almagro</td>\n",
       "      <td>Departamento</td>\n",
       "      <td>3.0</td>\n",
       "      <td>2.0</td>\n",
       "      <td>47.0</td>\n",
       "      <td>47.0</td>\n",
       "      <td>89000.0</td>\n",
       "      <td>...</td>\n",
       "      <td>**DIAZ VELEZ 4291 Y PRINGLES** Almagro.&lt;br&gt;&lt;br...</td>\n",
       "      <td>0</td>\n",
       "      <td>0</td>\n",
       "      <td>0</td>\n",
       "      <td>0</td>\n",
       "      <td>0</td>\n",
       "      <td>0</td>\n",
       "      <td>0</td>\n",
       "      <td>0</td>\n",
       "      <td>no aplica</td>\n",
       "    </tr>\n",
       "    <tr>\n",
       "      <th>3</th>\n",
       "      <td>8R7hSzqWFk9rX4wBXxfORA==</td>\n",
       "      <td>-34.561971</td>\n",
       "      <td>-58.455670</td>\n",
       "      <td>Belgrano</td>\n",
       "      <td>Departamento</td>\n",
       "      <td>2.0</td>\n",
       "      <td>1.0</td>\n",
       "      <td>52.0</td>\n",
       "      <td>48.0</td>\n",
       "      <td>127000.0</td>\n",
       "      <td>...</td>\n",
       "      <td>IMPECABLE 2 AMBIENTES A ESTRENAR!&lt;...</td>\n",
       "      <td>0</td>\n",
       "      <td>0</td>\n",
       "      <td>1</td>\n",
       "      <td>0</td>\n",
       "      <td>0</td>\n",
       "      <td>1</td>\n",
       "      <td>0</td>\n",
       "      <td>0</td>\n",
       "      <td>medias</td>\n",
       "    </tr>\n",
       "    <tr>\n",
       "      <th>4</th>\n",
       "      <td>UAKYqQx9s0MfIdLzrJv8Ig==</td>\n",
       "      <td>-34.606738</td>\n",
       "      <td>-58.389426</td>\n",
       "      <td>Tribunales</td>\n",
       "      <td>Departamento</td>\n",
       "      <td>3.0</td>\n",
       "      <td>2.0</td>\n",
       "      <td>76.0</td>\n",
       "      <td>75.0</td>\n",
       "      <td>129900.0</td>\n",
       "      <td>...</td>\n",
       "      <td>Excelente piso antiguo, lindísimo por sus tech...</td>\n",
       "      <td>0</td>\n",
       "      <td>0</td>\n",
       "      <td>1</td>\n",
       "      <td>0</td>\n",
       "      <td>0</td>\n",
       "      <td>0</td>\n",
       "      <td>0</td>\n",
       "      <td>0</td>\n",
       "      <td>no aplica</td>\n",
       "    </tr>\n",
       "  </tbody>\n",
       "</table>\n",
       "<p>5 rows × 23 columns</p>\n",
       "</div>"
      ],
      "text/plain": [
       "                         id    latitud   longitud    place_l3 property_type  \\\n",
       "0  F5IvmD1uzzdIR7b96ozt4g== -34.558855 -58.452458       Nuñez  Departamento   \n",
       "1  IiT/P7WfYDcqbhu7tf5V4Q== -34.582403 -58.443841  Colegiales  Departamento   \n",
       "2  6XXcElx/4OwCcH4NI06Oiw== -34.605825 -58.422214     Almagro  Departamento   \n",
       "3  8R7hSzqWFk9rX4wBXxfORA== -34.561971 -58.455670    Belgrano  Departamento   \n",
       "4  UAKYqQx9s0MfIdLzrJv8Ig== -34.606738 -58.389426  Tribunales  Departamento   \n",
       "\n",
       "   property_rooms  property_bedrooms  property_surface_total  \\\n",
       "0             4.0                3.0                   160.0   \n",
       "1             2.0                1.0                    50.0   \n",
       "2             3.0                2.0                    47.0   \n",
       "3             2.0                1.0                    52.0   \n",
       "4             3.0                2.0                    76.0   \n",
       "\n",
       "   property_surface_covered  property_price  ...  \\\n",
       "0                     146.0        460000.0  ...   \n",
       "1                      46.0        148000.0  ...   \n",
       "2                      47.0         89000.0  ...   \n",
       "3                      48.0        127000.0  ...   \n",
       "4                      75.0        129900.0  ...   \n",
       "\n",
       "                                property_description  piscina cochera balcon  \\\n",
       "0  Hermoso piso de 4 ambientes con dependencia y ...        0       1      1   \n",
       "1  2 ambientes con balcón y vista totalmente abie...        0       1      1   \n",
       "2  **DIAZ VELEZ 4291 Y PRINGLES** Almagro.<br><br...        0       0      0   \n",
       "3              IMPECABLE 2 AMBIENTES A ESTRENAR!<...        0       0      1   \n",
       "4  Excelente piso antiguo, lindísimo por sus tech...        0       0      1   \n",
       "\n",
       "   hidromasaje  gimnasio  a_estrenar  quincho  sum  expensas_tipo  \n",
       "0            0         0           0        0    0      no aplica  \n",
       "1            0         0           0        0    0      no aplica  \n",
       "2            0         0           0        0    0      no aplica  \n",
       "3            0         0           1        0    0         medias  \n",
       "4            0         0           0        0    0      no aplica  \n",
       "\n",
       "[5 rows x 23 columns]"
      ]
     },
     "execution_count": 163,
     "metadata": {},
     "output_type": "execute_result"
    }
   ],
   "source": [
    "ds_propiedades.head()"
   ]
  },
  {
   "cell_type": "markdown",
   "metadata": {},
   "source": [
    "hacemos unas columnas dummy para property_type, place_l3 y expensas_tipo"
   ]
  },
  {
   "cell_type": "code",
   "execution_count": 164,
   "metadata": {},
   "outputs": [],
   "source": [
    "# get dummies for categorical variables\n",
    "\n",
    "ds_propiedades = pd.get_dummies(ds_propiedades, columns=['property_type', 'place_l3', 'expensas_tipo'])"
   ]
  },
  {
   "cell_type": "code",
   "execution_count": 165,
   "metadata": {},
   "outputs": [],
   "source": [
    "ds_propiedades.drop(columns=['property_description', 'property_title', 'id', 'tipo_precio', 'pxm2'], inplace=True)"
   ]
  },
  {
   "cell_type": "code",
   "execution_count": 166,
   "metadata": {},
   "outputs": [
    {
     "data": {
      "text/html": [
       "<div>\n",
       "<style scoped>\n",
       "    .dataframe tbody tr th:only-of-type {\n",
       "        vertical-align: middle;\n",
       "    }\n",
       "\n",
       "    .dataframe tbody tr th {\n",
       "        vertical-align: top;\n",
       "    }\n",
       "\n",
       "    .dataframe thead th {\n",
       "        text-align: right;\n",
       "    }\n",
       "</style>\n",
       "<table border=\"1\" class=\"dataframe\">\n",
       "  <thead>\n",
       "    <tr style=\"text-align: right;\">\n",
       "      <th></th>\n",
       "      <th>latitud</th>\n",
       "      <th>longitud</th>\n",
       "      <th>property_rooms</th>\n",
       "      <th>property_bedrooms</th>\n",
       "      <th>property_surface_total</th>\n",
       "      <th>property_surface_covered</th>\n",
       "      <th>property_price</th>\n",
       "      <th>piscina</th>\n",
       "      <th>cochera</th>\n",
       "      <th>balcon</th>\n",
       "      <th>...</th>\n",
       "      <th>place_l3_Villa Riachuelo</th>\n",
       "      <th>place_l3_Villa Santa Rita</th>\n",
       "      <th>place_l3_Villa Soldati</th>\n",
       "      <th>place_l3_Villa Urquiza</th>\n",
       "      <th>place_l3_Villa del Parque</th>\n",
       "      <th>expensas_tipo_altas</th>\n",
       "      <th>expensas_tipo_bajas</th>\n",
       "      <th>expensas_tipo_medias</th>\n",
       "      <th>expensas_tipo_no aplica</th>\n",
       "      <th>expensas_tipo_sin</th>\n",
       "    </tr>\n",
       "  </thead>\n",
       "  <tbody>\n",
       "    <tr>\n",
       "      <th>0</th>\n",
       "      <td>-34.558855</td>\n",
       "      <td>-58.452458</td>\n",
       "      <td>4.0</td>\n",
       "      <td>3.0</td>\n",
       "      <td>160.0</td>\n",
       "      <td>146.0</td>\n",
       "      <td>460000.0</td>\n",
       "      <td>0</td>\n",
       "      <td>1</td>\n",
       "      <td>1</td>\n",
       "      <td>...</td>\n",
       "      <td>0</td>\n",
       "      <td>0</td>\n",
       "      <td>0</td>\n",
       "      <td>0</td>\n",
       "      <td>0</td>\n",
       "      <td>0</td>\n",
       "      <td>0</td>\n",
       "      <td>0</td>\n",
       "      <td>1</td>\n",
       "      <td>0</td>\n",
       "    </tr>\n",
       "    <tr>\n",
       "      <th>1</th>\n",
       "      <td>-34.582403</td>\n",
       "      <td>-58.443841</td>\n",
       "      <td>2.0</td>\n",
       "      <td>1.0</td>\n",
       "      <td>50.0</td>\n",
       "      <td>46.0</td>\n",
       "      <td>148000.0</td>\n",
       "      <td>0</td>\n",
       "      <td>1</td>\n",
       "      <td>1</td>\n",
       "      <td>...</td>\n",
       "      <td>0</td>\n",
       "      <td>0</td>\n",
       "      <td>0</td>\n",
       "      <td>0</td>\n",
       "      <td>0</td>\n",
       "      <td>0</td>\n",
       "      <td>0</td>\n",
       "      <td>0</td>\n",
       "      <td>1</td>\n",
       "      <td>0</td>\n",
       "    </tr>\n",
       "    <tr>\n",
       "      <th>2</th>\n",
       "      <td>-34.605825</td>\n",
       "      <td>-58.422214</td>\n",
       "      <td>3.0</td>\n",
       "      <td>2.0</td>\n",
       "      <td>47.0</td>\n",
       "      <td>47.0</td>\n",
       "      <td>89000.0</td>\n",
       "      <td>0</td>\n",
       "      <td>0</td>\n",
       "      <td>0</td>\n",
       "      <td>...</td>\n",
       "      <td>0</td>\n",
       "      <td>0</td>\n",
       "      <td>0</td>\n",
       "      <td>0</td>\n",
       "      <td>0</td>\n",
       "      <td>0</td>\n",
       "      <td>0</td>\n",
       "      <td>0</td>\n",
       "      <td>1</td>\n",
       "      <td>0</td>\n",
       "    </tr>\n",
       "    <tr>\n",
       "      <th>3</th>\n",
       "      <td>-34.561971</td>\n",
       "      <td>-58.455670</td>\n",
       "      <td>2.0</td>\n",
       "      <td>1.0</td>\n",
       "      <td>52.0</td>\n",
       "      <td>48.0</td>\n",
       "      <td>127000.0</td>\n",
       "      <td>0</td>\n",
       "      <td>0</td>\n",
       "      <td>1</td>\n",
       "      <td>...</td>\n",
       "      <td>0</td>\n",
       "      <td>0</td>\n",
       "      <td>0</td>\n",
       "      <td>0</td>\n",
       "      <td>0</td>\n",
       "      <td>0</td>\n",
       "      <td>0</td>\n",
       "      <td>1</td>\n",
       "      <td>0</td>\n",
       "      <td>0</td>\n",
       "    </tr>\n",
       "    <tr>\n",
       "      <th>4</th>\n",
       "      <td>-34.606738</td>\n",
       "      <td>-58.389426</td>\n",
       "      <td>3.0</td>\n",
       "      <td>2.0</td>\n",
       "      <td>76.0</td>\n",
       "      <td>75.0</td>\n",
       "      <td>129900.0</td>\n",
       "      <td>0</td>\n",
       "      <td>0</td>\n",
       "      <td>1</td>\n",
       "      <td>...</td>\n",
       "      <td>0</td>\n",
       "      <td>0</td>\n",
       "      <td>0</td>\n",
       "      <td>0</td>\n",
       "      <td>0</td>\n",
       "      <td>0</td>\n",
       "      <td>0</td>\n",
       "      <td>0</td>\n",
       "      <td>1</td>\n",
       "      <td>0</td>\n",
       "    </tr>\n",
       "  </tbody>\n",
       "</table>\n",
       "<p>5 rows × 80 columns</p>\n",
       "</div>"
      ],
      "text/plain": [
       "     latitud   longitud  property_rooms  property_bedrooms  \\\n",
       "0 -34.558855 -58.452458             4.0                3.0   \n",
       "1 -34.582403 -58.443841             2.0                1.0   \n",
       "2 -34.605825 -58.422214             3.0                2.0   \n",
       "3 -34.561971 -58.455670             2.0                1.0   \n",
       "4 -34.606738 -58.389426             3.0                2.0   \n",
       "\n",
       "   property_surface_total  property_surface_covered  property_price  piscina  \\\n",
       "0                   160.0                     146.0        460000.0        0   \n",
       "1                    50.0                      46.0        148000.0        0   \n",
       "2                    47.0                      47.0         89000.0        0   \n",
       "3                    52.0                      48.0        127000.0        0   \n",
       "4                    76.0                      75.0        129900.0        0   \n",
       "\n",
       "   cochera  balcon  ...  place_l3_Villa Riachuelo  place_l3_Villa Santa Rita  \\\n",
       "0        1       1  ...                         0                          0   \n",
       "1        1       1  ...                         0                          0   \n",
       "2        0       0  ...                         0                          0   \n",
       "3        0       1  ...                         0                          0   \n",
       "4        0       1  ...                         0                          0   \n",
       "\n",
       "   place_l3_Villa Soldati  place_l3_Villa Urquiza  place_l3_Villa del Parque  \\\n",
       "0                       0                       0                          0   \n",
       "1                       0                       0                          0   \n",
       "2                       0                       0                          0   \n",
       "3                       0                       0                          0   \n",
       "4                       0                       0                          0   \n",
       "\n",
       "   expensas_tipo_altas  expensas_tipo_bajas  expensas_tipo_medias  \\\n",
       "0                    0                    0                     0   \n",
       "1                    0                    0                     0   \n",
       "2                    0                    0                     0   \n",
       "3                    0                    0                     1   \n",
       "4                    0                    0                     0   \n",
       "\n",
       "   expensas_tipo_no aplica  expensas_tipo_sin  \n",
       "0                        1                  0  \n",
       "1                        1                  0  \n",
       "2                        1                  0  \n",
       "3                        0                  0  \n",
       "4                        1                  0  \n",
       "\n",
       "[5 rows x 80 columns]"
      ]
     },
     "execution_count": 166,
     "metadata": {},
     "output_type": "execute_result"
    }
   ],
   "source": [
    "ds_propiedades.head()"
   ]
  },
  {
   "cell_type": "markdown",
   "metadata": {},
   "source": [
    "## 1b) Entranamiento XGBoost"
   ]
  },
  {
   "cell_type": "code",
   "execution_count": 223,
   "metadata": {},
   "outputs": [],
   "source": [
    "##split train y test\n",
    "from sklearn.model_selection import train_test_split\n",
    "from sklearn import metrics\n",
    "\n",
    "\n",
    "x_train, x_test, y_train, y_test = train_test_split(ds_propiedades, ds_propiedades['property_price'], test_size=0.20, random_state=1)\n",
    "x_train.drop(columns=['property_price'], inplace=True)\n",
    "x_test.drop(columns=['property_price'], inplace=True)"
   ]
  },
  {
   "cell_type": "code",
   "execution_count": 224,
   "metadata": {},
   "outputs": [
    {
     "data": {
      "text/html": [
       "<div>\n",
       "<style scoped>\n",
       "    .dataframe tbody tr th:only-of-type {\n",
       "        vertical-align: middle;\n",
       "    }\n",
       "\n",
       "    .dataframe tbody tr th {\n",
       "        vertical-align: top;\n",
       "    }\n",
       "\n",
       "    .dataframe thead th {\n",
       "        text-align: right;\n",
       "    }\n",
       "</style>\n",
       "<table border=\"1\" class=\"dataframe\">\n",
       "  <thead>\n",
       "    <tr style=\"text-align: right;\">\n",
       "      <th></th>\n",
       "      <th>latitud</th>\n",
       "      <th>longitud</th>\n",
       "      <th>property_rooms</th>\n",
       "      <th>property_bedrooms</th>\n",
       "      <th>property_surface_total</th>\n",
       "      <th>property_surface_covered</th>\n",
       "      <th>piscina</th>\n",
       "      <th>cochera</th>\n",
       "      <th>balcon</th>\n",
       "      <th>hidromasaje</th>\n",
       "      <th>...</th>\n",
       "      <th>place_l3_Villa Riachuelo</th>\n",
       "      <th>place_l3_Villa Santa Rita</th>\n",
       "      <th>place_l3_Villa Soldati</th>\n",
       "      <th>place_l3_Villa Urquiza</th>\n",
       "      <th>place_l3_Villa del Parque</th>\n",
       "      <th>expensas_tipo_altas</th>\n",
       "      <th>expensas_tipo_bajas</th>\n",
       "      <th>expensas_tipo_medias</th>\n",
       "      <th>expensas_tipo_no aplica</th>\n",
       "      <th>expensas_tipo_sin</th>\n",
       "    </tr>\n",
       "  </thead>\n",
       "  <tbody>\n",
       "    <tr>\n",
       "      <th>56983</th>\n",
       "      <td>-34.636220</td>\n",
       "      <td>-58.469757</td>\n",
       "      <td>2.0</td>\n",
       "      <td>1.0</td>\n",
       "      <td>43.0</td>\n",
       "      <td>39.0</td>\n",
       "      <td>0</td>\n",
       "      <td>0</td>\n",
       "      <td>0</td>\n",
       "      <td>0</td>\n",
       "      <td>...</td>\n",
       "      <td>0</td>\n",
       "      <td>0</td>\n",
       "      <td>0</td>\n",
       "      <td>0</td>\n",
       "      <td>0</td>\n",
       "      <td>1</td>\n",
       "      <td>0</td>\n",
       "      <td>0</td>\n",
       "      <td>0</td>\n",
       "      <td>0</td>\n",
       "    </tr>\n",
       "    <tr>\n",
       "      <th>16719</th>\n",
       "      <td>-34.598281</td>\n",
       "      <td>-58.423501</td>\n",
       "      <td>2.0</td>\n",
       "      <td>1.0</td>\n",
       "      <td>38.0</td>\n",
       "      <td>33.0</td>\n",
       "      <td>0</td>\n",
       "      <td>0</td>\n",
       "      <td>0</td>\n",
       "      <td>0</td>\n",
       "      <td>...</td>\n",
       "      <td>0</td>\n",
       "      <td>0</td>\n",
       "      <td>0</td>\n",
       "      <td>0</td>\n",
       "      <td>0</td>\n",
       "      <td>0</td>\n",
       "      <td>0</td>\n",
       "      <td>1</td>\n",
       "      <td>0</td>\n",
       "      <td>0</td>\n",
       "    </tr>\n",
       "    <tr>\n",
       "      <th>39889</th>\n",
       "      <td>-34.574388</td>\n",
       "      <td>-58.492151</td>\n",
       "      <td>4.0</td>\n",
       "      <td>3.0</td>\n",
       "      <td>73.0</td>\n",
       "      <td>73.0</td>\n",
       "      <td>0</td>\n",
       "      <td>0</td>\n",
       "      <td>1</td>\n",
       "      <td>0</td>\n",
       "      <td>...</td>\n",
       "      <td>0</td>\n",
       "      <td>0</td>\n",
       "      <td>0</td>\n",
       "      <td>1</td>\n",
       "      <td>0</td>\n",
       "      <td>0</td>\n",
       "      <td>0</td>\n",
       "      <td>0</td>\n",
       "      <td>1</td>\n",
       "      <td>0</td>\n",
       "    </tr>\n",
       "    <tr>\n",
       "      <th>64349</th>\n",
       "      <td>-34.653291</td>\n",
       "      <td>-58.524824</td>\n",
       "      <td>3.0</td>\n",
       "      <td>2.0</td>\n",
       "      <td>66.0</td>\n",
       "      <td>66.0</td>\n",
       "      <td>0</td>\n",
       "      <td>0</td>\n",
       "      <td>0</td>\n",
       "      <td>0</td>\n",
       "      <td>...</td>\n",
       "      <td>0</td>\n",
       "      <td>0</td>\n",
       "      <td>0</td>\n",
       "      <td>0</td>\n",
       "      <td>0</td>\n",
       "      <td>0</td>\n",
       "      <td>0</td>\n",
       "      <td>0</td>\n",
       "      <td>1</td>\n",
       "      <td>0</td>\n",
       "    </tr>\n",
       "    <tr>\n",
       "      <th>42503</th>\n",
       "      <td>-34.611290</td>\n",
       "      <td>-58.453860</td>\n",
       "      <td>3.0</td>\n",
       "      <td>2.0</td>\n",
       "      <td>67.0</td>\n",
       "      <td>67.0</td>\n",
       "      <td>0</td>\n",
       "      <td>0</td>\n",
       "      <td>1</td>\n",
       "      <td>0</td>\n",
       "      <td>...</td>\n",
       "      <td>0</td>\n",
       "      <td>0</td>\n",
       "      <td>0</td>\n",
       "      <td>0</td>\n",
       "      <td>0</td>\n",
       "      <td>0</td>\n",
       "      <td>0</td>\n",
       "      <td>0</td>\n",
       "      <td>1</td>\n",
       "      <td>0</td>\n",
       "    </tr>\n",
       "  </tbody>\n",
       "</table>\n",
       "<p>5 rows × 79 columns</p>\n",
       "</div>"
      ],
      "text/plain": [
       "         latitud   longitud  property_rooms  property_bedrooms  \\\n",
       "56983 -34.636220 -58.469757             2.0                1.0   \n",
       "16719 -34.598281 -58.423501             2.0                1.0   \n",
       "39889 -34.574388 -58.492151             4.0                3.0   \n",
       "64349 -34.653291 -58.524824             3.0                2.0   \n",
       "42503 -34.611290 -58.453860             3.0                2.0   \n",
       "\n",
       "       property_surface_total  property_surface_covered  piscina  cochera  \\\n",
       "56983                    43.0                      39.0        0        0   \n",
       "16719                    38.0                      33.0        0        0   \n",
       "39889                    73.0                      73.0        0        0   \n",
       "64349                    66.0                      66.0        0        0   \n",
       "42503                    67.0                      67.0        0        0   \n",
       "\n",
       "       balcon  hidromasaje  ...  place_l3_Villa Riachuelo  \\\n",
       "56983       0            0  ...                         0   \n",
       "16719       0            0  ...                         0   \n",
       "39889       1            0  ...                         0   \n",
       "64349       0            0  ...                         0   \n",
       "42503       1            0  ...                         0   \n",
       "\n",
       "       place_l3_Villa Santa Rita  place_l3_Villa Soldati  \\\n",
       "56983                          0                       0   \n",
       "16719                          0                       0   \n",
       "39889                          0                       0   \n",
       "64349                          0                       0   \n",
       "42503                          0                       0   \n",
       "\n",
       "       place_l3_Villa Urquiza  place_l3_Villa del Parque  expensas_tipo_altas  \\\n",
       "56983                       0                          0                    1   \n",
       "16719                       0                          0                    0   \n",
       "39889                       1                          0                    0   \n",
       "64349                       0                          0                    0   \n",
       "42503                       0                          0                    0   \n",
       "\n",
       "       expensas_tipo_bajas  expensas_tipo_medias  expensas_tipo_no aplica  \\\n",
       "56983                    0                     0                        0   \n",
       "16719                    0                     1                        0   \n",
       "39889                    0                     0                        1   \n",
       "64349                    0                     0                        1   \n",
       "42503                    0                     0                        1   \n",
       "\n",
       "       expensas_tipo_sin  \n",
       "56983                  0  \n",
       "16719                  0  \n",
       "39889                  0  \n",
       "64349                  0  \n",
       "42503                  0  \n",
       "\n",
       "[5 rows x 79 columns]"
      ]
     },
     "execution_count": 224,
     "metadata": {},
     "output_type": "execute_result"
    }
   ],
   "source": [
    "x_train.head()"
   ]
  },
  {
   "cell_type": "markdown",
   "metadata": {},
   "source": [
    "### Modelo inicial sin optimizar (con los hiperparametros del TP1)"
   ]
  },
  {
   "cell_type": "markdown",
   "metadata": {},
   "source": [
    "En el tp1 hicimos una optimizacion de hiperparametros con StratifiedKFold pero no logramos mejoria, por lo que los hiperparametros son los default del modelo"
   ]
  },
  {
   "cell_type": "code",
   "execution_count": 226,
   "metadata": {},
   "outputs": [],
   "source": [
    "xgb_model = xgb.XGBRegressor(objective = 'reg:squarederror', random_state=1)"
   ]
  },
  {
   "cell_type": "code",
   "execution_count": 227,
   "metadata": {},
   "outputs": [],
   "source": [
    "xgb_model.fit(x_train, y_train)\n",
    "\n",
    "y_pred = xgb_model.predict(x_test)"
   ]
  },
  {
   "cell_type": "code",
   "execution_count": 228,
   "metadata": {},
   "outputs": [
    {
     "data": {
      "text/html": [
       "<div>\n",
       "<style scoped>\n",
       "    .dataframe tbody tr th:only-of-type {\n",
       "        vertical-align: middle;\n",
       "    }\n",
       "\n",
       "    .dataframe tbody tr th {\n",
       "        vertical-align: top;\n",
       "    }\n",
       "\n",
       "    .dataframe thead th {\n",
       "        text-align: right;\n",
       "    }\n",
       "</style>\n",
       "<table border=\"1\" class=\"dataframe\">\n",
       "  <thead>\n",
       "    <tr style=\"text-align: right;\">\n",
       "      <th></th>\n",
       "      <th>Valor Real</th>\n",
       "      <th>Prediccion</th>\n",
       "      <th>Error</th>\n",
       "    </tr>\n",
       "  </thead>\n",
       "  <tbody>\n",
       "    <tr>\n",
       "      <th>11387</th>\n",
       "      <td>170000.0</td>\n",
       "      <td>183790.640625</td>\n",
       "      <td>-13790.640625</td>\n",
       "    </tr>\n",
       "    <tr>\n",
       "      <th>78283</th>\n",
       "      <td>360000.0</td>\n",
       "      <td>301092.062500</td>\n",
       "      <td>58907.937500</td>\n",
       "    </tr>\n",
       "    <tr>\n",
       "      <th>15574</th>\n",
       "      <td>280000.0</td>\n",
       "      <td>282107.937500</td>\n",
       "      <td>-2107.937500</td>\n",
       "    </tr>\n",
       "    <tr>\n",
       "      <th>17122</th>\n",
       "      <td>129000.0</td>\n",
       "      <td>146419.031250</td>\n",
       "      <td>-17419.031250</td>\n",
       "    </tr>\n",
       "    <tr>\n",
       "      <th>8069</th>\n",
       "      <td>260000.0</td>\n",
       "      <td>266423.500000</td>\n",
       "      <td>-6423.500000</td>\n",
       "    </tr>\n",
       "  </tbody>\n",
       "</table>\n",
       "</div>"
      ],
      "text/plain": [
       "       Valor Real     Prediccion         Error\n",
       "11387    170000.0  183790.640625 -13790.640625\n",
       "78283    360000.0  301092.062500  58907.937500\n",
       "15574    280000.0  282107.937500  -2107.937500\n",
       "17122    129000.0  146419.031250 -17419.031250\n",
       "8069     260000.0  266423.500000  -6423.500000"
      ]
     },
     "execution_count": 228,
     "metadata": {},
     "output_type": "execute_result"
    }
   ],
   "source": [
    "performance = pd.DataFrame({'Valor Real': y_test,\n",
    "                            'Prediccion': y_pred,\n",
    "                            'Error': y_test - y_pred})\n",
    "\n",
    "performance.head()"
   ]
  },
  {
   "cell_type": "code",
   "execution_count": 229,
   "metadata": {},
   "outputs": [
    {
     "name": "stdout",
     "output_type": "stream",
     "text": [
      "El error (mse) de test es: 1473587857.3848019\n",
      "El error (rmse) de test es: 38387.33980604546\n",
      "El error (rmse) de test relativo es: 22.62140499622676%\n"
     ]
    }
   ],
   "source": [
    "mse = metrics.mean_squared_error(\n",
    "        y_true  = y_test,\n",
    "        y_pred  = y_pred,\n",
    "        squared = True\n",
    "         )\n",
    "\n",
    "print(f\"El error (mse) de test es: {mse}\")\n",
    "\n",
    "\n",
    "\n",
    "rmse = metrics.mean_squared_error(\n",
    "        y_true  = y_test,\n",
    "        y_pred  = y_pred,\n",
    "        squared = False\n",
    "         )\n",
    "\n",
    "print(f\"El error (rmse) de test es: {rmse}\")  \n",
    "print(f\"El error (rmse) de test relativo es: {rmse / y_test.mean() * 100}%\")"
   ]
  },
  {
   "cell_type": "code",
   "execution_count": 230,
   "metadata": {},
   "outputs": [
    {
     "name": "stdout",
     "output_type": "stream",
     "text": [
      "El coeficiente de Determinación R2 en train es: 0.9232276232123919\n",
      "El coeficiente de Determinación R2 en test es: 0.89301154705351\n"
     ]
    }
   ],
   "source": [
    "#Coef. de Determinación R2\n",
    "score_xgb_train = xgb_model.score(x_train, y_train)\n",
    "score_xgb_test = xgb_model.score(x_test, y_test)\n",
    "print(f\"El coeficiente de Determinación R2 en train es: {score_xgb_train}\")\n",
    "print(f\"El coeficiente de Determinación R2 en test es: {score_xgb_test}\")"
   ]
  },
  {
   "cell_type": "markdown",
   "metadata": {},
   "source": [
    "Viendo la comparacion directa contra el mismo modelo en el TP1, podemos ver que el modelo mejoro bastante con los nuevos datos que generamos.\n",
    "\n",
    "El error (mse) de test pasa de 1907948928.924305 -> 1473587857.3848019\n",
    "\n",
    "El error (rmse) de test pasa de 43680.074735791204 -> 38387.33980604546  (12,1% mejor)\n",
    "\n",
    "El R2 en train pasa de 0.8918109411819658 -> 0.9232276232123919 \n",
    "\n",
    "El R2 en test pasa de 0.860060265420469 -> 0.89301154705351\n",
    "\n",
    "\n",
    "Esto demuestra que las variables que generamos a partir de las descripciones son muy utiles para el modelo, y que el modelo mejora bastante con ellas."
   ]
  },
  {
   "cell_type": "markdown",
   "metadata": {},
   "source": [
    "### Probamos optimizar los hiperparametros"
   ]
  },
  {
   "cell_type": "code",
   "execution_count": 214,
   "metadata": {},
   "outputs": [
    {
     "name": "stderr",
     "output_type": "stream",
     "text": [
      "/Users/lucasalda/Library/Python/3.9/lib/python/site-packages/sklearn/model_selection/_split.py:684: UserWarning: The least populated class in y has only 1 members, which is less than n_splits=5.\n",
      "  warnings.warn(\n"
     ]
    }
   ],
   "source": [
    "import xgboost as xgb\n",
    "from sklearn.model_selection import StratifiedKFold\n",
    "from sklearn.model_selection import RandomizedSearchCV\n",
    "from sklearn.metrics import make_scorer, r2_score\n",
    "\n",
    "\n",
    "xgb_cv = xgb.XGBRegressor(objective = 'reg:squarederror', random_state=2)\n",
    "\n",
    "n=10\n",
    "\n",
    "#xgb param grid\n",
    "xgb_param_grid = {\n",
    "    'n_estimators': [50, 100],\n",
    "    'learning_rate': [0.1, 0.3],\n",
    "    'max_depth': [3, 7],\n",
    "    'gamma': [0.3, 0.4],\n",
    "}\n",
    "\n",
    "folds=5\n",
    "kfoldcv = StratifiedKFold(n_splits=folds, random_state=10,shuffle=True)\n",
    "\n",
    "scorer_fn = make_scorer(r2_score)\n",
    "\n",
    "random_search_cv = RandomizedSearchCV(estimator=xgb_cv,\n",
    "                              param_distributions = xgb_param_grid,\n",
    "                              scoring='neg_mean_squared_error',\n",
    "                              cv=kfoldcv,\n",
    "                              n_iter=n,\n",
    "                              random_state=10) \n",
    "\n",
    "random_fit = random_search_cv.fit(x_train[['property_rooms']], y_train)"
   ]
  },
  {
   "cell_type": "code",
   "execution_count": 215,
   "metadata": {},
   "outputs": [
    {
     "name": "stdout",
     "output_type": "stream",
     "text": [
      "{'n_estimators': 100, 'max_depth': 7, 'learning_rate': 0.1, 'gamma': 0.3}\n"
     ]
    }
   ],
   "source": [
    "print(random_fit.best_params_)"
   ]
  },
  {
   "cell_type": "code",
   "execution_count": 231,
   "metadata": {},
   "outputs": [],
   "source": [
    "parametros = random_fit.best_params_\n",
    "\n",
    "xgb_model = xgb.XGBRegressor(learning_rate=parametros['learning_rate'], n_estimators=parametros['n_estimators'], gamma=parametros['gamma'], max_depth = parametros['max_depth'], random_state=1)\n",
    "\n",
    "model = xgb_model.fit(X = x_train, y = y_train) \n",
    "\n",
    "y_pred = model.predict(x_test)"
   ]
  },
  {
   "cell_type": "code",
   "execution_count": 232,
   "metadata": {},
   "outputs": [
    {
     "data": {
      "text/html": [
       "<div>\n",
       "<style scoped>\n",
       "    .dataframe tbody tr th:only-of-type {\n",
       "        vertical-align: middle;\n",
       "    }\n",
       "\n",
       "    .dataframe tbody tr th {\n",
       "        vertical-align: top;\n",
       "    }\n",
       "\n",
       "    .dataframe thead th {\n",
       "        text-align: right;\n",
       "    }\n",
       "</style>\n",
       "<table border=\"1\" class=\"dataframe\">\n",
       "  <thead>\n",
       "    <tr style=\"text-align: right;\">\n",
       "      <th></th>\n",
       "      <th>Valor Real</th>\n",
       "      <th>Prediccion</th>\n",
       "      <th>Error</th>\n",
       "    </tr>\n",
       "  </thead>\n",
       "  <tbody>\n",
       "    <tr>\n",
       "      <th>11387</th>\n",
       "      <td>170000.0</td>\n",
       "      <td>170586.296875</td>\n",
       "      <td>-586.296875</td>\n",
       "    </tr>\n",
       "    <tr>\n",
       "      <th>78283</th>\n",
       "      <td>360000.0</td>\n",
       "      <td>284469.843750</td>\n",
       "      <td>75530.156250</td>\n",
       "    </tr>\n",
       "    <tr>\n",
       "      <th>15574</th>\n",
       "      <td>280000.0</td>\n",
       "      <td>264595.593750</td>\n",
       "      <td>15404.406250</td>\n",
       "    </tr>\n",
       "    <tr>\n",
       "      <th>17122</th>\n",
       "      <td>129000.0</td>\n",
       "      <td>145836.109375</td>\n",
       "      <td>-16836.109375</td>\n",
       "    </tr>\n",
       "    <tr>\n",
       "      <th>8069</th>\n",
       "      <td>260000.0</td>\n",
       "      <td>258944.703125</td>\n",
       "      <td>1055.296875</td>\n",
       "    </tr>\n",
       "  </tbody>\n",
       "</table>\n",
       "</div>"
      ],
      "text/plain": [
       "       Valor Real     Prediccion         Error\n",
       "11387    170000.0  170586.296875   -586.296875\n",
       "78283    360000.0  284469.843750  75530.156250\n",
       "15574    280000.0  264595.593750  15404.406250\n",
       "17122    129000.0  145836.109375 -16836.109375\n",
       "8069     260000.0  258944.703125   1055.296875"
      ]
     },
     "execution_count": 232,
     "metadata": {},
     "output_type": "execute_result"
    }
   ],
   "source": [
    "performance = pd.DataFrame({'Valor Real': y_test,\n",
    "                            'Prediccion': y_pred,\n",
    "                            'Error': y_test - y_pred})\n",
    "\n",
    "\n",
    "performance.head()"
   ]
  },
  {
   "cell_type": "code",
   "execution_count": 233,
   "metadata": {},
   "outputs": [
    {
     "name": "stdout",
     "output_type": "stream",
     "text": [
      "El error (mse) de test es: 1515631827.2171123\n",
      "El error (rmse) de test es: 38931.11643938705\n",
      "El error (rmse) de test relativo es: 22.941848963234023%\n"
     ]
    }
   ],
   "source": [
    "mse = metrics.mean_squared_error(\n",
    "        y_true  = y_test,\n",
    "        y_pred  = y_pred,\n",
    "        squared = True\n",
    "         )\n",
    "\n",
    "print(f\"El error (mse) de test es: {mse}\")\n",
    "\n",
    "\n",
    "\n",
    "rmse = metrics.mean_squared_error(\n",
    "        y_true  = y_test,\n",
    "        y_pred  = y_pred,\n",
    "        squared = False\n",
    "         )\n",
    "\n",
    "print(f\"El error (rmse) de test es: {rmse}\")  \n",
    "print(f\"El error (rmse) de test relativo es: {rmse / y_test.mean() * 100}%\")"
   ]
  },
  {
   "cell_type": "code",
   "execution_count": 222,
   "metadata": {},
   "outputs": [
    {
     "name": "stdout",
     "output_type": "stream",
     "text": [
      "El coeficiente de Determinación R2 en train es: 0.9123206582983798\n",
      "El coeficiente de Determinación R2 en test es: 0.8899589843810198\n"
     ]
    }
   ],
   "source": [
    "#Coef. de Determinación R2\n",
    "score_xgb_train = xgb_model.score(x_train, y_train)\n",
    "score_xgb_test = xgb_model.score(x_test, y_test)\n",
    "print(f\"El coeficiente de Determinación R2 en train es: {score_xgb_train}\")\n",
    "print(f\"El coeficiente de Determinación R2 en test es: {score_xgb_test}\")"
   ]
  },
  {
   "cell_type": "markdown",
   "metadata": {},
   "source": [
    "La busqueda de hiperparametros encuentra una configuracion con un resultado similar al modelo inicial, pero con un tiempo de entrenamiento mucho mayor. Por esto mantenemos el modelo inicial."
   ]
  }
 ],
 "metadata": {
  "kernelspec": {
   "display_name": "Python 3.9.6 64-bit",
   "language": "python",
   "name": "python3"
  },
  "language_info": {
   "codemirror_mode": {
    "name": "ipython",
    "version": 3
   },
   "file_extension": ".py",
   "mimetype": "text/x-python",
   "name": "python",
   "nbconvert_exporter": "python",
   "pygments_lexer": "ipython3",
   "version": "3.9.6"
  },
  "orig_nbformat": 4,
  "vscode": {
   "interpreter": {
    "hash": "31f2aee4e71d21fbe5cf8b01ff0e069b9275f58929596ceb00d14d90e3e16cd6"
   }
  }
 },
 "nbformat": 4,
 "nbformat_minor": 2
}
